{
 "cells": [
  {
   "cell_type": "markdown",
   "metadata": {},
   "source": [
    "# Принятие решений в бизнесе: увеличение выручки интернет-магазина"
   ]
  },
  {
   "cell_type": "markdown",
   "metadata": {
    "toc": true
   },
   "source": [
    "<h1>Содержание<span class=\"tocSkip\"></span></h1>\n",
    "<div class=\"toc\"><ul class=\"toc-item\"><li><span><a href=\"#Приоритизация-гипотез\" data-toc-modified-id=\"Приоритизация-гипотез-1\"><span class=\"toc-item-num\">1&nbsp;&nbsp;</span>Приоритизация гипотез</a></span><ul class=\"toc-item\"><li><span><a href=\"#Изучение-и-предобработка-данных\" data-toc-modified-id=\"Изучение-и-предобработка-данных-1.1\"><span class=\"toc-item-num\">1.1&nbsp;&nbsp;</span>Изучение и предобработка данных</a></span></li><li><span><a href=\"#Приоритизация-гипотез-ICE-и-RICE\" data-toc-modified-id=\"Приоритизация-гипотез-ICE-и-RICE-1.2\"><span class=\"toc-item-num\">1.2&nbsp;&nbsp;</span>Приоритизация гипотез ICE и RICE</a></span></li></ul></li><li><span><a href=\"#Анализ-A/B-теста\" data-toc-modified-id=\"Анализ-A/B-теста-2\"><span class=\"toc-item-num\">2&nbsp;&nbsp;</span>Анализ A/B-теста</a></span><ul class=\"toc-item\"><li><span><a href=\"#Изучение-и-предобработка-данных\" data-toc-modified-id=\"Изучение-и-предобработка-данных-2.1\"><span class=\"toc-item-num\">2.1&nbsp;&nbsp;</span>Изучение и предобработка данных</a></span></li><li><span><a href=\"#Кумулятивная-выручка-по-группам\" data-toc-modified-id=\"Кумулятивная-выручка-по-группам-2.2\"><span class=\"toc-item-num\">2.2&nbsp;&nbsp;</span>Кумулятивная выручка по группам</a></span></li><li><span><a href=\"#Кумулятивный-средний-чек-по-группам\" data-toc-modified-id=\"Кумулятивный-средний-чек-по-группам-2.3\"><span class=\"toc-item-num\">2.3&nbsp;&nbsp;</span>Кумулятивный средний чек по группам</a></span></li><li><span><a href=\"#Относительное-изменение-кумулятивного-среднего-чека-группы-B-к-группе-A\" data-toc-modified-id=\"Относительное-изменение-кумулятивного-среднего-чека-группы-B-к-группе-A-2.4\"><span class=\"toc-item-num\">2.4&nbsp;&nbsp;</span>Относительное изменение кумулятивного среднего чека группы B к группе A</a></span></li><li><span><a href=\"#Кумулятивное-среднее-количество-заказов-на-посетителя-по-группам\" data-toc-modified-id=\"Кумулятивное-среднее-количество-заказов-на-посетителя-по-группам-2.5\"><span class=\"toc-item-num\">2.5&nbsp;&nbsp;</span>Кумулятивное среднее количество заказов на посетителя по группам</a></span></li><li><span><a href=\"#Относительное-различие-кумулятивных-средних-значений-количества-заказов-на-посетителя\" data-toc-modified-id=\"Относительное-различие-кумулятивных-средних-значений-количества-заказов-на-посетителя-2.6\"><span class=\"toc-item-num\">2.6&nbsp;&nbsp;</span>Относительное различие кумулятивных средних значений количества заказов на посетителя</a></span></li><li><span><a href=\"#Количество-заказов-по-пользователям\" data-toc-modified-id=\"Количество-заказов-по-пользователям-2.7\"><span class=\"toc-item-num\">2.7&nbsp;&nbsp;</span>Количество заказов по пользователям</a></span></li><li><span><a href=\"#Определение-границы-аномальных-значений-количества-заказов-на-пользователя\" data-toc-modified-id=\"Определение-границы-аномальных-значений-количества-заказов-на-пользователя-2.8\"><span class=\"toc-item-num\">2.8&nbsp;&nbsp;</span>Определение границы аномальных значений количества заказов на пользователя</a></span></li><li><span><a href=\"#Стоимость-заказов-по-пользователям\" data-toc-modified-id=\"Стоимость-заказов-по-пользователям-2.9\"><span class=\"toc-item-num\">2.9&nbsp;&nbsp;</span>Стоимость заказов по пользователям</a></span></li><li><span><a href=\"#Определение-границы-аномальных-значений-суммы-заказа\" data-toc-modified-id=\"Определение-границы-аномальных-значений-суммы-заказа-2.10\"><span class=\"toc-item-num\">2.10&nbsp;&nbsp;</span>Определение границы аномальных значений суммы заказа</a></span></li><li><span><a href=\"#Оценка-статистической-значимости-различий-для-&quot;сырых&quot;-данных\" data-toc-modified-id=\"Оценка-статистической-значимости-различий-для-&quot;сырых&quot;-данных-2.11\"><span class=\"toc-item-num\">2.11&nbsp;&nbsp;</span>Оценка статистической значимости различий для \"сырых\" данных</a></span></li><li><span><a href=\"#Оценка-статистической-значимости-различий-для-&quot;очищенных&quot;-данных\" data-toc-modified-id=\"Оценка-статистической-значимости-различий-для-&quot;очищенных&quot;-данных-2.12\"><span class=\"toc-item-num\">2.12&nbsp;&nbsp;</span>Оценка статистической значимости различий для \"очищенных\" данных</a></span></li></ul></li><li><span><a href=\"#Общий-вывод\" data-toc-modified-id=\"Общий-вывод-3\"><span class=\"toc-item-num\">3&nbsp;&nbsp;</span>Общий вывод</a></span></li></ul></div>"
   ]
  },
  {
   "cell_type": "markdown",
   "metadata": {},
   "source": [
    "# Описание проекта"
   ]
  },
  {
   "cell_type": "markdown",
   "metadata": {},
   "source": [
    "Вместе с отделом маркетинга мы подготовили список гипотез для увеличения выручки крупного интернет-магазина.\n",
    "\n",
    "***Задача:***\n",
    "- Приоритизировать гипотезы\n",
    "- Запустить A/B-тест и проанализировать результаты"
   ]
  },
  {
   "cell_type": "markdown",
   "metadata": {},
   "source": [
    "## Приоритизация гипотез"
   ]
  },
  {
   "cell_type": "markdown",
   "metadata": {},
   "source": [
    "### Изучение и предобработка данных"
   ]
  },
  {
   "cell_type": "markdown",
   "metadata": {},
   "source": [
    "Импорт необходимых библиотек:"
   ]
  },
  {
   "cell_type": "code",
   "execution_count": 1,
   "metadata": {},
   "outputs": [],
   "source": [
    "import pandas as pd\n",
    "import numpy as np\n",
    "import matplotlib.pyplot as plt\n",
    "from pandas.plotting import register_matplotlib_converters\n",
    "import warnings\n",
    "from scipy import stats\n",
    "import datetime as dt"
   ]
  },
  {
   "cell_type": "markdown",
   "metadata": {},
   "source": [
    "Загрузим и рассмотрим ддатасет с гипотезами:"
   ]
  },
  {
   "cell_type": "code",
   "execution_count": 2,
   "metadata": {},
   "outputs": [
    {
     "name": "stdout",
     "output_type": "stream",
     "text": [
      "<class 'pandas.core.frame.DataFrame'>\n",
      "RangeIndex: 9 entries, 0 to 8\n",
      "Data columns (total 5 columns):\n",
      " #   Column      Non-Null Count  Dtype \n",
      "---  ------      --------------  ----- \n",
      " 0   Hypothesis  9 non-null      object\n",
      " 1   Reach       9 non-null      int64 \n",
      " 2   Impact      9 non-null      int64 \n",
      " 3   Confidence  9 non-null      int64 \n",
      " 4   Efforts     9 non-null      int64 \n",
      "dtypes: int64(4), object(1)\n",
      "memory usage: 488.0+ bytes\n"
     ]
    },
    {
     "data": {
      "text/plain": [
       "None"
      ]
     },
     "metadata": {},
     "output_type": "display_data"
    },
    {
     "data": {
      "text/html": [
       "<div>\n",
       "<style scoped>\n",
       "    .dataframe tbody tr th:only-of-type {\n",
       "        vertical-align: middle;\n",
       "    }\n",
       "\n",
       "    .dataframe tbody tr th {\n",
       "        vertical-align: top;\n",
       "    }\n",
       "\n",
       "    .dataframe thead th {\n",
       "        text-align: right;\n",
       "    }\n",
       "</style>\n",
       "<table border=\"1\" class=\"dataframe\">\n",
       "  <thead>\n",
       "    <tr style=\"text-align: right;\">\n",
       "      <th></th>\n",
       "      <th>Hypothesis</th>\n",
       "      <th>Reach</th>\n",
       "      <th>Impact</th>\n",
       "      <th>Confidence</th>\n",
       "      <th>Efforts</th>\n",
       "    </tr>\n",
       "  </thead>\n",
       "  <tbody>\n",
       "    <tr>\n",
       "      <th>0</th>\n",
       "      <td>Добавить два новых канала привлечения трафика, что позволит привлекать на 30% больше пользователей</td>\n",
       "      <td>3</td>\n",
       "      <td>10</td>\n",
       "      <td>8</td>\n",
       "      <td>6</td>\n",
       "    </tr>\n",
       "    <tr>\n",
       "      <th>1</th>\n",
       "      <td>Запустить собственную службу доставки, что сократит срок доставки заказов</td>\n",
       "      <td>2</td>\n",
       "      <td>5</td>\n",
       "      <td>4</td>\n",
       "      <td>10</td>\n",
       "    </tr>\n",
       "    <tr>\n",
       "      <th>2</th>\n",
       "      <td>Добавить блоки рекомендаций товаров на сайт интернет магазина, чтобы повысить конверсию и средний чек заказа</td>\n",
       "      <td>8</td>\n",
       "      <td>3</td>\n",
       "      <td>7</td>\n",
       "      <td>3</td>\n",
       "    </tr>\n",
       "    <tr>\n",
       "      <th>3</th>\n",
       "      <td>Изменить структура категорий, что увеличит конверсию, т.к. пользователи быстрее найдут нужный товар</td>\n",
       "      <td>8</td>\n",
       "      <td>3</td>\n",
       "      <td>3</td>\n",
       "      <td>8</td>\n",
       "    </tr>\n",
       "    <tr>\n",
       "      <th>4</th>\n",
       "      <td>Изменить цвет фона главной страницы, чтобы увеличить вовлеченность пользователей</td>\n",
       "      <td>3</td>\n",
       "      <td>1</td>\n",
       "      <td>1</td>\n",
       "      <td>1</td>\n",
       "    </tr>\n",
       "    <tr>\n",
       "      <th>5</th>\n",
       "      <td>Добавить страницу отзывов клиентов о магазине, что позволит увеличить количество заказов</td>\n",
       "      <td>3</td>\n",
       "      <td>2</td>\n",
       "      <td>2</td>\n",
       "      <td>3</td>\n",
       "    </tr>\n",
       "    <tr>\n",
       "      <th>6</th>\n",
       "      <td>Показать на главной странице баннеры с актуальными акциями и распродажами, чтобы увеличить конверсию</td>\n",
       "      <td>5</td>\n",
       "      <td>3</td>\n",
       "      <td>8</td>\n",
       "      <td>3</td>\n",
       "    </tr>\n",
       "    <tr>\n",
       "      <th>7</th>\n",
       "      <td>Добавить форму подписки на все основные страницы, чтобы собрать базу клиентов для email-рассылок</td>\n",
       "      <td>10</td>\n",
       "      <td>7</td>\n",
       "      <td>8</td>\n",
       "      <td>5</td>\n",
       "    </tr>\n",
       "    <tr>\n",
       "      <th>8</th>\n",
       "      <td>Запустить акцию, дающую скидку на товар в день рождения</td>\n",
       "      <td>1</td>\n",
       "      <td>9</td>\n",
       "      <td>9</td>\n",
       "      <td>5</td>\n",
       "    </tr>\n",
       "  </tbody>\n",
       "</table>\n",
       "</div>"
      ],
      "text/plain": [
       "                                                                                                     Hypothesis  \\\n",
       "0            Добавить два новых канала привлечения трафика, что позволит привлекать на 30% больше пользователей   \n",
       "1                                     Запустить собственную службу доставки, что сократит срок доставки заказов   \n",
       "2  Добавить блоки рекомендаций товаров на сайт интернет магазина, чтобы повысить конверсию и средний чек заказа   \n",
       "3           Изменить структура категорий, что увеличит конверсию, т.к. пользователи быстрее найдут нужный товар   \n",
       "4                              Изменить цвет фона главной страницы, чтобы увеличить вовлеченность пользователей   \n",
       "5                      Добавить страницу отзывов клиентов о магазине, что позволит увеличить количество заказов   \n",
       "6          Показать на главной странице баннеры с актуальными акциями и распродажами, чтобы увеличить конверсию   \n",
       "7              Добавить форму подписки на все основные страницы, чтобы собрать базу клиентов для email-рассылок   \n",
       "8                                                       Запустить акцию, дающую скидку на товар в день рождения   \n",
       "\n",
       "   Reach  Impact  Confidence  Efforts  \n",
       "0      3      10           8        6  \n",
       "1      2       5           4       10  \n",
       "2      8       3           7        3  \n",
       "3      8       3           3        8  \n",
       "4      3       1           1        1  \n",
       "5      3       2           2        3  \n",
       "6      5       3           8        3  \n",
       "7     10       7           8        5  \n",
       "8      1       9           9        5  "
      ]
     },
     "execution_count": 2,
     "metadata": {},
     "output_type": "execute_result"
    }
   ],
   "source": [
    "hypothesis = pd.read_csv('/datasets/hypothesis.csv')\n",
    "pd.set_option('display.max_colwidth', None)\n",
    "display(hypothesis.info())\n",
    "hypothesis"
   ]
  },
  {
   "cell_type": "markdown",
   "metadata": {},
   "source": [
    "Датасет `hypothesis` содержит гипотезы и информацию о них:\n",
    "- `Hypothesis` — краткое описание гипотезы;\n",
    "- `Reach` — охват пользователей по 10-балльной шкале;\n",
    "- `Impact` — влияние на пользователей по 10-балльной шкале;\n",
    "- `Confidence` — уверенность в гипотезе по 10-балльной шкале;\n",
    "- `Efforts` — затраты ресурсов на проверку гипотезы по 10-балльной шкале. Чем больше значение `Efforts`, тем дороже проверка гипотезы.\n"
   ]
  },
  {
   "cell_type": "markdown",
   "metadata": {},
   "source": [
    "В таблице нет пропусков и дубликатов. Для удобства работы приведем названия столбцов к нижнему регистру:"
   ]
  },
  {
   "cell_type": "code",
   "execution_count": 3,
   "metadata": {},
   "outputs": [
    {
     "data": {
      "text/plain": [
       "Index(['hypothesis', 'reach', 'impact', 'confidence', 'efforts'], dtype='object')"
      ]
     },
     "execution_count": 3,
     "metadata": {},
     "output_type": "execute_result"
    }
   ],
   "source": [
    "hypothesis.columns = [x.lower() for x in hypothesis.columns]\n",
    "hypothesis.columns"
   ]
  },
  {
   "cell_type": "markdown",
   "metadata": {},
   "source": [
    "Данные готовы к приоритизации гипотез."
   ]
  },
  {
   "cell_type": "markdown",
   "metadata": {},
   "source": [
    "### Приоритизация гипотез ICE и RICE"
   ]
  },
  {
   "cell_type": "markdown",
   "metadata": {},
   "source": [
    "Рассчет методом **ICE:**"
   ]
  },
  {
   "cell_type": "code",
   "execution_count": 4,
   "metadata": {},
   "outputs": [
    {
     "data": {
      "text/html": [
       "<div>\n",
       "<style scoped>\n",
       "    .dataframe tbody tr th:only-of-type {\n",
       "        vertical-align: middle;\n",
       "    }\n",
       "\n",
       "    .dataframe tbody tr th {\n",
       "        vertical-align: top;\n",
       "    }\n",
       "\n",
       "    .dataframe thead th {\n",
       "        text-align: right;\n",
       "    }\n",
       "</style>\n",
       "<table border=\"1\" class=\"dataframe\">\n",
       "  <thead>\n",
       "    <tr style=\"text-align: right;\">\n",
       "      <th></th>\n",
       "      <th>hypothesis</th>\n",
       "      <th>ice</th>\n",
       "    </tr>\n",
       "  </thead>\n",
       "  <tbody>\n",
       "    <tr>\n",
       "      <th>8</th>\n",
       "      <td>Запустить акцию, дающую скидку на товар в день рождения</td>\n",
       "      <td>16.20</td>\n",
       "    </tr>\n",
       "    <tr>\n",
       "      <th>0</th>\n",
       "      <td>Добавить два новых канала привлечения трафика, что позволит привлекать на 30% больше пользователей</td>\n",
       "      <td>13.33</td>\n",
       "    </tr>\n",
       "    <tr>\n",
       "      <th>7</th>\n",
       "      <td>Добавить форму подписки на все основные страницы, чтобы собрать базу клиентов для email-рассылок</td>\n",
       "      <td>11.20</td>\n",
       "    </tr>\n",
       "    <tr>\n",
       "      <th>6</th>\n",
       "      <td>Показать на главной странице баннеры с актуальными акциями и распродажами, чтобы увеличить конверсию</td>\n",
       "      <td>8.00</td>\n",
       "    </tr>\n",
       "    <tr>\n",
       "      <th>2</th>\n",
       "      <td>Добавить блоки рекомендаций товаров на сайт интернет магазина, чтобы повысить конверсию и средний чек заказа</td>\n",
       "      <td>7.00</td>\n",
       "    </tr>\n",
       "    <tr>\n",
       "      <th>1</th>\n",
       "      <td>Запустить собственную службу доставки, что сократит срок доставки заказов</td>\n",
       "      <td>2.00</td>\n",
       "    </tr>\n",
       "    <tr>\n",
       "      <th>5</th>\n",
       "      <td>Добавить страницу отзывов клиентов о магазине, что позволит увеличить количество заказов</td>\n",
       "      <td>1.33</td>\n",
       "    </tr>\n",
       "    <tr>\n",
       "      <th>3</th>\n",
       "      <td>Изменить структура категорий, что увеличит конверсию, т.к. пользователи быстрее найдут нужный товар</td>\n",
       "      <td>1.12</td>\n",
       "    </tr>\n",
       "    <tr>\n",
       "      <th>4</th>\n",
       "      <td>Изменить цвет фона главной страницы, чтобы увеличить вовлеченность пользователей</td>\n",
       "      <td>1.00</td>\n",
       "    </tr>\n",
       "  </tbody>\n",
       "</table>\n",
       "</div>"
      ],
      "text/plain": [
       "                                                                                                     hypothesis  \\\n",
       "8                                                       Запустить акцию, дающую скидку на товар в день рождения   \n",
       "0            Добавить два новых канала привлечения трафика, что позволит привлекать на 30% больше пользователей   \n",
       "7              Добавить форму подписки на все основные страницы, чтобы собрать базу клиентов для email-рассылок   \n",
       "6          Показать на главной странице баннеры с актуальными акциями и распродажами, чтобы увеличить конверсию   \n",
       "2  Добавить блоки рекомендаций товаров на сайт интернет магазина, чтобы повысить конверсию и средний чек заказа   \n",
       "1                                     Запустить собственную службу доставки, что сократит срок доставки заказов   \n",
       "5                      Добавить страницу отзывов клиентов о магазине, что позволит увеличить количество заказов   \n",
       "3           Изменить структура категорий, что увеличит конверсию, т.к. пользователи быстрее найдут нужный товар   \n",
       "4                              Изменить цвет фона главной страницы, чтобы увеличить вовлеченность пользователей   \n",
       "\n",
       "     ice  \n",
       "8  16.20  \n",
       "0  13.33  \n",
       "7  11.20  \n",
       "6   8.00  \n",
       "2   7.00  \n",
       "1   2.00  \n",
       "5   1.33  \n",
       "3   1.12  \n",
       "4   1.00  "
      ]
     },
     "execution_count": 4,
     "metadata": {},
     "output_type": "execute_result"
    }
   ],
   "source": [
    "hypothesis['ice'] = round((hypothesis['impact']*hypothesis['confidence']/hypothesis['efforts']), 2)\n",
    "hypothesis[['hypothesis', 'ice']].sort_values(by='ice', ascending=False)"
   ]
  },
  {
   "cell_type": "markdown",
   "metadata": {},
   "source": [
    "Исходя из анализа методом ICE, видим, что самыми перспективными являются гипотезы с индексами 8, 0 и 7."
   ]
  },
  {
   "cell_type": "markdown",
   "metadata": {},
   "source": [
    "Рассчет методом **RICE:**"
   ]
  },
  {
   "cell_type": "code",
   "execution_count": 5,
   "metadata": {},
   "outputs": [
    {
     "data": {
      "text/html": [
       "<div>\n",
       "<style scoped>\n",
       "    .dataframe tbody tr th:only-of-type {\n",
       "        vertical-align: middle;\n",
       "    }\n",
       "\n",
       "    .dataframe tbody tr th {\n",
       "        vertical-align: top;\n",
       "    }\n",
       "\n",
       "    .dataframe thead th {\n",
       "        text-align: right;\n",
       "    }\n",
       "</style>\n",
       "<table border=\"1\" class=\"dataframe\">\n",
       "  <thead>\n",
       "    <tr style=\"text-align: right;\">\n",
       "      <th></th>\n",
       "      <th>hypothesis</th>\n",
       "      <th>rice</th>\n",
       "    </tr>\n",
       "  </thead>\n",
       "  <tbody>\n",
       "    <tr>\n",
       "      <th>7</th>\n",
       "      <td>Добавить форму подписки на все основные страницы, чтобы собрать базу клиентов для email-рассылок</td>\n",
       "      <td>112.0</td>\n",
       "    </tr>\n",
       "    <tr>\n",
       "      <th>2</th>\n",
       "      <td>Добавить блоки рекомендаций товаров на сайт интернет магазина, чтобы повысить конверсию и средний чек заказа</td>\n",
       "      <td>56.0</td>\n",
       "    </tr>\n",
       "    <tr>\n",
       "      <th>0</th>\n",
       "      <td>Добавить два новых канала привлечения трафика, что позволит привлекать на 30% больше пользователей</td>\n",
       "      <td>40.0</td>\n",
       "    </tr>\n",
       "    <tr>\n",
       "      <th>6</th>\n",
       "      <td>Показать на главной странице баннеры с актуальными акциями и распродажами, чтобы увеличить конверсию</td>\n",
       "      <td>40.0</td>\n",
       "    </tr>\n",
       "    <tr>\n",
       "      <th>8</th>\n",
       "      <td>Запустить акцию, дающую скидку на товар в день рождения</td>\n",
       "      <td>16.2</td>\n",
       "    </tr>\n",
       "    <tr>\n",
       "      <th>3</th>\n",
       "      <td>Изменить структура категорий, что увеличит конверсию, т.к. пользователи быстрее найдут нужный товар</td>\n",
       "      <td>9.0</td>\n",
       "    </tr>\n",
       "    <tr>\n",
       "      <th>1</th>\n",
       "      <td>Запустить собственную службу доставки, что сократит срок доставки заказов</td>\n",
       "      <td>4.0</td>\n",
       "    </tr>\n",
       "    <tr>\n",
       "      <th>5</th>\n",
       "      <td>Добавить страницу отзывов клиентов о магазине, что позволит увеличить количество заказов</td>\n",
       "      <td>4.0</td>\n",
       "    </tr>\n",
       "    <tr>\n",
       "      <th>4</th>\n",
       "      <td>Изменить цвет фона главной страницы, чтобы увеличить вовлеченность пользователей</td>\n",
       "      <td>3.0</td>\n",
       "    </tr>\n",
       "  </tbody>\n",
       "</table>\n",
       "</div>"
      ],
      "text/plain": [
       "                                                                                                     hypothesis  \\\n",
       "7              Добавить форму подписки на все основные страницы, чтобы собрать базу клиентов для email-рассылок   \n",
       "2  Добавить блоки рекомендаций товаров на сайт интернет магазина, чтобы повысить конверсию и средний чек заказа   \n",
       "0            Добавить два новых канала привлечения трафика, что позволит привлекать на 30% больше пользователей   \n",
       "6          Показать на главной странице баннеры с актуальными акциями и распродажами, чтобы увеличить конверсию   \n",
       "8                                                       Запустить акцию, дающую скидку на товар в день рождения   \n",
       "3           Изменить структура категорий, что увеличит конверсию, т.к. пользователи быстрее найдут нужный товар   \n",
       "1                                     Запустить собственную службу доставки, что сократит срок доставки заказов   \n",
       "5                      Добавить страницу отзывов клиентов о магазине, что позволит увеличить количество заказов   \n",
       "4                              Изменить цвет фона главной страницы, чтобы увеличить вовлеченность пользователей   \n",
       "\n",
       "    rice  \n",
       "7  112.0  \n",
       "2   56.0  \n",
       "0   40.0  \n",
       "6   40.0  \n",
       "8   16.2  \n",
       "3    9.0  \n",
       "1    4.0  \n",
       "5    4.0  \n",
       "4    3.0  "
      ]
     },
     "execution_count": 5,
     "metadata": {},
     "output_type": "execute_result"
    }
   ],
   "source": [
    "hypothesis['rice'] = round((hypothesis['reach']*hypothesis['impact']*hypothesis['confidence']/hypothesis['efforts']), 2)\n",
    "hypothesis[['hypothesis', 'rice']].sort_values(by='rice', ascending=False)"
   ]
  },
  {
   "cell_type": "markdown",
   "metadata": {},
   "source": [
    "Наиболее перспективные по результатам метода RICE гипотезы с индексами: 7, 2, 0, 6."
   ]
  },
  {
   "cell_type": "markdown",
   "metadata": {},
   "source": [
    "С большим отрывом на первом месте гипотеза 7, потому что ее параметр `reach` равен 10 и самый высокий среди гипотез. А значит она затронет максимальное количество пользователей. Аналогично в топе появилась гипотеза под номером 2.\n",
    "\n",
    "Определим наиболее перспективные гипотезы для дальнейшего проведения А/В-теста:\n",
    "- Добавить форму подписки на все основные страницы, чтобы собрать базу клиентов для email-рассылок (7)\n",
    "- Добавить блоки рекомендаций товаров на сайт интернет магазина, чтобы повысить конверсию и средний чек заказа (2)\n",
    "- Добавить два новых канала привлечения трафика, что позволит привлекать на 30% больше пользователей (0)\n",
    "- Показать на главной странице баннеры с актуальными акциями и распродажами, чтобы увеличить конверсию (6)\n"
   ]
  },
  {
   "cell_type": "markdown",
   "metadata": {},
   "source": [
    "##  Анализ A/B-теста"
   ]
  },
  {
   "cell_type": "markdown",
   "metadata": {},
   "source": [
    "### Изучение и предобработка данных"
   ]
  },
  {
   "cell_type": "markdown",
   "metadata": {},
   "source": [
    "Мы провели A/B-тест и получили результаты, которые описаны в файлах /datasets/orders.csv и /datasets/visitors.csv. Посмотри на них:"
   ]
  },
  {
   "cell_type": "code",
   "execution_count": 6,
   "metadata": {},
   "outputs": [],
   "source": [
    "orders = pd.read_csv('/datasets/orders.csv')\n",
    "visitors = pd.read_csv('/datasets/visitors.csv')"
   ]
  },
  {
   "cell_type": "code",
   "execution_count": 7,
   "metadata": {},
   "outputs": [
    {
     "name": "stdout",
     "output_type": "stream",
     "text": [
      "<class 'pandas.core.frame.DataFrame'>\n",
      "RangeIndex: 1197 entries, 0 to 1196\n",
      "Data columns (total 5 columns):\n",
      " #   Column         Non-Null Count  Dtype \n",
      "---  ------         --------------  ----- \n",
      " 0   transactionId  1197 non-null   int64 \n",
      " 1   visitorId      1197 non-null   int64 \n",
      " 2   date           1197 non-null   object\n",
      " 3   revenue        1197 non-null   int64 \n",
      " 4   group          1197 non-null   object\n",
      "dtypes: int64(3), object(2)\n",
      "memory usage: 46.9+ KB\n"
     ]
    },
    {
     "data": {
      "text/plain": [
       "None"
      ]
     },
     "metadata": {},
     "output_type": "display_data"
    },
    {
     "data": {
      "text/html": [
       "<div>\n",
       "<style scoped>\n",
       "    .dataframe tbody tr th:only-of-type {\n",
       "        vertical-align: middle;\n",
       "    }\n",
       "\n",
       "    .dataframe tbody tr th {\n",
       "        vertical-align: top;\n",
       "    }\n",
       "\n",
       "    .dataframe thead th {\n",
       "        text-align: right;\n",
       "    }\n",
       "</style>\n",
       "<table border=\"1\" class=\"dataframe\">\n",
       "  <thead>\n",
       "    <tr style=\"text-align: right;\">\n",
       "      <th></th>\n",
       "      <th>transactionId</th>\n",
       "      <th>visitorId</th>\n",
       "      <th>date</th>\n",
       "      <th>revenue</th>\n",
       "      <th>group</th>\n",
       "    </tr>\n",
       "  </thead>\n",
       "  <tbody>\n",
       "    <tr>\n",
       "      <th>0</th>\n",
       "      <td>3667963787</td>\n",
       "      <td>3312258926</td>\n",
       "      <td>2019-08-15</td>\n",
       "      <td>1650</td>\n",
       "      <td>B</td>\n",
       "    </tr>\n",
       "    <tr>\n",
       "      <th>1</th>\n",
       "      <td>2804400009</td>\n",
       "      <td>3642806036</td>\n",
       "      <td>2019-08-15</td>\n",
       "      <td>730</td>\n",
       "      <td>B</td>\n",
       "    </tr>\n",
       "    <tr>\n",
       "      <th>2</th>\n",
       "      <td>2961555356</td>\n",
       "      <td>4069496402</td>\n",
       "      <td>2019-08-15</td>\n",
       "      <td>400</td>\n",
       "      <td>A</td>\n",
       "    </tr>\n",
       "    <tr>\n",
       "      <th>3</th>\n",
       "      <td>3797467345</td>\n",
       "      <td>1196621759</td>\n",
       "      <td>2019-08-15</td>\n",
       "      <td>9759</td>\n",
       "      <td>B</td>\n",
       "    </tr>\n",
       "    <tr>\n",
       "      <th>4</th>\n",
       "      <td>2282983706</td>\n",
       "      <td>2322279887</td>\n",
       "      <td>2019-08-15</td>\n",
       "      <td>2308</td>\n",
       "      <td>B</td>\n",
       "    </tr>\n",
       "  </tbody>\n",
       "</table>\n",
       "</div>"
      ],
      "text/plain": [
       "   transactionId   visitorId        date  revenue group\n",
       "0     3667963787  3312258926  2019-08-15     1650     B\n",
       "1     2804400009  3642806036  2019-08-15      730     B\n",
       "2     2961555356  4069496402  2019-08-15      400     A\n",
       "3     3797467345  1196621759  2019-08-15     9759     B\n",
       "4     2282983706  2322279887  2019-08-15     2308     B"
      ]
     },
     "execution_count": 7,
     "metadata": {},
     "output_type": "execute_result"
    }
   ],
   "source": [
    "display(orders.info())\n",
    "orders.head()"
   ]
  },
  {
   "cell_type": "markdown",
   "metadata": {},
   "source": [
    "Датасет `orders` информацию о заказах:\n",
    "- `transactionId` — идентификатор заказа;\n",
    "- `visitorId` — идентификатор пользователя, совершившего заказ;\n",
    "- `date` — дата, когда был совершён заказ;\n",
    "- `revenue` — выручка заказа;\n",
    "- `group` — группа A/B-теста, в которую попал заказ."
   ]
  },
  {
   "cell_type": "markdown",
   "metadata": {},
   "source": [
    "Перемеинуем названия столбцов для удобства работы:"
   ]
  },
  {
   "cell_type": "code",
   "execution_count": 8,
   "metadata": {},
   "outputs": [],
   "source": [
    "orders.rename(columns = {'transactionId': 'transaction_id', 'visitorId': 'visitor_id'}, inplace = True )"
   ]
  },
  {
   "cell_type": "code",
   "execution_count": 9,
   "metadata": {},
   "outputs": [
    {
     "name": "stdout",
     "output_type": "stream",
     "text": [
      "<class 'pandas.core.frame.DataFrame'>\n",
      "RangeIndex: 62 entries, 0 to 61\n",
      "Data columns (total 3 columns):\n",
      " #   Column    Non-Null Count  Dtype \n",
      "---  ------    --------------  ----- \n",
      " 0   date      62 non-null     object\n",
      " 1   group     62 non-null     object\n",
      " 2   visitors  62 non-null     int64 \n",
      "dtypes: int64(1), object(2)\n",
      "memory usage: 1.6+ KB\n"
     ]
    },
    {
     "data": {
      "text/plain": [
       "None"
      ]
     },
     "metadata": {},
     "output_type": "display_data"
    },
    {
     "data": {
      "text/html": [
       "<div>\n",
       "<style scoped>\n",
       "    .dataframe tbody tr th:only-of-type {\n",
       "        vertical-align: middle;\n",
       "    }\n",
       "\n",
       "    .dataframe tbody tr th {\n",
       "        vertical-align: top;\n",
       "    }\n",
       "\n",
       "    .dataframe thead th {\n",
       "        text-align: right;\n",
       "    }\n",
       "</style>\n",
       "<table border=\"1\" class=\"dataframe\">\n",
       "  <thead>\n",
       "    <tr style=\"text-align: right;\">\n",
       "      <th></th>\n",
       "      <th>date</th>\n",
       "      <th>group</th>\n",
       "      <th>visitors</th>\n",
       "    </tr>\n",
       "  </thead>\n",
       "  <tbody>\n",
       "    <tr>\n",
       "      <th>0</th>\n",
       "      <td>2019-08-01</td>\n",
       "      <td>A</td>\n",
       "      <td>719</td>\n",
       "    </tr>\n",
       "    <tr>\n",
       "      <th>1</th>\n",
       "      <td>2019-08-02</td>\n",
       "      <td>A</td>\n",
       "      <td>619</td>\n",
       "    </tr>\n",
       "    <tr>\n",
       "      <th>2</th>\n",
       "      <td>2019-08-03</td>\n",
       "      <td>A</td>\n",
       "      <td>507</td>\n",
       "    </tr>\n",
       "    <tr>\n",
       "      <th>3</th>\n",
       "      <td>2019-08-04</td>\n",
       "      <td>A</td>\n",
       "      <td>717</td>\n",
       "    </tr>\n",
       "    <tr>\n",
       "      <th>4</th>\n",
       "      <td>2019-08-05</td>\n",
       "      <td>A</td>\n",
       "      <td>756</td>\n",
       "    </tr>\n",
       "  </tbody>\n",
       "</table>\n",
       "</div>"
      ],
      "text/plain": [
       "         date group  visitors\n",
       "0  2019-08-01     A       719\n",
       "1  2019-08-02     A       619\n",
       "2  2019-08-03     A       507\n",
       "3  2019-08-04     A       717\n",
       "4  2019-08-05     A       756"
      ]
     },
     "execution_count": 9,
     "metadata": {},
     "output_type": "execute_result"
    }
   ],
   "source": [
    "display(visitors.info())\n",
    "visitors.head()"
   ]
  },
  {
   "cell_type": "markdown",
   "metadata": {},
   "source": [
    "Датасет `visitors` содержит  информацию о пользователях по группам:\n",
    "- `date` — дата;\n",
    "- `group` — группа A/B-теста;\n",
    "- `visitors` — количество пользователей в указанную дату в указанной группе A/B-теста."
   ]
  },
  {
   "cell_type": "markdown",
   "metadata": {},
   "source": [
    "Приведем даты к нужному формату:"
   ]
  },
  {
   "cell_type": "code",
   "execution_count": 10,
   "metadata": {},
   "outputs": [],
   "source": [
    "for i in [orders,visitors]:\n",
    "    i['date'] = pd.to_datetime(i['date'])"
   ]
  },
  {
   "cell_type": "markdown",
   "metadata": {},
   "source": [
    "Проверим на пропуски и дубликаты:"
   ]
  },
  {
   "cell_type": "code",
   "execution_count": 11,
   "metadata": {},
   "outputs": [
    {
     "name": "stdout",
     "output_type": "stream",
     "text": [
      "Количество пропусков в датафрейме равно 0, а дубликатов - 0.\n",
      "Количество пропусков в датафрейме равно 0, а дубликатов - 0.\n"
     ]
    }
   ],
   "source": [
    "for i in [orders,visitors]:\n",
    "    print(f'Количество пропусков в датафрейме равно {i.isna().sum().sum()}, а дубликатов - {i.duplicated().sum()}.')"
   ]
  },
  {
   "cell_type": "markdown",
   "metadata": {},
   "source": [
    "Посмотрим распределение пользователей по группам:"
   ]
  },
  {
   "cell_type": "code",
   "execution_count": 12,
   "metadata": {},
   "outputs": [
    {
     "name": "stdout",
     "output_type": "stream",
     "text": [
      "Всего посещений 37652.\n"
     ]
    },
    {
     "data": {
      "text/html": [
       "<div>\n",
       "<style scoped>\n",
       "    .dataframe tbody tr th:only-of-type {\n",
       "        vertical-align: middle;\n",
       "    }\n",
       "\n",
       "    .dataframe tbody tr th {\n",
       "        vertical-align: top;\n",
       "    }\n",
       "\n",
       "    .dataframe thead th {\n",
       "        text-align: right;\n",
       "    }\n",
       "</style>\n",
       "<table border=\"1\" class=\"dataframe\">\n",
       "  <thead>\n",
       "    <tr style=\"text-align: right;\">\n",
       "      <th></th>\n",
       "      <th>group</th>\n",
       "      <th>visitors</th>\n",
       "      <th>%</th>\n",
       "    </tr>\n",
       "  </thead>\n",
       "  <tbody>\n",
       "    <tr>\n",
       "      <th>0</th>\n",
       "      <td>A</td>\n",
       "      <td>18736</td>\n",
       "      <td>49.76</td>\n",
       "    </tr>\n",
       "    <tr>\n",
       "      <th>1</th>\n",
       "      <td>B</td>\n",
       "      <td>18916</td>\n",
       "      <td>50.24</td>\n",
       "    </tr>\n",
       "  </tbody>\n",
       "</table>\n",
       "</div>"
      ],
      "text/plain": [
       "  group  visitors      %\n",
       "0     A     18736  49.76\n",
       "1     B     18916  50.24"
      ]
     },
     "execution_count": 12,
     "metadata": {},
     "output_type": "execute_result"
    }
   ],
   "source": [
    "visitors_grouped=visitors.groupby('group').agg({'visitors' : 'sum'}).reset_index()\n",
    "visitors_grouped['%']=round((visitors_grouped['visitors']*100/visitors['visitors'].sum()),2)\n",
    "print(f'Всего посещений {visitors_grouped[\"visitors\"].sum()}.')\n",
    "visitors_grouped"
   ]
  },
  {
   "cell_type": "markdown",
   "metadata": {},
   "source": [
    "Посмотрим распределение покупок по группам и конверсию в покупку:"
   ]
  },
  {
   "cell_type": "code",
   "execution_count": 13,
   "metadata": {},
   "outputs": [
    {
     "data": {
      "text/html": [
       "<div>\n",
       "<style scoped>\n",
       "    .dataframe tbody tr th:only-of-type {\n",
       "        vertical-align: middle;\n",
       "    }\n",
       "\n",
       "    .dataframe tbody tr th {\n",
       "        vertical-align: top;\n",
       "    }\n",
       "\n",
       "    .dataframe thead th {\n",
       "        text-align: right;\n",
       "    }\n",
       "</style>\n",
       "<table border=\"1\" class=\"dataframe\">\n",
       "  <thead>\n",
       "    <tr style=\"text-align: right;\">\n",
       "      <th></th>\n",
       "      <th>group</th>\n",
       "      <th>visitor_id</th>\n",
       "      <th>%</th>\n",
       "    </tr>\n",
       "  </thead>\n",
       "  <tbody>\n",
       "    <tr>\n",
       "      <th>0</th>\n",
       "      <td>A</td>\n",
       "      <td>557</td>\n",
       "      <td>2.97</td>\n",
       "    </tr>\n",
       "    <tr>\n",
       "      <th>1</th>\n",
       "      <td>B</td>\n",
       "      <td>640</td>\n",
       "      <td>3.38</td>\n",
       "    </tr>\n",
       "  </tbody>\n",
       "</table>\n",
       "</div>"
      ],
      "text/plain": [
       "  group  visitor_id     %\n",
       "0     A         557  2.97\n",
       "1     B         640  3.38"
      ]
     },
     "execution_count": 13,
     "metadata": {},
     "output_type": "execute_result"
    }
   ],
   "source": [
    "orders_grouped = orders.groupby('group').agg({'visitor_id' : 'count'}).reset_index()\n",
    "orders_grouped['%'] = round((orders_grouped['visitor_id']*100/visitors_grouped['visitors']),2)\n",
    "orders_grouped"
   ]
  },
  {
   "cell_type": "code",
   "execution_count": 59,
   "metadata": {},
   "outputs": [
    {
     "data": {
      "text/plain": [
       "58"
      ]
     },
     "execution_count": 59,
     "metadata": {},
     "output_type": "execute_result"
    }
   ],
   "source": [
    "unique_visitors = orders.loc[:, ['visitor_id', 'group']].drop_duplicates().drop(columns=['group'])\n",
    "unique_visitors.visitor_id.duplicated().sum()"
   ]
  },
  {
   "cell_type": "markdown",
   "metadata": {},
   "source": [
    "В группе А и группе В оказалось 58 пользователей одновременно. Количество пользователей в различных группах не должно превышать 1% для успешного проведения теста. Некорректное деление трафика теста влияет на качество анализа. В нашем случае мы можем удалить их только из датасета с заказами, в данных о посещениях нет их идентификаторов."
   ]
  },
  {
   "cell_type": "code",
   "execution_count": 14,
   "metadata": {},
   "outputs": [
    {
     "data": {
      "text/plain": [
       "'Относительное изменение конверсии 0.12.'"
      ]
     },
     "execution_count": 14,
     "metadata": {},
     "output_type": "execute_result"
    }
   ],
   "source": [
    "f'Относительное изменение конверсии {round((1-2.97/3.38),2)}.'"
   ]
  },
  {
   "cell_type": "markdown",
   "metadata": {},
   "source": [
    "Рассчитаем необходимый размер выборки для теста с помощью калькулятора ***https://www.evanmiller.org/ab-testing/sample-size.html***.\n",
    "\n",
    "Получаем необходимое количество выборки **36 228** для корректного проведения тестирования.\n",
    "В нашем случае количество **37 652** посещений.\n",
    "Кол-во выборки для A/B-тестирования корректно подобрано, группы поделены равномерно."
   ]
  },
  {
   "cell_type": "markdown",
   "metadata": {},
   "source": [
    "### Кумулятивная выручка по группам"
   ]
  },
  {
   "cell_type": "code",
   "execution_count": 15,
   "metadata": {},
   "outputs": [],
   "source": [
    "# создание датафрейма datesGroups с уникальными парами значений 'date' и 'group', таблицы orders; удаление дубликатов\n",
    "datesGroups = orders[['date', 'group']].drop_duplicates()\n",
    "\n",
    "\n",
    "ordersAggregated = datesGroups.apply(\n",
    "    lambda x: orders[\n",
    "        np.logical_and(\n",
    "            orders['date'] <= x['date'], orders['group'] == x['group']\n",
    "        )\n",
    "    ].agg(\n",
    "        {\n",
    "            'date': 'max', # дата\n",
    "            'group': 'max', # группа A/B-теста\n",
    "            'transaction_id': 'nunique', # число уникальных заказов в группе теста по указанную дату включительно\n",
    "            'visitor_id': 'nunique', # число уникальных пользователей, совершивших хотя бы 1 заказ в группе теста\n",
    "            'revenue': 'sum', # суммарная выручка заказов в группе теста по указанную дату включительно\n",
    "        }\n",
    "    ),\n",
    "    axis=1,\n",
    ").sort_values(by=['date', 'group']) # сортировка по столбцам 'date', 'group'\n",
    "\n",
    "\n",
    "visitorsAggregated = datesGroups.apply(\n",
    "    lambda x: visitors[\n",
    "        np.logical_and(\n",
    "            visitors['date'] <= x['date'], visitors['group'] == x['group']\n",
    "        )\n",
    "    ].agg({'date': 'max', 'group': 'max', 'visitors': 'sum'}),\n",
    "    axis=1,\n",
    ").sort_values(by=['date', 'group'])\n",
    "\n",
    "# определение переменной по колонкам 'date', 'group' методом merge()\n",
    "cumulativeData = ordersAggregated.merge(\n",
    "    visitorsAggregated, left_on=['date', 'group'], right_on=['date', 'group']\n",
    ")\n",
    "\n",
    "# присвоение столбцам cumulativeData названия\n",
    "cumulativeData.columns = [\n",
    "    'date',\n",
    "    'group',\n",
    "    'orders',\n",
    "    'buyers',\n",
    "    'revenue',\n",
    "    'visitors',\n",
    "]\n",
    "\n",
    "\n",
    "# переменная с данными о датах, выручке и числе заказов в группе А\n",
    "cumulativeRevenueA = cumulativeData[cumulativeData['group'] == 'A'][\n",
    "    ['date', 'revenue', 'orders']\n",
    "]\n",
    "\n",
    "# переменная с данными о датах, выручке и числе заказов в группе В\n",
    "cumulativeRevenueB = cumulativeData[cumulativeData['group'] == 'B'][\n",
    "    ['date', 'revenue', 'orders']\n",
    "]"
   ]
  },
  {
   "cell_type": "code",
   "execution_count": 16,
   "metadata": {},
   "outputs": [
    {
     "data": {
      "image/png": "[encoded data removed]",
      "text/plain": [
       "<Figure size 1008x432 with 1 Axes>"
      ]
     },
     "metadata": {
      "needs_background": "light"
     },
     "output_type": "display_data"
    }
   ],
   "source": [
    "plt.figure(figsize=(14, 6))\n",
    "plt.plot(cumulativeRevenueA['date'], cumulativeRevenueA['revenue'], label='A')\n",
    "plt.plot(cumulativeRevenueB['date'], cumulativeRevenueB['revenue'], label='B')\n",
    "                                           \n",
    "plt.xticks(rotation=45)\n",
    "plt.title('График кумулятивной выручки групп А и B', fontsize=16) \n",
    "plt.xlabel(\"Дата\")\n",
    "plt.ylabel(\"Выручка\")\n",
    "plt.legend()\n",
    "plt.grid()\n",
    "plt.show()"
   ]
  },
  {
   "cell_type": "markdown",
   "metadata": {},
   "source": [
    "На графике видим, что выручка почти равномерно увеличивается в течение теста. Группа В увеличивает отрыв к концу теста.\n",
    "Также заметен резкий скачок выручки, что может свидетельствовать о появлении очень дорогого заказа или резком росте числа заказов в выборке."
   ]
  },
  {
   "cell_type": "markdown",
   "metadata": {},
   "source": [
    "### Кумулятивный средний чек по группам"
   ]
  },
  {
   "cell_type": "code",
   "execution_count": 17,
   "metadata": {},
   "outputs": [
    {
     "data": {
      "image/png": "[encoded data removed]",
      "text/plain": [
       "<Figure size 1008x432 with 1 Axes>"
      ]
     },
     "metadata": {
      "needs_background": "light"
     },
     "output_type": "display_data"
    }
   ],
   "source": [
    "plt.figure(figsize=(14, 6))\n",
    "plt.plot(cumulativeRevenueA['date'], cumulativeRevenueA['revenue']/cumulativeRevenueA['orders'], label='A')\n",
    "plt.plot(cumulativeRevenueB['date'], cumulativeRevenueB['revenue']/cumulativeRevenueB['orders'], label='B')\n",
    "plt.xticks(rotation=45)\n",
    "\n",
    "plt.title('График кумулятивнго среднего чека групп А и B', fontsize=16) \n",
    "plt.xlabel(\"Дата\")\n",
    "plt.ylabel(\"Средний чек\")\n",
    "plt.legend()\n",
    "plt.grid()\n",
    "plt.show()\n"
   ]
  },
  {
   "cell_type": "markdown",
   "metadata": {},
   "source": [
    "Кумулятивное значение среднего чека к середине месяца выросло по двум сегментам. К концу месяца значение среднего чека для В установилось на значении значительно выше, чем для  В сегменте А, в отличие от сегмента В, к концу месяца средний чек почти сравнялся с максимальным значением, достигнутым 13 августа. Но наиболее примечательно то, что 18 - 19 августа у сегмента В выявлен аномальный рост среднего чека. Скорее всего, были чрезмерно крупные заказы, которые могут влиять на результаты."
   ]
  },
  {
   "cell_type": "markdown",
   "metadata": {},
   "source": [
    "### Относительное изменение кумулятивного среднего чека группы B к группе A"
   ]
  },
  {
   "cell_type": "code",
   "execution_count": 18,
   "metadata": {},
   "outputs": [
    {
     "data": {
      "image/png": "[encoded data removed]",
      "text/plain": [
       "<Figure size 1008x432 with 1 Axes>"
      ]
     },
     "metadata": {
      "needs_background": "light"
     },
     "output_type": "display_data"
    }
   ],
   "source": [
    "# собираем данные в одном датафрейме\n",
    "mergedCumulativeRevenue = cumulativeRevenueA.merge(cumulativeRevenueB, left_on='date', right_on='date', how='left', suffixes=['A', 'B'])\n",
    "\n",
    "# cтроим отношение средних чеков\n",
    "plt.figure(figsize=(14, 6))\n",
    "plt.plot(mergedCumulativeRevenue['date'], (mergedCumulativeRevenue['revenueB']/mergedCumulativeRevenue['ordersB'])/(mergedCumulativeRevenue['revenueA']/mergedCumulativeRevenue['ordersA'])-1)\n",
    "plt.xticks(rotation=45)\n",
    "\n",
    "plt.title('График относительного изменения кумулятивного среднего чека группы B к группе A', fontsize=15) \n",
    "plt.xlabel(\"Дата\")\n",
    "plt.grid()\n",
    "\n",
    "# добавляем ось X\n",
    "plt.axhline(y=0, color='black', linestyle='--')\n",
    "plt.show()"
   ]
  },
  {
   "cell_type": "markdown",
   "metadata": {},
   "source": [
    "В нескольких точках график различия между сегментами резко меняются. Похоже, что в эти даты и были совершены аномальные заказы сегментом В."
   ]
  },
  {
   "cell_type": "markdown",
   "metadata": {},
   "source": [
    "### Кумулятивное среднее количество заказов на посетителя по группам"
   ]
  },
  {
   "cell_type": "code",
   "execution_count": 19,
   "metadata": {},
   "outputs": [
    {
     "data": {
      "image/png": "[encoded data removed]",
      "text/plain": [
       "<Figure size 1008x432 with 1 Axes>"
      ]
     },
     "metadata": {
      "needs_background": "light"
     },
     "output_type": "display_data"
    }
   ],
   "source": [
    "# считаем кумулятивную конверсию\n",
    "cumulativeData['conversion'] = cumulativeData['orders']/cumulativeData['visitors']\n",
    "\n",
    "# отделяем данные по группе A\n",
    "cumulativeDataA = cumulativeData[cumulativeData['group']=='A']\n",
    "\n",
    "# отделяем данные по группе B\n",
    "cumulativeDataB = cumulativeData[cumulativeData['group']=='B']\n",
    "\n",
    "# строим графики\n",
    "plt.figure(figsize=(14, 6))\n",
    "plt.plot(cumulativeDataA['date'], cumulativeDataA['conversion'], label='A')\n",
    "plt.plot(cumulativeDataB['date'], cumulativeDataB['conversion'], label='B')\n",
    "plt.legend()\n",
    "plt.xticks(rotation=45)\n",
    "plt.axis([dt.datetime(2019, 8, 1), dt.datetime(2019, 8, 31), 0, 0.05])\n",
    "\n",
    "plt.title('Кумулятивное среднее количество заказов на посетителя', fontsize=17) \n",
    "plt.xlabel(\"Дата\")\n",
    "plt.grid()\n",
    "plt.show()\n"
   ]
  },
  {
   "cell_type": "markdown",
   "metadata": {},
   "source": [
    "Абсолютное значение колебания варьируется в небольшом диапазоне - от 2,9% до 3,7%.\n",
    "В начале теста сегмент А имел большее значение среднего количества заказов на посетителя, но затем это значение для сегмента В выросло и зафиксировалась примерно около одного знаечения, большего чем у сегмента А."
   ]
  },
  {
   "cell_type": "markdown",
   "metadata": {},
   "source": [
    "### Относительное различие кумулятивных средних значений количества заказов на посетителя"
   ]
  },
  {
   "cell_type": "code",
   "execution_count": 20,
   "metadata": {},
   "outputs": [
    {
     "data": {
      "image/png": "[encoded data removed]",
      "text/plain": [
       "<Figure size 1008x432 with 1 Axes>"
      ]
     },
     "metadata": {
      "needs_background": "light"
     },
     "output_type": "display_data"
    }
   ],
   "source": [
    "mergedCumulativeConversions = cumulativeDataA[['date','conversion']].merge(cumulativeDataB[['date','conversion']], left_on='date', right_on='date', how='left', suffixes=['A', 'B'])\n",
    "\n",
    "plt.figure(figsize=(14, 6))\n",
    "plt.plot(mergedCumulativeConversions['date'], mergedCumulativeConversions['conversionB']/mergedCumulativeConversions['conversionA']-1)\n",
    "\n",
    "plt.xticks(rotation=45)\n",
    "\n",
    "plt.axhline(y=0, color='black', linestyle='--')\n",
    "plt.axhline(y=0.2, color='grey', linestyle='--')\n",
    "plt.title('График относительного изменения кумулятивного среднего количества заказов на посетителя группы B к группе A', fontsize=17)\n",
    "plt.xlabel('Дата')\n",
    "plt.show()"
   ]
  },
  {
   "cell_type": "markdown",
   "metadata": {},
   "source": [
    "В начале теста группа В в основном проигрывала группе А, но с 6 августа окончательно вырвалась вперед. С 8 августа прирост колебался от 10 до 20%, постепенно снижаясь к концу месяца."
   ]
  },
  {
   "cell_type": "markdown",
   "metadata": {},
   "source": [
    "### Количество заказов по пользователям"
   ]
  },
  {
   "cell_type": "code",
   "execution_count": 21,
   "metadata": {},
   "outputs": [
    {
     "data": {
      "image/png": "[encoded data removed]",
      "text/plain": [
       "<Figure size 1008x432 with 1 Axes>"
      ]
     },
     "metadata": {
      "needs_background": "light"
     },
     "output_type": "display_data"
    },
    {
     "data": {
      "image/png": "[encoded data removed]",
      "text/plain": [
       "<Figure size 1008x432 with 1 Axes>"
      ]
     },
     "metadata": {
      "needs_background": "light"
     },
     "output_type": "display_data"
    }
   ],
   "source": [
    "ordersByUsers = orders.groupby('visitor_id', as_index = False).agg({'transaction_id':'nunique'})\n",
    "ordersByUsers.columns = ['visitor_id', 'orders']\n",
    "ordersByUsers.head(5)\n",
    "plt.figure(figsize=(14,6))\n",
    "plt.hist(ordersByUsers['orders'], bins = 10)\n",
    "plt.title('Гистрограмма распределения количества заказов на одного пользователя', fontsize=17)\n",
    "plt.xlabel(\"Количество заказов на пользователя\")\n",
    "plt.ylabel(\"Количество пользователей\")\n",
    "plt.show()\n",
    "x_values = pd.Series(range(0, len(ordersByUsers)))\n",
    "plt.figure(figsize=(14,6))\n",
    "plt.scatter(x_values, ordersByUsers['orders'])\n",
    "plt.title('Точечная диаграмма числа заказов на одного пользователя', fontsize=17)\n",
    "plt.xlabel(\"Пользователи\")\n",
    "plt.ylabel(\"Число заказов на пользователя\")\n",
    "plt.show()"
   ]
  },
  {
   "cell_type": "markdown",
   "metadata": {},
   "source": [
    "Пользователей, заказавших более двух раз, совсем мало, а значит они могут быть аномальными. Уточним это, посчитав выборочные перцентили."
   ]
  },
  {
   "cell_type": "markdown",
   "metadata": {},
   "source": [
    "### Определение границы аномальных значений количества заказов на пользователя"
   ]
  },
  {
   "cell_type": "markdown",
   "metadata": {},
   "source": [
    "Посчитаем 95-й и 99-й перцентили количества заказов на пользователя:"
   ]
  },
  {
   "cell_type": "code",
   "execution_count": 22,
   "metadata": {},
   "outputs": [
    {
     "data": {
      "text/plain": [
       "array([2., 4.])"
      ]
     },
     "execution_count": 22,
     "metadata": {},
     "output_type": "execute_result"
    }
   ],
   "source": [
    "np.percentile(ordersByUsers['orders'], [95, 99])"
   ]
  },
  {
   "cell_type": "markdown",
   "metadata": {},
   "source": [
    "Не более 5% пользователей совершали больше 2х заказов и менее 1% более 4 заказов. Определим пользователей совершавших более двух заказов выбросами."
   ]
  },
  {
   "cell_type": "markdown",
   "metadata": {},
   "source": [
    "### Стоимость заказов по пользователям"
   ]
  },
  {
   "cell_type": "code",
   "execution_count": 23,
   "metadata": {},
   "outputs": [
    {
     "data": {
      "image/png": "[encoded data removed]",
      "text/plain": [
       "<Figure size 1008x432 with 1 Axes>"
      ]
     },
     "metadata": {
      "needs_background": "light"
     },
     "output_type": "display_data"
    },
    {
     "data": {
      "image/png": "[encoded data removed]",
      "text/plain": [
       "<Figure size 1008x432 with 1 Axes>"
      ]
     },
     "metadata": {
      "needs_background": "light"
     },
     "output_type": "display_data"
    }
   ],
   "source": [
    "plt.figure(figsize=(14,6))\n",
    "plt.hist(orders['revenue'], range=(0,100000), bins = 100)\n",
    "plt.title('Гистрограмма распределения сумм заказов на одного пользователя', fontsize=17)\n",
    "plt.show()\n",
    "x_values = pd.Series(range(0, len(orders)))\n",
    "plt.figure(figsize=(14,6))\n",
    "plt.scatter(x_values, orders['revenue'])\n",
    "plt.title('Точечная диаграмма сумм заказов на одного пользователя', fontsize=17)\n",
    "plt.axis([0, 1200, 0, 100000])\n",
    "plt.show()"
   ]
  },
  {
   "cell_type": "markdown",
   "metadata": {},
   "source": [
    "На графиках видно, что большая часть пользователей делает покупки суммой не больше 25-30 тыс.ед. Уточним это, посчитав выборочные перцентили."
   ]
  },
  {
   "cell_type": "markdown",
   "metadata": {},
   "source": [
    "### Определение границы аномальных значений суммы заказа"
   ]
  },
  {
   "cell_type": "markdown",
   "metadata": {},
   "source": [
    "Посчитаем 95-й и 99-й перцентили суммы заказа для пользователя."
   ]
  },
  {
   "cell_type": "code",
   "execution_count": 24,
   "metadata": {},
   "outputs": [
    {
     "data": {
      "text/plain": [
       "array([28000. , 58233.2])"
      ]
     },
     "execution_count": 24,
     "metadata": {},
     "output_type": "execute_result"
    }
   ],
   "source": [
    "np.percentile(orders['revenue'], [95, 99])"
   ]
  },
  {
   "cell_type": "markdown",
   "metadata": {},
   "source": [
    "Не более, чем у 5% пользователей чек дороже 28 тыс. ед. Не больше, чем у 1% - дороже 58 233,2 ед. Границей для определения аномальных заказов следует обозначить 28 тыс. ед."
   ]
  },
  {
   "cell_type": "markdown",
   "metadata": {},
   "source": [
    "### Оценка статистической значимости различий для \"сырых\" данных"
   ]
  },
  {
   "cell_type": "markdown",
   "metadata": {},
   "source": [
    "**Посчитаем статистическую значимость различий в среднем количесве заказов на посетителя между группами:**"
   ]
  },
  {
   "cell_type": "markdown",
   "metadata": {},
   "source": [
    "- ***Нулевая гипотеза*** - по \"сырым\" данным среднее количество заказов для посетителей группы А и В **равны**.\n",
    "\n",
    "- ***Альтернативная гипотеза*** - по \"сырым\" данным среднее количество заказов для посетителей группы А и В **не равны**.\n"
   ]
  },
  {
   "cell_type": "markdown",
   "metadata": {},
   "source": [
    "Проверка гипотезы о равенстве среднего двух генеральных совокупностей по взятым из них выборкам для независимых выборок непараметрическим тестом **Уилкоксона-Манна-Уитни**, с **5%** уровень значимости:"
   ]
  },
  {
   "cell_type": "code",
   "execution_count": 35,
   "metadata": {},
   "outputs": [
    {
     "name": "stdout",
     "output_type": "stream",
     "text": [
      "\n",
      "Относительный прирост среднего количества заказов посетителя группы B по отношению к группе A: 0.138\n",
      "P-value: 0.016792355056752608\n",
      "Отвергаем нулевую гипотезу: разница статистически значима\n"
     ]
    }
   ],
   "source": [
    "ordersByUsersA = orders[orders['group']=='A'].groupby('visitor_id', as_index=False).agg({'transaction_id':'nunique'})\n",
    "ordersByUsersA.columns = ['visitor_id', 'orders']\n",
    "ordersByUsersB = orders[orders['group']=='B'].groupby('visitor_id', as_index=False).agg({'transaction_id':'nunique'})\n",
    "ordersByUsersB.columns = ['visitor_id', 'orders']\n",
    "\n",
    "#составим списки кол-ва заказов sampleA и sampleB со всеми пользователями (в том числе и не купившими) по группам \n",
    "list_orders_1 =[]\n",
    "for i in range(0,(visitors[visitors['group']=='A']['visitors'].sum()-len(ordersByUsersA))):\n",
    "    list_orders_1.append(0)\n",
    "orders_by_non_purchased_users_A = pd.Series(data = list_orders_1, name = 'orders')\n",
    "\n",
    "list_orders_2 =[]\n",
    "for i in range(0,(visitors[visitors['group']=='B']['visitors'].sum()-len(ordersByUsersB))):\n",
    "    list_orders_2.append(0)\n",
    "orders_by_non_purchased_users_B = pd.Series(data = list_orders_2, name = 'orders')\n",
    "\n",
    "sampleA = pd.concat([ordersByUsersA['orders'], orders_by_non_purchased_users_A], axis=0)\n",
    "sampleB = pd.concat([ordersByUsersB['orders'], orders_by_non_purchased_users_B], axis=0)\n",
    "print('\\nОтносительный прирост среднего количества заказов посетителя группы B по отношению к группе A: {:.3f}'.format(sampleB.mean()/sampleA.mean()-1))\n",
    "alpha = 0.05\n",
    "results = stats.mannwhitneyu(sampleA, sampleB)\n",
    "print('P-value: {}'.format(results.pvalue))\n",
    "if results.pvalue < alpha:\n",
    "    print('Отвергаем нулевую гипотезу: разница статистически значима')\n",
    "else:\n",
    "    print(\n",
    "        'Не получилось отвергнуть нулевую гипотезу, вывод о различии сделать нельзя'\n",
    "    ) "
   ]
  },
  {
   "cell_type": "markdown",
   "metadata": {},
   "source": [
    "Уровень значимости статистики разности средних  очень мал. Можем отвергнуть нулевую гипотезу, а значит вероятнее всего по \"сырым\" данным среднее количество заказов для посетителей группы А и В **не равны**."
   ]
  },
  {
   "cell_type": "markdown",
   "metadata": {},
   "source": [
    "**Посчитаем статистическую значимость различий в среднем чеке заказа между группами:**"
   ]
  },
  {
   "cell_type": "markdown",
   "metadata": {},
   "source": [
    "***Нулевая гипотеза*** - по \"сырым\" данным средний чек для посетителей группы А и В **равны**.\n",
    "\n",
    "***Альтернативная гипотеза*** - по \"сырым\" данным средний чек для посетителей группы А и В **не равны**."
   ]
  },
  {
   "cell_type": "markdown",
   "metadata": {},
   "source": [
    "Применим непараметрический тест **Уилкоксона-Манна-Уитни**, с **5%** уровень значимости:"
   ]
  },
  {
   "cell_type": "code",
   "execution_count": 34,
   "metadata": {},
   "outputs": [
    {
     "name": "stdout",
     "output_type": "stream",
     "text": [
      "Относительное изменение среднего чека в группе B по отношению группы A: 0.259\n",
      "P-value: 0.7292909855432458\n",
      "Не получилось отвергнуть нулевую гипотезу, вывод о различии сделать нельзя\n"
     ]
    }
   ],
   "source": [
    "print('Относительное изменение среднего чека в группе B по отношению группы A: {:.3f}'.format(\n",
    "orders[orders['group']=='B']['revenue'].mean()/orders[orders['group']=='A']['revenue'].mean()-1))\n",
    "results = stats.mannwhitneyu(orders[orders['group']=='A']['revenue'], orders[orders['group']=='B']['revenue'])\n",
    "print('P-value: {}'.format(results.pvalue))\n",
    "if results.pvalue < alpha:\n",
    "    print('Отвергаем нулевую гипотезу: разница статистически значима')\n",
    "else:\n",
    "    print(\n",
    "        'Не получилось отвергнуть нулевую гипотезу, вывод о различии сделать нельзя'\n",
    "    ) "
   ]
  },
  {
   "cell_type": "markdown",
   "metadata": {},
   "source": [
    "Нельзя сделать вывод о том, что средние чеки для групп А и В отличаются."
   ]
  },
  {
   "cell_type": "markdown",
   "metadata": {},
   "source": [
    "### Оценка статистической значимости различий для \"очищенных\" данных"
   ]
  },
  {
   "cell_type": "markdown",
   "metadata": {},
   "source": [
    "Мы определили границы аномалий как:\n",
    "- свыше 2 заказов на одного пользователя,\n",
    "- сумма покупки свыше 28 000 ед."
   ]
  },
  {
   "cell_type": "code",
   "execution_count": 27,
   "metadata": {},
   "outputs": [],
   "source": [
    "limit_orders = 2\n",
    "limit_revenue = 28000"
   ]
  },
  {
   "cell_type": "code",
   "execution_count": 28,
   "metadata": {},
   "outputs": [
    {
     "name": "stdout",
     "output_type": "stream",
     "text": [
      "Кол-во аномальных пользователей: 74\n"
     ]
    }
   ],
   "source": [
    "usersWithManyOrders = pd.concat([ordersByUsersA[ordersByUsersA['orders']>limit_orders]['visitor_id'], \n",
    "                                ordersByUsersB[ordersByUsersB['orders']>limit_orders]['visitor_id']], axis = 0)\n",
    "usersWithExpensiveOrders = orders[orders['revenue']>limit_revenue]['visitor_id']\n",
    "abnormalUsers = pd.concat([usersWithManyOrders, usersWithExpensiveOrders], axis = 0).drop_duplicates().sort_values()\n",
    "print('Кол-во аномальных пользователей: {}'.format(len(abnormalUsers)))"
   ]
  },
  {
   "cell_type": "markdown",
   "metadata": {},
   "source": [
    "**Посчитаем статистическую значимость различий в среднем количесве заказов на посетителя между группами:**"
   ]
  },
  {
   "cell_type": "markdown",
   "metadata": {},
   "source": [
    "- ***Нулевая гипотеза*** - по \"очищенным\" данным среднее количество заказов для посетителей группы А и В **равны**.\n",
    "\n",
    "- ***Альтернативная гипотеза*** - по \"очищенным\" данным среднее количество заказов для посетителей группы А и В **не равны**.\n"
   ]
  },
  {
   "cell_type": "markdown",
   "metadata": {},
   "source": [
    "Проверка гипотезы о равенстве среднего двух генеральных совокупностей по взятым из них выборкам для независимых выборок непараметрическим тестом **Уилкоксона-Манна-Уитни**, с **5%** уровень значимости:"
   ]
  },
  {
   "cell_type": "code",
   "execution_count": 38,
   "metadata": {},
   "outputs": [
    {
     "name": "stdout",
     "output_type": "stream",
     "text": [
      "\n",
      "Относительный прирост среднего количества заказов на пользователя группы B по отношению к группе A после очистки данных: 0.173\n",
      "P-value: 0.013042592743036745\n",
      "Отвергаем нулевую гипотезу: разница статистически значима\n"
     ]
    }
   ],
   "source": [
    "sampleAFiltered = pd.concat([\n",
    "    ordersByUsersA[np.logical_not(ordersByUsersA['visitor_id'].isin(abnormalUsers))]['orders'],\n",
    "    orders_by_non_purchased_users_A\n",
    "], axis = 0)\n",
    "sampleBFiltered = pd.concat([\n",
    "    ordersByUsersB[np.logical_not(ordersByUsersB['visitor_id'].isin(abnormalUsers))]['orders'],\n",
    "    orders_by_non_purchased_users_B\n",
    "], axis = 0)\n",
    "print('\\nОтносительный прирост среднего количества заказов на пользователя группы B по отношению к группе A после очистки данных: {:.3f}'.format(sampleBFiltered.mean()/sampleAFiltered.mean()-1))\n",
    "results = stats.mannwhitneyu(sampleAFiltered, sampleBFiltered)\n",
    "print('P-value: {}'.format(results.pvalue))\n",
    "if results.pvalue < alpha:\n",
    "    print('Отвергаем нулевую гипотезу: разница статистически значима')\n",
    "else:\n",
    "    print(\n",
    "        'Не получилось отвергнуть нулевую гипотезу, вывод о различии сделать нельзя'\n",
    "    ) "
   ]
  },
  {
   "cell_type": "markdown",
   "metadata": {},
   "source": [
    "Аналогично \"сырым\" данным для \"очищенных\" уровень значимости статистики разности средних  очень мал. Можем отвергнуть нулевую гипотезу, а значит вероятнее всего по \"очищенным\" данным среднее количество заказов для посетителей группы А и В также **не равны**."
   ]
  },
  {
   "cell_type": "markdown",
   "metadata": {},
   "source": [
    "**Посчитаем статистическую значимость различий в среднем чеке заказа между группами:**"
   ]
  },
  {
   "cell_type": "markdown",
   "metadata": {},
   "source": [
    "***Нулевая гипотеза*** - по \"очищенным\" данным средний чек для посетителей группы А и В **равны**.\n",
    "\n",
    "***Альтернативная гипотеза*** - по \"очищенным\" данным средний чек для посетителей группы А и В **не равны**."
   ]
  },
  {
   "cell_type": "markdown",
   "metadata": {},
   "source": [
    "Применим непараметрический тест **Уилкоксона-Манна-Уитни**, с **5%** уровень значимости:"
   ]
  },
  {
   "cell_type": "code",
   "execution_count": 39,
   "metadata": {},
   "outputs": [
    {
     "name": "stdout",
     "output_type": "stream",
     "text": [
      "Относительное изменение среднего чека в группе B по отношению группы A после очистки данных: -0.020\n",
      "P-value: 0.738481751314565\n",
      "Не получилось отвергнуть нулевую гипотезу, вывод о различии сделать нельзя\n"
     ]
    }
   ],
   "source": [
    "print('Относительное изменение среднего чека в группе B по отношению группы A после очистки данных: {:.3f}'.format(\n",
    "orders[np.logical_and(orders['group']=='B', np.logical_not(orders['visitor_id'].isin(abnormalUsers)))]['revenue'].mean()\\\n",
    "/orders[np.logical_and(orders['group']=='A', np.logical_not(orders['visitor_id'].isin(abnormalUsers)))]['revenue'].mean()-1))\n",
    "       \n",
    "       \n",
    "results = stats.mannwhitneyu(orders[np.logical_and(orders['group']=='A', np.logical_not(orders['visitor_id'].isin(abnormalUsers)))]['revenue'],\n",
    "                             orders[np.logical_and(orders['group']=='B', np.logical_not(orders['visitor_id'].isin(abnormalUsers)))]['revenue'])\n",
    "print('P-value: {}'.format(results.pvalue))\n",
    "if results.pvalue < alpha:\n",
    "    print('Отвергаем нулевую гипотезу: разница статистически значима')\n",
    "else:\n",
    "    print(\n",
    "        'Не получилось отвергнуть нулевую гипотезу, вывод о различии сделать нельзя'\n",
    "    ) "
   ]
  },
  {
   "cell_type": "markdown",
   "metadata": {},
   "source": [
    "Также как и для \"сырых\" данных, после фильтрации выбросов нельзя сделать вывод о том, что средние чеки для групп А и В отличаются."
   ]
  },
  {
   "cell_type": "markdown",
   "metadata": {},
   "source": [
    "##  Общий вывод"
   ]
  },
  {
   "cell_type": "markdown",
   "metadata": {},
   "source": [
    "В ходе работы мы проанализировали таблицу с гипотезами, на основе ICE и RICE выделили четыре **приоритетные гипотезы**:\n",
    "- Добавить форму подписки на все основные страницы, чтобы собрать базу клиентов для email-рассылок (7)\n",
    "- Добавить блоки рекомендаций товаров на сайт интернет магазина, чтобы повысить конверсию и средний чек заказа (2)\n",
    "- Добавить два новых канала привлечения трафика, что позволит привлекать на 30% больше пользователей (0)\n",
    "- Показать на главной странице баннеры с актуальными акциями и распродажами, чтобы увеличить конверсию (6)\n",
    "\n",
    "В ходе анализа предобработки данных результатов А/В-тестирования, данные были проверенны на корректность количества наблюдений, чтобы исключить проблему подглядывания.\n",
    "\n",
    "Исходя из значительных колебаний на графике различия среднего чека мы сделали предположение о наличии аномальных значений. Которое позже подтвердили рассчетом перцентилей. Таким образом мы установили границы аномалий:\n",
    "- свыше 2 заказов на одного пользователя,\n",
    "- сумма покупки свыше 28 000 ед.\n",
    "\n",
    "По итогам теста выявлено статистически значимое различие по количеству заказов на пользователя между группами как по «сырым», так и по данным после фильтрации аномалий, а вот статистически значимых различий по среднему чеку не были зафиксированы в обоих случаях.\n",
    "\n",
    "Исходя из обнаруженных фактов, **тест следует остановить и зафиксировать победу группы В**, результаты по среднему количеству заказов на пользователя которой оказались лучше группы А на 13,8% и 17,3% до и после \"очистки\" данных соответственно."
   ]
  }
 ],
 "metadata": {
  "ExecuteTimeLog": [
   {
    "duration": 60,
    "start_time": "2022-12-16T11:52:49.093Z"
   },
   {
    "duration": 1346,
    "start_time": "2022-12-16T11:53:13.734Z"
   },
   {
    "duration": 102,
    "start_time": "2022-12-16T11:55:34.116Z"
   },
   {
    "duration": 75,
    "start_time": "2022-12-16T11:55:50.728Z"
   },
   {
    "duration": 39,
    "start_time": "2022-12-16T11:56:00.329Z"
   },
   {
    "duration": 28,
    "start_time": "2022-12-16T11:56:31.086Z"
   },
   {
    "duration": 28,
    "start_time": "2022-12-16T11:56:39.257Z"
   },
   {
    "duration": 33,
    "start_time": "2022-12-16T11:56:47.891Z"
   },
   {
    "duration": 36,
    "start_time": "2022-12-16T11:58:08.503Z"
   },
   {
    "duration": 49,
    "start_time": "2022-12-16T11:58:19.070Z"
   },
   {
    "duration": 3,
    "start_time": "2022-12-16T12:04:14.894Z"
   },
   {
    "duration": 12,
    "start_time": "2022-12-16T12:04:36.362Z"
   },
   {
    "duration": 5,
    "start_time": "2022-12-16T12:04:43.882Z"
   },
   {
    "duration": 46,
    "start_time": "2022-12-16T12:05:55.922Z"
   },
   {
    "duration": 2,
    "start_time": "2022-12-16T12:07:55.075Z"
   },
   {
    "duration": 2,
    "start_time": "2022-12-16T12:07:58.221Z"
   },
   {
    "duration": 825,
    "start_time": "2022-12-16T12:08:36.361Z"
   },
   {
    "duration": 40,
    "start_time": "2022-12-16T12:09:48.057Z"
   },
   {
    "duration": 41,
    "start_time": "2022-12-16T12:09:52.711Z"
   },
   {
    "duration": 5,
    "start_time": "2022-12-16T12:10:13.751Z"
   },
   {
    "duration": 7,
    "start_time": "2022-12-16T12:10:59.180Z"
   },
   {
    "duration": 13,
    "start_time": "2022-12-16T12:11:36.714Z"
   },
   {
    "duration": 12,
    "start_time": "2022-12-16T12:12:09.220Z"
   },
   {
    "duration": 11,
    "start_time": "2022-12-16T12:12:49.067Z"
   },
   {
    "duration": 46,
    "start_time": "2022-12-16T15:53:03.962Z"
   },
   {
    "duration": 14,
    "start_time": "2022-12-16T15:54:51.124Z"
   },
   {
    "duration": 1183,
    "start_time": "2022-12-16T15:55:41.014Z"
   },
   {
    "duration": 47,
    "start_time": "2022-12-16T15:55:42.199Z"
   },
   {
    "duration": 5,
    "start_time": "2022-12-16T15:55:42.248Z"
   },
   {
    "duration": 35,
    "start_time": "2022-12-16T15:55:42.255Z"
   },
   {
    "duration": 27,
    "start_time": "2022-12-16T15:55:42.292Z"
   },
   {
    "duration": 161,
    "start_time": "2022-12-16T16:11:27.012Z"
   },
   {
    "duration": 25,
    "start_time": "2022-12-16T16:12:12.096Z"
   },
   {
    "duration": 20,
    "start_time": "2022-12-16T16:13:21.859Z"
   },
   {
    "duration": 6,
    "start_time": "2022-12-16T18:59:12.445Z"
   },
   {
    "duration": 14,
    "start_time": "2022-12-16T18:59:26.680Z"
   },
   {
    "duration": 55,
    "start_time": "2022-12-17T15:41:41.061Z"
   },
   {
    "duration": 1348,
    "start_time": "2022-12-17T15:41:58.159Z"
   },
   {
    "duration": 105,
    "start_time": "2022-12-17T15:41:59.509Z"
   },
   {
    "duration": 7,
    "start_time": "2022-12-17T15:41:59.616Z"
   },
   {
    "duration": 14,
    "start_time": "2022-12-17T15:41:59.625Z"
   },
   {
    "duration": 12,
    "start_time": "2022-12-17T15:41:59.642Z"
   },
   {
    "duration": 211,
    "start_time": "2022-12-17T15:41:59.657Z"
   },
   {
    "duration": 22,
    "start_time": "2022-12-17T15:41:59.870Z"
   },
   {
    "duration": 27,
    "start_time": "2022-12-17T15:41:59.895Z"
   },
   {
    "duration": 8,
    "start_time": "2022-12-17T15:41:59.924Z"
   },
   {
    "duration": 4,
    "start_time": "2022-12-17T15:47:08.399Z"
   },
   {
    "duration": 97,
    "start_time": "2022-12-17T15:47:30.828Z"
   },
   {
    "duration": 14,
    "start_time": "2022-12-17T15:47:43.656Z"
   },
   {
    "duration": 4,
    "start_time": "2022-12-17T15:48:13.541Z"
   },
   {
    "duration": 4,
    "start_time": "2022-12-17T15:49:35.614Z"
   },
   {
    "duration": 8,
    "start_time": "2022-12-17T15:49:40.056Z"
   },
   {
    "duration": 9,
    "start_time": "2022-12-17T15:50:55.554Z"
   },
   {
    "duration": 40,
    "start_time": "2022-12-17T15:51:26.666Z"
   },
   {
    "duration": 9,
    "start_time": "2022-12-17T15:52:44.276Z"
   },
   {
    "duration": 16,
    "start_time": "2022-12-17T15:52:57.355Z"
   },
   {
    "duration": 65,
    "start_time": "2022-12-17T15:53:17.764Z"
   },
   {
    "duration": 12,
    "start_time": "2022-12-17T15:53:28.484Z"
   },
   {
    "duration": 72,
    "start_time": "2022-12-17T15:56:53.949Z"
   },
   {
    "duration": 10,
    "start_time": "2022-12-17T15:57:03.261Z"
   },
   {
    "duration": 14,
    "start_time": "2022-12-17T15:57:22.910Z"
   },
   {
    "duration": 68,
    "start_time": "2022-12-17T15:57:54.771Z"
   },
   {
    "duration": 10,
    "start_time": "2022-12-17T15:58:02.629Z"
   },
   {
    "duration": 1233,
    "start_time": "2022-12-17T16:00:37.083Z"
   },
   {
    "duration": 55,
    "start_time": "2022-12-17T16:00:38.318Z"
   },
   {
    "duration": 4,
    "start_time": "2022-12-17T16:00:38.375Z"
   },
   {
    "duration": 15,
    "start_time": "2022-12-17T16:00:38.381Z"
   },
   {
    "duration": 20,
    "start_time": "2022-12-17T16:00:38.398Z"
   },
   {
    "duration": 128,
    "start_time": "2022-12-17T16:00:38.420Z"
   },
   {
    "duration": 18,
    "start_time": "2022-12-17T16:00:38.551Z"
   },
   {
    "duration": 3,
    "start_time": "2022-12-17T16:00:38.571Z"
   },
   {
    "duration": 18,
    "start_time": "2022-12-17T16:00:38.576Z"
   },
   {
    "duration": 6,
    "start_time": "2022-12-17T16:00:38.596Z"
   },
   {
    "duration": 119,
    "start_time": "2022-12-17T16:00:38.603Z"
   },
   {
    "duration": 64,
    "start_time": "2022-12-17T16:13:11.633Z"
   },
   {
    "duration": 18,
    "start_time": "2022-12-17T16:13:13.144Z"
   },
   {
    "duration": 10,
    "start_time": "2022-12-17T16:13:20.359Z"
   },
   {
    "duration": 56,
    "start_time": "2022-12-17T16:37:05.257Z"
   },
   {
    "duration": 12,
    "start_time": "2022-12-17T16:37:32.734Z"
   },
   {
    "duration": 3,
    "start_time": "2022-12-17T16:37:52.794Z"
   },
   {
    "duration": 10,
    "start_time": "2022-12-17T16:37:58.400Z"
   },
   {
    "duration": 8,
    "start_time": "2022-12-17T16:39:29.728Z"
   },
   {
    "duration": 41,
    "start_time": "2022-12-17T16:41:58.027Z"
   },
   {
    "duration": 12,
    "start_time": "2022-12-17T16:42:06.401Z"
   },
   {
    "duration": 9,
    "start_time": "2022-12-17T16:43:11.407Z"
   },
   {
    "duration": 13,
    "start_time": "2022-12-17T16:43:21.824Z"
   },
   {
    "duration": 13,
    "start_time": "2022-12-17T16:43:42.629Z"
   },
   {
    "duration": 15,
    "start_time": "2022-12-17T16:51:11.034Z"
   },
   {
    "duration": 12,
    "start_time": "2022-12-17T16:51:24.014Z"
   },
   {
    "duration": 6,
    "start_time": "2022-12-17T16:52:17.194Z"
   },
   {
    "duration": 9,
    "start_time": "2022-12-17T16:52:22.097Z"
   },
   {
    "duration": 14,
    "start_time": "2022-12-17T16:53:56.188Z"
   },
   {
    "duration": 9,
    "start_time": "2022-12-17T16:54:19.181Z"
   },
   {
    "duration": 11,
    "start_time": "2022-12-17T16:54:48.323Z"
   },
   {
    "duration": 50,
    "start_time": "2022-12-17T16:55:46.830Z"
   },
   {
    "duration": 7,
    "start_time": "2022-12-17T16:56:28.756Z"
   },
   {
    "duration": 8,
    "start_time": "2022-12-17T16:57:39.012Z"
   },
   {
    "duration": 13,
    "start_time": "2022-12-17T16:57:48.228Z"
   },
   {
    "duration": 9,
    "start_time": "2022-12-17T17:05:08.115Z"
   },
   {
    "duration": 12,
    "start_time": "2022-12-17T17:05:31.948Z"
   },
   {
    "duration": 1144,
    "start_time": "2022-12-17T17:05:58.140Z"
   },
   {
    "duration": 55,
    "start_time": "2022-12-17T17:05:59.286Z"
   },
   {
    "duration": 6,
    "start_time": "2022-12-17T17:05:59.343Z"
   },
   {
    "duration": 14,
    "start_time": "2022-12-17T17:05:59.352Z"
   },
   {
    "duration": 14,
    "start_time": "2022-12-17T17:05:59.368Z"
   },
   {
    "duration": 53,
    "start_time": "2022-12-17T17:05:59.412Z"
   },
   {
    "duration": 18,
    "start_time": "2022-12-17T17:05:59.467Z"
   },
   {
    "duration": 4,
    "start_time": "2022-12-17T17:05:59.487Z"
   },
   {
    "duration": 19,
    "start_time": "2022-12-17T17:05:59.492Z"
   },
   {
    "duration": 6,
    "start_time": "2022-12-17T17:05:59.513Z"
   },
   {
    "duration": 115,
    "start_time": "2022-12-17T17:05:59.521Z"
   },
   {
    "duration": 0,
    "start_time": "2022-12-17T17:05:59.638Z"
   },
   {
    "duration": 0,
    "start_time": "2022-12-17T17:05:59.639Z"
   },
   {
    "duration": 66,
    "start_time": "2022-12-17T17:06:16.403Z"
   },
   {
    "duration": 9,
    "start_time": "2022-12-17T17:06:20.914Z"
   },
   {
    "duration": 13,
    "start_time": "2022-12-17T17:06:26.980Z"
   },
   {
    "duration": 16,
    "start_time": "2022-12-17T17:06:29.367Z"
   },
   {
    "duration": 3,
    "start_time": "2022-12-17T17:06:51.003Z"
   },
   {
    "duration": 17,
    "start_time": "2022-12-17T17:06:54.564Z"
   },
   {
    "duration": 5,
    "start_time": "2022-12-17T17:07:06.532Z"
   },
   {
    "duration": 3,
    "start_time": "2022-12-17T17:07:10.887Z"
   },
   {
    "duration": 44,
    "start_time": "2022-12-17T17:07:12.249Z"
   },
   {
    "duration": 5,
    "start_time": "2022-12-17T17:07:17.456Z"
   },
   {
    "duration": 13,
    "start_time": "2022-12-17T17:07:19.734Z"
   },
   {
    "duration": 3,
    "start_time": "2022-12-17T17:07:26.003Z"
   },
   {
    "duration": 66,
    "start_time": "2022-12-17T17:07:26.008Z"
   },
   {
    "duration": 5,
    "start_time": "2022-12-17T17:07:26.076Z"
   },
   {
    "duration": 31,
    "start_time": "2022-12-17T17:07:26.083Z"
   },
   {
    "duration": 41,
    "start_time": "2022-12-17T17:07:26.117Z"
   },
   {
    "duration": 88,
    "start_time": "2022-12-17T17:07:26.160Z"
   },
   {
    "duration": 20,
    "start_time": "2022-12-17T17:07:26.250Z"
   },
   {
    "duration": 28,
    "start_time": "2022-12-17T17:07:26.272Z"
   },
   {
    "duration": 47,
    "start_time": "2022-12-17T17:07:26.302Z"
   },
   {
    "duration": 21,
    "start_time": "2022-12-17T17:07:26.351Z"
   },
   {
    "duration": 20,
    "start_time": "2022-12-17T17:07:26.376Z"
   },
   {
    "duration": 0,
    "start_time": "2022-12-17T17:07:26.398Z"
   },
   {
    "duration": 0,
    "start_time": "2022-12-17T17:07:26.400Z"
   },
   {
    "duration": 3,
    "start_time": "2022-12-17T17:07:32.347Z"
   },
   {
    "duration": 44,
    "start_time": "2022-12-17T17:07:32.353Z"
   },
   {
    "duration": 4,
    "start_time": "2022-12-17T17:07:32.399Z"
   },
   {
    "duration": 14,
    "start_time": "2022-12-17T17:07:32.404Z"
   },
   {
    "duration": 11,
    "start_time": "2022-12-17T17:07:32.420Z"
   },
   {
    "duration": 56,
    "start_time": "2022-12-17T17:07:32.433Z"
   },
   {
    "duration": 16,
    "start_time": "2022-12-17T17:07:32.491Z"
   },
   {
    "duration": 3,
    "start_time": "2022-12-17T17:07:32.509Z"
   },
   {
    "duration": 18,
    "start_time": "2022-12-17T17:07:32.513Z"
   },
   {
    "duration": 10,
    "start_time": "2022-12-17T17:07:32.533Z"
   },
   {
    "duration": 13,
    "start_time": "2022-12-17T17:07:32.544Z"
   },
   {
    "duration": 0,
    "start_time": "2022-12-17T17:07:32.559Z"
   },
   {
    "duration": 0,
    "start_time": "2022-12-17T17:07:32.560Z"
   },
   {
    "duration": 1198,
    "start_time": "2022-12-17T17:07:46.993Z"
   },
   {
    "duration": 50,
    "start_time": "2022-12-17T17:07:48.194Z"
   },
   {
    "duration": 5,
    "start_time": "2022-12-17T17:07:48.246Z"
   },
   {
    "duration": 17,
    "start_time": "2022-12-17T17:07:48.253Z"
   },
   {
    "duration": 13,
    "start_time": "2022-12-17T17:07:48.273Z"
   },
   {
    "duration": 74,
    "start_time": "2022-12-17T17:07:48.288Z"
   },
   {
    "duration": 20,
    "start_time": "2022-12-17T17:07:48.364Z"
   },
   {
    "duration": 17,
    "start_time": "2022-12-17T17:07:48.386Z"
   },
   {
    "duration": 39,
    "start_time": "2022-12-17T17:07:48.405Z"
   },
   {
    "duration": 7,
    "start_time": "2022-12-17T17:07:48.446Z"
   },
   {
    "duration": 104,
    "start_time": "2022-12-17T17:07:48.454Z"
   },
   {
    "duration": 0,
    "start_time": "2022-12-17T17:07:48.560Z"
   },
   {
    "duration": 0,
    "start_time": "2022-12-17T17:07:48.561Z"
   },
   {
    "duration": 75,
    "start_time": "2022-12-17T17:08:04.172Z"
   },
   {
    "duration": 17,
    "start_time": "2022-12-17T17:08:05.844Z"
   },
   {
    "duration": 3,
    "start_time": "2022-12-17T17:08:09.400Z"
   },
   {
    "duration": 20,
    "start_time": "2022-12-17T17:08:11.705Z"
   },
   {
    "duration": 6,
    "start_time": "2022-12-17T17:08:15.555Z"
   },
   {
    "duration": 11,
    "start_time": "2022-12-17T17:08:17.605Z"
   },
   {
    "duration": 64,
    "start_time": "2022-12-17T17:08:26.184Z"
   },
   {
    "duration": 10,
    "start_time": "2022-12-17T17:08:31.243Z"
   },
   {
    "duration": 13,
    "start_time": "2022-12-17T17:08:57.722Z"
   },
   {
    "duration": 14,
    "start_time": "2022-12-17T17:09:10.431Z"
   },
   {
    "duration": 14,
    "start_time": "2022-12-17T17:09:40.641Z"
   },
   {
    "duration": 14,
    "start_time": "2022-12-17T17:09:47.996Z"
   },
   {
    "duration": 13,
    "start_time": "2022-12-17T17:10:03.097Z"
   },
   {
    "duration": 4,
    "start_time": "2022-12-17T17:10:24.119Z"
   },
   {
    "duration": 11,
    "start_time": "2022-12-17T17:10:39.704Z"
   },
   {
    "duration": 14,
    "start_time": "2022-12-17T17:10:43.571Z"
   },
   {
    "duration": 13,
    "start_time": "2022-12-17T17:10:56.036Z"
   },
   {
    "duration": 64,
    "start_time": "2022-12-17T17:26:30.456Z"
   },
   {
    "duration": 4,
    "start_time": "2022-12-17T17:27:41.184Z"
   },
   {
    "duration": 4,
    "start_time": "2022-12-17T17:27:47.954Z"
   },
   {
    "duration": 4,
    "start_time": "2022-12-17T17:28:17.431Z"
   },
   {
    "duration": 19,
    "start_time": "2022-12-17T17:36:08.230Z"
   },
   {
    "duration": 14,
    "start_time": "2022-12-17T17:36:23.751Z"
   },
   {
    "duration": 45,
    "start_time": "2022-12-17T17:37:44.144Z"
   },
   {
    "duration": 40,
    "start_time": "2022-12-17T17:38:06.709Z"
   },
   {
    "duration": 44,
    "start_time": "2022-12-17T17:38:44.031Z"
   },
   {
    "duration": 13,
    "start_time": "2022-12-17T17:39:08.981Z"
   },
   {
    "duration": 13,
    "start_time": "2022-12-17T17:39:26.209Z"
   },
   {
    "duration": 13,
    "start_time": "2022-12-17T17:39:40.365Z"
   },
   {
    "duration": 14,
    "start_time": "2022-12-17T17:40:09.899Z"
   },
   {
    "duration": 13,
    "start_time": "2022-12-17T17:40:41.338Z"
   },
   {
    "duration": 15,
    "start_time": "2022-12-17T17:40:46.153Z"
   },
   {
    "duration": 56,
    "start_time": "2022-12-17T17:41:58.256Z"
   },
   {
    "duration": 5,
    "start_time": "2022-12-17T17:42:06.345Z"
   },
   {
    "duration": 4,
    "start_time": "2022-12-17T17:42:20.275Z"
   },
   {
    "duration": 4,
    "start_time": "2022-12-17T17:42:56.322Z"
   },
   {
    "duration": 4,
    "start_time": "2022-12-17T17:43:18.751Z"
   },
   {
    "duration": 30,
    "start_time": "2022-12-17T17:55:34.984Z"
   },
   {
    "duration": 274,
    "start_time": "2022-12-17T17:56:10.114Z"
   },
   {
    "duration": 284,
    "start_time": "2022-12-17T17:56:29.543Z"
   },
   {
    "duration": 271,
    "start_time": "2022-12-17T17:57:02.432Z"
   },
   {
    "duration": 278,
    "start_time": "2022-12-17T17:57:07.403Z"
   },
   {
    "duration": 381,
    "start_time": "2022-12-17T17:57:36.345Z"
   },
   {
    "duration": 319,
    "start_time": "2022-12-17T17:58:21.398Z"
   },
   {
    "duration": 1169,
    "start_time": "2022-12-17T18:00:59.730Z"
   },
   {
    "duration": 50,
    "start_time": "2022-12-17T18:01:00.901Z"
   },
   {
    "duration": 5,
    "start_time": "2022-12-17T18:01:00.953Z"
   },
   {
    "duration": 25,
    "start_time": "2022-12-17T18:01:00.961Z"
   },
   {
    "duration": 21,
    "start_time": "2022-12-17T18:01:00.988Z"
   },
   {
    "duration": 67,
    "start_time": "2022-12-17T18:01:01.012Z"
   },
   {
    "duration": 20,
    "start_time": "2022-12-17T18:01:01.081Z"
   },
   {
    "duration": 5,
    "start_time": "2022-12-17T18:01:01.103Z"
   },
   {
    "duration": 32,
    "start_time": "2022-12-17T18:01:01.109Z"
   },
   {
    "duration": 14,
    "start_time": "2022-12-17T18:01:01.143Z"
   },
   {
    "duration": 109,
    "start_time": "2022-12-17T18:01:01.158Z"
   },
   {
    "duration": 0,
    "start_time": "2022-12-17T18:01:01.269Z"
   },
   {
    "duration": 0,
    "start_time": "2022-12-17T18:01:01.271Z"
   },
   {
    "duration": 0,
    "start_time": "2022-12-17T18:01:01.272Z"
   },
   {
    "duration": 0,
    "start_time": "2022-12-17T18:01:01.273Z"
   },
   {
    "duration": 0,
    "start_time": "2022-12-17T18:01:01.275Z"
   },
   {
    "duration": 72,
    "start_time": "2022-12-17T18:01:20.189Z"
   },
   {
    "duration": 9,
    "start_time": "2022-12-17T18:01:25.823Z"
   },
   {
    "duration": 32,
    "start_time": "2022-12-17T18:01:31.436Z"
   },
   {
    "duration": 4,
    "start_time": "2022-12-17T18:01:49.953Z"
   },
   {
    "duration": 289,
    "start_time": "2022-12-17T18:01:54.697Z"
   },
   {
    "duration": 315,
    "start_time": "2022-12-17T18:01:57.138Z"
   },
   {
    "duration": 12,
    "start_time": "2022-12-17T18:10:51.503Z"
   },
   {
    "duration": 10,
    "start_time": "2022-12-17T18:11:02.144Z"
   },
   {
    "duration": 279,
    "start_time": "2022-12-17T18:11:21.385Z"
   },
   {
    "duration": 276,
    "start_time": "2022-12-17T18:11:27.038Z"
   },
   {
    "duration": 5,
    "start_time": "2022-12-17T18:11:39.838Z"
   },
   {
    "duration": 349,
    "start_time": "2022-12-17T18:12:36.441Z"
   },
   {
    "duration": 321,
    "start_time": "2022-12-17T18:12:59.932Z"
   },
   {
    "duration": 306,
    "start_time": "2022-12-17T18:19:10.600Z"
   },
   {
    "duration": 5,
    "start_time": "2022-12-17T18:19:22.244Z"
   },
   {
    "duration": 340,
    "start_time": "2022-12-17T18:22:36.039Z"
   },
   {
    "duration": 340,
    "start_time": "2022-12-17T18:30:30.812Z"
   },
   {
    "duration": 280,
    "start_time": "2022-12-17T18:31:41.975Z"
   },
   {
    "duration": 361,
    "start_time": "2022-12-17T18:32:28.707Z"
   },
   {
    "duration": 305,
    "start_time": "2022-12-17T18:32:49.859Z"
   },
   {
    "duration": 57,
    "start_time": "2022-12-17T18:46:03.773Z"
   },
   {
    "duration": 368,
    "start_time": "2022-12-17T18:46:16.722Z"
   },
   {
    "duration": 303,
    "start_time": "2022-12-17T18:46:48.338Z"
   },
   {
    "duration": 345,
    "start_time": "2022-12-17T18:50:37.362Z"
   },
   {
    "duration": 390,
    "start_time": "2022-12-17T18:51:10.490Z"
   },
   {
    "duration": 409,
    "start_time": "2022-12-17T18:51:33.034Z"
   },
   {
    "duration": 417,
    "start_time": "2022-12-17T18:51:40.903Z"
   },
   {
    "duration": 428,
    "start_time": "2022-12-17T18:52:10.344Z"
   },
   {
    "duration": 435,
    "start_time": "2022-12-17T18:52:24.296Z"
   },
   {
    "duration": 433,
    "start_time": "2022-12-17T18:52:51.679Z"
   },
   {
    "duration": 516,
    "start_time": "2022-12-17T18:53:02.504Z"
   },
   {
    "duration": 326,
    "start_time": "2022-12-17T18:53:11.097Z"
   },
   {
    "duration": 337,
    "start_time": "2022-12-17T18:53:23.668Z"
   },
   {
    "duration": 286,
    "start_time": "2022-12-17T19:46:17.306Z"
   },
   {
    "duration": 289,
    "start_time": "2022-12-17T19:46:44.712Z"
   },
   {
    "duration": 311,
    "start_time": "2022-12-17T19:48:18.554Z"
   },
   {
    "duration": 345,
    "start_time": "2022-12-17T19:48:41.138Z"
   },
   {
    "duration": 377,
    "start_time": "2022-12-17T19:49:06.118Z"
   },
   {
    "duration": 318,
    "start_time": "2022-12-17T19:49:10.262Z"
   },
   {
    "duration": 300,
    "start_time": "2022-12-17T19:57:09.566Z"
   },
   {
    "duration": 1086,
    "start_time": "2022-12-17T19:58:21.311Z"
   },
   {
    "duration": 46,
    "start_time": "2022-12-17T19:58:22.399Z"
   },
   {
    "duration": 6,
    "start_time": "2022-12-17T19:58:22.447Z"
   },
   {
    "duration": 28,
    "start_time": "2022-12-17T19:58:22.455Z"
   },
   {
    "duration": 36,
    "start_time": "2022-12-17T19:58:22.484Z"
   },
   {
    "duration": 69,
    "start_time": "2022-12-17T19:58:22.522Z"
   },
   {
    "duration": 15,
    "start_time": "2022-12-17T19:58:22.592Z"
   },
   {
    "duration": 21,
    "start_time": "2022-12-17T19:58:22.609Z"
   },
   {
    "duration": 24,
    "start_time": "2022-12-17T19:58:22.631Z"
   },
   {
    "duration": 27,
    "start_time": "2022-12-17T19:58:22.657Z"
   },
   {
    "duration": 130,
    "start_time": "2022-12-17T19:58:22.685Z"
   },
   {
    "duration": 0,
    "start_time": "2022-12-17T19:58:22.817Z"
   },
   {
    "duration": 0,
    "start_time": "2022-12-17T19:58:22.818Z"
   },
   {
    "duration": 0,
    "start_time": "2022-12-17T19:58:22.819Z"
   },
   {
    "duration": 0,
    "start_time": "2022-12-17T19:58:22.821Z"
   },
   {
    "duration": 0,
    "start_time": "2022-12-17T19:58:22.821Z"
   },
   {
    "duration": 0,
    "start_time": "2022-12-17T19:58:22.822Z"
   },
   {
    "duration": 0,
    "start_time": "2022-12-17T19:58:22.823Z"
   },
   {
    "duration": 0,
    "start_time": "2022-12-17T19:58:22.824Z"
   },
   {
    "duration": 3,
    "start_time": "2022-12-17T19:58:41.745Z"
   },
   {
    "duration": 63,
    "start_time": "2022-12-17T19:58:41.750Z"
   },
   {
    "duration": 4,
    "start_time": "2022-12-17T19:58:41.815Z"
   },
   {
    "duration": 27,
    "start_time": "2022-12-17T19:58:41.821Z"
   },
   {
    "duration": 21,
    "start_time": "2022-12-17T19:58:41.850Z"
   },
   {
    "duration": 67,
    "start_time": "2022-12-17T19:58:41.872Z"
   },
   {
    "duration": 16,
    "start_time": "2022-12-17T19:58:41.941Z"
   },
   {
    "duration": 8,
    "start_time": "2022-12-17T19:58:41.958Z"
   },
   {
    "duration": 30,
    "start_time": "2022-12-17T19:58:41.968Z"
   },
   {
    "duration": 15,
    "start_time": "2022-12-17T19:58:41.999Z"
   },
   {
    "duration": 14,
    "start_time": "2022-12-17T19:58:42.015Z"
   },
   {
    "duration": 0,
    "start_time": "2022-12-17T19:58:42.031Z"
   },
   {
    "duration": 0,
    "start_time": "2022-12-17T19:58:42.033Z"
   },
   {
    "duration": 0,
    "start_time": "2022-12-17T19:58:42.035Z"
   },
   {
    "duration": 0,
    "start_time": "2022-12-17T19:58:42.036Z"
   },
   {
    "duration": 0,
    "start_time": "2022-12-17T19:58:42.037Z"
   },
   {
    "duration": 0,
    "start_time": "2022-12-17T19:58:42.039Z"
   },
   {
    "duration": 1,
    "start_time": "2022-12-17T19:58:42.040Z"
   },
   {
    "duration": 0,
    "start_time": "2022-12-17T19:58:42.042Z"
   },
   {
    "duration": 64,
    "start_time": "2022-12-17T19:58:54.327Z"
   },
   {
    "duration": 4,
    "start_time": "2022-12-17T19:58:57.696Z"
   },
   {
    "duration": 6,
    "start_time": "2022-12-17T19:59:02.062Z"
   },
   {
    "duration": 10,
    "start_time": "2022-12-17T19:59:04.157Z"
   },
   {
    "duration": 9,
    "start_time": "2022-12-17T19:59:06.383Z"
   },
   {
    "duration": 64,
    "start_time": "2022-12-17T19:59:13.602Z"
   },
   {
    "duration": 18,
    "start_time": "2022-12-17T19:59:16.889Z"
   },
   {
    "duration": 4,
    "start_time": "2022-12-17T19:59:19.219Z"
   },
   {
    "duration": 7,
    "start_time": "2022-12-17T19:59:21.981Z"
   },
   {
    "duration": 10,
    "start_time": "2022-12-17T19:59:23.688Z"
   },
   {
    "duration": 14,
    "start_time": "2022-12-17T19:59:30.502Z"
   },
   {
    "duration": 281,
    "start_time": "2022-12-17T19:59:33.957Z"
   },
   {
    "duration": 297,
    "start_time": "2022-12-17T19:59:35.960Z"
   },
   {
    "duration": 4,
    "start_time": "2022-12-17T19:59:53.059Z"
   },
   {
    "duration": 45,
    "start_time": "2022-12-17T19:59:53.064Z"
   },
   {
    "duration": 4,
    "start_time": "2022-12-17T19:59:53.111Z"
   },
   {
    "duration": 12,
    "start_time": "2022-12-17T19:59:53.117Z"
   },
   {
    "duration": 17,
    "start_time": "2022-12-17T19:59:53.130Z"
   },
   {
    "duration": 56,
    "start_time": "2022-12-17T19:59:53.148Z"
   },
   {
    "duration": 18,
    "start_time": "2022-12-17T19:59:53.206Z"
   },
   {
    "duration": 4,
    "start_time": "2022-12-17T19:59:53.225Z"
   },
   {
    "duration": 17,
    "start_time": "2022-12-17T19:59:53.231Z"
   },
   {
    "duration": 5,
    "start_time": "2022-12-17T19:59:53.249Z"
   },
   {
    "duration": 23,
    "start_time": "2022-12-17T19:59:53.256Z"
   },
   {
    "duration": 0,
    "start_time": "2022-12-17T19:59:53.280Z"
   },
   {
    "duration": 0,
    "start_time": "2022-12-17T19:59:53.282Z"
   },
   {
    "duration": 0,
    "start_time": "2022-12-17T19:59:53.282Z"
   },
   {
    "duration": 0,
    "start_time": "2022-12-17T19:59:53.284Z"
   },
   {
    "duration": 0,
    "start_time": "2022-12-17T19:59:53.285Z"
   },
   {
    "duration": 0,
    "start_time": "2022-12-17T19:59:53.312Z"
   },
   {
    "duration": 0,
    "start_time": "2022-12-17T19:59:53.313Z"
   },
   {
    "duration": 0,
    "start_time": "2022-12-17T19:59:53.314Z"
   },
   {
    "duration": 3,
    "start_time": "2022-12-17T20:00:11.733Z"
   },
   {
    "duration": 41,
    "start_time": "2022-12-17T20:00:22.476Z"
   },
   {
    "duration": 7,
    "start_time": "2022-12-17T20:00:26.328Z"
   },
   {
    "duration": 12,
    "start_time": "2022-12-17T20:00:29.454Z"
   },
   {
    "duration": 12,
    "start_time": "2022-12-17T20:00:32.336Z"
   },
   {
    "duration": 65,
    "start_time": "2022-12-17T20:00:36.312Z"
   },
   {
    "duration": 16,
    "start_time": "2022-12-17T20:00:38.663Z"
   },
   {
    "duration": 62,
    "start_time": "2022-12-17T20:00:47.052Z"
   },
   {
    "duration": 17,
    "start_time": "2022-12-17T20:00:48.296Z"
   },
   {
    "duration": 3,
    "start_time": "2022-12-17T20:00:51.265Z"
   },
   {
    "duration": 15,
    "start_time": "2022-12-17T20:00:56.251Z"
   },
   {
    "duration": 5,
    "start_time": "2022-12-17T20:01:00.580Z"
   },
   {
    "duration": 9,
    "start_time": "2022-12-17T20:01:07.580Z"
   },
   {
    "duration": 13,
    "start_time": "2022-12-17T20:01:11.886Z"
   },
   {
    "duration": 12,
    "start_time": "2022-12-17T20:01:15.632Z"
   },
   {
    "duration": 4,
    "start_time": "2022-12-17T20:01:18.507Z"
   },
   {
    "duration": 275,
    "start_time": "2022-12-17T20:01:25.854Z"
   },
   {
    "duration": 221,
    "start_time": "2022-12-17T20:01:27.822Z"
   },
   {
    "duration": 230,
    "start_time": "2022-12-17T20:01:40.756Z"
   },
   {
    "duration": 377,
    "start_time": "2022-12-17T20:01:50.491Z"
   },
   {
    "duration": 260,
    "start_time": "2022-12-17T20:01:54.684Z"
   },
   {
    "duration": 211,
    "start_time": "2022-12-17T20:02:15.661Z"
   },
   {
    "duration": 198,
    "start_time": "2022-12-17T20:10:25.533Z"
   },
   {
    "duration": 426,
    "start_time": "2022-12-17T20:15:15.824Z"
   },
   {
    "duration": 312,
    "start_time": "2022-12-17T20:16:08.631Z"
   },
   {
    "duration": 303,
    "start_time": "2022-12-17T20:16:42.066Z"
   },
   {
    "duration": 293,
    "start_time": "2022-12-17T20:17:11.152Z"
   },
   {
    "duration": 318,
    "start_time": "2022-12-17T20:17:37.423Z"
   },
   {
    "duration": 305,
    "start_time": "2022-12-17T20:17:53.259Z"
   },
   {
    "duration": 368,
    "start_time": "2022-12-17T20:19:56.311Z"
   },
   {
    "duration": 347,
    "start_time": "2022-12-17T20:20:05.377Z"
   },
   {
    "duration": 342,
    "start_time": "2022-12-17T20:20:21.678Z"
   },
   {
    "duration": 256,
    "start_time": "2022-12-17T20:24:35.962Z"
   },
   {
    "duration": 379,
    "start_time": "2022-12-17T20:25:24.591Z"
   },
   {
    "duration": 250,
    "start_time": "2022-12-17T20:25:42.587Z"
   },
   {
    "duration": 259,
    "start_time": "2022-12-17T20:26:18.138Z"
   },
   {
    "duration": 285,
    "start_time": "2022-12-17T20:26:29.068Z"
   },
   {
    "duration": 265,
    "start_time": "2022-12-17T20:26:45.258Z"
   },
   {
    "duration": 298,
    "start_time": "2022-12-17T20:27:03.811Z"
   },
   {
    "duration": 366,
    "start_time": "2022-12-17T20:28:00.634Z"
   },
   {
    "duration": 5,
    "start_time": "2022-12-17T20:32:23.363Z"
   },
   {
    "duration": 455,
    "start_time": "2022-12-17T20:36:08.934Z"
   },
   {
    "duration": 439,
    "start_time": "2022-12-17T20:36:46.655Z"
   },
   {
    "duration": 434,
    "start_time": "2022-12-17T20:37:40.440Z"
   },
   {
    "duration": 511,
    "start_time": "2022-12-17T20:38:00.039Z"
   },
   {
    "duration": 4,
    "start_time": "2022-12-17T20:41:35.979Z"
   },
   {
    "duration": 5,
    "start_time": "2022-12-17T20:42:12.375Z"
   },
   {
    "duration": 3,
    "start_time": "2022-12-17T20:48:52.775Z"
   },
   {
    "duration": 1168,
    "start_time": "2022-12-17T20:48:59.586Z"
   },
   {
    "duration": 48,
    "start_time": "2022-12-17T20:49:00.755Z"
   },
   {
    "duration": 4,
    "start_time": "2022-12-17T20:49:00.805Z"
   },
   {
    "duration": 26,
    "start_time": "2022-12-17T20:49:00.811Z"
   },
   {
    "duration": 11,
    "start_time": "2022-12-17T20:49:00.839Z"
   },
   {
    "duration": 66,
    "start_time": "2022-12-17T20:49:00.851Z"
   },
   {
    "duration": 18,
    "start_time": "2022-12-17T20:49:00.919Z"
   },
   {
    "duration": 4,
    "start_time": "2022-12-17T20:49:00.939Z"
   },
   {
    "duration": 24,
    "start_time": "2022-12-17T20:49:00.944Z"
   },
   {
    "duration": 9,
    "start_time": "2022-12-17T20:49:00.970Z"
   },
   {
    "duration": 39,
    "start_time": "2022-12-17T20:49:00.980Z"
   },
   {
    "duration": 21,
    "start_time": "2022-12-17T20:49:01.020Z"
   },
   {
    "duration": 16,
    "start_time": "2022-12-17T20:49:01.043Z"
   },
   {
    "duration": 7,
    "start_time": "2022-12-17T20:49:01.060Z"
   },
   {
    "duration": 326,
    "start_time": "2022-12-17T20:49:01.069Z"
   },
   {
    "duration": 324,
    "start_time": "2022-12-17T20:49:01.396Z"
   },
   {
    "duration": 231,
    "start_time": "2022-12-17T20:49:01.722Z"
   },
   {
    "duration": 311,
    "start_time": "2022-12-17T20:49:01.955Z"
   },
   {
    "duration": 215,
    "start_time": "2022-12-17T20:49:02.268Z"
   },
   {
    "duration": 333,
    "start_time": "2022-12-17T20:49:02.485Z"
   },
   {
    "duration": 290,
    "start_time": "2022-12-17T20:49:02.820Z"
   },
   {
    "duration": 6,
    "start_time": "2022-12-17T20:49:03.113Z"
   },
   {
    "duration": 484,
    "start_time": "2022-12-17T20:49:03.121Z"
   },
   {
    "duration": 6,
    "start_time": "2022-12-17T20:49:03.611Z"
   },
   {
    "duration": 99,
    "start_time": "2022-12-17T20:54:44.563Z"
   },
   {
    "duration": 23,
    "start_time": "2022-12-17T20:55:25.672Z"
   },
   {
    "duration": 56,
    "start_time": "2022-12-17T20:55:37.348Z"
   },
   {
    "duration": 56,
    "start_time": "2022-12-17T20:57:07.272Z"
   },
   {
    "duration": 52,
    "start_time": "2022-12-17T20:57:22.615Z"
   },
   {
    "duration": 12,
    "start_time": "2022-12-17T20:59:55.295Z"
   },
   {
    "duration": 11,
    "start_time": "2022-12-17T21:00:07.663Z"
   },
   {
    "duration": 4,
    "start_time": "2022-12-17T21:02:02.527Z"
   },
   {
    "duration": 706,
    "start_time": "2022-12-17T21:02:29.043Z"
   },
   {
    "duration": 9,
    "start_time": "2022-12-17T21:02:49.774Z"
   },
   {
    "duration": 25,
    "start_time": "2022-12-17T21:04:00.536Z"
   },
   {
    "duration": 30,
    "start_time": "2022-12-17T21:04:49.235Z"
   },
   {
    "duration": 45,
    "start_time": "2022-12-17T21:08:59.775Z"
   },
   {
    "duration": 46,
    "start_time": "2022-12-17T21:11:38.315Z"
   },
   {
    "duration": 717,
    "start_time": "2022-12-17T21:14:17.896Z"
   },
   {
    "duration": 14,
    "start_time": "2022-12-17T21:14:47.654Z"
   },
   {
    "duration": 2852,
    "start_time": "2022-12-17T21:53:49.049Z"
   },
   {
    "duration": 69,
    "start_time": "2022-12-17T21:53:51.905Z"
   },
   {
    "duration": 7,
    "start_time": "2022-12-17T21:53:51.977Z"
   },
   {
    "duration": 25,
    "start_time": "2022-12-17T21:53:51.986Z"
   },
   {
    "duration": 17,
    "start_time": "2022-12-17T21:53:52.014Z"
   },
   {
    "duration": 68,
    "start_time": "2022-12-17T21:53:52.036Z"
   },
   {
    "duration": 24,
    "start_time": "2022-12-17T21:53:52.107Z"
   },
   {
    "duration": 46,
    "start_time": "2022-12-17T21:53:52.133Z"
   },
   {
    "duration": 27,
    "start_time": "2022-12-17T21:53:52.182Z"
   },
   {
    "duration": 33,
    "start_time": "2022-12-17T21:53:52.212Z"
   },
   {
    "duration": 20,
    "start_time": "2022-12-17T21:53:52.248Z"
   },
   {
    "duration": 16,
    "start_time": "2022-12-17T21:53:52.271Z"
   },
   {
    "duration": 24,
    "start_time": "2022-12-17T21:53:52.289Z"
   },
   {
    "duration": 10,
    "start_time": "2022-12-17T21:53:52.316Z"
   },
   {
    "duration": 503,
    "start_time": "2022-12-17T21:53:52.330Z"
   },
   {
    "duration": 475,
    "start_time": "2022-12-17T21:53:52.837Z"
   },
   {
    "duration": 330,
    "start_time": "2022-12-17T21:53:53.314Z"
   },
   {
    "duration": 556,
    "start_time": "2022-12-17T21:53:53.647Z"
   },
   {
    "duration": 298,
    "start_time": "2022-12-17T21:53:54.207Z"
   },
   {
    "duration": 403,
    "start_time": "2022-12-17T21:53:54.513Z"
   },
   {
    "duration": 464,
    "start_time": "2022-12-17T21:53:54.919Z"
   },
   {
    "duration": 7,
    "start_time": "2022-12-17T21:53:55.386Z"
   },
   {
    "duration": 689,
    "start_time": "2022-12-17T21:53:55.396Z"
   },
   {
    "duration": 10,
    "start_time": "2022-12-17T21:53:56.088Z"
   },
   {
    "duration": 78,
    "start_time": "2022-12-17T21:53:56.100Z"
   },
   {
    "duration": 14,
    "start_time": "2022-12-17T21:53:56.184Z"
   },
   {
    "duration": 86,
    "start_time": "2022-12-17T21:53:56.199Z"
   },
   {
    "duration": 40,
    "start_time": "2022-12-17T21:53:56.288Z"
   },
   {
    "duration": 89,
    "start_time": "2022-12-17T21:53:56.331Z"
   },
   {
    "duration": 30,
    "start_time": "2022-12-17T21:53:56.423Z"
   },
   {
    "duration": 1033,
    "start_time": "2022-12-18T20:16:47.032Z"
   },
   {
    "duration": 44,
    "start_time": "2022-12-18T20:16:48.067Z"
   },
   {
    "duration": 4,
    "start_time": "2022-12-18T20:16:48.112Z"
   },
   {
    "duration": 13,
    "start_time": "2022-12-18T20:16:48.117Z"
   },
   {
    "duration": 10,
    "start_time": "2022-12-18T20:16:48.132Z"
   },
   {
    "duration": 54,
    "start_time": "2022-12-18T20:16:48.144Z"
   },
   {
    "duration": 15,
    "start_time": "2022-12-18T20:16:48.200Z"
   },
   {
    "duration": 3,
    "start_time": "2022-12-18T20:16:48.217Z"
   },
   {
    "duration": 22,
    "start_time": "2022-12-18T20:16:48.222Z"
   },
   {
    "duration": 6,
    "start_time": "2022-12-18T20:16:48.246Z"
   },
   {
    "duration": 14,
    "start_time": "2022-12-18T20:16:48.254Z"
   },
   {
    "duration": 19,
    "start_time": "2022-12-18T20:16:48.269Z"
   },
   {
    "duration": 11,
    "start_time": "2022-12-18T20:16:48.289Z"
   },
   {
    "duration": 6,
    "start_time": "2022-12-18T20:16:48.302Z"
   },
   {
    "duration": 283,
    "start_time": "2022-12-18T20:16:48.309Z"
   },
   {
    "duration": 275,
    "start_time": "2022-12-18T20:16:48.594Z"
   },
   {
    "duration": 249,
    "start_time": "2022-12-18T20:16:48.870Z"
   },
   {
    "duration": 318,
    "start_time": "2022-12-18T20:16:49.121Z"
   },
   {
    "duration": 206,
    "start_time": "2022-12-18T20:16:49.440Z"
   },
   {
    "duration": 340,
    "start_time": "2022-12-18T20:16:49.647Z"
   },
   {
    "duration": 281,
    "start_time": "2022-12-18T20:16:49.989Z"
   },
   {
    "duration": 10,
    "start_time": "2022-12-18T20:16:50.271Z"
   },
   {
    "duration": 478,
    "start_time": "2022-12-18T20:16:50.282Z"
   },
   {
    "duration": 5,
    "start_time": "2022-12-18T20:16:50.762Z"
   },
   {
    "duration": 44,
    "start_time": "2022-12-18T20:16:50.778Z"
   },
   {
    "duration": 11,
    "start_time": "2022-12-18T20:16:50.824Z"
   },
   {
    "duration": 6,
    "start_time": "2022-12-18T20:16:50.837Z"
   },
   {
    "duration": 13,
    "start_time": "2022-12-18T20:16:50.846Z"
   },
   {
    "duration": 26,
    "start_time": "2022-12-18T20:16:50.878Z"
   },
   {
    "duration": 13,
    "start_time": "2022-12-18T20:16:50.906Z"
   },
   {
    "duration": 56,
    "start_time": "2022-12-19T12:17:35.695Z"
   },
   {
    "duration": 1405,
    "start_time": "2022-12-19T12:17:52.114Z"
   },
   {
    "duration": 93,
    "start_time": "2022-12-19T12:17:53.523Z"
   },
   {
    "duration": 5,
    "start_time": "2022-12-19T12:17:53.618Z"
   },
   {
    "duration": 31,
    "start_time": "2022-12-19T12:17:53.626Z"
   },
   {
    "duration": 15,
    "start_time": "2022-12-19T12:17:53.659Z"
   },
   {
    "duration": 170,
    "start_time": "2022-12-19T12:17:53.676Z"
   },
   {
    "duration": 19,
    "start_time": "2022-12-19T12:17:53.848Z"
   },
   {
    "duration": 5,
    "start_time": "2022-12-19T12:17:53.869Z"
   },
   {
    "duration": 34,
    "start_time": "2022-12-19T12:17:53.876Z"
   },
   {
    "duration": 6,
    "start_time": "2022-12-19T12:17:53.913Z"
   },
   {
    "duration": 22,
    "start_time": "2022-12-19T12:17:53.921Z"
   },
   {
    "duration": 19,
    "start_time": "2022-12-19T12:17:53.945Z"
   },
   {
    "duration": 40,
    "start_time": "2022-12-19T12:17:53.966Z"
   },
   {
    "duration": 20,
    "start_time": "2022-12-19T12:17:54.008Z"
   },
   {
    "duration": 300,
    "start_time": "2022-12-19T12:17:54.031Z"
   },
   {
    "duration": 347,
    "start_time": "2022-12-19T12:17:54.337Z"
   },
   {
    "duration": 318,
    "start_time": "2022-12-19T12:17:54.686Z"
   },
   {
    "duration": 412,
    "start_time": "2022-12-19T12:17:55.006Z"
   },
   {
    "duration": 52,
    "start_time": "2022-12-19T12:17:55.419Z"
   },
   {
    "duration": 0,
    "start_time": "2022-12-19T12:17:55.473Z"
   },
   {
    "duration": 0,
    "start_time": "2022-12-19T12:17:55.475Z"
   },
   {
    "duration": 0,
    "start_time": "2022-12-19T12:17:55.477Z"
   },
   {
    "duration": 0,
    "start_time": "2022-12-19T12:17:55.479Z"
   },
   {
    "duration": 0,
    "start_time": "2022-12-19T12:17:55.480Z"
   },
   {
    "duration": 0,
    "start_time": "2022-12-19T12:17:55.482Z"
   },
   {
    "duration": 0,
    "start_time": "2022-12-19T12:17:55.484Z"
   },
   {
    "duration": 0,
    "start_time": "2022-12-19T12:17:55.485Z"
   },
   {
    "duration": 0,
    "start_time": "2022-12-19T12:17:55.488Z"
   },
   {
    "duration": 0,
    "start_time": "2022-12-19T12:17:55.489Z"
   },
   {
    "duration": 0,
    "start_time": "2022-12-19T12:17:55.491Z"
   },
   {
    "duration": 227,
    "start_time": "2022-12-19T12:18:11.029Z"
   },
   {
    "duration": 49,
    "start_time": "2022-12-19T12:20:18.422Z"
   },
   {
    "duration": 315,
    "start_time": "2022-12-19T12:21:47.559Z"
   },
   {
    "duration": 300,
    "start_time": "2022-12-19T12:22:14.804Z"
   },
   {
    "duration": 420,
    "start_time": "2022-12-19T12:23:52.436Z"
   },
   {
    "duration": 328,
    "start_time": "2022-12-19T12:24:55.727Z"
   },
   {
    "duration": 57,
    "start_time": "2022-12-19T12:25:23.043Z"
   },
   {
    "duration": 1109,
    "start_time": "2022-12-20T10:54:48.228Z"
   },
   {
    "duration": 47,
    "start_time": "2022-12-20T10:54:49.339Z"
   },
   {
    "duration": 4,
    "start_time": "2022-12-20T10:54:49.388Z"
   },
   {
    "duration": 23,
    "start_time": "2022-12-20T10:54:49.394Z"
   },
   {
    "duration": 25,
    "start_time": "2022-12-20T10:54:49.418Z"
   },
   {
    "duration": 68,
    "start_time": "2022-12-20T10:54:49.445Z"
   },
   {
    "duration": 16,
    "start_time": "2022-12-20T10:54:49.515Z"
   },
   {
    "duration": 9,
    "start_time": "2022-12-20T10:54:49.533Z"
   },
   {
    "duration": 47,
    "start_time": "2022-12-20T10:54:49.543Z"
   },
   {
    "duration": 6,
    "start_time": "2022-12-20T10:54:49.593Z"
   },
   {
    "duration": 14,
    "start_time": "2022-12-20T10:54:49.601Z"
   },
   {
    "duration": 21,
    "start_time": "2022-12-20T10:54:49.616Z"
   },
   {
    "duration": 56,
    "start_time": "2022-12-20T10:54:49.638Z"
   },
   {
    "duration": 13,
    "start_time": "2022-12-20T10:54:49.695Z"
   },
   {
    "duration": 305,
    "start_time": "2022-12-20T10:54:49.710Z"
   },
   {
    "duration": 338,
    "start_time": "2022-12-20T10:54:50.017Z"
   },
   {
    "duration": 252,
    "start_time": "2022-12-20T10:54:50.357Z"
   },
   {
    "duration": 354,
    "start_time": "2022-12-20T10:54:50.611Z"
   },
   {
    "duration": 231,
    "start_time": "2022-12-20T10:54:50.967Z"
   },
   {
    "duration": 371,
    "start_time": "2022-12-20T10:54:51.200Z"
   },
   {
    "duration": 358,
    "start_time": "2022-12-20T10:54:51.573Z"
   },
   {
    "duration": 6,
    "start_time": "2022-12-20T10:54:51.935Z"
   },
   {
    "duration": 549,
    "start_time": "2022-12-20T10:54:51.942Z"
   },
   {
    "duration": 7,
    "start_time": "2022-12-20T10:54:52.494Z"
   },
   {
    "duration": 78,
    "start_time": "2022-12-20T10:54:52.504Z"
   },
   {
    "duration": 15,
    "start_time": "2022-12-20T10:54:52.584Z"
   },
   {
    "duration": 33,
    "start_time": "2022-12-20T10:54:52.601Z"
   },
   {
    "duration": 19,
    "start_time": "2022-12-20T10:54:52.638Z"
   },
   {
    "duration": 43,
    "start_time": "2022-12-20T10:54:52.658Z"
   },
   {
    "duration": 18,
    "start_time": "2022-12-20T10:54:52.703Z"
   },
   {
    "duration": 46,
    "start_time": "2022-12-20T11:07:17.737Z"
   },
   {
    "duration": 59,
    "start_time": "2022-12-20T11:14:13.996Z"
   },
   {
    "duration": 52,
    "start_time": "2022-12-20T11:15:25.168Z"
   },
   {
    "duration": 11,
    "start_time": "2022-12-20T11:15:49.810Z"
   },
   {
    "duration": 52,
    "start_time": "2022-12-20T11:19:34.013Z"
   },
   {
    "duration": 58,
    "start_time": "2022-12-20T11:23:52.370Z"
   },
   {
    "duration": 41,
    "start_time": "2022-12-20T11:27:32.426Z"
   },
   {
    "duration": 26,
    "start_time": "2022-12-20T11:28:04.693Z"
   },
   {
    "duration": 21,
    "start_time": "2022-12-20T11:30:36.734Z"
   },
   {
    "duration": 9,
    "start_time": "2022-12-20T11:58:26.620Z"
   },
   {
    "duration": 7,
    "start_time": "2022-12-20T12:11:48.971Z"
   },
   {
    "duration": 6,
    "start_time": "2022-12-20T12:12:06.094Z"
   },
   {
    "duration": 92,
    "start_time": "2022-12-20T12:12:27.757Z"
   },
   {
    "duration": 7,
    "start_time": "2022-12-20T12:12:31.263Z"
   },
   {
    "duration": 9,
    "start_time": "2022-12-20T12:13:17.794Z"
   },
   {
    "duration": 6,
    "start_time": "2022-12-20T12:13:28.106Z"
   },
   {
    "duration": 6,
    "start_time": "2022-12-20T12:14:16.952Z"
   },
   {
    "duration": 6,
    "start_time": "2022-12-20T12:14:27.865Z"
   },
   {
    "duration": 8,
    "start_time": "2022-12-20T12:14:35.065Z"
   },
   {
    "duration": 6,
    "start_time": "2022-12-20T12:14:45.054Z"
   },
   {
    "duration": 3,
    "start_time": "2022-12-20T12:15:08.709Z"
   },
   {
    "duration": 585,
    "start_time": "2022-12-20T12:15:13.854Z"
   },
   {
    "duration": 12,
    "start_time": "2022-12-20T12:15:40.719Z"
   },
   {
    "duration": 10,
    "start_time": "2022-12-20T12:15:44.335Z"
   },
   {
    "duration": 12,
    "start_time": "2022-12-20T12:16:05.229Z"
   },
   {
    "duration": 6,
    "start_time": "2022-12-20T12:16:07.273Z"
   },
   {
    "duration": 10,
    "start_time": "2022-12-20T12:16:47.162Z"
   },
   {
    "duration": 7,
    "start_time": "2022-12-20T12:18:51.542Z"
   },
   {
    "duration": 9,
    "start_time": "2022-12-20T12:18:56.174Z"
   },
   {
    "duration": 8,
    "start_time": "2022-12-20T12:18:58.022Z"
   },
   {
    "duration": 5,
    "start_time": "2022-12-20T12:19:25.181Z"
   },
   {
    "duration": 10,
    "start_time": "2022-12-20T12:19:33.681Z"
   },
   {
    "duration": 56,
    "start_time": "2022-12-20T12:30:39.178Z"
   },
   {
    "duration": 68,
    "start_time": "2022-12-20T12:30:44.981Z"
   }
  ],
  "kernelspec": {
   "display_name": "Python 3 (ipykernel)",
   "language": "python",
   "name": "python3"
  },
  "language_info": {
   "codemirror_mode": {
    "name": "ipython",
    "version": 3
   },
   "file_extension": ".py",
   "mimetype": "text/x-python",
   "name": "python",
   "nbconvert_exporter": "python",
   "pygments_lexer": "ipython3",
   "version": "3.9.5"
  },
  "toc": {
   "base_numbering": 1,
   "nav_menu": {},
   "number_sections": true,
   "sideBar": true,
   "skip_h1_title": true,
   "title_cell": "Содержание",
   "title_sidebar": "Содержание",
   "toc_cell": true,
   "toc_position": {},
   "toc_section_display": true,
   "toc_window_display": false
  }
 },
 "nbformat": 4,
 "nbformat_minor": 2
}
