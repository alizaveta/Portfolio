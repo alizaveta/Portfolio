{
 "cells": [
  {
   "cell_type": "markdown",
   "id": "0b15e6d1",
   "metadata": {},
   "source": [
    "# Исследование надежности заемщиков."
   ]
  },
  {
   "cell_type": "markdown",
   "id": "484ccdc8",
   "metadata": {},
   "source": [
    "## Обзор данных\n",
    "\n",
    "Заказчик — кредитный отдел банка. Нужно разобраться, влияет ли семейное положение и количество детей клиента на факт погашения кредита в срок.\n",
    "\n",
    "Входные данные от банка — статистика о платёжеспособности клиентов.\n",
    "\n"
   ]
  },
  {
   "cell_type": "code",
   "execution_count": 257,
   "id": "a54c8b59",
   "metadata": {
    "scrolled": true
   },
   "outputs": [
    {
     "data": {
      "text/html": [
       "<div>\n",
       "<style scoped>\n",
       "    .dataframe tbody tr th:only-of-type {\n",
       "        vertical-align: middle;\n",
       "    }\n",
       "\n",
       "    .dataframe tbody tr th {\n",
       "        vertical-align: top;\n",
       "    }\n",
       "\n",
       "    .dataframe thead th {\n",
       "        text-align: right;\n",
       "    }\n",
       "</style>\n",
       "<table border=\"1\" class=\"dataframe\">\n",
       "  <thead>\n",
       "    <tr style=\"text-align: right;\">\n",
       "      <th></th>\n",
       "      <th>children</th>\n",
       "      <th>days_employed</th>\n",
       "      <th>dob_years</th>\n",
       "      <th>education</th>\n",
       "      <th>education_id</th>\n",
       "      <th>family_status</th>\n",
       "      <th>family_status_id</th>\n",
       "      <th>gender</th>\n",
       "      <th>income_type</th>\n",
       "      <th>debt</th>\n",
       "      <th>total_income</th>\n",
       "      <th>purpose</th>\n",
       "    </tr>\n",
       "  </thead>\n",
       "  <tbody>\n",
       "    <tr>\n",
       "      <th>0</th>\n",
       "      <td>1</td>\n",
       "      <td>-8437.673028</td>\n",
       "      <td>42</td>\n",
       "      <td>высшее</td>\n",
       "      <td>0</td>\n",
       "      <td>женат / замужем</td>\n",
       "      <td>0</td>\n",
       "      <td>F</td>\n",
       "      <td>сотрудник</td>\n",
       "      <td>0</td>\n",
       "      <td>253875.639453</td>\n",
       "      <td>покупка жилья</td>\n",
       "    </tr>\n",
       "    <tr>\n",
       "      <th>1</th>\n",
       "      <td>1</td>\n",
       "      <td>-4024.803754</td>\n",
       "      <td>36</td>\n",
       "      <td>среднее</td>\n",
       "      <td>1</td>\n",
       "      <td>женат / замужем</td>\n",
       "      <td>0</td>\n",
       "      <td>F</td>\n",
       "      <td>сотрудник</td>\n",
       "      <td>0</td>\n",
       "      <td>112080.014102</td>\n",
       "      <td>приобретение автомобиля</td>\n",
       "    </tr>\n",
       "    <tr>\n",
       "      <th>2</th>\n",
       "      <td>0</td>\n",
       "      <td>-5623.422610</td>\n",
       "      <td>33</td>\n",
       "      <td>Среднее</td>\n",
       "      <td>1</td>\n",
       "      <td>женат / замужем</td>\n",
       "      <td>0</td>\n",
       "      <td>M</td>\n",
       "      <td>сотрудник</td>\n",
       "      <td>0</td>\n",
       "      <td>145885.952297</td>\n",
       "      <td>покупка жилья</td>\n",
       "    </tr>\n",
       "    <tr>\n",
       "      <th>3</th>\n",
       "      <td>3</td>\n",
       "      <td>-4124.747207</td>\n",
       "      <td>32</td>\n",
       "      <td>среднее</td>\n",
       "      <td>1</td>\n",
       "      <td>женат / замужем</td>\n",
       "      <td>0</td>\n",
       "      <td>M</td>\n",
       "      <td>сотрудник</td>\n",
       "      <td>0</td>\n",
       "      <td>267628.550329</td>\n",
       "      <td>дополнительное образование</td>\n",
       "    </tr>\n",
       "    <tr>\n",
       "      <th>4</th>\n",
       "      <td>0</td>\n",
       "      <td>340266.072047</td>\n",
       "      <td>53</td>\n",
       "      <td>среднее</td>\n",
       "      <td>1</td>\n",
       "      <td>гражданский брак</td>\n",
       "      <td>1</td>\n",
       "      <td>F</td>\n",
       "      <td>пенсионер</td>\n",
       "      <td>0</td>\n",
       "      <td>158616.077870</td>\n",
       "      <td>сыграть свадьбу</td>\n",
       "    </tr>\n",
       "    <tr>\n",
       "      <th>5</th>\n",
       "      <td>0</td>\n",
       "      <td>-926.185831</td>\n",
       "      <td>27</td>\n",
       "      <td>высшее</td>\n",
       "      <td>0</td>\n",
       "      <td>гражданский брак</td>\n",
       "      <td>1</td>\n",
       "      <td>M</td>\n",
       "      <td>компаньон</td>\n",
       "      <td>0</td>\n",
       "      <td>255763.565419</td>\n",
       "      <td>покупка жилья</td>\n",
       "    </tr>\n",
       "    <tr>\n",
       "      <th>6</th>\n",
       "      <td>0</td>\n",
       "      <td>-2879.202052</td>\n",
       "      <td>43</td>\n",
       "      <td>высшее</td>\n",
       "      <td>0</td>\n",
       "      <td>женат / замужем</td>\n",
       "      <td>0</td>\n",
       "      <td>F</td>\n",
       "      <td>компаньон</td>\n",
       "      <td>0</td>\n",
       "      <td>240525.971920</td>\n",
       "      <td>операции с жильем</td>\n",
       "    </tr>\n",
       "    <tr>\n",
       "      <th>7</th>\n",
       "      <td>0</td>\n",
       "      <td>-152.779569</td>\n",
       "      <td>50</td>\n",
       "      <td>СРЕДНЕЕ</td>\n",
       "      <td>1</td>\n",
       "      <td>женат / замужем</td>\n",
       "      <td>0</td>\n",
       "      <td>M</td>\n",
       "      <td>сотрудник</td>\n",
       "      <td>0</td>\n",
       "      <td>135823.934197</td>\n",
       "      <td>образование</td>\n",
       "    </tr>\n",
       "    <tr>\n",
       "      <th>8</th>\n",
       "      <td>2</td>\n",
       "      <td>-6929.865299</td>\n",
       "      <td>35</td>\n",
       "      <td>ВЫСШЕЕ</td>\n",
       "      <td>0</td>\n",
       "      <td>гражданский брак</td>\n",
       "      <td>1</td>\n",
       "      <td>F</td>\n",
       "      <td>сотрудник</td>\n",
       "      <td>0</td>\n",
       "      <td>95856.832424</td>\n",
       "      <td>на проведение свадьбы</td>\n",
       "    </tr>\n",
       "    <tr>\n",
       "      <th>9</th>\n",
       "      <td>0</td>\n",
       "      <td>-2188.756445</td>\n",
       "      <td>41</td>\n",
       "      <td>среднее</td>\n",
       "      <td>1</td>\n",
       "      <td>женат / замужем</td>\n",
       "      <td>0</td>\n",
       "      <td>M</td>\n",
       "      <td>сотрудник</td>\n",
       "      <td>0</td>\n",
       "      <td>144425.938277</td>\n",
       "      <td>покупка жилья для семьи</td>\n",
       "    </tr>\n",
       "    <tr>\n",
       "      <th>10</th>\n",
       "      <td>2</td>\n",
       "      <td>-4171.483647</td>\n",
       "      <td>36</td>\n",
       "      <td>высшее</td>\n",
       "      <td>0</td>\n",
       "      <td>женат / замужем</td>\n",
       "      <td>0</td>\n",
       "      <td>M</td>\n",
       "      <td>компаньон</td>\n",
       "      <td>0</td>\n",
       "      <td>113943.491460</td>\n",
       "      <td>покупка недвижимости</td>\n",
       "    </tr>\n",
       "    <tr>\n",
       "      <th>11</th>\n",
       "      <td>0</td>\n",
       "      <td>-792.701887</td>\n",
       "      <td>40</td>\n",
       "      <td>среднее</td>\n",
       "      <td>1</td>\n",
       "      <td>женат / замужем</td>\n",
       "      <td>0</td>\n",
       "      <td>F</td>\n",
       "      <td>сотрудник</td>\n",
       "      <td>0</td>\n",
       "      <td>77069.234271</td>\n",
       "      <td>покупка коммерческой недвижимости</td>\n",
       "    </tr>\n",
       "    <tr>\n",
       "      <th>12</th>\n",
       "      <td>0</td>\n",
       "      <td>NaN</td>\n",
       "      <td>65</td>\n",
       "      <td>среднее</td>\n",
       "      <td>1</td>\n",
       "      <td>гражданский брак</td>\n",
       "      <td>1</td>\n",
       "      <td>M</td>\n",
       "      <td>пенсионер</td>\n",
       "      <td>0</td>\n",
       "      <td>NaN</td>\n",
       "      <td>сыграть свадьбу</td>\n",
       "    </tr>\n",
       "    <tr>\n",
       "      <th>13</th>\n",
       "      <td>0</td>\n",
       "      <td>-1846.641941</td>\n",
       "      <td>54</td>\n",
       "      <td>неоконченное высшее</td>\n",
       "      <td>2</td>\n",
       "      <td>женат / замужем</td>\n",
       "      <td>0</td>\n",
       "      <td>F</td>\n",
       "      <td>сотрудник</td>\n",
       "      <td>0</td>\n",
       "      <td>130458.228857</td>\n",
       "      <td>приобретение автомобиля</td>\n",
       "    </tr>\n",
       "    <tr>\n",
       "      <th>14</th>\n",
       "      <td>0</td>\n",
       "      <td>-1844.956182</td>\n",
       "      <td>56</td>\n",
       "      <td>высшее</td>\n",
       "      <td>0</td>\n",
       "      <td>гражданский брак</td>\n",
       "      <td>1</td>\n",
       "      <td>F</td>\n",
       "      <td>компаньон</td>\n",
       "      <td>1</td>\n",
       "      <td>165127.911772</td>\n",
       "      <td>покупка жилой недвижимости</td>\n",
       "    </tr>\n",
       "  </tbody>\n",
       "</table>\n",
       "</div>"
      ],
      "text/plain": [
       "    children  days_employed  dob_years            education  education_id  \\\n",
       "0          1   -8437.673028         42               высшее             0   \n",
       "1          1   -4024.803754         36              среднее             1   \n",
       "2          0   -5623.422610         33              Среднее             1   \n",
       "3          3   -4124.747207         32              среднее             1   \n",
       "4          0  340266.072047         53              среднее             1   \n",
       "5          0    -926.185831         27               высшее             0   \n",
       "6          0   -2879.202052         43               высшее             0   \n",
       "7          0    -152.779569         50              СРЕДНЕЕ             1   \n",
       "8          2   -6929.865299         35               ВЫСШЕЕ             0   \n",
       "9          0   -2188.756445         41              среднее             1   \n",
       "10         2   -4171.483647         36               высшее             0   \n",
       "11         0    -792.701887         40              среднее             1   \n",
       "12         0            NaN         65              среднее             1   \n",
       "13         0   -1846.641941         54  неоконченное высшее             2   \n",
       "14         0   -1844.956182         56               высшее             0   \n",
       "\n",
       "       family_status  family_status_id gender income_type  debt  \\\n",
       "0    женат / замужем                 0      F   сотрудник     0   \n",
       "1    женат / замужем                 0      F   сотрудник     0   \n",
       "2    женат / замужем                 0      M   сотрудник     0   \n",
       "3    женат / замужем                 0      M   сотрудник     0   \n",
       "4   гражданский брак                 1      F   пенсионер     0   \n",
       "5   гражданский брак                 1      M   компаньон     0   \n",
       "6    женат / замужем                 0      F   компаньон     0   \n",
       "7    женат / замужем                 0      M   сотрудник     0   \n",
       "8   гражданский брак                 1      F   сотрудник     0   \n",
       "9    женат / замужем                 0      M   сотрудник     0   \n",
       "10   женат / замужем                 0      M   компаньон     0   \n",
       "11   женат / замужем                 0      F   сотрудник     0   \n",
       "12  гражданский брак                 1      M   пенсионер     0   \n",
       "13   женат / замужем                 0      F   сотрудник     0   \n",
       "14  гражданский брак                 1      F   компаньон     1   \n",
       "\n",
       "     total_income                            purpose  \n",
       "0   253875.639453                      покупка жилья  \n",
       "1   112080.014102            приобретение автомобиля  \n",
       "2   145885.952297                      покупка жилья  \n",
       "3   267628.550329         дополнительное образование  \n",
       "4   158616.077870                    сыграть свадьбу  \n",
       "5   255763.565419                      покупка жилья  \n",
       "6   240525.971920                  операции с жильем  \n",
       "7   135823.934197                        образование  \n",
       "8    95856.832424              на проведение свадьбы  \n",
       "9   144425.938277            покупка жилья для семьи  \n",
       "10  113943.491460               покупка недвижимости  \n",
       "11   77069.234271  покупка коммерческой недвижимости  \n",
       "12            NaN                    сыграть свадьбу  \n",
       "13  130458.228857            приобретение автомобиля  \n",
       "14  165127.911772         покупка жилой недвижимости  "
      ]
     },
     "execution_count": 257,
     "metadata": {},
     "output_type": "execute_result"
    }
   ],
   "source": [
    "import pandas as pd\n",
    "data = pd.read_csv('/datasets/data.csv')\n",
    "data.head(15) #выведем на экран первые 15 строк таблицы"
   ]
  },
  {
   "cell_type": "markdown",
   "id": "846fbffd",
   "metadata": {},
   "source": [
    "В датасете **12 столбцов**:\n",
    "\n",
    "* **children** — количество детей в семье\n",
    "* **days_employed** — общий трудовой стаж в днях\n",
    "* **dob_years** — возраст клиента в годах\n",
    "* **education** — уровень образования клиента\n",
    "* **education_id** — идентификатор уровня образования\n",
    "* **family_status** — семейное положение\n",
    "* **family_status_id** — идентификатор семейного положения\n",
    "* **gender** — пол клиента\n",
    "* **income_type** — тип занятости\n",
    "* **debt** — имел ли задолженность по возврату кредитов\n",
    "* **total_income** — ежемесячный доход\n",
    "* **purpose** — цель получения кредита"
   ]
  },
  {
   "cell_type": "code",
   "execution_count": 258,
   "id": "dee031ab",
   "metadata": {},
   "outputs": [
    {
     "name": "stdout",
     "output_type": "stream",
     "text": [
      "<class 'pandas.core.frame.DataFrame'>\n",
      "RangeIndex: 21525 entries, 0 to 21524\n",
      "Data columns (total 12 columns):\n",
      " #   Column            Non-Null Count  Dtype  \n",
      "---  ------            --------------  -----  \n",
      " 0   children          21525 non-null  int64  \n",
      " 1   days_employed     19351 non-null  float64\n",
      " 2   dob_years         21525 non-null  int64  \n",
      " 3   education         21525 non-null  object \n",
      " 4   education_id      21525 non-null  int64  \n",
      " 5   family_status     21525 non-null  object \n",
      " 6   family_status_id  21525 non-null  int64  \n",
      " 7   gender            21525 non-null  object \n",
      " 8   income_type       21525 non-null  object \n",
      " 9   debt              21525 non-null  int64  \n",
      " 10  total_income      19351 non-null  float64\n",
      " 11  purpose           21525 non-null  object \n",
      "dtypes: float64(2), int64(5), object(5)\n",
      "memory usage: 2.0+ MB\n"
     ]
    }
   ],
   "source": [
    "data.info() #общие сведения о таблице"
   ]
  },
  {
   "cell_type": "code",
   "execution_count": 259,
   "id": "1e76fee1",
   "metadata": {},
   "outputs": [
    {
     "name": "stdout",
     "output_type": "stream",
     "text": [
      "Количество пропущенных значений в столбце days_employed:  2174\n",
      "Количество пропущенных значений в столбце total_income:  2174\n"
     ]
    }
   ],
   "source": [
    "print('Количество пропущенных значений в столбце days_employed: ', len(data[data['days_employed'].isna()]))\n",
    "print('Количество пропущенных значений в столбце total_income: ', len(data[data['total_income'].isna()]))"
   ]
  },
  {
   "cell_type": "markdown",
   "id": "24620879",
   "metadata": {},
   "source": [
    "В столбце **days_employed** и **total_income** есть пропуски и их количество совпадает. Вероятно пропуски в данных о доходах связаны с отсутсвием данных о трудовом стаже."
   ]
  },
  {
   "cell_type": "code",
   "execution_count": 260,
   "id": "c7f6a01c",
   "metadata": {},
   "outputs": [
    {
     "name": "stdout",
     "output_type": "stream",
     "text": [
      "<class 'pandas.core.frame.DataFrame'>\n",
      "Int64Index: 2174 entries, 12 to 21510\n",
      "Data columns (total 12 columns):\n",
      " #   Column            Non-Null Count  Dtype  \n",
      "---  ------            --------------  -----  \n",
      " 0   children          2174 non-null   int64  \n",
      " 1   days_employed     0 non-null      float64\n",
      " 2   dob_years         2174 non-null   int64  \n",
      " 3   education         2174 non-null   object \n",
      " 4   education_id      2174 non-null   int64  \n",
      " 5   family_status     2174 non-null   object \n",
      " 6   family_status_id  2174 non-null   int64  \n",
      " 7   gender            2174 non-null   object \n",
      " 8   income_type       2174 non-null   object \n",
      " 9   debt              2174 non-null   int64  \n",
      " 10  total_income      0 non-null      float64\n",
      " 11  purpose           2174 non-null   object \n",
      "dtypes: float64(2), int64(5), object(5)\n",
      "memory usage: 220.8+ KB\n"
     ]
    }
   ],
   "source": [
    "data[(data['days_employed'].isna()) & (data['total_income'].isna())].info()"
   ]
  },
  {
   "cell_type": "markdown",
   "id": "b4f2b2cb",
   "metadata": {},
   "source": [
    "Действительно все пропуски в столбце о стаже соответсвуют пропускам в столбце о доходах."
   ]
  },
  {
   "cell_type": "code",
   "execution_count": 261,
   "id": "18b52007",
   "metadata": {},
   "outputs": [
    {
     "data": {
      "text/html": [
       "<div>\n",
       "<style scoped>\n",
       "    .dataframe tbody tr th:only-of-type {\n",
       "        vertical-align: middle;\n",
       "    }\n",
       "\n",
       "    .dataframe tbody tr th {\n",
       "        vertical-align: top;\n",
       "    }\n",
       "\n",
       "    .dataframe thead th {\n",
       "        text-align: right;\n",
       "    }\n",
       "</style>\n",
       "<table border=\"1\" class=\"dataframe\">\n",
       "  <thead>\n",
       "    <tr style=\"text-align: right;\">\n",
       "      <th></th>\n",
       "      <th>children</th>\n",
       "      <th>days_employed</th>\n",
       "      <th>dob_years</th>\n",
       "      <th>education</th>\n",
       "      <th>education_id</th>\n",
       "      <th>family_status</th>\n",
       "      <th>family_status_id</th>\n",
       "      <th>gender</th>\n",
       "      <th>income_type</th>\n",
       "      <th>debt</th>\n",
       "      <th>total_income</th>\n",
       "      <th>purpose</th>\n",
       "    </tr>\n",
       "  </thead>\n",
       "  <tbody>\n",
       "    <tr>\n",
       "      <th>12</th>\n",
       "      <td>0</td>\n",
       "      <td>NaN</td>\n",
       "      <td>65</td>\n",
       "      <td>среднее</td>\n",
       "      <td>1</td>\n",
       "      <td>гражданский брак</td>\n",
       "      <td>1</td>\n",
       "      <td>M</td>\n",
       "      <td>пенсионер</td>\n",
       "      <td>0</td>\n",
       "      <td>NaN</td>\n",
       "      <td>сыграть свадьбу</td>\n",
       "    </tr>\n",
       "    <tr>\n",
       "      <th>26</th>\n",
       "      <td>0</td>\n",
       "      <td>NaN</td>\n",
       "      <td>41</td>\n",
       "      <td>среднее</td>\n",
       "      <td>1</td>\n",
       "      <td>женат / замужем</td>\n",
       "      <td>0</td>\n",
       "      <td>M</td>\n",
       "      <td>госслужащий</td>\n",
       "      <td>0</td>\n",
       "      <td>NaN</td>\n",
       "      <td>образование</td>\n",
       "    </tr>\n",
       "    <tr>\n",
       "      <th>29</th>\n",
       "      <td>0</td>\n",
       "      <td>NaN</td>\n",
       "      <td>63</td>\n",
       "      <td>среднее</td>\n",
       "      <td>1</td>\n",
       "      <td>Не женат / не замужем</td>\n",
       "      <td>4</td>\n",
       "      <td>F</td>\n",
       "      <td>пенсионер</td>\n",
       "      <td>0</td>\n",
       "      <td>NaN</td>\n",
       "      <td>строительство жилой недвижимости</td>\n",
       "    </tr>\n",
       "    <tr>\n",
       "      <th>41</th>\n",
       "      <td>0</td>\n",
       "      <td>NaN</td>\n",
       "      <td>50</td>\n",
       "      <td>среднее</td>\n",
       "      <td>1</td>\n",
       "      <td>женат / замужем</td>\n",
       "      <td>0</td>\n",
       "      <td>F</td>\n",
       "      <td>госслужащий</td>\n",
       "      <td>0</td>\n",
       "      <td>NaN</td>\n",
       "      <td>сделка с подержанным автомобилем</td>\n",
       "    </tr>\n",
       "    <tr>\n",
       "      <th>55</th>\n",
       "      <td>0</td>\n",
       "      <td>NaN</td>\n",
       "      <td>54</td>\n",
       "      <td>среднее</td>\n",
       "      <td>1</td>\n",
       "      <td>гражданский брак</td>\n",
       "      <td>1</td>\n",
       "      <td>F</td>\n",
       "      <td>пенсионер</td>\n",
       "      <td>1</td>\n",
       "      <td>NaN</td>\n",
       "      <td>сыграть свадьбу</td>\n",
       "    </tr>\n",
       "    <tr>\n",
       "      <th>65</th>\n",
       "      <td>0</td>\n",
       "      <td>NaN</td>\n",
       "      <td>21</td>\n",
       "      <td>среднее</td>\n",
       "      <td>1</td>\n",
       "      <td>Не женат / не замужем</td>\n",
       "      <td>4</td>\n",
       "      <td>M</td>\n",
       "      <td>компаньон</td>\n",
       "      <td>0</td>\n",
       "      <td>NaN</td>\n",
       "      <td>операции с коммерческой недвижимостью</td>\n",
       "    </tr>\n",
       "    <tr>\n",
       "      <th>67</th>\n",
       "      <td>0</td>\n",
       "      <td>NaN</td>\n",
       "      <td>52</td>\n",
       "      <td>высшее</td>\n",
       "      <td>0</td>\n",
       "      <td>женат / замужем</td>\n",
       "      <td>0</td>\n",
       "      <td>F</td>\n",
       "      <td>пенсионер</td>\n",
       "      <td>0</td>\n",
       "      <td>NaN</td>\n",
       "      <td>покупка жилья для семьи</td>\n",
       "    </tr>\n",
       "    <tr>\n",
       "      <th>72</th>\n",
       "      <td>1</td>\n",
       "      <td>NaN</td>\n",
       "      <td>32</td>\n",
       "      <td>высшее</td>\n",
       "      <td>0</td>\n",
       "      <td>женат / замужем</td>\n",
       "      <td>0</td>\n",
       "      <td>M</td>\n",
       "      <td>госслужащий</td>\n",
       "      <td>0</td>\n",
       "      <td>NaN</td>\n",
       "      <td>операции с коммерческой недвижимостью</td>\n",
       "    </tr>\n",
       "    <tr>\n",
       "      <th>82</th>\n",
       "      <td>2</td>\n",
       "      <td>NaN</td>\n",
       "      <td>50</td>\n",
       "      <td>высшее</td>\n",
       "      <td>0</td>\n",
       "      <td>женат / замужем</td>\n",
       "      <td>0</td>\n",
       "      <td>F</td>\n",
       "      <td>сотрудник</td>\n",
       "      <td>0</td>\n",
       "      <td>NaN</td>\n",
       "      <td>жилье</td>\n",
       "    </tr>\n",
       "    <tr>\n",
       "      <th>83</th>\n",
       "      <td>0</td>\n",
       "      <td>NaN</td>\n",
       "      <td>52</td>\n",
       "      <td>среднее</td>\n",
       "      <td>1</td>\n",
       "      <td>женат / замужем</td>\n",
       "      <td>0</td>\n",
       "      <td>M</td>\n",
       "      <td>сотрудник</td>\n",
       "      <td>0</td>\n",
       "      <td>NaN</td>\n",
       "      <td>жилье</td>\n",
       "    </tr>\n",
       "  </tbody>\n",
       "</table>\n",
       "</div>"
      ],
      "text/plain": [
       "    children  days_employed  dob_years education  education_id  \\\n",
       "12         0            NaN         65   среднее             1   \n",
       "26         0            NaN         41   среднее             1   \n",
       "29         0            NaN         63   среднее             1   \n",
       "41         0            NaN         50   среднее             1   \n",
       "55         0            NaN         54   среднее             1   \n",
       "65         0            NaN         21   среднее             1   \n",
       "67         0            NaN         52    высшее             0   \n",
       "72         1            NaN         32    высшее             0   \n",
       "82         2            NaN         50    высшее             0   \n",
       "83         0            NaN         52   среднее             1   \n",
       "\n",
       "            family_status  family_status_id gender  income_type  debt  \\\n",
       "12       гражданский брак                 1      M    пенсионер     0   \n",
       "26        женат / замужем                 0      M  госслужащий     0   \n",
       "29  Не женат / не замужем                 4      F    пенсионер     0   \n",
       "41        женат / замужем                 0      F  госслужащий     0   \n",
       "55       гражданский брак                 1      F    пенсионер     1   \n",
       "65  Не женат / не замужем                 4      M    компаньон     0   \n",
       "67        женат / замужем                 0      F    пенсионер     0   \n",
       "72        женат / замужем                 0      M  госслужащий     0   \n",
       "82        женат / замужем                 0      F    сотрудник     0   \n",
       "83        женат / замужем                 0      M    сотрудник     0   \n",
       "\n",
       "    total_income                                purpose  \n",
       "12           NaN                        сыграть свадьбу  \n",
       "26           NaN                            образование  \n",
       "29           NaN       строительство жилой недвижимости  \n",
       "41           NaN       сделка с подержанным автомобилем  \n",
       "55           NaN                        сыграть свадьбу  \n",
       "65           NaN  операции с коммерческой недвижимостью  \n",
       "67           NaN                покупка жилья для семьи  \n",
       "72           NaN  операции с коммерческой недвижимостью  \n",
       "82           NaN                                  жилье  \n",
       "83           NaN                                  жилье  "
      ]
     },
     "execution_count": 261,
     "metadata": {},
     "output_type": "execute_result"
    }
   ],
   "source": [
    "data[data['days_employed'].isna()].head(10)"
   ]
  },
  {
   "cell_type": "markdown",
   "id": "489fdfdc",
   "metadata": {},
   "source": [
    "Пропуски в столбцах выглядят случайными. Вероятно отсутствие этих данных связанно с ошибками при сборе данных. Стоит уточнить у источника данных."
   ]
  },
  {
   "cell_type": "markdown",
   "id": "1b0f5b86",
   "metadata": {},
   "source": [
    "## Предобработка данных\n",
    "### Заполнение пропусков"
   ]
  },
  {
   "cell_type": "markdown",
   "id": "eb489cd3",
   "metadata": {},
   "source": [
    "Посчитаем процент пропущенных значений в столбцах **days_employed** и **total_income**:"
   ]
  },
  {
   "cell_type": "code",
   "execution_count": 262,
   "id": "9d93303b",
   "metadata": {},
   "outputs": [
    {
     "name": "stdout",
     "output_type": "stream",
     "text": [
      "Процент пропущенных значений в столбцах days_employed и total_income: 10.1%\n"
     ]
    }
   ],
   "source": [
    "nan = len(data[data['days_employed'].isna()])/len(data)\n",
    "print(f'Процент пропущенных значений в столбцах days_employed и total_income: {nan:.1%}')"
   ]
  },
  {
   "cell_type": "markdown",
   "id": "d59b8d86",
   "metadata": {},
   "source": [
    "Т.к. отсутсвует 10% данных о стаже и доходе, нельзя просто удалить эти строки, это повлияет на результаты исследования. Заменим пропущенные значения в столбце **total_income** на медианное значение (из-за возможных выбросов в количесвенных значениях медиана подойдет лучше, чем среднее значение). Пропуски в столбце **days_emploed** устраним позже, после работы с аномальными значениями."
   ]
  },
  {
   "cell_type": "code",
   "execution_count": 263,
   "id": "41f4b4aa",
   "metadata": {},
   "outputs": [
    {
     "name": "stdout",
     "output_type": "stream",
     "text": [
      "<class 'pandas.core.frame.DataFrame'>\n",
      "RangeIndex: 21525 entries, 0 to 21524\n",
      "Data columns (total 12 columns):\n",
      " #   Column            Non-Null Count  Dtype  \n",
      "---  ------            --------------  -----  \n",
      " 0   children          21525 non-null  int64  \n",
      " 1   days_employed     19351 non-null  float64\n",
      " 2   dob_years         21525 non-null  int64  \n",
      " 3   education         21525 non-null  object \n",
      " 4   education_id      21525 non-null  int64  \n",
      " 5   family_status     21525 non-null  object \n",
      " 6   family_status_id  21525 non-null  int64  \n",
      " 7   gender            21525 non-null  object \n",
      " 8   income_type       21525 non-null  object \n",
      " 9   debt              21525 non-null  int64  \n",
      " 10  total_income      21525 non-null  float64\n",
      " 11  purpose           21525 non-null  object \n",
      "dtypes: float64(2), int64(5), object(5)\n",
      "memory usage: 2.0+ MB\n"
     ]
    }
   ],
   "source": [
    "median_income = data['total_income'].median()\n",
    "data['total_income'] = data['total_income'].fillna(median_income)\n",
    "data.info()"
   ]
  },
  {
   "cell_type": "markdown",
   "id": "484550d5",
   "metadata": {},
   "source": [
    "### Проверка данных на аномалии и исправления."
   ]
  },
  {
   "cell_type": "code",
   "execution_count": 264,
   "id": "38b1f5f4",
   "metadata": {},
   "outputs": [
    {
     "data": {
      "text/html": [
       "<div>\n",
       "<style scoped>\n",
       "    .dataframe tbody tr th:only-of-type {\n",
       "        vertical-align: middle;\n",
       "    }\n",
       "\n",
       "    .dataframe tbody tr th {\n",
       "        vertical-align: top;\n",
       "    }\n",
       "\n",
       "    .dataframe thead th {\n",
       "        text-align: right;\n",
       "    }\n",
       "</style>\n",
       "<table border=\"1\" class=\"dataframe\">\n",
       "  <thead>\n",
       "    <tr style=\"text-align: right;\">\n",
       "      <th></th>\n",
       "      <th>children</th>\n",
       "      <th>days_employed</th>\n",
       "      <th>dob_years</th>\n",
       "      <th>education_id</th>\n",
       "      <th>family_status_id</th>\n",
       "      <th>debt</th>\n",
       "      <th>total_income</th>\n",
       "    </tr>\n",
       "  </thead>\n",
       "  <tbody>\n",
       "    <tr>\n",
       "      <th>count</th>\n",
       "      <td>21525.000000</td>\n",
       "      <td>19351.000000</td>\n",
       "      <td>21525.000000</td>\n",
       "      <td>21525.000000</td>\n",
       "      <td>21525.000000</td>\n",
       "      <td>21525.000000</td>\n",
       "      <td>2.152500e+04</td>\n",
       "    </tr>\n",
       "    <tr>\n",
       "      <th>mean</th>\n",
       "      <td>0.538908</td>\n",
       "      <td>63046.497661</td>\n",
       "      <td>43.293380</td>\n",
       "      <td>0.817236</td>\n",
       "      <td>0.972544</td>\n",
       "      <td>0.080883</td>\n",
       "      <td>1.651595e+05</td>\n",
       "    </tr>\n",
       "    <tr>\n",
       "      <th>std</th>\n",
       "      <td>1.381587</td>\n",
       "      <td>140827.311974</td>\n",
       "      <td>12.574584</td>\n",
       "      <td>0.548138</td>\n",
       "      <td>1.420324</td>\n",
       "      <td>0.272661</td>\n",
       "      <td>9.786607e+04</td>\n",
       "    </tr>\n",
       "    <tr>\n",
       "      <th>min</th>\n",
       "      <td>-1.000000</td>\n",
       "      <td>-18388.949901</td>\n",
       "      <td>0.000000</td>\n",
       "      <td>0.000000</td>\n",
       "      <td>0.000000</td>\n",
       "      <td>0.000000</td>\n",
       "      <td>2.066726e+04</td>\n",
       "    </tr>\n",
       "    <tr>\n",
       "      <th>25%</th>\n",
       "      <td>0.000000</td>\n",
       "      <td>-2747.423625</td>\n",
       "      <td>33.000000</td>\n",
       "      <td>1.000000</td>\n",
       "      <td>0.000000</td>\n",
       "      <td>0.000000</td>\n",
       "      <td>1.077982e+05</td>\n",
       "    </tr>\n",
       "    <tr>\n",
       "      <th>50%</th>\n",
       "      <td>0.000000</td>\n",
       "      <td>-1203.369529</td>\n",
       "      <td>42.000000</td>\n",
       "      <td>1.000000</td>\n",
       "      <td>0.000000</td>\n",
       "      <td>0.000000</td>\n",
       "      <td>1.450179e+05</td>\n",
       "    </tr>\n",
       "    <tr>\n",
       "      <th>75%</th>\n",
       "      <td>1.000000</td>\n",
       "      <td>-291.095954</td>\n",
       "      <td>53.000000</td>\n",
       "      <td>1.000000</td>\n",
       "      <td>1.000000</td>\n",
       "      <td>0.000000</td>\n",
       "      <td>1.955436e+05</td>\n",
       "    </tr>\n",
       "    <tr>\n",
       "      <th>max</th>\n",
       "      <td>20.000000</td>\n",
       "      <td>401755.400475</td>\n",
       "      <td>75.000000</td>\n",
       "      <td>4.000000</td>\n",
       "      <td>4.000000</td>\n",
       "      <td>1.000000</td>\n",
       "      <td>2.265604e+06</td>\n",
       "    </tr>\n",
       "  </tbody>\n",
       "</table>\n",
       "</div>"
      ],
      "text/plain": [
       "           children  days_employed     dob_years  education_id  \\\n",
       "count  21525.000000   19351.000000  21525.000000  21525.000000   \n",
       "mean       0.538908   63046.497661     43.293380      0.817236   \n",
       "std        1.381587  140827.311974     12.574584      0.548138   \n",
       "min       -1.000000  -18388.949901      0.000000      0.000000   \n",
       "25%        0.000000   -2747.423625     33.000000      1.000000   \n",
       "50%        0.000000   -1203.369529     42.000000      1.000000   \n",
       "75%        1.000000    -291.095954     53.000000      1.000000   \n",
       "max       20.000000  401755.400475     75.000000      4.000000   \n",
       "\n",
       "       family_status_id          debt  total_income  \n",
       "count      21525.000000  21525.000000  2.152500e+04  \n",
       "mean           0.972544      0.080883  1.651595e+05  \n",
       "std            1.420324      0.272661  9.786607e+04  \n",
       "min            0.000000      0.000000  2.066726e+04  \n",
       "25%            0.000000      0.000000  1.077982e+05  \n",
       "50%            0.000000      0.000000  1.450179e+05  \n",
       "75%            1.000000      0.000000  1.955436e+05  \n",
       "max            4.000000      1.000000  2.265604e+06  "
      ]
     },
     "execution_count": 264,
     "metadata": {},
     "output_type": "execute_result"
    }
   ],
   "source": [
    "data.describe()"
   ]
  },
  {
   "cell_type": "code",
   "execution_count": 265,
   "id": "2410c6d1",
   "metadata": {},
   "outputs": [
    {
     "data": {
      "text/plain": [
       " 0     14149\n",
       " 1      4818\n",
       " 2      2055\n",
       " 3       330\n",
       " 20       76\n",
       "-1        47\n",
       " 4        41\n",
       " 5         9\n",
       "Name: children, dtype: int64"
      ]
     },
     "execution_count": 265,
     "metadata": {},
     "output_type": "execute_result"
    }
   ],
   "source": [
    " data['children'].value_counts()"
   ]
  },
  {
   "cell_type": "markdown",
   "id": "3f18eaaf",
   "metadata": {},
   "source": [
    "В столбце **children** 47 раз встречается отрицательное значение -1 ребенок, и 76 раз очень большое значение 20 детей. Отрицательное значение заменим на положительное, возможно минус появился в результате некорректной выгрузки (но даже если это не так, т.к. этих значений только 47, это изменение значительно не повлияет на результаты). В случае с 20 детьми, заменим значение на медианное, т.к. нет возможности уточнить характер ошибки и возможно это опечатка и это значение 0 или 2:"
   ]
  },
  {
   "cell_type": "code",
   "execution_count": 266,
   "id": "446499a1",
   "metadata": {
    "scrolled": true
   },
   "outputs": [
    {
     "data": {
      "text/plain": [
       "0.0    14225\n",
       "1.0     4865\n",
       "2.0     2055\n",
       "3.0      330\n",
       "4.0       41\n",
       "5.0        9\n",
       "Name: children, dtype: int64"
      ]
     },
     "execution_count": 266,
     "metadata": {},
     "output_type": "execute_result"
    }
   ],
   "source": [
    "data['children'] = data['children'].replace(-1, 1)\n",
    "children_median = data.loc[data.loc[:, 'children'] != 20]['children'].median()\n",
    "data['children'] = data['children'].replace(20, children_median)\n",
    "data['children'].value_counts()"
   ]
  },
  {
   "cell_type": "markdown",
   "id": "ece832ba",
   "metadata": {},
   "source": [
    "Теперь данные столбца выглядят адекватно"
   ]
  },
  {
   "cell_type": "markdown",
   "id": "9805b9f7",
   "metadata": {},
   "source": [
    "Внимательно рассмотрим столбец со значениями трудового стажа в днях **days_employed**:"
   ]
  },
  {
   "cell_type": "code",
   "execution_count": 267,
   "id": "4ace75e7",
   "metadata": {
    "scrolled": true
   },
   "outputs": [
    {
     "data": {
      "text/plain": [
       "count     19351.000000\n",
       "mean      63046.497661\n",
       "std      140827.311974\n",
       "min      -18388.949901\n",
       "25%       -2747.423625\n",
       "50%       -1203.369529\n",
       "75%        -291.095954\n",
       "max      401755.400475\n",
       "Name: days_employed, dtype: float64"
      ]
     },
     "execution_count": 267,
     "metadata": {},
     "output_type": "execute_result"
    }
   ],
   "source": [
    "data['days_employed'].describe()"
   ]
  },
  {
   "cell_type": "markdown",
   "id": "988fc316",
   "metadata": {},
   "source": [
    "Количество отрицательных значений:"
   ]
  },
  {
   "cell_type": "code",
   "execution_count": 268,
   "id": "3bf2681f",
   "metadata": {},
   "outputs": [
    {
     "data": {
      "text/plain": [
       "15906"
      ]
     },
     "execution_count": 268,
     "metadata": {},
     "output_type": "execute_result"
    }
   ],
   "source": [
    "data[data['days_employed']<0]['days_employed'].count()"
   ]
  },
  {
   "cell_type": "markdown",
   "id": "59417238",
   "metadata": {},
   "source": [
    "Это значительное количество отрицательных значений (возможно ошибка выгрузки), заменим их на положительные:"
   ]
  },
  {
   "cell_type": "code",
   "execution_count": 269,
   "id": "f2f65b42",
   "metadata": {
    "scrolled": false
   },
   "outputs": [
    {
     "data": {
      "text/plain": [
       "count     19351.000000\n",
       "mean      66914.728907\n",
       "std      139030.880527\n",
       "min          24.141633\n",
       "25%         927.009265\n",
       "50%        2194.220567\n",
       "75%        5537.882441\n",
       "max      401755.400475\n",
       "Name: days_employed, dtype: float64"
      ]
     },
     "execution_count": 269,
     "metadata": {},
     "output_type": "execute_result"
    }
   ],
   "source": [
    "data['days_employed'] = data['days_employed'].abs()\n",
    "data['days_employed'].describe()"
   ]
  },
  {
   "cell_type": "code",
   "execution_count": 270,
   "id": "2106af36",
   "metadata": {},
   "outputs": [
    {
     "data": {
      "text/plain": [
       "1100.699727328767"
      ]
     },
     "execution_count": 270,
     "metadata": {},
     "output_type": "execute_result"
    }
   ],
   "source": [
    " 401755.400475/365"
   ]
  },
  {
   "cell_type": "markdown",
   "id": "d36bd15c",
   "metadata": {},
   "source": [
    "Максимальное значение рабочего стажа в днях выглядит неадекватно большим. Но так как значения этого стобца не влияют на результаты проводимого исследования, можем оставить как есть. Заполним пропущенные значения медианой:"
   ]
  },
  {
   "cell_type": "code",
   "execution_count": 271,
   "id": "4d51feee",
   "metadata": {},
   "outputs": [
    {
     "name": "stdout",
     "output_type": "stream",
     "text": [
      "<class 'pandas.core.frame.DataFrame'>\n",
      "RangeIndex: 21525 entries, 0 to 21524\n",
      "Data columns (total 12 columns):\n",
      " #   Column            Non-Null Count  Dtype  \n",
      "---  ------            --------------  -----  \n",
      " 0   children          21525 non-null  float64\n",
      " 1   days_employed     21525 non-null  float64\n",
      " 2   dob_years         21525 non-null  int64  \n",
      " 3   education         21525 non-null  object \n",
      " 4   education_id      21525 non-null  int64  \n",
      " 5   family_status     21525 non-null  object \n",
      " 6   family_status_id  21525 non-null  int64  \n",
      " 7   gender            21525 non-null  object \n",
      " 8   income_type       21525 non-null  object \n",
      " 9   debt              21525 non-null  int64  \n",
      " 10  total_income      21525 non-null  float64\n",
      " 11  purpose           21525 non-null  object \n",
      "dtypes: float64(3), int64(4), object(5)\n",
      "memory usage: 2.0+ MB\n"
     ]
    }
   ],
   "source": [
    "days_employed_median = data.loc[data.loc[:, 'days_employed'] != 0]['days_employed'].median()\n",
    "data['days_employed'] = data['days_employed'].fillna(days_employed_median)\n",
    "data.info()"
   ]
  },
  {
   "cell_type": "markdown",
   "id": "14dee421",
   "metadata": {},
   "source": [
    "Больше в датасете нет пропущенных значений."
   ]
  },
  {
   "cell_type": "markdown",
   "id": "ec375f05",
   "metadata": {},
   "source": [
    "В столбце **dob_years** встречается минимальное значение возраста 0, возможно вызванное отсутсвием информации о возрасте клиента. Из-за того, что нет возможности уточнить характер ошибки заменим эти значения на медиану: "
   ]
  },
  {
   "cell_type": "code",
   "execution_count": 272,
   "id": "f9b48084",
   "metadata": {
    "scrolled": true
   },
   "outputs": [
    {
     "data": {
      "text/plain": [
       "count    21525.000000\n",
       "mean        43.495145\n",
       "std         12.218213\n",
       "min         19.000000\n",
       "25%         34.000000\n",
       "50%         43.000000\n",
       "75%         53.000000\n",
       "max         75.000000\n",
       "Name: dob_years, dtype: float64"
      ]
     },
     "execution_count": 272,
     "metadata": {},
     "output_type": "execute_result"
    }
   ],
   "source": [
    "dob_years_median = data.loc[data.loc[:, 'dob_years'] != 0]['dob_years'].median()\n",
    "data['dob_years'] = data['dob_years'].replace(0, dob_years_median)\n",
    "data['dob_years'].describe()\n"
   ]
  },
  {
   "cell_type": "markdown",
   "id": "82557df7",
   "metadata": {},
   "source": [
    "Теперь в датафрейме остались только совершеннолетние заемщики"
   ]
  },
  {
   "cell_type": "markdown",
   "id": "d6cdbcc5",
   "metadata": {},
   "source": [
    "Если внимательно посмотреть на столбец **gender** с полом заемщиков можно увидеть одно некорректное значение:"
   ]
  },
  {
   "cell_type": "code",
   "execution_count": 273,
   "id": "e3975b58",
   "metadata": {},
   "outputs": [
    {
     "data": {
      "text/plain": [
       "F      14236\n",
       "M       7288\n",
       "XNA        1\n",
       "Name: gender, dtype: int64"
      ]
     },
     "execution_count": 273,
     "metadata": {},
     "output_type": "execute_result"
    }
   ],
   "source": [
    "data['gender'].value_counts()"
   ]
  },
  {
   "cell_type": "markdown",
   "id": "8277e505",
   "metadata": {},
   "source": [
    "Похоже, что это полностью случайный пропуск, восстановить значение которого не представляется возможным, оставляем так."
   ]
  },
  {
   "cell_type": "markdown",
   "id": "1a45d341",
   "metadata": {},
   "source": [
    "### Изменение типов данных."
   ]
  },
  {
   "cell_type": "markdown",
   "id": "4795f6c3",
   "metadata": {},
   "source": [
    "Заменим вещественный тип данных в столбце **total_income** и **days_employed** и **children** на целочисленный методом **astype()**."
   ]
  },
  {
   "cell_type": "code",
   "execution_count": 274,
   "id": "4e8222c4",
   "metadata": {},
   "outputs": [
    {
     "name": "stdout",
     "output_type": "stream",
     "text": [
      "<class 'pandas.core.frame.DataFrame'>\n",
      "RangeIndex: 21525 entries, 0 to 21524\n",
      "Data columns (total 12 columns):\n",
      " #   Column            Non-Null Count  Dtype  \n",
      "---  ------            --------------  -----  \n",
      " 0   children          21525 non-null  int64  \n",
      " 1   days_employed     21525 non-null  int64  \n",
      " 2   dob_years         21525 non-null  float64\n",
      " 3   education         21525 non-null  object \n",
      " 4   education_id      21525 non-null  int64  \n",
      " 5   family_status     21525 non-null  object \n",
      " 6   family_status_id  21525 non-null  int64  \n",
      " 7   gender            21525 non-null  object \n",
      " 8   income_type       21525 non-null  object \n",
      " 9   debt              21525 non-null  int64  \n",
      " 10  total_income      21525 non-null  int64  \n",
      " 11  purpose           21525 non-null  object \n",
      "dtypes: float64(1), int64(6), object(5)\n",
      "memory usage: 2.0+ MB\n"
     ]
    }
   ],
   "source": [
    "data['total_income'] = data['total_income'].astype('int')\n",
    "data['days_employed'] = data['days_employed'].astype('int')\n",
    "data['children'] = data['children'].astype('int')\n",
    "data.info()"
   ]
  },
  {
   "cell_type": "markdown",
   "id": "99157c85",
   "metadata": {},
   "source": [
    "### Удаление дубликатов."
   ]
  },
  {
   "cell_type": "markdown",
   "id": "5bdced94",
   "metadata": {},
   "source": [
    "Сначала проверим и удалим явные дубликаты:"
   ]
  },
  {
   "cell_type": "code",
   "execution_count": 275,
   "id": "3e4f82e1",
   "metadata": {},
   "outputs": [
    {
     "data": {
      "text/plain": [
       "54"
      ]
     },
     "execution_count": 275,
     "metadata": {},
     "output_type": "execute_result"
    }
   ],
   "source": [
    "data.duplicated().sum()"
   ]
  },
  {
   "cell_type": "markdown",
   "id": "69c83c5a",
   "metadata": {},
   "source": [
    "В датасете только 54 явных дубликата, удалим их:"
   ]
  },
  {
   "cell_type": "code",
   "execution_count": 276,
   "id": "763d721c",
   "metadata": {},
   "outputs": [
    {
     "data": {
      "text/plain": [
       "0"
      ]
     },
     "execution_count": 276,
     "metadata": {},
     "output_type": "execute_result"
    }
   ],
   "source": [
    "data = data.drop_duplicates()\n",
    "data.duplicated().sum()"
   ]
  },
  {
   "cell_type": "markdown",
   "id": "eeaacd7d",
   "metadata": {},
   "source": [
    "Рассмотрим уникальные значениея в текстовых столбцах **education**, **family_status**, **gender**, **income_type**, **purpose**:"
   ]
  },
  {
   "cell_type": "code",
   "execution_count": 277,
   "id": "a9542dd3",
   "metadata": {},
   "outputs": [
    {
     "data": {
      "text/plain": [
       "(array(['высшее', 'среднее', 'Среднее', 'СРЕДНЕЕ', 'ВЫСШЕЕ',\n",
       "        'неоконченное высшее', 'начальное', 'Высшее',\n",
       "        'НЕОКОНЧЕННОЕ ВЫСШЕЕ', 'Неоконченное высшее', 'НАЧАЛЬНОЕ',\n",
       "        'Начальное', 'Ученая степень', 'УЧЕНАЯ СТЕПЕНЬ', 'ученая степень'],\n",
       "       dtype=object),\n",
       " array(['женат / замужем', 'гражданский брак', 'вдовец / вдова',\n",
       "        'в разводе', 'Не женат / не замужем'], dtype=object),\n",
       " array(['F', 'M', 'XNA'], dtype=object),\n",
       " array(['сотрудник', 'пенсионер', 'компаньон', 'госслужащий',\n",
       "        'безработный', 'предприниматель', 'студент', 'в декрете'],\n",
       "       dtype=object),\n",
       " array(['покупка жилья', 'приобретение автомобиля',\n",
       "        'дополнительное образование', 'сыграть свадьбу',\n",
       "        'операции с жильем', 'образование', 'на проведение свадьбы',\n",
       "        'покупка жилья для семьи', 'покупка недвижимости',\n",
       "        'покупка коммерческой недвижимости', 'покупка жилой недвижимости',\n",
       "        'строительство собственной недвижимости', 'недвижимость',\n",
       "        'строительство недвижимости', 'на покупку подержанного автомобиля',\n",
       "        'на покупку своего автомобиля',\n",
       "        'операции с коммерческой недвижимостью',\n",
       "        'строительство жилой недвижимости', 'жилье',\n",
       "        'операции со своей недвижимостью', 'автомобили',\n",
       "        'заняться образованием', 'сделка с подержанным автомобилем',\n",
       "        'получение образования', 'автомобиль', 'свадьба',\n",
       "        'получение дополнительного образования', 'покупка своего жилья',\n",
       "        'операции с недвижимостью', 'получение высшего образования',\n",
       "        'свой автомобиль', 'сделка с автомобилем',\n",
       "        'профильное образование', 'высшее образование',\n",
       "        'покупка жилья для сдачи', 'на покупку автомобиля', 'ремонт жилью',\n",
       "        'заняться высшим образованием'], dtype=object))"
      ]
     },
     "execution_count": 277,
     "metadata": {},
     "output_type": "execute_result"
    }
   ],
   "source": [
    "data['education'].unique(), data['family_status'].unique(), data['gender'].unique(), data['income_type'].unique(), data['purpose'].unique()"
   ]
  },
  {
   "cell_type": "markdown",
   "id": "df84e45b",
   "metadata": {},
   "source": [
    "Так мы видим, что в столбце **education** одинаковые значения записанны разным регистром (возможная проблема сбора данных, повторные заявки). Приведем их к единому регистру:"
   ]
  },
  {
   "cell_type": "code",
   "execution_count": 278,
   "id": "501e0e1f",
   "metadata": {
    "scrolled": false
   },
   "outputs": [
    {
     "data": {
      "text/plain": [
       "array(['высшее', 'среднее', 'неоконченное высшее', 'начальное',\n",
       "       'ученая степень'], dtype=object)"
      ]
     },
     "execution_count": 278,
     "metadata": {},
     "output_type": "execute_result"
    }
   ],
   "source": [
    "data['education'] = data['education'].str.lower()\n",
    "data['education'].unique()"
   ]
  },
  {
   "cell_type": "markdown",
   "id": "ef5197c9",
   "metadata": {},
   "source": [
    "Проверим на дубликаты обновленный датасет:"
   ]
  },
  {
   "cell_type": "code",
   "execution_count": 279,
   "id": "bb3c7567",
   "metadata": {},
   "outputs": [
    {
     "data": {
      "text/plain": [
       "17"
      ]
     },
     "execution_count": 279,
     "metadata": {},
     "output_type": "execute_result"
    }
   ],
   "source": [
    "data.duplicated().sum()"
   ]
  },
  {
   "cell_type": "markdown",
   "id": "f7db684c",
   "metadata": {},
   "source": [
    "И удалим их:"
   ]
  },
  {
   "cell_type": "code",
   "execution_count": 280,
   "id": "978556c8",
   "metadata": {},
   "outputs": [
    {
     "data": {
      "text/plain": [
       "0"
      ]
     },
     "execution_count": 280,
     "metadata": {},
     "output_type": "execute_result"
    }
   ],
   "source": [
    "data = data.drop_duplicates()\n",
    "data.duplicated().sum()"
   ]
  },
  {
   "cell_type": "markdown",
   "id": "0808c28c",
   "metadata": {},
   "source": [
    "###  Формирование дополнительных датафреймов словарей, декомпозиция исходного датафрейма."
   ]
  },
  {
   "cell_type": "markdown",
   "id": "c5a81ca0",
   "metadata": {},
   "source": [
    "Создадим новый датафрейм **data_ed** в котором каждому значению из **education** соответсвует значение из **education_id** :"
   ]
  },
  {
   "cell_type": "code",
   "execution_count": 281,
   "id": "971b2d05",
   "metadata": {},
   "outputs": [
    {
     "data": {
      "text/html": [
       "<div>\n",
       "<style scoped>\n",
       "    .dataframe tbody tr th:only-of-type {\n",
       "        vertical-align: middle;\n",
       "    }\n",
       "\n",
       "    .dataframe tbody tr th {\n",
       "        vertical-align: top;\n",
       "    }\n",
       "\n",
       "    .dataframe thead th {\n",
       "        text-align: right;\n",
       "    }\n",
       "</style>\n",
       "<table border=\"1\" class=\"dataframe\">\n",
       "  <thead>\n",
       "    <tr style=\"text-align: right;\">\n",
       "      <th></th>\n",
       "      <th>education</th>\n",
       "      <th>education_id</th>\n",
       "    </tr>\n",
       "  </thead>\n",
       "  <tbody>\n",
       "    <tr>\n",
       "      <th>0</th>\n",
       "      <td>высшее</td>\n",
       "      <td>0</td>\n",
       "    </tr>\n",
       "    <tr>\n",
       "      <th>1</th>\n",
       "      <td>среднее</td>\n",
       "      <td>1</td>\n",
       "    </tr>\n",
       "    <tr>\n",
       "      <th>2</th>\n",
       "      <td>неоконченное высшее</td>\n",
       "      <td>2</td>\n",
       "    </tr>\n",
       "    <tr>\n",
       "      <th>3</th>\n",
       "      <td>начальное</td>\n",
       "      <td>3</td>\n",
       "    </tr>\n",
       "    <tr>\n",
       "      <th>4</th>\n",
       "      <td>ученая степень</td>\n",
       "      <td>4</td>\n",
       "    </tr>\n",
       "  </tbody>\n",
       "</table>\n",
       "</div>"
      ],
      "text/plain": [
       "             education  education_id\n",
       "0               высшее             0\n",
       "1              среднее             1\n",
       "2  неоконченное высшее             2\n",
       "3            начальное             3\n",
       "4       ученая степень             4"
      ]
     },
     "execution_count": 281,
     "metadata": {},
     "output_type": "execute_result"
    }
   ],
   "source": [
    "data_ed = data[['education','education_id']]\n",
    "data_ed = data_ed.drop_duplicates().reset_index(drop=True)\n",
    "data_ed"
   ]
  },
  {
   "cell_type": "markdown",
   "id": "78e7397d",
   "metadata": {},
   "source": [
    "Создадим новый датафрейм **data_fam** в котором каждому значению из **family_status** соответсвует значение из **family_status_id** :"
   ]
  },
  {
   "cell_type": "code",
   "execution_count": 282,
   "id": "72225876",
   "metadata": {},
   "outputs": [
    {
     "data": {
      "text/html": [
       "<div>\n",
       "<style scoped>\n",
       "    .dataframe tbody tr th:only-of-type {\n",
       "        vertical-align: middle;\n",
       "    }\n",
       "\n",
       "    .dataframe tbody tr th {\n",
       "        vertical-align: top;\n",
       "    }\n",
       "\n",
       "    .dataframe thead th {\n",
       "        text-align: right;\n",
       "    }\n",
       "</style>\n",
       "<table border=\"1\" class=\"dataframe\">\n",
       "  <thead>\n",
       "    <tr style=\"text-align: right;\">\n",
       "      <th></th>\n",
       "      <th>family_status</th>\n",
       "      <th>family_status_id</th>\n",
       "    </tr>\n",
       "  </thead>\n",
       "  <tbody>\n",
       "    <tr>\n",
       "      <th>0</th>\n",
       "      <td>женат / замужем</td>\n",
       "      <td>0</td>\n",
       "    </tr>\n",
       "    <tr>\n",
       "      <th>1</th>\n",
       "      <td>гражданский брак</td>\n",
       "      <td>1</td>\n",
       "    </tr>\n",
       "    <tr>\n",
       "      <th>2</th>\n",
       "      <td>вдовец / вдова</td>\n",
       "      <td>2</td>\n",
       "    </tr>\n",
       "    <tr>\n",
       "      <th>3</th>\n",
       "      <td>в разводе</td>\n",
       "      <td>3</td>\n",
       "    </tr>\n",
       "    <tr>\n",
       "      <th>4</th>\n",
       "      <td>Не женат / не замужем</td>\n",
       "      <td>4</td>\n",
       "    </tr>\n",
       "  </tbody>\n",
       "</table>\n",
       "</div>"
      ],
      "text/plain": [
       "           family_status  family_status_id\n",
       "0        женат / замужем                 0\n",
       "1       гражданский брак                 1\n",
       "2         вдовец / вдова                 2\n",
       "3              в разводе                 3\n",
       "4  Не женат / не замужем                 4"
      ]
     },
     "execution_count": 282,
     "metadata": {},
     "output_type": "execute_result"
    }
   ],
   "source": [
    "data_fam = data[['family_status','family_status_id']]\n",
    "data_fam = data_fam.drop_duplicates().reset_index(drop=True)\n",
    "data_fam"
   ]
  },
  {
   "cell_type": "code",
   "execution_count": 283,
   "id": "bf4ff05f",
   "metadata": {},
   "outputs": [],
   "source": [
    "data.drop(columns = ['education','family_status'],axis = 1, inplace=True)"
   ]
  },
  {
   "cell_type": "markdown",
   "id": "3c3fc5fa",
   "metadata": {},
   "source": [
    "### Категоризация дохода."
   ]
  },
  {
   "cell_type": "markdown",
   "id": "905f22c8",
   "metadata": {},
   "source": [
    "Запишем правило классификации дохода как функцию:"
   ]
  },
  {
   "cell_type": "code",
   "execution_count": 284,
   "id": "ba512080",
   "metadata": {},
   "outputs": [],
   "source": [
    "def total_income_category(total_income):\n",
    "    \"\"\"\n",
    "    Возвращает категорию дохода по значению дохода total_income, используя правила:\n",
    "    - от 0 до 30 000 - 'E';\n",
    "    - от 30 001 до 50 000 - 'D';\n",
    "    - от 50 001 до 200 000 - 'C';\n",
    "    - от 200 001 до 1 000 000 - 'B';\n",
    "    - 1 000 001 и выше — 'A'.\n",
    "    \"\"\"\n",
    "    \n",
    "    if total_income <= 30000:\n",
    "        return 'E'\n",
    "    if total_income <= 50000:\n",
    "        return 'D'\n",
    "    if total_income <= 200000:\n",
    "        return 'C'\n",
    "    if total_income <= 1000000:\n",
    "        return 'B'\n",
    "    return 'A' "
   ]
  },
  {
   "cell_type": "markdown",
   "id": "08a736fb",
   "metadata": {},
   "source": [
    "протестируем:"
   ]
  },
  {
   "cell_type": "code",
   "execution_count": 285,
   "id": "d4c97e33",
   "metadata": {},
   "outputs": [
    {
     "data": {
      "text/plain": [
       "('C', 'A', 'B', 'E', 'D')"
      ]
     },
     "execution_count": 285,
     "metadata": {},
     "output_type": "execute_result"
    }
   ],
   "source": [
    "total_income_category(50035), total_income_category(1000005),total_income_category(300000),total_income_category(0),total_income_category(40035)"
   ]
  },
  {
   "cell_type": "markdown",
   "id": "329051bd",
   "metadata": {},
   "source": [
    "Создаем столбец **total_income_category** с категориями дохода:"
   ]
  },
  {
   "cell_type": "code",
   "execution_count": 286,
   "id": "f4c4ddd7",
   "metadata": {},
   "outputs": [
    {
     "data": {
      "text/plain": [
       "C    16016\n",
       "B     5041\n",
       "D      350\n",
       "A       25\n",
       "E       22\n",
       "Name: total_income_category, dtype: int64"
      ]
     },
     "execution_count": 286,
     "metadata": {},
     "output_type": "execute_result"
    }
   ],
   "source": [
    "data['total_income_category'] = data['total_income'].apply(total_income_category)\n",
    "data['total_income_category'].value_counts()"
   ]
  },
  {
   "cell_type": "markdown",
   "id": "02ccec36",
   "metadata": {},
   "source": [
    "### Категоризация целей кредита."
   ]
  },
  {
   "cell_type": "markdown",
   "id": "3e4b4fc4",
   "metadata": {},
   "source": [
    "Рассмотрим цели кредита:"
   ]
  },
  {
   "cell_type": "code",
   "execution_count": 287,
   "id": "77fa6e54",
   "metadata": {},
   "outputs": [
    {
     "data": {
      "text/plain": [
       "array(['покупка жилья', 'приобретение автомобиля',\n",
       "       'дополнительное образование', 'сыграть свадьбу',\n",
       "       'операции с жильем', 'образование', 'на проведение свадьбы',\n",
       "       'покупка жилья для семьи', 'покупка недвижимости',\n",
       "       'покупка коммерческой недвижимости', 'покупка жилой недвижимости',\n",
       "       'строительство собственной недвижимости', 'недвижимость',\n",
       "       'строительство недвижимости', 'на покупку подержанного автомобиля',\n",
       "       'на покупку своего автомобиля',\n",
       "       'операции с коммерческой недвижимостью',\n",
       "       'строительство жилой недвижимости', 'жилье',\n",
       "       'операции со своей недвижимостью', 'автомобили',\n",
       "       'заняться образованием', 'сделка с подержанным автомобилем',\n",
       "       'получение образования', 'автомобиль', 'свадьба',\n",
       "       'получение дополнительного образования', 'покупка своего жилья',\n",
       "       'операции с недвижимостью', 'получение высшего образования',\n",
       "       'свой автомобиль', 'сделка с автомобилем',\n",
       "       'профильное образование', 'высшее образование',\n",
       "       'покупка жилья для сдачи', 'на покупку автомобиля', 'ремонт жилью',\n",
       "       'заняться высшим образованием'], dtype=object)"
      ]
     },
     "execution_count": 287,
     "metadata": {},
     "output_type": "execute_result"
    }
   ],
   "source": [
    "data['purpose'].unique()"
   ]
  },
  {
   "cell_type": "markdown",
   "id": "0ed10088",
   "metadata": {},
   "source": [
    "можно выделить основные категории:\n",
    "\n",
    "-'операции с недвижимостью',\n",
    "-'операции с автомобилем',\n",
    "-'получение образования',\n",
    "-'проведение свадьбы'."
   ]
  },
  {
   "cell_type": "code",
   "execution_count": 288,
   "id": "ae111078",
   "metadata": {},
   "outputs": [],
   "source": [
    "def purpose_category(purpose):\n",
    "    if 'жиль' in purpose:\n",
    "        return 'операции с недвижимостью'\n",
    "    if 'недвиж' in purpose:\n",
    "        return 'операции с недвижимостью'\n",
    "    if 'автомоб' in purpose:\n",
    "        return 'операции с автомобилем'\n",
    "    if 'образ' in purpose:\n",
    "        return 'получение образования'\n",
    "    return 'проведение свадьбы'  "
   ]
  },
  {
   "cell_type": "markdown",
   "id": "9b4b0363",
   "metadata": {},
   "source": [
    "сформируем столбец с категориями целей кредита **purpose_category**:"
   ]
  },
  {
   "cell_type": "code",
   "execution_count": 289,
   "id": "f4d039f8",
   "metadata": {
    "scrolled": true
   },
   "outputs": [
    {
     "data": {
      "text/plain": [
       "операции с недвижимостью    10811\n",
       "операции с автомобилем       4306\n",
       "получение образования        4013\n",
       "проведение свадьбы           2324\n",
       "Name: purpose_category, dtype: int64"
      ]
     },
     "execution_count": 289,
     "metadata": {},
     "output_type": "execute_result"
    }
   ],
   "source": [
    "data['purpose_category'] = data['purpose'].apply(purpose_category)\n",
    "data['purpose_category'].value_counts()"
   ]
  },
  {
   "cell_type": "markdown",
   "id": "90099637",
   "metadata": {},
   "source": [
    "Чаще всего кредиты берут для операций с недвижимостью"
   ]
  },
  {
   "cell_type": "markdown",
   "id": "43e1d460",
   "metadata": {},
   "source": [
    "## Ответы на вопросы."
   ]
  },
  {
   "cell_type": "markdown",
   "id": "6e5c03e2",
   "metadata": {},
   "source": [
    "**1. Есть ли зависимость между количеством детей и возвратом кредита в срок?**"
   ]
  },
  {
   "cell_type": "markdown",
   "id": "436968b6",
   "metadata": {},
   "source": [
    "Чтобы увидеть это построим сводную таблицу, в которой посчитаем доли должников для каждого количества детей:"
   ]
  },
  {
   "cell_type": "code",
   "execution_count": 290,
   "id": "a79e4045",
   "metadata": {},
   "outputs": [
    {
     "data": {
      "text/html": [
       "<div>\n",
       "<style scoped>\n",
       "    .dataframe tbody tr th:only-of-type {\n",
       "        vertical-align: middle;\n",
       "    }\n",
       "\n",
       "    .dataframe tbody tr th {\n",
       "        vertical-align: top;\n",
       "    }\n",
       "\n",
       "    .dataframe thead tr th {\n",
       "        text-align: left;\n",
       "    }\n",
       "\n",
       "    .dataframe thead tr:last-of-type th {\n",
       "        text-align: right;\n",
       "    }\n",
       "</style>\n",
       "<table border=\"1\" class=\"dataframe\">\n",
       "  <thead>\n",
       "    <tr>\n",
       "      <th></th>\n",
       "      <th>count</th>\n",
       "      <th>sum</th>\n",
       "      <th>ratio</th>\n",
       "    </tr>\n",
       "    <tr>\n",
       "      <th></th>\n",
       "      <th>debt</th>\n",
       "      <th>debt</th>\n",
       "      <th></th>\n",
       "    </tr>\n",
       "    <tr>\n",
       "      <th>children</th>\n",
       "      <th></th>\n",
       "      <th></th>\n",
       "      <th></th>\n",
       "    </tr>\n",
       "  </thead>\n",
       "  <tbody>\n",
       "    <tr>\n",
       "      <th>5</th>\n",
       "      <td>9</td>\n",
       "      <td>0</td>\n",
       "      <td>0.000000</td>\n",
       "    </tr>\n",
       "    <tr>\n",
       "      <th>0</th>\n",
       "      <td>14167</td>\n",
       "      <td>1071</td>\n",
       "      <td>0.075598</td>\n",
       "    </tr>\n",
       "    <tr>\n",
       "      <th>3</th>\n",
       "      <td>330</td>\n",
       "      <td>27</td>\n",
       "      <td>0.081818</td>\n",
       "    </tr>\n",
       "    <tr>\n",
       "      <th>1</th>\n",
       "      <td>4855</td>\n",
       "      <td>445</td>\n",
       "      <td>0.091658</td>\n",
       "    </tr>\n",
       "    <tr>\n",
       "      <th>2</th>\n",
       "      <td>2052</td>\n",
       "      <td>194</td>\n",
       "      <td>0.094542</td>\n",
       "    </tr>\n",
       "    <tr>\n",
       "      <th>4</th>\n",
       "      <td>41</td>\n",
       "      <td>4</td>\n",
       "      <td>0.097561</td>\n",
       "    </tr>\n",
       "  </tbody>\n",
       "</table>\n",
       "</div>"
      ],
      "text/plain": [
       "          count   sum     ratio\n",
       "           debt  debt          \n",
       "children                       \n",
       "5             9     0  0.000000\n",
       "0         14167  1071  0.075598\n",
       "3           330    27  0.081818\n",
       "1          4855   445  0.091658\n",
       "2          2052   194  0.094542\n",
       "4            41     4  0.097561"
      ]
     },
     "execution_count": 290,
     "metadata": {},
     "output_type": "execute_result"
    }
   ],
   "source": [
    "data_pivot_children = data.pivot_table(index='children', values = 'debt', aggfunc=['count','sum'])\n",
    "data_pivot_children['ratio'] = data_pivot_children['sum']/data_pivot_children['count']\n",
    "data_pivot_children.sort_values(by='ratio')"
   ]
  },
  {
   "cell_type": "markdown",
   "id": "571331f5",
   "metadata": {},
   "source": [
    "**Ответ**: данные для заемщиков с пятью детьми непоказательны, в остальном можем отметить, что люди без детей заметно реже допускают задолженности, с ростом количества детей не наблюдается прямого роста доли должников."
   ]
  },
  {
   "cell_type": "markdown",
   "id": "3e4d9f19",
   "metadata": {},
   "source": [
    "**2. Есть ли зависимость между семейным положением и возвратом кредита в срок?**"
   ]
  },
  {
   "cell_type": "markdown",
   "id": "2013b1a9",
   "metadata": {},
   "source": [
    "Построим сводную таблицу, в которой посчитаем доли должников для каждой категории семейного положения:"
   ]
  },
  {
   "cell_type": "code",
   "execution_count": 293,
   "id": "c20e5da0",
   "metadata": {},
   "outputs": [],
   "source": [
    "data_pivot_fam = data.pivot_table(index='family_status_id', values = 'debt', aggfunc=['count','sum'])\n",
    "data_pivot_fam['ratio'] = data_pivot_fam['sum']/data_pivot_fam['count']\n",
    "data_pivot_fam = data_pivot_fam.reset_index()\n",
    "data_pivot_fam.columns=('family_status_id', 'count_debt','sum_debt','ratio_debt')\n",
    "data_pivot_fam = data_fam.merge(data_pivot_fam, on = 'family_status_id', how = 'right')\n",
    "data_pivot_fam = data_pivot_fam.drop(columns = ['family_status_id'])\n"
   ]
  },
  {
   "cell_type": "code",
   "execution_count": 295,
   "id": "0aeed446",
   "metadata": {},
   "outputs": [
    {
     "data": {
      "text/html": [
       "<div>\n",
       "<style scoped>\n",
       "    .dataframe tbody tr th:only-of-type {\n",
       "        vertical-align: middle;\n",
       "    }\n",
       "\n",
       "    .dataframe tbody tr th {\n",
       "        vertical-align: top;\n",
       "    }\n",
       "\n",
       "    .dataframe thead th {\n",
       "        text-align: right;\n",
       "    }\n",
       "</style>\n",
       "<table border=\"1\" class=\"dataframe\">\n",
       "  <thead>\n",
       "    <tr style=\"text-align: right;\">\n",
       "      <th></th>\n",
       "      <th>family_status</th>\n",
       "      <th>count_debt</th>\n",
       "      <th>sum_debt</th>\n",
       "      <th>ratio_debt</th>\n",
       "    </tr>\n",
       "  </thead>\n",
       "  <tbody>\n",
       "    <tr>\n",
       "      <th>2</th>\n",
       "      <td>вдовец / вдова</td>\n",
       "      <td>959</td>\n",
       "      <td>63</td>\n",
       "      <td>0.065693</td>\n",
       "    </tr>\n",
       "    <tr>\n",
       "      <th>3</th>\n",
       "      <td>в разводе</td>\n",
       "      <td>1195</td>\n",
       "      <td>85</td>\n",
       "      <td>0.071130</td>\n",
       "    </tr>\n",
       "    <tr>\n",
       "      <th>0</th>\n",
       "      <td>женат / замужем</td>\n",
       "      <td>12339</td>\n",
       "      <td>931</td>\n",
       "      <td>0.075452</td>\n",
       "    </tr>\n",
       "    <tr>\n",
       "      <th>1</th>\n",
       "      <td>гражданский брак</td>\n",
       "      <td>4151</td>\n",
       "      <td>388</td>\n",
       "      <td>0.093471</td>\n",
       "    </tr>\n",
       "    <tr>\n",
       "      <th>4</th>\n",
       "      <td>Не женат / не замужем</td>\n",
       "      <td>2810</td>\n",
       "      <td>274</td>\n",
       "      <td>0.097509</td>\n",
       "    </tr>\n",
       "  </tbody>\n",
       "</table>\n",
       "</div>"
      ],
      "text/plain": [
       "           family_status  count_debt  sum_debt  ratio_debt\n",
       "2         вдовец / вдова         959        63    0.065693\n",
       "3              в разводе        1195        85    0.071130\n",
       "0        женат / замужем       12339       931    0.075452\n",
       "1       гражданский брак        4151       388    0.093471\n",
       "4  Не женат / не замужем        2810       274    0.097509"
      ]
     },
     "execution_count": 295,
     "metadata": {},
     "output_type": "execute_result"
    }
   ],
   "source": [
    "data_pivot_fam.sort_values(by='ratio_debt')"
   ]
  },
  {
   "cell_type": "markdown",
   "id": "b3cc2255",
   "metadata": {},
   "source": [
    "**Ответ**: из таблицы видно что люди состоящие или ранее состоявшие в браке, допускают меньше задолженностей по кредитам, чем люди никогда не регистрировавшие брак."
   ]
  },
  {
   "cell_type": "markdown",
   "id": "95472ac6",
   "metadata": {},
   "source": [
    "**3. Есть ли зависимость между уровнем дохода и возвратом кредита в срок?**"
   ]
  },
  {
   "cell_type": "markdown",
   "id": "f089fac7",
   "metadata": {},
   "source": [
    "Построим сводную таблицу, в которой посчитаем доли должников для каждой категории уровня дохода:"
   ]
  },
  {
   "cell_type": "code",
   "execution_count": 298,
   "id": "4c2944c3",
   "metadata": {},
   "outputs": [
    {
     "data": {
      "text/html": [
       "<div>\n",
       "<style scoped>\n",
       "    .dataframe tbody tr th:only-of-type {\n",
       "        vertical-align: middle;\n",
       "    }\n",
       "\n",
       "    .dataframe tbody tr th {\n",
       "        vertical-align: top;\n",
       "    }\n",
       "\n",
       "    .dataframe thead tr th {\n",
       "        text-align: left;\n",
       "    }\n",
       "\n",
       "    .dataframe thead tr:last-of-type th {\n",
       "        text-align: right;\n",
       "    }\n",
       "</style>\n",
       "<table border=\"1\" class=\"dataframe\">\n",
       "  <thead>\n",
       "    <tr>\n",
       "      <th></th>\n",
       "      <th>count</th>\n",
       "      <th>sum</th>\n",
       "      <th>ratio</th>\n",
       "    </tr>\n",
       "    <tr>\n",
       "      <th></th>\n",
       "      <th>debt</th>\n",
       "      <th>debt</th>\n",
       "      <th></th>\n",
       "    </tr>\n",
       "    <tr>\n",
       "      <th>total_income_category</th>\n",
       "      <th></th>\n",
       "      <th></th>\n",
       "      <th></th>\n",
       "    </tr>\n",
       "  </thead>\n",
       "  <tbody>\n",
       "    <tr>\n",
       "      <th>D</th>\n",
       "      <td>350</td>\n",
       "      <td>21</td>\n",
       "      <td>0.060000</td>\n",
       "    </tr>\n",
       "    <tr>\n",
       "      <th>B</th>\n",
       "      <td>5041</td>\n",
       "      <td>356</td>\n",
       "      <td>0.070621</td>\n",
       "    </tr>\n",
       "    <tr>\n",
       "      <th>A</th>\n",
       "      <td>25</td>\n",
       "      <td>2</td>\n",
       "      <td>0.080000</td>\n",
       "    </tr>\n",
       "    <tr>\n",
       "      <th>C</th>\n",
       "      <td>16016</td>\n",
       "      <td>1360</td>\n",
       "      <td>0.084915</td>\n",
       "    </tr>\n",
       "    <tr>\n",
       "      <th>E</th>\n",
       "      <td>22</td>\n",
       "      <td>2</td>\n",
       "      <td>0.090909</td>\n",
       "    </tr>\n",
       "  </tbody>\n",
       "</table>\n",
       "</div>"
      ],
      "text/plain": [
       "                       count   sum     ratio\n",
       "                        debt  debt          \n",
       "total_income_category                       \n",
       "D                        350    21  0.060000\n",
       "B                       5041   356  0.070621\n",
       "A                         25     2  0.080000\n",
       "C                      16016  1360  0.084915\n",
       "E                         22     2  0.090909"
      ]
     },
     "execution_count": 298,
     "metadata": {},
     "output_type": "execute_result"
    }
   ],
   "source": [
    "data_pivot_income = data.pivot_table(index='total_income_category', values = 'debt', aggfunc=['count','sum'])\n",
    "data_pivot_income['ratio'] = data_pivot_income['sum']/data_pivot_income['count']\n",
    "data_pivot_income.sort_values(by='ratio')"
   ]
  },
  {
   "cell_type": "markdown",
   "id": "6d9a3301",
   "metadata": {},
   "source": [
    "**Ответ**: из таблицы видно что люди с доходом от 30 000 до 50 000 самые ответсвенные заемщики. Среди людей с самым маленьким уровнем дохода до 30 000 больше всего должников, но эту выборку сложно назвать репрезентативной, как и для людей с доходом свыше 1 000 000."
   ]
  },
  {
   "cell_type": "markdown",
   "id": "9054a20f",
   "metadata": {},
   "source": [
    "**4. Как разные цели кредита влияют на его возврат в срок?**"
   ]
  },
  {
   "cell_type": "markdown",
   "id": "a39040d6",
   "metadata": {},
   "source": [
    "Построим сводную таблицу, в которой посчитаем доли должников для каждой категории цели кредита:"
   ]
  },
  {
   "cell_type": "code",
   "execution_count": 299,
   "id": "1227b7d7",
   "metadata": {},
   "outputs": [
    {
     "data": {
      "text/html": [
       "<div>\n",
       "<style scoped>\n",
       "    .dataframe tbody tr th:only-of-type {\n",
       "        vertical-align: middle;\n",
       "    }\n",
       "\n",
       "    .dataframe tbody tr th {\n",
       "        vertical-align: top;\n",
       "    }\n",
       "\n",
       "    .dataframe thead tr th {\n",
       "        text-align: left;\n",
       "    }\n",
       "\n",
       "    .dataframe thead tr:last-of-type th {\n",
       "        text-align: right;\n",
       "    }\n",
       "</style>\n",
       "<table border=\"1\" class=\"dataframe\">\n",
       "  <thead>\n",
       "    <tr>\n",
       "      <th></th>\n",
       "      <th>count</th>\n",
       "      <th>sum</th>\n",
       "      <th>ratio</th>\n",
       "    </tr>\n",
       "    <tr>\n",
       "      <th></th>\n",
       "      <th>debt</th>\n",
       "      <th>debt</th>\n",
       "      <th></th>\n",
       "    </tr>\n",
       "    <tr>\n",
       "      <th>purpose_category</th>\n",
       "      <th></th>\n",
       "      <th></th>\n",
       "      <th></th>\n",
       "    </tr>\n",
       "  </thead>\n",
       "  <tbody>\n",
       "    <tr>\n",
       "      <th>операции с недвижимостью</th>\n",
       "      <td>10811</td>\n",
       "      <td>782</td>\n",
       "      <td>0.072334</td>\n",
       "    </tr>\n",
       "    <tr>\n",
       "      <th>проведение свадьбы</th>\n",
       "      <td>2324</td>\n",
       "      <td>186</td>\n",
       "      <td>0.080034</td>\n",
       "    </tr>\n",
       "    <tr>\n",
       "      <th>получение образования</th>\n",
       "      <td>4013</td>\n",
       "      <td>370</td>\n",
       "      <td>0.092200</td>\n",
       "    </tr>\n",
       "    <tr>\n",
       "      <th>операции с автомобилем</th>\n",
       "      <td>4306</td>\n",
       "      <td>403</td>\n",
       "      <td>0.093590</td>\n",
       "    </tr>\n",
       "  </tbody>\n",
       "</table>\n",
       "</div>"
      ],
      "text/plain": [
       "                          count  sum     ratio\n",
       "                           debt debt          \n",
       "purpose_category                              \n",
       "операции с недвижимостью  10811  782  0.072334\n",
       "проведение свадьбы         2324  186  0.080034\n",
       "получение образования      4013  370  0.092200\n",
       "операции с автомобилем     4306  403  0.093590"
      ]
     },
     "execution_count": 299,
     "metadata": {},
     "output_type": "execute_result"
    }
   ],
   "source": [
    "data_pivot_purpose = data.pivot_table(index='purpose_category', values = 'debt', aggfunc=['count','sum'])\n",
    "data_pivot_purpose['ratio'] = data_pivot_purpose['sum']/data_pivot_purpose['count']\n",
    "data_pivot_purpose.sort_values(by='ratio')"
   ]
  },
  {
   "cell_type": "markdown",
   "id": "9654566f",
   "metadata": {},
   "source": [
    "**Ответ**: Из таблицы видно, что кредиты связанные с автомобилями самые необдуманные, по ним больше всего задолженостей. А вот среди кредиторов на операции с недвижимостью значительно выше доля ответственнных заемщиков, что может быть связанно с большими суммами займа и более высокими рисками."
   ]
  },
  {
   "cell_type": "markdown",
   "id": "c34f7a63",
   "metadata": {},
   "source": [
    "## Общий вывод:"
   ]
  },
  {
   "cell_type": "markdown",
   "id": "a25c4d7c",
   "metadata": {},
   "source": [
    "В ходе исследования были изучены полученные данные, обработаны аномалии и заполнены пропуски, удалены дубликаты, а также категоризированны по ключевым для исследования параметрам. По результатам можно сделать вывод, что эти факторы влияют на погашение кредита в срок:\n",
    "\n",
    "- наличие и количество детей повышают риски невыплаты кредита в срок\n",
    "- люди состоящие/состоявшие когда-либо в официальном браке реже невыплачивают кредиты\n",
    "- наиболее удачными заемщиками будут люди, которые указывают средний уровень заработка\n",
    "- кредиты на недвижимость реже всего невыплачиваются, а вот на автомобили напротив самые рискованные\n",
    "\n",
    "\n",
    "\n",
    "\n",
    "\n",
    "\n"
   ]
  }
 ],
 "metadata": {
  "ExecuteTimeLog": [
   {
    "duration": 921,
    "start_time": "2022-02-17T12:16:02.677Z"
   },
   {
    "duration": 62,
    "start_time": "2022-02-17T14:45:34.168Z"
   },
   {
    "duration": 95,
    "start_time": "2022-02-17T14:46:34.454Z"
   },
   {
    "duration": 76,
    "start_time": "2022-02-17T14:47:27.334Z"
   },
   {
    "duration": 74,
    "start_time": "2022-02-17T14:47:33.035Z"
   },
   {
    "duration": 16,
    "start_time": "2022-02-17T17:13:19.731Z"
   },
   {
    "duration": 639,
    "start_time": "2022-02-18T14:35:40.531Z"
   },
   {
    "duration": 51,
    "start_time": "2022-02-18T14:36:16.711Z"
   },
   {
    "duration": 12,
    "start_time": "2022-02-18T14:38:33.010Z"
   },
   {
    "duration": 203,
    "start_time": "2022-02-18T15:13:26.816Z"
   },
   {
    "duration": 8,
    "start_time": "2022-02-18T15:14:00.936Z"
   },
   {
    "duration": 448,
    "start_time": "2022-02-21T11:17:14.702Z"
   },
   {
    "duration": 878,
    "start_time": "2022-02-21T11:17:30.223Z"
   },
   {
    "duration": 7,
    "start_time": "2022-02-21T11:17:35.077Z"
   },
   {
    "duration": 15,
    "start_time": "2022-02-21T11:18:26.617Z"
   },
   {
    "duration": 86,
    "start_time": "2022-02-21T11:18:59.276Z"
   },
   {
    "duration": 81,
    "start_time": "2022-02-21T11:19:16.691Z"
   },
   {
    "duration": 84,
    "start_time": "2022-02-21T11:20:03.055Z"
   },
   {
    "duration": 4,
    "start_time": "2022-02-21T11:29:36.745Z"
   },
   {
    "duration": 9,
    "start_time": "2022-02-21T11:29:58.364Z"
   },
   {
    "duration": 23,
    "start_time": "2022-02-21T11:30:20.057Z"
   },
   {
    "duration": 8,
    "start_time": "2022-02-21T11:34:36.163Z"
   },
   {
    "duration": 6,
    "start_time": "2022-02-21T11:34:53.286Z"
   },
   {
    "duration": 5,
    "start_time": "2022-02-21T11:37:21.916Z"
   },
   {
    "duration": 110,
    "start_time": "2022-02-21T11:38:38.307Z"
   },
   {
    "duration": 6,
    "start_time": "2022-02-21T11:38:50.392Z"
   },
   {
    "duration": 7,
    "start_time": "2022-02-21T11:40:18.777Z"
   },
   {
    "duration": 7,
    "start_time": "2022-02-21T11:40:29.633Z"
   },
   {
    "duration": 38,
    "start_time": "2022-02-21T12:08:58.178Z"
   },
   {
    "duration": 14,
    "start_time": "2022-02-21T12:09:47.428Z"
   },
   {
    "duration": 139,
    "start_time": "2022-02-21T12:16:51.580Z"
   },
   {
    "duration": 6,
    "start_time": "2022-02-21T12:18:16.040Z"
   },
   {
    "duration": 6,
    "start_time": "2022-02-21T12:18:45.337Z"
   },
   {
    "duration": 115,
    "start_time": "2022-02-21T12:25:13.943Z"
   },
   {
    "duration": 137,
    "start_time": "2022-02-21T12:25:40.385Z"
   },
   {
    "duration": 127,
    "start_time": "2022-02-21T12:25:50.938Z"
   },
   {
    "duration": 188,
    "start_time": "2022-02-21T12:26:00.405Z"
   },
   {
    "duration": 7,
    "start_time": "2022-02-21T12:26:33.377Z"
   },
   {
    "duration": 13,
    "start_time": "2022-02-21T12:27:13.118Z"
   },
   {
    "duration": 13,
    "start_time": "2022-02-21T12:27:25.857Z"
   },
   {
    "duration": 7,
    "start_time": "2022-02-21T12:28:09.177Z"
   },
   {
    "duration": 34,
    "start_time": "2022-02-21T12:43:49.044Z"
   },
   {
    "duration": 11,
    "start_time": "2022-02-21T12:44:26.205Z"
   },
   {
    "duration": 11,
    "start_time": "2022-02-21T12:44:41.466Z"
   },
   {
    "duration": 10,
    "start_time": "2022-02-21T12:45:12.744Z"
   },
   {
    "duration": 33,
    "start_time": "2022-02-21T12:45:21.107Z"
   },
   {
    "duration": 4,
    "start_time": "2022-02-21T14:16:56.905Z"
   },
   {
    "duration": 7,
    "start_time": "2022-02-21T14:17:16.804Z"
   },
   {
    "duration": 6,
    "start_time": "2022-02-21T14:22:39.652Z"
   },
   {
    "duration": 376,
    "start_time": "2022-02-21T14:23:05.973Z"
   },
   {
    "duration": 416,
    "start_time": "2022-02-21T14:23:12.948Z"
   },
   {
    "duration": 380,
    "start_time": "2022-02-21T14:23:37.105Z"
   },
   {
    "duration": 10,
    "start_time": "2022-02-21T14:24:09.703Z"
   },
   {
    "duration": 10,
    "start_time": "2022-02-21T14:24:51.406Z"
   },
   {
    "duration": 7,
    "start_time": "2022-02-21T14:25:31.983Z"
   },
   {
    "duration": 17,
    "start_time": "2022-02-21T14:25:51.223Z"
   },
   {
    "duration": 49,
    "start_time": "2022-02-21T14:27:42.695Z"
   },
   {
    "duration": 376,
    "start_time": "2022-02-21T17:22:13.415Z"
   },
   {
    "duration": 843,
    "start_time": "2022-02-21T17:22:32.695Z"
   },
   {
    "duration": 16,
    "start_time": "2022-02-21T17:22:33.541Z"
   },
   {
    "duration": 244,
    "start_time": "2022-02-21T17:22:33.562Z"
   },
   {
    "duration": 264,
    "start_time": "2022-02-21T17:22:33.811Z"
   },
   {
    "duration": 304,
    "start_time": "2022-02-21T17:22:34.079Z"
   },
   {
    "duration": 277,
    "start_time": "2022-02-21T17:22:34.386Z"
   },
   {
    "duration": 166,
    "start_time": "2022-02-21T17:22:34.667Z"
   },
   {
    "duration": 113,
    "start_time": "2022-02-21T17:22:34.836Z"
   },
   {
    "duration": 164,
    "start_time": "2022-02-21T17:22:34.952Z"
   },
   {
    "duration": 310,
    "start_time": "2022-02-21T17:29:36.413Z"
   },
   {
    "duration": 270,
    "start_time": "2022-02-21T17:30:05.893Z"
   },
   {
    "duration": 12,
    "start_time": "2022-02-21T17:30:17.961Z"
   },
   {
    "duration": 19,
    "start_time": "2022-02-21T17:30:30.173Z"
   },
   {
    "duration": 13,
    "start_time": "2022-02-21T17:32:42.566Z"
   },
   {
    "duration": 16,
    "start_time": "2022-02-21T17:43:59.734Z"
   },
   {
    "duration": 16,
    "start_time": "2022-02-21T17:44:08.715Z"
   },
   {
    "duration": 287,
    "start_time": "2022-02-21T17:48:09.634Z"
   },
   {
    "duration": 16,
    "start_time": "2022-02-21T17:48:22.234Z"
   },
   {
    "duration": 18,
    "start_time": "2022-02-21T17:48:59.047Z"
   },
   {
    "duration": 38,
    "start_time": "2022-02-21T17:56:14.498Z"
   },
   {
    "duration": 333,
    "start_time": "2022-02-21T17:56:39.741Z"
   },
   {
    "duration": 426,
    "start_time": "2022-02-21T17:57:16.573Z"
   },
   {
    "duration": 320,
    "start_time": "2022-02-21T17:57:22.413Z"
   },
   {
    "duration": 14,
    "start_time": "2022-02-21T17:57:52.254Z"
   },
   {
    "duration": 284,
    "start_time": "2022-02-21T17:58:07.496Z"
   },
   {
    "duration": 18,
    "start_time": "2022-02-21T17:59:12.934Z"
   },
   {
    "duration": 23,
    "start_time": "2022-02-21T17:59:43.054Z"
   },
   {
    "duration": 14,
    "start_time": "2022-02-21T18:00:57.813Z"
   },
   {
    "duration": 296,
    "start_time": "2022-02-21T18:01:57.965Z"
   },
   {
    "duration": 13,
    "start_time": "2022-02-21T18:03:04.613Z"
   },
   {
    "duration": 21,
    "start_time": "2022-02-21T18:04:08.635Z"
   },
   {
    "duration": 19,
    "start_time": "2022-02-21T18:04:23.934Z"
   },
   {
    "duration": 10,
    "start_time": "2022-02-21T18:06:26.838Z"
   },
   {
    "duration": 491,
    "start_time": "2022-02-21T18:13:12.445Z"
   },
   {
    "duration": 6,
    "start_time": "2022-02-21T18:13:27.754Z"
   },
   {
    "duration": 364,
    "start_time": "2022-02-21T18:15:16.173Z"
   },
   {
    "duration": 9,
    "start_time": "2022-02-21T18:15:27.413Z"
   },
   {
    "duration": 5,
    "start_time": "2022-02-21T18:15:43.874Z"
   },
   {
    "duration": 55,
    "start_time": "2022-04-11T14:32:33.477Z"
   },
   {
    "duration": 7,
    "start_time": "2022-04-11T14:32:38.308Z"
   },
   {
    "duration": 508,
    "start_time": "2022-04-11T14:33:10.439Z"
   },
   {
    "duration": 70,
    "start_time": "2022-04-11T14:33:16.415Z"
   },
   {
    "duration": 18,
    "start_time": "2022-04-11T14:33:16.487Z"
   },
   {
    "duration": 6,
    "start_time": "2022-04-11T14:33:16.507Z"
   },
   {
    "duration": 15,
    "start_time": "2022-04-11T14:33:16.516Z"
   },
   {
    "duration": 22,
    "start_time": "2022-04-11T14:33:16.532Z"
   },
   {
    "duration": 6,
    "start_time": "2022-04-11T14:33:17.222Z"
   },
   {
    "duration": 28,
    "start_time": "2022-04-11T14:33:17.230Z"
   },
   {
    "duration": 32,
    "start_time": "2022-04-11T14:33:17.260Z"
   },
   {
    "duration": 5,
    "start_time": "2022-04-11T14:33:17.295Z"
   },
   {
    "duration": 48,
    "start_time": "2022-04-11T14:33:17.302Z"
   },
   {
    "duration": 13,
    "start_time": "2022-04-11T14:33:17.352Z"
   },
   {
    "duration": 4,
    "start_time": "2022-04-11T14:33:17.367Z"
   },
   {
    "duration": 118,
    "start_time": "2022-04-11T14:33:17.372Z"
   },
   {
    "duration": 6,
    "start_time": "2022-04-11T14:34:51.585Z"
   },
   {
    "duration": 67,
    "start_time": "2022-04-11T19:32:12.806Z"
   },
   {
    "duration": 30,
    "start_time": "2022-04-11T19:35:24.634Z"
   },
   {
    "duration": 40,
    "start_time": "2022-04-11T19:38:05.193Z"
   },
   {
    "duration": 9,
    "start_time": "2022-04-11T19:40:52.666Z"
   },
   {
    "duration": 18,
    "start_time": "2022-04-11T19:44:20.583Z"
   },
   {
    "duration": 6,
    "start_time": "2022-04-11T19:45:22.696Z"
   },
   {
    "duration": 5,
    "start_time": "2022-04-11T19:46:09.208Z"
   },
   {
    "duration": 6,
    "start_time": "2022-04-11T19:46:28.035Z"
   },
   {
    "duration": 9,
    "start_time": "2022-04-11T19:47:15.406Z"
   },
   {
    "duration": 600,
    "start_time": "2022-04-11T19:48:09.301Z"
   },
   {
    "duration": 29,
    "start_time": "2022-04-11T19:48:09.904Z"
   },
   {
    "duration": 10,
    "start_time": "2022-04-11T19:48:09.935Z"
   },
   {
    "duration": 20,
    "start_time": "2022-04-11T19:48:09.947Z"
   },
   {
    "duration": 51,
    "start_time": "2022-04-11T19:48:09.970Z"
   },
   {
    "duration": 14,
    "start_time": "2022-04-11T19:48:10.024Z"
   },
   {
    "duration": 33,
    "start_time": "2022-04-11T19:48:10.041Z"
   },
   {
    "duration": 75,
    "start_time": "2022-04-11T19:48:10.076Z"
   },
   {
    "duration": 8,
    "start_time": "2022-04-11T19:48:10.153Z"
   },
   {
    "duration": 32,
    "start_time": "2022-04-11T19:48:10.163Z"
   },
   {
    "duration": 15,
    "start_time": "2022-04-11T19:48:10.219Z"
   },
   {
    "duration": 5,
    "start_time": "2022-04-11T19:48:10.236Z"
   },
   {
    "duration": 27,
    "start_time": "2022-04-11T19:48:10.243Z"
   },
   {
    "duration": 71,
    "start_time": "2022-04-11T19:48:10.273Z"
   },
   {
    "duration": 9,
    "start_time": "2022-04-11T19:48:10.346Z"
   },
   {
    "duration": 5,
    "start_time": "2022-04-11T19:48:28.644Z"
   },
   {
    "duration": 70,
    "start_time": "2022-04-11T19:49:12.944Z"
   },
   {
    "duration": 17,
    "start_time": "2022-04-11T19:49:28.580Z"
   },
   {
    "duration": 14,
    "start_time": "2022-04-11T19:49:50.476Z"
   },
   {
    "duration": 16,
    "start_time": "2022-04-11T19:50:15.861Z"
   },
   {
    "duration": 8,
    "start_time": "2022-04-11T19:56:19.949Z"
   },
   {
    "duration": 9,
    "start_time": "2022-04-11T19:56:49.794Z"
   },
   {
    "duration": 8,
    "start_time": "2022-04-11T19:56:56.711Z"
   },
   {
    "duration": 9,
    "start_time": "2022-04-11T19:57:21.002Z"
   },
   {
    "duration": 14,
    "start_time": "2022-04-11T19:58:11.908Z"
   },
   {
    "duration": 71,
    "start_time": "2022-04-11T19:59:08.334Z"
   },
   {
    "duration": 19,
    "start_time": "2022-04-11T19:59:08.407Z"
   },
   {
    "duration": 6,
    "start_time": "2022-04-11T19:59:08.429Z"
   },
   {
    "duration": 14,
    "start_time": "2022-04-11T19:59:08.437Z"
   },
   {
    "duration": 15,
    "start_time": "2022-04-11T19:59:08.453Z"
   },
   {
    "duration": 13,
    "start_time": "2022-04-11T19:59:08.469Z"
   },
   {
    "duration": 52,
    "start_time": "2022-04-11T19:59:08.483Z"
   },
   {
    "duration": 32,
    "start_time": "2022-04-11T19:59:08.537Z"
   },
   {
    "duration": 7,
    "start_time": "2022-04-11T19:59:08.570Z"
   },
   {
    "duration": 53,
    "start_time": "2022-04-11T19:59:08.579Z"
   },
   {
    "duration": 20,
    "start_time": "2022-04-11T19:59:08.634Z"
   },
   {
    "duration": 5,
    "start_time": "2022-04-11T19:59:08.657Z"
   },
   {
    "duration": 61,
    "start_time": "2022-04-11T19:59:08.664Z"
   },
   {
    "duration": 55,
    "start_time": "2022-04-11T19:59:08.728Z"
   },
   {
    "duration": 44,
    "start_time": "2022-04-11T19:59:08.786Z"
   },
   {
    "duration": 27,
    "start_time": "2022-04-11T19:59:08.832Z"
   },
   {
    "duration": 121,
    "start_time": "2022-04-11T19:59:08.861Z"
   },
   {
    "duration": 14,
    "start_time": "2022-04-11T20:17:02.578Z"
   },
   {
    "duration": 13,
    "start_time": "2022-04-11T20:18:19.112Z"
   },
   {
    "duration": 14,
    "start_time": "2022-04-11T20:18:42.433Z"
   },
   {
    "duration": 8,
    "start_time": "2022-04-11T20:25:50.142Z"
   },
   {
    "duration": 122,
    "start_time": "2022-04-11T20:28:20.253Z"
   },
   {
    "duration": 9,
    "start_time": "2022-04-11T20:31:47.054Z"
   },
   {
    "duration": 9,
    "start_time": "2022-04-11T20:35:18.015Z"
   },
   {
    "duration": 14,
    "start_time": "2022-04-11T20:36:03.408Z"
   },
   {
    "duration": 9,
    "start_time": "2022-04-11T20:37:02.977Z"
   },
   {
    "duration": 4,
    "start_time": "2022-04-11T20:41:30.981Z"
   },
   {
    "duration": 11,
    "start_time": "2022-04-11T20:41:44.033Z"
   },
   {
    "duration": 1920,
    "start_time": "2022-04-11T20:44:23.051Z"
   },
   {
    "duration": 15,
    "start_time": "2022-04-11T20:44:38.688Z"
   },
   {
    "duration": 10,
    "start_time": "2022-04-11T20:45:25.565Z"
   },
   {
    "duration": 4,
    "start_time": "2022-04-11T20:45:55.906Z"
   },
   {
    "duration": 71,
    "start_time": "2022-04-12T06:32:50.063Z"
   },
   {
    "duration": 14,
    "start_time": "2022-04-12T06:39:18.335Z"
   },
   {
    "duration": 14,
    "start_time": "2022-04-12T06:39:38.997Z"
   },
   {
    "duration": 72,
    "start_time": "2022-04-12T06:39:53.805Z"
   },
   {
    "duration": 16,
    "start_time": "2022-04-12T06:39:53.879Z"
   },
   {
    "duration": 8,
    "start_time": "2022-04-12T06:39:53.918Z"
   },
   {
    "duration": 13,
    "start_time": "2022-04-12T06:39:53.927Z"
   },
   {
    "duration": 15,
    "start_time": "2022-04-12T06:39:53.943Z"
   },
   {
    "duration": 6,
    "start_time": "2022-04-12T06:39:53.960Z"
   },
   {
    "duration": 65,
    "start_time": "2022-04-12T06:39:53.967Z"
   },
   {
    "duration": 30,
    "start_time": "2022-04-12T06:39:54.035Z"
   },
   {
    "duration": 5,
    "start_time": "2022-04-12T06:39:54.067Z"
   },
   {
    "duration": 45,
    "start_time": "2022-04-12T06:39:54.074Z"
   },
   {
    "duration": 9,
    "start_time": "2022-04-12T06:39:54.121Z"
   },
   {
    "duration": 11,
    "start_time": "2022-04-12T06:39:54.132Z"
   },
   {
    "duration": 14,
    "start_time": "2022-04-12T06:39:54.144Z"
   },
   {
    "duration": 3,
    "start_time": "2022-04-12T06:39:54.162Z"
   },
   {
    "duration": 52,
    "start_time": "2022-04-12T06:39:54.167Z"
   },
   {
    "duration": 18,
    "start_time": "2022-04-12T06:39:54.221Z"
   },
   {
    "duration": 7,
    "start_time": "2022-04-12T06:39:54.241Z"
   },
   {
    "duration": 9,
    "start_time": "2022-04-12T06:39:54.250Z"
   },
   {
    "duration": 24,
    "start_time": "2022-04-12T06:39:54.261Z"
   },
   {
    "duration": 64,
    "start_time": "2022-04-12T06:39:54.286Z"
   },
   {
    "duration": 13,
    "start_time": "2022-04-12T06:39:54.352Z"
   },
   {
    "duration": 16,
    "start_time": "2022-04-12T06:39:54.367Z"
   },
   {
    "duration": 20,
    "start_time": "2022-04-12T06:42:21.964Z"
   },
   {
    "duration": 5,
    "start_time": "2022-04-12T06:45:13.264Z"
   },
   {
    "duration": 18,
    "start_time": "2022-04-12T06:45:43.110Z"
   },
   {
    "duration": 21,
    "start_time": "2022-04-12T06:47:28.251Z"
   },
   {
    "duration": 101,
    "start_time": "2022-04-12T06:47:55.331Z"
   },
   {
    "duration": 34,
    "start_time": "2022-04-12T06:48:18.707Z"
   },
   {
    "duration": 13,
    "start_time": "2022-04-12T07:34:17.156Z"
   },
   {
    "duration": 9,
    "start_time": "2022-04-12T07:36:41.855Z"
   },
   {
    "duration": 1021,
    "start_time": "2022-04-12T07:36:57.496Z"
   },
   {
    "duration": 10,
    "start_time": "2022-04-12T07:44:44.992Z"
   },
   {
    "duration": 13,
    "start_time": "2022-04-12T07:46:42.130Z"
   },
   {
    "duration": 21,
    "start_time": "2022-04-12T07:51:05.911Z"
   },
   {
    "duration": 14,
    "start_time": "2022-04-12T08:06:33.684Z"
   },
   {
    "duration": 13,
    "start_time": "2022-04-12T08:06:46.430Z"
   },
   {
    "duration": 12,
    "start_time": "2022-04-12T08:06:57.365Z"
   },
   {
    "duration": 91,
    "start_time": "2022-04-12T08:07:01.096Z"
   },
   {
    "duration": 41,
    "start_time": "2022-04-12T08:07:01.190Z"
   },
   {
    "duration": 38,
    "start_time": "2022-04-12T08:07:01.234Z"
   },
   {
    "duration": 76,
    "start_time": "2022-04-12T08:07:01.275Z"
   },
   {
    "duration": 42,
    "start_time": "2022-04-12T08:07:01.353Z"
   },
   {
    "duration": 15,
    "start_time": "2022-04-12T08:07:01.396Z"
   },
   {
    "duration": 52,
    "start_time": "2022-04-12T08:07:01.413Z"
   },
   {
    "duration": 40,
    "start_time": "2022-04-12T08:07:01.467Z"
   },
   {
    "duration": 18,
    "start_time": "2022-04-12T08:07:01.510Z"
   },
   {
    "duration": 54,
    "start_time": "2022-04-12T08:07:01.533Z"
   },
   {
    "duration": 25,
    "start_time": "2022-04-12T08:07:01.588Z"
   },
   {
    "duration": 27,
    "start_time": "2022-04-12T08:07:01.615Z"
   },
   {
    "duration": 22,
    "start_time": "2022-04-12T08:07:01.644Z"
   },
   {
    "duration": 23,
    "start_time": "2022-04-12T08:07:01.668Z"
   },
   {
    "duration": 61,
    "start_time": "2022-04-12T08:07:01.693Z"
   },
   {
    "duration": 35,
    "start_time": "2022-04-12T08:07:01.757Z"
   },
   {
    "duration": 10,
    "start_time": "2022-04-12T08:07:01.794Z"
   },
   {
    "duration": 53,
    "start_time": "2022-04-12T08:07:01.806Z"
   },
   {
    "duration": 35,
    "start_time": "2022-04-12T08:07:01.861Z"
   },
   {
    "duration": 43,
    "start_time": "2022-04-12T08:07:01.899Z"
   },
   {
    "duration": 19,
    "start_time": "2022-04-12T08:07:01.944Z"
   },
   {
    "duration": 23,
    "start_time": "2022-04-12T08:07:01.965Z"
   },
   {
    "duration": 59,
    "start_time": "2022-04-12T08:07:01.990Z"
   },
   {
    "duration": 87,
    "start_time": "2022-04-12T08:07:02.052Z"
   },
   {
    "duration": 20,
    "start_time": "2022-04-12T08:07:02.140Z"
   },
   {
    "duration": 47,
    "start_time": "2022-04-12T08:07:02.162Z"
   },
   {
    "duration": 26,
    "start_time": "2022-04-12T08:07:02.211Z"
   },
   {
    "duration": 6,
    "start_time": "2022-04-12T08:27:04.522Z"
   },
   {
    "duration": 115,
    "start_time": "2022-04-12T08:27:58.739Z"
   },
   {
    "duration": 10,
    "start_time": "2022-04-12T08:28:45.682Z"
   },
   {
    "duration": 5,
    "start_time": "2022-04-12T08:29:17.180Z"
   },
   {
    "duration": 4,
    "start_time": "2022-04-12T08:29:19.306Z"
   },
   {
    "duration": 5,
    "start_time": "2022-04-12T08:30:12.473Z"
   },
   {
    "duration": 4,
    "start_time": "2022-04-12T08:31:09.873Z"
   },
   {
    "duration": 4,
    "start_time": "2022-04-12T08:31:31.863Z"
   },
   {
    "duration": 18,
    "start_time": "2022-04-12T08:34:31.366Z"
   },
   {
    "duration": 13,
    "start_time": "2022-04-12T09:03:10.549Z"
   },
   {
    "duration": 7,
    "start_time": "2022-04-12T09:10:07.936Z"
   },
   {
    "duration": 4,
    "start_time": "2022-04-12T09:19:11.142Z"
   },
   {
    "duration": 4,
    "start_time": "2022-04-12T09:19:51.083Z"
   },
   {
    "duration": 15,
    "start_time": "2022-04-12T09:22:42.895Z"
   },
   {
    "duration": 109,
    "start_time": "2022-04-12T09:30:36.194Z"
   },
   {
    "duration": 13,
    "start_time": "2022-04-12T13:19:18.888Z"
   },
   {
    "duration": 84,
    "start_time": "2022-04-12T13:19:53.178Z"
   },
   {
    "duration": 21,
    "start_time": "2022-04-12T13:19:53.265Z"
   },
   {
    "duration": 8,
    "start_time": "2022-04-12T13:19:53.288Z"
   },
   {
    "duration": 15,
    "start_time": "2022-04-12T13:19:53.319Z"
   },
   {
    "duration": 16,
    "start_time": "2022-04-12T13:19:53.337Z"
   },
   {
    "duration": 12,
    "start_time": "2022-04-12T13:19:53.355Z"
   },
   {
    "duration": 21,
    "start_time": "2022-04-12T13:19:53.369Z"
   },
   {
    "duration": 32,
    "start_time": "2022-04-12T13:19:53.418Z"
   },
   {
    "duration": 7,
    "start_time": "2022-04-12T13:19:53.453Z"
   },
   {
    "duration": 25,
    "start_time": "2022-04-12T13:19:53.462Z"
   },
   {
    "duration": 40,
    "start_time": "2022-04-12T13:19:53.489Z"
   },
   {
    "duration": 10,
    "start_time": "2022-04-12T13:19:53.531Z"
   },
   {
    "duration": 12,
    "start_time": "2022-04-12T13:19:53.543Z"
   },
   {
    "duration": 4,
    "start_time": "2022-04-12T13:19:53.559Z"
   },
   {
    "duration": 56,
    "start_time": "2022-04-12T13:19:53.566Z"
   },
   {
    "duration": 21,
    "start_time": "2022-04-12T13:19:53.625Z"
   },
   {
    "duration": 11,
    "start_time": "2022-04-12T13:19:53.648Z"
   },
   {
    "duration": 34,
    "start_time": "2022-04-12T13:19:53.661Z"
   },
   {
    "duration": 19,
    "start_time": "2022-04-12T13:19:53.718Z"
   },
   {
    "duration": 40,
    "start_time": "2022-04-12T13:19:53.739Z"
   },
   {
    "duration": 38,
    "start_time": "2022-04-12T13:19:53.781Z"
   },
   {
    "duration": 17,
    "start_time": "2022-04-12T13:19:53.821Z"
   },
   {
    "duration": 24,
    "start_time": "2022-04-12T13:19:53.840Z"
   },
   {
    "duration": 58,
    "start_time": "2022-04-12T13:19:53.866Z"
   },
   {
    "duration": 13,
    "start_time": "2022-04-12T13:19:53.926Z"
   },
   {
    "duration": 14,
    "start_time": "2022-04-12T13:19:53.941Z"
   },
   {
    "duration": 5,
    "start_time": "2022-04-12T13:19:53.957Z"
   },
   {
    "duration": 11,
    "start_time": "2022-04-12T13:19:53.964Z"
   },
   {
    "duration": 12,
    "start_time": "2022-04-12T13:19:53.977Z"
   },
   {
    "duration": 49,
    "start_time": "2022-04-12T13:19:53.990Z"
   },
   {
    "duration": 7,
    "start_time": "2022-04-12T13:19:54.040Z"
   },
   {
    "duration": 10,
    "start_time": "2022-04-12T13:19:54.048Z"
   },
   {
    "duration": 24,
    "start_time": "2022-04-12T13:19:54.060Z"
   },
   {
    "duration": 21,
    "start_time": "2022-04-12T13:19:54.086Z"
   },
   {
    "duration": 27,
    "start_time": "2022-04-12T13:19:54.108Z"
   },
   {
    "duration": 18,
    "start_time": "2022-04-12T13:23:02.549Z"
   },
   {
    "duration": 13,
    "start_time": "2022-04-12T13:23:27.803Z"
   },
   {
    "duration": 8,
    "start_time": "2022-04-12T13:24:02.057Z"
   },
   {
    "duration": 30,
    "start_time": "2022-04-12T13:25:29.583Z"
   },
   {
    "duration": 15,
    "start_time": "2022-04-12T13:25:31.947Z"
   },
   {
    "duration": 27,
    "start_time": "2022-04-12T13:28:37.662Z"
   },
   {
    "duration": 19,
    "start_time": "2022-04-12T13:28:46.412Z"
   },
   {
    "duration": 23,
    "start_time": "2022-04-12T13:28:49.854Z"
   },
   {
    "duration": 9,
    "start_time": "2022-04-12T13:28:52.659Z"
   },
   {
    "duration": 17,
    "start_time": "2022-04-12T13:31:05.577Z"
   },
   {
    "duration": 15,
    "start_time": "2022-04-12T13:31:11.152Z"
   },
   {
    "duration": 19,
    "start_time": "2022-04-12T13:32:56.975Z"
   },
   {
    "duration": 11,
    "start_time": "2022-04-12T13:32:59.575Z"
   },
   {
    "duration": 16,
    "start_time": "2022-04-12T13:45:20.392Z"
   },
   {
    "duration": 11,
    "start_time": "2022-04-12T13:45:43.521Z"
   },
   {
    "duration": 27,
    "start_time": "2022-04-12T14:20:18.313Z"
   },
   {
    "duration": 13,
    "start_time": "2022-04-12T14:20:18.815Z"
   },
   {
    "duration": 26,
    "start_time": "2022-04-12T14:21:00.553Z"
   },
   {
    "duration": 42,
    "start_time": "2022-04-12T14:23:39.571Z"
   },
   {
    "duration": 2181,
    "start_time": "2022-04-12T14:28:43.507Z"
   },
   {
    "duration": 11,
    "start_time": "2022-04-12T14:29:56.770Z"
   },
   {
    "duration": 10,
    "start_time": "2022-04-12T14:30:32.427Z"
   },
   {
    "duration": 1809,
    "start_time": "2022-04-12T14:30:46.727Z"
   },
   {
    "duration": 12,
    "start_time": "2022-04-12T14:31:15.216Z"
   },
   {
    "duration": 26,
    "start_time": "2022-04-12T14:31:47.275Z"
   },
   {
    "duration": 31,
    "start_time": "2022-04-12T14:34:37.106Z"
   },
   {
    "duration": 442,
    "start_time": "2022-04-12T16:40:58.787Z"
   },
   {
    "duration": 25,
    "start_time": "2022-04-12T16:41:42.602Z"
   },
   {
    "duration": 25,
    "start_time": "2022-04-12T16:42:14.305Z"
   },
   {
    "duration": 25,
    "start_time": "2022-04-12T16:42:46.421Z"
   },
   {
    "duration": 32,
    "start_time": "2022-04-12T16:43:36.393Z"
   },
   {
    "duration": 28,
    "start_time": "2022-04-12T16:43:53.359Z"
   },
   {
    "duration": 29,
    "start_time": "2022-04-12T16:45:18.130Z"
   },
   {
    "duration": 25,
    "start_time": "2022-04-12T16:46:42.824Z"
   },
   {
    "duration": 29,
    "start_time": "2022-04-12T16:46:51.892Z"
   },
   {
    "duration": 22,
    "start_time": "2022-04-12T16:47:21.368Z"
   },
   {
    "duration": 21,
    "start_time": "2022-04-12T16:47:32.269Z"
   },
   {
    "duration": 3,
    "start_time": "2022-04-12T16:47:47.180Z"
   },
   {
    "duration": 8,
    "start_time": "2022-04-12T16:48:02.588Z"
   },
   {
    "duration": 3,
    "start_time": "2022-04-12T16:48:14.544Z"
   },
   {
    "duration": 4,
    "start_time": "2022-04-12T16:48:30.194Z"
   },
   {
    "duration": 3,
    "start_time": "2022-04-12T16:48:56.458Z"
   },
   {
    "duration": 70,
    "start_time": "2022-04-12T16:49:03.505Z"
   },
   {
    "duration": 46,
    "start_time": "2022-04-12T16:49:03.577Z"
   },
   {
    "duration": 8,
    "start_time": "2022-04-12T16:49:03.626Z"
   },
   {
    "duration": 28,
    "start_time": "2022-04-12T16:49:03.636Z"
   },
   {
    "duration": 16,
    "start_time": "2022-04-12T16:49:03.668Z"
   },
   {
    "duration": 8,
    "start_time": "2022-04-12T16:49:03.686Z"
   },
   {
    "duration": 83,
    "start_time": "2022-04-12T16:49:03.696Z"
   },
   {
    "duration": 50,
    "start_time": "2022-04-12T16:49:03.781Z"
   },
   {
    "duration": 6,
    "start_time": "2022-04-12T16:49:03.833Z"
   },
   {
    "duration": 49,
    "start_time": "2022-04-12T16:49:03.840Z"
   },
   {
    "duration": 28,
    "start_time": "2022-04-12T16:49:03.891Z"
   },
   {
    "duration": 24,
    "start_time": "2022-04-12T16:49:03.920Z"
   },
   {
    "duration": 21,
    "start_time": "2022-04-12T16:49:03.945Z"
   },
   {
    "duration": 18,
    "start_time": "2022-04-12T16:49:03.970Z"
   },
   {
    "duration": 41,
    "start_time": "2022-04-12T16:49:03.990Z"
   },
   {
    "duration": 20,
    "start_time": "2022-04-12T16:49:04.032Z"
   },
   {
    "duration": 16,
    "start_time": "2022-04-12T16:49:04.053Z"
   },
   {
    "duration": 28,
    "start_time": "2022-04-12T16:49:04.071Z"
   },
   {
    "duration": 32,
    "start_time": "2022-04-12T16:49:04.101Z"
   },
   {
    "duration": 52,
    "start_time": "2022-04-12T16:49:04.135Z"
   },
   {
    "duration": 45,
    "start_time": "2022-04-12T16:49:04.189Z"
   },
   {
    "duration": 26,
    "start_time": "2022-04-12T16:49:04.236Z"
   },
   {
    "duration": 54,
    "start_time": "2022-04-12T16:49:04.264Z"
   },
   {
    "duration": 53,
    "start_time": "2022-04-12T16:49:04.321Z"
   },
   {
    "duration": 18,
    "start_time": "2022-04-12T16:49:04.376Z"
   },
   {
    "duration": 37,
    "start_time": "2022-04-12T16:49:04.396Z"
   },
   {
    "duration": 7,
    "start_time": "2022-04-12T16:49:04.436Z"
   },
   {
    "duration": 11,
    "start_time": "2022-04-12T16:49:04.446Z"
   },
   {
    "duration": 17,
    "start_time": "2022-04-12T16:49:04.459Z"
   },
   {
    "duration": 22,
    "start_time": "2022-04-12T16:49:04.478Z"
   },
   {
    "duration": 8,
    "start_time": "2022-04-12T16:49:04.517Z"
   },
   {
    "duration": 9,
    "start_time": "2022-04-12T16:49:04.527Z"
   },
   {
    "duration": 22,
    "start_time": "2022-04-12T16:49:04.538Z"
   },
   {
    "duration": 57,
    "start_time": "2022-04-12T16:49:04.562Z"
   },
   {
    "duration": 23,
    "start_time": "2022-04-12T16:49:04.621Z"
   },
   {
    "duration": 9,
    "start_time": "2022-04-12T16:49:04.646Z"
   },
   {
    "duration": 34,
    "start_time": "2022-04-12T16:49:22.875Z"
   },
   {
    "duration": 3,
    "start_time": "2022-04-12T16:49:29.426Z"
   },
   {
    "duration": 3,
    "start_time": "2022-04-12T16:49:33.442Z"
   },
   {
    "duration": 76,
    "start_time": "2022-04-12T16:49:52.034Z"
   },
   {
    "duration": 18,
    "start_time": "2022-04-12T16:49:52.117Z"
   },
   {
    "duration": 9,
    "start_time": "2022-04-12T16:49:52.136Z"
   },
   {
    "duration": 27,
    "start_time": "2022-04-12T16:49:52.147Z"
   },
   {
    "duration": 46,
    "start_time": "2022-04-12T16:49:52.177Z"
   },
   {
    "duration": 12,
    "start_time": "2022-04-12T16:49:52.225Z"
   },
   {
    "duration": 26,
    "start_time": "2022-04-12T16:49:52.239Z"
   },
   {
    "duration": 31,
    "start_time": "2022-04-12T16:49:52.267Z"
   },
   {
    "duration": 6,
    "start_time": "2022-04-12T16:49:52.318Z"
   },
   {
    "duration": 28,
    "start_time": "2022-04-12T16:49:52.326Z"
   },
   {
    "duration": 10,
    "start_time": "2022-04-12T16:49:52.356Z"
   },
   {
    "duration": 13,
    "start_time": "2022-04-12T16:49:52.368Z"
   },
   {
    "duration": 37,
    "start_time": "2022-04-12T16:49:52.383Z"
   },
   {
    "duration": 3,
    "start_time": "2022-04-12T16:49:52.424Z"
   },
   {
    "duration": 44,
    "start_time": "2022-04-12T16:49:52.430Z"
   },
   {
    "duration": 46,
    "start_time": "2022-04-12T16:49:52.476Z"
   },
   {
    "duration": 8,
    "start_time": "2022-04-12T16:49:52.524Z"
   },
   {
    "duration": 35,
    "start_time": "2022-04-12T16:49:52.535Z"
   },
   {
    "duration": 20,
    "start_time": "2022-04-12T16:49:52.572Z"
   },
   {
    "duration": 38,
    "start_time": "2022-04-12T16:49:52.619Z"
   },
   {
    "duration": 16,
    "start_time": "2022-04-12T16:49:52.659Z"
   },
   {
    "duration": 45,
    "start_time": "2022-04-12T16:49:52.677Z"
   },
   {
    "duration": 22,
    "start_time": "2022-04-12T16:49:52.725Z"
   },
   {
    "duration": 71,
    "start_time": "2022-04-12T16:49:52.750Z"
   },
   {
    "duration": 16,
    "start_time": "2022-04-12T16:49:52.823Z"
   },
   {
    "duration": 18,
    "start_time": "2022-04-12T16:49:52.841Z"
   },
   {
    "duration": 16,
    "start_time": "2022-04-12T16:49:52.862Z"
   },
   {
    "duration": 11,
    "start_time": "2022-04-12T16:49:52.880Z"
   },
   {
    "duration": 40,
    "start_time": "2022-04-12T16:49:52.893Z"
   },
   {
    "duration": 28,
    "start_time": "2022-04-12T16:49:52.935Z"
   },
   {
    "duration": 10,
    "start_time": "2022-04-12T16:49:52.968Z"
   },
   {
    "duration": 12,
    "start_time": "2022-04-12T16:49:52.981Z"
   },
   {
    "duration": 28,
    "start_time": "2022-04-12T16:49:52.997Z"
   },
   {
    "duration": 62,
    "start_time": "2022-04-12T16:49:53.027Z"
   },
   {
    "duration": 31,
    "start_time": "2022-04-12T16:49:53.091Z"
   },
   {
    "duration": 9,
    "start_time": "2022-04-12T16:49:53.125Z"
   },
   {
    "duration": 22,
    "start_time": "2022-04-12T16:50:40.898Z"
   },
   {
    "duration": 9,
    "start_time": "2022-04-12T16:50:43.763Z"
   },
   {
    "duration": 10,
    "start_time": "2022-04-12T16:51:28.393Z"
   },
   {
    "duration": 14,
    "start_time": "2022-04-12T18:02:09.116Z"
   },
   {
    "duration": 26,
    "start_time": "2022-04-12T18:05:39.904Z"
   },
   {
    "duration": 27,
    "start_time": "2022-04-12T18:06:03.860Z"
   },
   {
    "duration": 30,
    "start_time": "2022-04-12T18:49:12.640Z"
   },
   {
    "duration": 119,
    "start_time": "2022-04-12T19:00:24.242Z"
   }
  ],
  "kernelspec": {
   "display_name": "Python 3 (ipykernel)",
   "language": "python",
   "name": "python3"
  },
  "language_info": {
   "codemirror_mode": {
    "name": "ipython",
    "version": 3
   },
   "file_extension": ".py",
   "mimetype": "text/x-python",
   "name": "python",
   "nbconvert_exporter": "python",
   "pygments_lexer": "ipython3",
   "version": "3.9.13"
  },
  "toc": {
   "base_numbering": 1,
   "nav_menu": {},
   "number_sections": true,
   "sideBar": true,
   "skip_h1_title": true,
   "title_cell": "Table of Contents",
   "title_sidebar": "Contents",
   "toc_cell": false,
   "toc_position": {},
   "toc_section_display": true,
   "toc_window_display": true
  }
 },
 "nbformat": 4,
 "nbformat_minor": 5
}
