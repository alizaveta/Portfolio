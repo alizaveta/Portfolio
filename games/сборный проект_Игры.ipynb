{
 "cells": [
  {
   "cell_type": "markdown",
   "metadata": {},
   "source": [
    "# Описание проекта"
   ]
  },
  {
   "cell_type": "markdown",
   "metadata": {},
   "source": [
    "Интернет-магазин «Стримчик» продаёт по всему миру компьютерные игры.\n",
    "\n",
    "Из открытых источников доступны исторические данные о продажах игр до 2016 года, оценки пользователей и экспертов, жанры и платформы (например, Xbox или PlayStation).\n",
    "\n",
    "**Нужно выявить определяющие успешность игры закономерности. Это позволит сделать ставку на потенциально популярный продукт и спланировать рекламные кампании на 2017 год.**\n"
   ]
  },
  {
   "cell_type": "markdown",
   "metadata": {
    "toc": true
   },
   "source": [
    "<h1>Содержание<span class=\"tocSkip\"></span></h1>\n",
    "<div class=\"toc\"><ul class=\"toc-item\"><li><span><a href=\"#Изучение-данных\" data-toc-modified-id=\"Изучение-данных-1\"><span class=\"toc-item-num\">1&nbsp;&nbsp;</span>Изучение данных</a></span></li><li><span><a href=\"#Предобработка-данных\" data-toc-modified-id=\"Предобработка-данных-2\"><span class=\"toc-item-num\">2&nbsp;&nbsp;</span>Предобработка данных</a></span><ul class=\"toc-item\"><li><span><a href=\"#Работа-с-регистром\" data-toc-modified-id=\"Работа-с-регистром-2.1\"><span class=\"toc-item-num\">2.1&nbsp;&nbsp;</span>Работа с регистром</a></span></li><li><span><a href=\"#Работа-с-пропусками\" data-toc-modified-id=\"Работа-с-пропусками-2.2\"><span class=\"toc-item-num\">2.2&nbsp;&nbsp;</span>Работа с пропусками</a></span></li><li><span><a href=\"#Замена-типов-данных\" data-toc-modified-id=\"Замена-типов-данных-2.3\"><span class=\"toc-item-num\">2.3&nbsp;&nbsp;</span>Замена типов данных</a></span></li><li><span><a href=\"#Работа-с-дубликатами\" data-toc-modified-id=\"Работа-с-дубликатами-2.4\"><span class=\"toc-item-num\">2.4&nbsp;&nbsp;</span>Работа с дубликатами</a></span></li><li><span><a href=\"#Формирование-дополнительного-столбца\" data-toc-modified-id=\"Формирование-дополнительного-столбца-2.5\"><span class=\"toc-item-num\">2.5&nbsp;&nbsp;</span>Формирование дополнительного столбца</a></span></li><li><span><a href=\"#Вывод\" data-toc-modified-id=\"Вывод-2.6\"><span class=\"toc-item-num\">2.6&nbsp;&nbsp;</span>Вывод</a></span></li></ul></li><li><span><a href=\"#Исследовательский-анализ-данных\" data-toc-modified-id=\"Исследовательский-анализ-данных-3\"><span class=\"toc-item-num\">3&nbsp;&nbsp;</span>Исследовательский анализ данных</a></span><ul class=\"toc-item\"><li><span><a href=\"#Выпуск-игр-по-годам\" data-toc-modified-id=\"Выпуск-игр-по-годам-3.1\"><span class=\"toc-item-num\">3.1&nbsp;&nbsp;</span>Выпуск игр по годам</a></span></li><li><span><a href=\"#Продажи-по-платформам\" data-toc-modified-id=\"Продажи-по-платформам-3.2\"><span class=\"toc-item-num\">3.2&nbsp;&nbsp;</span>Продажи по платформам</a></span></li><li><span><a href=\"#Актуальный-период\" data-toc-modified-id=\"Актуальный-период-3.3\"><span class=\"toc-item-num\">3.3&nbsp;&nbsp;</span>Актуальный период</a></span></li><li><span><a href=\"#Влияние-отзывов-на-продажи\" data-toc-modified-id=\"Влияние-отзывов-на-продажи-3.4\"><span class=\"toc-item-num\">3.4&nbsp;&nbsp;</span>Влияние отзывов на продажи</a></span></li><li><span><a href=\"#Распределение-игр-по-жанрам\" data-toc-modified-id=\"Распределение-игр-по-жанрам-3.5\"><span class=\"toc-item-num\">3.5&nbsp;&nbsp;</span>Распределение игр по жанрам</a></span></li><li><span><a href=\"#Вывод\" data-toc-modified-id=\"Вывод-3.6\"><span class=\"toc-item-num\">3.6&nbsp;&nbsp;</span>Вывод</a></span></li></ul></li><li><span><a href=\"#Портреты-пользователей-по-регионам\" data-toc-modified-id=\"Портреты-пользователей-по-регионам-4\"><span class=\"toc-item-num\">4&nbsp;&nbsp;</span>Портреты пользователей по регионам</a></span><ul class=\"toc-item\"><li><span><a href=\"#Популярные-платформы\" data-toc-modified-id=\"Популярные-платформы-4.1\"><span class=\"toc-item-num\">4.1&nbsp;&nbsp;</span>Популярные платформы</a></span></li><li><span><a href=\"#Популярные-жанры\" data-toc-modified-id=\"Популярные-жанры-4.2\"><span class=\"toc-item-num\">4.2&nbsp;&nbsp;</span>Популярные жанры</a></span></li><li><span><a href=\"#Популярные-рейтинги\" data-toc-modified-id=\"Популярные-рейтинги-4.3\"><span class=\"toc-item-num\">4.3&nbsp;&nbsp;</span>Популярные рейтинги</a></span></li><li><span><a href=\"#Вывод\" data-toc-modified-id=\"Вывод-4.4\"><span class=\"toc-item-num\">4.4&nbsp;&nbsp;</span>Вывод</a></span></li></ul></li><li><span><a href=\"#Проверка-гипотез\" data-toc-modified-id=\"Проверка-гипотез-5\"><span class=\"toc-item-num\">5&nbsp;&nbsp;</span>Проверка гипотез</a></span><ul class=\"toc-item\"><li><span><a href=\"#Вывод\" data-toc-modified-id=\"Вывод-5.1\"><span class=\"toc-item-num\">5.1&nbsp;&nbsp;</span>Вывод</a></span></li></ul></li><li><span><a href=\"#Общий-вывод\" data-toc-modified-id=\"Общий-вывод-6\"><span class=\"toc-item-num\">6&nbsp;&nbsp;</span>Общий вывод</a></span></li></ul></div>"
   ]
  },
  {
   "cell_type": "markdown",
   "metadata": {},
   "source": [
    "## Изучение данных"
   ]
  },
  {
   "cell_type": "markdown",
   "metadata": {},
   "source": [
    "Импортируем необходимые библиотеки:"
   ]
  },
  {
   "cell_type": "code",
   "execution_count": 1,
   "metadata": {},
   "outputs": [],
   "source": [
    "import pandas as pd\n",
    "import matplotlib.pyplot as plt\n",
    "from scipy import stats as st\n",
    "import numpy as np "
   ]
  },
  {
   "cell_type": "code",
   "execution_count": 2,
   "metadata": {},
   "outputs": [
    {
     "data": {
      "text/html": [
       "<div>\n",
       "<style scoped>\n",
       "    .dataframe tbody tr th:only-of-type {\n",
       "        vertical-align: middle;\n",
       "    }\n",
       "\n",
       "    .dataframe tbody tr th {\n",
       "        vertical-align: top;\n",
       "    }\n",
       "\n",
       "    .dataframe thead th {\n",
       "        text-align: right;\n",
       "    }\n",
       "</style>\n",
       "<table border=\"1\" class=\"dataframe\">\n",
       "  <thead>\n",
       "    <tr style=\"text-align: right;\">\n",
       "      <th></th>\n",
       "      <th>Name</th>\n",
       "      <th>Platform</th>\n",
       "      <th>Year_of_Release</th>\n",
       "      <th>Genre</th>\n",
       "      <th>NA_sales</th>\n",
       "      <th>EU_sales</th>\n",
       "      <th>JP_sales</th>\n",
       "      <th>Other_sales</th>\n",
       "      <th>Critic_Score</th>\n",
       "      <th>User_Score</th>\n",
       "      <th>Rating</th>\n",
       "    </tr>\n",
       "  </thead>\n",
       "  <tbody>\n",
       "    <tr>\n",
       "      <th>0</th>\n",
       "      <td>Wii Sports</td>\n",
       "      <td>Wii</td>\n",
       "      <td>2006.0</td>\n",
       "      <td>Sports</td>\n",
       "      <td>41.36</td>\n",
       "      <td>28.96</td>\n",
       "      <td>3.77</td>\n",
       "      <td>8.45</td>\n",
       "      <td>76.0</td>\n",
       "      <td>8</td>\n",
       "      <td>E</td>\n",
       "    </tr>\n",
       "    <tr>\n",
       "      <th>1</th>\n",
       "      <td>Super Mario Bros.</td>\n",
       "      <td>NES</td>\n",
       "      <td>1985.0</td>\n",
       "      <td>Platform</td>\n",
       "      <td>29.08</td>\n",
       "      <td>3.58</td>\n",
       "      <td>6.81</td>\n",
       "      <td>0.77</td>\n",
       "      <td>NaN</td>\n",
       "      <td>NaN</td>\n",
       "      <td>NaN</td>\n",
       "    </tr>\n",
       "    <tr>\n",
       "      <th>2</th>\n",
       "      <td>Mario Kart Wii</td>\n",
       "      <td>Wii</td>\n",
       "      <td>2008.0</td>\n",
       "      <td>Racing</td>\n",
       "      <td>15.68</td>\n",
       "      <td>12.76</td>\n",
       "      <td>3.79</td>\n",
       "      <td>3.29</td>\n",
       "      <td>82.0</td>\n",
       "      <td>8.3</td>\n",
       "      <td>E</td>\n",
       "    </tr>\n",
       "    <tr>\n",
       "      <th>3</th>\n",
       "      <td>Wii Sports Resort</td>\n",
       "      <td>Wii</td>\n",
       "      <td>2009.0</td>\n",
       "      <td>Sports</td>\n",
       "      <td>15.61</td>\n",
       "      <td>10.93</td>\n",
       "      <td>3.28</td>\n",
       "      <td>2.95</td>\n",
       "      <td>80.0</td>\n",
       "      <td>8</td>\n",
       "      <td>E</td>\n",
       "    </tr>\n",
       "    <tr>\n",
       "      <th>4</th>\n",
       "      <td>Pokemon Red/Pokemon Blue</td>\n",
       "      <td>GB</td>\n",
       "      <td>1996.0</td>\n",
       "      <td>Role-Playing</td>\n",
       "      <td>11.27</td>\n",
       "      <td>8.89</td>\n",
       "      <td>10.22</td>\n",
       "      <td>1.00</td>\n",
       "      <td>NaN</td>\n",
       "      <td>NaN</td>\n",
       "      <td>NaN</td>\n",
       "    </tr>\n",
       "    <tr>\n",
       "      <th>5</th>\n",
       "      <td>Tetris</td>\n",
       "      <td>GB</td>\n",
       "      <td>1989.0</td>\n",
       "      <td>Puzzle</td>\n",
       "      <td>23.20</td>\n",
       "      <td>2.26</td>\n",
       "      <td>4.22</td>\n",
       "      <td>0.58</td>\n",
       "      <td>NaN</td>\n",
       "      <td>NaN</td>\n",
       "      <td>NaN</td>\n",
       "    </tr>\n",
       "    <tr>\n",
       "      <th>6</th>\n",
       "      <td>New Super Mario Bros.</td>\n",
       "      <td>DS</td>\n",
       "      <td>2006.0</td>\n",
       "      <td>Platform</td>\n",
       "      <td>11.28</td>\n",
       "      <td>9.14</td>\n",
       "      <td>6.50</td>\n",
       "      <td>2.88</td>\n",
       "      <td>89.0</td>\n",
       "      <td>8.5</td>\n",
       "      <td>E</td>\n",
       "    </tr>\n",
       "    <tr>\n",
       "      <th>7</th>\n",
       "      <td>Wii Play</td>\n",
       "      <td>Wii</td>\n",
       "      <td>2006.0</td>\n",
       "      <td>Misc</td>\n",
       "      <td>13.96</td>\n",
       "      <td>9.18</td>\n",
       "      <td>2.93</td>\n",
       "      <td>2.84</td>\n",
       "      <td>58.0</td>\n",
       "      <td>6.6</td>\n",
       "      <td>E</td>\n",
       "    </tr>\n",
       "    <tr>\n",
       "      <th>8</th>\n",
       "      <td>New Super Mario Bros. Wii</td>\n",
       "      <td>Wii</td>\n",
       "      <td>2009.0</td>\n",
       "      <td>Platform</td>\n",
       "      <td>14.44</td>\n",
       "      <td>6.94</td>\n",
       "      <td>4.70</td>\n",
       "      <td>2.24</td>\n",
       "      <td>87.0</td>\n",
       "      <td>8.4</td>\n",
       "      <td>E</td>\n",
       "    </tr>\n",
       "    <tr>\n",
       "      <th>9</th>\n",
       "      <td>Duck Hunt</td>\n",
       "      <td>NES</td>\n",
       "      <td>1984.0</td>\n",
       "      <td>Shooter</td>\n",
       "      <td>26.93</td>\n",
       "      <td>0.63</td>\n",
       "      <td>0.28</td>\n",
       "      <td>0.47</td>\n",
       "      <td>NaN</td>\n",
       "      <td>NaN</td>\n",
       "      <td>NaN</td>\n",
       "    </tr>\n",
       "  </tbody>\n",
       "</table>\n",
       "</div>"
      ],
      "text/plain": [
       "                        Name Platform  Year_of_Release         Genre  \\\n",
       "0                 Wii Sports      Wii           2006.0        Sports   \n",
       "1          Super Mario Bros.      NES           1985.0      Platform   \n",
       "2             Mario Kart Wii      Wii           2008.0        Racing   \n",
       "3          Wii Sports Resort      Wii           2009.0        Sports   \n",
       "4   Pokemon Red/Pokemon Blue       GB           1996.0  Role-Playing   \n",
       "5                     Tetris       GB           1989.0        Puzzle   \n",
       "6      New Super Mario Bros.       DS           2006.0      Platform   \n",
       "7                   Wii Play      Wii           2006.0          Misc   \n",
       "8  New Super Mario Bros. Wii      Wii           2009.0      Platform   \n",
       "9                  Duck Hunt      NES           1984.0       Shooter   \n",
       "\n",
       "   NA_sales  EU_sales  JP_sales  Other_sales  Critic_Score User_Score Rating  \n",
       "0     41.36     28.96      3.77         8.45          76.0          8      E  \n",
       "1     29.08      3.58      6.81         0.77           NaN        NaN    NaN  \n",
       "2     15.68     12.76      3.79         3.29          82.0        8.3      E  \n",
       "3     15.61     10.93      3.28         2.95          80.0          8      E  \n",
       "4     11.27      8.89     10.22         1.00           NaN        NaN    NaN  \n",
       "5     23.20      2.26      4.22         0.58           NaN        NaN    NaN  \n",
       "6     11.28      9.14      6.50         2.88          89.0        8.5      E  \n",
       "7     13.96      9.18      2.93         2.84          58.0        6.6      E  \n",
       "8     14.44      6.94      4.70         2.24          87.0        8.4      E  \n",
       "9     26.93      0.63      0.28         0.47           NaN        NaN    NaN  "
      ]
     },
     "execution_count": 2,
     "metadata": {},
     "output_type": "execute_result"
    }
   ],
   "source": [
    "data = pd.read_csv('/datasets/games.csv')\n",
    "data.head(10)"
   ]
  },
  {
   "cell_type": "markdown",
   "metadata": {},
   "source": [
    " В представленном датасете **11 столбцов**:\n",
    "- **Name** — название игры\n",
    "- **Platform** — платформа\n",
    "- **Year_of_Release** — год выпуска\n",
    "- **Genre** — жанр игры\n",
    "- **NA_sales** — продажи в Северной Америке (миллионы проданных копий)\n",
    "- **EU_sales** — продажи в Европе (миллионы проданных копий)\n",
    "- **JP_sales** — продажи в Японии (миллионы проданных копий)\n",
    "- **Other_sales** — продажи в других странах (миллионы проданных копий)\n",
    "- **Critic_Score** — оценка критиков (максимум 100)\n",
    "- **User_Score** — оценка пользователей (максимум 10)\n",
    "- **Rating** — рейтинг от организации ESRB (англ. Entertainment Software Rating Board). Эта ассоциация определяет рейтинг компьютерных игр и присваивает им подходящую возрастную категорию."
   ]
  },
  {
   "cell_type": "code",
   "execution_count": 3,
   "metadata": {},
   "outputs": [
    {
     "name": "stdout",
     "output_type": "stream",
     "text": [
      "<class 'pandas.core.frame.DataFrame'>\n",
      "RangeIndex: 16715 entries, 0 to 16714\n",
      "Data columns (total 11 columns):\n",
      " #   Column           Non-Null Count  Dtype  \n",
      "---  ------           --------------  -----  \n",
      " 0   Name             16713 non-null  object \n",
      " 1   Platform         16715 non-null  object \n",
      " 2   Year_of_Release  16446 non-null  float64\n",
      " 3   Genre            16713 non-null  object \n",
      " 4   NA_sales         16715 non-null  float64\n",
      " 5   EU_sales         16715 non-null  float64\n",
      " 6   JP_sales         16715 non-null  float64\n",
      " 7   Other_sales      16715 non-null  float64\n",
      " 8   Critic_Score     8137 non-null   float64\n",
      " 9   User_Score       10014 non-null  object \n",
      " 10  Rating           9949 non-null   object \n",
      "dtypes: float64(6), object(5)\n",
      "memory usage: 1.4+ MB\n"
     ]
    }
   ],
   "source": [
    "data.info()"
   ]
  },
  {
   "cell_type": "code",
   "execution_count": 4,
   "metadata": {},
   "outputs": [
    {
     "data": {
      "text/html": [
       "<div>\n",
       "<style scoped>\n",
       "    .dataframe tbody tr th:only-of-type {\n",
       "        vertical-align: middle;\n",
       "    }\n",
       "\n",
       "    .dataframe tbody tr th {\n",
       "        vertical-align: top;\n",
       "    }\n",
       "\n",
       "    .dataframe thead th {\n",
       "        text-align: right;\n",
       "    }\n",
       "</style>\n",
       "<table border=\"1\" class=\"dataframe\">\n",
       "  <thead>\n",
       "    <tr style=\"text-align: right;\">\n",
       "      <th></th>\n",
       "      <th>Year_of_Release</th>\n",
       "      <th>NA_sales</th>\n",
       "      <th>EU_sales</th>\n",
       "      <th>JP_sales</th>\n",
       "      <th>Other_sales</th>\n",
       "      <th>Critic_Score</th>\n",
       "    </tr>\n",
       "  </thead>\n",
       "  <tbody>\n",
       "    <tr>\n",
       "      <th>count</th>\n",
       "      <td>16446.000000</td>\n",
       "      <td>16715.000000</td>\n",
       "      <td>16715.000000</td>\n",
       "      <td>16715.000000</td>\n",
       "      <td>16715.000000</td>\n",
       "      <td>8137.000000</td>\n",
       "    </tr>\n",
       "    <tr>\n",
       "      <th>mean</th>\n",
       "      <td>2006.484616</td>\n",
       "      <td>0.263377</td>\n",
       "      <td>0.145060</td>\n",
       "      <td>0.077617</td>\n",
       "      <td>0.047342</td>\n",
       "      <td>68.967679</td>\n",
       "    </tr>\n",
       "    <tr>\n",
       "      <th>std</th>\n",
       "      <td>5.877050</td>\n",
       "      <td>0.813604</td>\n",
       "      <td>0.503339</td>\n",
       "      <td>0.308853</td>\n",
       "      <td>0.186731</td>\n",
       "      <td>13.938165</td>\n",
       "    </tr>\n",
       "    <tr>\n",
       "      <th>min</th>\n",
       "      <td>1980.000000</td>\n",
       "      <td>0.000000</td>\n",
       "      <td>0.000000</td>\n",
       "      <td>0.000000</td>\n",
       "      <td>0.000000</td>\n",
       "      <td>13.000000</td>\n",
       "    </tr>\n",
       "    <tr>\n",
       "      <th>25%</th>\n",
       "      <td>2003.000000</td>\n",
       "      <td>0.000000</td>\n",
       "      <td>0.000000</td>\n",
       "      <td>0.000000</td>\n",
       "      <td>0.000000</td>\n",
       "      <td>60.000000</td>\n",
       "    </tr>\n",
       "    <tr>\n",
       "      <th>50%</th>\n",
       "      <td>2007.000000</td>\n",
       "      <td>0.080000</td>\n",
       "      <td>0.020000</td>\n",
       "      <td>0.000000</td>\n",
       "      <td>0.010000</td>\n",
       "      <td>71.000000</td>\n",
       "    </tr>\n",
       "    <tr>\n",
       "      <th>75%</th>\n",
       "      <td>2010.000000</td>\n",
       "      <td>0.240000</td>\n",
       "      <td>0.110000</td>\n",
       "      <td>0.040000</td>\n",
       "      <td>0.030000</td>\n",
       "      <td>79.000000</td>\n",
       "    </tr>\n",
       "    <tr>\n",
       "      <th>max</th>\n",
       "      <td>2016.000000</td>\n",
       "      <td>41.360000</td>\n",
       "      <td>28.960000</td>\n",
       "      <td>10.220000</td>\n",
       "      <td>10.570000</td>\n",
       "      <td>98.000000</td>\n",
       "    </tr>\n",
       "  </tbody>\n",
       "</table>\n",
       "</div>"
      ],
      "text/plain": [
       "       Year_of_Release      NA_sales      EU_sales      JP_sales  \\\n",
       "count     16446.000000  16715.000000  16715.000000  16715.000000   \n",
       "mean       2006.484616      0.263377      0.145060      0.077617   \n",
       "std           5.877050      0.813604      0.503339      0.308853   \n",
       "min        1980.000000      0.000000      0.000000      0.000000   \n",
       "25%        2003.000000      0.000000      0.000000      0.000000   \n",
       "50%        2007.000000      0.080000      0.020000      0.000000   \n",
       "75%        2010.000000      0.240000      0.110000      0.040000   \n",
       "max        2016.000000     41.360000     28.960000     10.220000   \n",
       "\n",
       "        Other_sales  Critic_Score  \n",
       "count  16715.000000   8137.000000  \n",
       "mean       0.047342     68.967679  \n",
       "std        0.186731     13.938165  \n",
       "min        0.000000     13.000000  \n",
       "25%        0.000000     60.000000  \n",
       "50%        0.010000     71.000000  \n",
       "75%        0.030000     79.000000  \n",
       "max       10.570000     98.000000  "
      ]
     },
     "execution_count": 4,
     "metadata": {},
     "output_type": "execute_result"
    }
   ],
   "source": [
    "data.describe()"
   ]
  },
  {
   "cell_type": "markdown",
   "metadata": {},
   "source": [
    "**Вывод**\n",
    "\n",
    "Мы располагаем информацией о **16 715 играх с 1980 по 2016 год**, но есть пропущенные значения в некоторых столбцах. А также необходимо поменять форматы столбцов. И внимательно рассмотреть данные, чтобы выявить возможные ошибки.\n"
   ]
  },
  {
   "cell_type": "markdown",
   "metadata": {},
   "source": [
    "## Предобработка данных"
   ]
  },
  {
   "cell_type": "markdown",
   "metadata": {},
   "source": [
    "### Работа с регистром"
   ]
  },
  {
   "cell_type": "markdown",
   "metadata": {},
   "source": [
    "Приведем все названия столбцов к нижнему регистру:"
   ]
  },
  {
   "cell_type": "code",
   "execution_count": 5,
   "metadata": {},
   "outputs": [
    {
     "data": {
      "text/html": [
       "<div>\n",
       "<style scoped>\n",
       "    .dataframe tbody tr th:only-of-type {\n",
       "        vertical-align: middle;\n",
       "    }\n",
       "\n",
       "    .dataframe tbody tr th {\n",
       "        vertical-align: top;\n",
       "    }\n",
       "\n",
       "    .dataframe thead th {\n",
       "        text-align: right;\n",
       "    }\n",
       "</style>\n",
       "<table border=\"1\" class=\"dataframe\">\n",
       "  <thead>\n",
       "    <tr style=\"text-align: right;\">\n",
       "      <th></th>\n",
       "      <th>name</th>\n",
       "      <th>platform</th>\n",
       "      <th>year_of_release</th>\n",
       "      <th>genre</th>\n",
       "      <th>na_sales</th>\n",
       "      <th>eu_sales</th>\n",
       "      <th>jp_sales</th>\n",
       "      <th>other_sales</th>\n",
       "      <th>critic_score</th>\n",
       "      <th>user_score</th>\n",
       "      <th>rating</th>\n",
       "    </tr>\n",
       "  </thead>\n",
       "  <tbody>\n",
       "    <tr>\n",
       "      <th>0</th>\n",
       "      <td>Wii Sports</td>\n",
       "      <td>Wii</td>\n",
       "      <td>2006.0</td>\n",
       "      <td>Sports</td>\n",
       "      <td>41.36</td>\n",
       "      <td>28.96</td>\n",
       "      <td>3.77</td>\n",
       "      <td>8.45</td>\n",
       "      <td>76.0</td>\n",
       "      <td>8</td>\n",
       "      <td>E</td>\n",
       "    </tr>\n",
       "    <tr>\n",
       "      <th>1</th>\n",
       "      <td>Super Mario Bros.</td>\n",
       "      <td>NES</td>\n",
       "      <td>1985.0</td>\n",
       "      <td>Platform</td>\n",
       "      <td>29.08</td>\n",
       "      <td>3.58</td>\n",
       "      <td>6.81</td>\n",
       "      <td>0.77</td>\n",
       "      <td>NaN</td>\n",
       "      <td>NaN</td>\n",
       "      <td>NaN</td>\n",
       "    </tr>\n",
       "    <tr>\n",
       "      <th>2</th>\n",
       "      <td>Mario Kart Wii</td>\n",
       "      <td>Wii</td>\n",
       "      <td>2008.0</td>\n",
       "      <td>Racing</td>\n",
       "      <td>15.68</td>\n",
       "      <td>12.76</td>\n",
       "      <td>3.79</td>\n",
       "      <td>3.29</td>\n",
       "      <td>82.0</td>\n",
       "      <td>8.3</td>\n",
       "      <td>E</td>\n",
       "    </tr>\n",
       "    <tr>\n",
       "      <th>3</th>\n",
       "      <td>Wii Sports Resort</td>\n",
       "      <td>Wii</td>\n",
       "      <td>2009.0</td>\n",
       "      <td>Sports</td>\n",
       "      <td>15.61</td>\n",
       "      <td>10.93</td>\n",
       "      <td>3.28</td>\n",
       "      <td>2.95</td>\n",
       "      <td>80.0</td>\n",
       "      <td>8</td>\n",
       "      <td>E</td>\n",
       "    </tr>\n",
       "    <tr>\n",
       "      <th>4</th>\n",
       "      <td>Pokemon Red/Pokemon Blue</td>\n",
       "      <td>GB</td>\n",
       "      <td>1996.0</td>\n",
       "      <td>Role-Playing</td>\n",
       "      <td>11.27</td>\n",
       "      <td>8.89</td>\n",
       "      <td>10.22</td>\n",
       "      <td>1.00</td>\n",
       "      <td>NaN</td>\n",
       "      <td>NaN</td>\n",
       "      <td>NaN</td>\n",
       "    </tr>\n",
       "  </tbody>\n",
       "</table>\n",
       "</div>"
      ],
      "text/plain": [
       "                       name platform  year_of_release         genre  na_sales  \\\n",
       "0                Wii Sports      Wii           2006.0        Sports     41.36   \n",
       "1         Super Mario Bros.      NES           1985.0      Platform     29.08   \n",
       "2            Mario Kart Wii      Wii           2008.0        Racing     15.68   \n",
       "3         Wii Sports Resort      Wii           2009.0        Sports     15.61   \n",
       "4  Pokemon Red/Pokemon Blue       GB           1996.0  Role-Playing     11.27   \n",
       "\n",
       "   eu_sales  jp_sales  other_sales  critic_score user_score rating  \n",
       "0     28.96      3.77         8.45          76.0          8      E  \n",
       "1      3.58      6.81         0.77           NaN        NaN    NaN  \n",
       "2     12.76      3.79         3.29          82.0        8.3      E  \n",
       "3     10.93      3.28         2.95          80.0          8      E  \n",
       "4      8.89     10.22         1.00           NaN        NaN    NaN  "
      ]
     },
     "execution_count": 5,
     "metadata": {},
     "output_type": "execute_result"
    }
   ],
   "source": [
    "data.columns = data.columns.str.lower()\n",
    "data.head(5)"
   ]
  },
  {
   "cell_type": "markdown",
   "metadata": {},
   "source": [
    "### Работа с пропусками"
   ]
  },
  {
   "cell_type": "markdown",
   "metadata": {},
   "source": [
    "Выведем информацию о пропусках, процент содержания NaN в каждом столбце относительно общего количества строк:"
   ]
  },
  {
   "cell_type": "code",
   "execution_count": 6,
   "metadata": {},
   "outputs": [],
   "source": [
    "# функция, получает на вход название столбца и возвращающает количество и процент пропущенных значений\n",
    "def nan_ratio(column):\n",
    "    nan = len(data[data[column].isna()])/ len(data)\n",
    "    return print(f'Процент пропущенных значений в столбце {column}: {nan:.1%}, {len(data[data[column].isna()])} значений')"
   ]
  },
  {
   "cell_type": "code",
   "execution_count": 7,
   "metadata": {},
   "outputs": [
    {
     "name": "stdout",
     "output_type": "stream",
     "text": [
      "Процент пропущенных значений в столбце name: 0.0%, 2 значений\n",
      "Процент пропущенных значений в столбце year_of_release: 1.6%, 269 значений\n",
      "Процент пропущенных значений в столбце genre: 0.0%, 2 значений\n",
      "Процент пропущенных значений в столбце critic_score: 51.3%, 8578 значений\n",
      "Процент пропущенных значений в столбце user_score: 40.1%, 6701 значений\n",
      "Процент пропущенных значений в столбце rating: 40.5%, 6766 значений\n"
     ]
    }
   ],
   "source": [
    "# выведем % пропусков, для всех столбцов в которых они есть:\n",
    "for column in data.columns:\n",
    "    if len(data[data[column].isna()]) > 0:\n",
    "        nan_ratio(column)"
   ]
  },
  {
   "cell_type": "markdown",
   "metadata": {},
   "source": [
    "Пропуски в столбцах **name, year_of_release, genre** выглядят случайными и возможно связанны с ошибками выгрузки, но т.к. процент этих пропусков очень низкий, можем удалить строки с пропусками из датафрейма:"
   ]
  },
  {
   "cell_type": "code",
   "execution_count": 8,
   "metadata": {},
   "outputs": [
    {
     "name": "stdout",
     "output_type": "stream",
     "text": [
      "<class 'pandas.core.frame.DataFrame'>\n",
      "Int64Index: 16444 entries, 0 to 16714\n",
      "Data columns (total 11 columns):\n",
      " #   Column           Non-Null Count  Dtype  \n",
      "---  ------           --------------  -----  \n",
      " 0   name             16444 non-null  object \n",
      " 1   platform         16444 non-null  object \n",
      " 2   year_of_release  16444 non-null  float64\n",
      " 3   genre            16444 non-null  object \n",
      " 4   na_sales         16444 non-null  float64\n",
      " 5   eu_sales         16444 non-null  float64\n",
      " 6   jp_sales         16444 non-null  float64\n",
      " 7   other_sales      16444 non-null  float64\n",
      " 8   critic_score     7983 non-null   float64\n",
      " 9   user_score       9839 non-null   object \n",
      " 10  rating           9768 non-null   object \n",
      "dtypes: float64(6), object(5)\n",
      "memory usage: 1.5+ MB\n"
     ]
    }
   ],
   "source": [
    "columns = ['name', 'year_of_release', 'genre']\n",
    "for column in columns:\n",
    "    data.dropna(subset=[column],inplace=True)\n",
    "data.info()"
   ]
  },
  {
   "cell_type": "markdown",
   "metadata": {},
   "source": [
    "В столбцах с оценками критиков и пользователей отсутствует около половины значений. Мы не можем заполнить эти значения средними или медианными или другими числовыми значениями, т.к. это сильно повлияет на корректность исследования, поэтому оставляем пропуски."
   ]
  },
  {
   "cell_type": "markdown",
   "metadata": {},
   "source": [
    "Внимательно рассмотрим столбец **user_score**, помимо пропусков у него формат **object**, а должен быть числовой:"
   ]
  },
  {
   "cell_type": "code",
   "execution_count": 9,
   "metadata": {},
   "outputs": [
    {
     "data": {
      "text/plain": [
       "array(['8', nan, '8.3', '8.5', '6.6', '8.4', '8.6', '7.7', '6.3', '7.4',\n",
       "       '8.2', '9', '7.9', '8.1', '8.7', '7.1', '3.4', '5.3', '4.8', '3.2',\n",
       "       '8.9', '6.4', '7.8', '7.5', '2.6', '7.2', '9.2', '7', '7.3', '4.3',\n",
       "       '7.6', '5.7', '5', '9.1', '6.5', 'tbd', '8.8', '6.9', '9.4', '6.8',\n",
       "       '6.1', '6.7', '5.4', '4', '4.9', '4.5', '9.3', '6.2', '4.2', '6',\n",
       "       '3.7', '4.1', '5.8', '5.6', '5.5', '4.4', '4.6', '5.9', '3.9',\n",
       "       '3.1', '2.9', '5.2', '3.3', '4.7', '5.1', '3.5', '2.5', '1.9', '3',\n",
       "       '2.7', '2.2', '2', '9.5', '2.1', '3.6', '2.8', '1.8', '3.8', '0',\n",
       "       '1.6', '9.6', '2.4', '1.7', '1.1', '0.3', '1.5', '0.7', '1.2',\n",
       "       '2.3', '0.5', '1.3', '0.2', '0.6', '1.4', '0.9', '1', '9.7'],\n",
       "      dtype=object)"
      ]
     },
     "execution_count": 9,
     "metadata": {},
     "output_type": "execute_result"
    }
   ],
   "source": [
    "data['user_score'].unique()"
   ]
  },
  {
   "cell_type": "markdown",
   "metadata": {},
   "source": [
    "В столбце games **user_score** помимо пропусков встречается значение **tbd**, что означает, что рейтинг неопределен, и по смыслу можно заменить пропуском, и привести столбец к числовому формату:"
   ]
  },
  {
   "cell_type": "code",
   "execution_count": 10,
   "metadata": {},
   "outputs": [],
   "source": [
    "data['user_score'] = data['user_score'].replace('tbd', np.NaN)"
   ]
  },
  {
   "cell_type": "markdown",
   "metadata": {},
   "source": [
    "Рассмотрим значения в столбце **rating**:"
   ]
  },
  {
   "cell_type": "code",
   "execution_count": 11,
   "metadata": {},
   "outputs": [
    {
     "data": {
      "text/plain": [
       "array(['E', nan, 'M', 'T', 'E10+', 'K-A', 'AO', 'EC', 'RP'], dtype=object)"
      ]
     },
     "execution_count": 11,
     "metadata": {},
     "output_type": "execute_result"
    }
   ],
   "source": [
    "data['rating'].unique()"
   ]
  },
  {
   "cell_type": "markdown",
   "metadata": {},
   "source": [
    "Расшифруем обозначения:\n",
    "\n",
    "- «E» — «Для всех»\n",
    "- «E10+» — «Для всех от 10 лет и старше»\n",
    "- «T» — «Подросткам»\n",
    "- «M» — «Для взрослых»\n",
    "- «AO» — «Только для взрослых»\n",
    "- «RP» — «Рейтинг ожидается»\n",
    "- «EC» — «Для детей младшего возраста»\n",
    "- «K-A»— «Для детей и взрослых» (устаревшее название для «E»)"
   ]
  },
  {
   "cell_type": "markdown",
   "metadata": {},
   "source": [
    "Приведем их к единому виду:"
   ]
  },
  {
   "cell_type": "code",
   "execution_count": 12,
   "metadata": {},
   "outputs": [],
   "source": [
    "data['rating'] = data['rating'].replace('K-A', 'E')"
   ]
  },
  {
   "cell_type": "markdown",
   "metadata": {},
   "source": [
    "В столбце **rating** пропуски составляют 40%. Это может быть связанно стем, что:\n",
    "- ESRB появился в 1994 г., не все игры вышли позже\n",
    "- отличие Японской рейтинговой системы\n",
    "- возможные ошибки\n",
    "\n",
    "Чтобы не терять возможность проанализировать эти данные заменим их маркерным значение **tbd**."
   ]
  },
  {
   "cell_type": "code",
   "execution_count": 13,
   "metadata": {},
   "outputs": [],
   "source": [
    "data['rating'] = data['rating'].fillna('tbd')"
   ]
  },
  {
   "cell_type": "code",
   "execution_count": 14,
   "metadata": {},
   "outputs": [
    {
     "data": {
      "text/plain": [
       "array(['E', 'tbd', 'M', 'T', 'E10+', 'AO', 'EC', 'RP'], dtype=object)"
      ]
     },
     "execution_count": 14,
     "metadata": {},
     "output_type": "execute_result"
    }
   ],
   "source": [
    "data['rating'].unique()"
   ]
  },
  {
   "cell_type": "code",
   "execution_count": 15,
   "metadata": {},
   "outputs": [
    {
     "name": "stdout",
     "output_type": "stream",
     "text": [
      "Процент пропущенных значений в столбце critic_score: 51.5%, 8461 значений\n",
      "Процент пропущенных значений в столбце user_score: 54.6%, 8981 значений\n"
     ]
    }
   ],
   "source": [
    "# выведем % пропусков, для всех столбцов в которых они есть:\n",
    "for column in data.columns:\n",
    "    if len(data[data[column].isna()]) > 0:\n",
    "        nan_ratio(column)"
   ]
  },
  {
   "cell_type": "markdown",
   "metadata": {},
   "source": [
    "### Замена типов данных"
   ]
  },
  {
   "cell_type": "markdown",
   "metadata": {},
   "source": [
    "Столбец **year_of_release** приведем к целочисленному типу, т.к. значения года выпуска игр - целое число без знаков после запятой:"
   ]
  },
  {
   "cell_type": "code",
   "execution_count": 16,
   "metadata": {},
   "outputs": [],
   "source": [
    "data['year_of_release'] = data['year_of_release'].astype('int32')"
   ]
  },
  {
   "cell_type": "markdown",
   "metadata": {},
   "source": [
    "Столбец **user_score** приведем к числовому формату:"
   ]
  },
  {
   "cell_type": "code",
   "execution_count": 17,
   "metadata": {},
   "outputs": [],
   "source": [
    "data['user_score'] = data['user_score'].astype('float32')"
   ]
  },
  {
   "cell_type": "markdown",
   "metadata": {},
   "source": [
    "### Работа с дубликатами"
   ]
  },
  {
   "cell_type": "markdown",
   "metadata": {},
   "source": [
    "Проверим на явные дубликаты:"
   ]
  },
  {
   "cell_type": "code",
   "execution_count": 18,
   "metadata": {},
   "outputs": [
    {
     "data": {
      "text/plain": [
       "0"
      ]
     },
     "execution_count": 18,
     "metadata": {},
     "output_type": "execute_result"
    }
   ],
   "source": [
    "data.duplicated().sum()"
   ]
  },
  {
   "cell_type": "markdown",
   "metadata": {},
   "source": [
    "Рассмотрим уникальные значениея в текстовых столбцах **platform**, **genre**:"
   ]
  },
  {
   "cell_type": "code",
   "execution_count": 19,
   "metadata": {},
   "outputs": [
    {
     "data": {
      "text/plain": [
       "(array(['Wii', 'NES', 'GB', 'DS', 'X360', 'PS3', 'PS2', 'SNES', 'GBA',\n",
       "        'PS4', '3DS', 'N64', 'PS', 'XB', 'PC', '2600', 'PSP', 'XOne',\n",
       "        'WiiU', 'GC', 'GEN', 'DC', 'PSV', 'SAT', 'SCD', 'WS', 'NG', 'TG16',\n",
       "        '3DO', 'GG', 'PCFX'], dtype=object),\n",
       " array(['Sports', 'Platform', 'Racing', 'Role-Playing', 'Puzzle', 'Misc',\n",
       "        'Shooter', 'Simulation', 'Action', 'Fighting', 'Adventure',\n",
       "        'Strategy'], dtype=object))"
      ]
     },
     "execution_count": 19,
     "metadata": {},
     "output_type": "execute_result"
    }
   ],
   "source": [
    "data['platform'].unique(), data['genre'].unique()"
   ]
  },
  {
   "cell_type": "markdown",
   "metadata": {},
   "source": [
    "Неявных дубликатов нет."
   ]
  },
  {
   "cell_type": "markdown",
   "metadata": {},
   "source": [
    "### Формирование дополнительного столбца"
   ]
  },
  {
   "cell_type": "markdown",
   "metadata": {},
   "source": [
    "Сформируем столбец **total_sales** с сумарными продажами для всех регионов по каждой игре: "
   ]
  },
  {
   "cell_type": "code",
   "execution_count": 20,
   "metadata": {},
   "outputs": [
    {
     "data": {
      "text/html": [
       "<div>\n",
       "<style scoped>\n",
       "    .dataframe tbody tr th:only-of-type {\n",
       "        vertical-align: middle;\n",
       "    }\n",
       "\n",
       "    .dataframe tbody tr th {\n",
       "        vertical-align: top;\n",
       "    }\n",
       "\n",
       "    .dataframe thead th {\n",
       "        text-align: right;\n",
       "    }\n",
       "</style>\n",
       "<table border=\"1\" class=\"dataframe\">\n",
       "  <thead>\n",
       "    <tr style=\"text-align: right;\">\n",
       "      <th></th>\n",
       "      <th>name</th>\n",
       "      <th>platform</th>\n",
       "      <th>year_of_release</th>\n",
       "      <th>genre</th>\n",
       "      <th>na_sales</th>\n",
       "      <th>eu_sales</th>\n",
       "      <th>jp_sales</th>\n",
       "      <th>other_sales</th>\n",
       "      <th>critic_score</th>\n",
       "      <th>user_score</th>\n",
       "      <th>rating</th>\n",
       "      <th>total_sales</th>\n",
       "    </tr>\n",
       "  </thead>\n",
       "  <tbody>\n",
       "    <tr>\n",
       "      <th>0</th>\n",
       "      <td>Wii Sports</td>\n",
       "      <td>Wii</td>\n",
       "      <td>2006</td>\n",
       "      <td>Sports</td>\n",
       "      <td>41.36</td>\n",
       "      <td>28.96</td>\n",
       "      <td>3.77</td>\n",
       "      <td>8.45</td>\n",
       "      <td>76.0</td>\n",
       "      <td>8.0</td>\n",
       "      <td>E</td>\n",
       "      <td>82.54</td>\n",
       "    </tr>\n",
       "    <tr>\n",
       "      <th>1</th>\n",
       "      <td>Super Mario Bros.</td>\n",
       "      <td>NES</td>\n",
       "      <td>1985</td>\n",
       "      <td>Platform</td>\n",
       "      <td>29.08</td>\n",
       "      <td>3.58</td>\n",
       "      <td>6.81</td>\n",
       "      <td>0.77</td>\n",
       "      <td>NaN</td>\n",
       "      <td>NaN</td>\n",
       "      <td>tbd</td>\n",
       "      <td>40.24</td>\n",
       "    </tr>\n",
       "    <tr>\n",
       "      <th>2</th>\n",
       "      <td>Mario Kart Wii</td>\n",
       "      <td>Wii</td>\n",
       "      <td>2008</td>\n",
       "      <td>Racing</td>\n",
       "      <td>15.68</td>\n",
       "      <td>12.76</td>\n",
       "      <td>3.79</td>\n",
       "      <td>3.29</td>\n",
       "      <td>82.0</td>\n",
       "      <td>8.3</td>\n",
       "      <td>E</td>\n",
       "      <td>35.52</td>\n",
       "    </tr>\n",
       "    <tr>\n",
       "      <th>3</th>\n",
       "      <td>Wii Sports Resort</td>\n",
       "      <td>Wii</td>\n",
       "      <td>2009</td>\n",
       "      <td>Sports</td>\n",
       "      <td>15.61</td>\n",
       "      <td>10.93</td>\n",
       "      <td>3.28</td>\n",
       "      <td>2.95</td>\n",
       "      <td>80.0</td>\n",
       "      <td>8.0</td>\n",
       "      <td>E</td>\n",
       "      <td>32.77</td>\n",
       "    </tr>\n",
       "    <tr>\n",
       "      <th>4</th>\n",
       "      <td>Pokemon Red/Pokemon Blue</td>\n",
       "      <td>GB</td>\n",
       "      <td>1996</td>\n",
       "      <td>Role-Playing</td>\n",
       "      <td>11.27</td>\n",
       "      <td>8.89</td>\n",
       "      <td>10.22</td>\n",
       "      <td>1.00</td>\n",
       "      <td>NaN</td>\n",
       "      <td>NaN</td>\n",
       "      <td>tbd</td>\n",
       "      <td>31.38</td>\n",
       "    </tr>\n",
       "  </tbody>\n",
       "</table>\n",
       "</div>"
      ],
      "text/plain": [
       "                       name platform  year_of_release         genre  na_sales  \\\n",
       "0                Wii Sports      Wii             2006        Sports     41.36   \n",
       "1         Super Mario Bros.      NES             1985      Platform     29.08   \n",
       "2            Mario Kart Wii      Wii             2008        Racing     15.68   \n",
       "3         Wii Sports Resort      Wii             2009        Sports     15.61   \n",
       "4  Pokemon Red/Pokemon Blue       GB             1996  Role-Playing     11.27   \n",
       "\n",
       "   eu_sales  jp_sales  other_sales  critic_score  user_score rating  \\\n",
       "0     28.96      3.77         8.45          76.0         8.0      E   \n",
       "1      3.58      6.81         0.77           NaN         NaN    tbd   \n",
       "2     12.76      3.79         3.29          82.0         8.3      E   \n",
       "3     10.93      3.28         2.95          80.0         8.0      E   \n",
       "4      8.89     10.22         1.00           NaN         NaN    tbd   \n",
       "\n",
       "   total_sales  \n",
       "0        82.54  \n",
       "1        40.24  \n",
       "2        35.52  \n",
       "3        32.77  \n",
       "4        31.38  "
      ]
     },
     "execution_count": 20,
     "metadata": {},
     "output_type": "execute_result"
    }
   ],
   "source": [
    "data['total_sales'] = data['na_sales'] + data['eu_sales'] + data['jp_sales'] + data['other_sales']\n",
    "data.head(5)"
   ]
  },
  {
   "cell_type": "markdown",
   "metadata": {},
   "source": [
    "### Вывод\n",
    "\n",
    "Данные подготовлены для дальнейшего анализа:\n",
    "\n",
    "- название столбцов приведено к нижнему регистру\n",
    "- проведена работа с пропусками\n",
    "- исправленны ошибки в данных\n",
    "- проведена работа с типами данных\n",
    "- сформирован дополнительный столбец с суммарными значениями продаж\n"
   ]
  },
  {
   "cell_type": "markdown",
   "metadata": {},
   "source": [
    "## Исследовательский анализ данных"
   ]
  },
  {
   "cell_type": "markdown",
   "metadata": {},
   "source": [
    "### Выпуск игр по годам"
   ]
  },
  {
   "cell_type": "markdown",
   "metadata": {},
   "source": [
    "Посмотрим на выпуск игр по годам, для наглядности построим столбчатую диаграмму:"
   ]
  },
  {
   "cell_type": "code",
   "execution_count": 21,
   "metadata": {},
   "outputs": [
    {
     "data": {
      "text/plain": [
       "Text(0.5, 1.0, 'Выпуск игр по годам')"
      ]
     },
     "execution_count": 21,
     "metadata": {},
     "output_type": "execute_result"
    },
    {
     "data": {
      "image/png": "[encoded data removed]",
      "text/plain": [
       "<Figure size 792x432 with 1 Axes>"
      ]
     },
     "metadata": {
      "needs_background": "light"
     },
     "output_type": "display_data"
    }
   ],
   "source": [
    "data.pivot_table(index = 'year_of_release', values = 'name', aggfunc = 'count').plot(kind='bar', figsize=(11, 6) )\n",
    "plt.legend(['количество релизов'])\n",
    "plt.title('Выпуск игр по годам')"
   ]
  },
  {
   "cell_type": "markdown",
   "metadata": {},
   "source": [
    "Мы видим, что первые платформы появились в 1980 году. С 1994 года можно наблюдать активный рост, который шел до 2009 года. Пик 2008-2009 года. А после роста количество релизов пошло на спад. Это может быть связанно с активным развитием мобильных приложений и игр, а также активным развитием соцсетей."
   ]
  },
  {
   "cell_type": "markdown",
   "metadata": {},
   "source": [
    "### Продажи по платформам"
   ]
  },
  {
   "cell_type": "markdown",
   "metadata": {},
   "source": [
    "Проанализируем продажи по платформам:\n"
   ]
  },
  {
   "cell_type": "code",
   "execution_count": 22,
   "metadata": {},
   "outputs": [
    {
     "data": {
      "text/html": [
       "<div>\n",
       "<style scoped>\n",
       "    .dataframe tbody tr th:only-of-type {\n",
       "        vertical-align: middle;\n",
       "    }\n",
       "\n",
       "    .dataframe tbody tr th {\n",
       "        vertical-align: top;\n",
       "    }\n",
       "\n",
       "    .dataframe thead th {\n",
       "        text-align: right;\n",
       "    }\n",
       "</style>\n",
       "<table border=\"1\" class=\"dataframe\">\n",
       "  <thead>\n",
       "    <tr style=\"text-align: right;\">\n",
       "      <th></th>\n",
       "      <th>total_sales</th>\n",
       "    </tr>\n",
       "    <tr>\n",
       "      <th>platform</th>\n",
       "      <th></th>\n",
       "    </tr>\n",
       "  </thead>\n",
       "  <tbody>\n",
       "    <tr>\n",
       "      <th>PS2</th>\n",
       "      <td>1233.56</td>\n",
       "    </tr>\n",
       "    <tr>\n",
       "      <th>X360</th>\n",
       "      <td>961.24</td>\n",
       "    </tr>\n",
       "    <tr>\n",
       "      <th>PS3</th>\n",
       "      <td>931.34</td>\n",
       "    </tr>\n",
       "    <tr>\n",
       "      <th>Wii</th>\n",
       "      <td>891.18</td>\n",
       "    </tr>\n",
       "    <tr>\n",
       "      <th>DS</th>\n",
       "      <td>802.78</td>\n",
       "    </tr>\n",
       "    <tr>\n",
       "      <th>PS</th>\n",
       "      <td>727.58</td>\n",
       "    </tr>\n",
       "    <tr>\n",
       "      <th>PS4</th>\n",
       "      <td>314.14</td>\n",
       "    </tr>\n",
       "    <tr>\n",
       "      <th>GBA</th>\n",
       "      <td>312.88</td>\n",
       "    </tr>\n",
       "    <tr>\n",
       "      <th>PSP</th>\n",
       "      <td>289.53</td>\n",
       "    </tr>\n",
       "    <tr>\n",
       "      <th>3DS</th>\n",
       "      <td>257.81</td>\n",
       "    </tr>\n",
       "  </tbody>\n",
       "</table>\n",
       "</div>"
      ],
      "text/plain": [
       "          total_sales\n",
       "platform             \n",
       "PS2           1233.56\n",
       "X360           961.24\n",
       "PS3            931.34\n",
       "Wii            891.18\n",
       "DS             802.78\n",
       "PS             727.58\n",
       "PS4            314.14\n",
       "GBA            312.88\n",
       "PSP            289.53\n",
       "3DS            257.81"
      ]
     },
     "execution_count": 22,
     "metadata": {},
     "output_type": "execute_result"
    }
   ],
   "source": [
    "platforms = data.pivot_table(index='platform', values='total_sales', aggfunc='sum')\n",
    "platforms.sort_values(by='total_sales', ascending=False).head(10)"
   ]
  },
  {
   "cell_type": "markdown",
   "metadata": {},
   "source": [
    "Можем выделить 6 платформ с наибольшими сумарными продажами:\n"
   ]
  },
  {
   "cell_type": "code",
   "execution_count": 23,
   "metadata": {},
   "outputs": [],
   "source": [
    "top_platforms = ['PS2', 'X360', 'PS3', 'Wii', 'DS', 'PS']"
   ]
  },
  {
   "cell_type": "markdown",
   "metadata": {},
   "source": [
    "Построим распределение продаж по годам для этих платформ:"
   ]
  },
  {
   "cell_type": "code",
   "execution_count": 24,
   "metadata": {
    "scrolled": false
   },
   "outputs": [
    {
     "data": {
      "image/png": "[encoded data removed]",
      "text/plain": [
       "<Figure size 720x216 with 1 Axes>"
      ]
     },
     "metadata": {
      "needs_background": "light"
     },
     "output_type": "display_data"
    },
    {
     "data": {
      "image/png": "[encoded data removed]",
      "text/plain": [
       "<Figure size 720x216 with 1 Axes>"
      ]
     },
     "metadata": {
      "needs_background": "light"
     },
     "output_type": "display_data"
    },
    {
     "data": {
      "image/png": "[encoded data removed]",
      "text/plain": [
       "<Figure size 720x216 with 1 Axes>"
      ]
     },
     "metadata": {
      "needs_background": "light"
     },
     "output_type": "display_data"
    },
    {
     "data": {
      "image/png": "[encoded data removed]",
      "text/plain": [
       "<Figure size 720x216 with 1 Axes>"
      ]
     },
     "metadata": {
      "needs_background": "light"
     },
     "output_type": "display_data"
    },
    {
     "data": {
      "image/png": "[encoded data removed]",
      "text/plain": [
       "<Figure size 720x216 with 1 Axes>"
      ]
     },
     "metadata": {
      "needs_background": "light"
     },
     "output_type": "display_data"
    },
    {
     "data": {
      "image/png": "[encoded data removed]",
      "text/plain": [
       "<Figure size 720x216 with 1 Axes>"
      ]
     },
     "metadata": {
      "needs_background": "light"
     },
     "output_type": "display_data"
    }
   ],
   "source": [
    "for i in top_platforms:\n",
    "    data.query('platform ==@i').pivot_table(index='year_of_release', values='total_sales', aggfunc='sum').plot(kind='bar', grid=True, figsize=(10, 3))\n",
    "    plt.title(i)"
   ]
  },
  {
   "cell_type": "markdown",
   "metadata": {},
   "source": [
    "На графиках видно что период жизни самым популярных платформ от 10 до 12 лет. Пик активного использования около 5 лет."
   ]
  },
  {
   "cell_type": "markdown",
   "metadata": {},
   "source": [
    "### Актуальный период"
   ]
  },
  {
   "cell_type": "markdown",
   "metadata": {},
   "source": [
    "Определим актуальный период для исследования как  2014-2016 год."
   ]
  },
  {
   "cell_type": "code",
   "execution_count": 25,
   "metadata": {},
   "outputs": [],
   "source": [
    "data_new = data.query('year_of_release > 2013 and year_of_release < 2017')"
   ]
  },
  {
   "cell_type": "markdown",
   "metadata": {},
   "source": [
    "Теперь посмотрим какие платформы лидируют по продажам в обозначенном нами периоде:"
   ]
  },
  {
   "cell_type": "code",
   "execution_count": 26,
   "metadata": {},
   "outputs": [
    {
     "data": {
      "text/html": [
       "<div>\n",
       "<style scoped>\n",
       "    .dataframe tbody tr th:only-of-type {\n",
       "        vertical-align: middle;\n",
       "    }\n",
       "\n",
       "    .dataframe tbody tr th {\n",
       "        vertical-align: top;\n",
       "    }\n",
       "\n",
       "    .dataframe thead th {\n",
       "        text-align: right;\n",
       "    }\n",
       "</style>\n",
       "<table border=\"1\" class=\"dataframe\">\n",
       "  <thead>\n",
       "    <tr style=\"text-align: right;\">\n",
       "      <th></th>\n",
       "      <th>total_sales</th>\n",
       "    </tr>\n",
       "    <tr>\n",
       "      <th>platform</th>\n",
       "      <th></th>\n",
       "    </tr>\n",
       "  </thead>\n",
       "  <tbody>\n",
       "    <tr>\n",
       "      <th>PS4</th>\n",
       "      <td>288.15</td>\n",
       "    </tr>\n",
       "    <tr>\n",
       "      <th>XOne</th>\n",
       "      <td>140.36</td>\n",
       "    </tr>\n",
       "    <tr>\n",
       "      <th>3DS</th>\n",
       "      <td>86.68</td>\n",
       "    </tr>\n",
       "    <tr>\n",
       "      <th>PS3</th>\n",
       "      <td>68.18</td>\n",
       "    </tr>\n",
       "    <tr>\n",
       "      <th>X360</th>\n",
       "      <td>48.22</td>\n",
       "    </tr>\n",
       "    <tr>\n",
       "      <th>WiiU</th>\n",
       "      <td>42.98</td>\n",
       "    </tr>\n",
       "    <tr>\n",
       "      <th>PC</th>\n",
       "      <td>27.05</td>\n",
       "    </tr>\n",
       "    <tr>\n",
       "      <th>PSV</th>\n",
       "      <td>22.40</td>\n",
       "    </tr>\n",
       "    <tr>\n",
       "      <th>Wii</th>\n",
       "      <td>5.07</td>\n",
       "    </tr>\n",
       "    <tr>\n",
       "      <th>PSP</th>\n",
       "      <td>0.36</td>\n",
       "    </tr>\n",
       "  </tbody>\n",
       "</table>\n",
       "</div>"
      ],
      "text/plain": [
       "          total_sales\n",
       "platform             \n",
       "PS4            288.15\n",
       "XOne           140.36\n",
       "3DS             86.68\n",
       "PS3             68.18\n",
       "X360            48.22\n",
       "WiiU            42.98\n",
       "PC              27.05\n",
       "PSV             22.40\n",
       "Wii              5.07\n",
       "PSP              0.36"
      ]
     },
     "execution_count": 26,
     "metadata": {},
     "output_type": "execute_result"
    }
   ],
   "source": [
    "platforms = data_new.pivot_table(index='platform', values='total_sales', aggfunc='sum')\n",
    "platforms.sort_values(by='total_sales', ascending=False).head(10)"
   ]
  },
  {
   "cell_type": "code",
   "execution_count": 27,
   "metadata": {
    "scrolled": false
   },
   "outputs": [
    {
     "data": {
      "image/png": "[encoded data removed]",
      "text/plain": [
       "<Figure size 720x216 with 1 Axes>"
      ]
     },
     "metadata": {
      "needs_background": "light"
     },
     "output_type": "display_data"
    },
    {
     "data": {
      "image/png": "[encoded data removed]",
      "text/plain": [
       "<Figure size 720x216 with 1 Axes>"
      ]
     },
     "metadata": {
      "needs_background": "light"
     },
     "output_type": "display_data"
    },
    {
     "data": {
      "image/png": "[encoded data removed]",
      "text/plain": [
       "<Figure size 720x216 with 1 Axes>"
      ]
     },
     "metadata": {
      "needs_background": "light"
     },
     "output_type": "display_data"
    },
    {
     "data": {
      "image/png": "[encoded data removed]",
      "text/plain": [
       "<Figure size 720x216 with 1 Axes>"
      ]
     },
     "metadata": {
      "needs_background": "light"
     },
     "output_type": "display_data"
    },
    {
     "data": {
      "image/png": "[encoded data removed]",
      "text/plain": [
       "<Figure size 720x216 with 1 Axes>"
      ]
     },
     "metadata": {
      "needs_background": "light"
     },
     "output_type": "display_data"
    }
   ],
   "source": [
    "top_platforms_new = ['PS4', 'PS3','X360', '3DS', 'XOne']\n",
    "for i in top_platforms_new:\n",
    "    data_new.query('platform ==@i').pivot_table(index='year_of_release', values='total_sales', aggfunc='sum').plot(kind='bar', grid=True, figsize=(10, 3))\n",
    "    plt.title(i)"
   ]
  },
  {
   "cell_type": "markdown",
   "metadata": {},
   "source": [
    "Из пяти популярных в актуальном периоде платформ, потенциально прибильными выглядят: **PS4, XOne**. Только набирают свою популярность (т.к. данные за 2016 год могут быть неполными)."
   ]
  },
  {
   "cell_type": "code",
   "execution_count": 28,
   "metadata": {
    "scrolled": false
   },
   "outputs": [
    {
     "data": {
      "image/png": "[encoded data removed]",
      "text/plain": [
       "<Figure size 720x720 with 1 Axes>"
      ]
     },
     "metadata": {
      "needs_background": "light"
     },
     "output_type": "display_data"
    }
   ],
   "source": [
    "data_new.boxplot(column='total_sales', by='platform', figsize=(10,10))\n",
    "plt.ylim(0, 2)\n",
    "plt.show()\n"
   ]
  },
  {
   "cell_type": "markdown",
   "metadata": {},
   "source": [
    "Медиана по платформам варьируется от 0,1 до 0,3 млн проданных копий игры.\n",
    "Судя по размаху \"усов\" больше всего топовых по продажам игр у платформ **X360 и PS4**."
   ]
  },
  {
   "cell_type": "markdown",
   "metadata": {},
   "source": [
    "### Влияние отзывов на продажи"
   ]
  },
  {
   "cell_type": "markdown",
   "metadata": {},
   "source": [
    "Будем рассматривать на примере **PS4**:"
   ]
  },
  {
   "cell_type": "code",
   "execution_count": 29,
   "metadata": {},
   "outputs": [],
   "source": [
    "data_ps4 = data_new.query('platform == \"PS4\"')[['total_sales', 'critic_score', 'user_score']]"
   ]
  },
  {
   "cell_type": "markdown",
   "metadata": {},
   "source": [
    "Построим матрицу корреляции для суммарных продаж, оценок критиков и оценок пользователей:"
   ]
  },
  {
   "cell_type": "code",
   "execution_count": 30,
   "metadata": {},
   "outputs": [
    {
     "data": {
      "text/html": [
       "<div>\n",
       "<style scoped>\n",
       "    .dataframe tbody tr th:only-of-type {\n",
       "        vertical-align: middle;\n",
       "    }\n",
       "\n",
       "    .dataframe tbody tr th {\n",
       "        vertical-align: top;\n",
       "    }\n",
       "\n",
       "    .dataframe thead th {\n",
       "        text-align: right;\n",
       "    }\n",
       "</style>\n",
       "<table border=\"1\" class=\"dataframe\">\n",
       "  <thead>\n",
       "    <tr style=\"text-align: right;\">\n",
       "      <th></th>\n",
       "      <th>total_sales</th>\n",
       "      <th>critic_score</th>\n",
       "      <th>user_score</th>\n",
       "    </tr>\n",
       "  </thead>\n",
       "  <tbody>\n",
       "    <tr>\n",
       "      <th>total_sales</th>\n",
       "      <td>1.000000</td>\n",
       "      <td>0.402661</td>\n",
       "      <td>-0.040132</td>\n",
       "    </tr>\n",
       "    <tr>\n",
       "      <th>critic_score</th>\n",
       "      <td>0.402661</td>\n",
       "      <td>1.000000</td>\n",
       "      <td>0.546434</td>\n",
       "    </tr>\n",
       "    <tr>\n",
       "      <th>user_score</th>\n",
       "      <td>-0.040132</td>\n",
       "      <td>0.546434</td>\n",
       "      <td>1.000000</td>\n",
       "    </tr>\n",
       "  </tbody>\n",
       "</table>\n",
       "</div>"
      ],
      "text/plain": [
       "              total_sales  critic_score  user_score\n",
       "total_sales      1.000000      0.402661   -0.040132\n",
       "critic_score     0.402661      1.000000    0.546434\n",
       "user_score      -0.040132      0.546434    1.000000"
      ]
     },
     "execution_count": 30,
     "metadata": {},
     "output_type": "execute_result"
    }
   ],
   "source": [
    "data_ps4[['total_sales','critic_score','user_score']].corr()"
   ]
  },
  {
   "cell_type": "code",
   "execution_count": 31,
   "metadata": {},
   "outputs": [
    {
     "data": {
      "text/plain": [
       "array([[<AxesSubplot:xlabel='total_sales', ylabel='total_sales'>,\n",
       "        <AxesSubplot:xlabel='critic_score', ylabel='total_sales'>,\n",
       "        <AxesSubplot:xlabel='user_score', ylabel='total_sales'>],\n",
       "       [<AxesSubplot:xlabel='total_sales', ylabel='critic_score'>,\n",
       "        <AxesSubplot:xlabel='critic_score', ylabel='critic_score'>,\n",
       "        <AxesSubplot:xlabel='user_score', ylabel='critic_score'>],\n",
       "       [<AxesSubplot:xlabel='total_sales', ylabel='user_score'>,\n",
       "        <AxesSubplot:xlabel='critic_score', ylabel='user_score'>,\n",
       "        <AxesSubplot:xlabel='user_score', ylabel='user_score'>]],\n",
       "      dtype=object)"
      ]
     },
     "execution_count": 31,
     "metadata": {},
     "output_type": "execute_result"
    },
    {
     "data": {
      "image/png": "[encoded data removed]",
      "text/plain": [
       "<Figure size 648x648 with 9 Axes>"
      ]
     },
     "metadata": {
      "needs_background": "light"
     },
     "output_type": "display_data"
    }
   ],
   "source": [
    "pd.plotting.scatter_matrix(data_ps4[['total_sales','critic_score','user_score']],figsize=(9, 9))"
   ]
  },
  {
   "cell_type": "markdown",
   "metadata": {},
   "source": [
    "Можем сделать вывод о наличии слабой корреляции между оценками критиков и продажами игр и об отсутствии линейной взаимосвязи между оценками пользователей и продажами игр для PS4 за актуальный период исследования.Также видна средняя положительная корреляция между оценками критиков и оценками пользователей."
   ]
  },
  {
   "cell_type": "markdown",
   "metadata": {},
   "source": [
    "Посмотрим по остальным популярным платформам:"
   ]
  },
  {
   "cell_type": "code",
   "execution_count": 32,
   "metadata": {
    "scrolled": false
   },
   "outputs": [
    {
     "data": {
      "image/png": "[encoded data removed]",
      "text/plain": [
       "<Figure size 432x432 with 9 Axes>"
      ]
     },
     "metadata": {
      "needs_background": "light"
     },
     "output_type": "display_data"
    },
    {
     "data": {
      "image/png": "[encoded data removed]",
      "text/plain": [
       "<Figure size 432x432 with 9 Axes>"
      ]
     },
     "metadata": {
      "needs_background": "light"
     },
     "output_type": "display_data"
    },
    {
     "data": {
      "image/png": "[encoded data removed]",
      "text/plain": [
       "<Figure size 432x432 with 9 Axes>"
      ]
     },
     "metadata": {
      "needs_background": "light"
     },
     "output_type": "display_data"
    },
    {
     "data": {
      "image/png": "[encoded data removed]",
      "text/plain": [
       "<Figure size 432x432 with 9 Axes>"
      ]
     },
     "metadata": {
      "needs_background": "light"
     },
     "output_type": "display_data"
    }
   ],
   "source": [
    "top_platforms_new = ['PS3','X360', '3DS', 'XOne']\n",
    "for i in top_platforms_new:\n",
    "    pd.plotting.scatter_matrix(data_new.query('platform == @i')[['total_sales', 'critic_score', 'user_score']], figsize=(6, 6))\n",
    "    plt.title(i)"
   ]
  },
  {
   "cell_type": "markdown",
   "metadata": {},
   "source": [
    "Для остальных популярных платформ взаимосвязи оценок и продаж выглядят аналогичным образом."
   ]
  },
  {
   "cell_type": "markdown",
   "metadata": {},
   "source": [
    "### Распределение игр по жанрам"
   ]
  },
  {
   "cell_type": "markdown",
   "metadata": {},
   "source": [
    "Посмотрим на общее распределение игр по жанрам:"
   ]
  },
  {
   "cell_type": "code",
   "execution_count": 33,
   "metadata": {
    "scrolled": false
   },
   "outputs": [
    {
     "data": {
      "text/html": [
       "<div>\n",
       "<style scoped>\n",
       "    .dataframe tbody tr th:only-of-type {\n",
       "        vertical-align: middle;\n",
       "    }\n",
       "\n",
       "    .dataframe tbody tr th {\n",
       "        vertical-align: top;\n",
       "    }\n",
       "\n",
       "    .dataframe thead th {\n",
       "        text-align: right;\n",
       "    }\n",
       "</style>\n",
       "<table border=\"1\" class=\"dataframe\">\n",
       "  <thead>\n",
       "    <tr style=\"text-align: right;\">\n",
       "      <th></th>\n",
       "      <th>total_sales</th>\n",
       "    </tr>\n",
       "    <tr>\n",
       "      <th>genre</th>\n",
       "      <th></th>\n",
       "    </tr>\n",
       "  </thead>\n",
       "  <tbody>\n",
       "    <tr>\n",
       "      <th>Shooter</th>\n",
       "      <td>0.515</td>\n",
       "    </tr>\n",
       "    <tr>\n",
       "      <th>Sports</th>\n",
       "      <td>0.180</td>\n",
       "    </tr>\n",
       "    <tr>\n",
       "      <th>Platform</th>\n",
       "      <td>0.140</td>\n",
       "    </tr>\n",
       "    <tr>\n",
       "      <th>Fighting</th>\n",
       "      <td>0.125</td>\n",
       "    </tr>\n",
       "    <tr>\n",
       "      <th>Role-Playing</th>\n",
       "      <td>0.110</td>\n",
       "    </tr>\n",
       "    <tr>\n",
       "      <th>Simulation</th>\n",
       "      <td>0.100</td>\n",
       "    </tr>\n",
       "    <tr>\n",
       "      <th>Action</th>\n",
       "      <td>0.090</td>\n",
       "    </tr>\n",
       "    <tr>\n",
       "      <th>Misc</th>\n",
       "      <td>0.090</td>\n",
       "    </tr>\n",
       "    <tr>\n",
       "      <th>Racing</th>\n",
       "      <td>0.090</td>\n",
       "    </tr>\n",
       "    <tr>\n",
       "      <th>Strategy</th>\n",
       "      <td>0.060</td>\n",
       "    </tr>\n",
       "    <tr>\n",
       "      <th>Puzzle</th>\n",
       "      <td>0.045</td>\n",
       "    </tr>\n",
       "    <tr>\n",
       "      <th>Adventure</th>\n",
       "      <td>0.030</td>\n",
       "    </tr>\n",
       "  </tbody>\n",
       "</table>\n",
       "</div>"
      ],
      "text/plain": [
       "              total_sales\n",
       "genre                    \n",
       "Shooter             0.515\n",
       "Sports              0.180\n",
       "Platform            0.140\n",
       "Fighting            0.125\n",
       "Role-Playing        0.110\n",
       "Simulation          0.100\n",
       "Action              0.090\n",
       "Misc                0.090\n",
       "Racing              0.090\n",
       "Strategy            0.060\n",
       "Puzzle              0.045\n",
       "Adventure           0.030"
      ]
     },
     "execution_count": 33,
     "metadata": {},
     "output_type": "execute_result"
    }
   ],
   "source": [
    "data_genre = data_new.pivot_table(index = 'genre', values = 'total_sales', aggfunc = 'median').sort_values(by='total_sales', ascending=False)\n",
    "data_genre"
   ]
  },
  {
   "cell_type": "code",
   "execution_count": 34,
   "metadata": {},
   "outputs": [
    {
     "data": {
      "text/plain": [
       "<matplotlib.legend.Legend at 0x7fb5b3540c10>"
      ]
     },
     "execution_count": 34,
     "metadata": {},
     "output_type": "execute_result"
    },
    {
     "data": {
      "image/png": "[encoded data removed]",
      "text/plain": [
       "<Figure size 792x432 with 1 Axes>"
      ]
     },
     "metadata": {
      "needs_background": "light"
     },
     "output_type": "display_data"
    }
   ],
   "source": [
    "data_genre.plot(kind='bar', figsize=(11, 6))\n",
    "plt.legend(['медианное значение продаж в жанре'])"
   ]
  },
  {
   "cell_type": "code",
   "execution_count": 35,
   "metadata": {},
   "outputs": [
    {
     "data": {
      "image/png": "[encoded data removed]",
      "text/plain": [
       "<Figure size 864x720 with 1 Axes>"
      ]
     },
     "metadata": {
      "needs_background": "light"
     },
     "output_type": "display_data"
    }
   ],
   "source": [
    "data_new.boxplot(column='total_sales', by='genre', figsize=(12,10))\n",
    "plt.ylim(0, 3.5)\n",
    "plt.show()"
   ]
  },
  {
   "cell_type": "markdown",
   "metadata": {},
   "source": [
    "В исследуемом нами периоде можно выделить два жанра, игры в котором продаются больше всего: **Sports** и **Shooter**. Наименьшей же популярностью пользуются игры жанра **Puzzle**.\n",
    "\n",
    "Стоит отметить что для понимания прибыльности тех или иных жанров этой информации недостаточно, так как мы не знаем сколько стоит производство этих игр и цены на них."
   ]
  },
  {
   "cell_type": "markdown",
   "metadata": {},
   "source": [
    "### Вывод"
   ]
  },
  {
   "cell_type": "markdown",
   "metadata": {},
   "source": [
    "Мы посмотрели на самые популярные игровые платформы за все время, определили примерный цикл жизни платформы и установили актуальный период исследования как 2012-2016 года. В актуальном периоде перспективными выглядят платформы **PS4** и **XOne**. А самыми продаваемыми жанрами оказались **Action** и **Shooter**."
   ]
  },
  {
   "cell_type": "markdown",
   "metadata": {},
   "source": [
    "## Портреты пользователей по регионам"
   ]
  },
  {
   "cell_type": "markdown",
   "metadata": {},
   "source": [
    "### Популярные платформы"
   ]
  },
  {
   "cell_type": "markdown",
   "metadata": {},
   "source": [
    "Определим топ-5 платформ для ползователей каждого из регионов (NA, EU, JP):"
   ]
  },
  {
   "cell_type": "code",
   "execution_count": 36,
   "metadata": {},
   "outputs": [
    {
     "data": {
      "image/png": "[encoded data removed]",
      "text/plain": [
       "<Figure size 864x864 with 3 Axes>"
      ]
     },
     "metadata": {},
     "output_type": "display_data"
    }
   ],
   "source": [
    "fig = plt.figure(figsize=(12,12))\n",
    "\n",
    "fig.add_subplot(131)\n",
    "data_portrates = data_new.pivot_table(index = 'platform', values = 'na_sales', aggfunc = 'sum').reset_index().sort_values(by='na_sales', ascending=False).head(5)\n",
    "my_data = data_portrates['na_sales']\n",
    "my_labels = data_portrates['platform']\n",
    "plt.pie(my_data,labels=my_labels,autopct='%1.1f%%',)\n",
    "plt.title('топ-5 NA')\n",
    "\n",
    "\n",
    "fig.add_subplot(132)\n",
    "data_portrates = data_new.pivot_table(index = 'platform', values = 'eu_sales', aggfunc = 'sum').reset_index().sort_values(by='eu_sales', ascending=False).head(5)\n",
    "my_data = data_portrates['eu_sales']\n",
    "my_labels = data_portrates['platform']\n",
    "plt.pie(my_data,labels=my_labels,autopct='%1.1f%%')\n",
    "plt.title('топ-5 EU')\n",
    "\n",
    "\n",
    "fig.add_subplot(133)\n",
    "data_portrates = data_new.pivot_table(index = 'platform', values = 'jp_sales', aggfunc = 'sum').reset_index().sort_values(by='jp_sales', ascending=False).head(5)\n",
    "my_data = data_portrates['jp_sales']\n",
    "my_labels = data_portrates['platform']\n",
    "plt.pie(my_data,labels=my_labels,autopct='%1.1f%%')\n",
    "plt.title('топ-5 JP')\n",
    "\n",
    "\n",
    "plt.show()"
   ]
  },
  {
   "cell_type": "markdown",
   "metadata": {},
   "source": [
    "В Северной Америке и Европе ситуация с популярность платформ выглядит схоже, первая тройка лидеров: **PS3, PS4 и XOne**. В Японии же с огромным отрывом лидирует **3DS**."
   ]
  },
  {
   "cell_type": "markdown",
   "metadata": {},
   "source": [
    "### Популярные жанры"
   ]
  },
  {
   "cell_type": "markdown",
   "metadata": {},
   "source": [
    "Определим топ-5 популярных жанров(NA, EU, JP):"
   ]
  },
  {
   "cell_type": "code",
   "execution_count": 37,
   "metadata": {},
   "outputs": [
    {
     "data": {
      "image/png": "[encoded data removed]",
      "text/plain": [
       "<Figure size 864x864 with 3 Axes>"
      ]
     },
     "metadata": {},
     "output_type": "display_data"
    }
   ],
   "source": [
    "fig = plt.figure(figsize=(12,12))\n",
    "\n",
    "fig.add_subplot(131)\n",
    "data_portrates = data_new.pivot_table(index = 'genre', values = 'na_sales', aggfunc = 'sum').reset_index().sort_values(by='na_sales', ascending=False).head(5)\n",
    "my_data = data_portrates['na_sales']\n",
    "my_labels = data_portrates['genre']\n",
    "plt.pie(my_data,labels=my_labels,autopct='%1.1f%%',)\n",
    "plt.title('топ-5 NA')\n",
    "\n",
    "\n",
    "fig.add_subplot(132)\n",
    "data_portrates = data_new.pivot_table(index = 'genre', values = 'eu_sales', aggfunc = 'sum').reset_index().sort_values(by='eu_sales', ascending=False).head(5)\n",
    "my_data = data_portrates['eu_sales']\n",
    "my_labels = data_portrates['genre']\n",
    "plt.pie(my_data,labels=my_labels,autopct='%1.1f%%')\n",
    "plt.title('топ-5 EU')\n",
    "\n",
    "\n",
    "fig.add_subplot(133)\n",
    "data_portrates = data_new.pivot_table(index = 'genre', values = 'jp_sales', aggfunc = 'sum').reset_index().sort_values(by='jp_sales', ascending=False).head(5)\n",
    "my_data = data_portrates['jp_sales']\n",
    "my_labels = data_portrates['genre']\n",
    "plt.pie(my_data,labels=my_labels,autopct='%1.1f%%')\n",
    "plt.title('топ-5 JP')\n",
    "\n",
    "\n",
    "plt.show()\n"
   ]
  },
  {
   "cell_type": "markdown",
   "metadata": {},
   "source": [
    "С распределением популярных жанров по регионам ситуация выглядит аналогично. Рынки Америки и Европы различаются незначительно, в то время как в Японии все совсем иначе и самый популярный жанр ролевые игры."
   ]
  },
  {
   "cell_type": "markdown",
   "metadata": {},
   "source": [
    "### Популярные рейтинги"
   ]
  },
  {
   "cell_type": "markdown",
   "metadata": {},
   "source": [
    "Посмотрим на распределение рейтингов:"
   ]
  },
  {
   "cell_type": "code",
   "execution_count": 38,
   "metadata": {},
   "outputs": [
    {
     "data": {
      "image/png": "[encoded data removed]",
      "text/plain": [
       "<Figure size 864x864 with 3 Axes>"
      ]
     },
     "metadata": {},
     "output_type": "display_data"
    }
   ],
   "source": [
    "fig = plt.figure(figsize=(12,12))\n",
    "\n",
    "fig.add_subplot(131)\n",
    "data_portrates = data_new.pivot_table(index = 'rating', values = 'na_sales', aggfunc = 'sum').reset_index().sort_values(by='na_sales', ascending=False).head(5)\n",
    "my_data = data_portrates['na_sales']\n",
    "my_labels = data_portrates['rating']\n",
    "plt.pie(my_data,labels=my_labels,autopct='%1.1f%%',)\n",
    "plt.title('топ-5 NA')\n",
    "\n",
    "\n",
    "fig.add_subplot(132)\n",
    "data_portrates = data_new.pivot_table(index = 'rating', values = 'eu_sales', aggfunc = 'sum').reset_index().sort_values(by='eu_sales', ascending=False).head(5)\n",
    "my_data = data_portrates['eu_sales']\n",
    "my_labels = data_portrates['rating']\n",
    "plt.pie(my_data,labels=my_labels,autopct='%1.1f%%')\n",
    "plt.title('топ-5 EU')\n",
    "\n",
    "\n",
    "fig.add_subplot(133)\n",
    "data_portrates = data_new.pivot_table(index = 'rating', values = 'jp_sales', aggfunc = 'sum').reset_index().sort_values(by='jp_sales', ascending=False).head(5)\n",
    "my_data = data_portrates['jp_sales']\n",
    "my_labels = data_portrates['rating']\n",
    "plt.pie(my_data,labels=my_labels,autopct='%1.1f%%')\n",
    "plt.title('топ-5 JP')\n",
    "\n",
    "\n",
    "plt.show()\n"
   ]
  },
  {
   "cell_type": "markdown",
   "metadata": {},
   "source": [
    "Самый популярный рейтинг с маркеро **tbd**(не определен) в Япониии, скорее всего связан с тем, что японские игры не маркируются по системе ESRB. Для американской и европейской аудитории самыми популярными рейтингами стали **M(для взрослых)** и **E(для всех)**, что выглядит достаточно логично."
   ]
  },
  {
   "cell_type": "markdown",
   "metadata": {},
   "source": [
    "### Вывод"
   ]
  },
  {
   "cell_type": "markdown",
   "metadata": {},
   "source": [
    "При построении портретов пользователей по регионам видно, что Японский рынок сильно отличается от Американского и Европейского. Что говорит о значительной разнице в культуре и потреблении игрового контента японцами."
   ]
  },
  {
   "cell_type": "markdown",
   "metadata": {},
   "source": [
    "## Проверка гипотез"
   ]
  },
  {
   "cell_type": "markdown",
   "metadata": {},
   "source": [
    "Избавимся от строк с пропущенными значениями в **user_score** чтобы провести статистические тесты."
   ]
  },
  {
   "cell_type": "code",
   "execution_count": 44,
   "metadata": {
    "scrolled": true
   },
   "outputs": [
    {
     "name": "stderr",
     "output_type": "stream",
     "text": [
      "/tmp/ipykernel_93/2382336528.py:1: SettingWithCopyWarning: \n",
      "A value is trying to be set on a copy of a slice from a DataFrame\n",
      "\n",
      "See the caveats in the documentation: https://pandas.pydata.org/pandas-docs/stable/user_guide/indexing.html#returning-a-view-versus-a-copy\n",
      "  data_new.dropna(subset=['user_score'],inplace=True)\n"
     ]
    }
   ],
   "source": [
    "data_new.dropna(subset=['user_score'],inplace=True)"
   ]
  },
  {
   "cell_type": "markdown",
   "metadata": {},
   "source": [
    "**Средние пользовательские рейтинги платформ Xbox One и PC одинаковые**"
   ]
  },
  {
   "cell_type": "markdown",
   "metadata": {},
   "source": [
    "Посмотрим на средние пользовательские рейтинги для этих платформ:"
   ]
  },
  {
   "cell_type": "code",
   "execution_count": 40,
   "metadata": {},
   "outputs": [
    {
     "name": "stdout",
     "output_type": "stream",
     "text": [
      "Средний пользовательский рейтинг XOne 6.5945444\n",
      "Средний пользовательский рейтинг PC 6.298361\n"
     ]
    }
   ],
   "source": [
    "print('Средний пользовательский рейтинг XOne', data_new.query('platform == \"XOne\"')['user_score'].mean())\n",
    "print('Средний пользовательский рейтинг PC', data_new.query('platform == \"PC\"')['user_score'].mean())"
   ]
  },
  {
   "cell_type": "markdown",
   "metadata": {},
   "source": [
    "- **Нулевая гипотеза**: средние пользовательские рейтинги платформ XOne и PC одинаковые.\n",
    "\n",
    "- **Альтернативная гипотеза**: средние пользовательские рейтинги платформ XOne и PC отличаются между собой."
   ]
  },
  {
   "cell_type": "markdown",
   "metadata": {},
   "source": [
    "Проверка гипотезы о равенстве среднего двух генеральных совокупностей по взятым из них выборкам для независимых выборок:"
   ]
  },
  {
   "cell_type": "code",
   "execution_count": 41,
   "metadata": {},
   "outputs": [
    {
     "name": "stdout",
     "output_type": "stream",
     "text": [
      "p-значение: 0.10450648833224654\n",
      "Не получилось отвергнуть нулевую гипотезу\n"
     ]
    }
   ],
   "source": [
    "alpha = .05 #зададим 5% уровень значимости\n",
    "result = st.ttest_ind(data_new.query('platform == \"XOne\"')['user_score'], \n",
    "    data_new.query('platform == \"PC\"')['user_score'])\n",
    "\n",
    "print('p-значение:', result.pvalue)\n",
    "\n",
    "if (result.pvalue < alpha):\n",
    "    print(\"Отвергаем нулевую гипотезу\")\n",
    "else:\n",
    "    print(\"Не получилось отвергнуть нулевую гипотезу\")"
   ]
  },
  {
   "cell_type": "markdown",
   "metadata": {},
   "source": [
    "Мы не можем отвергнуть нулевую гипотезу. С высокой вероятностью средняя пользовательская оценка для XOne и PC равны."
   ]
  },
  {
   "cell_type": "markdown",
   "metadata": {},
   "source": [
    "**Средние пользовательские рейтинги жанров Action и Sports разные**"
   ]
  },
  {
   "cell_type": "markdown",
   "metadata": {},
   "source": [
    "Посмотрим на средние пользовательские рейтинги для этих жанров:"
   ]
  },
  {
   "cell_type": "code",
   "execution_count": 42,
   "metadata": {},
   "outputs": [
    {
     "name": "stdout",
     "output_type": "stream",
     "text": [
      "Средний пользовательский рейтинг Action 6.760606\n",
      "Средний пользовательский рейтинг Sports 5.225197\n"
     ]
    }
   ],
   "source": [
    "print('Средний пользовательский рейтинг Action', data_new.query('genre == \"Action\"')['user_score'].mean())\n",
    "print('Средний пользовательский рейтинг Sports', data_new.query('genre == \"Sports\"')['user_score'].mean())"
   ]
  },
  {
   "cell_type": "markdown",
   "metadata": {},
   "source": [
    "- **Нулевая гипотеза**: cредние пользовательские рейтинги жанров Action и Sports равные**.\n",
    "\n",
    "- **Альтернативная гипотеза**: cредние пользовательские рейтинги жанров Action и Sports отличаются между собой."
   ]
  },
  {
   "cell_type": "markdown",
   "metadata": {},
   "source": [
    "Проверка гипотезы о равенстве среднего двух генеральных совокупностей по взятым из них выборкам для независимых выборок:"
   ]
  },
  {
   "cell_type": "code",
   "execution_count": 43,
   "metadata": {},
   "outputs": [
    {
     "name": "stdout",
     "output_type": "stream",
     "text": [
      "p-значение: 2.871146400695882e-19\n",
      "Отвергаем нулевую гипотезу\n"
     ]
    }
   ],
   "source": [
    "alpha = .05 #зададим 5% уровень значимости\n",
    "result = st.ttest_ind(data_new.query('genre == \"Action\"')['user_score'], \n",
    "    data_new.query('genre == \"Sports\"')['user_score'])\n",
    "\n",
    "print('p-значение:', result.pvalue)\n",
    "\n",
    "if (result.pvalue < alpha):\n",
    "    print(\"Отвергаем нулевую гипотезу\")\n",
    "else:\n",
    "    print(\"Не получилось отвергнуть нулевую гипотезу\")"
   ]
  },
  {
   "cell_type": "markdown",
   "metadata": {},
   "source": [
    "Уровень значимости статистики разности средних  очень мал. Можем отвергнуть нулевую гипотезу, а значит вероятнее всего средние пользовательские рейтинги жанров Action и Sports разные."
   ]
  },
  {
   "cell_type": "markdown",
   "metadata": {},
   "source": [
    "### Вывод"
   ]
  },
  {
   "cell_type": "markdown",
   "metadata": {},
   "source": [
    "Подтвердили гипотезу о равенстве средних пользовательских оценок для платформ XOne и PC, а гипотезу о равенстве средних пользовательских оценок по жанрам опровергли."
   ]
  },
  {
   "cell_type": "markdown",
   "metadata": {},
   "source": [
    "## Общий вывод"
   ]
  },
  {
   "cell_type": "markdown",
   "metadata": {},
   "source": [
    "Наше исследование показало, что наиболее перспективны для игровой индустрии в текущем периоде:\n",
    "- игровые платформы **PS4** и **XOne**\n",
    "- игровые жанры **Sports, Shooter** для европейского и американского рынка, а **role-playing** для Японии\n",
    "\n",
    "\n",
    "Рейтинг пользователей и экспертов практически не влияет на продажи игры, обращать внимание стоит в большей степени на рейтинг экспертов.\n",
    "\n",
    "\n",
    "Также заметен общий спад продаж на всех платформах, что вероятно связан с ростом рынка мобильных игр обратить наибольшее внимание на мобильные игры.\n"
   ]
  }
 ],
 "metadata": {
  "ExecuteTimeLog": [
   {
    "duration": 1439,
    "start_time": "2022-07-06T18:52:11.278Z"
   },
   {
    "duration": 4,
    "start_time": "2022-07-06T18:52:14.702Z"
   },
   {
    "duration": 3,
    "start_time": "2022-07-06T18:52:29.555Z"
   },
   {
    "duration": 191,
    "start_time": "2022-07-06T18:53:08.375Z"
   },
   {
    "duration": 137,
    "start_time": "2022-07-06T18:53:44.551Z"
   },
   {
    "duration": 21,
    "start_time": "2022-07-06T18:55:10.943Z"
   },
   {
    "duration": 31,
    "start_time": "2022-07-06T18:55:39.877Z"
   },
   {
    "duration": 56,
    "start_time": "2022-07-06T18:55:46.062Z"
   },
   {
    "duration": 59,
    "start_time": "2022-07-06T19:01:04.453Z"
   },
   {
    "duration": 3,
    "start_time": "2022-07-06T19:21:04.793Z"
   },
   {
    "duration": 5,
    "start_time": "2022-07-06T19:23:14.587Z"
   },
   {
    "duration": 5,
    "start_time": "2022-07-06T19:25:42.155Z"
   },
   {
    "duration": 5,
    "start_time": "2022-07-06T19:26:06.757Z"
   },
   {
    "duration": 23,
    "start_time": "2022-07-06T19:33:02.540Z"
   },
   {
    "duration": 1282,
    "start_time": "2022-07-07T07:59:22.498Z"
   },
   {
    "duration": 76,
    "start_time": "2022-07-07T07:59:23.782Z"
   },
   {
    "duration": 18,
    "start_time": "2022-07-07T07:59:23.861Z"
   },
   {
    "duration": 30,
    "start_time": "2022-07-07T07:59:23.881Z"
   },
   {
    "duration": 3,
    "start_time": "2022-07-07T07:59:23.914Z"
   },
   {
    "duration": 44,
    "start_time": "2022-07-07T07:59:23.925Z"
   },
   {
    "duration": 159,
    "start_time": "2022-07-07T07:59:23.971Z"
   },
   {
    "duration": 29,
    "start_time": "2022-07-07T08:00:13.067Z"
   },
   {
    "duration": 90,
    "start_time": "2022-07-07T08:12:31.454Z"
   },
   {
    "duration": 17,
    "start_time": "2022-07-07T08:14:17.139Z"
   },
   {
    "duration": 17,
    "start_time": "2022-07-07T08:14:30.282Z"
   },
   {
    "duration": 32,
    "start_time": "2022-07-07T08:14:57.418Z"
   },
   {
    "duration": 9,
    "start_time": "2022-07-07T11:18:24.245Z"
   },
   {
    "duration": 6,
    "start_time": "2022-07-07T11:18:34.695Z"
   },
   {
    "duration": 7,
    "start_time": "2022-07-07T11:24:48.079Z"
   },
   {
    "duration": 5,
    "start_time": "2022-07-07T11:25:03.606Z"
   },
   {
    "duration": 5,
    "start_time": "2022-07-07T11:26:12.752Z"
   },
   {
    "duration": 14,
    "start_time": "2022-07-07T11:28:05.108Z"
   },
   {
    "duration": 5,
    "start_time": "2022-07-07T11:28:36.949Z"
   },
   {
    "duration": 5,
    "start_time": "2022-07-07T11:28:42.649Z"
   },
   {
    "duration": 1291,
    "start_time": "2022-07-07T11:28:53.395Z"
   },
   {
    "duration": 58,
    "start_time": "2022-07-07T11:28:54.688Z"
   },
   {
    "duration": 15,
    "start_time": "2022-07-07T11:28:54.748Z"
   },
   {
    "duration": 30,
    "start_time": "2022-07-07T11:28:54.765Z"
   },
   {
    "duration": 24,
    "start_time": "2022-07-07T11:28:54.798Z"
   },
   {
    "duration": 8,
    "start_time": "2022-07-07T11:28:54.825Z"
   },
   {
    "duration": 32,
    "start_time": "2022-07-07T11:28:54.835Z"
   },
   {
    "duration": 24,
    "start_time": "2022-07-07T11:28:54.869Z"
   },
   {
    "duration": 5,
    "start_time": "2022-07-07T11:28:54.895Z"
   },
   {
    "duration": 5,
    "start_time": "2022-07-07T11:28:54.923Z"
   },
   {
    "duration": 8,
    "start_time": "2022-07-07T11:28:54.929Z"
   },
   {
    "duration": 7,
    "start_time": "2022-07-07T11:28:54.939Z"
   },
   {
    "duration": 15,
    "start_time": "2022-07-07T11:30:33.043Z"
   },
   {
    "duration": 9,
    "start_time": "2022-07-07T11:36:27.340Z"
   },
   {
    "duration": 7,
    "start_time": "2022-07-07T11:37:01.555Z"
   },
   {
    "duration": 5,
    "start_time": "2022-07-07T11:45:44.355Z"
   },
   {
    "duration": 15,
    "start_time": "2022-07-09T10:24:58.618Z"
   },
   {
    "duration": 4,
    "start_time": "2022-07-09T10:25:20.833Z"
   },
   {
    "duration": 54,
    "start_time": "2022-07-11T16:17:47.487Z"
   },
   {
    "duration": 1409,
    "start_time": "2022-07-11T16:18:10.013Z"
   },
   {
    "duration": 88,
    "start_time": "2022-07-11T16:18:11.424Z"
   },
   {
    "duration": 14,
    "start_time": "2022-07-11T16:18:11.513Z"
   },
   {
    "duration": 31,
    "start_time": "2022-07-11T16:18:11.530Z"
   },
   {
    "duration": 3,
    "start_time": "2022-07-11T16:18:11.563Z"
   },
   {
    "duration": 7,
    "start_time": "2022-07-11T16:18:11.568Z"
   },
   {
    "duration": 31,
    "start_time": "2022-07-11T16:18:11.577Z"
   },
   {
    "duration": 25,
    "start_time": "2022-07-11T16:18:11.623Z"
   },
   {
    "duration": 5,
    "start_time": "2022-07-11T16:18:11.650Z"
   },
   {
    "duration": 24,
    "start_time": "2022-07-11T16:18:11.657Z"
   },
   {
    "duration": 14,
    "start_time": "2022-07-11T16:18:11.683Z"
   },
   {
    "duration": 7,
    "start_time": "2022-07-11T16:18:11.699Z"
   },
   {
    "duration": 25,
    "start_time": "2022-07-11T16:18:11.708Z"
   },
   {
    "duration": 7,
    "start_time": "2022-07-11T16:18:11.734Z"
   },
   {
    "duration": 7,
    "start_time": "2022-07-11T16:18:11.742Z"
   },
   {
    "duration": 276,
    "start_time": "2022-07-11T16:18:11.750Z"
   },
   {
    "duration": 12,
    "start_time": "2022-07-11T16:19:06.428Z"
   },
   {
    "duration": 115,
    "start_time": "2022-07-11T16:20:14.461Z"
   },
   {
    "duration": 26,
    "start_time": "2022-07-11T16:20:24.285Z"
   },
   {
    "duration": 14,
    "start_time": "2022-07-11T16:20:52.904Z"
   },
   {
    "duration": 18,
    "start_time": "2022-07-11T16:21:12.247Z"
   },
   {
    "duration": 184,
    "start_time": "2022-07-11T16:23:36.960Z"
   },
   {
    "duration": 220,
    "start_time": "2022-07-11T16:26:26.661Z"
   },
   {
    "duration": 213,
    "start_time": "2022-07-11T16:26:38.805Z"
   },
   {
    "duration": 187,
    "start_time": "2022-07-11T16:26:52.505Z"
   },
   {
    "duration": 190,
    "start_time": "2022-07-11T16:27:59.335Z"
   },
   {
    "duration": 239,
    "start_time": "2022-07-11T16:30:11.093Z"
   },
   {
    "duration": 9,
    "start_time": "2022-07-11T16:30:24.058Z"
   },
   {
    "duration": 9,
    "start_time": "2022-07-11T16:30:28.990Z"
   },
   {
    "duration": 209,
    "start_time": "2022-07-11T16:30:36.512Z"
   },
   {
    "duration": 1139,
    "start_time": "2022-07-11T16:36:57.259Z"
   },
   {
    "duration": 71,
    "start_time": "2022-07-11T16:36:58.400Z"
   },
   {
    "duration": 14,
    "start_time": "2022-07-11T16:36:58.473Z"
   },
   {
    "duration": 39,
    "start_time": "2022-07-11T16:36:58.489Z"
   },
   {
    "duration": 3,
    "start_time": "2022-07-11T16:36:58.530Z"
   },
   {
    "duration": 16,
    "start_time": "2022-07-11T16:36:58.535Z"
   },
   {
    "duration": 29,
    "start_time": "2022-07-11T16:36:58.553Z"
   },
   {
    "duration": 23,
    "start_time": "2022-07-11T16:36:58.584Z"
   },
   {
    "duration": 17,
    "start_time": "2022-07-11T16:36:58.609Z"
   },
   {
    "duration": 21,
    "start_time": "2022-07-11T16:36:58.629Z"
   },
   {
    "duration": 5,
    "start_time": "2022-07-11T16:36:58.652Z"
   },
   {
    "duration": 8,
    "start_time": "2022-07-11T16:36:58.659Z"
   },
   {
    "duration": 17,
    "start_time": "2022-07-11T16:36:58.668Z"
   },
   {
    "duration": 5,
    "start_time": "2022-07-11T16:36:58.687Z"
   },
   {
    "duration": 30,
    "start_time": "2022-07-11T16:36:58.694Z"
   },
   {
    "duration": 228,
    "start_time": "2022-07-11T16:36:58.726Z"
   },
   {
    "duration": 1223,
    "start_time": "2022-07-11T16:36:58.955Z"
   },
   {
    "duration": 8,
    "start_time": "2022-07-11T16:37:22.369Z"
   },
   {
    "duration": 1109,
    "start_time": "2022-07-11T16:38:35.492Z"
   },
   {
    "duration": 60,
    "start_time": "2022-07-11T16:38:36.602Z"
   },
   {
    "duration": 14,
    "start_time": "2022-07-11T16:38:36.664Z"
   },
   {
    "duration": 44,
    "start_time": "2022-07-11T16:38:36.680Z"
   },
   {
    "duration": 4,
    "start_time": "2022-07-11T16:38:36.726Z"
   },
   {
    "duration": 3,
    "start_time": "2022-07-11T16:38:36.732Z"
   },
   {
    "duration": 33,
    "start_time": "2022-07-11T16:38:36.741Z"
   },
   {
    "duration": 23,
    "start_time": "2022-07-11T16:38:36.776Z"
   },
   {
    "duration": 5,
    "start_time": "2022-07-11T16:38:36.800Z"
   },
   {
    "duration": 6,
    "start_time": "2022-07-11T16:38:36.823Z"
   },
   {
    "duration": 20,
    "start_time": "2022-07-11T16:38:36.830Z"
   },
   {
    "duration": 9,
    "start_time": "2022-07-11T16:38:36.852Z"
   },
   {
    "duration": 23,
    "start_time": "2022-07-11T16:38:36.862Z"
   },
   {
    "duration": 7,
    "start_time": "2022-07-11T16:38:36.887Z"
   },
   {
    "duration": 8,
    "start_time": "2022-07-11T16:38:36.896Z"
   },
   {
    "duration": 245,
    "start_time": "2022-07-11T16:38:36.906Z"
   },
   {
    "duration": 196164,
    "start_time": "2022-07-11T16:38:37.153Z"
   },
   {
    "duration": 98,
    "start_time": "2022-07-11T18:07:47.138Z"
   },
   {
    "duration": 9,
    "start_time": "2022-07-11T18:09:15.810Z"
   },
   {
    "duration": 300,
    "start_time": "2022-07-11T18:10:13.763Z"
   },
   {
    "duration": 374,
    "start_time": "2022-07-11T18:11:30.099Z"
   },
   {
    "duration": 994,
    "start_time": "2022-07-11T18:13:42.805Z"
   },
   {
    "duration": 339,
    "start_time": "2022-07-11T18:14:25.265Z"
   },
   {
    "duration": 51,
    "start_time": "2022-07-11T18:16:00.358Z"
   },
   {
    "duration": 389,
    "start_time": "2022-07-11T18:16:17.359Z"
   },
   {
    "duration": 342,
    "start_time": "2022-07-11T18:17:27.918Z"
   },
   {
    "duration": 344,
    "start_time": "2022-07-11T18:17:42.947Z"
   },
   {
    "duration": 339,
    "start_time": "2022-07-11T18:18:25.709Z"
   },
   {
    "duration": 403,
    "start_time": "2022-07-11T18:20:24.463Z"
   },
   {
    "duration": 1261,
    "start_time": "2022-10-08T16:47:48.431Z"
   },
   {
    "duration": 112,
    "start_time": "2022-10-08T16:47:50.494Z"
   },
   {
    "duration": 14,
    "start_time": "2022-10-08T16:47:54.587Z"
   },
   {
    "duration": 14,
    "start_time": "2022-10-09T13:04:48.327Z"
   },
   {
    "duration": 4,
    "start_time": "2022-10-09T13:05:54.876Z"
   },
   {
    "duration": 98,
    "start_time": "2022-10-09T13:05:56.526Z"
   },
   {
    "duration": 328,
    "start_time": "2022-10-09T13:09:43.588Z"
   },
   {
    "duration": 16,
    "start_time": "2022-10-09T13:09:44.722Z"
   },
   {
    "duration": 27,
    "start_time": "2022-10-09T13:09:48.785Z"
   },
   {
    "duration": 43,
    "start_time": "2022-10-09T13:09:54.976Z"
   },
   {
    "duration": 3,
    "start_time": "2022-10-09T13:10:00.473Z"
   },
   {
    "duration": 14,
    "start_time": "2022-10-09T13:10:02.351Z"
   },
   {
    "duration": 3,
    "start_time": "2022-10-09T13:10:13.544Z"
   },
   {
    "duration": 3,
    "start_time": "2022-10-09T13:10:21.181Z"
   },
   {
    "duration": 26,
    "start_time": "2022-10-09T13:10:22.625Z"
   },
   {
    "duration": 41,
    "start_time": "2022-10-09T13:16:40.766Z"
   },
   {
    "duration": 2,
    "start_time": "2022-10-09T19:23:39.907Z"
   },
   {
    "duration": 355,
    "start_time": "2022-10-09T19:27:01.759Z"
   },
   {
    "duration": 3,
    "start_time": "2022-10-09T19:27:24.256Z"
   },
   {
    "duration": 64,
    "start_time": "2022-10-09T19:27:24.260Z"
   },
   {
    "duration": 11,
    "start_time": "2022-10-09T19:27:24.326Z"
   },
   {
    "duration": 26,
    "start_time": "2022-10-09T19:27:24.340Z"
   },
   {
    "duration": 12,
    "start_time": "2022-10-09T19:27:24.368Z"
   },
   {
    "duration": 22,
    "start_time": "2022-10-09T19:27:24.382Z"
   },
   {
    "duration": 68,
    "start_time": "2022-10-09T19:27:24.406Z"
   },
   {
    "duration": 40,
    "start_time": "2022-10-09T19:27:24.475Z"
   },
   {
    "duration": 26,
    "start_time": "2022-10-09T19:27:24.519Z"
   },
   {
    "duration": 39,
    "start_time": "2022-10-09T19:27:24.547Z"
   },
   {
    "duration": 31,
    "start_time": "2022-10-09T19:27:24.587Z"
   },
   {
    "duration": 46,
    "start_time": "2022-10-09T19:27:24.620Z"
   },
   {
    "duration": 28,
    "start_time": "2022-10-09T19:27:24.668Z"
   },
   {
    "duration": 36,
    "start_time": "2022-10-09T19:27:24.698Z"
   },
   {
    "duration": 58,
    "start_time": "2022-10-09T19:27:24.736Z"
   },
   {
    "duration": 347,
    "start_time": "2022-10-09T19:27:24.796Z"
   },
   {
    "duration": 15,
    "start_time": "2022-10-09T22:07:46.590Z"
   },
   {
    "duration": 13,
    "start_time": "2022-10-09T22:09:08.481Z"
   },
   {
    "duration": 14,
    "start_time": "2022-10-09T22:09:55.198Z"
   },
   {
    "duration": 276,
    "start_time": "2022-10-09T22:12:45.245Z"
   },
   {
    "duration": 244,
    "start_time": "2022-10-09T22:14:06.772Z"
   },
   {
    "duration": 14,
    "start_time": "2022-10-09T22:14:24.589Z"
   },
   {
    "duration": 3,
    "start_time": "2022-10-09T22:17:38.388Z"
   },
   {
    "duration": 10,
    "start_time": "2022-10-09T22:27:43.426Z"
   },
   {
    "duration": 1082,
    "start_time": "2022-10-09T22:28:00.004Z"
   },
   {
    "duration": 19,
    "start_time": "2022-10-10T12:34:43.645Z"
   },
   {
    "duration": 8,
    "start_time": "2022-10-10T12:36:37.652Z"
   },
   {
    "duration": 6,
    "start_time": "2022-10-10T12:36:54.037Z"
   },
   {
    "duration": 14,
    "start_time": "2022-10-10T12:40:45.998Z"
   },
   {
    "duration": 3,
    "start_time": "2022-10-10T12:46:13.606Z"
   },
   {
    "duration": 664,
    "start_time": "2022-10-10T12:47:03.978Z"
   },
   {
    "duration": 53,
    "start_time": "2022-10-10T16:40:35.827Z"
   },
   {
    "duration": 162,
    "start_time": "2022-10-10T17:02:55.143Z"
   },
   {
    "duration": 560,
    "start_time": "2022-10-10T17:03:48.787Z"
   },
   {
    "duration": 201,
    "start_time": "2022-10-10T17:11:16.659Z"
   },
   {
    "duration": 342,
    "start_time": "2022-10-10T17:11:54.117Z"
   },
   {
    "duration": 216,
    "start_time": "2022-10-10T17:13:17.761Z"
   },
   {
    "duration": 251,
    "start_time": "2022-10-10T17:13:28.906Z"
   },
   {
    "duration": 257,
    "start_time": "2022-10-10T17:15:03.714Z"
   },
   {
    "duration": 265,
    "start_time": "2022-10-10T17:15:46.905Z"
   },
   {
    "duration": 349,
    "start_time": "2022-10-10T17:16:12.816Z"
   },
   {
    "duration": 266,
    "start_time": "2022-10-10T17:16:51.262Z"
   },
   {
    "duration": 287,
    "start_time": "2022-10-10T17:17:02.596Z"
   },
   {
    "duration": 274,
    "start_time": "2022-10-10T17:17:22.327Z"
   },
   {
    "duration": 296,
    "start_time": "2022-10-10T17:45:06.440Z"
   },
   {
    "duration": 267,
    "start_time": "2022-10-10T17:45:18.002Z"
   },
   {
    "duration": 340,
    "start_time": "2022-10-10T17:45:29.903Z"
   },
   {
    "duration": 255,
    "start_time": "2022-10-10T17:45:46.862Z"
   },
   {
    "duration": 269,
    "start_time": "2022-10-10T17:45:56.498Z"
   },
   {
    "duration": 262,
    "start_time": "2022-10-10T17:50:49.451Z"
   },
   {
    "duration": 268,
    "start_time": "2022-10-10T17:51:13.262Z"
   },
   {
    "duration": 9,
    "start_time": "2022-10-10T18:16:21.025Z"
   },
   {
    "duration": 19,
    "start_time": "2022-10-10T18:16:36.395Z"
   },
   {
    "duration": 5,
    "start_time": "2022-10-10T18:18:41.898Z"
   },
   {
    "duration": 137,
    "start_time": "2022-10-10T18:20:32.482Z"
   },
   {
    "duration": 19,
    "start_time": "2022-10-10T18:21:29.182Z"
   },
   {
    "duration": 10,
    "start_time": "2022-10-10T18:22:19.939Z"
   },
   {
    "duration": 15,
    "start_time": "2022-10-10T18:22:56.642Z"
   },
   {
    "duration": 49,
    "start_time": "2022-10-10T19:08:48.775Z"
   },
   {
    "duration": 1284,
    "start_time": "2022-10-10T19:09:30.579Z"
   },
   {
    "duration": 107,
    "start_time": "2022-10-10T19:09:31.865Z"
   },
   {
    "duration": 13,
    "start_time": "2022-10-10T19:09:31.973Z"
   },
   {
    "duration": 31,
    "start_time": "2022-10-10T19:09:31.988Z"
   },
   {
    "duration": 13,
    "start_time": "2022-10-10T19:09:32.021Z"
   },
   {
    "duration": 7,
    "start_time": "2022-10-10T19:09:32.036Z"
   },
   {
    "duration": 35,
    "start_time": "2022-10-10T19:09:32.044Z"
   },
   {
    "duration": 34,
    "start_time": "2022-10-10T19:09:32.081Z"
   },
   {
    "duration": 4,
    "start_time": "2022-10-10T19:09:32.116Z"
   },
   {
    "duration": 9,
    "start_time": "2022-10-10T19:09:32.122Z"
   },
   {
    "duration": 5,
    "start_time": "2022-10-10T19:09:32.132Z"
   },
   {
    "duration": 6,
    "start_time": "2022-10-10T19:09:32.138Z"
   },
   {
    "duration": 18,
    "start_time": "2022-10-10T19:09:32.145Z"
   },
   {
    "duration": 6,
    "start_time": "2022-10-10T19:09:32.165Z"
   },
   {
    "duration": 40,
    "start_time": "2022-10-10T19:09:32.173Z"
   },
   {
    "duration": 327,
    "start_time": "2022-10-10T19:09:32.215Z"
   },
   {
    "duration": 18,
    "start_time": "2022-10-10T19:09:32.544Z"
   },
   {
    "duration": 6,
    "start_time": "2022-10-10T19:09:32.564Z"
   },
   {
    "duration": 967,
    "start_time": "2022-10-10T19:09:32.571Z"
   },
   {
    "duration": 5,
    "start_time": "2022-10-10T19:09:33.539Z"
   },
   {
    "duration": 14,
    "start_time": "2022-10-10T19:09:33.546Z"
   },
   {
    "duration": 657,
    "start_time": "2022-10-10T19:09:33.561Z"
   },
   {
    "duration": 346,
    "start_time": "2022-10-10T19:09:34.220Z"
   },
   {
    "duration": 18,
    "start_time": "2022-10-10T19:09:34.568Z"
   },
   {
    "duration": 40,
    "start_time": "2022-10-10T19:09:34.588Z"
   },
   {
    "duration": 572,
    "start_time": "2022-10-10T19:09:34.630Z"
   },
   {
    "duration": 795,
    "start_time": "2022-10-10T19:12:03.177Z"
   },
   {
    "duration": 674,
    "start_time": "2022-10-10T19:14:32.625Z"
   },
   {
    "duration": 17,
    "start_time": "2022-10-10T19:18:10.876Z"
   },
   {
    "duration": 8,
    "start_time": "2022-10-10T19:18:22.536Z"
   },
   {
    "duration": 6,
    "start_time": "2022-10-10T19:24:25.827Z"
   },
   {
    "duration": 15,
    "start_time": "2022-10-10T19:24:29.101Z"
   },
   {
    "duration": 4,
    "start_time": "2022-10-10T19:28:15.621Z"
   },
   {
    "duration": 2266,
    "start_time": "2022-10-10T19:29:34.051Z"
   },
   {
    "duration": 3,
    "start_time": "2022-10-10T19:33:51.160Z"
   },
   {
    "duration": 71,
    "start_time": "2022-10-10T19:33:51.165Z"
   },
   {
    "duration": 12,
    "start_time": "2022-10-10T19:33:51.238Z"
   },
   {
    "duration": 28,
    "start_time": "2022-10-10T19:33:51.253Z"
   },
   {
    "duration": 27,
    "start_time": "2022-10-10T19:33:51.283Z"
   },
   {
    "duration": 7,
    "start_time": "2022-10-10T19:33:51.312Z"
   },
   {
    "duration": 28,
    "start_time": "2022-10-10T19:33:51.321Z"
   },
   {
    "duration": 19,
    "start_time": "2022-10-10T19:33:51.351Z"
   },
   {
    "duration": 4,
    "start_time": "2022-10-10T19:33:51.373Z"
   },
   {
    "duration": 5,
    "start_time": "2022-10-10T19:33:51.379Z"
   },
   {
    "duration": 9,
    "start_time": "2022-10-10T19:33:51.414Z"
   },
   {
    "duration": 6,
    "start_time": "2022-10-10T19:33:51.426Z"
   },
   {
    "duration": 15,
    "start_time": "2022-10-10T19:33:51.433Z"
   },
   {
    "duration": 5,
    "start_time": "2022-10-10T19:33:51.450Z"
   },
   {
    "duration": 15,
    "start_time": "2022-10-10T19:33:51.456Z"
   },
   {
    "duration": 308,
    "start_time": "2022-10-10T19:33:51.472Z"
   },
   {
    "duration": 14,
    "start_time": "2022-10-10T19:33:51.781Z"
   },
   {
    "duration": 14,
    "start_time": "2022-10-10T19:33:51.796Z"
   },
   {
    "duration": 949,
    "start_time": "2022-10-10T19:33:51.811Z"
   },
   {
    "duration": 6,
    "start_time": "2022-10-10T19:33:52.761Z"
   },
   {
    "duration": 14,
    "start_time": "2022-10-10T19:33:52.768Z"
   },
   {
    "duration": 797,
    "start_time": "2022-10-10T19:33:52.783Z"
   },
   {
    "duration": 262,
    "start_time": "2022-10-10T19:33:53.581Z"
   },
   {
    "duration": 5,
    "start_time": "2022-10-10T19:33:53.846Z"
   },
   {
    "duration": 27,
    "start_time": "2022-10-10T19:33:53.852Z"
   },
   {
    "duration": 558,
    "start_time": "2022-10-10T19:33:53.881Z"
   },
   {
    "duration": 2388,
    "start_time": "2022-10-10T19:33:54.441Z"
   },
   {
    "duration": 1982,
    "start_time": "2022-10-10T19:34:40.871Z"
   },
   {
    "duration": 1837,
    "start_time": "2022-10-10T19:35:03.240Z"
   },
   {
    "duration": 1903,
    "start_time": "2022-10-10T19:35:18.355Z"
   },
   {
    "duration": 2,
    "start_time": "2022-10-10T19:44:18.854Z"
   },
   {
    "duration": 18,
    "start_time": "2022-10-10T19:56:47.721Z"
   },
   {
    "duration": 13,
    "start_time": "2022-10-10T19:59:09.181Z"
   },
   {
    "duration": 69,
    "start_time": "2022-10-10T20:18:41.433Z"
   },
   {
    "duration": 14,
    "start_time": "2022-10-10T20:19:01.473Z"
   },
   {
    "duration": 10,
    "start_time": "2022-10-10T20:24:15.934Z"
   },
   {
    "duration": 10,
    "start_time": "2022-10-10T20:24:27.702Z"
   },
   {
    "duration": 18,
    "start_time": "2022-10-10T20:24:41.665Z"
   },
   {
    "duration": 117,
    "start_time": "2022-10-10T20:25:22.668Z"
   },
   {
    "duration": 14,
    "start_time": "2022-10-10T20:26:08.135Z"
   },
   {
    "duration": 181,
    "start_time": "2022-10-10T20:27:13.147Z"
   },
   {
    "duration": 3,
    "start_time": "2022-10-10T20:28:49.622Z"
   },
   {
    "duration": 174,
    "start_time": "2022-10-10T21:02:13.081Z"
   },
   {
    "duration": 6,
    "start_time": "2022-10-11T18:05:04.424Z"
   },
   {
    "duration": 8,
    "start_time": "2022-10-11T18:32:04.017Z"
   },
   {
    "duration": 4,
    "start_time": "2022-10-11T18:32:13.957Z"
   },
   {
    "duration": 18,
    "start_time": "2022-10-11T18:32:47.049Z"
   },
   {
    "duration": 14,
    "start_time": "2022-10-11T18:41:41.990Z"
   },
   {
    "duration": 5,
    "start_time": "2022-10-11T18:41:52.980Z"
   },
   {
    "duration": 6,
    "start_time": "2022-10-11T18:42:22.138Z"
   },
   {
    "duration": 1767,
    "start_time": "2022-10-11T18:45:51.180Z"
   },
   {
    "duration": 982,
    "start_time": "2022-10-11T18:47:06.297Z"
   },
   {
    "duration": 965,
    "start_time": "2022-10-11T18:48:01.254Z"
   },
   {
    "duration": 10,
    "start_time": "2022-10-11T18:48:30.633Z"
   },
   {
    "duration": 6,
    "start_time": "2022-10-11T18:51:25.286Z"
   },
   {
    "duration": 4,
    "start_time": "2022-10-11T18:51:31.235Z"
   },
   {
    "duration": 1064,
    "start_time": "2022-10-11T18:52:57.107Z"
   },
   {
    "duration": 3,
    "start_time": "2022-10-11T18:53:29.151Z"
   },
   {
    "duration": 61,
    "start_time": "2022-10-11T18:53:29.156Z"
   },
   {
    "duration": 12,
    "start_time": "2022-10-11T18:53:29.218Z"
   },
   {
    "duration": 30,
    "start_time": "2022-10-11T18:53:29.232Z"
   },
   {
    "duration": 13,
    "start_time": "2022-10-11T18:53:29.264Z"
   },
   {
    "duration": 12,
    "start_time": "2022-10-11T18:53:29.279Z"
   },
   {
    "duration": 38,
    "start_time": "2022-10-11T18:53:29.292Z"
   },
   {
    "duration": 21,
    "start_time": "2022-10-11T18:53:29.332Z"
   },
   {
    "duration": 4,
    "start_time": "2022-10-11T18:53:29.355Z"
   },
   {
    "duration": 5,
    "start_time": "2022-10-11T18:53:29.361Z"
   },
   {
    "duration": 6,
    "start_time": "2022-10-11T18:53:29.368Z"
   },
   {
    "duration": 936,
    "start_time": "2022-10-11T18:53:29.376Z"
   },
   {
    "duration": 0,
    "start_time": "2022-10-11T18:53:30.314Z"
   },
   {
    "duration": 0,
    "start_time": "2022-10-11T18:53:30.315Z"
   },
   {
    "duration": 0,
    "start_time": "2022-10-11T18:53:30.317Z"
   },
   {
    "duration": 0,
    "start_time": "2022-10-11T18:53:30.317Z"
   },
   {
    "duration": 0,
    "start_time": "2022-10-11T18:53:30.318Z"
   },
   {
    "duration": 0,
    "start_time": "2022-10-11T18:53:30.319Z"
   },
   {
    "duration": 0,
    "start_time": "2022-10-11T18:53:30.319Z"
   },
   {
    "duration": 0,
    "start_time": "2022-10-11T18:53:30.320Z"
   },
   {
    "duration": 0,
    "start_time": "2022-10-11T18:53:30.321Z"
   },
   {
    "duration": 0,
    "start_time": "2022-10-11T18:53:30.322Z"
   },
   {
    "duration": 0,
    "start_time": "2022-10-11T18:53:30.323Z"
   },
   {
    "duration": 0,
    "start_time": "2022-10-11T18:53:30.324Z"
   },
   {
    "duration": 0,
    "start_time": "2022-10-11T18:53:30.324Z"
   },
   {
    "duration": 0,
    "start_time": "2022-10-11T18:53:30.325Z"
   },
   {
    "duration": 0,
    "start_time": "2022-10-11T18:53:30.326Z"
   },
   {
    "duration": 0,
    "start_time": "2022-10-11T18:53:30.327Z"
   },
   {
    "duration": 0,
    "start_time": "2022-10-11T18:53:30.327Z"
   },
   {
    "duration": 0,
    "start_time": "2022-10-11T18:53:30.328Z"
   },
   {
    "duration": 0,
    "start_time": "2022-10-11T18:53:30.329Z"
   },
   {
    "duration": 0,
    "start_time": "2022-10-11T18:53:30.329Z"
   },
   {
    "duration": 0,
    "start_time": "2022-10-11T18:53:30.330Z"
   },
   {
    "duration": 4,
    "start_time": "2022-10-11T18:55:39.437Z"
   },
   {
    "duration": 4,
    "start_time": "2022-10-11T18:56:25.184Z"
   },
   {
    "duration": 2,
    "start_time": "2022-10-11T18:56:38.176Z"
   },
   {
    "duration": 66,
    "start_time": "2022-10-11T18:56:38.180Z"
   },
   {
    "duration": 12,
    "start_time": "2022-10-11T18:56:38.247Z"
   },
   {
    "duration": 23,
    "start_time": "2022-10-11T18:56:38.261Z"
   },
   {
    "duration": 26,
    "start_time": "2022-10-11T18:56:38.286Z"
   },
   {
    "duration": 8,
    "start_time": "2022-10-11T18:56:38.313Z"
   },
   {
    "duration": 25,
    "start_time": "2022-10-11T18:56:38.323Z"
   },
   {
    "duration": 21,
    "start_time": "2022-10-11T18:56:38.350Z"
   },
   {
    "duration": 4,
    "start_time": "2022-10-11T18:56:38.373Z"
   },
   {
    "duration": 31,
    "start_time": "2022-10-11T18:56:38.379Z"
   },
   {
    "duration": 6,
    "start_time": "2022-10-11T18:56:38.413Z"
   },
   {
    "duration": 6,
    "start_time": "2022-10-11T18:56:38.421Z"
   },
   {
    "duration": 7,
    "start_time": "2022-10-11T18:56:38.428Z"
   },
   {
    "duration": 7,
    "start_time": "2022-10-11T18:56:38.437Z"
   },
   {
    "duration": 22,
    "start_time": "2022-10-11T18:56:38.446Z"
   },
   {
    "duration": 3,
    "start_time": "2022-10-11T18:56:38.469Z"
   },
   {
    "duration": 36,
    "start_time": "2022-10-11T18:56:38.474Z"
   },
   {
    "duration": 14,
    "start_time": "2022-10-11T18:56:38.511Z"
   },
   {
    "duration": 6,
    "start_time": "2022-10-11T18:56:38.527Z"
   },
   {
    "duration": 16,
    "start_time": "2022-10-11T18:56:38.535Z"
   },
   {
    "duration": 316,
    "start_time": "2022-10-11T18:56:38.552Z"
   },
   {
    "duration": 14,
    "start_time": "2022-10-11T18:56:38.871Z"
   },
   {
    "duration": 2,
    "start_time": "2022-10-11T18:56:38.887Z"
   },
   {
    "duration": 956,
    "start_time": "2022-10-11T18:56:38.891Z"
   },
   {
    "duration": 5,
    "start_time": "2022-10-11T18:56:39.849Z"
   },
   {
    "duration": 14,
    "start_time": "2022-10-11T18:56:39.856Z"
   },
   {
    "duration": 632,
    "start_time": "2022-10-11T18:56:39.871Z"
   },
   {
    "duration": 397,
    "start_time": "2022-10-11T18:56:40.505Z"
   },
   {
    "duration": 5,
    "start_time": "2022-10-11T18:56:40.910Z"
   },
   {
    "duration": 14,
    "start_time": "2022-10-11T18:56:40.916Z"
   },
   {
    "duration": 513,
    "start_time": "2022-10-11T18:56:40.931Z"
   },
   {
    "duration": 2704,
    "start_time": "2022-10-11T18:56:41.446Z"
   },
   {
    "duration": 14,
    "start_time": "2022-10-11T18:56:44.151Z"
   },
   {
    "duration": 193,
    "start_time": "2022-10-11T18:56:44.167Z"
   },
   {
    "duration": 3,
    "start_time": "2022-10-11T19:51:40.358Z"
   },
   {
    "duration": 64,
    "start_time": "2022-10-11T19:51:40.363Z"
   },
   {
    "duration": 12,
    "start_time": "2022-10-11T19:51:40.428Z"
   },
   {
    "duration": 24,
    "start_time": "2022-10-11T19:51:40.442Z"
   },
   {
    "duration": 12,
    "start_time": "2022-10-11T19:51:40.467Z"
   },
   {
    "duration": 5,
    "start_time": "2022-10-11T19:51:40.480Z"
   },
   {
    "duration": 43,
    "start_time": "2022-10-11T19:51:40.486Z"
   },
   {
    "duration": 21,
    "start_time": "2022-10-11T19:51:40.530Z"
   },
   {
    "duration": 5,
    "start_time": "2022-10-11T19:51:40.555Z"
   },
   {
    "duration": 5,
    "start_time": "2022-10-11T19:51:40.561Z"
   },
   {
    "duration": 6,
    "start_time": "2022-10-11T19:51:40.567Z"
   },
   {
    "duration": 6,
    "start_time": "2022-10-11T19:51:40.575Z"
   },
   {
    "duration": 27,
    "start_time": "2022-10-11T19:51:40.582Z"
   },
   {
    "duration": 9,
    "start_time": "2022-10-11T19:51:40.610Z"
   },
   {
    "duration": 18,
    "start_time": "2022-10-11T19:51:40.620Z"
   },
   {
    "duration": 3,
    "start_time": "2022-10-11T19:51:40.639Z"
   },
   {
    "duration": 5,
    "start_time": "2022-10-11T19:51:40.643Z"
   },
   {
    "duration": 14,
    "start_time": "2022-10-11T19:51:40.650Z"
   },
   {
    "duration": 5,
    "start_time": "2022-10-11T19:51:40.666Z"
   },
   {
    "duration": 38,
    "start_time": "2022-10-11T19:51:40.672Z"
   },
   {
    "duration": 292,
    "start_time": "2022-10-11T19:51:40.712Z"
   },
   {
    "duration": 15,
    "start_time": "2022-10-11T19:51:41.005Z"
   },
   {
    "duration": 3,
    "start_time": "2022-10-11T19:51:41.021Z"
   },
   {
    "duration": 1097,
    "start_time": "2022-10-11T19:51:41.026Z"
   },
   {
    "duration": 6,
    "start_time": "2022-10-11T19:51:42.125Z"
   },
   {
    "duration": 27,
    "start_time": "2022-10-11T19:51:42.132Z"
   },
   {
    "duration": 605,
    "start_time": "2022-10-11T19:51:42.160Z"
   },
   {
    "duration": 247,
    "start_time": "2022-10-11T19:51:42.767Z"
   },
   {
    "duration": 6,
    "start_time": "2022-10-11T19:51:43.016Z"
   },
   {
    "duration": 13,
    "start_time": "2022-10-11T19:51:43.023Z"
   },
   {
    "duration": 537,
    "start_time": "2022-10-11T19:51:43.037Z"
   },
   {
    "duration": 1921,
    "start_time": "2022-10-11T19:51:43.575Z"
   },
   {
    "duration": 15,
    "start_time": "2022-10-11T19:51:45.497Z"
   },
   {
    "duration": 190,
    "start_time": "2022-10-11T19:51:45.514Z"
   },
   {
    "duration": 51,
    "start_time": "2022-10-11T19:53:34.070Z"
   },
   {
    "duration": 143,
    "start_time": "2022-10-11T19:58:13.709Z"
   },
   {
    "duration": 125,
    "start_time": "2022-10-11T19:59:12.137Z"
   },
   {
    "duration": 279,
    "start_time": "2022-10-11T20:01:55.507Z"
   },
   {
    "duration": 384,
    "start_time": "2022-10-11T20:04:04.275Z"
   },
   {
    "duration": 352,
    "start_time": "2022-10-11T20:07:47.831Z"
   },
   {
    "duration": 47,
    "start_time": "2022-10-11T20:09:10.855Z"
   },
   {
    "duration": 356,
    "start_time": "2022-10-11T20:09:31.843Z"
   },
   {
    "duration": 41,
    "start_time": "2022-10-11T20:10:39.807Z"
   },
   {
    "duration": 339,
    "start_time": "2022-10-11T20:11:26.011Z"
   },
   {
    "duration": 2,
    "start_time": "2022-10-11T20:12:12.157Z"
   },
   {
    "duration": 2,
    "start_time": "2022-10-11T20:13:00.704Z"
   },
   {
    "duration": 2,
    "start_time": "2022-10-11T20:14:46.009Z"
   },
   {
    "duration": 214,
    "start_time": "2022-10-11T20:57:06.434Z"
   },
   {
    "duration": 316,
    "start_time": "2022-10-11T20:57:32.161Z"
   },
   {
    "duration": 280,
    "start_time": "2022-10-11T20:58:20.323Z"
   },
   {
    "duration": 289,
    "start_time": "2022-10-11T20:58:51.508Z"
   },
   {
    "duration": 451,
    "start_time": "2022-10-11T20:59:01.242Z"
   },
   {
    "duration": 274,
    "start_time": "2022-10-11T20:59:06.881Z"
   },
   {
    "duration": 316,
    "start_time": "2022-10-11T20:59:25.954Z"
   },
   {
    "duration": 329,
    "start_time": "2022-10-11T20:59:44.176Z"
   },
   {
    "duration": 6,
    "start_time": "2022-10-11T21:01:42.269Z"
   },
   {
    "duration": 269,
    "start_time": "2022-10-11T21:01:59.673Z"
   },
   {
    "duration": 4,
    "start_time": "2022-10-11T21:04:13.195Z"
   },
   {
    "duration": 340,
    "start_time": "2022-10-11T21:04:15.712Z"
   },
   {
    "duration": 376,
    "start_time": "2022-10-11T21:04:26.662Z"
   },
   {
    "duration": 415,
    "start_time": "2022-10-11T21:04:37.934Z"
   },
   {
    "duration": 4,
    "start_time": "2022-10-11T21:05:37.110Z"
   },
   {
    "duration": 359,
    "start_time": "2022-10-11T21:05:39.561Z"
   },
   {
    "duration": 4,
    "start_time": "2022-10-11T21:07:42.747Z"
   },
   {
    "duration": 501,
    "start_time": "2022-10-11T21:07:44.973Z"
   },
   {
    "duration": 4,
    "start_time": "2022-10-11T21:07:59.340Z"
   },
   {
    "duration": 367,
    "start_time": "2022-10-11T21:08:01.624Z"
   },
   {
    "duration": 359,
    "start_time": "2022-10-11T21:08:14.680Z"
   },
   {
    "duration": 3,
    "start_time": "2022-10-11T21:08:18.608Z"
   },
   {
    "duration": 374,
    "start_time": "2022-10-11T21:08:20.516Z"
   },
   {
    "duration": 4,
    "start_time": "2022-10-11T21:11:40.939Z"
   },
   {
    "duration": 384,
    "start_time": "2022-10-11T21:11:44.029Z"
   },
   {
    "duration": 420,
    "start_time": "2022-10-11T21:11:53.393Z"
   },
   {
    "duration": 396,
    "start_time": "2022-10-11T21:12:22.970Z"
   },
   {
    "duration": 406,
    "start_time": "2022-10-11T21:12:53.191Z"
   },
   {
    "duration": 356,
    "start_time": "2022-10-11T21:13:22.137Z"
   },
   {
    "duration": 553,
    "start_time": "2022-10-11T21:13:47.003Z"
   },
   {
    "duration": 363,
    "start_time": "2022-10-11T21:14:12.170Z"
   },
   {
    "duration": 361,
    "start_time": "2022-10-11T21:14:30.036Z"
   },
   {
    "duration": 350,
    "start_time": "2022-10-11T21:14:59.522Z"
   },
   {
    "duration": 4,
    "start_time": "2022-10-11T21:15:56.803Z"
   },
   {
    "duration": 359,
    "start_time": "2022-10-11T21:16:25.764Z"
   },
   {
    "duration": 4,
    "start_time": "2022-10-11T21:16:35.431Z"
   },
   {
    "duration": 367,
    "start_time": "2022-10-11T21:16:37.080Z"
   },
   {
    "duration": 288,
    "start_time": "2022-10-11T21:16:46.171Z"
   },
   {
    "duration": 383,
    "start_time": "2022-10-11T21:17:17.768Z"
   },
   {
    "duration": 3,
    "start_time": "2022-10-11T21:17:59.016Z"
   },
   {
    "duration": 368,
    "start_time": "2022-10-11T21:18:01.418Z"
   },
   {
    "duration": 534,
    "start_time": "2022-10-11T21:18:06.440Z"
   },
   {
    "duration": 382,
    "start_time": "2022-10-11T21:18:14.619Z"
   },
   {
    "duration": 255,
    "start_time": "2022-10-11T21:19:37.125Z"
   },
   {
    "duration": 3,
    "start_time": "2022-10-11T21:19:45.516Z"
   },
   {
    "duration": 254,
    "start_time": "2022-10-11T21:19:48.371Z"
   },
   {
    "duration": 18,
    "start_time": "2022-10-12T11:58:32.990Z"
   },
   {
    "duration": 8,
    "start_time": "2022-10-12T12:04:34.757Z"
   },
   {
    "duration": 3,
    "start_time": "2022-10-12T12:04:45.866Z"
   },
   {
    "duration": 94,
    "start_time": "2022-10-12T12:04:45.872Z"
   },
   {
    "duration": 15,
    "start_time": "2022-10-12T12:04:45.968Z"
   },
   {
    "duration": 45,
    "start_time": "2022-10-12T12:04:45.986Z"
   },
   {
    "duration": 18,
    "start_time": "2022-10-12T12:04:46.033Z"
   },
   {
    "duration": 5,
    "start_time": "2022-10-12T12:04:46.053Z"
   },
   {
    "duration": 58,
    "start_time": "2022-10-12T12:04:46.060Z"
   },
   {
    "duration": 32,
    "start_time": "2022-10-12T12:04:46.120Z"
   },
   {
    "duration": 6,
    "start_time": "2022-10-12T12:04:46.154Z"
   },
   {
    "duration": 8,
    "start_time": "2022-10-12T12:04:46.164Z"
   },
   {
    "duration": 22,
    "start_time": "2022-10-12T12:04:46.174Z"
   },
   {
    "duration": 21,
    "start_time": "2022-10-12T12:04:46.197Z"
   },
   {
    "duration": 13,
    "start_time": "2022-10-12T12:04:46.221Z"
   },
   {
    "duration": 10,
    "start_time": "2022-10-12T12:04:46.235Z"
   },
   {
    "duration": 20,
    "start_time": "2022-10-12T12:04:46.247Z"
   },
   {
    "duration": 4,
    "start_time": "2022-10-12T12:04:46.269Z"
   },
   {
    "duration": 14,
    "start_time": "2022-10-12T12:04:46.274Z"
   },
   {
    "duration": 30,
    "start_time": "2022-10-12T12:04:46.290Z"
   },
   {
    "duration": 6,
    "start_time": "2022-10-12T12:04:46.322Z"
   },
   {
    "duration": 18,
    "start_time": "2022-10-12T12:04:46.330Z"
   },
   {
    "duration": 361,
    "start_time": "2022-10-12T12:04:46.349Z"
   },
   {
    "duration": 14,
    "start_time": "2022-10-12T12:04:46.712Z"
   },
   {
    "duration": 3,
    "start_time": "2022-10-12T12:04:46.727Z"
   },
   {
    "duration": 1030,
    "start_time": "2022-10-12T12:04:46.731Z"
   },
   {
    "duration": 6,
    "start_time": "2022-10-12T12:04:47.763Z"
   },
   {
    "duration": 15,
    "start_time": "2022-10-12T12:04:47.770Z"
   },
   {
    "duration": 689,
    "start_time": "2022-10-12T12:04:47.787Z"
   },
   {
    "duration": 415,
    "start_time": "2022-10-12T12:04:48.479Z"
   },
   {
    "duration": 13,
    "start_time": "2022-10-12T12:04:48.896Z"
   },
   {
    "duration": 26,
    "start_time": "2022-10-12T12:04:48.910Z"
   },
   {
    "duration": 580,
    "start_time": "2022-10-12T12:04:48.938Z"
   },
   {
    "duration": 2031,
    "start_time": "2022-10-12T12:04:49.521Z"
   },
   {
    "duration": 14,
    "start_time": "2022-10-12T12:04:51.554Z"
   },
   {
    "duration": 191,
    "start_time": "2022-10-12T12:04:51.570Z"
   },
   {
    "duration": 12,
    "start_time": "2022-10-12T12:04:51.763Z"
   },
   {
    "duration": 33,
    "start_time": "2022-10-12T12:04:51.777Z"
   },
   {
    "duration": 303,
    "start_time": "2022-10-12T12:04:51.812Z"
   },
   {
    "duration": 0,
    "start_time": "2022-10-12T12:04:52.117Z"
   },
   {
    "duration": 18,
    "start_time": "2022-10-12T12:07:37.949Z"
   },
   {
    "duration": 18,
    "start_time": "2022-10-12T12:09:23.998Z"
   },
   {
    "duration": 18,
    "start_time": "2022-10-12T12:11:33.589Z"
   },
   {
    "duration": 14,
    "start_time": "2022-10-12T12:11:40.265Z"
   },
   {
    "duration": 19,
    "start_time": "2022-10-12T12:12:30.999Z"
   },
   {
    "duration": 1080,
    "start_time": "2022-10-12T12:12:47.062Z"
   },
   {
    "duration": 68,
    "start_time": "2022-10-12T12:12:48.143Z"
   },
   {
    "duration": 14,
    "start_time": "2022-10-12T12:12:48.212Z"
   },
   {
    "duration": 80,
    "start_time": "2022-10-12T12:12:48.228Z"
   },
   {
    "duration": 15,
    "start_time": "2022-10-12T12:12:48.310Z"
   },
   {
    "duration": 6,
    "start_time": "2022-10-12T12:12:48.327Z"
   },
   {
    "duration": 27,
    "start_time": "2022-10-12T12:12:48.334Z"
   },
   {
    "duration": 26,
    "start_time": "2022-10-12T12:12:48.363Z"
   },
   {
    "duration": 22,
    "start_time": "2022-10-12T12:12:48.390Z"
   },
   {
    "duration": 17,
    "start_time": "2022-10-12T12:12:48.414Z"
   },
   {
    "duration": 23,
    "start_time": "2022-10-12T12:12:48.432Z"
   },
   {
    "duration": 7,
    "start_time": "2022-10-12T12:12:48.456Z"
   },
   {
    "duration": 16,
    "start_time": "2022-10-12T12:12:48.464Z"
   },
   {
    "duration": 13,
    "start_time": "2022-10-12T12:12:48.482Z"
   },
   {
    "duration": 34,
    "start_time": "2022-10-12T12:12:48.497Z"
   },
   {
    "duration": 18,
    "start_time": "2022-10-12T12:12:48.532Z"
   },
   {
    "duration": 20,
    "start_time": "2022-10-12T12:12:48.551Z"
   },
   {
    "duration": 16,
    "start_time": "2022-10-12T12:12:48.573Z"
   },
   {
    "duration": 6,
    "start_time": "2022-10-12T12:12:48.590Z"
   },
   {
    "duration": 27,
    "start_time": "2022-10-12T12:12:48.597Z"
   },
   {
    "duration": 339,
    "start_time": "2022-10-12T12:12:48.625Z"
   },
   {
    "duration": 14,
    "start_time": "2022-10-12T12:12:48.965Z"
   },
   {
    "duration": 2,
    "start_time": "2022-10-12T12:12:48.980Z"
   },
   {
    "duration": 973,
    "start_time": "2022-10-12T12:12:48.984Z"
   },
   {
    "duration": 5,
    "start_time": "2022-10-12T12:12:49.959Z"
   },
   {
    "duration": 19,
    "start_time": "2022-10-12T12:12:49.966Z"
   },
   {
    "duration": 628,
    "start_time": "2022-10-12T12:12:49.986Z"
   },
   {
    "duration": 321,
    "start_time": "2022-10-12T12:12:50.618Z"
   },
   {
    "duration": 7,
    "start_time": "2022-10-12T12:12:50.941Z"
   },
   {
    "duration": 14,
    "start_time": "2022-10-12T12:12:50.949Z"
   },
   {
    "duration": 560,
    "start_time": "2022-10-12T12:12:50.964Z"
   },
   {
    "duration": 1948,
    "start_time": "2022-10-12T12:12:51.526Z"
   },
   {
    "duration": 16,
    "start_time": "2022-10-12T12:12:53.476Z"
   },
   {
    "duration": 188,
    "start_time": "2022-10-12T12:12:53.493Z"
   },
   {
    "duration": 14,
    "start_time": "2022-10-12T12:12:53.683Z"
   },
   {
    "duration": 115,
    "start_time": "2022-10-12T12:12:53.709Z"
   },
   {
    "duration": 0,
    "start_time": "2022-10-12T12:12:53.826Z"
   },
   {
    "duration": 0,
    "start_time": "2022-10-12T12:12:53.827Z"
   },
   {
    "duration": 0,
    "start_time": "2022-10-12T12:12:53.828Z"
   },
   {
    "duration": 117,
    "start_time": "2022-10-12T12:13:25.881Z"
   },
   {
    "duration": 19,
    "start_time": "2022-10-12T12:14:00.797Z"
   },
   {
    "duration": 195,
    "start_time": "2022-10-12T12:15:17.536Z"
   },
   {
    "duration": 157,
    "start_time": "2022-10-12T12:18:47.515Z"
   },
   {
    "duration": 175,
    "start_time": "2022-10-12T12:24:28.055Z"
   },
   {
    "duration": 91,
    "start_time": "2022-10-12T12:25:06.852Z"
   },
   {
    "duration": 132,
    "start_time": "2022-10-12T12:26:24.199Z"
   },
   {
    "duration": 94,
    "start_time": "2022-10-12T12:29:06.884Z"
   },
   {
    "duration": 99,
    "start_time": "2022-10-12T12:33:37.361Z"
   },
   {
    "duration": 155,
    "start_time": "2022-10-12T12:33:49.280Z"
   },
   {
    "duration": 131,
    "start_time": "2022-10-12T12:34:06.011Z"
   },
   {
    "duration": 190,
    "start_time": "2022-10-12T12:34:34.343Z"
   },
   {
    "duration": 214,
    "start_time": "2022-10-12T12:36:05.544Z"
   },
   {
    "duration": 316,
    "start_time": "2022-10-12T12:36:44.520Z"
   },
   {
    "duration": 269,
    "start_time": "2022-10-12T12:37:08.714Z"
   },
   {
    "duration": 100,
    "start_time": "2022-10-12T12:39:24.588Z"
   },
   {
    "duration": 238,
    "start_time": "2022-10-12T12:41:42.123Z"
   },
   {
    "duration": 247,
    "start_time": "2022-10-12T12:41:50.172Z"
   },
   {
    "duration": 228,
    "start_time": "2022-10-12T12:42:04.801Z"
   },
   {
    "duration": 245,
    "start_time": "2022-10-12T12:42:16.336Z"
   },
   {
    "duration": 323,
    "start_time": "2022-10-12T12:43:18.945Z"
   },
   {
    "duration": 239,
    "start_time": "2022-10-12T12:54:55.522Z"
   },
   {
    "duration": 302,
    "start_time": "2022-10-12T12:55:01.893Z"
   },
   {
    "duration": 247,
    "start_time": "2022-10-12T12:55:10.857Z"
   },
   {
    "duration": 313,
    "start_time": "2022-10-12T13:04:14.452Z"
   },
   {
    "duration": 323,
    "start_time": "2022-10-12T13:04:50.162Z"
   },
   {
    "duration": 220,
    "start_time": "2022-10-12T13:04:58.455Z"
   },
   {
    "duration": 229,
    "start_time": "2022-10-12T13:05:05.141Z"
   },
   {
    "duration": 280,
    "start_time": "2022-10-12T13:05:12.086Z"
   },
   {
    "duration": 248,
    "start_time": "2022-10-12T13:05:18.139Z"
   },
   {
    "duration": 260,
    "start_time": "2022-10-12T13:05:31.654Z"
   },
   {
    "duration": 10,
    "start_time": "2022-10-12T13:06:43.754Z"
   },
   {
    "duration": 77,
    "start_time": "2022-10-12T13:07:26.589Z"
   },
   {
    "duration": 16,
    "start_time": "2022-10-12T13:07:41.846Z"
   },
   {
    "duration": 14,
    "start_time": "2022-10-12T13:07:54.756Z"
   },
   {
    "duration": 227,
    "start_time": "2022-10-12T13:09:08.581Z"
   },
   {
    "duration": 3,
    "start_time": "2022-10-12T17:32:48.070Z"
   },
   {
    "duration": 60,
    "start_time": "2022-10-12T17:32:48.075Z"
   },
   {
    "duration": 13,
    "start_time": "2022-10-12T17:32:48.136Z"
   },
   {
    "duration": 26,
    "start_time": "2022-10-12T17:32:48.150Z"
   },
   {
    "duration": 11,
    "start_time": "2022-10-12T17:32:48.178Z"
   },
   {
    "duration": 5,
    "start_time": "2022-10-12T17:32:48.208Z"
   },
   {
    "duration": 34,
    "start_time": "2022-10-12T17:32:48.214Z"
   },
   {
    "duration": 20,
    "start_time": "2022-10-12T17:32:48.250Z"
   },
   {
    "duration": 5,
    "start_time": "2022-10-12T17:32:48.271Z"
   },
   {
    "duration": 7,
    "start_time": "2022-10-12T17:32:48.277Z"
   },
   {
    "duration": 24,
    "start_time": "2022-10-12T17:32:48.285Z"
   },
   {
    "duration": 4,
    "start_time": "2022-10-12T17:32:48.311Z"
   },
   {
    "duration": 6,
    "start_time": "2022-10-12T17:32:48.317Z"
   },
   {
    "duration": 5,
    "start_time": "2022-10-12T17:32:48.326Z"
   },
   {
    "duration": 16,
    "start_time": "2022-10-12T17:32:48.332Z"
   },
   {
    "duration": 3,
    "start_time": "2022-10-12T17:32:48.349Z"
   },
   {
    "duration": 6,
    "start_time": "2022-10-12T17:32:48.354Z"
   },
   {
    "duration": 48,
    "start_time": "2022-10-12T17:32:48.361Z"
   },
   {
    "duration": 6,
    "start_time": "2022-10-12T17:32:48.411Z"
   },
   {
    "duration": 16,
    "start_time": "2022-10-12T17:32:48.418Z"
   },
   {
    "duration": 321,
    "start_time": "2022-10-12T17:32:48.436Z"
   },
   {
    "duration": 14,
    "start_time": "2022-10-12T17:32:48.759Z"
   },
   {
    "duration": 2,
    "start_time": "2022-10-12T17:32:48.774Z"
   },
   {
    "duration": 992,
    "start_time": "2022-10-12T17:32:48.778Z"
   },
   {
    "duration": 6,
    "start_time": "2022-10-12T17:32:49.771Z"
   },
   {
    "duration": 15,
    "start_time": "2022-10-12T17:32:49.779Z"
   },
   {
    "duration": 636,
    "start_time": "2022-10-12T17:32:49.795Z"
   },
   {
    "duration": 262,
    "start_time": "2022-10-12T17:32:50.433Z"
   },
   {
    "duration": 5,
    "start_time": "2022-10-12T17:32:50.697Z"
   },
   {
    "duration": 10,
    "start_time": "2022-10-12T17:32:50.708Z"
   },
   {
    "duration": 770,
    "start_time": "2022-10-12T17:32:50.719Z"
   },
   {
    "duration": 1768,
    "start_time": "2022-10-12T17:32:51.491Z"
   },
   {
    "duration": 16,
    "start_time": "2022-10-12T17:32:53.261Z"
   },
   {
    "duration": 194,
    "start_time": "2022-10-12T17:32:53.279Z"
   },
   {
    "duration": 250,
    "start_time": "2022-10-12T17:32:53.474Z"
   },
   {
    "duration": 487,
    "start_time": "2022-10-12T17:32:53.726Z"
   },
   {
    "duration": 254,
    "start_time": "2022-10-12T17:32:54.215Z"
   },
   {
    "duration": 11,
    "start_time": "2022-10-12T17:45:22.178Z"
   },
   {
    "duration": 5,
    "start_time": "2022-10-12T17:45:47.824Z"
   },
   {
    "duration": 12,
    "start_time": "2022-10-12T17:46:16.581Z"
   },
   {
    "duration": 6,
    "start_time": "2022-10-12T17:47:02.467Z"
   },
   {
    "duration": 40,
    "start_time": "2022-10-12T17:52:05.593Z"
   },
   {
    "duration": 7,
    "start_time": "2022-10-12T17:53:20.613Z"
   },
   {
    "duration": 1144,
    "start_time": "2022-10-12T17:53:42.443Z"
   },
   {
    "duration": 64,
    "start_time": "2022-10-12T17:53:43.589Z"
   },
   {
    "duration": 16,
    "start_time": "2022-10-12T17:53:43.656Z"
   },
   {
    "duration": 43,
    "start_time": "2022-10-12T17:53:43.674Z"
   },
   {
    "duration": 13,
    "start_time": "2022-10-12T17:53:43.719Z"
   },
   {
    "duration": 5,
    "start_time": "2022-10-12T17:53:43.733Z"
   },
   {
    "duration": 28,
    "start_time": "2022-10-12T17:53:43.739Z"
   },
   {
    "duration": 47,
    "start_time": "2022-10-12T17:53:43.768Z"
   },
   {
    "duration": 5,
    "start_time": "2022-10-12T17:53:43.817Z"
   },
   {
    "duration": 8,
    "start_time": "2022-10-12T17:53:43.824Z"
   },
   {
    "duration": 12,
    "start_time": "2022-10-12T17:53:43.833Z"
   },
   {
    "duration": 7,
    "start_time": "2022-10-12T17:53:43.846Z"
   },
   {
    "duration": 8,
    "start_time": "2022-10-12T17:53:43.855Z"
   },
   {
    "duration": 6,
    "start_time": "2022-10-12T17:53:43.868Z"
   },
   {
    "duration": 47,
    "start_time": "2022-10-12T17:53:43.876Z"
   },
   {
    "duration": 4,
    "start_time": "2022-10-12T17:53:43.925Z"
   },
   {
    "duration": 6,
    "start_time": "2022-10-12T17:53:43.932Z"
   },
   {
    "duration": 25,
    "start_time": "2022-10-12T17:53:43.940Z"
   },
   {
    "duration": 8,
    "start_time": "2022-10-12T17:53:43.967Z"
   },
   {
    "duration": 52,
    "start_time": "2022-10-12T17:53:43.977Z"
   },
   {
    "duration": 404,
    "start_time": "2022-10-12T17:53:44.030Z"
   },
   {
    "duration": 18,
    "start_time": "2022-10-12T17:53:44.436Z"
   },
   {
    "duration": 8,
    "start_time": "2022-10-12T17:53:44.456Z"
   },
   {
    "duration": 1103,
    "start_time": "2022-10-12T17:53:44.466Z"
   },
   {
    "duration": 6,
    "start_time": "2022-10-12T17:53:45.571Z"
   },
   {
    "duration": 30,
    "start_time": "2022-10-12T17:53:45.579Z"
   },
   {
    "duration": 767,
    "start_time": "2022-10-12T17:53:45.611Z"
   },
   {
    "duration": 368,
    "start_time": "2022-10-12T17:53:46.380Z"
   },
   {
    "duration": 7,
    "start_time": "2022-10-12T17:53:46.749Z"
   },
   {
    "duration": 23,
    "start_time": "2022-10-12T17:53:46.758Z"
   },
   {
    "duration": 661,
    "start_time": "2022-10-12T17:53:46.783Z"
   },
   {
    "duration": 1852,
    "start_time": "2022-10-12T17:53:47.446Z"
   },
   {
    "duration": 19,
    "start_time": "2022-10-12T17:53:49.300Z"
   },
   {
    "duration": 179,
    "start_time": "2022-10-12T17:53:49.320Z"
   },
   {
    "duration": 268,
    "start_time": "2022-10-12T17:53:49.500Z"
   },
   {
    "duration": 385,
    "start_time": "2022-10-12T17:53:49.769Z"
   },
   {
    "duration": 242,
    "start_time": "2022-10-12T17:53:50.155Z"
   },
   {
    "duration": 12,
    "start_time": "2022-10-12T17:53:50.399Z"
   },
   {
    "duration": 17,
    "start_time": "2022-10-12T17:53:50.413Z"
   },
   {
    "duration": 26,
    "start_time": "2022-10-12T17:53:50.432Z"
   },
   {
    "duration": 5,
    "start_time": "2022-10-12T17:55:39.246Z"
   },
   {
    "duration": 13,
    "start_time": "2022-10-12T17:58:22.610Z"
   },
   {
    "duration": 115,
    "start_time": "2022-10-12T18:02:05.008Z"
   },
   {
    "duration": 7,
    "start_time": "2022-10-12T18:02:10.629Z"
   },
   {
    "duration": 51,
    "start_time": "2022-10-12T18:03:18.146Z"
   },
   {
    "duration": 14,
    "start_time": "2022-10-12T18:03:34.545Z"
   },
   {
    "duration": 9,
    "start_time": "2022-10-12T18:10:08.700Z"
   },
   {
    "duration": 9,
    "start_time": "2022-10-12T18:14:02.378Z"
   },
   {
    "duration": 62,
    "start_time": "2022-10-12T18:15:47.003Z"
   },
   {
    "duration": 1151,
    "start_time": "2022-10-12T18:16:36.890Z"
   },
   {
    "duration": 58,
    "start_time": "2022-10-12T18:16:38.043Z"
   },
   {
    "duration": 14,
    "start_time": "2022-10-12T18:16:38.103Z"
   },
   {
    "duration": 30,
    "start_time": "2022-10-12T18:16:38.119Z"
   },
   {
    "duration": 13,
    "start_time": "2022-10-12T18:16:38.151Z"
   },
   {
    "duration": 24,
    "start_time": "2022-10-12T18:16:38.165Z"
   },
   {
    "duration": 43,
    "start_time": "2022-10-12T18:16:38.191Z"
   },
   {
    "duration": 24,
    "start_time": "2022-10-12T18:16:38.236Z"
   },
   {
    "duration": 5,
    "start_time": "2022-10-12T18:16:38.262Z"
   },
   {
    "duration": 31,
    "start_time": "2022-10-12T18:16:38.269Z"
   },
   {
    "duration": 40,
    "start_time": "2022-10-12T18:16:38.302Z"
   },
   {
    "duration": 16,
    "start_time": "2022-10-12T18:16:38.344Z"
   },
   {
    "duration": 30,
    "start_time": "2022-10-12T18:16:38.361Z"
   },
   {
    "duration": 44,
    "start_time": "2022-10-12T18:16:38.393Z"
   },
   {
    "duration": 38,
    "start_time": "2022-10-12T18:16:38.440Z"
   },
   {
    "duration": 22,
    "start_time": "2022-10-12T18:16:38.480Z"
   },
   {
    "duration": 37,
    "start_time": "2022-10-12T18:16:38.504Z"
   },
   {
    "duration": 64,
    "start_time": "2022-10-12T18:16:38.542Z"
   },
   {
    "duration": 19,
    "start_time": "2022-10-12T18:16:38.607Z"
   },
   {
    "duration": 71,
    "start_time": "2022-10-12T18:16:38.628Z"
   },
   {
    "duration": 354,
    "start_time": "2022-10-12T18:16:38.701Z"
   },
   {
    "duration": 16,
    "start_time": "2022-10-12T18:16:39.057Z"
   },
   {
    "duration": 42,
    "start_time": "2022-10-12T18:16:39.075Z"
   },
   {
    "duration": 1046,
    "start_time": "2022-10-12T18:16:39.118Z"
   },
   {
    "duration": 8,
    "start_time": "2022-10-12T18:16:40.165Z"
   },
   {
    "duration": 29,
    "start_time": "2022-10-12T18:16:40.175Z"
   },
   {
    "duration": 690,
    "start_time": "2022-10-12T18:16:40.210Z"
   },
   {
    "duration": 328,
    "start_time": "2022-10-12T18:16:40.908Z"
   },
   {
    "duration": 7,
    "start_time": "2022-10-12T18:16:41.237Z"
   },
   {
    "duration": 19,
    "start_time": "2022-10-12T18:16:41.245Z"
   },
   {
    "duration": 698,
    "start_time": "2022-10-12T18:16:41.266Z"
   },
   {
    "duration": 1915,
    "start_time": "2022-10-12T18:16:41.967Z"
   },
   {
    "duration": 15,
    "start_time": "2022-10-12T18:16:43.884Z"
   },
   {
    "duration": 189,
    "start_time": "2022-10-12T18:16:43.910Z"
   },
   {
    "duration": 267,
    "start_time": "2022-10-12T18:16:44.101Z"
   },
   {
    "duration": 442,
    "start_time": "2022-10-12T18:16:44.369Z"
   },
   {
    "duration": 249,
    "start_time": "2022-10-12T18:16:44.812Z"
   },
   {
    "duration": 5,
    "start_time": "2022-10-12T18:16:45.063Z"
   },
   {
    "duration": 13,
    "start_time": "2022-10-12T18:16:45.069Z"
   },
   {
    "duration": 26,
    "start_time": "2022-10-12T18:16:45.084Z"
   },
   {
    "duration": 14,
    "start_time": "2022-10-12T18:16:45.112Z"
   },
   {
    "duration": 14,
    "start_time": "2022-10-12T18:16:45.128Z"
   },
   {
    "duration": 39,
    "start_time": "2022-10-12T18:29:40.297Z"
   },
   {
    "duration": 45,
    "start_time": "2022-10-12T18:32:08.564Z"
   },
   {
    "duration": 99,
    "start_time": "2022-10-12T18:34:02.133Z"
   },
   {
    "duration": 3,
    "start_time": "2022-10-12T19:06:25.973Z"
   },
   {
    "duration": 56,
    "start_time": "2022-10-12T19:06:25.978Z"
   },
   {
    "duration": 13,
    "start_time": "2022-10-12T19:06:26.036Z"
   },
   {
    "duration": 27,
    "start_time": "2022-10-12T19:06:26.051Z"
   },
   {
    "duration": 33,
    "start_time": "2022-10-12T19:06:26.079Z"
   },
   {
    "duration": 6,
    "start_time": "2022-10-12T19:06:26.114Z"
   },
   {
    "duration": 30,
    "start_time": "2022-10-12T19:06:26.122Z"
   },
   {
    "duration": 22,
    "start_time": "2022-10-12T19:06:26.153Z"
   },
   {
    "duration": 5,
    "start_time": "2022-10-12T19:06:26.177Z"
   },
   {
    "duration": 4,
    "start_time": "2022-10-12T19:06:26.210Z"
   },
   {
    "duration": 6,
    "start_time": "2022-10-12T19:06:26.217Z"
   },
   {
    "duration": 4,
    "start_time": "2022-10-12T19:06:26.225Z"
   },
   {
    "duration": 6,
    "start_time": "2022-10-12T19:06:26.231Z"
   },
   {
    "duration": 11,
    "start_time": "2022-10-12T19:06:26.239Z"
   },
   {
    "duration": 21,
    "start_time": "2022-10-12T19:06:26.251Z"
   },
   {
    "duration": 37,
    "start_time": "2022-10-12T19:06:26.274Z"
   },
   {
    "duration": 7,
    "start_time": "2022-10-12T19:06:26.312Z"
   },
   {
    "duration": 16,
    "start_time": "2022-10-12T19:06:26.320Z"
   },
   {
    "duration": 5,
    "start_time": "2022-10-12T19:06:26.338Z"
   },
   {
    "duration": 17,
    "start_time": "2022-10-12T19:06:26.345Z"
   },
   {
    "duration": 350,
    "start_time": "2022-10-12T19:06:26.363Z"
   },
   {
    "duration": 14,
    "start_time": "2022-10-12T19:06:26.715Z"
   },
   {
    "duration": 2,
    "start_time": "2022-10-12T19:06:26.731Z"
   },
   {
    "duration": 995,
    "start_time": "2022-10-12T19:06:26.735Z"
   },
   {
    "duration": 6,
    "start_time": "2022-10-12T19:06:27.731Z"
   },
   {
    "duration": 14,
    "start_time": "2022-10-12T19:06:27.738Z"
   },
   {
    "duration": 762,
    "start_time": "2022-10-12T19:06:27.754Z"
   },
   {
    "duration": 273,
    "start_time": "2022-10-12T19:06:28.519Z"
   },
   {
    "duration": 13,
    "start_time": "2022-10-12T19:06:28.796Z"
   },
   {
    "duration": 11,
    "start_time": "2022-10-12T19:06:28.811Z"
   },
   {
    "duration": 589,
    "start_time": "2022-10-12T19:06:28.825Z"
   },
   {
    "duration": 1864,
    "start_time": "2022-10-12T19:06:29.416Z"
   },
   {
    "duration": 14,
    "start_time": "2022-10-12T19:06:31.282Z"
   },
   {
    "duration": 189,
    "start_time": "2022-10-12T19:06:31.298Z"
   },
   {
    "duration": 259,
    "start_time": "2022-10-12T19:06:31.489Z"
   },
   {
    "duration": 390,
    "start_time": "2022-10-12T19:06:31.750Z"
   },
   {
    "duration": 259,
    "start_time": "2022-10-12T19:06:32.142Z"
   },
   {
    "duration": 8,
    "start_time": "2022-10-12T19:06:32.403Z"
   },
   {
    "duration": 17,
    "start_time": "2022-10-12T19:06:32.412Z"
   },
   {
    "duration": 12,
    "start_time": "2022-10-12T19:06:32.431Z"
   },
   {
    "duration": 11,
    "start_time": "2022-10-12T19:06:32.445Z"
   },
   {
    "duration": 11,
    "start_time": "2022-10-12T19:06:32.458Z"
   },
   {
    "duration": 5,
    "start_time": "2022-10-12T19:06:49.114Z"
   },
   {
    "duration": 6,
    "start_time": "2022-10-12T19:06:57.469Z"
   },
   {
    "duration": 7,
    "start_time": "2022-10-12T19:07:19.867Z"
   },
   {
    "duration": 8,
    "start_time": "2022-10-12T19:07:34.382Z"
   },
   {
    "duration": 1154,
    "start_time": "2022-10-12T19:07:41.495Z"
   },
   {
    "duration": 60,
    "start_time": "2022-10-12T19:07:42.650Z"
   },
   {
    "duration": 12,
    "start_time": "2022-10-12T19:07:42.712Z"
   },
   {
    "duration": 51,
    "start_time": "2022-10-12T19:07:42.726Z"
   },
   {
    "duration": 13,
    "start_time": "2022-10-12T19:07:42.778Z"
   },
   {
    "duration": 38,
    "start_time": "2022-10-12T19:07:42.792Z"
   },
   {
    "duration": 43,
    "start_time": "2022-10-12T19:07:42.831Z"
   },
   {
    "duration": 22,
    "start_time": "2022-10-12T19:07:42.875Z"
   },
   {
    "duration": 9,
    "start_time": "2022-10-12T19:07:42.898Z"
   },
   {
    "duration": 13,
    "start_time": "2022-10-12T19:07:42.910Z"
   },
   {
    "duration": 57,
    "start_time": "2022-10-12T19:07:42.924Z"
   },
   {
    "duration": 31,
    "start_time": "2022-10-12T19:07:42.982Z"
   },
   {
    "duration": 19,
    "start_time": "2022-10-12T19:07:43.015Z"
   },
   {
    "duration": 41,
    "start_time": "2022-10-12T19:07:43.035Z"
   },
   {
    "duration": 28,
    "start_time": "2022-10-12T19:07:43.078Z"
   },
   {
    "duration": 14,
    "start_time": "2022-10-12T19:07:43.108Z"
   },
   {
    "duration": 31,
    "start_time": "2022-10-12T19:07:43.123Z"
   },
   {
    "duration": 26,
    "start_time": "2022-10-12T19:07:43.155Z"
   },
   {
    "duration": 12,
    "start_time": "2022-10-12T19:07:43.183Z"
   },
   {
    "duration": 24,
    "start_time": "2022-10-12T19:07:43.196Z"
   },
   {
    "duration": 351,
    "start_time": "2022-10-12T19:07:43.222Z"
   },
   {
    "duration": 15,
    "start_time": "2022-10-12T19:07:43.575Z"
   },
   {
    "duration": 33,
    "start_time": "2022-10-12T19:07:43.591Z"
   },
   {
    "duration": 1085,
    "start_time": "2022-10-12T19:07:43.626Z"
   },
   {
    "duration": 6,
    "start_time": "2022-10-12T19:07:44.712Z"
   },
   {
    "duration": 23,
    "start_time": "2022-10-12T19:07:44.720Z"
   },
   {
    "duration": 624,
    "start_time": "2022-10-12T19:07:44.744Z"
   },
   {
    "duration": 312,
    "start_time": "2022-10-12T19:07:45.371Z"
   },
   {
    "duration": 6,
    "start_time": "2022-10-12T19:07:45.684Z"
   },
   {
    "duration": 20,
    "start_time": "2022-10-12T19:07:45.691Z"
   },
   {
    "duration": 547,
    "start_time": "2022-10-12T19:07:45.713Z"
   },
   {
    "duration": 1812,
    "start_time": "2022-10-12T19:07:46.262Z"
   },
   {
    "duration": 14,
    "start_time": "2022-10-12T19:07:48.075Z"
   },
   {
    "duration": 198,
    "start_time": "2022-10-12T19:07:48.091Z"
   },
   {
    "duration": 241,
    "start_time": "2022-10-12T19:07:48.291Z"
   },
   {
    "duration": 338,
    "start_time": "2022-10-12T19:07:48.533Z"
   },
   {
    "duration": 242,
    "start_time": "2022-10-12T19:07:48.872Z"
   },
   {
    "duration": 6,
    "start_time": "2022-10-12T19:07:49.116Z"
   },
   {
    "duration": 12,
    "start_time": "2022-10-12T19:07:49.123Z"
   },
   {
    "duration": 8,
    "start_time": "2022-10-12T19:07:49.137Z"
   },
   {
    "duration": 15,
    "start_time": "2022-10-12T19:07:49.147Z"
   },
   {
    "duration": 16,
    "start_time": "2022-10-12T19:07:49.164Z"
   },
   {
    "duration": 48,
    "start_time": "2022-10-13T13:17:43.461Z"
   },
   {
    "duration": 1306,
    "start_time": "2022-10-13T13:17:56.321Z"
   },
   {
    "duration": 90,
    "start_time": "2022-10-13T13:17:57.629Z"
   },
   {
    "duration": 15,
    "start_time": "2022-10-13T13:17:57.721Z"
   },
   {
    "duration": 32,
    "start_time": "2022-10-13T13:17:57.738Z"
   },
   {
    "duration": 13,
    "start_time": "2022-10-13T13:17:57.772Z"
   },
   {
    "duration": 5,
    "start_time": "2022-10-13T13:17:57.787Z"
   },
   {
    "duration": 49,
    "start_time": "2022-10-13T13:17:57.794Z"
   },
   {
    "duration": 25,
    "start_time": "2022-10-13T13:17:57.844Z"
   },
   {
    "duration": 5,
    "start_time": "2022-10-13T13:17:57.871Z"
   },
   {
    "duration": 12,
    "start_time": "2022-10-13T13:17:57.878Z"
   },
   {
    "duration": 9,
    "start_time": "2022-10-13T13:17:57.891Z"
   },
   {
    "duration": 6,
    "start_time": "2022-10-13T13:17:57.901Z"
   },
   {
    "duration": 9,
    "start_time": "2022-10-13T13:17:57.909Z"
   },
   {
    "duration": 6,
    "start_time": "2022-10-13T13:17:57.933Z"
   },
   {
    "duration": 21,
    "start_time": "2022-10-13T13:17:57.941Z"
   },
   {
    "duration": 4,
    "start_time": "2022-10-13T13:17:57.963Z"
   },
   {
    "duration": 12,
    "start_time": "2022-10-13T13:17:57.968Z"
   },
   {
    "duration": 21,
    "start_time": "2022-10-13T13:17:57.981Z"
   },
   {
    "duration": 6,
    "start_time": "2022-10-13T13:17:58.003Z"
   },
   {
    "duration": 32,
    "start_time": "2022-10-13T13:17:58.011Z"
   },
   {
    "duration": 372,
    "start_time": "2022-10-13T13:17:58.045Z"
   },
   {
    "duration": 20,
    "start_time": "2022-10-13T13:17:58.419Z"
   },
   {
    "duration": 3,
    "start_time": "2022-10-13T13:17:58.441Z"
   },
   {
    "duration": 1718,
    "start_time": "2022-10-13T13:17:58.445Z"
   },
   {
    "duration": 7,
    "start_time": "2022-10-13T13:18:00.165Z"
   },
   {
    "duration": 69,
    "start_time": "2022-10-13T13:18:00.174Z"
   },
   {
    "duration": 1048,
    "start_time": "2022-10-13T13:18:00.245Z"
   },
   {
    "duration": 378,
    "start_time": "2022-10-13T13:18:01.296Z"
   },
   {
    "duration": 6,
    "start_time": "2022-10-13T13:18:01.676Z"
   },
   {
    "duration": 62,
    "start_time": "2022-10-13T13:18:01.683Z"
   },
   {
    "duration": 630,
    "start_time": "2022-10-13T13:18:01.747Z"
   },
   {
    "duration": 1959,
    "start_time": "2022-10-13T13:18:02.379Z"
   },
   {
    "duration": 15,
    "start_time": "2022-10-13T13:18:04.340Z"
   },
   {
    "duration": 216,
    "start_time": "2022-10-13T13:18:04.357Z"
   },
   {
    "duration": 275,
    "start_time": "2022-10-13T13:18:04.574Z"
   },
   {
    "duration": 397,
    "start_time": "2022-10-13T13:18:04.850Z"
   },
   {
    "duration": 261,
    "start_time": "2022-10-13T13:18:05.250Z"
   },
   {
    "duration": 6,
    "start_time": "2022-10-13T13:18:05.513Z"
   },
   {
    "duration": 16,
    "start_time": "2022-10-13T13:18:05.534Z"
   },
   {
    "duration": 21,
    "start_time": "2022-10-13T13:18:05.553Z"
   },
   {
    "duration": 22,
    "start_time": "2022-10-13T13:18:05.576Z"
   },
   {
    "duration": 54,
    "start_time": "2022-10-13T13:18:05.600Z"
   },
   {
    "duration": 44,
    "start_time": "2022-10-13T13:19:19.486Z"
   },
   {
    "duration": 372,
    "start_time": "2022-10-13T13:21:13.527Z"
   },
   {
    "duration": 1083,
    "start_time": "2022-10-13T17:05:27.309Z"
   },
   {
    "duration": 61,
    "start_time": "2022-10-13T17:05:28.394Z"
   },
   {
    "duration": 17,
    "start_time": "2022-10-13T17:05:28.456Z"
   },
   {
    "duration": 35,
    "start_time": "2022-10-13T17:05:28.475Z"
   },
   {
    "duration": 28,
    "start_time": "2022-10-13T17:05:28.512Z"
   },
   {
    "duration": 6,
    "start_time": "2022-10-13T17:05:28.542Z"
   },
   {
    "duration": 44,
    "start_time": "2022-10-13T17:05:28.550Z"
   },
   {
    "duration": 44,
    "start_time": "2022-10-13T17:05:28.596Z"
   },
   {
    "duration": 5,
    "start_time": "2022-10-13T17:05:28.642Z"
   },
   {
    "duration": 10,
    "start_time": "2022-10-13T17:05:28.650Z"
   },
   {
    "duration": 10,
    "start_time": "2022-10-13T17:05:28.661Z"
   },
   {
    "duration": 6,
    "start_time": "2022-10-13T17:05:28.673Z"
   },
   {
    "duration": 10,
    "start_time": "2022-10-13T17:05:28.680Z"
   },
   {
    "duration": 8,
    "start_time": "2022-10-13T17:05:28.691Z"
   },
   {
    "duration": 46,
    "start_time": "2022-10-13T17:05:28.700Z"
   },
   {
    "duration": 5,
    "start_time": "2022-10-13T17:05:28.748Z"
   },
   {
    "duration": 11,
    "start_time": "2022-10-13T17:05:28.755Z"
   },
   {
    "duration": 34,
    "start_time": "2022-10-13T17:05:28.768Z"
   },
   {
    "duration": 7,
    "start_time": "2022-10-13T17:05:28.804Z"
   },
   {
    "duration": 39,
    "start_time": "2022-10-13T17:05:28.813Z"
   },
   {
    "duration": 375,
    "start_time": "2022-10-13T17:05:28.854Z"
   },
   {
    "duration": 21,
    "start_time": "2022-10-13T17:05:29.231Z"
   },
   {
    "duration": 3,
    "start_time": "2022-10-13T17:05:29.254Z"
   },
   {
    "duration": 1098,
    "start_time": "2022-10-13T17:05:29.259Z"
   },
   {
    "duration": 7,
    "start_time": "2022-10-13T17:05:30.359Z"
   },
   {
    "duration": 31,
    "start_time": "2022-10-13T17:05:30.368Z"
   },
   {
    "duration": 742,
    "start_time": "2022-10-13T17:05:30.401Z"
   },
   {
    "duration": 373,
    "start_time": "2022-10-13T17:05:31.146Z"
   },
   {
    "duration": 6,
    "start_time": "2022-10-13T17:05:31.521Z"
   },
   {
    "duration": 23,
    "start_time": "2022-10-13T17:05:31.532Z"
   },
   {
    "duration": 593,
    "start_time": "2022-10-13T17:05:31.556Z"
   },
   {
    "duration": 1988,
    "start_time": "2022-10-13T17:05:32.154Z"
   },
   {
    "duration": 18,
    "start_time": "2022-10-13T17:05:34.144Z"
   },
   {
    "duration": 224,
    "start_time": "2022-10-13T17:05:34.164Z"
   },
   {
    "duration": 319,
    "start_time": "2022-10-13T17:05:34.391Z"
   },
   {
    "duration": 413,
    "start_time": "2022-10-13T17:05:34.712Z"
   },
   {
    "duration": 269,
    "start_time": "2022-10-13T17:05:35.128Z"
   },
   {
    "duration": 7,
    "start_time": "2022-10-13T17:05:35.399Z"
   },
   {
    "duration": 25,
    "start_time": "2022-10-13T17:05:35.408Z"
   },
   {
    "duration": 15,
    "start_time": "2022-10-13T17:05:35.436Z"
   },
   {
    "duration": 28,
    "start_time": "2022-10-13T17:05:35.454Z"
   },
   {
    "duration": 31,
    "start_time": "2022-10-13T17:05:35.483Z"
   },
   {
    "duration": 6,
    "start_time": "2022-10-13T17:13:53.419Z"
   },
   {
    "duration": 15,
    "start_time": "2022-10-13T17:14:05.826Z"
   },
   {
    "duration": 1040,
    "start_time": "2022-10-13T17:15:14.365Z"
   },
   {
    "duration": 60,
    "start_time": "2022-10-13T17:15:15.407Z"
   },
   {
    "duration": 15,
    "start_time": "2022-10-13T17:15:15.469Z"
   },
   {
    "duration": 38,
    "start_time": "2022-10-13T17:15:15.486Z"
   },
   {
    "duration": 19,
    "start_time": "2022-10-13T17:15:15.526Z"
   },
   {
    "duration": 9,
    "start_time": "2022-10-13T17:15:15.547Z"
   },
   {
    "duration": 44,
    "start_time": "2022-10-13T17:15:15.558Z"
   },
   {
    "duration": 34,
    "start_time": "2022-10-13T17:15:15.604Z"
   },
   {
    "duration": 5,
    "start_time": "2022-10-13T17:15:15.640Z"
   },
   {
    "duration": 15,
    "start_time": "2022-10-13T17:15:15.648Z"
   },
   {
    "duration": 23,
    "start_time": "2022-10-13T17:15:15.664Z"
   },
   {
    "duration": 24,
    "start_time": "2022-10-13T17:15:15.689Z"
   },
   {
    "duration": 18,
    "start_time": "2022-10-13T17:15:15.715Z"
   },
   {
    "duration": 20,
    "start_time": "2022-10-13T17:15:15.735Z"
   },
   {
    "duration": 31,
    "start_time": "2022-10-13T17:15:15.757Z"
   },
   {
    "duration": 4,
    "start_time": "2022-10-13T17:15:15.789Z"
   },
   {
    "duration": 12,
    "start_time": "2022-10-13T17:15:15.794Z"
   },
   {
    "duration": 20,
    "start_time": "2022-10-13T17:15:15.807Z"
   },
   {
    "duration": 5,
    "start_time": "2022-10-13T17:15:15.829Z"
   },
   {
    "duration": 30,
    "start_time": "2022-10-13T17:15:15.836Z"
   },
   {
    "duration": 367,
    "start_time": "2022-10-13T17:15:15.868Z"
   },
   {
    "duration": 19,
    "start_time": "2022-10-13T17:15:16.238Z"
   },
   {
    "duration": 3,
    "start_time": "2022-10-13T17:15:16.259Z"
   },
   {
    "duration": 1146,
    "start_time": "2022-10-13T17:15:16.264Z"
   },
   {
    "duration": 6,
    "start_time": "2022-10-13T17:15:17.412Z"
   },
   {
    "duration": 28,
    "start_time": "2022-10-13T17:15:17.420Z"
   },
   {
    "duration": 671,
    "start_time": "2022-10-13T17:15:17.449Z"
   },
   {
    "duration": 532,
    "start_time": "2022-10-13T17:15:18.124Z"
   },
   {
    "duration": 6,
    "start_time": "2022-10-13T17:15:18.658Z"
   },
   {
    "duration": 15,
    "start_time": "2022-10-13T17:15:18.666Z"
   },
   {
    "duration": 1291,
    "start_time": "2022-10-13T17:15:18.682Z"
   },
   {
    "duration": 1961,
    "start_time": "2022-10-13T17:15:19.975Z"
   },
   {
    "duration": 14,
    "start_time": "2022-10-13T17:15:21.938Z"
   },
   {
    "duration": 205,
    "start_time": "2022-10-13T17:15:21.954Z"
   },
   {
    "duration": 275,
    "start_time": "2022-10-13T17:15:22.161Z"
   },
   {
    "duration": 392,
    "start_time": "2022-10-13T17:15:22.438Z"
   },
   {
    "duration": 254,
    "start_time": "2022-10-13T17:15:22.833Z"
   },
   {
    "duration": 5,
    "start_time": "2022-10-13T17:15:23.089Z"
   },
   {
    "duration": 10,
    "start_time": "2022-10-13T17:15:23.096Z"
   },
   {
    "duration": 8,
    "start_time": "2022-10-13T17:15:23.107Z"
   },
   {
    "duration": 8,
    "start_time": "2022-10-13T17:15:23.133Z"
   },
   {
    "duration": 12,
    "start_time": "2022-10-13T17:15:23.142Z"
   },
   {
    "duration": 14,
    "start_time": "2022-10-13T17:16:51.705Z"
   },
   {
    "duration": 171,
    "start_time": "2022-10-13T17:17:39.024Z"
   },
   {
    "duration": 51,
    "start_time": "2022-10-13T17:19:18.732Z"
   },
   {
    "duration": 273,
    "start_time": "2022-10-13T17:20:39.068Z"
   },
   {
    "duration": 273,
    "start_time": "2022-10-13T17:21:03.199Z"
   },
   {
    "duration": 280,
    "start_time": "2022-10-13T17:21:17.001Z"
   },
   {
    "duration": 342,
    "start_time": "2022-10-13T17:21:23.442Z"
   },
   {
    "duration": 267,
    "start_time": "2022-10-13T17:21:35.207Z"
   },
   {
    "duration": 276,
    "start_time": "2022-10-13T17:21:42.403Z"
   },
   {
    "duration": 1586,
    "start_time": "2023-07-07T09:40:54.181Z"
   },
   {
    "duration": 143,
    "start_time": "2023-07-07T09:40:55.771Z"
   },
   {
    "duration": 21,
    "start_time": "2023-07-07T09:40:55.917Z"
   },
   {
    "duration": 56,
    "start_time": "2023-07-07T09:40:55.941Z"
   },
   {
    "duration": 20,
    "start_time": "2023-07-07T09:40:56.010Z"
   },
   {
    "duration": 41,
    "start_time": "2023-07-07T09:40:56.033Z"
   },
   {
    "duration": 70,
    "start_time": "2023-07-07T09:40:56.076Z"
   },
   {
    "duration": 38,
    "start_time": "2023-07-07T09:40:56.148Z"
   },
   {
    "duration": 25,
    "start_time": "2023-07-07T09:40:56.188Z"
   },
   {
    "duration": 21,
    "start_time": "2023-07-07T09:40:56.216Z"
   },
   {
    "duration": 18,
    "start_time": "2023-07-07T09:40:56.240Z"
   },
   {
    "duration": 15,
    "start_time": "2023-07-07T09:40:56.259Z"
   },
   {
    "duration": 20,
    "start_time": "2023-07-07T09:40:56.276Z"
   },
   {
    "duration": 47,
    "start_time": "2023-07-07T09:40:56.298Z"
   },
   {
    "duration": 49,
    "start_time": "2023-07-07T09:40:56.348Z"
   },
   {
    "duration": 5,
    "start_time": "2023-07-07T09:40:56.400Z"
   },
   {
    "duration": 15,
    "start_time": "2023-07-07T09:40:56.407Z"
   },
   {
    "duration": 36,
    "start_time": "2023-07-07T09:40:56.424Z"
   },
   {
    "duration": 13,
    "start_time": "2023-07-07T09:40:56.462Z"
   },
   {
    "duration": 41,
    "start_time": "2023-07-07T09:40:56.478Z"
   },
   {
    "duration": 483,
    "start_time": "2023-07-07T09:40:56.521Z"
   },
   {
    "duration": 24,
    "start_time": "2023-07-07T09:40:57.008Z"
   },
   {
    "duration": 3,
    "start_time": "2023-07-07T09:40:57.034Z"
   },
   {
    "duration": 1483,
    "start_time": "2023-07-07T09:40:57.040Z"
   },
   {
    "duration": 10,
    "start_time": "2023-07-07T09:40:58.526Z"
   },
   {
    "duration": 37,
    "start_time": "2023-07-07T09:40:58.538Z"
   },
   {
    "duration": 892,
    "start_time": "2023-07-07T09:40:58.578Z"
   },
   {
    "duration": 456,
    "start_time": "2023-07-07T09:40:59.474Z"
   },
   {
    "duration": 12,
    "start_time": "2023-07-07T09:40:59.932Z"
   },
   {
    "duration": 72,
    "start_time": "2023-07-07T09:40:59.946Z"
   },
   {
    "duration": 816,
    "start_time": "2023-07-07T09:41:00.020Z"
   },
   {
    "duration": 2820,
    "start_time": "2023-07-07T09:41:00.838Z"
   },
   {
    "duration": 20,
    "start_time": "2023-07-07T09:41:03.660Z"
   },
   {
    "duration": 309,
    "start_time": "2023-07-07T09:41:03.683Z"
   },
   {
    "duration": 391,
    "start_time": "2023-07-07T09:41:03.994Z"
   },
   {
    "duration": 539,
    "start_time": "2023-07-07T09:41:04.387Z"
   },
   {
    "duration": 364,
    "start_time": "2023-07-07T09:41:04.929Z"
   },
   {
    "duration": 353,
    "start_time": "2023-07-07T09:41:05.295Z"
   },
   {
    "duration": 8,
    "start_time": "2023-07-07T09:41:05.651Z"
   },
   {
    "duration": 114,
    "start_time": "2023-07-07T09:41:05.662Z"
   },
   {
    "duration": 80,
    "start_time": "2023-07-07T09:41:05.778Z"
   },
   {
    "duration": 51,
    "start_time": "2023-07-07T09:41:05.863Z"
   },
   {
    "duration": 90,
    "start_time": "2023-07-07T09:41:05.916Z"
   },
   {
    "duration": 9,
    "start_time": "2023-07-07T09:42:58.939Z"
   }
  ],
  "kernelspec": {
   "display_name": "Python 3 (ipykernel)",
   "language": "python",
   "name": "python3"
  },
  "language_info": {
   "codemirror_mode": {
    "name": "ipython",
    "version": 3
   },
   "file_extension": ".py",
   "mimetype": "text/x-python",
   "name": "python",
   "nbconvert_exporter": "python",
   "pygments_lexer": "ipython3",
   "version": "3.9.5"
  },
  "toc": {
   "base_numbering": 1,
   "nav_menu": {},
   "number_sections": true,
   "sideBar": true,
   "skip_h1_title": true,
   "title_cell": "Содержание",
   "title_sidebar": "Содержание",
   "toc_cell": true,
   "toc_position": {},
   "toc_section_display": true,
   "toc_window_display": true
  }
 },
 "nbformat": 4,
 "nbformat_minor": 2
}
