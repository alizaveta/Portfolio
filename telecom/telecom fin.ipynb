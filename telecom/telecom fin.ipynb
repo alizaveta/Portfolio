{
 "cells": [
  {
   "cell_type": "markdown",
   "metadata": {},
   "source": [
    "# Определение неэффективных операторов"
   ]
  },
  {
   "cell_type": "markdown",
   "metadata": {},
   "source": [
    "Компания **\"Нупозвони\"** - провайдер виртуальной телефонии. Его клиенты — колл-центры, которые: \n",
    "\n",
    "- распределяют входящие вызовы на операторов,\n",
    "- совершают исходящие вызовы силами операторов.\n",
    "\n",
    "Также операторы могут делать внутренние вызовы —  вызовы друг между другом внутри сети виртуальной телефонии.\n",
    "\n",
    "Задача этого исследования определить критерии эффективности для операторов различных колл-центров и выявить самых неэффективных операторов."
   ]
  },
  {
   "cell_type": "markdown",
   "metadata": {},
   "source": [
    "Ссылка на презентацию: https://drive.google.com/file/d/1_P5F9p3IaJ6dFfJCvUDlsvODUQmMEiip/view?usp=sharing"
   ]
  },
  {
   "cell_type": "markdown",
   "metadata": {},
   "source": [
    "Ссылка на дашборд: https://public.tableau.com/app/profile/elizaveta.kalinichenko/viz/telecom_dashboard_16768914235870/sheet2"
   ]
  },
  {
   "cell_type": "markdown",
   "metadata": {
    "toc": true
   },
   "source": [
    "<h1>Содержание<span class=\"tocSkip\"></span></h1>\n",
    "<div class=\"toc\"><ul class=\"toc-item\"><li><span><a href=\"#Изучение-данных\" data-toc-modified-id=\"Изучение-данных-1\"><span class=\"toc-item-num\">1&nbsp;&nbsp;</span>Изучение данных</a></span></li><li><span><a href=\"#Предобработка-данных\" data-toc-modified-id=\"Предобработка-данных-2\"><span class=\"toc-item-num\">2&nbsp;&nbsp;</span>Предобработка данных</a></span><ul class=\"toc-item\"><li><span><a href=\"#Работа-с-пропусками\" data-toc-modified-id=\"Работа-с-пропусками-2.1\"><span class=\"toc-item-num\">2.1&nbsp;&nbsp;</span>Работа с пропусками</a></span></li><li><span><a href=\"#Замена-типов-данных\" data-toc-modified-id=\"Замена-типов-данных-2.2\"><span class=\"toc-item-num\">2.2&nbsp;&nbsp;</span>Замена типов данных</a></span></li><li><span><a href=\"#Работа-с-дубликатами\" data-toc-modified-id=\"Работа-с-дубликатами-2.3\"><span class=\"toc-item-num\">2.3&nbsp;&nbsp;</span>Работа с дубликатами</a></span></li><li><span><a href=\"#Формирование-дополнительных-столбцов\" data-toc-modified-id=\"Формирование-дополнительных-столбцов-2.4\"><span class=\"toc-item-num\">2.4&nbsp;&nbsp;</span>Формирование дополнительных столбцов</a></span></li><li><span><a href=\"#Вывод\" data-toc-modified-id=\"Вывод-2.5\"><span class=\"toc-item-num\">2.5&nbsp;&nbsp;</span>Вывод</a></span></li></ul></li><li><span><a href=\"#Исследовательский-анализ-данных\" data-toc-modified-id=\"Исследовательский-анализ-данных-3\"><span class=\"toc-item-num\">3&nbsp;&nbsp;</span>Исследовательский анализ данных</a></span><ul class=\"toc-item\"><li><span><a href=\"#Количество-звонков\" data-toc-modified-id=\"Количество-звонков-3.1\"><span class=\"toc-item-num\">3.1&nbsp;&nbsp;</span>Количество звонков</a></span></li><li><span><a href=\"#Пропущенные-вызовы\" data-toc-modified-id=\"Пропущенные-вызовы-3.2\"><span class=\"toc-item-num\">3.2&nbsp;&nbsp;</span>Пропущенные вызовы</a></span></li><li><span><a href=\"#Длительность-звонков\" data-toc-modified-id=\"Длительность-звонков-3.3\"><span class=\"toc-item-num\">3.3&nbsp;&nbsp;</span>Длительность звонков</a></span></li><li><span><a href=\"#Вывод\" data-toc-modified-id=\"Вывод-3.4\"><span class=\"toc-item-num\">3.4&nbsp;&nbsp;</span>Вывод</a></span></li></ul></li><li><span><a href=\"#Определение-неэффективных-операторов\" data-toc-modified-id=\"Определение-неэффективных-операторов-4\"><span class=\"toc-item-num\">4&nbsp;&nbsp;</span>Определение неэффективных операторов</a></span><ul class=\"toc-item\"><li><span><a href=\"#Для-колл-цетров-специализирующихся-на-входящих-вызовах\" data-toc-modified-id=\"Для-колл-цетров-специализирующихся-на-входящих-вызовах-4.1\"><span class=\"toc-item-num\">4.1&nbsp;&nbsp;</span>Для колл-цетров специализирующихся на входящих вызовах</a></span></li><li><span><a href=\"#Для-колл-цетров-специализирующихся-на-исходящих-вызовах\" data-toc-modified-id=\"Для-колл-цетров-специализирующихся-на-исходящих-вызовах-4.2\"><span class=\"toc-item-num\">4.2&nbsp;&nbsp;</span>Для колл-цетров специализирующихся на исходящих вызовах</a></span></li><li><span><a href=\"#Вывод\" data-toc-modified-id=\"Вывод-4.3\"><span class=\"toc-item-num\">4.3&nbsp;&nbsp;</span>Вывод</a></span></li></ul></li><li><span><a href=\"#Проверка-гипотез\" data-toc-modified-id=\"Проверка-гипотез-5\"><span class=\"toc-item-num\">5&nbsp;&nbsp;</span>Проверка гипотез</a></span></li><li><span><a href=\"#Общий-вывод\" data-toc-modified-id=\"Общий-вывод-6\"><span class=\"toc-item-num\">6&nbsp;&nbsp;</span>Общий вывод</a></span></li></ul></div>"
   ]
  },
  {
   "cell_type": "markdown",
   "metadata": {},
   "source": [
    "## Изучение данных"
   ]
  },
  {
   "cell_type": "code",
   "execution_count": 1,
   "metadata": {},
   "outputs": [],
   "source": [
    "import pandas as pd\n",
    "from datetime import datetime, time\n",
    "import matplotlib.pyplot as plt\n",
    "import plotly.express as px\n",
    "import seaborn as sns\n",
    "import numpy as np\n",
    "pd.set_option('display.max_colwidth', None)\n",
    "import warnings\n",
    "warnings.simplefilter(\"ignore\")\n",
    "from scipy import stats as st"
   ]
  },
  {
   "cell_type": "code",
   "execution_count": 2,
   "metadata": {},
   "outputs": [],
   "source": [
    "try:\n",
    "    data = pd.read_csv('/datasets/telecom_dataset.csv')\n",
    "    clients = pd.read_csv('/datasets/telecom_clients.csv')\n",
    "      \n",
    "except:\n",
    "    data = pd.read_csv('telecom_dataset.csv')\n",
    "    clients= pd.read_csv('telecom_clients.csv')"
   ]
  },
  {
   "cell_type": "code",
   "execution_count": 3,
   "metadata": {
    "scrolled": false
   },
   "outputs": [
    {
     "name": "stdout",
     "output_type": "stream",
     "text": [
      "<class 'pandas.core.frame.DataFrame'>\n",
      "RangeIndex: 53902 entries, 0 to 53901\n",
      "Data columns (total 9 columns):\n",
      " #   Column               Non-Null Count  Dtype  \n",
      "---  ------               --------------  -----  \n",
      " 0   user_id              53902 non-null  int64  \n",
      " 1   date                 53902 non-null  object \n",
      " 2   direction            53902 non-null  object \n",
      " 3   internal             53785 non-null  object \n",
      " 4   operator_id          45730 non-null  float64\n",
      " 5   is_missed_call       53902 non-null  bool   \n",
      " 6   calls_count          53902 non-null  int64  \n",
      " 7   call_duration        53902 non-null  int64  \n",
      " 8   total_call_duration  53902 non-null  int64  \n",
      "dtypes: bool(1), float64(1), int64(4), object(3)\n",
      "memory usage: 3.3+ MB\n"
     ]
    },
    {
     "data": {
      "text/html": [
       "<div>\n",
       "<style scoped>\n",
       "    .dataframe tbody tr th:only-of-type {\n",
       "        vertical-align: middle;\n",
       "    }\n",
       "\n",
       "    .dataframe tbody tr th {\n",
       "        vertical-align: top;\n",
       "    }\n",
       "\n",
       "    .dataframe thead th {\n",
       "        text-align: right;\n",
       "    }\n",
       "</style>\n",
       "<table border=\"1\" class=\"dataframe\">\n",
       "  <thead>\n",
       "    <tr style=\"text-align: right;\">\n",
       "      <th></th>\n",
       "      <th>user_id</th>\n",
       "      <th>date</th>\n",
       "      <th>direction</th>\n",
       "      <th>internal</th>\n",
       "      <th>operator_id</th>\n",
       "      <th>is_missed_call</th>\n",
       "      <th>calls_count</th>\n",
       "      <th>call_duration</th>\n",
       "      <th>total_call_duration</th>\n",
       "    </tr>\n",
       "  </thead>\n",
       "  <tbody>\n",
       "    <tr>\n",
       "      <th>0</th>\n",
       "      <td>166377</td>\n",
       "      <td>2019-08-04 00:00:00+03:00</td>\n",
       "      <td>in</td>\n",
       "      <td>False</td>\n",
       "      <td>NaN</td>\n",
       "      <td>True</td>\n",
       "      <td>2</td>\n",
       "      <td>0</td>\n",
       "      <td>4</td>\n",
       "    </tr>\n",
       "    <tr>\n",
       "      <th>1</th>\n",
       "      <td>166377</td>\n",
       "      <td>2019-08-05 00:00:00+03:00</td>\n",
       "      <td>out</td>\n",
       "      <td>True</td>\n",
       "      <td>880022.0</td>\n",
       "      <td>True</td>\n",
       "      <td>3</td>\n",
       "      <td>0</td>\n",
       "      <td>5</td>\n",
       "    </tr>\n",
       "    <tr>\n",
       "      <th>2</th>\n",
       "      <td>166377</td>\n",
       "      <td>2019-08-05 00:00:00+03:00</td>\n",
       "      <td>out</td>\n",
       "      <td>True</td>\n",
       "      <td>880020.0</td>\n",
       "      <td>True</td>\n",
       "      <td>1</td>\n",
       "      <td>0</td>\n",
       "      <td>1</td>\n",
       "    </tr>\n",
       "    <tr>\n",
       "      <th>3</th>\n",
       "      <td>166377</td>\n",
       "      <td>2019-08-05 00:00:00+03:00</td>\n",
       "      <td>out</td>\n",
       "      <td>True</td>\n",
       "      <td>880020.0</td>\n",
       "      <td>False</td>\n",
       "      <td>1</td>\n",
       "      <td>10</td>\n",
       "      <td>18</td>\n",
       "    </tr>\n",
       "    <tr>\n",
       "      <th>4</th>\n",
       "      <td>166377</td>\n",
       "      <td>2019-08-05 00:00:00+03:00</td>\n",
       "      <td>out</td>\n",
       "      <td>False</td>\n",
       "      <td>880022.0</td>\n",
       "      <td>True</td>\n",
       "      <td>3</td>\n",
       "      <td>0</td>\n",
       "      <td>25</td>\n",
       "    </tr>\n",
       "    <tr>\n",
       "      <th>5</th>\n",
       "      <td>166377</td>\n",
       "      <td>2019-08-05 00:00:00+03:00</td>\n",
       "      <td>out</td>\n",
       "      <td>False</td>\n",
       "      <td>880020.0</td>\n",
       "      <td>False</td>\n",
       "      <td>2</td>\n",
       "      <td>3</td>\n",
       "      <td>29</td>\n",
       "    </tr>\n",
       "    <tr>\n",
       "      <th>6</th>\n",
       "      <td>166377</td>\n",
       "      <td>2019-08-05 00:00:00+03:00</td>\n",
       "      <td>out</td>\n",
       "      <td>False</td>\n",
       "      <td>880020.0</td>\n",
       "      <td>True</td>\n",
       "      <td>8</td>\n",
       "      <td>0</td>\n",
       "      <td>50</td>\n",
       "    </tr>\n",
       "    <tr>\n",
       "      <th>7</th>\n",
       "      <td>166377</td>\n",
       "      <td>2019-08-05 00:00:00+03:00</td>\n",
       "      <td>in</td>\n",
       "      <td>False</td>\n",
       "      <td>NaN</td>\n",
       "      <td>True</td>\n",
       "      <td>6</td>\n",
       "      <td>0</td>\n",
       "      <td>35</td>\n",
       "    </tr>\n",
       "    <tr>\n",
       "      <th>8</th>\n",
       "      <td>166377</td>\n",
       "      <td>2019-08-05 00:00:00+03:00</td>\n",
       "      <td>out</td>\n",
       "      <td>False</td>\n",
       "      <td>880020.0</td>\n",
       "      <td>True</td>\n",
       "      <td>8</td>\n",
       "      <td>0</td>\n",
       "      <td>50</td>\n",
       "    </tr>\n",
       "    <tr>\n",
       "      <th>9</th>\n",
       "      <td>166377</td>\n",
       "      <td>2019-08-06 00:00:00+03:00</td>\n",
       "      <td>in</td>\n",
       "      <td>False</td>\n",
       "      <td>NaN</td>\n",
       "      <td>True</td>\n",
       "      <td>4</td>\n",
       "      <td>0</td>\n",
       "      <td>62</td>\n",
       "    </tr>\n",
       "  </tbody>\n",
       "</table>\n",
       "</div>"
      ],
      "text/plain": [
       "   user_id                       date direction internal  operator_id  \\\n",
       "0   166377  2019-08-04 00:00:00+03:00        in    False          NaN   \n",
       "1   166377  2019-08-05 00:00:00+03:00       out     True     880022.0   \n",
       "2   166377  2019-08-05 00:00:00+03:00       out     True     880020.0   \n",
       "3   166377  2019-08-05 00:00:00+03:00       out     True     880020.0   \n",
       "4   166377  2019-08-05 00:00:00+03:00       out    False     880022.0   \n",
       "5   166377  2019-08-05 00:00:00+03:00       out    False     880020.0   \n",
       "6   166377  2019-08-05 00:00:00+03:00       out    False     880020.0   \n",
       "7   166377  2019-08-05 00:00:00+03:00        in    False          NaN   \n",
       "8   166377  2019-08-05 00:00:00+03:00       out    False     880020.0   \n",
       "9   166377  2019-08-06 00:00:00+03:00        in    False          NaN   \n",
       "\n",
       "   is_missed_call  calls_count  call_duration  total_call_duration  \n",
       "0            True            2              0                    4  \n",
       "1            True            3              0                    5  \n",
       "2            True            1              0                    1  \n",
       "3           False            1             10                   18  \n",
       "4            True            3              0                   25  \n",
       "5           False            2              3                   29  \n",
       "6            True            8              0                   50  \n",
       "7            True            6              0                   35  \n",
       "8            True            8              0                   50  \n",
       "9            True            4              0                   62  "
      ]
     },
     "execution_count": 3,
     "metadata": {},
     "output_type": "execute_result"
    }
   ],
   "source": [
    "data.info()\n",
    "data.head(10)"
   ]
  },
  {
   "cell_type": "markdown",
   "metadata": {},
   "source": [
    "В датасете `telecom_dataset` 9 столбцов:\n",
    "\n",
    "- `user_id` — Идентификатор клиентского аккаунта колл-центра в сервисе\n",
    "- `date` — Дата статистики\n",
    "- `direction` — Направление вызовов (out - исходящий вызов, in — входящий вызов)\n",
    "- `internal` — Является ли звонок внутренним звонком между операторами клиента\n",
    "- `operator_id` — Идентификатор оператора\n",
    "- `is_missed_call` — Является ли звонок пропущенным\n",
    "- `calls_count` — Количество звонков\n",
    "- `call_duration` — Длительность звонка (без учета времени ожидания)\n",
    "- `total_call_duration` — Длительность звонка (с учетом времени ожидания)"
   ]
  },
  {
   "cell_type": "markdown",
   "metadata": {},
   "source": [
    "Заметны пропуски в колонках `internal` и `operator_id`. Тип данных столбца `date` необходимо в дальнейшем заменить на дату."
   ]
  },
  {
   "cell_type": "code",
   "execution_count": 4,
   "metadata": {
    "scrolled": false
   },
   "outputs": [
    {
     "name": "stdout",
     "output_type": "stream",
     "text": [
      "<class 'pandas.core.frame.DataFrame'>\n",
      "RangeIndex: 732 entries, 0 to 731\n",
      "Data columns (total 3 columns):\n",
      " #   Column       Non-Null Count  Dtype \n",
      "---  ------       --------------  ----- \n",
      " 0   user_id      732 non-null    int64 \n",
      " 1   tariff_plan  732 non-null    object\n",
      " 2   date_start   732 non-null    object\n",
      "dtypes: int64(1), object(2)\n",
      "memory usage: 17.3+ KB\n"
     ]
    },
    {
     "data": {
      "text/html": [
       "<div>\n",
       "<style scoped>\n",
       "    .dataframe tbody tr th:only-of-type {\n",
       "        vertical-align: middle;\n",
       "    }\n",
       "\n",
       "    .dataframe tbody tr th {\n",
       "        vertical-align: top;\n",
       "    }\n",
       "\n",
       "    .dataframe thead th {\n",
       "        text-align: right;\n",
       "    }\n",
       "</style>\n",
       "<table border=\"1\" class=\"dataframe\">\n",
       "  <thead>\n",
       "    <tr style=\"text-align: right;\">\n",
       "      <th></th>\n",
       "      <th>user_id</th>\n",
       "      <th>tariff_plan</th>\n",
       "      <th>date_start</th>\n",
       "    </tr>\n",
       "  </thead>\n",
       "  <tbody>\n",
       "    <tr>\n",
       "      <th>0</th>\n",
       "      <td>166713</td>\n",
       "      <td>A</td>\n",
       "      <td>2019-08-15</td>\n",
       "    </tr>\n",
       "    <tr>\n",
       "      <th>1</th>\n",
       "      <td>166901</td>\n",
       "      <td>A</td>\n",
       "      <td>2019-08-23</td>\n",
       "    </tr>\n",
       "    <tr>\n",
       "      <th>2</th>\n",
       "      <td>168527</td>\n",
       "      <td>A</td>\n",
       "      <td>2019-10-29</td>\n",
       "    </tr>\n",
       "    <tr>\n",
       "      <th>3</th>\n",
       "      <td>167097</td>\n",
       "      <td>A</td>\n",
       "      <td>2019-09-01</td>\n",
       "    </tr>\n",
       "    <tr>\n",
       "      <th>4</th>\n",
       "      <td>168193</td>\n",
       "      <td>A</td>\n",
       "      <td>2019-10-16</td>\n",
       "    </tr>\n",
       "  </tbody>\n",
       "</table>\n",
       "</div>"
      ],
      "text/plain": [
       "   user_id tariff_plan  date_start\n",
       "0   166713           A  2019-08-15\n",
       "1   166901           A  2019-08-23\n",
       "2   168527           A  2019-10-29\n",
       "3   167097           A  2019-09-01\n",
       "4   168193           A  2019-10-16"
      ]
     },
     "execution_count": 4,
     "metadata": {},
     "output_type": "execute_result"
    }
   ],
   "source": [
    "clients.info()\n",
    "clients.head()"
   ]
  },
  {
   "cell_type": "markdown",
   "metadata": {},
   "source": [
    "Колонки в `telecom_clients.csv`:\n",
    "\n",
    "- `user_id` — Идентификатор клиентского аккаунта в сервисе\n",
    "- `tariff_plan` — Текущий тарифный план клиента\n",
    "- `date_start` — Дата регистрации клиентв в сервисе"
   ]
  },
  {
   "cell_type": "markdown",
   "metadata": {},
   "source": [
    "Пропусков нет, тип данных столбца `date_start`  необходимо заменим на дату."
   ]
  },
  {
   "cell_type": "markdown",
   "metadata": {},
   "source": [
    "## Предобработка данных"
   ]
  },
  {
   "cell_type": "markdown",
   "metadata": {},
   "source": [
    "### Работа с пропусками"
   ]
  },
  {
   "cell_type": "markdown",
   "metadata": {},
   "source": [
    "Выведем информацию о пропусках, процент содержания NaN в каждом столбце `data` общего количества строк:"
   ]
  },
  {
   "cell_type": "code",
   "execution_count": 5,
   "metadata": {},
   "outputs": [],
   "source": [
    "# функция, получает на вход название столбца и возвращающает количество и процент пропущенных значений\n",
    "def nan_ratio(column):\n",
    "    nan = len(data[data[column].isna()])/ len(data)\n",
    "    return print(f'Процент пропущенных значений в столбце {column}: {nan:.1%}, {len(data[data[column].isna()])} значений')"
   ]
  },
  {
   "cell_type": "code",
   "execution_count": 6,
   "metadata": {},
   "outputs": [
    {
     "name": "stdout",
     "output_type": "stream",
     "text": [
      "Процент пропущенных значений в столбце internal: 0.2%, 117 значений\n",
      "Процент пропущенных значений в столбце operator_id: 15.2%, 8172 значений\n"
     ]
    }
   ],
   "source": [
    "# выведем % пропусков, для всех столбцов в которых они есть:\n",
    "for column in data.columns:\n",
    "    if len(data[data[column].isna()]) > 0:\n",
    "        nan_ratio(column)"
   ]
  },
  {
   "cell_type": "markdown",
   "metadata": {},
   "source": [
    "Мы не можем корректно заполнить отсутствующие значения с информацией о том является ли звонок внутренним звонком между операторами клиента и пропущенные индетификаторы операторов. Т.к. пропущенных значений в `internal` всего 0,2% можем удалить их. Пропусков в `operator_id` больше, но неккоректно заполненные пропуски скажутся на адекватности исследования, удаляем и их."
   ]
  },
  {
   "cell_type": "code",
   "execution_count": 7,
   "metadata": {},
   "outputs": [
    {
     "name": "stdout",
     "output_type": "stream",
     "text": [
      "<class 'pandas.core.frame.DataFrame'>\n",
      "Int64Index: 45670 entries, 1 to 53900\n",
      "Data columns (total 9 columns):\n",
      " #   Column               Non-Null Count  Dtype  \n",
      "---  ------               --------------  -----  \n",
      " 0   user_id              45670 non-null  int64  \n",
      " 1   date                 45670 non-null  object \n",
      " 2   direction            45670 non-null  object \n",
      " 3   internal             45670 non-null  object \n",
      " 4   operator_id          45670 non-null  float64\n",
      " 5   is_missed_call       45670 non-null  bool   \n",
      " 6   calls_count          45670 non-null  int64  \n",
      " 7   call_duration        45670 non-null  int64  \n",
      " 8   total_call_duration  45670 non-null  int64  \n",
      "dtypes: bool(1), float64(1), int64(4), object(3)\n",
      "memory usage: 3.2+ MB\n"
     ]
    }
   ],
   "source": [
    "data.dropna(subset=['internal'],inplace=True)\n",
    "data.dropna(subset=['operator_id'],inplace=True)\n",
    "data.info()"
   ]
  },
  {
   "cell_type": "markdown",
   "metadata": {},
   "source": [
    "### Замена типов данных"
   ]
  },
  {
   "cell_type": "markdown",
   "metadata": {},
   "source": [
    "Преобразуем столбцы `date` и `date_start` в datetime:"
   ]
  },
  {
   "cell_type": "code",
   "execution_count": 8,
   "metadata": {},
   "outputs": [],
   "source": [
    "data['date'] = pd.to_datetime(data['date'])\n",
    "data['date'] = data['date'].dt.date\n",
    "clients['date_start'] = pd.to_datetime(clients['date_start'])"
   ]
  },
  {
   "cell_type": "markdown",
   "metadata": {},
   "source": [
    "Столбец `operator_id` приведем к целочисленному типу:"
   ]
  },
  {
   "cell_type": "code",
   "execution_count": 9,
   "metadata": {},
   "outputs": [],
   "source": [
    "data['operator_id'] = data['operator_id'].astype('int64')"
   ]
  },
  {
   "cell_type": "markdown",
   "metadata": {},
   "source": [
    "### Работа с дубликатами"
   ]
  },
  {
   "cell_type": "markdown",
   "metadata": {},
   "source": [
    "Проверим и удалим явные дубликаты:"
   ]
  },
  {
   "cell_type": "code",
   "execution_count": 10,
   "metadata": {},
   "outputs": [
    {
     "name": "stdout",
     "output_type": "stream",
     "text": [
      "Количество дубликатов в датасете data: 4179 значений, что составляет  9.2%, \n",
      "Количество дубликатов в датасете clients: 0 значений, что составляет  0.0%, \n"
     ]
    }
   ],
   "source": [
    "print(f'Количество дубликатов в датасете data: {data.duplicated().sum()} значений, что составляет  {data.duplicated().sum()/len(data):.1%}, ')\n",
    "print(f'Количество дубликатов в датасете clients: {clients.duplicated().sum()} значений, что составляет  {clients.duplicated().sum()/len(clients):.1%}, ')"
   ]
  },
  {
   "cell_type": "markdown",
   "metadata": {},
   "source": [
    "Удаляем дубликаты:"
   ]
  },
  {
   "cell_type": "code",
   "execution_count": 11,
   "metadata": {},
   "outputs": [
    {
     "data": {
      "text/plain": [
       "0"
      ]
     },
     "execution_count": 11,
     "metadata": {},
     "output_type": "execute_result"
    }
   ],
   "source": [
    "data = data.drop_duplicates()\n",
    "data.duplicated().sum()"
   ]
  },
  {
   "cell_type": "code",
   "execution_count": 12,
   "metadata": {},
   "outputs": [
    {
     "name": "stdout",
     "output_type": "stream",
     "text": [
      "<class 'pandas.core.frame.DataFrame'>\n",
      "Int64Index: 41491 entries, 1 to 53899\n",
      "Data columns (total 9 columns):\n",
      " #   Column               Non-Null Count  Dtype \n",
      "---  ------               --------------  ----- \n",
      " 0   user_id              41491 non-null  int64 \n",
      " 1   date                 41491 non-null  object\n",
      " 2   direction            41491 non-null  object\n",
      " 3   internal             41491 non-null  object\n",
      " 4   operator_id          41491 non-null  int64 \n",
      " 5   is_missed_call       41491 non-null  bool  \n",
      " 6   calls_count          41491 non-null  int64 \n",
      " 7   call_duration        41491 non-null  int64 \n",
      " 8   total_call_duration  41491 non-null  int64 \n",
      "dtypes: bool(1), int64(5), object(3)\n",
      "memory usage: 2.9+ MB\n"
     ]
    }
   ],
   "source": [
    "data.info()"
   ]
  },
  {
   "cell_type": "markdown",
   "metadata": {},
   "source": [
    "### Формирование дополнительных столбцов"
   ]
  },
  {
   "cell_type": "markdown",
   "metadata": {},
   "source": [
    "Добавим столбец со значениями времени ожидания `wait_duration`:"
   ]
  },
  {
   "cell_type": "code",
   "execution_count": 13,
   "metadata": {},
   "outputs": [],
   "source": [
    "data['wait_duration']=data['total_call_duration'] - data['call_duration']"
   ]
  },
  {
   "cell_type": "markdown",
   "metadata": {},
   "source": [
    "Разделим колл-центры на две категории:\n",
    "- **in** если он специализируется на обработке входящих звонков;\n",
    "- **out** специализируются на обзвонах.\n",
    "\n",
    "Добавим столбец `user_type` с соответствующими значениями."
   ]
  },
  {
   "cell_type": "code",
   "execution_count": 14,
   "metadata": {},
   "outputs": [
    {
     "data": {
      "text/html": [
       "<div>\n",
       "<style scoped>\n",
       "    .dataframe tbody tr th:only-of-type {\n",
       "        vertical-align: middle;\n",
       "    }\n",
       "\n",
       "    .dataframe tbody tr th {\n",
       "        vertical-align: top;\n",
       "    }\n",
       "\n",
       "    .dataframe thead th {\n",
       "        text-align: right;\n",
       "    }\n",
       "</style>\n",
       "<table border=\"1\" class=\"dataframe\">\n",
       "  <thead>\n",
       "    <tr style=\"text-align: right;\">\n",
       "      <th></th>\n",
       "      <th>user_id</th>\n",
       "      <th>in</th>\n",
       "      <th>out</th>\n",
       "    </tr>\n",
       "  </thead>\n",
       "  <tbody>\n",
       "    <tr>\n",
       "      <th>0</th>\n",
       "      <td>166377</td>\n",
       "      <td>102.0</td>\n",
       "      <td>4952.0</td>\n",
       "    </tr>\n",
       "    <tr>\n",
       "      <th>1</th>\n",
       "      <td>166391</td>\n",
       "      <td>6.0</td>\n",
       "      <td>1.0</td>\n",
       "    </tr>\n",
       "    <tr>\n",
       "      <th>2</th>\n",
       "      <td>166392</td>\n",
       "      <td>102.0</td>\n",
       "      <td>NaN</td>\n",
       "    </tr>\n",
       "    <tr>\n",
       "      <th>3</th>\n",
       "      <td>166399</td>\n",
       "      <td>11.0</td>\n",
       "      <td>NaN</td>\n",
       "    </tr>\n",
       "    <tr>\n",
       "      <th>4</th>\n",
       "      <td>166405</td>\n",
       "      <td>2191.0</td>\n",
       "      <td>9825.0</td>\n",
       "    </tr>\n",
       "    <tr>\n",
       "      <th>5</th>\n",
       "      <td>166406</td>\n",
       "      <td>161.0</td>\n",
       "      <td>8128.0</td>\n",
       "    </tr>\n",
       "    <tr>\n",
       "      <th>6</th>\n",
       "      <td>166407</td>\n",
       "      <td>85.0</td>\n",
       "      <td>844.0</td>\n",
       "    </tr>\n",
       "    <tr>\n",
       "      <th>7</th>\n",
       "      <td>166428</td>\n",
       "      <td>126.0</td>\n",
       "      <td>NaN</td>\n",
       "    </tr>\n",
       "    <tr>\n",
       "      <th>8</th>\n",
       "      <td>166481</td>\n",
       "      <td>1.0</td>\n",
       "      <td>NaN</td>\n",
       "    </tr>\n",
       "    <tr>\n",
       "      <th>9</th>\n",
       "      <td>166482</td>\n",
       "      <td>48.0</td>\n",
       "      <td>NaN</td>\n",
       "    </tr>\n",
       "  </tbody>\n",
       "</table>\n",
       "</div>"
      ],
      "text/plain": [
       "   user_id      in     out\n",
       "0   166377   102.0  4952.0\n",
       "1   166391     6.0     1.0\n",
       "2   166392   102.0     NaN\n",
       "3   166399    11.0     NaN\n",
       "4   166405  2191.0  9825.0\n",
       "5   166406   161.0  8128.0\n",
       "6   166407    85.0   844.0\n",
       "7   166428   126.0     NaN\n",
       "8   166481     1.0     NaN\n",
       "9   166482    48.0     NaN"
      ]
     },
     "execution_count": 14,
     "metadata": {},
     "output_type": "execute_result"
    }
   ],
   "source": [
    "#сгруппируем данные по коллцентрам и посчитаем количество входящих и исходящих вызовов\n",
    "data_type=data.pivot_table(index=['user_id'], columns=['direction'], values=['calls_count'], aggfunc ='sum').droplevel(1, axis=1).reset_index()\n",
    "data_type.columns=['user_id', 'in','out']\n",
    "data_type.head(10)\n"
   ]
  },
  {
   "cell_type": "code",
   "execution_count": 15,
   "metadata": {},
   "outputs": [],
   "source": [
    "#функция присваивает категорию кц, в зависимости от соотношения входящих/исходящих вызовов\n",
    "def user_type(data):\n",
    "    if data['out']>data['in']:\n",
    "        return 'out'\n",
    "    else:\n",
    "        return 'in' #можем так сделать, т.к. для каждого кц есть входящие вызовы, но не исходящие\n",
    "    "
   ]
  },
  {
   "cell_type": "code",
   "execution_count": 16,
   "metadata": {},
   "outputs": [
    {
     "data": {
      "text/html": [
       "<div>\n",
       "<style scoped>\n",
       "    .dataframe tbody tr th:only-of-type {\n",
       "        vertical-align: middle;\n",
       "    }\n",
       "\n",
       "    .dataframe tbody tr th {\n",
       "        vertical-align: top;\n",
       "    }\n",
       "\n",
       "    .dataframe thead th {\n",
       "        text-align: right;\n",
       "    }\n",
       "</style>\n",
       "<table border=\"1\" class=\"dataframe\">\n",
       "  <thead>\n",
       "    <tr style=\"text-align: right;\">\n",
       "      <th></th>\n",
       "      <th>user_id</th>\n",
       "      <th>date</th>\n",
       "      <th>direction</th>\n",
       "      <th>internal</th>\n",
       "      <th>operator_id</th>\n",
       "      <th>is_missed_call</th>\n",
       "      <th>calls_count</th>\n",
       "      <th>call_duration</th>\n",
       "      <th>total_call_duration</th>\n",
       "      <th>wait_duration</th>\n",
       "      <th>user_type</th>\n",
       "    </tr>\n",
       "  </thead>\n",
       "  <tbody>\n",
       "    <tr>\n",
       "      <th>0</th>\n",
       "      <td>166377</td>\n",
       "      <td>2019-08-05</td>\n",
       "      <td>out</td>\n",
       "      <td>True</td>\n",
       "      <td>880022</td>\n",
       "      <td>True</td>\n",
       "      <td>3</td>\n",
       "      <td>0</td>\n",
       "      <td>5</td>\n",
       "      <td>5</td>\n",
       "      <td>out</td>\n",
       "    </tr>\n",
       "    <tr>\n",
       "      <th>1</th>\n",
       "      <td>166377</td>\n",
       "      <td>2019-08-05</td>\n",
       "      <td>out</td>\n",
       "      <td>True</td>\n",
       "      <td>880020</td>\n",
       "      <td>True</td>\n",
       "      <td>1</td>\n",
       "      <td>0</td>\n",
       "      <td>1</td>\n",
       "      <td>1</td>\n",
       "      <td>out</td>\n",
       "    </tr>\n",
       "    <tr>\n",
       "      <th>2</th>\n",
       "      <td>166377</td>\n",
       "      <td>2019-08-05</td>\n",
       "      <td>out</td>\n",
       "      <td>True</td>\n",
       "      <td>880020</td>\n",
       "      <td>False</td>\n",
       "      <td>1</td>\n",
       "      <td>10</td>\n",
       "      <td>18</td>\n",
       "      <td>8</td>\n",
       "      <td>out</td>\n",
       "    </tr>\n",
       "    <tr>\n",
       "      <th>3</th>\n",
       "      <td>166377</td>\n",
       "      <td>2019-08-05</td>\n",
       "      <td>out</td>\n",
       "      <td>False</td>\n",
       "      <td>880022</td>\n",
       "      <td>True</td>\n",
       "      <td>3</td>\n",
       "      <td>0</td>\n",
       "      <td>25</td>\n",
       "      <td>25</td>\n",
       "      <td>out</td>\n",
       "    </tr>\n",
       "    <tr>\n",
       "      <th>4</th>\n",
       "      <td>166377</td>\n",
       "      <td>2019-08-05</td>\n",
       "      <td>out</td>\n",
       "      <td>False</td>\n",
       "      <td>880020</td>\n",
       "      <td>False</td>\n",
       "      <td>2</td>\n",
       "      <td>3</td>\n",
       "      <td>29</td>\n",
       "      <td>26</td>\n",
       "      <td>out</td>\n",
       "    </tr>\n",
       "  </tbody>\n",
       "</table>\n",
       "</div>"
      ],
      "text/plain": [
       "   user_id        date direction internal  operator_id  is_missed_call  \\\n",
       "0   166377  2019-08-05       out     True       880022            True   \n",
       "1   166377  2019-08-05       out     True       880020            True   \n",
       "2   166377  2019-08-05       out     True       880020           False   \n",
       "3   166377  2019-08-05       out    False       880022            True   \n",
       "4   166377  2019-08-05       out    False       880020           False   \n",
       "\n",
       "   calls_count  call_duration  total_call_duration  wait_duration user_type  \n",
       "0            3              0                    5              5       out  \n",
       "1            1              0                    1              1       out  \n",
       "2            1             10                   18              8       out  \n",
       "3            3              0                   25             25       out  \n",
       "4            2              3                   29             26       out  "
      ]
     },
     "execution_count": 16,
     "metadata": {},
     "output_type": "execute_result"
    }
   ],
   "source": [
    "#добавляем столбец с типом кц\n",
    "data_type['user_type']=data_type.apply(user_type, axis=1)\n",
    "#обьединяем с исходной таблицей по 'user_id'\n",
    "data = pd.merge(data, data_type[['user_id','user_type']],\n",
    "                       how='left', on='user_id')\n",
    "data.head()"
   ]
  },
  {
   "cell_type": "markdown",
   "metadata": {},
   "source": [
    "### Вывод"
   ]
  },
  {
   "cell_type": "markdown",
   "metadata": {},
   "source": [
    "\n",
    "В ходе предобработки:\n",
    "\n",
    "- данные очищенны от пропусков в `internal` и `operator_id`;\n",
    "- заменены типы данных столбцов, содержащих дату, на корректный;\n",
    "- данные очищенны от дубликатов;\n",
    "- добавлены столбцы с длительностью ожидания ответа на звонок и типов колл-центра в зависимости от преобладания входящих/исходящих вызовов."
   ]
  },
  {
   "cell_type": "markdown",
   "metadata": {},
   "source": [
    "## Исследовательский анализ данных"
   ]
  },
  {
   "cell_type": "markdown",
   "metadata": {},
   "source": [
    "Посмотрим описательные статистики data:"
   ]
  },
  {
   "cell_type": "code",
   "execution_count": 17,
   "metadata": {},
   "outputs": [
    {
     "data": {
      "text/html": [
       "<div>\n",
       "<style scoped>\n",
       "    .dataframe tbody tr th:only-of-type {\n",
       "        vertical-align: middle;\n",
       "    }\n",
       "\n",
       "    .dataframe tbody tr th {\n",
       "        vertical-align: top;\n",
       "    }\n",
       "\n",
       "    .dataframe thead th {\n",
       "        text-align: right;\n",
       "    }\n",
       "</style>\n",
       "<table border=\"1\" class=\"dataframe\">\n",
       "  <thead>\n",
       "    <tr style=\"text-align: right;\">\n",
       "      <th></th>\n",
       "      <th>user_id</th>\n",
       "      <th>operator_id</th>\n",
       "      <th>calls_count</th>\n",
       "      <th>call_duration</th>\n",
       "      <th>total_call_duration</th>\n",
       "      <th>wait_duration</th>\n",
       "    </tr>\n",
       "  </thead>\n",
       "  <tbody>\n",
       "    <tr>\n",
       "      <th>count</th>\n",
       "      <td>41491.000000</td>\n",
       "      <td>41491.000000</td>\n",
       "      <td>41491.000000</td>\n",
       "      <td>41491.000000</td>\n",
       "      <td>41491.000000</td>\n",
       "      <td>41491.000000</td>\n",
       "    </tr>\n",
       "    <tr>\n",
       "      <th>mean</th>\n",
       "      <td>167301.113543</td>\n",
       "      <td>916516.771155</td>\n",
       "      <td>16.921381</td>\n",
       "      <td>1010.940011</td>\n",
       "      <td>1323.153238</td>\n",
       "      <td>312.213227</td>\n",
       "    </tr>\n",
       "    <tr>\n",
       "      <th>std</th>\n",
       "      <td>600.513986</td>\n",
       "      <td>21234.081589</td>\n",
       "      <td>59.786187</td>\n",
       "      <td>4066.666485</td>\n",
       "      <td>4788.953155</td>\n",
       "      <td>1176.102940</td>\n",
       "    </tr>\n",
       "    <tr>\n",
       "      <th>min</th>\n",
       "      <td>166377.000000</td>\n",
       "      <td>879896.000000</td>\n",
       "      <td>1.000000</td>\n",
       "      <td>0.000000</td>\n",
       "      <td>0.000000</td>\n",
       "      <td>0.000000</td>\n",
       "    </tr>\n",
       "    <tr>\n",
       "      <th>25%</th>\n",
       "      <td>166782.000000</td>\n",
       "      <td>900790.000000</td>\n",
       "      <td>1.000000</td>\n",
       "      <td>0.000000</td>\n",
       "      <td>67.000000</td>\n",
       "      <td>19.000000</td>\n",
       "    </tr>\n",
       "    <tr>\n",
       "      <th>50%</th>\n",
       "      <td>167175.000000</td>\n",
       "      <td>913938.000000</td>\n",
       "      <td>4.000000</td>\n",
       "      <td>106.000000</td>\n",
       "      <td>289.000000</td>\n",
       "      <td>60.000000</td>\n",
       "    </tr>\n",
       "    <tr>\n",
       "      <th>75%</th>\n",
       "      <td>167827.000000</td>\n",
       "      <td>937708.000000</td>\n",
       "      <td>14.000000</td>\n",
       "      <td>772.000000</td>\n",
       "      <td>1107.000000</td>\n",
       "      <td>219.000000</td>\n",
       "    </tr>\n",
       "    <tr>\n",
       "      <th>max</th>\n",
       "      <td>168606.000000</td>\n",
       "      <td>973286.000000</td>\n",
       "      <td>4817.000000</td>\n",
       "      <td>144395.000000</td>\n",
       "      <td>166155.000000</td>\n",
       "      <td>46474.000000</td>\n",
       "    </tr>\n",
       "  </tbody>\n",
       "</table>\n",
       "</div>"
      ],
      "text/plain": [
       "             user_id    operator_id   calls_count  call_duration  \\\n",
       "count   41491.000000   41491.000000  41491.000000   41491.000000   \n",
       "mean   167301.113543  916516.771155     16.921381    1010.940011   \n",
       "std       600.513986   21234.081589     59.786187    4066.666485   \n",
       "min    166377.000000  879896.000000      1.000000       0.000000   \n",
       "25%    166782.000000  900790.000000      1.000000       0.000000   \n",
       "50%    167175.000000  913938.000000      4.000000     106.000000   \n",
       "75%    167827.000000  937708.000000     14.000000     772.000000   \n",
       "max    168606.000000  973286.000000   4817.000000  144395.000000   \n",
       "\n",
       "       total_call_duration  wait_duration  \n",
       "count         41491.000000   41491.000000  \n",
       "mean           1323.153238     312.213227  \n",
       "std            4788.953155    1176.102940  \n",
       "min               0.000000       0.000000  \n",
       "25%              67.000000      19.000000  \n",
       "50%             289.000000      60.000000  \n",
       "75%            1107.000000     219.000000  \n",
       "max          166155.000000   46474.000000  "
      ]
     },
     "execution_count": 17,
     "metadata": {},
     "output_type": "execute_result"
    }
   ],
   "source": [
    "data.describe()"
   ]
  },
  {
   "cell_type": "markdown",
   "metadata": {},
   "source": [
    "Заметно, что в данных есть аномалии, избавимся от них."
   ]
  },
  {
   "cell_type": "markdown",
   "metadata": {},
   "source": [
    "### Количество звонков"
   ]
  },
  {
   "cell_type": "code",
   "execution_count": 18,
   "metadata": {},
   "outputs": [
    {
     "data": {
      "text/plain": [
       "count    41491.000000\n",
       "mean        16.921381\n",
       "std         59.786187\n",
       "min          1.000000\n",
       "25%          1.000000\n",
       "50%          4.000000\n",
       "75%         14.000000\n",
       "max       4817.000000\n",
       "Name: calls_count, dtype: float64"
      ]
     },
     "execution_count": 18,
     "metadata": {},
     "output_type": "execute_result"
    }
   ],
   "source": [
    "data['calls_count'].describe()"
   ]
  },
  {
   "cell_type": "markdown",
   "metadata": {},
   "source": [
    "Определим функцию для построения столбчатой диаграммы, для дальнейшего упрощения визуализации:"
   ]
  },
  {
   "cell_type": "code",
   "execution_count": 19,
   "metadata": {},
   "outputs": [],
   "source": [
    "# функция получает на вход данные из таблицы и строит столбчатую диаграмму\n",
    "def plot_bar(data,bins,xlim, title, x_title, y_title):\n",
    "    plt.style.use('seaborn-pastel')\n",
    "    plt.figure(figsize=(16,6))\n",
    "    sns.histplot(data, bins=bins, kde=False)\n",
    "    plt.xlim(0,xlim)\n",
    "    plt.title(title)\n",
    "    plt.xlabel(x_title)\n",
    "    plt.ylabel(y_title)\n",
    "    plt.show()"
   ]
  },
  {
   "cell_type": "code",
   "execution_count": 20,
   "metadata": {},
   "outputs": [
    {
     "data": {
      "image/png": "[encoded data removed]",
      "text/plain": [
       "<Figure size 1152x432 with 1 Axes>"
      ]
     },
     "metadata": {
      "needs_background": "light"
     },
     "output_type": "display_data"
    }
   ],
   "source": [
    "plot_bar(data['calls_count'], 1000, 100, 'Распределение количества звонков','Количество звонков', 'Частота')"
   ]
  },
  {
   "cell_type": "markdown",
   "metadata": {},
   "source": [
    "По описательным статистикам видно, что в 75% строк количество звонков не превышает 14 вызовов. Также видно аномальный максимум - 4817 вызовов."
   ]
  },
  {
   "cell_type": "code",
   "execution_count": 21,
   "metadata": {},
   "outputs": [],
   "source": [
    "# функция получает на вход данные из таблицы и строит диаграмму размаха\n",
    "def plot_box(data,y,ylim, title, y_title):\n",
    "    plt.figure(figsize=(8, 8))\n",
    "    ax = sns.boxplot(data=data, y=y)\n",
    "    ax.set_ylim(0,ylim)\n",
    "    plt.title(title, fontsize=12)\n",
    "    plt.ylabel(y_title, fontsize=12)\n",
    "    plt.show()"
   ]
  },
  {
   "cell_type": "code",
   "execution_count": 22,
   "metadata": {},
   "outputs": [
    {
     "data": {
      "image/png": "[encoded data removed]",
      "text/plain": [
       "<Figure size 576x576 with 1 Axes>"
      ]
     },
     "metadata": {
      "needs_background": "light"
     },
     "output_type": "display_data"
    }
   ],
   "source": [
    "plot_box(data,'calls_count',40, 'Ящик с усами распределения количества звонков', 'Количество звонков')"
   ]
  },
  {
   "cell_type": "markdown",
   "metadata": {},
   "source": [
    "Граница уса в 33 вызова отсекает много данных, что может быть связанно с низкой эффективностью работы операторов, поэтому некорректно брать ее за границу аномальности."
   ]
  },
  {
   "cell_type": "markdown",
   "metadata": {},
   "source": [
    "Установим верхнюю границу аномальности исходя из предположения, что максимальное эффективное время работы оператора 10 часов, в каждый из которых он может совершить до 30 вызовов.Тогда все значения столбца `calls_count` , которые превышают 300 вызовов будем считать аномальными."
   ]
  },
  {
   "cell_type": "markdown",
   "metadata": {},
   "source": [
    "При такой границе мы отсечем:"
   ]
  },
  {
   "cell_type": "code",
   "execution_count": 23,
   "metadata": {},
   "outputs": [
    {
     "name": "stdout",
     "output_type": "stream",
     "text": [
      "Количество аномальных значений 0.60%\n"
     ]
    }
   ],
   "source": [
    "print('Количество аномальных значений {:.2%}'.\n",
    "         format((data.shape[0] - data[data['calls_count'] <= 300].shape[0])/data.shape[0]))"
   ]
  },
  {
   "cell_type": "code",
   "execution_count": 24,
   "metadata": {},
   "outputs": [],
   "source": [
    "data = data.query('calls_count < 300')"
   ]
  },
  {
   "cell_type": "code",
   "execution_count": 25,
   "metadata": {},
   "outputs": [
    {
     "data": {
      "text/plain": [
       "count    41241.000000\n",
       "mean        13.404015\n",
       "std         24.933443\n",
       "min          1.000000\n",
       "25%          1.000000\n",
       "50%          4.000000\n",
       "75%         13.000000\n",
       "max        299.000000\n",
       "Name: calls_count, dtype: float64"
      ]
     },
     "execution_count": 25,
     "metadata": {},
     "output_type": "execute_result"
    }
   ],
   "source": [
    "data['calls_count'].describe()"
   ]
  },
  {
   "cell_type": "markdown",
   "metadata": {},
   "source": [
    "### Пропущенные вызовы"
   ]
  },
  {
   "cell_type": "markdown",
   "metadata": {},
   "source": [
    "Посмотрим на значения столбца `is_missed_call` для вызовов с ненулевой продолжительностью:"
   ]
  },
  {
   "cell_type": "code",
   "execution_count": 26,
   "metadata": {},
   "outputs": [
    {
     "data": {
      "text/plain": [
       "False    27235\n",
       "True       295\n",
       "Name: is_missed_call, dtype: int64"
      ]
     },
     "execution_count": 26,
     "metadata": {},
     "output_type": "execute_result"
    }
   ],
   "source": [
    "data.query('call_duration != 0')['is_missed_call'].value_counts()"
   ]
  },
  {
   "cell_type": "markdown",
   "metadata": {},
   "source": [
    "И для вызовов с нулевой продолжительностью:"
   ]
  },
  {
   "cell_type": "code",
   "execution_count": 27,
   "metadata": {},
   "outputs": [
    {
     "data": {
      "text/plain": [
       "True     13694\n",
       "False       17\n",
       "Name: is_missed_call, dtype: int64"
      ]
     },
     "execution_count": 27,
     "metadata": {},
     "output_type": "execute_result"
    }
   ],
   "source": [
    "data.query('call_duration == 0')['is_missed_call'].value_counts()"
   ]
  },
  {
   "cell_type": "markdown",
   "metadata": {},
   "source": [
    "В таблице содержится 295 записей, в которых ненулевая длительность звонков, но запись обозначена как пропущенная, а также 17 строк, в которых длительность звонков нулевая, но отмечено, что звонок не пропущен. Не будем учитывать эти строки в дальнейшем анализе:"
   ]
  },
  {
   "cell_type": "code",
   "execution_count": 28,
   "metadata": {},
   "outputs": [],
   "source": [
    "data = (data[~((data['call_duration'] == 0) & (data['is_missed_call'] == False)) |\n",
    "                  ((data['call_duration'] == 0) & (data['is_missed_call'] == True))])"
   ]
  },
  {
   "cell_type": "markdown",
   "metadata": {},
   "source": [
    "### Длительность звонков"
   ]
  },
  {
   "cell_type": "markdown",
   "metadata": {},
   "source": [
    "Посмотрим на длительность непропущенных вызовов:"
   ]
  },
  {
   "cell_type": "code",
   "execution_count": 29,
   "metadata": {},
   "outputs": [],
   "source": [
    "data_not_missed = data.query('is_missed_call == False')"
   ]
  },
  {
   "cell_type": "code",
   "execution_count": 30,
   "metadata": {},
   "outputs": [
    {
     "data": {
      "text/plain": [
       "count    27235.000000\n",
       "mean        21.178755\n",
       "std         41.267971\n",
       "min          0.016667\n",
       "25%          1.816667\n",
       "50%          7.350000\n",
       "75%         23.250000\n",
       "max       1392.666667\n",
       "Name: call_duration, dtype: float64"
      ]
     },
     "execution_count": 30,
     "metadata": {},
     "output_type": "execute_result"
    }
   ],
   "source": [
    "#значения в секундах приведем к минутам\n",
    "(data_not_missed['call_duration']/60).describe()"
   ]
  },
  {
   "cell_type": "code",
   "execution_count": 31,
   "metadata": {},
   "outputs": [
    {
     "data": {
      "image/png": "[encoded data removed]",
      "text/plain": [
       "<Figure size 1152x432 with 1 Axes>"
      ]
     },
     "metadata": {
      "needs_background": "light"
     },
     "output_type": "display_data"
    }
   ],
   "source": [
    "plot_bar(data_not_missed['call_duration']/60,500,100, 'Распределение длительности звонков', 'Длительность, мин', 'Количество звонков')\n"
   ]
  },
  {
   "cell_type": "markdown",
   "metadata": {},
   "source": [
    "По описательным статистикам видно, что 75% звонков имеют продолжительность до 23 минут. Также видно аномальный максимум - 1393 минут (около 23 часов)."
   ]
  },
  {
   "cell_type": "code",
   "execution_count": 32,
   "metadata": {},
   "outputs": [
    {
     "data": {
      "image/png": "[encoded data removed]",
      "text/plain": [
       "<Figure size 576x576 with 1 Axes>"
      ]
     },
     "metadata": {
      "needs_background": "light"
     },
     "output_type": "display_data"
    }
   ],
   "source": [
    "data_not_missed['call_duration']=data_not_missed['call_duration']/60\n",
    "plot_box(data_not_missed,'call_duration',60, 'Ящик с усами распределения количества звонков', 'Количество звонков')"
   ]
  },
  {
   "cell_type": "markdown",
   "metadata": {},
   "source": [
    "Граница уса в 55 минут отсекает много данных, что может быть связанно с низкой эффективностью работы операторов, поэтому некорректно брать ее за границу аномальности. "
   ]
  },
  {
   "cell_type": "markdown",
   "metadata": {},
   "source": [
    "Установим верхнюю границу аномальности исходя из предположения, что максимальное эффективное время работы оператора 10 часов.Тогда все значения столбца `call_duration` , которые превышают 36 000 секунд будем считать аномальными."
   ]
  },
  {
   "cell_type": "markdown",
   "metadata": {},
   "source": [
    "При такой границе мы отсечем:"
   ]
  },
  {
   "cell_type": "code",
   "execution_count": 33,
   "metadata": {},
   "outputs": [
    {
     "name": "stdout",
     "output_type": "stream",
     "text": [
      "Количество аномальных значений 0.02%\n"
     ]
    }
   ],
   "source": [
    "print('Количество аномальных значений {:.2%}'.format((data.shape[0] - data[data['call_duration'] <= 36000].shape[0])/data.shape[0]))"
   ]
  },
  {
   "cell_type": "markdown",
   "metadata": {},
   "source": [
    "На графике также видно много звонков с длительностью в районе 0 секунд, исключим из дальнейшего анализа непропущенные звонки, короче 5 секунд:"
   ]
  },
  {
   "cell_type": "code",
   "execution_count": 34,
   "metadata": {},
   "outputs": [],
   "source": [
    "data = data.query('call_duration <= 36000')\n",
    "data = data[~((data['is_missed_call'] == False) & (data['call_duration'] < 5))]"
   ]
  },
  {
   "cell_type": "code",
   "execution_count": 35,
   "metadata": {
    "scrolled": true
   },
   "outputs": [
    {
     "data": {
      "text/plain": [
       "count    26926.000000\n",
       "mean      1268.953576\n",
       "std       2269.240579\n",
       "min          5.000000\n",
       "25%        115.000000\n",
       "50%        451.000000\n",
       "75%       1411.750000\n",
       "max      34934.000000\n",
       "Name: call_duration, dtype: float64"
      ]
     },
     "execution_count": 35,
     "metadata": {},
     "output_type": "execute_result"
    }
   ],
   "source": [
    "data.query('is_missed_call == False')['call_duration'].describe()"
   ]
  },
  {
   "cell_type": "markdown",
   "metadata": {},
   "source": [
    "### Вывод"
   ]
  },
  {
   "cell_type": "markdown",
   "metadata": {},
   "source": [
    "На данном этапе данные избавленны от аномальных значений количества звонков, пропущенных вызовов и длительности звонков."
   ]
  },
  {
   "cell_type": "code",
   "execution_count": 36,
   "metadata": {},
   "outputs": [],
   "source": [
    "#выгрузим данные для дашборда\n",
    "data.to_csv('telecom_data_dash.csv', sep=',')"
   ]
  },
  {
   "cell_type": "markdown",
   "metadata": {},
   "source": [
    "## Определение неэффективных операторов"
   ]
  },
  {
   "cell_type": "markdown",
   "metadata": {},
   "source": [
    "Определим два набора данных:\n",
    "\n",
    "- **data_in** содержит колл-центры, которые распределяют входящие вызовы на операторов,\n",
    "- **data_out** содержит колл-центры, которые совершают исходящие вызовы силами операторов."
   ]
  },
  {
   "cell_type": "code",
   "execution_count": 37,
   "metadata": {},
   "outputs": [
    {
     "name": "stdout",
     "output_type": "stream",
     "text": [
      "<class 'pandas.core.frame.DataFrame'>\n",
      "Int64Index: 7544 entries, 482 to 41481\n",
      "Data columns (total 11 columns):\n",
      " #   Column               Non-Null Count  Dtype \n",
      "---  ------               --------------  ----- \n",
      " 0   user_id              7544 non-null   int64 \n",
      " 1   date                 7544 non-null   object\n",
      " 2   direction            7544 non-null   object\n",
      " 3   internal             7544 non-null   object\n",
      " 4   operator_id          7544 non-null   int64 \n",
      " 5   is_missed_call       7544 non-null   bool  \n",
      " 6   calls_count          7544 non-null   int64 \n",
      " 7   call_duration        7544 non-null   int64 \n",
      " 8   total_call_duration  7544 non-null   int64 \n",
      " 9   wait_duration        7544 non-null   int64 \n",
      " 10  user_type            7544 non-null   object\n",
      "dtypes: bool(1), int64(6), object(4)\n",
      "memory usage: 655.7+ KB\n"
     ]
    }
   ],
   "source": [
    "data_in=data.query('user_type == \"in\"')\n",
    "data_in.info()"
   ]
  },
  {
   "cell_type": "code",
   "execution_count": 38,
   "metadata": {},
   "outputs": [
    {
     "name": "stdout",
     "output_type": "stream",
     "text": [
      "<class 'pandas.core.frame.DataFrame'>\n",
      "Int64Index: 33371 entries, 0 to 41490\n",
      "Data columns (total 11 columns):\n",
      " #   Column               Non-Null Count  Dtype \n",
      "---  ------               --------------  ----- \n",
      " 0   user_id              33371 non-null  int64 \n",
      " 1   date                 33371 non-null  object\n",
      " 2   direction            33371 non-null  object\n",
      " 3   internal             33371 non-null  object\n",
      " 4   operator_id          33371 non-null  int64 \n",
      " 5   is_missed_call       33371 non-null  bool  \n",
      " 6   calls_count          33371 non-null  int64 \n",
      " 7   call_duration        33371 non-null  int64 \n",
      " 8   total_call_duration  33371 non-null  int64 \n",
      " 9   wait_duration        33371 non-null  int64 \n",
      " 10  user_type            33371 non-null  object\n",
      "dtypes: bool(1), int64(6), object(4)\n",
      "memory usage: 2.8+ MB\n"
     ]
    }
   ],
   "source": [
    "data_out=data.query('user_type == \"out\"')\n",
    "data_out.info()"
   ]
  },
  {
   "cell_type": "markdown",
   "metadata": {},
   "source": [
    "### Для колл-цетров специализирующихся на входящих вызовах"
   ]
  },
  {
   "cell_type": "code",
   "execution_count": 39,
   "metadata": {},
   "outputs": [],
   "source": [
    "#для анализа эффективности оставим только входящие вызовы\n",
    "data_in_filtered=data_in.query('direction == \"in\"')"
   ]
  },
  {
   "cell_type": "markdown",
   "metadata": {},
   "source": [
    "- **Определяем границу неэффективных операторов по признаку длительности времени ожидания**"
   ]
  },
  {
   "cell_type": "code",
   "execution_count": 40,
   "metadata": {},
   "outputs": [
    {
     "data": {
      "text/html": [
       "<div>\n",
       "<style scoped>\n",
       "    .dataframe tbody tr th:only-of-type {\n",
       "        vertical-align: middle;\n",
       "    }\n",
       "\n",
       "    .dataframe tbody tr th {\n",
       "        vertical-align: top;\n",
       "    }\n",
       "\n",
       "    .dataframe thead th {\n",
       "        text-align: right;\n",
       "    }\n",
       "</style>\n",
       "<table border=\"1\" class=\"dataframe\">\n",
       "  <thead>\n",
       "    <tr style=\"text-align: right;\">\n",
       "      <th></th>\n",
       "      <th>operator_id</th>\n",
       "      <th>calls_count</th>\n",
       "      <th>wait_duration</th>\n",
       "      <th>avg_wait_duration</th>\n",
       "    </tr>\n",
       "  </thead>\n",
       "  <tbody>\n",
       "    <tr>\n",
       "      <th>194</th>\n",
       "      <td>949420</td>\n",
       "      <td>4</td>\n",
       "      <td>3</td>\n",
       "      <td>0.75</td>\n",
       "    </tr>\n",
       "    <tr>\n",
       "      <th>121</th>\n",
       "      <td>926872</td>\n",
       "      <td>22</td>\n",
       "      <td>17</td>\n",
       "      <td>0.77</td>\n",
       "    </tr>\n",
       "    <tr>\n",
       "      <th>214</th>\n",
       "      <td>952982</td>\n",
       "      <td>8</td>\n",
       "      <td>7</td>\n",
       "      <td>0.88</td>\n",
       "    </tr>\n",
       "    <tr>\n",
       "      <th>236</th>\n",
       "      <td>968520</td>\n",
       "      <td>5</td>\n",
       "      <td>5</td>\n",
       "      <td>1.00</td>\n",
       "    </tr>\n",
       "    <tr>\n",
       "      <th>212</th>\n",
       "      <td>952954</td>\n",
       "      <td>2</td>\n",
       "      <td>2</td>\n",
       "      <td>1.00</td>\n",
       "    </tr>\n",
       "    <tr>\n",
       "      <th>...</th>\n",
       "      <td>...</td>\n",
       "      <td>...</td>\n",
       "      <td>...</td>\n",
       "      <td>...</td>\n",
       "    </tr>\n",
       "    <tr>\n",
       "      <th>177</th>\n",
       "      <td>944228</td>\n",
       "      <td>29</td>\n",
       "      <td>1413</td>\n",
       "      <td>48.72</td>\n",
       "    </tr>\n",
       "    <tr>\n",
       "      <th>65</th>\n",
       "      <td>906076</td>\n",
       "      <td>24</td>\n",
       "      <td>1223</td>\n",
       "      <td>50.96</td>\n",
       "    </tr>\n",
       "    <tr>\n",
       "      <th>82</th>\n",
       "      <td>910958</td>\n",
       "      <td>12</td>\n",
       "      <td>654</td>\n",
       "      <td>54.50</td>\n",
       "    </tr>\n",
       "    <tr>\n",
       "      <th>38</th>\n",
       "      <td>899900</td>\n",
       "      <td>2</td>\n",
       "      <td>116</td>\n",
       "      <td>58.00</td>\n",
       "    </tr>\n",
       "    <tr>\n",
       "      <th>48</th>\n",
       "      <td>901498</td>\n",
       "      <td>4</td>\n",
       "      <td>234</td>\n",
       "      <td>58.50</td>\n",
       "    </tr>\n",
       "  </tbody>\n",
       "</table>\n",
       "<p>243 rows × 4 columns</p>\n",
       "</div>"
      ],
      "text/plain": [
       "     operator_id  calls_count  wait_duration  avg_wait_duration\n",
       "194       949420            4              3               0.75\n",
       "121       926872           22             17               0.77\n",
       "214       952982            8              7               0.88\n",
       "236       968520            5              5               1.00\n",
       "212       952954            2              2               1.00\n",
       "..           ...          ...            ...                ...\n",
       "177       944228           29           1413              48.72\n",
       "65        906076           24           1223              50.96\n",
       "82        910958           12            654              54.50\n",
       "38        899900            2            116              58.00\n",
       "48        901498            4            234              58.50\n",
       "\n",
       "[243 rows x 4 columns]"
      ]
     },
     "execution_count": 40,
     "metadata": {},
     "output_type": "execute_result"
    }
   ],
   "source": [
    "operators_wait = data_in_filtered.pivot_table(index='operator_id', values=['wait_duration','calls_count'], aggfunc='sum').reset_index()\n",
    "operators_wait['avg_wait_duration'] = (operators_wait['wait_duration']/operators_wait['calls_count']).round(2)\n",
    "operators_wait.sort_values(by='avg_wait_duration')"
   ]
  },
  {
   "cell_type": "code",
   "execution_count": 41,
   "metadata": {},
   "outputs": [
    {
     "data": {
      "image/png": "[encoded data removed]",
      "text/plain": [
       "<Figure size 1152x432 with 1 Axes>"
      ]
     },
     "metadata": {
      "needs_background": "light"
     },
     "output_type": "display_data"
    }
   ],
   "source": [
    "plot_bar(operators_wait['avg_wait_duration'], 100,60, 'Распределение длительности ожидания звонков', 'Длительность ожидания, сек', 'Частота')"
   ]
  },
  {
   "cell_type": "code",
   "execution_count": 42,
   "metadata": {},
   "outputs": [
    {
     "data": {
      "image/png": "[encoded data removed]",
      "text/plain": [
       "<Figure size 576x576 with 1 Axes>"
      ]
     },
     "metadata": {
      "needs_background": "light"
     },
     "output_type": "display_data"
    }
   ],
   "source": [
    "plot_box(operators_wait,'avg_wait_duration',60, 'Ящик с усами распределения времени ожидания', 'время ожидани, сек')"
   ]
  },
  {
   "cell_type": "code",
   "execution_count": 43,
   "metadata": {},
   "outputs": [
    {
     "data": {
      "text/plain": [
       "count    243.000000\n",
       "mean      18.549547\n",
       "std       11.263611\n",
       "min        0.750000\n",
       "25%       10.900000\n",
       "50%       15.670000\n",
       "75%       25.000000\n",
       "max       58.500000\n",
       "Name: avg_wait_duration, dtype: float64"
      ]
     },
     "execution_count": 43,
     "metadata": {},
     "output_type": "execute_result"
    }
   ],
   "source": [
    "operators_wait['avg_wait_duration'].describe()"
   ]
  },
  {
   "cell_type": "markdown",
   "metadata": {},
   "source": [
    "Установим нижнюю границу времени ожидания входящего вызова в 25 секунд. Операторов с большим средним временем временем ожидания вызова отнесем к неэффективным:"
   ]
  },
  {
   "cell_type": "code",
   "execution_count": 44,
   "metadata": {},
   "outputs": [
    {
     "data": {
      "text/plain": [
       "59"
      ]
     },
     "execution_count": 44,
     "metadata": {},
     "output_type": "execute_result"
    }
   ],
   "source": [
    "long_wait_operators = operators_wait.query('avg_wait_duration > 25')\n",
    "len(long_wait_operators)"
   ]
  },
  {
   "cell_type": "markdown",
   "metadata": {},
   "source": [
    "Получилось 59 операторов со средним временем ожидания превышающим границу эффективности."
   ]
  },
  {
   "cell_type": "markdown",
   "metadata": {},
   "source": [
    "- **Определяем границу неэффективных операторов по признаку количество пропущенных**"
   ]
  },
  {
   "cell_type": "markdown",
   "metadata": {},
   "source": [
    "Рассчитаем соотношение количества пропущеннных вызовов к рабочим дням для каждого оператора:"
   ]
  },
  {
   "cell_type": "code",
   "execution_count": 45,
   "metadata": {},
   "outputs": [
    {
     "data": {
      "text/html": [
       "<div>\n",
       "<style scoped>\n",
       "    .dataframe tbody tr th:only-of-type {\n",
       "        vertical-align: middle;\n",
       "    }\n",
       "\n",
       "    .dataframe tbody tr th {\n",
       "        vertical-align: top;\n",
       "    }\n",
       "\n",
       "    .dataframe thead th {\n",
       "        text-align: right;\n",
       "    }\n",
       "</style>\n",
       "<table border=\"1\" class=\"dataframe\">\n",
       "  <thead>\n",
       "    <tr style=\"text-align: right;\">\n",
       "      <th></th>\n",
       "      <th>operator_id</th>\n",
       "      <th>is_missed_call</th>\n",
       "      <th>date</th>\n",
       "      <th>missed_calls_per_day</th>\n",
       "    </tr>\n",
       "  </thead>\n",
       "  <tbody>\n",
       "    <tr>\n",
       "      <th>95</th>\n",
       "      <td>913886</td>\n",
       "      <td>1</td>\n",
       "      <td>2</td>\n",
       "      <td>50.00</td>\n",
       "    </tr>\n",
       "    <tr>\n",
       "      <th>152</th>\n",
       "      <td>934098</td>\n",
       "      <td>2</td>\n",
       "      <td>5</td>\n",
       "      <td>40.00</td>\n",
       "    </tr>\n",
       "    <tr>\n",
       "      <th>97</th>\n",
       "      <td>913942</td>\n",
       "      <td>28</td>\n",
       "      <td>85</td>\n",
       "      <td>32.94</td>\n",
       "    </tr>\n",
       "    <tr>\n",
       "      <th>172</th>\n",
       "      <td>944216</td>\n",
       "      <td>16</td>\n",
       "      <td>51</td>\n",
       "      <td>31.37</td>\n",
       "    </tr>\n",
       "    <tr>\n",
       "      <th>176</th>\n",
       "      <td>944226</td>\n",
       "      <td>14</td>\n",
       "      <td>50</td>\n",
       "      <td>28.00</td>\n",
       "    </tr>\n",
       "    <tr>\n",
       "      <th>...</th>\n",
       "      <td>...</td>\n",
       "      <td>...</td>\n",
       "      <td>...</td>\n",
       "      <td>...</td>\n",
       "    </tr>\n",
       "    <tr>\n",
       "      <th>110</th>\n",
       "      <td>920874</td>\n",
       "      <td>0</td>\n",
       "      <td>19</td>\n",
       "      <td>0.00</td>\n",
       "    </tr>\n",
       "    <tr>\n",
       "      <th>111</th>\n",
       "      <td>920982</td>\n",
       "      <td>0</td>\n",
       "      <td>27</td>\n",
       "      <td>0.00</td>\n",
       "    </tr>\n",
       "    <tr>\n",
       "      <th>112</th>\n",
       "      <td>922154</td>\n",
       "      <td>0</td>\n",
       "      <td>2</td>\n",
       "      <td>0.00</td>\n",
       "    </tr>\n",
       "    <tr>\n",
       "      <th>113</th>\n",
       "      <td>922356</td>\n",
       "      <td>0</td>\n",
       "      <td>9</td>\n",
       "      <td>0.00</td>\n",
       "    </tr>\n",
       "    <tr>\n",
       "      <th>242</th>\n",
       "      <td>973286</td>\n",
       "      <td>0</td>\n",
       "      <td>1</td>\n",
       "      <td>0.00</td>\n",
       "    </tr>\n",
       "  </tbody>\n",
       "</table>\n",
       "<p>243 rows × 4 columns</p>\n",
       "</div>"
      ],
      "text/plain": [
       "     operator_id  is_missed_call  date  missed_calls_per_day\n",
       "95        913886               1     2                 50.00\n",
       "152       934098               2     5                 40.00\n",
       "97        913942              28    85                 32.94\n",
       "172       944216              16    51                 31.37\n",
       "176       944226              14    50                 28.00\n",
       "..           ...             ...   ...                   ...\n",
       "110       920874               0    19                  0.00\n",
       "111       920982               0    27                  0.00\n",
       "112       922154               0     2                  0.00\n",
       "113       922356               0     9                  0.00\n",
       "242       973286               0     1                  0.00\n",
       "\n",
       "[243 rows x 4 columns]"
      ]
     },
     "execution_count": 45,
     "metadata": {},
     "output_type": "execute_result"
    }
   ],
   "source": [
    "operators_missed_calls = data_in_filtered.pivot_table(index='operator_id', values=['is_missed_call','date'], aggfunc=['sum', 'count']).droplevel(1, axis=1).reset_index()\n",
    "operators_missed_calls.columns=['operator_id', 'is_missed_call','date', 'count']\n",
    "operators_missed_calls=operators_missed_calls.drop(columns='count')\n",
    "operators_missed_calls['missed_calls_per_day'] = (operators_missed_calls['is_missed_call']*100/operators_missed_calls['date']).round(2)\n",
    "operators_missed_calls.sort_values(by='missed_calls_per_day', ascending = False)"
   ]
  },
  {
   "cell_type": "code",
   "execution_count": 46,
   "metadata": {},
   "outputs": [
    {
     "data": {
      "image/png": "[encoded data removed]",
      "text/plain": [
       "<Figure size 1152x432 with 1 Axes>"
      ]
     },
     "metadata": {
      "needs_background": "light"
     },
     "output_type": "display_data"
    }
   ],
   "source": [
    "non_null_operators_missed_calls=operators_missed_calls[operators_missed_calls['missed_calls_per_day']!=0]\n",
    "plot_bar(non_null_operators_missed_calls['missed_calls_per_day'], 100,40, 'Распределение % пропущенных вызовов в день', 'Пропущенные вызовы в день, %', 'Частота')"
   ]
  },
  {
   "cell_type": "code",
   "execution_count": 47,
   "metadata": {},
   "outputs": [
    {
     "data": {
      "image/png": "[encoded data removed]",
      "text/plain": [
       "<Figure size 576x576 with 1 Axes>"
      ]
     },
     "metadata": {
      "needs_background": "light"
     },
     "output_type": "display_data"
    }
   ],
   "source": [
    "plot_box(non_null_operators_missed_calls,'missed_calls_per_day',40, 'Диаграмма размаха % пропущенных вызовов', 'пропущенные вызовы в день, %')"
   ]
  },
  {
   "cell_type": "markdown",
   "metadata": {},
   "source": [
    "Установим нижнюю границу пропущенных вызовов в день -  15%. Операторов с процентом выше, определим неэффективными:"
   ]
  },
  {
   "cell_type": "code",
   "execution_count": 48,
   "metadata": {},
   "outputs": [
    {
     "data": {
      "text/plain": [
       "16"
      ]
     },
     "execution_count": 48,
     "metadata": {},
     "output_type": "execute_result"
    }
   ],
   "source": [
    "missed_calls_losers_operators = operators_missed_calls.query('missed_calls_per_day > 15')\n",
    "len(missed_calls_losers_operators)"
   ]
  },
  {
   "cell_type": "markdown",
   "metadata": {},
   "source": [
    "Получилось 16 операторов с % пропущенных вызовов в день превыщающим значение 15."
   ]
  },
  {
   "cell_type": "markdown",
   "metadata": {},
   "source": [
    "Обьеденим выявленных неэффективных операторов колл-центров специализирующихся на входящих вызовах в один датасет:"
   ]
  },
  {
   "cell_type": "code",
   "execution_count": 49,
   "metadata": {},
   "outputs": [
    {
     "data": {
      "text/plain": [
       "68"
      ]
     },
     "execution_count": 49,
     "metadata": {},
     "output_type": "execute_result"
    }
   ],
   "source": [
    "innefective_in=long_wait_operators.merge(missed_calls_losers_operators, on='operator_id', how='outer')\n",
    "len(innefective_in['operator_id'])"
   ]
  },
  {
   "cell_type": "code",
   "execution_count": 50,
   "metadata": {},
   "outputs": [
    {
     "data": {
      "text/plain": [
       "0.27983539094650206"
      ]
     },
     "execution_count": 50,
     "metadata": {},
     "output_type": "execute_result"
    }
   ],
   "source": [
    "len(innefective_in['operator_id'])/len(operators_missed_calls['operator_id'])"
   ]
  },
  {
   "cell_type": "markdown",
   "metadata": {},
   "source": [
    "Определили 68 операторов неэффективных по двум критериям: длительность ожидания и количество пропущенных вызовов. Что составляет 28% от всех операторов таких колл-центров."
   ]
  },
  {
   "cell_type": "markdown",
   "metadata": {},
   "source": [
    "### Для колл-цетров специализирующихся на исходящих вызовах"
   ]
  },
  {
   "cell_type": "markdown",
   "metadata": {},
   "source": [
    "- **Определяем границу неэффективных операторов по признаку количество исходящих вызовов в день**"
   ]
  },
  {
   "cell_type": "code",
   "execution_count": 51,
   "metadata": {},
   "outputs": [],
   "source": [
    "#для анализа эффективности оставим только исходящие вызовы\n",
    "data_out_filtered=data_out.query('direction == \"out\"')"
   ]
  },
  {
   "cell_type": "code",
   "execution_count": 52,
   "metadata": {},
   "outputs": [
    {
     "data": {
      "text/html": [
       "<div>\n",
       "<style scoped>\n",
       "    .dataframe tbody tr th:only-of-type {\n",
       "        vertical-align: middle;\n",
       "    }\n",
       "\n",
       "    .dataframe tbody tr th {\n",
       "        vertical-align: top;\n",
       "    }\n",
       "\n",
       "    .dataframe thead th {\n",
       "        text-align: right;\n",
       "    }\n",
       "</style>\n",
       "<table border=\"1\" class=\"dataframe\">\n",
       "  <thead>\n",
       "    <tr style=\"text-align: right;\">\n",
       "      <th></th>\n",
       "      <th>operator_id</th>\n",
       "      <th>days</th>\n",
       "      <th>calls</th>\n",
       "      <th>calls_per_day</th>\n",
       "    </tr>\n",
       "  </thead>\n",
       "  <tbody>\n",
       "    <tr>\n",
       "      <th>22</th>\n",
       "      <td>885890</td>\n",
       "      <td>37</td>\n",
       "      <td>10475</td>\n",
       "      <td>283.0</td>\n",
       "    </tr>\n",
       "    <tr>\n",
       "      <th>298</th>\n",
       "      <td>919364</td>\n",
       "      <td>21</td>\n",
       "      <td>4820</td>\n",
       "      <td>230.0</td>\n",
       "    </tr>\n",
       "    <tr>\n",
       "      <th>392</th>\n",
       "      <td>929428</td>\n",
       "      <td>33</td>\n",
       "      <td>7042</td>\n",
       "      <td>213.0</td>\n",
       "    </tr>\n",
       "    <tr>\n",
       "      <th>376</th>\n",
       "      <td>925922</td>\n",
       "      <td>10</td>\n",
       "      <td>2059</td>\n",
       "      <td>206.0</td>\n",
       "    </tr>\n",
       "    <tr>\n",
       "      <th>391</th>\n",
       "      <td>929426</td>\n",
       "      <td>26</td>\n",
       "      <td>4760</td>\n",
       "      <td>183.0</td>\n",
       "    </tr>\n",
       "    <tr>\n",
       "      <th>...</th>\n",
       "      <td>...</td>\n",
       "      <td>...</td>\n",
       "      <td>...</td>\n",
       "      <td>...</td>\n",
       "    </tr>\n",
       "    <tr>\n",
       "      <th>433</th>\n",
       "      <td>935956</td>\n",
       "      <td>1</td>\n",
       "      <td>1</td>\n",
       "      <td>1.0</td>\n",
       "    </tr>\n",
       "    <tr>\n",
       "      <th>440</th>\n",
       "      <td>937366</td>\n",
       "      <td>2</td>\n",
       "      <td>2</td>\n",
       "      <td>1.0</td>\n",
       "    </tr>\n",
       "    <tr>\n",
       "      <th>451</th>\n",
       "      <td>937710</td>\n",
       "      <td>1</td>\n",
       "      <td>1</td>\n",
       "      <td>1.0</td>\n",
       "    </tr>\n",
       "    <tr>\n",
       "      <th>452</th>\n",
       "      <td>937716</td>\n",
       "      <td>1</td>\n",
       "      <td>1</td>\n",
       "      <td>1.0</td>\n",
       "    </tr>\n",
       "    <tr>\n",
       "      <th>72</th>\n",
       "      <td>892530</td>\n",
       "      <td>7</td>\n",
       "      <td>9</td>\n",
       "      <td>1.0</td>\n",
       "    </tr>\n",
       "  </tbody>\n",
       "</table>\n",
       "<p>712 rows × 4 columns</p>\n",
       "</div>"
      ],
      "text/plain": [
       "     operator_id  days  calls  calls_per_day\n",
       "22        885890    37  10475          283.0\n",
       "298       919364    21   4820          230.0\n",
       "392       929428    33   7042          213.0\n",
       "376       925922    10   2059          206.0\n",
       "391       929426    26   4760          183.0\n",
       "..           ...   ...    ...            ...\n",
       "433       935956     1      1            1.0\n",
       "440       937366     2      2            1.0\n",
       "451       937710     1      1            1.0\n",
       "452       937716     1      1            1.0\n",
       "72        892530     7      9            1.0\n",
       "\n",
       "[712 rows x 4 columns]"
      ]
     },
     "execution_count": 52,
     "metadata": {},
     "output_type": "execute_result"
    }
   ],
   "source": [
    "operators_calls = data_out_filtered.pivot_table(index=['date','operator_id'], values='calls_count', aggfunc='sum').reset_index()\n",
    "operators_calls_pivot = operators_calls.pivot_table(index=['operator_id'], values=['date', 'calls_count'], aggfunc =['count', 'sum']).droplevel(1, axis=1).reset_index()\n",
    "operators_calls_pivot.columns=['operator_id','days','count','calls']\n",
    "operators_calls_pivot=operators_calls_pivot.drop(columns='count')\n",
    "operators_calls_pivot['calls_per_day']=(operators_calls_pivot['calls']/operators_calls_pivot['days']).round(0)\n",
    "operators_calls_pivot.sort_values('calls_per_day', ascending=False)"
   ]
  },
  {
   "cell_type": "code",
   "execution_count": 53,
   "metadata": {
    "scrolled": true
   },
   "outputs": [
    {
     "data": {
      "text/plain": [
       "count    712.000000\n",
       "mean      25.088483\n",
       "std       39.445300\n",
       "min        1.000000\n",
       "25%        3.000000\n",
       "50%        8.000000\n",
       "75%       29.000000\n",
       "max      283.000000\n",
       "Name: calls_per_day, dtype: float64"
      ]
     },
     "execution_count": 53,
     "metadata": {},
     "output_type": "execute_result"
    }
   ],
   "source": [
    "operators_calls_pivot['calls_per_day'].describe()"
   ]
  },
  {
   "cell_type": "code",
   "execution_count": 54,
   "metadata": {},
   "outputs": [
    {
     "data": {
      "image/png": "[encoded data removed]",
      "text/plain": [
       "<Figure size 576x576 with 1 Axes>"
      ]
     },
     "metadata": {
      "needs_background": "light"
     },
     "output_type": "display_data"
    }
   ],
   "source": [
    "plot_box(operators_calls_pivot,'calls_per_day',70, 'Диаграмма размаха исходящих вызовов в день', 'исходящие вызовы в день')"
   ]
  },
  {
   "cell_type": "markdown",
   "metadata": {},
   "source": [
    "Посмотрим распределение исключив операторов с количеством исходящих вызовов менее 10 в день:"
   ]
  },
  {
   "cell_type": "code",
   "execution_count": 55,
   "metadata": {},
   "outputs": [
    {
     "data": {
      "image/png": "[encoded data removed]",
      "text/plain": [
       "<Figure size 576x576 with 1 Axes>"
      ]
     },
     "metadata": {
      "needs_background": "light"
     },
     "output_type": "display_data"
    }
   ],
   "source": [
    "filtered_operators_calls_pivot=operators_calls_pivot.query('calls_per_day >10')\n",
    "plot_box(filtered_operators_calls_pivot,'calls_per_day',200, 'Диаграмма размаха исходящих вызовов в день', 'исходящие вызовы в день')"
   ]
  },
  {
   "cell_type": "code",
   "execution_count": 56,
   "metadata": {},
   "outputs": [
    {
     "data": {
      "text/plain": [
       "count    307.000000\n",
       "mean      52.840391\n",
       "std       47.416014\n",
       "min       11.000000\n",
       "25%       18.000000\n",
       "50%       35.000000\n",
       "75%       72.000000\n",
       "max      283.000000\n",
       "Name: calls_per_day, dtype: float64"
      ]
     },
     "execution_count": 56,
     "metadata": {},
     "output_type": "execute_result"
    }
   ],
   "source": [
    "filtered_operators_calls_pivot['calls_per_day'].describe()"
   ]
  },
  {
   "cell_type": "markdown",
   "metadata": {},
   "source": [
    "Установим нижнюю границу количества исходящих вызовов в 72 вызовов. Операторов с меньшим количеством вызовов в день определим неэффективными:"
   ]
  },
  {
   "cell_type": "code",
   "execution_count": 57,
   "metadata": {},
   "outputs": [
    {
     "data": {
      "text/plain": [
       "633"
      ]
     },
     "execution_count": 57,
     "metadata": {},
     "output_type": "execute_result"
    }
   ],
   "source": [
    "innefective_out = operators_calls_pivot.query('calls_per_day < 72')\n",
    "len(innefective_out['operator_id'])"
   ]
  },
  {
   "cell_type": "code",
   "execution_count": 58,
   "metadata": {},
   "outputs": [
    {
     "data": {
      "text/plain": [
       "0.8890449438202247"
      ]
     },
     "execution_count": 58,
     "metadata": {},
     "output_type": "execute_result"
    }
   ],
   "source": [
    "len(innefective_out['operator_id'])/len(operators_calls_pivot['operator_id'])"
   ]
  },
  {
   "cell_type": "markdown",
   "metadata": {},
   "source": [
    "Для колл-центров специализирующихся на исходящих вызовах неэффективными оказались 633 оператора (89%)."
   ]
  },
  {
   "cell_type": "markdown",
   "metadata": {},
   "source": [
    "### Вывод"
   ]
  },
  {
   "cell_type": "markdown",
   "metadata": {},
   "source": [
    "На данном этапе были установлены критерии эффективной работы для операторов и определены неэффективные операторы для колл-центров различной специализации."
   ]
  },
  {
   "cell_type": "markdown",
   "metadata": {},
   "source": [
    "## Проверка гипотез"
   ]
  },
  {
   "cell_type": "markdown",
   "metadata": {},
   "source": [
    "Зададим уровень значимости и проверить следующие гипотезы\n",
    "(Проверка гипотезы о равенстве среднего двух генеральных совокупностей по взятым из них выборкам для независимых выборок):\n",
    "\n",
    "- Среднее время ожидания у эффективных операторов при входящих вызовах отличается от среднего времени ожидания у неэффективных\n",
    "- Среднее количество пропущенных входящих вызовов у эффективных операторов отличается от среднего количества пропущенных у неэффективных \n",
    "- Среднее количество исходящих вызовов у эффективных операторов отличается от среднего количества исходящих вызовов у неэффективных"
   ]
  },
  {
   "cell_type": "markdown",
   "metadata": {},
   "source": [
    "В данные сгрупированные по операторам добавим столбец `effect` с признаком эффективности:"
   ]
  },
  {
   "cell_type": "code",
   "execution_count": 59,
   "metadata": {},
   "outputs": [],
   "source": [
    "innefective_in.insert (loc = len(innefective_in.columns) , column='effect', value=innefective_in['operator_id'])\n",
    "for i in innefective_in['effect']:\n",
    "    innefective_in['effect']='ineff'"
   ]
  },
  {
   "cell_type": "code",
   "execution_count": 60,
   "metadata": {},
   "outputs": [],
   "source": [
    "innefective_in_operators = innefective_in[['operator_id', 'effect']]\n",
    "operators_wait=innefective_in_operators.merge(operators_wait, on='operator_id', how='outer')\n",
    "operators_wait.fillna(value='eff', inplace=True)\n"
   ]
  },
  {
   "cell_type": "code",
   "execution_count": 61,
   "metadata": {},
   "outputs": [
    {
     "data": {
      "text/html": [
       "<div>\n",
       "<style scoped>\n",
       "    .dataframe tbody tr th:only-of-type {\n",
       "        vertical-align: middle;\n",
       "    }\n",
       "\n",
       "    .dataframe tbody tr th {\n",
       "        vertical-align: top;\n",
       "    }\n",
       "\n",
       "    .dataframe thead th {\n",
       "        text-align: right;\n",
       "    }\n",
       "</style>\n",
       "<table border=\"1\" class=\"dataframe\">\n",
       "  <thead>\n",
       "    <tr style=\"text-align: right;\">\n",
       "      <th></th>\n",
       "      <th>operator_id</th>\n",
       "      <th>effect</th>\n",
       "      <th>calls_count</th>\n",
       "      <th>wait_duration</th>\n",
       "      <th>avg_wait_duration</th>\n",
       "    </tr>\n",
       "  </thead>\n",
       "  <tbody>\n",
       "    <tr>\n",
       "      <th>0</th>\n",
       "      <td>882476</td>\n",
       "      <td>ineff</td>\n",
       "      <td>2</td>\n",
       "      <td>75</td>\n",
       "      <td>37.50</td>\n",
       "    </tr>\n",
       "    <tr>\n",
       "      <th>1</th>\n",
       "      <td>882478</td>\n",
       "      <td>ineff</td>\n",
       "      <td>3</td>\n",
       "      <td>76</td>\n",
       "      <td>25.33</td>\n",
       "    </tr>\n",
       "    <tr>\n",
       "      <th>2</th>\n",
       "      <td>886892</td>\n",
       "      <td>ineff</td>\n",
       "      <td>2</td>\n",
       "      <td>58</td>\n",
       "      <td>29.00</td>\n",
       "    </tr>\n",
       "    <tr>\n",
       "      <th>3</th>\n",
       "      <td>888406</td>\n",
       "      <td>ineff</td>\n",
       "      <td>8</td>\n",
       "      <td>206</td>\n",
       "      <td>25.75</td>\n",
       "    </tr>\n",
       "    <tr>\n",
       "      <th>4</th>\n",
       "      <td>891900</td>\n",
       "      <td>ineff</td>\n",
       "      <td>32</td>\n",
       "      <td>1198</td>\n",
       "      <td>37.44</td>\n",
       "    </tr>\n",
       "    <tr>\n",
       "      <th>...</th>\n",
       "      <td>...</td>\n",
       "      <td>...</td>\n",
       "      <td>...</td>\n",
       "      <td>...</td>\n",
       "      <td>...</td>\n",
       "    </tr>\n",
       "    <tr>\n",
       "      <th>238</th>\n",
       "      <td>968520</td>\n",
       "      <td>eff</td>\n",
       "      <td>5</td>\n",
       "      <td>5</td>\n",
       "      <td>1.00</td>\n",
       "    </tr>\n",
       "    <tr>\n",
       "      <th>239</th>\n",
       "      <td>969294</td>\n",
       "      <td>eff</td>\n",
       "      <td>84</td>\n",
       "      <td>710</td>\n",
       "      <td>8.45</td>\n",
       "    </tr>\n",
       "    <tr>\n",
       "      <th>240</th>\n",
       "      <td>971100</td>\n",
       "      <td>eff</td>\n",
       "      <td>3</td>\n",
       "      <td>26</td>\n",
       "      <td>8.67</td>\n",
       "    </tr>\n",
       "    <tr>\n",
       "      <th>241</th>\n",
       "      <td>971102</td>\n",
       "      <td>eff</td>\n",
       "      <td>76</td>\n",
       "      <td>1352</td>\n",
       "      <td>17.79</td>\n",
       "    </tr>\n",
       "    <tr>\n",
       "      <th>242</th>\n",
       "      <td>971354</td>\n",
       "      <td>eff</td>\n",
       "      <td>6</td>\n",
       "      <td>84</td>\n",
       "      <td>14.00</td>\n",
       "    </tr>\n",
       "  </tbody>\n",
       "</table>\n",
       "<p>243 rows × 5 columns</p>\n",
       "</div>"
      ],
      "text/plain": [
       "     operator_id effect  calls_count  wait_duration  avg_wait_duration\n",
       "0         882476  ineff            2             75              37.50\n",
       "1         882478  ineff            3             76              25.33\n",
       "2         886892  ineff            2             58              29.00\n",
       "3         888406  ineff            8            206              25.75\n",
       "4         891900  ineff           32           1198              37.44\n",
       "..           ...    ...          ...            ...                ...\n",
       "238       968520    eff            5              5               1.00\n",
       "239       969294    eff           84            710               8.45\n",
       "240       971100    eff            3             26               8.67\n",
       "241       971102    eff           76           1352              17.79\n",
       "242       971354    eff            6             84              14.00\n",
       "\n",
       "[243 rows x 5 columns]"
      ]
     },
     "execution_count": 61,
     "metadata": {},
     "output_type": "execute_result"
    }
   ],
   "source": [
    "operators_wait"
   ]
  },
  {
   "cell_type": "markdown",
   "metadata": {},
   "source": [
    "<div style=\"padding:20px; font-size: 16px; \">\n",
    "\n",
    "<b>Среднее время ожидания у эффективных операторов при входящих вызовах отличается от среднего времени ожидания у неэффективных</b>"
   ]
  },
  {
   "cell_type": "markdown",
   "metadata": {},
   "source": [
    "Посмотрим на среднее время ожидания для эффективных/неэффективных операторов:"
   ]
  },
  {
   "cell_type": "code",
   "execution_count": 62,
   "metadata": {},
   "outputs": [
    {
     "data": {
      "image/png": "[encoded data removed]",
      "text/plain": [
       "<Figure size 1152x432 with 1 Axes>"
      ]
     },
     "metadata": {
      "needs_background": "light"
     },
     "output_type": "display_data"
    }
   ],
   "source": [
    "plot_bar(operators_wait.query('effect == \"eff\"')['avg_wait_duration'], 50, 25, 'Распределение времени ожидания эфффективных операторов','Время ожидания', 'Частота')"
   ]
  },
  {
   "cell_type": "code",
   "execution_count": 63,
   "metadata": {},
   "outputs": [
    {
     "data": {
      "image/png": "[encoded data removed]",
      "text/plain": [
       "<Figure size 1152x432 with 1 Axes>"
      ]
     },
     "metadata": {
      "needs_background": "light"
     },
     "output_type": "display_data"
    }
   ],
   "source": [
    "plot_bar(operators_wait.query('effect == \"ineff\"')['avg_wait_duration'], 50, 40, 'Распределение времени ожидания неэфффективных операторов','Время ожидания', 'Частота')"
   ]
  },
  {
   "cell_type": "code",
   "execution_count": 64,
   "metadata": {
    "scrolled": true
   },
   "outputs": [
    {
     "name": "stdout",
     "output_type": "stream",
     "text": [
      "Среднее время ожидания для эффективных операторов: 13.32\n",
      "Среднее время ожидания для неэффективных операторов: 32.01\n"
     ]
    }
   ],
   "source": [
    "print('Среднее время ожидания для эффективных операторов:', operators_wait.query('effect == \"eff\"')['avg_wait_duration'].mean().round(2))\n",
    "print('Среднее время ожидания для неэффективных операторов:', operators_wait.query('effect == \"ineff\"')['avg_wait_duration'].mean().round(2))"
   ]
  },
  {
   "cell_type": "markdown",
   "metadata": {},
   "source": [
    "- **Нулевая гипотеза**: Среднее время ожидания у эффективных операторов при входящих вызовах **не отличается** от среднего времени ожидания у неэффективных.\n",
    "\n",
    "- **Альтернативная гипотеза**: Среднее время ожидания у эффективных операторов при входящих вызовах **отличается** от среднего времени ожидания у неэффективных."
   ]
  },
  {
   "cell_type": "markdown",
   "metadata": {},
   "source": [
    "Проверка гипотезы о равенстве среднего двух генеральных совокупностей по взятым из них выборкам для независимых выборок:"
   ]
  },
  {
   "cell_type": "code",
   "execution_count": 65,
   "metadata": {},
   "outputs": [
    {
     "name": "stdout",
     "output_type": "stream",
     "text": [
      "p-значение: 1.6454204329546964e-44\n",
      "Отвергаем нулевую гипотезу\n"
     ]
    }
   ],
   "source": [
    "alpha = .05 #зададим 5% уровень значимости\n",
    "result = st.ttest_ind(operators_wait.query('effect == \"eff\"')['avg_wait_duration'], \n",
    "    operators_wait.query('effect == \"ineff\"')['avg_wait_duration'])\n",
    "\n",
    "print('p-значение:', result.pvalue)\n",
    "\n",
    "if (result.pvalue < alpha):\n",
    "    print(\"Отвергаем нулевую гипотезу\")\n",
    "else:\n",
    "    print(\"Не получилось отвергнуть нулевую гипотезу\")"
   ]
  },
  {
   "cell_type": "markdown",
   "metadata": {},
   "source": [
    "Можем отвергнуть нулевую гипотезу, а значит вероятнее всего время ожидания для эффективных операторов отличается от времени ожидания для неефективных."
   ]
  },
  {
   "cell_type": "markdown",
   "metadata": {},
   "source": [
    "<div style=\"padding:20px; font-size: 16px; \">\n",
    "\n",
    "<b>Среднее количество пропущенных входящих вызовов у эффективных операторов отличается от среднего количества пропущенных у неэффективных </b>"
   ]
  },
  {
   "cell_type": "code",
   "execution_count": 66,
   "metadata": {},
   "outputs": [
    {
     "data": {
      "text/html": [
       "<div>\n",
       "<style scoped>\n",
       "    .dataframe tbody tr th:only-of-type {\n",
       "        vertical-align: middle;\n",
       "    }\n",
       "\n",
       "    .dataframe tbody tr th {\n",
       "        vertical-align: top;\n",
       "    }\n",
       "\n",
       "    .dataframe thead th {\n",
       "        text-align: right;\n",
       "    }\n",
       "</style>\n",
       "<table border=\"1\" class=\"dataframe\">\n",
       "  <thead>\n",
       "    <tr style=\"text-align: right;\">\n",
       "      <th></th>\n",
       "      <th>operator_id</th>\n",
       "      <th>is_missed_call</th>\n",
       "      <th>date</th>\n",
       "      <th>missed_calls_per_day</th>\n",
       "      <th>effect</th>\n",
       "    </tr>\n",
       "  </thead>\n",
       "  <tbody>\n",
       "    <tr>\n",
       "      <th>0</th>\n",
       "      <td>882476</td>\n",
       "      <td>0</td>\n",
       "      <td>2</td>\n",
       "      <td>0.00</td>\n",
       "      <td>ineff</td>\n",
       "    </tr>\n",
       "    <tr>\n",
       "      <th>1</th>\n",
       "      <td>882478</td>\n",
       "      <td>0</td>\n",
       "      <td>2</td>\n",
       "      <td>0.00</td>\n",
       "      <td>ineff</td>\n",
       "    </tr>\n",
       "    <tr>\n",
       "      <th>2</th>\n",
       "      <td>882680</td>\n",
       "      <td>3</td>\n",
       "      <td>41</td>\n",
       "      <td>7.32</td>\n",
       "      <td>eff</td>\n",
       "    </tr>\n",
       "    <tr>\n",
       "      <th>3</th>\n",
       "      <td>884294</td>\n",
       "      <td>0</td>\n",
       "      <td>1</td>\n",
       "      <td>0.00</td>\n",
       "      <td>eff</td>\n",
       "    </tr>\n",
       "    <tr>\n",
       "      <th>4</th>\n",
       "      <td>886674</td>\n",
       "      <td>0</td>\n",
       "      <td>6</td>\n",
       "      <td>0.00</td>\n",
       "      <td>eff</td>\n",
       "    </tr>\n",
       "    <tr>\n",
       "      <th>...</th>\n",
       "      <td>...</td>\n",
       "      <td>...</td>\n",
       "      <td>...</td>\n",
       "      <td>...</td>\n",
       "      <td>...</td>\n",
       "    </tr>\n",
       "    <tr>\n",
       "      <th>238</th>\n",
       "      <td>969294</td>\n",
       "      <td>0</td>\n",
       "      <td>4</td>\n",
       "      <td>0.00</td>\n",
       "      <td>eff</td>\n",
       "    </tr>\n",
       "    <tr>\n",
       "      <th>239</th>\n",
       "      <td>971100</td>\n",
       "      <td>0</td>\n",
       "      <td>2</td>\n",
       "      <td>0.00</td>\n",
       "      <td>eff</td>\n",
       "    </tr>\n",
       "    <tr>\n",
       "      <th>240</th>\n",
       "      <td>971102</td>\n",
       "      <td>0</td>\n",
       "      <td>4</td>\n",
       "      <td>0.00</td>\n",
       "      <td>eff</td>\n",
       "    </tr>\n",
       "    <tr>\n",
       "      <th>241</th>\n",
       "      <td>971354</td>\n",
       "      <td>0</td>\n",
       "      <td>2</td>\n",
       "      <td>0.00</td>\n",
       "      <td>eff</td>\n",
       "    </tr>\n",
       "    <tr>\n",
       "      <th>242</th>\n",
       "      <td>973286</td>\n",
       "      <td>0</td>\n",
       "      <td>1</td>\n",
       "      <td>0.00</td>\n",
       "      <td>ineff</td>\n",
       "    </tr>\n",
       "  </tbody>\n",
       "</table>\n",
       "<p>243 rows × 5 columns</p>\n",
       "</div>"
      ],
      "text/plain": [
       "     operator_id  is_missed_call  date  missed_calls_per_day effect\n",
       "0         882476               0     2                  0.00  ineff\n",
       "1         882478               0     2                  0.00  ineff\n",
       "2         882680               3    41                  7.32    eff\n",
       "3         884294               0     1                  0.00    eff\n",
       "4         886674               0     6                  0.00    eff\n",
       "..           ...             ...   ...                   ...    ...\n",
       "238       969294               0     4                  0.00    eff\n",
       "239       971100               0     2                  0.00    eff\n",
       "240       971102               0     4                  0.00    eff\n",
       "241       971354               0     2                  0.00    eff\n",
       "242       973286               0     1                  0.00  ineff\n",
       "\n",
       "[243 rows x 5 columns]"
      ]
     },
     "execution_count": 66,
     "metadata": {},
     "output_type": "execute_result"
    }
   ],
   "source": [
    "operators_missed_calls=operators_missed_calls.merge(innefective_in_operators, on='operator_id', how='outer')\n",
    "operators_missed_calls.fillna(value='eff', inplace=True)\n",
    "operators_missed_calls"
   ]
  },
  {
   "cell_type": "code",
   "execution_count": 67,
   "metadata": {
    "scrolled": true
   },
   "outputs": [
    {
     "name": "stdout",
     "output_type": "stream",
     "text": [
      "Среднее количество пропущенных входящих вызовов  эффективных операторов: 1.29\n",
      "Среднее количество пропущенных входящих вызовов  неэффективных операторов: 8.02\n"
     ]
    }
   ],
   "source": [
    "print('Среднее количество пропущенных входящих вызовов  эффективных операторов:', operators_missed_calls.query('effect == \"eff\"')['missed_calls_per_day'].mean().round(2))\n",
    "print('Среднее количество пропущенных входящих вызовов  неэффективных операторов:', operators_missed_calls.query('effect == \"ineff\"')['missed_calls_per_day'].mean().round(2))"
   ]
  },
  {
   "cell_type": "markdown",
   "metadata": {},
   "source": [
    "- **Нулевая гипотеза**: Среднее количество пропущенных входящих вызовов эффективных операторов **не отличается** от среднего количества пропущенных входящих вызовов неэффективных.\n",
    "\n",
    "- **Альтернативная гипотеза**: Среднее количество пропущенных входящих вызовов эффективных операторов **отличается** от среднего количества пропущенных входящих вызовов неэффективных."
   ]
  },
  {
   "cell_type": "markdown",
   "metadata": {},
   "source": [
    "Проверка гипотезы о равенстве среднего двух генеральных совокупностей по взятым из них выборкам для независимых выборок:"
   ]
  },
  {
   "cell_type": "code",
   "execution_count": 68,
   "metadata": {},
   "outputs": [
    {
     "name": "stdout",
     "output_type": "stream",
     "text": [
      "p-значение: 3.9499587223588755e-11\n",
      "Отвергаем нулевую гипотезу\n"
     ]
    }
   ],
   "source": [
    "alpha = .05 #зададим 5% уровень значимости\n",
    "result = st.ttest_ind(operators_missed_calls.query('effect == \"eff\"')['missed_calls_per_day'], \n",
    "    operators_missed_calls.query('effect == \"ineff\"')['missed_calls_per_day'])\n",
    "\n",
    "print('p-значение:', result.pvalue)\n",
    "\n",
    "if (result.pvalue < alpha):\n",
    "    print(\"Отвергаем нулевую гипотезу\")\n",
    "else:\n",
    "    print(\"Не получилось отвергнуть нулевую гипотезу\")"
   ]
  },
  {
   "cell_type": "markdown",
   "metadata": {},
   "source": [
    "Можем отвергнуть нулевую гипотезу, а значит вероятнее всего среднее количество пропущенных входящих вызовов эффективных операторов отличается от количества пропущенных вызовов для неефективных."
   ]
  },
  {
   "cell_type": "markdown",
   "metadata": {},
   "source": [
    "<div style=\"padding:20px; font-size: 16px; \">\n",
    "\n",
    "<b>Среднее количество исходящих вызовов у эффективных операторов отличается от среднего количества исходящих вызовов у неэффективных</b>"
   ]
  },
  {
   "cell_type": "code",
   "execution_count": 69,
   "metadata": {},
   "outputs": [
    {
     "data": {
      "text/html": [
       "<div>\n",
       "<style scoped>\n",
       "    .dataframe tbody tr th:only-of-type {\n",
       "        vertical-align: middle;\n",
       "    }\n",
       "\n",
       "    .dataframe tbody tr th {\n",
       "        vertical-align: top;\n",
       "    }\n",
       "\n",
       "    .dataframe thead th {\n",
       "        text-align: right;\n",
       "    }\n",
       "</style>\n",
       "<table border=\"1\" class=\"dataframe\">\n",
       "  <thead>\n",
       "    <tr style=\"text-align: right;\">\n",
       "      <th></th>\n",
       "      <th>operator_id</th>\n",
       "      <th>effect</th>\n",
       "      <th>days</th>\n",
       "      <th>calls</th>\n",
       "      <th>calls_per_day</th>\n",
       "    </tr>\n",
       "  </thead>\n",
       "  <tbody>\n",
       "    <tr>\n",
       "      <th>0</th>\n",
       "      <td>879896</td>\n",
       "      <td>ineff</td>\n",
       "      <td>49</td>\n",
       "      <td>872</td>\n",
       "      <td>18.0</td>\n",
       "    </tr>\n",
       "    <tr>\n",
       "      <th>1</th>\n",
       "      <td>880020</td>\n",
       "      <td>ineff</td>\n",
       "      <td>7</td>\n",
       "      <td>36</td>\n",
       "      <td>5.0</td>\n",
       "    </tr>\n",
       "    <tr>\n",
       "      <th>2</th>\n",
       "      <td>880022</td>\n",
       "      <td>ineff</td>\n",
       "      <td>36</td>\n",
       "      <td>189</td>\n",
       "      <td>5.0</td>\n",
       "    </tr>\n",
       "    <tr>\n",
       "      <th>3</th>\n",
       "      <td>880026</td>\n",
       "      <td>ineff</td>\n",
       "      <td>77</td>\n",
       "      <td>2208</td>\n",
       "      <td>29.0</td>\n",
       "    </tr>\n",
       "    <tr>\n",
       "      <th>4</th>\n",
       "      <td>880028</td>\n",
       "      <td>ineff</td>\n",
       "      <td>78</td>\n",
       "      <td>2496</td>\n",
       "      <td>32.0</td>\n",
       "    </tr>\n",
       "    <tr>\n",
       "      <th>...</th>\n",
       "      <td>...</td>\n",
       "      <td>...</td>\n",
       "      <td>...</td>\n",
       "      <td>...</td>\n",
       "      <td>...</td>\n",
       "    </tr>\n",
       "    <tr>\n",
       "      <th>707</th>\n",
       "      <td>952466</td>\n",
       "      <td>eff</td>\n",
       "      <td>1</td>\n",
       "      <td>88</td>\n",
       "      <td>88.0</td>\n",
       "    </tr>\n",
       "    <tr>\n",
       "      <th>708</th>\n",
       "      <td>952468</td>\n",
       "      <td>eff</td>\n",
       "      <td>13</td>\n",
       "      <td>1127</td>\n",
       "      <td>87.0</td>\n",
       "    </tr>\n",
       "    <tr>\n",
       "      <th>709</th>\n",
       "      <td>958456</td>\n",
       "      <td>eff</td>\n",
       "      <td>10</td>\n",
       "      <td>842</td>\n",
       "      <td>84.0</td>\n",
       "    </tr>\n",
       "    <tr>\n",
       "      <th>710</th>\n",
       "      <td>961064</td>\n",
       "      <td>eff</td>\n",
       "      <td>8</td>\n",
       "      <td>904</td>\n",
       "      <td>113.0</td>\n",
       "    </tr>\n",
       "    <tr>\n",
       "      <th>711</th>\n",
       "      <td>964666</td>\n",
       "      <td>eff</td>\n",
       "      <td>6</td>\n",
       "      <td>814</td>\n",
       "      <td>136.0</td>\n",
       "    </tr>\n",
       "  </tbody>\n",
       "</table>\n",
       "<p>712 rows × 5 columns</p>\n",
       "</div>"
      ],
      "text/plain": [
       "     operator_id effect  days  calls  calls_per_day\n",
       "0         879896  ineff    49    872           18.0\n",
       "1         880020  ineff     7     36            5.0\n",
       "2         880022  ineff    36    189            5.0\n",
       "3         880026  ineff    77   2208           29.0\n",
       "4         880028  ineff    78   2496           32.0\n",
       "..           ...    ...   ...    ...            ...\n",
       "707       952466    eff     1     88           88.0\n",
       "708       952468    eff    13   1127           87.0\n",
       "709       958456    eff    10    842           84.0\n",
       "710       961064    eff     8    904          113.0\n",
       "711       964666    eff     6    814          136.0\n",
       "\n",
       "[712 rows x 5 columns]"
      ]
     },
     "execution_count": 69,
     "metadata": {},
     "output_type": "execute_result"
    }
   ],
   "source": [
    "innefective_out.insert (loc = len(innefective_out.columns) , column='effect', value=innefective_out['operator_id'])\n",
    "for i in innefective_out['effect']:\n",
    "    innefective_out['effect']='ineff'\n",
    "    \n",
    "innefective_out_operators = innefective_out[['operator_id', 'effect']]\n",
    "operators_calls_pivot=innefective_out_operators.merge(operators_calls_pivot, on='operator_id', how='outer')\n",
    "operators_calls_pivot.fillna(value='eff', inplace=True)\n",
    "operators_calls_pivot"
   ]
  },
  {
   "cell_type": "code",
   "execution_count": 70,
   "metadata": {
    "scrolled": true
   },
   "outputs": [
    {
     "name": "stdout",
     "output_type": "stream",
     "text": [
      "Среднее количество исходящих вызовов  эффективных операторов: 122.56\n",
      "Среднее количество исходящих вызовов  неэффективных операторов: 12.92\n"
     ]
    }
   ],
   "source": [
    "print('Среднее количество исходящих вызовов  эффективных операторов:', operators_calls_pivot.query('effect == \"eff\"')['calls_per_day'].mean().round(2))\n",
    "print('Среднее количество исходящих вызовов  неэффективных операторов:', operators_calls_pivot.query('effect == \"ineff\"')['calls_per_day'].mean().round(2))"
   ]
  },
  {
   "cell_type": "markdown",
   "metadata": {},
   "source": [
    "- **Нулевая гипотеза**: Среднее количество исходящих вызовов эффективных операторов **не отличается** от среднего количества пропущенных входящих вызовов неэффективных.\n",
    "\n",
    "- **Альтернативная гипотеза**: Среднее количество исходящих вызовов эффективных операторов **отличается** от среднего количества пропущенных входящих вызовов неэффективных."
   ]
  },
  {
   "cell_type": "markdown",
   "metadata": {},
   "source": [
    "Проверка гипотезы о равенстве среднего двух генеральных совокупностей по взятым из них выборкам для независимых выборок:"
   ]
  },
  {
   "cell_type": "code",
   "execution_count": 71,
   "metadata": {},
   "outputs": [
    {
     "name": "stdout",
     "output_type": "stream",
     "text": [
      "p-значение: 3.2848519584721083e-224\n",
      "Отвергаем нулевую гипотезу\n"
     ]
    }
   ],
   "source": [
    "alpha = .05 #зададим 5% уровень значимости\n",
    "result = st.ttest_ind(operators_calls_pivot.query('effect == \"eff\"')['calls_per_day'], \n",
    "    operators_calls_pivot.query('effect == \"ineff\"')['calls_per_day'])\n",
    "\n",
    "print('p-значение:', result.pvalue)\n",
    "\n",
    "if (result.pvalue < alpha):\n",
    "    print(\"Отвергаем нулевую гипотезу\")\n",
    "else:\n",
    "    print(\"Не получилось отвергнуть нулевую гипотезу\")"
   ]
  },
  {
   "cell_type": "markdown",
   "metadata": {},
   "source": [
    "Можем отвергнуть нулевую гипотезу, а значит вероятнее всего среднее количество исходящих вызовов эффективных операторов отличается от количества исходящих вызовов для неефективных."
   ]
  },
  {
   "cell_type": "markdown",
   "metadata": {},
   "source": [
    "## Общий вывод"
   ]
  },
  {
   "cell_type": "markdown",
   "metadata": {},
   "source": [
    "Данные о колл-центрах были:\n",
    "- очищенны от пропусков в internal и operator_id;\n",
    "- заменены типы данных столбцов, содержащих дату, на корректный;\n",
    "- очищенны от дубликатов;\n",
    "- добавлены столбцы с длительностью ожидания ответа на звонок и типов колл-центра в зависимости от преобладания входящих/исходящих вызовов.\n",
    "\n",
    "А также избавленны от аномальных значений количества звонков, пропущенных вызовов и длительности звонков.\n",
    "\n",
    "Мы установили критерии эффективности операторов колл-центров специализирующихся на входящих вызовах:\n",
    "- среднее время ожидания одного звонка не более 25 секунд\n",
    "- количество пропущенных вызовов в день не более 15%\n",
    "По этим критериям неэфффективными оказались 68 операторов, что составило 28% операторов таких колл-центров.\n",
    "\n",
    "Мы установили критерии эффективности операторов колл-центров специализирующихся на исходящих вызовах:\n",
    "- количество исходящих вызовов в день не менее 35\n",
    "По такому критерию неэфффективными оказались 557 операторов, что составило 78% операторов таких колл-центров.\n",
    "\n",
    "Проверка гипотез показала статистически значимые различия между средними временем ожидания, количеством пропущенных входящих и количеством исходящих вызовов для эффективных и неэффективных операторов."
   ]
  },
  {
   "cell_type": "markdown",
   "metadata": {},
   "source": [
    "Ссылка на презентацию: https://drive.google.com/file/d/1_P5F9p3IaJ6dFfJCvUDlsvODUQmMEiip/view?usp=sharing"
   ]
  },
  {
   "cell_type": "markdown",
   "metadata": {},
   "source": [
    "Ссылка на дашборд: https://public.tableau.com/app/profile/elizaveta.kalinichenko/viz/telecom_dashboard_16768914235870/sheet2"
   ]
  }
 ],
 "metadata": {
  "ExecuteTimeLog": [
   {
    "duration": 1765,
    "start_time": "2023-02-05T08:38:41.030Z"
   },
   {
    "duration": 5,
    "start_time": "2023-02-05T08:39:31.207Z"
   },
   {
    "duration": 125,
    "start_time": "2023-02-05T08:39:34.080Z"
   },
   {
    "duration": 175,
    "start_time": "2023-02-05T08:40:06.813Z"
   },
   {
    "duration": 157,
    "start_time": "2023-02-05T08:40:19.463Z"
   },
   {
    "duration": 251,
    "start_time": "2023-02-05T08:40:50.853Z"
   },
   {
    "duration": 25,
    "start_time": "2023-02-05T08:40:57.262Z"
   },
   {
    "duration": 4,
    "start_time": "2023-02-07T19:30:36.620Z"
   },
   {
    "duration": 395,
    "start_time": "2023-02-07T19:30:58.102Z"
   },
   {
    "duration": 234,
    "start_time": "2023-02-07T19:31:02.671Z"
   },
   {
    "duration": 65,
    "start_time": "2023-02-07T19:31:06.855Z"
   },
   {
    "duration": 55,
    "start_time": "2023-02-07T19:49:34.002Z"
   },
   {
    "duration": 44,
    "start_time": "2023-02-07T21:10:59.851Z"
   },
   {
    "duration": 46,
    "start_time": "2023-02-07T21:13:49.728Z"
   },
   {
    "duration": 383,
    "start_time": "2023-02-07T21:21:33.293Z"
   },
   {
    "duration": 192,
    "start_time": "2023-02-07T21:21:33.677Z"
   },
   {
    "duration": 134,
    "start_time": "2023-02-07T21:21:33.870Z"
   },
   {
    "duration": 55,
    "start_time": "2023-02-12T15:34:04.932Z"
   },
   {
    "duration": 411,
    "start_time": "2023-02-12T15:34:42.487Z"
   },
   {
    "duration": 569,
    "start_time": "2023-02-12T15:35:52.910Z"
   },
   {
    "duration": 107,
    "start_time": "2023-02-12T15:36:19.317Z"
   },
   {
    "duration": 18,
    "start_time": "2023-02-12T15:36:29.683Z"
   },
   {
    "duration": 26,
    "start_time": "2023-02-12T15:37:03.291Z"
   },
   {
    "duration": 27,
    "start_time": "2023-02-12T15:37:34.947Z"
   },
   {
    "duration": 41,
    "start_time": "2023-02-12T15:38:29.086Z"
   },
   {
    "duration": 11,
    "start_time": "2023-02-12T16:07:23.040Z"
   },
   {
    "duration": 95,
    "start_time": "2023-02-12T16:08:25.969Z"
   },
   {
    "duration": 28,
    "start_time": "2023-02-12T16:08:56.519Z"
   },
   {
    "duration": 20,
    "start_time": "2023-02-12T16:09:10.321Z"
   },
   {
    "duration": 27,
    "start_time": "2023-02-12T16:09:22.401Z"
   },
   {
    "duration": 5,
    "start_time": "2023-02-12T16:11:33.621Z"
   },
   {
    "duration": 43,
    "start_time": "2023-02-12T16:11:59.855Z"
   },
   {
    "duration": 40,
    "start_time": "2023-02-12T16:12:05.595Z"
   },
   {
    "duration": 13,
    "start_time": "2023-02-12T16:12:39.277Z"
   },
   {
    "duration": 13,
    "start_time": "2023-02-12T16:12:45.976Z"
   },
   {
    "duration": 11,
    "start_time": "2023-02-12T16:12:51.932Z"
   },
   {
    "duration": 63,
    "start_time": "2023-02-12T16:13:35.966Z"
   },
   {
    "duration": 11,
    "start_time": "2023-02-12T16:13:50.117Z"
   },
   {
    "duration": 439,
    "start_time": "2023-02-14T15:19:16.162Z"
   },
   {
    "duration": 2,
    "start_time": "2023-02-14T15:19:45.891Z"
   },
   {
    "duration": 453,
    "start_time": "2023-02-14T15:19:54.811Z"
   },
   {
    "duration": 219,
    "start_time": "2023-02-14T15:19:55.266Z"
   },
   {
    "duration": 33,
    "start_time": "2023-02-14T15:19:55.489Z"
   },
   {
    "duration": 31,
    "start_time": "2023-02-14T15:19:55.524Z"
   },
   {
    "duration": 12,
    "start_time": "2023-02-14T15:19:55.556Z"
   },
   {
    "duration": 22,
    "start_time": "2023-02-14T15:19:55.570Z"
   },
   {
    "duration": 6,
    "start_time": "2023-02-14T15:19:55.594Z"
   },
   {
    "duration": 3,
    "start_time": "2023-02-14T15:26:20.177Z"
   },
   {
    "duration": 80,
    "start_time": "2023-02-14T15:37:28.717Z"
   },
   {
    "duration": 3,
    "start_time": "2023-02-14T15:40:22.387Z"
   },
   {
    "duration": 22,
    "start_time": "2023-02-14T15:40:39.222Z"
   },
   {
    "duration": 22,
    "start_time": "2023-02-14T16:28:06.268Z"
   },
   {
    "duration": 9,
    "start_time": "2023-02-14T16:39:15.108Z"
   },
   {
    "duration": 13,
    "start_time": "2023-02-14T16:44:00.490Z"
   },
   {
    "duration": 16,
    "start_time": "2023-02-14T16:44:04.346Z"
   },
   {
    "duration": 27,
    "start_time": "2023-02-14T16:44:12.905Z"
   },
   {
    "duration": 3,
    "start_time": "2023-02-14T16:44:38.902Z"
   },
   {
    "duration": 26,
    "start_time": "2023-02-14T16:44:40.722Z"
   },
   {
    "duration": 16,
    "start_time": "2023-02-14T16:49:47.508Z"
   },
   {
    "duration": 78,
    "start_time": "2023-02-14T16:50:00.945Z"
   },
   {
    "duration": 43,
    "start_time": "2023-02-14T16:52:30.892Z"
   },
   {
    "duration": 42,
    "start_time": "2023-02-14T16:52:44.327Z"
   },
   {
    "duration": 35,
    "start_time": "2023-02-14T16:53:20.674Z"
   },
   {
    "duration": 70,
    "start_time": "2023-02-14T16:53:43.242Z"
   },
   {
    "duration": 442,
    "start_time": "2023-02-14T16:55:19.225Z"
   },
   {
    "duration": 142,
    "start_time": "2023-02-14T16:55:19.669Z"
   },
   {
    "duration": 34,
    "start_time": "2023-02-14T16:55:19.813Z"
   },
   {
    "duration": 18,
    "start_time": "2023-02-14T16:55:19.849Z"
   },
   {
    "duration": 4,
    "start_time": "2023-02-14T16:55:19.869Z"
   },
   {
    "duration": 27,
    "start_time": "2023-02-14T16:55:19.875Z"
   },
   {
    "duration": 48,
    "start_time": "2023-02-14T16:55:19.904Z"
   },
   {
    "duration": 31,
    "start_time": "2023-02-14T16:55:19.953Z"
   },
   {
    "duration": 13,
    "start_time": "2023-02-14T16:55:19.985Z"
   },
   {
    "duration": 22,
    "start_time": "2023-02-14T16:55:20.032Z"
   },
   {
    "duration": 9,
    "start_time": "2023-02-14T16:55:20.055Z"
   },
   {
    "duration": 35,
    "start_time": "2023-02-14T16:57:12.515Z"
   },
   {
    "duration": 65,
    "start_time": "2023-02-14T16:59:41.240Z"
   },
   {
    "duration": 63,
    "start_time": "2023-02-14T17:00:04.435Z"
   },
   {
    "duration": 48,
    "start_time": "2023-02-14T17:00:20.556Z"
   },
   {
    "duration": 37,
    "start_time": "2023-02-14T17:01:26.114Z"
   },
   {
    "duration": 68,
    "start_time": "2023-02-14T17:01:53.789Z"
   },
   {
    "duration": 39,
    "start_time": "2023-02-14T17:02:41.374Z"
   },
   {
    "duration": 69,
    "start_time": "2023-02-14T17:04:18.507Z"
   },
   {
    "duration": 76,
    "start_time": "2023-02-14T17:04:27.026Z"
   },
   {
    "duration": 3711,
    "start_time": "2023-02-14T17:04:46.811Z"
   },
   {
    "duration": 2110,
    "start_time": "2023-02-14T17:05:05.228Z"
   },
   {
    "duration": 1386,
    "start_time": "2023-02-14T17:05:07.341Z"
   },
   {
    "duration": 97,
    "start_time": "2023-02-14T17:05:08.729Z"
   },
   {
    "duration": 35,
    "start_time": "2023-02-14T17:05:08.829Z"
   },
   {
    "duration": 19,
    "start_time": "2023-02-14T17:05:08.867Z"
   },
   {
    "duration": 4,
    "start_time": "2023-02-14T17:05:08.888Z"
   },
   {
    "duration": 42,
    "start_time": "2023-02-14T17:05:08.894Z"
   },
   {
    "duration": 31,
    "start_time": "2023-02-14T17:05:08.937Z"
   },
   {
    "duration": 33,
    "start_time": "2023-02-14T17:05:08.970Z"
   },
   {
    "duration": 78,
    "start_time": "2023-02-14T17:05:09.005Z"
   },
   {
    "duration": 82,
    "start_time": "2023-02-14T17:05:09.086Z"
   },
   {
    "duration": 11,
    "start_time": "2023-02-14T17:05:09.170Z"
   },
   {
    "duration": 32,
    "start_time": "2023-02-14T17:05:09.184Z"
   },
   {
    "duration": 8,
    "start_time": "2023-02-14T17:05:09.229Z"
   },
   {
    "duration": 2124,
    "start_time": "2023-02-14T17:05:38.186Z"
   },
   {
    "duration": 3,
    "start_time": "2023-02-14T17:05:44.881Z"
   },
   {
    "duration": 3,
    "start_time": "2023-02-14T17:06:54.252Z"
   },
   {
    "duration": 50,
    "start_time": "2023-02-14T18:38:20.280Z"
   },
   {
    "duration": 353,
    "start_time": "2023-02-14T18:39:38.082Z"
   },
   {
    "duration": 89,
    "start_time": "2023-02-14T18:39:38.437Z"
   },
   {
    "duration": 31,
    "start_time": "2023-02-14T18:39:38.528Z"
   },
   {
    "duration": 16,
    "start_time": "2023-02-14T18:39:38.561Z"
   },
   {
    "duration": 3,
    "start_time": "2023-02-14T18:39:38.579Z"
   },
   {
    "duration": 47,
    "start_time": "2023-02-14T18:39:38.584Z"
   },
   {
    "duration": 44,
    "start_time": "2023-02-14T18:39:38.633Z"
   },
   {
    "duration": 48,
    "start_time": "2023-02-14T18:39:38.679Z"
   },
   {
    "duration": 45,
    "start_time": "2023-02-14T18:39:38.729Z"
   },
   {
    "duration": 61,
    "start_time": "2023-02-14T18:39:38.776Z"
   },
   {
    "duration": 10,
    "start_time": "2023-02-14T18:39:38.839Z"
   },
   {
    "duration": 17,
    "start_time": "2023-02-14T18:39:38.851Z"
   },
   {
    "duration": 7,
    "start_time": "2023-02-14T18:39:38.870Z"
   },
   {
    "duration": 69,
    "start_time": "2023-02-14T18:41:56.488Z"
   },
   {
    "duration": 468,
    "start_time": "2023-02-14T18:42:10.001Z"
   },
   {
    "duration": 87,
    "start_time": "2023-02-14T18:42:10.472Z"
   },
   {
    "duration": 30,
    "start_time": "2023-02-14T18:42:10.561Z"
   },
   {
    "duration": 15,
    "start_time": "2023-02-14T18:42:10.593Z"
   },
   {
    "duration": 3,
    "start_time": "2023-02-14T18:42:10.610Z"
   },
   {
    "duration": 24,
    "start_time": "2023-02-14T18:42:10.615Z"
   },
   {
    "duration": 43,
    "start_time": "2023-02-14T18:42:10.641Z"
   },
   {
    "duration": 48,
    "start_time": "2023-02-14T18:42:10.685Z"
   },
   {
    "duration": 75,
    "start_time": "2023-02-14T18:42:10.735Z"
   },
   {
    "duration": 0,
    "start_time": "2023-02-14T18:42:10.811Z"
   },
   {
    "duration": 0,
    "start_time": "2023-02-14T18:42:10.812Z"
   },
   {
    "duration": 0,
    "start_time": "2023-02-14T18:42:10.813Z"
   },
   {
    "duration": 0,
    "start_time": "2023-02-14T18:42:10.828Z"
   },
   {
    "duration": 0,
    "start_time": "2023-02-14T18:42:10.829Z"
   },
   {
    "duration": 353,
    "start_time": "2023-02-14T18:43:35.076Z"
   },
   {
    "duration": 89,
    "start_time": "2023-02-14T18:43:35.431Z"
   },
   {
    "duration": 33,
    "start_time": "2023-02-14T18:43:35.522Z"
   },
   {
    "duration": 18,
    "start_time": "2023-02-14T18:43:35.557Z"
   },
   {
    "duration": 3,
    "start_time": "2023-02-14T18:43:35.577Z"
   },
   {
    "duration": 40,
    "start_time": "2023-02-14T18:43:35.582Z"
   },
   {
    "duration": 12,
    "start_time": "2023-02-14T18:43:35.624Z"
   },
   {
    "duration": 28,
    "start_time": "2023-02-14T18:43:35.637Z"
   },
   {
    "duration": 5,
    "start_time": "2023-02-14T18:43:35.667Z"
   },
   {
    "duration": 59,
    "start_time": "2023-02-14T18:43:35.674Z"
   },
   {
    "duration": 38,
    "start_time": "2023-02-14T18:43:35.734Z"
   },
   {
    "duration": 10,
    "start_time": "2023-02-14T18:43:35.773Z"
   },
   {
    "duration": 23,
    "start_time": "2023-02-14T18:43:35.784Z"
   },
   {
    "duration": 23,
    "start_time": "2023-02-14T18:43:35.809Z"
   },
   {
    "duration": 360,
    "start_time": "2023-02-14T18:52:43.783Z"
   },
   {
    "duration": 91,
    "start_time": "2023-02-14T18:52:44.145Z"
   },
   {
    "duration": 32,
    "start_time": "2023-02-14T18:52:44.238Z"
   },
   {
    "duration": 14,
    "start_time": "2023-02-14T18:52:44.271Z"
   },
   {
    "duration": 3,
    "start_time": "2023-02-14T18:52:44.287Z"
   },
   {
    "duration": 40,
    "start_time": "2023-02-14T18:52:44.292Z"
   },
   {
    "duration": 11,
    "start_time": "2023-02-14T18:52:44.334Z"
   },
   {
    "duration": 31,
    "start_time": "2023-02-14T18:52:44.347Z"
   },
   {
    "duration": 4,
    "start_time": "2023-02-14T18:52:44.379Z"
   },
   {
    "duration": 60,
    "start_time": "2023-02-14T18:52:44.385Z"
   },
   {
    "duration": 39,
    "start_time": "2023-02-14T18:52:44.447Z"
   },
   {
    "duration": 10,
    "start_time": "2023-02-14T18:52:44.488Z"
   },
   {
    "duration": 40,
    "start_time": "2023-02-14T18:52:44.499Z"
   },
   {
    "duration": 6,
    "start_time": "2023-02-14T18:52:44.541Z"
   },
   {
    "duration": 4,
    "start_time": "2023-02-14T19:04:44.769Z"
   },
   {
    "duration": 7,
    "start_time": "2023-02-14T19:26:54.813Z"
   },
   {
    "duration": 14,
    "start_time": "2023-02-14T19:27:06.636Z"
   },
   {
    "duration": 6,
    "start_time": "2023-02-14T19:36:24.059Z"
   },
   {
    "duration": 3,
    "start_time": "2023-02-14T19:37:54.377Z"
   },
   {
    "duration": 7,
    "start_time": "2023-02-14T19:38:00.338Z"
   },
   {
    "duration": 82,
    "start_time": "2023-02-14T19:38:21.992Z"
   },
   {
    "duration": 3,
    "start_time": "2023-02-14T19:38:43.707Z"
   },
   {
    "duration": 24,
    "start_time": "2023-02-14T19:43:43.303Z"
   },
   {
    "duration": 12,
    "start_time": "2023-02-14T19:43:56.002Z"
   },
   {
    "duration": 9,
    "start_time": "2023-02-14T19:49:26.503Z"
   },
   {
    "duration": 1266,
    "start_time": "2023-02-14T19:50:00.758Z"
   },
   {
    "duration": 582,
    "start_time": "2023-02-14T19:54:19.716Z"
   },
   {
    "duration": 10,
    "start_time": "2023-02-14T19:54:41.932Z"
   },
   {
    "duration": 567,
    "start_time": "2023-02-14T19:55:01.896Z"
   },
   {
    "duration": 646,
    "start_time": "2023-02-14T19:55:23.204Z"
   },
   {
    "duration": 11,
    "start_time": "2023-02-14T19:55:29.774Z"
   },
   {
    "duration": 1034,
    "start_time": "2023-02-14T19:58:00.469Z"
   },
   {
    "duration": 418,
    "start_time": "2023-02-14T19:58:14.106Z"
   },
   {
    "duration": 87,
    "start_time": "2023-02-14T19:58:14.527Z"
   },
   {
    "duration": 32,
    "start_time": "2023-02-14T19:58:14.616Z"
   },
   {
    "duration": 15,
    "start_time": "2023-02-14T19:58:14.650Z"
   },
   {
    "duration": 3,
    "start_time": "2023-02-14T19:58:14.667Z"
   },
   {
    "duration": 23,
    "start_time": "2023-02-14T19:58:14.672Z"
   },
   {
    "duration": 33,
    "start_time": "2023-02-14T19:58:14.696Z"
   },
   {
    "duration": 29,
    "start_time": "2023-02-14T19:58:14.730Z"
   },
   {
    "duration": 6,
    "start_time": "2023-02-14T19:58:14.760Z"
   },
   {
    "duration": 44,
    "start_time": "2023-02-14T19:58:14.767Z"
   },
   {
    "duration": 39,
    "start_time": "2023-02-14T19:58:14.826Z"
   },
   {
    "duration": 3,
    "start_time": "2023-02-14T19:58:14.867Z"
   },
   {
    "duration": 16,
    "start_time": "2023-02-14T19:58:14.872Z"
   },
   {
    "duration": 38,
    "start_time": "2023-02-14T19:58:14.891Z"
   },
   {
    "duration": 1054,
    "start_time": "2023-02-14T19:58:14.931Z"
   },
   {
    "duration": 9,
    "start_time": "2023-02-14T19:58:15.987Z"
   },
   {
    "duration": 475,
    "start_time": "2023-02-14T19:59:11.283Z"
   },
   {
    "duration": 10,
    "start_time": "2023-02-14T19:59:15.962Z"
   },
   {
    "duration": 363,
    "start_time": "2023-02-14T19:59:22.587Z"
   },
   {
    "duration": 89,
    "start_time": "2023-02-14T19:59:22.952Z"
   },
   {
    "duration": 30,
    "start_time": "2023-02-14T19:59:23.043Z"
   },
   {
    "duration": 14,
    "start_time": "2023-02-14T19:59:23.075Z"
   },
   {
    "duration": 5,
    "start_time": "2023-02-14T19:59:23.092Z"
   },
   {
    "duration": 32,
    "start_time": "2023-02-14T19:59:23.099Z"
   },
   {
    "duration": 12,
    "start_time": "2023-02-14T19:59:23.132Z"
   },
   {
    "duration": 29,
    "start_time": "2023-02-14T19:59:23.146Z"
   },
   {
    "duration": 5,
    "start_time": "2023-02-14T19:59:23.177Z"
   },
   {
    "duration": 64,
    "start_time": "2023-02-14T19:59:23.184Z"
   },
   {
    "duration": 36,
    "start_time": "2023-02-14T19:59:23.250Z"
   },
   {
    "duration": 4,
    "start_time": "2023-02-14T19:59:23.287Z"
   },
   {
    "duration": 8,
    "start_time": "2023-02-14T19:59:23.293Z"
   },
   {
    "duration": 43,
    "start_time": "2023-02-14T19:59:23.303Z"
   },
   {
    "duration": 509,
    "start_time": "2023-02-14T19:59:23.348Z"
   },
   {
    "duration": 10,
    "start_time": "2023-02-14T19:59:23.859Z"
   },
   {
    "duration": 89,
    "start_time": "2023-02-14T20:01:41.111Z"
   },
   {
    "duration": 579,
    "start_time": "2023-02-14T20:02:04.081Z"
   },
   {
    "duration": 4,
    "start_time": "2023-02-14T20:03:57.482Z"
   },
   {
    "duration": 3,
    "start_time": "2023-02-14T20:04:11.252Z"
   },
   {
    "duration": 1247,
    "start_time": "2023-02-14T20:04:29.209Z"
   },
   {
    "duration": 10,
    "start_time": "2023-02-14T20:04:52.831Z"
   },
   {
    "duration": 27,
    "start_time": "2023-02-14T20:05:44.382Z"
   },
   {
    "duration": 22,
    "start_time": "2023-02-14T20:06:18.334Z"
   },
   {
    "duration": 343,
    "start_time": "2023-02-14T20:06:22.046Z"
   },
   {
    "duration": 11,
    "start_time": "2023-02-14T20:06:31.802Z"
   },
   {
    "duration": 339,
    "start_time": "2023-02-14T20:07:20.365Z"
   },
   {
    "duration": 11,
    "start_time": "2023-02-14T20:07:22.485Z"
   },
   {
    "duration": 595,
    "start_time": "2023-02-14T20:10:16.471Z"
   },
   {
    "duration": 11,
    "start_time": "2023-02-14T20:10:21.438Z"
   },
   {
    "duration": 440,
    "start_time": "2023-02-14T20:10:31.598Z"
   },
   {
    "duration": 93,
    "start_time": "2023-02-14T20:10:32.040Z"
   },
   {
    "duration": 29,
    "start_time": "2023-02-14T20:10:32.135Z"
   },
   {
    "duration": 24,
    "start_time": "2023-02-14T20:10:32.166Z"
   },
   {
    "duration": 9,
    "start_time": "2023-02-14T20:10:32.192Z"
   },
   {
    "duration": 28,
    "start_time": "2023-02-14T20:10:32.203Z"
   },
   {
    "duration": 12,
    "start_time": "2023-02-14T20:10:32.233Z"
   },
   {
    "duration": 29,
    "start_time": "2023-02-14T20:10:32.247Z"
   },
   {
    "duration": 4,
    "start_time": "2023-02-14T20:10:32.278Z"
   },
   {
    "duration": 53,
    "start_time": "2023-02-14T20:10:32.283Z"
   },
   {
    "duration": 35,
    "start_time": "2023-02-14T20:10:32.338Z"
   },
   {
    "duration": 3,
    "start_time": "2023-02-14T20:10:32.375Z"
   },
   {
    "duration": 24,
    "start_time": "2023-02-14T20:10:32.379Z"
   },
   {
    "duration": 28,
    "start_time": "2023-02-14T20:10:32.405Z"
   },
   {
    "duration": 566,
    "start_time": "2023-02-14T20:10:32.434Z"
   },
   {
    "duration": 25,
    "start_time": "2023-02-14T20:10:33.002Z"
   },
   {
    "duration": 565,
    "start_time": "2023-02-14T20:11:36.901Z"
   },
   {
    "duration": 926,
    "start_time": "2023-02-14T20:13:12.512Z"
   },
   {
    "duration": 16,
    "start_time": "2023-02-14T20:13:18.631Z"
   },
   {
    "duration": 11,
    "start_time": "2023-02-14T20:13:52.503Z"
   },
   {
    "duration": 18,
    "start_time": "2023-02-14T20:15:13.069Z"
   },
   {
    "duration": 869,
    "start_time": "2023-02-14T20:15:15.272Z"
   },
   {
    "duration": 11,
    "start_time": "2023-02-14T20:15:20.667Z"
   },
   {
    "duration": 997,
    "start_time": "2023-02-14T20:16:24.548Z"
   },
   {
    "duration": 897,
    "start_time": "2023-02-14T20:16:47.558Z"
   },
   {
    "duration": 17,
    "start_time": "2023-02-14T20:19:43.254Z"
   },
   {
    "duration": 13,
    "start_time": "2023-02-14T20:19:45.317Z"
   },
   {
    "duration": 12,
    "start_time": "2023-02-14T20:20:39.189Z"
   },
   {
    "duration": 17,
    "start_time": "2023-02-14T20:20:59.113Z"
   },
   {
    "duration": 16,
    "start_time": "2023-02-14T20:27:46.978Z"
   },
   {
    "duration": 64,
    "start_time": "2023-02-14T20:30:45.239Z"
   },
   {
    "duration": 16,
    "start_time": "2023-02-14T20:30:55.358Z"
   },
   {
    "duration": 428,
    "start_time": "2023-02-14T20:31:59.705Z"
   },
   {
    "duration": 89,
    "start_time": "2023-02-14T20:32:00.135Z"
   },
   {
    "duration": 42,
    "start_time": "2023-02-14T20:32:00.227Z"
   },
   {
    "duration": 20,
    "start_time": "2023-02-14T20:32:00.271Z"
   },
   {
    "duration": 23,
    "start_time": "2023-02-14T20:32:00.292Z"
   },
   {
    "duration": 41,
    "start_time": "2023-02-14T20:32:00.328Z"
   },
   {
    "duration": 23,
    "start_time": "2023-02-14T20:32:00.371Z"
   },
   {
    "duration": 48,
    "start_time": "2023-02-14T20:32:00.396Z"
   },
   {
    "duration": 6,
    "start_time": "2023-02-14T20:32:00.446Z"
   },
   {
    "duration": 48,
    "start_time": "2023-02-14T20:32:00.454Z"
   },
   {
    "duration": 41,
    "start_time": "2023-02-14T20:32:00.503Z"
   },
   {
    "duration": 4,
    "start_time": "2023-02-14T20:32:00.546Z"
   },
   {
    "duration": 42,
    "start_time": "2023-02-14T20:32:00.551Z"
   },
   {
    "duration": 87,
    "start_time": "2023-02-14T20:32:00.595Z"
   },
   {
    "duration": 24,
    "start_time": "2023-02-14T20:32:00.683Z"
   },
   {
    "duration": 33,
    "start_time": "2023-02-14T20:32:00.709Z"
   },
   {
    "duration": 39,
    "start_time": "2023-02-14T20:32:00.744Z"
   },
   {
    "duration": 17,
    "start_time": "2023-02-14T20:32:00.784Z"
   },
   {
    "duration": 27,
    "start_time": "2023-02-14T20:34:18.753Z"
   },
   {
    "duration": 61,
    "start_time": "2023-02-14T20:34:55.819Z"
   },
   {
    "duration": 7,
    "start_time": "2023-02-14T20:35:31.308Z"
   },
   {
    "duration": 17,
    "start_time": "2023-02-14T21:08:22.989Z"
   },
   {
    "duration": 11,
    "start_time": "2023-02-14T21:08:35.105Z"
   },
   {
    "duration": 18,
    "start_time": "2023-02-14T21:09:21.414Z"
   },
   {
    "duration": 11,
    "start_time": "2023-02-14T21:09:24.133Z"
   },
   {
    "duration": 365,
    "start_time": "2023-02-14T21:10:35.458Z"
   },
   {
    "duration": 86,
    "start_time": "2023-02-14T21:10:35.827Z"
   },
   {
    "duration": 28,
    "start_time": "2023-02-14T21:10:35.915Z"
   },
   {
    "duration": 15,
    "start_time": "2023-02-14T21:10:35.945Z"
   },
   {
    "duration": 4,
    "start_time": "2023-02-14T21:10:35.962Z"
   },
   {
    "duration": 25,
    "start_time": "2023-02-14T21:10:35.967Z"
   },
   {
    "duration": 37,
    "start_time": "2023-02-14T21:10:35.993Z"
   },
   {
    "duration": 28,
    "start_time": "2023-02-14T21:10:36.032Z"
   },
   {
    "duration": 6,
    "start_time": "2023-02-14T21:10:36.062Z"
   },
   {
    "duration": 57,
    "start_time": "2023-02-14T21:10:36.070Z"
   },
   {
    "duration": 36,
    "start_time": "2023-02-14T21:10:36.129Z"
   },
   {
    "duration": 4,
    "start_time": "2023-02-14T21:10:36.167Z"
   },
   {
    "duration": 8,
    "start_time": "2023-02-14T21:10:36.173Z"
   },
   {
    "duration": 46,
    "start_time": "2023-02-14T21:10:36.183Z"
   },
   {
    "duration": 11,
    "start_time": "2023-02-14T21:10:36.230Z"
   },
   {
    "duration": 11,
    "start_time": "2023-02-14T21:11:56.279Z"
   },
   {
    "duration": 28,
    "start_time": "2023-02-14T21:13:13.409Z"
   },
   {
    "duration": 3,
    "start_time": "2023-02-14T21:17:47.457Z"
   },
   {
    "duration": 71,
    "start_time": "2023-02-14T21:19:22.125Z"
   },
   {
    "duration": 2,
    "start_time": "2023-02-14T21:20:02.416Z"
   },
   {
    "duration": 3,
    "start_time": "2023-02-14T21:20:09.076Z"
   },
   {
    "duration": 14,
    "start_time": "2023-02-14T21:20:11.844Z"
   },
   {
    "duration": 2,
    "start_time": "2023-02-14T21:20:54.751Z"
   },
   {
    "duration": 14,
    "start_time": "2023-02-14T21:20:57.409Z"
   },
   {
    "duration": 3,
    "start_time": "2023-02-14T21:21:35.814Z"
   },
   {
    "duration": 7,
    "start_time": "2023-02-14T21:22:22.257Z"
   },
   {
    "duration": 14,
    "start_time": "2023-02-14T21:22:39.096Z"
   },
   {
    "duration": 3,
    "start_time": "2023-02-14T21:22:55.022Z"
   },
   {
    "duration": 3,
    "start_time": "2023-02-14T21:23:10.357Z"
   },
   {
    "duration": 16,
    "start_time": "2023-02-14T21:23:11.931Z"
   },
   {
    "duration": 3,
    "start_time": "2023-02-14T21:25:08.848Z"
   },
   {
    "duration": 24,
    "start_time": "2023-02-14T21:25:11.026Z"
   },
   {
    "duration": 3,
    "start_time": "2023-02-14T21:34:12.828Z"
   },
   {
    "duration": 15,
    "start_time": "2023-02-14T21:34:14.808Z"
   },
   {
    "duration": 18,
    "start_time": "2023-02-14T21:34:37.709Z"
   },
   {
    "duration": 31,
    "start_time": "2023-02-14T21:35:33.480Z"
   },
   {
    "duration": 3,
    "start_time": "2023-02-14T21:38:02.184Z"
   },
   {
    "duration": 25,
    "start_time": "2023-02-14T21:41:37.430Z"
   },
   {
    "duration": 25,
    "start_time": "2023-02-14T21:42:03.686Z"
   },
   {
    "duration": 26,
    "start_time": "2023-02-14T21:42:15.420Z"
   },
   {
    "duration": 25,
    "start_time": "2023-02-14T21:43:16.994Z"
   },
   {
    "duration": 42,
    "start_time": "2023-02-14T21:43:29.662Z"
   },
   {
    "duration": 403,
    "start_time": "2023-02-14T21:43:45.794Z"
   },
   {
    "duration": 86,
    "start_time": "2023-02-14T21:43:46.199Z"
   },
   {
    "duration": 35,
    "start_time": "2023-02-14T21:43:46.286Z"
   },
   {
    "duration": 17,
    "start_time": "2023-02-14T21:43:46.322Z"
   },
   {
    "duration": 3,
    "start_time": "2023-02-14T21:43:46.341Z"
   },
   {
    "duration": 25,
    "start_time": "2023-02-14T21:43:46.346Z"
   },
   {
    "duration": 14,
    "start_time": "2023-02-14T21:43:46.373Z"
   },
   {
    "duration": 49,
    "start_time": "2023-02-14T21:43:46.389Z"
   },
   {
    "duration": 4,
    "start_time": "2023-02-14T21:43:46.440Z"
   },
   {
    "duration": 46,
    "start_time": "2023-02-14T21:43:46.446Z"
   },
   {
    "duration": 40,
    "start_time": "2023-02-14T21:43:46.494Z"
   },
   {
    "duration": 3,
    "start_time": "2023-02-14T21:43:46.536Z"
   },
   {
    "duration": 11,
    "start_time": "2023-02-14T21:43:46.541Z"
   },
   {
    "duration": 32,
    "start_time": "2023-02-14T21:43:46.554Z"
   },
   {
    "duration": 3,
    "start_time": "2023-02-14T21:43:46.588Z"
   },
   {
    "duration": 55,
    "start_time": "2023-02-14T21:43:46.593Z"
   },
   {
    "duration": 358,
    "start_time": "2023-02-14T21:44:57.970Z"
   },
   {
    "duration": 88,
    "start_time": "2023-02-14T21:44:58.330Z"
   },
   {
    "duration": 31,
    "start_time": "2023-02-14T21:44:58.419Z"
   },
   {
    "duration": 14,
    "start_time": "2023-02-14T21:44:58.452Z"
   },
   {
    "duration": 3,
    "start_time": "2023-02-14T21:44:58.469Z"
   },
   {
    "duration": 27,
    "start_time": "2023-02-14T21:44:58.473Z"
   },
   {
    "duration": 34,
    "start_time": "2023-02-14T21:44:58.502Z"
   },
   {
    "duration": 39,
    "start_time": "2023-02-14T21:44:58.538Z"
   },
   {
    "duration": 5,
    "start_time": "2023-02-14T21:44:58.579Z"
   },
   {
    "duration": 63,
    "start_time": "2023-02-14T21:44:58.586Z"
   },
   {
    "duration": 42,
    "start_time": "2023-02-14T21:44:58.650Z"
   },
   {
    "duration": 3,
    "start_time": "2023-02-14T21:44:58.694Z"
   },
   {
    "duration": 29,
    "start_time": "2023-02-14T21:44:58.699Z"
   },
   {
    "duration": 27,
    "start_time": "2023-02-14T21:44:58.730Z"
   },
   {
    "duration": 3,
    "start_time": "2023-02-14T21:44:58.759Z"
   },
   {
    "duration": 1211,
    "start_time": "2023-02-14T21:44:58.764Z"
   },
   {
    "duration": 34,
    "start_time": "2023-02-14T21:45:21.731Z"
   },
   {
    "duration": 384,
    "start_time": "2023-02-14T21:45:40.089Z"
   },
   {
    "duration": 87,
    "start_time": "2023-02-14T21:45:40.475Z"
   },
   {
    "duration": 29,
    "start_time": "2023-02-14T21:45:40.564Z"
   },
   {
    "duration": 15,
    "start_time": "2023-02-14T21:45:40.595Z"
   },
   {
    "duration": 3,
    "start_time": "2023-02-14T21:45:40.613Z"
   },
   {
    "duration": 27,
    "start_time": "2023-02-14T21:45:40.618Z"
   },
   {
    "duration": 13,
    "start_time": "2023-02-14T21:45:40.647Z"
   },
   {
    "duration": 31,
    "start_time": "2023-02-14T21:45:40.662Z"
   },
   {
    "duration": 6,
    "start_time": "2023-02-14T21:45:40.695Z"
   },
   {
    "duration": 37,
    "start_time": "2023-02-14T21:45:40.728Z"
   },
   {
    "duration": 37,
    "start_time": "2023-02-14T21:45:40.767Z"
   },
   {
    "duration": 22,
    "start_time": "2023-02-14T21:45:40.806Z"
   },
   {
    "duration": 7,
    "start_time": "2023-02-14T21:45:40.830Z"
   },
   {
    "duration": 47,
    "start_time": "2023-02-14T21:45:40.839Z"
   },
   {
    "duration": 3,
    "start_time": "2023-02-14T21:45:40.887Z"
   },
   {
    "duration": 41,
    "start_time": "2023-02-14T21:45:40.891Z"
   },
   {
    "duration": 64,
    "start_time": "2023-02-14T22:13:38.100Z"
   },
   {
    "duration": 223,
    "start_time": "2023-02-14T22:14:24.691Z"
   },
   {
    "duration": 617,
    "start_time": "2023-02-14T22:14:29.643Z"
   },
   {
    "duration": 108,
    "start_time": "2023-02-14T22:14:30.262Z"
   },
   {
    "duration": 28,
    "start_time": "2023-02-14T22:14:30.372Z"
   },
   {
    "duration": 16,
    "start_time": "2023-02-14T22:14:30.402Z"
   },
   {
    "duration": 10,
    "start_time": "2023-02-14T22:14:30.421Z"
   },
   {
    "duration": 43,
    "start_time": "2023-02-14T22:14:30.433Z"
   },
   {
    "duration": 32,
    "start_time": "2023-02-14T22:14:30.477Z"
   },
   {
    "duration": 48,
    "start_time": "2023-02-14T22:14:30.511Z"
   },
   {
    "duration": 5,
    "start_time": "2023-02-14T22:14:30.561Z"
   },
   {
    "duration": 88,
    "start_time": "2023-02-14T22:14:30.567Z"
   },
   {
    "duration": 41,
    "start_time": "2023-02-14T22:14:30.656Z"
   },
   {
    "duration": 3,
    "start_time": "2023-02-14T22:14:30.699Z"
   },
   {
    "duration": 49,
    "start_time": "2023-02-14T22:14:30.704Z"
   },
   {
    "duration": 61,
    "start_time": "2023-02-14T22:14:30.756Z"
   },
   {
    "duration": 48,
    "start_time": "2023-02-14T22:14:30.819Z"
   },
   {
    "duration": 52,
    "start_time": "2023-02-14T22:14:30.868Z"
   },
   {
    "duration": 198,
    "start_time": "2023-02-14T22:14:30.923Z"
   },
   {
    "duration": 495,
    "start_time": "2023-02-14T22:15:11.943Z"
   },
   {
    "duration": 1082,
    "start_time": "2023-02-14T22:15:17.340Z"
   },
   {
    "duration": 88,
    "start_time": "2023-02-14T22:15:18.424Z"
   },
   {
    "duration": 28,
    "start_time": "2023-02-14T22:15:18.516Z"
   },
   {
    "duration": 14,
    "start_time": "2023-02-14T22:15:18.546Z"
   },
   {
    "duration": 3,
    "start_time": "2023-02-14T22:15:18.562Z"
   },
   {
    "duration": 28,
    "start_time": "2023-02-14T22:15:18.566Z"
   },
   {
    "duration": 12,
    "start_time": "2023-02-14T22:15:18.596Z"
   },
   {
    "duration": 46,
    "start_time": "2023-02-14T22:15:18.610Z"
   },
   {
    "duration": 4,
    "start_time": "2023-02-14T22:15:18.658Z"
   },
   {
    "duration": 44,
    "start_time": "2023-02-14T22:15:18.663Z"
   },
   {
    "duration": 54,
    "start_time": "2023-02-14T22:15:18.708Z"
   },
   {
    "duration": 4,
    "start_time": "2023-02-14T22:15:18.764Z"
   },
   {
    "duration": 10,
    "start_time": "2023-02-14T22:15:18.770Z"
   },
   {
    "duration": 47,
    "start_time": "2023-02-14T22:15:18.781Z"
   },
   {
    "duration": 3,
    "start_time": "2023-02-14T22:15:18.829Z"
   },
   {
    "duration": 46,
    "start_time": "2023-02-14T22:15:18.834Z"
   },
   {
    "duration": 147,
    "start_time": "2023-02-14T22:15:18.881Z"
   },
   {
    "duration": 6,
    "start_time": "2023-02-15T13:33:17.705Z"
   },
   {
    "duration": 22,
    "start_time": "2023-02-15T13:34:12.689Z"
   },
   {
    "duration": 107,
    "start_time": "2023-02-15T13:34:48.209Z"
   },
   {
    "duration": 11,
    "start_time": "2023-02-15T13:34:51.623Z"
   },
   {
    "duration": 7,
    "start_time": "2023-02-15T13:35:34.536Z"
   },
   {
    "duration": 14,
    "start_time": "2023-02-15T13:36:09.470Z"
   },
   {
    "duration": 64,
    "start_time": "2023-02-15T13:39:15.379Z"
   },
   {
    "duration": 1181,
    "start_time": "2023-02-15T13:39:22.055Z"
   },
   {
    "duration": 181,
    "start_time": "2023-02-15T13:39:23.238Z"
   },
   {
    "duration": 27,
    "start_time": "2023-02-15T13:39:23.421Z"
   },
   {
    "duration": 13,
    "start_time": "2023-02-15T13:39:23.450Z"
   },
   {
    "duration": 2,
    "start_time": "2023-02-15T13:39:23.465Z"
   },
   {
    "duration": 21,
    "start_time": "2023-02-15T13:39:23.469Z"
   },
   {
    "duration": 36,
    "start_time": "2023-02-15T13:39:23.491Z"
   },
   {
    "duration": 29,
    "start_time": "2023-02-15T13:39:23.528Z"
   },
   {
    "duration": 4,
    "start_time": "2023-02-15T13:39:23.559Z"
   },
   {
    "duration": 40,
    "start_time": "2023-02-15T13:39:23.565Z"
   },
   {
    "duration": 47,
    "start_time": "2023-02-15T13:39:23.626Z"
   },
   {
    "duration": 5,
    "start_time": "2023-02-15T13:39:23.675Z"
   },
   {
    "duration": 11,
    "start_time": "2023-02-15T13:39:23.681Z"
   },
   {
    "duration": 51,
    "start_time": "2023-02-15T13:39:23.694Z"
   },
   {
    "duration": 4,
    "start_time": "2023-02-15T13:39:23.747Z"
   },
   {
    "duration": 38,
    "start_time": "2023-02-15T13:39:23.753Z"
   },
   {
    "duration": 90,
    "start_time": "2023-02-15T13:39:23.793Z"
   },
   {
    "duration": 156,
    "start_time": "2023-02-15T13:39:23.886Z"
   },
   {
    "duration": 1202,
    "start_time": "2023-02-15T13:41:30.033Z"
   },
   {
    "duration": 106,
    "start_time": "2023-02-15T13:41:31.237Z"
   },
   {
    "duration": 28,
    "start_time": "2023-02-15T13:41:31.345Z"
   },
   {
    "duration": 15,
    "start_time": "2023-02-15T13:41:31.375Z"
   },
   {
    "duration": 25,
    "start_time": "2023-02-15T13:41:31.391Z"
   },
   {
    "duration": 40,
    "start_time": "2023-02-15T13:41:31.418Z"
   },
   {
    "duration": 50,
    "start_time": "2023-02-15T13:41:31.460Z"
   },
   {
    "duration": 31,
    "start_time": "2023-02-15T13:41:31.512Z"
   },
   {
    "duration": 128,
    "start_time": "2023-02-15T13:41:31.544Z"
   },
   {
    "duration": 0,
    "start_time": "2023-02-15T13:41:31.674Z"
   },
   {
    "duration": 0,
    "start_time": "2023-02-15T13:41:31.675Z"
   },
   {
    "duration": 0,
    "start_time": "2023-02-15T13:41:31.676Z"
   },
   {
    "duration": 0,
    "start_time": "2023-02-15T13:41:31.677Z"
   },
   {
    "duration": 0,
    "start_time": "2023-02-15T13:41:31.678Z"
   },
   {
    "duration": 0,
    "start_time": "2023-02-15T13:41:31.679Z"
   },
   {
    "duration": 0,
    "start_time": "2023-02-15T13:41:31.680Z"
   },
   {
    "duration": 0,
    "start_time": "2023-02-15T13:41:31.682Z"
   },
   {
    "duration": 0,
    "start_time": "2023-02-15T13:41:31.683Z"
   },
   {
    "duration": 1234,
    "start_time": "2023-02-15T13:42:56.010Z"
   },
   {
    "duration": 91,
    "start_time": "2023-02-15T13:42:57.246Z"
   },
   {
    "duration": 29,
    "start_time": "2023-02-15T13:42:57.339Z"
   },
   {
    "duration": 14,
    "start_time": "2023-02-15T13:42:57.370Z"
   },
   {
    "duration": 4,
    "start_time": "2023-02-15T13:42:57.386Z"
   },
   {
    "duration": 42,
    "start_time": "2023-02-15T13:42:57.392Z"
   },
   {
    "duration": 15,
    "start_time": "2023-02-15T13:42:57.435Z"
   },
   {
    "duration": 28,
    "start_time": "2023-02-15T13:42:57.452Z"
   },
   {
    "duration": 4,
    "start_time": "2023-02-15T13:42:57.482Z"
   },
   {
    "duration": 63,
    "start_time": "2023-02-15T13:42:57.488Z"
   },
   {
    "duration": 45,
    "start_time": "2023-02-15T13:42:57.553Z"
   },
   {
    "duration": 5,
    "start_time": "2023-02-15T13:42:57.600Z"
   },
   {
    "duration": 25,
    "start_time": "2023-02-15T13:42:57.607Z"
   },
   {
    "duration": 31,
    "start_time": "2023-02-15T13:42:57.634Z"
   },
   {
    "duration": 3,
    "start_time": "2023-02-15T13:42:57.667Z"
   },
   {
    "duration": 42,
    "start_time": "2023-02-15T13:42:57.672Z"
   },
   {
    "duration": 70,
    "start_time": "2023-02-15T13:42:57.727Z"
   },
   {
    "duration": 163,
    "start_time": "2023-02-15T13:42:57.799Z"
   },
   {
    "duration": 18,
    "start_time": "2023-02-15T13:43:29.418Z"
   },
   {
    "duration": 1211,
    "start_time": "2023-02-15T13:44:01.664Z"
   },
   {
    "duration": 94,
    "start_time": "2023-02-15T13:44:02.877Z"
   },
   {
    "duration": 27,
    "start_time": "2023-02-15T13:44:02.973Z"
   },
   {
    "duration": 15,
    "start_time": "2023-02-15T13:44:03.001Z"
   },
   {
    "duration": 4,
    "start_time": "2023-02-15T13:44:03.019Z"
   },
   {
    "duration": 23,
    "start_time": "2023-02-15T13:44:03.024Z"
   },
   {
    "duration": 15,
    "start_time": "2023-02-15T13:44:03.049Z"
   },
   {
    "duration": 28,
    "start_time": "2023-02-15T13:44:03.066Z"
   },
   {
    "duration": 122,
    "start_time": "2023-02-15T13:44:03.096Z"
   },
   {
    "duration": 0,
    "start_time": "2023-02-15T13:44:03.219Z"
   },
   {
    "duration": 0,
    "start_time": "2023-02-15T13:44:03.220Z"
   },
   {
    "duration": 0,
    "start_time": "2023-02-15T13:44:03.227Z"
   },
   {
    "duration": 0,
    "start_time": "2023-02-15T13:44:03.228Z"
   },
   {
    "duration": 0,
    "start_time": "2023-02-15T13:44:03.229Z"
   },
   {
    "duration": 0,
    "start_time": "2023-02-15T13:44:03.230Z"
   },
   {
    "duration": 0,
    "start_time": "2023-02-15T13:44:03.231Z"
   },
   {
    "duration": 0,
    "start_time": "2023-02-15T13:44:03.232Z"
   },
   {
    "duration": 0,
    "start_time": "2023-02-15T13:44:03.233Z"
   },
   {
    "duration": 0,
    "start_time": "2023-02-15T13:44:03.235Z"
   },
   {
    "duration": 3,
    "start_time": "2023-02-15T13:47:31.780Z"
   },
   {
    "duration": 1178,
    "start_time": "2023-02-15T13:47:37.642Z"
   },
   {
    "duration": 88,
    "start_time": "2023-02-15T13:47:38.822Z"
   },
   {
    "duration": 32,
    "start_time": "2023-02-15T13:47:38.912Z"
   },
   {
    "duration": 16,
    "start_time": "2023-02-15T13:47:38.946Z"
   },
   {
    "duration": 4,
    "start_time": "2023-02-15T13:47:38.965Z"
   },
   {
    "duration": 27,
    "start_time": "2023-02-15T13:47:38.972Z"
   },
   {
    "duration": 33,
    "start_time": "2023-02-15T13:47:39.001Z"
   },
   {
    "duration": 31,
    "start_time": "2023-02-15T13:47:39.035Z"
   },
   {
    "duration": 3,
    "start_time": "2023-02-15T13:47:39.068Z"
   },
   {
    "duration": 63,
    "start_time": "2023-02-15T13:47:39.073Z"
   },
   {
    "duration": 47,
    "start_time": "2023-02-15T13:47:39.138Z"
   },
   {
    "duration": 15,
    "start_time": "2023-02-15T13:47:39.186Z"
   },
   {
    "duration": 25,
    "start_time": "2023-02-15T13:47:39.202Z"
   },
   {
    "duration": 9,
    "start_time": "2023-02-15T13:47:39.231Z"
   },
   {
    "duration": 50,
    "start_time": "2023-02-15T13:47:39.242Z"
   },
   {
    "duration": 2,
    "start_time": "2023-02-15T13:47:39.294Z"
   },
   {
    "duration": 41,
    "start_time": "2023-02-15T13:47:39.298Z"
   },
   {
    "duration": 54,
    "start_time": "2023-02-15T13:47:39.341Z"
   },
   {
    "duration": 173,
    "start_time": "2023-02-15T13:47:39.396Z"
   },
   {
    "duration": 1104,
    "start_time": "2023-02-15T13:49:18.679Z"
   },
   {
    "duration": 91,
    "start_time": "2023-02-15T13:49:19.785Z"
   },
   {
    "duration": 30,
    "start_time": "2023-02-15T13:49:19.877Z"
   },
   {
    "duration": 14,
    "start_time": "2023-02-15T13:49:19.908Z"
   },
   {
    "duration": 3,
    "start_time": "2023-02-15T13:49:19.924Z"
   },
   {
    "duration": 34,
    "start_time": "2023-02-15T13:49:19.929Z"
   },
   {
    "duration": 31,
    "start_time": "2023-02-15T13:49:19.965Z"
   },
   {
    "duration": 46,
    "start_time": "2023-02-15T13:49:19.997Z"
   },
   {
    "duration": 3,
    "start_time": "2023-02-15T13:49:20.045Z"
   },
   {
    "duration": 41,
    "start_time": "2023-02-15T13:49:20.050Z"
   },
   {
    "duration": 59,
    "start_time": "2023-02-15T13:49:20.093Z"
   },
   {
    "duration": 15,
    "start_time": "2023-02-15T13:49:20.154Z"
   },
   {
    "duration": 4,
    "start_time": "2023-02-15T13:49:20.170Z"
   },
   {
    "duration": 10,
    "start_time": "2023-02-15T13:49:20.177Z"
   },
   {
    "duration": 55,
    "start_time": "2023-02-15T13:49:20.188Z"
   },
   {
    "duration": 3,
    "start_time": "2023-02-15T13:49:20.245Z"
   },
   {
    "duration": 39,
    "start_time": "2023-02-15T13:49:20.249Z"
   },
   {
    "duration": 75,
    "start_time": "2023-02-15T13:49:20.290Z"
   },
   {
    "duration": 206,
    "start_time": "2023-02-15T13:49:20.367Z"
   },
   {
    "duration": 1230,
    "start_time": "2023-02-15T13:57:21.513Z"
   },
   {
    "duration": 91,
    "start_time": "2023-02-15T13:57:22.745Z"
   },
   {
    "duration": 26,
    "start_time": "2023-02-15T13:57:22.838Z"
   },
   {
    "duration": 13,
    "start_time": "2023-02-15T13:57:22.865Z"
   },
   {
    "duration": 3,
    "start_time": "2023-02-15T13:57:22.880Z"
   },
   {
    "duration": 24,
    "start_time": "2023-02-15T13:57:22.885Z"
   },
   {
    "duration": 38,
    "start_time": "2023-02-15T13:57:22.911Z"
   },
   {
    "duration": 28,
    "start_time": "2023-02-15T13:57:22.950Z"
   },
   {
    "duration": 3,
    "start_time": "2023-02-15T13:57:22.979Z"
   },
   {
    "duration": 62,
    "start_time": "2023-02-15T13:57:22.983Z"
   },
   {
    "duration": 38,
    "start_time": "2023-02-15T13:57:23.047Z"
   },
   {
    "duration": 15,
    "start_time": "2023-02-15T13:57:23.087Z"
   },
   {
    "duration": 26,
    "start_time": "2023-02-15T13:57:23.103Z"
   },
   {
    "duration": 9,
    "start_time": "2023-02-15T13:57:23.132Z"
   },
   {
    "duration": 30,
    "start_time": "2023-02-15T13:57:23.143Z"
   },
   {
    "duration": 3,
    "start_time": "2023-02-15T13:57:23.174Z"
   },
   {
    "duration": 55,
    "start_time": "2023-02-15T13:57:23.178Z"
   },
   {
    "duration": 51,
    "start_time": "2023-02-15T13:57:23.234Z"
   },
   {
    "duration": 162,
    "start_time": "2023-02-15T13:57:23.287Z"
   },
   {
    "duration": 18,
    "start_time": "2023-02-15T13:59:48.672Z"
   },
   {
    "duration": 62,
    "start_time": "2023-02-15T14:00:07.282Z"
   },
   {
    "duration": 48,
    "start_time": "2023-02-15T14:00:27.563Z"
   },
   {
    "duration": 35,
    "start_time": "2023-02-15T14:05:10.598Z"
   },
   {
    "duration": 34,
    "start_time": "2023-02-15T14:06:22.550Z"
   },
   {
    "duration": 112,
    "start_time": "2023-02-15T14:06:34.587Z"
   },
   {
    "duration": 1193,
    "start_time": "2023-02-15T14:06:44.652Z"
   },
   {
    "duration": 104,
    "start_time": "2023-02-15T14:06:45.847Z"
   },
   {
    "duration": 29,
    "start_time": "2023-02-15T14:06:45.952Z"
   },
   {
    "duration": 15,
    "start_time": "2023-02-15T14:06:45.984Z"
   },
   {
    "duration": 16,
    "start_time": "2023-02-15T14:06:46.001Z"
   },
   {
    "duration": 54,
    "start_time": "2023-02-15T14:06:46.019Z"
   },
   {
    "duration": 46,
    "start_time": "2023-02-15T14:06:46.074Z"
   },
   {
    "duration": 36,
    "start_time": "2023-02-15T14:06:46.121Z"
   },
   {
    "duration": 125,
    "start_time": "2023-02-15T14:06:46.159Z"
   },
   {
    "duration": 0,
    "start_time": "2023-02-15T14:06:46.286Z"
   },
   {
    "duration": 0,
    "start_time": "2023-02-15T14:06:46.287Z"
   },
   {
    "duration": 0,
    "start_time": "2023-02-15T14:06:46.289Z"
   },
   {
    "duration": 0,
    "start_time": "2023-02-15T14:06:46.290Z"
   },
   {
    "duration": 0,
    "start_time": "2023-02-15T14:06:46.292Z"
   },
   {
    "duration": 0,
    "start_time": "2023-02-15T14:06:46.293Z"
   },
   {
    "duration": 0,
    "start_time": "2023-02-15T14:06:46.295Z"
   },
   {
    "duration": 0,
    "start_time": "2023-02-15T14:06:46.296Z"
   },
   {
    "duration": 0,
    "start_time": "2023-02-15T14:06:46.297Z"
   },
   {
    "duration": 0,
    "start_time": "2023-02-15T14:06:46.299Z"
   },
   {
    "duration": 1207,
    "start_time": "2023-02-15T14:07:19.771Z"
   },
   {
    "duration": 106,
    "start_time": "2023-02-15T14:07:20.983Z"
   },
   {
    "duration": 34,
    "start_time": "2023-02-15T14:07:21.091Z"
   },
   {
    "duration": 25,
    "start_time": "2023-02-15T14:07:21.128Z"
   },
   {
    "duration": 4,
    "start_time": "2023-02-15T14:07:21.156Z"
   },
   {
    "duration": 27,
    "start_time": "2023-02-15T14:07:21.162Z"
   },
   {
    "duration": 48,
    "start_time": "2023-02-15T14:07:21.190Z"
   },
   {
    "duration": 27,
    "start_time": "2023-02-15T14:07:21.240Z"
   },
   {
    "duration": 4,
    "start_time": "2023-02-15T14:07:21.269Z"
   },
   {
    "duration": 33,
    "start_time": "2023-02-15T14:07:21.275Z"
   },
   {
    "duration": 52,
    "start_time": "2023-02-15T14:07:21.310Z"
   },
   {
    "duration": 14,
    "start_time": "2023-02-15T14:07:21.364Z"
   },
   {
    "duration": 11,
    "start_time": "2023-02-15T14:07:21.380Z"
   },
   {
    "duration": 18,
    "start_time": "2023-02-15T14:07:21.394Z"
   },
   {
    "duration": 40,
    "start_time": "2023-02-15T14:07:21.414Z"
   },
   {
    "duration": 4,
    "start_time": "2023-02-15T14:07:21.456Z"
   },
   {
    "duration": 34,
    "start_time": "2023-02-15T14:07:21.461Z"
   },
   {
    "duration": 86,
    "start_time": "2023-02-15T14:07:21.497Z"
   },
   {
    "duration": 188,
    "start_time": "2023-02-15T14:07:21.585Z"
   },
   {
    "duration": 52,
    "start_time": "2023-02-15T14:08:34.747Z"
   },
   {
    "duration": 82,
    "start_time": "2023-02-15T14:11:54.359Z"
   },
   {
    "duration": 47,
    "start_time": "2023-02-15T14:12:16.325Z"
   },
   {
    "duration": 1171,
    "start_time": "2023-02-15T14:12:26.543Z"
   },
   {
    "duration": 105,
    "start_time": "2023-02-15T14:12:27.716Z"
   },
   {
    "duration": 47,
    "start_time": "2023-02-15T14:12:27.826Z"
   },
   {
    "duration": 21,
    "start_time": "2023-02-15T14:12:27.876Z"
   },
   {
    "duration": 4,
    "start_time": "2023-02-15T14:12:27.899Z"
   },
   {
    "duration": 49,
    "start_time": "2023-02-15T14:12:27.905Z"
   },
   {
    "duration": 29,
    "start_time": "2023-02-15T14:12:27.955Z"
   },
   {
    "duration": 45,
    "start_time": "2023-02-15T14:12:27.985Z"
   },
   {
    "duration": 7,
    "start_time": "2023-02-15T14:12:28.035Z"
   },
   {
    "duration": 35,
    "start_time": "2023-02-15T14:12:28.043Z"
   },
   {
    "duration": 37,
    "start_time": "2023-02-15T14:12:28.080Z"
   },
   {
    "duration": 23,
    "start_time": "2023-02-15T14:12:28.128Z"
   },
   {
    "duration": 4,
    "start_time": "2023-02-15T14:12:28.153Z"
   },
   {
    "duration": 17,
    "start_time": "2023-02-15T14:12:28.159Z"
   },
   {
    "duration": 31,
    "start_time": "2023-02-15T14:12:28.178Z"
   },
   {
    "duration": 3,
    "start_time": "2023-02-15T14:12:28.211Z"
   },
   {
    "duration": 34,
    "start_time": "2023-02-15T14:12:28.232Z"
   },
   {
    "duration": 86,
    "start_time": "2023-02-15T14:12:28.268Z"
   },
   {
    "duration": 0,
    "start_time": "2023-02-15T14:12:28.356Z"
   },
   {
    "duration": 0,
    "start_time": "2023-02-15T14:12:28.357Z"
   },
   {
    "duration": 59,
    "start_time": "2023-02-15T14:12:45.687Z"
   },
   {
    "duration": 176,
    "start_time": "2023-02-15T14:13:05.391Z"
   },
   {
    "duration": 132,
    "start_time": "2023-02-15T14:13:23.644Z"
   },
   {
    "duration": 9,
    "start_time": "2023-02-15T14:14:18.616Z"
   },
   {
    "duration": 121,
    "start_time": "2023-02-15T14:18:49.192Z"
   },
   {
    "duration": 130,
    "start_time": "2023-02-15T14:18:59.674Z"
   },
   {
    "duration": 117,
    "start_time": "2023-02-15T14:19:08.104Z"
   },
   {
    "duration": 125,
    "start_time": "2023-02-15T14:19:13.283Z"
   },
   {
    "duration": 122,
    "start_time": "2023-02-15T14:19:19.157Z"
   },
   {
    "duration": 71,
    "start_time": "2023-02-15T14:19:54.315Z"
   },
   {
    "duration": 72,
    "start_time": "2023-02-15T14:22:57.118Z"
   },
   {
    "duration": 60,
    "start_time": "2023-02-15T14:23:14.239Z"
   },
   {
    "duration": 10,
    "start_time": "2023-02-15T14:27:09.518Z"
   },
   {
    "duration": 10,
    "start_time": "2023-02-15T14:27:12.648Z"
   },
   {
    "duration": 50,
    "start_time": "2023-02-15T14:27:22.974Z"
   },
   {
    "duration": 47,
    "start_time": "2023-02-15T14:28:04.104Z"
   },
   {
    "duration": 51,
    "start_time": "2023-02-15T14:28:27.011Z"
   },
   {
    "duration": 4,
    "start_time": "2023-02-15T14:29:39.368Z"
   },
   {
    "duration": 4,
    "start_time": "2023-02-15T14:30:13.770Z"
   },
   {
    "duration": 4,
    "start_time": "2023-02-15T14:30:27.427Z"
   },
   {
    "duration": 4,
    "start_time": "2023-02-15T14:30:39.860Z"
   },
   {
    "duration": 8,
    "start_time": "2023-02-15T14:30:53.485Z"
   },
   {
    "duration": 10,
    "start_time": "2023-02-15T14:33:30.008Z"
   },
   {
    "duration": 95,
    "start_time": "2023-02-15T14:34:28.220Z"
   },
   {
    "duration": 10,
    "start_time": "2023-02-15T14:34:41.180Z"
   },
   {
    "duration": 8,
    "start_time": "2023-02-15T14:36:46.888Z"
   },
   {
    "duration": 10,
    "start_time": "2023-02-15T14:37:05.868Z"
   },
   {
    "duration": 7,
    "start_time": "2023-02-15T14:37:13.988Z"
   },
   {
    "duration": 10,
    "start_time": "2023-02-15T14:37:16.220Z"
   },
   {
    "duration": 6,
    "start_time": "2023-02-15T14:38:41.649Z"
   },
   {
    "duration": 121,
    "start_time": "2023-02-15T15:26:49.616Z"
   },
   {
    "duration": 173,
    "start_time": "2023-02-15T15:27:15.357Z"
   },
   {
    "duration": 110,
    "start_time": "2023-02-15T15:27:31.937Z"
   },
   {
    "duration": 1145,
    "start_time": "2023-02-15T15:27:47.834Z"
   },
   {
    "duration": 90,
    "start_time": "2023-02-15T15:27:48.981Z"
   },
   {
    "duration": 31,
    "start_time": "2023-02-15T15:27:49.073Z"
   },
   {
    "duration": 15,
    "start_time": "2023-02-15T15:27:49.105Z"
   },
   {
    "duration": 5,
    "start_time": "2023-02-15T15:27:49.123Z"
   },
   {
    "duration": 29,
    "start_time": "2023-02-15T15:27:49.130Z"
   },
   {
    "duration": 30,
    "start_time": "2023-02-15T15:27:49.161Z"
   },
   {
    "duration": 43,
    "start_time": "2023-02-15T15:27:49.193Z"
   },
   {
    "duration": 5,
    "start_time": "2023-02-15T15:27:49.238Z"
   },
   {
    "duration": 38,
    "start_time": "2023-02-15T15:27:49.244Z"
   },
   {
    "duration": 53,
    "start_time": "2023-02-15T15:27:49.283Z"
   },
   {
    "duration": 14,
    "start_time": "2023-02-15T15:27:49.338Z"
   },
   {
    "duration": 4,
    "start_time": "2023-02-15T15:27:49.353Z"
   },
   {
    "duration": 8,
    "start_time": "2023-02-15T15:27:49.360Z"
   },
   {
    "duration": 28,
    "start_time": "2023-02-15T15:27:49.369Z"
   },
   {
    "duration": 29,
    "start_time": "2023-02-15T15:27:49.399Z"
   },
   {
    "duration": 31,
    "start_time": "2023-02-15T15:27:49.429Z"
   },
   {
    "duration": 46,
    "start_time": "2023-02-15T15:27:49.462Z"
   },
   {
    "duration": 130,
    "start_time": "2023-02-15T15:27:49.528Z"
   },
   {
    "duration": 10,
    "start_time": "2023-02-15T15:27:49.660Z"
   },
   {
    "duration": 10,
    "start_time": "2023-02-15T15:27:49.672Z"
   },
   {
    "duration": 10,
    "start_time": "2023-02-15T15:27:49.684Z"
   },
   {
    "duration": 36,
    "start_time": "2023-02-15T15:27:49.696Z"
   },
   {
    "duration": 7,
    "start_time": "2023-02-15T15:27:49.734Z"
   },
   {
    "duration": 136,
    "start_time": "2023-02-15T15:28:06.712Z"
   },
   {
    "duration": 1225,
    "start_time": "2023-02-15T15:28:18.817Z"
   },
   {
    "duration": 92,
    "start_time": "2023-02-15T15:28:20.044Z"
   },
   {
    "duration": 28,
    "start_time": "2023-02-15T15:28:20.138Z"
   },
   {
    "duration": 16,
    "start_time": "2023-02-15T15:28:20.167Z"
   },
   {
    "duration": 3,
    "start_time": "2023-02-15T15:28:20.185Z"
   },
   {
    "duration": 37,
    "start_time": "2023-02-15T15:28:20.190Z"
   },
   {
    "duration": 29,
    "start_time": "2023-02-15T15:28:20.229Z"
   },
   {
    "duration": 25,
    "start_time": "2023-02-15T15:28:20.260Z"
   },
   {
    "duration": 21,
    "start_time": "2023-02-15T15:28:20.287Z"
   },
   {
    "duration": 68,
    "start_time": "2023-02-15T15:28:20.310Z"
   },
   {
    "duration": 53,
    "start_time": "2023-02-15T15:28:20.382Z"
   },
   {
    "duration": 19,
    "start_time": "2023-02-15T15:28:20.438Z"
   },
   {
    "duration": 5,
    "start_time": "2023-02-15T15:28:20.460Z"
   },
   {
    "duration": 38,
    "start_time": "2023-02-15T15:28:20.469Z"
   },
   {
    "duration": 36,
    "start_time": "2023-02-15T15:28:20.510Z"
   },
   {
    "duration": 11,
    "start_time": "2023-02-15T15:28:20.548Z"
   },
   {
    "duration": 49,
    "start_time": "2023-02-15T15:28:20.561Z"
   },
   {
    "duration": 69,
    "start_time": "2023-02-15T15:28:20.612Z"
   },
   {
    "duration": 120,
    "start_time": "2023-02-15T15:28:20.683Z"
   },
   {
    "duration": 9,
    "start_time": "2023-02-15T15:28:20.804Z"
   },
   {
    "duration": 11,
    "start_time": "2023-02-15T15:28:20.827Z"
   },
   {
    "duration": 11,
    "start_time": "2023-02-15T15:28:20.840Z"
   },
   {
    "duration": 9,
    "start_time": "2023-02-15T15:28:20.852Z"
   },
   {
    "duration": 13,
    "start_time": "2023-02-15T15:28:20.863Z"
   },
   {
    "duration": 1153,
    "start_time": "2023-02-15T15:28:52.172Z"
   },
   {
    "duration": 100,
    "start_time": "2023-02-15T15:28:53.328Z"
   },
   {
    "duration": 31,
    "start_time": "2023-02-15T15:28:53.429Z"
   },
   {
    "duration": 15,
    "start_time": "2023-02-15T15:28:53.462Z"
   },
   {
    "duration": 3,
    "start_time": "2023-02-15T15:28:53.479Z"
   },
   {
    "duration": 44,
    "start_time": "2023-02-15T15:28:53.484Z"
   },
   {
    "duration": 30,
    "start_time": "2023-02-15T15:28:53.529Z"
   },
   {
    "duration": 25,
    "start_time": "2023-02-15T15:28:53.560Z"
   },
   {
    "duration": 4,
    "start_time": "2023-02-15T15:28:53.587Z"
   },
   {
    "duration": 62,
    "start_time": "2023-02-15T15:28:53.594Z"
   },
   {
    "duration": 35,
    "start_time": "2023-02-15T15:28:53.658Z"
   },
   {
    "duration": 14,
    "start_time": "2023-02-15T15:28:53.695Z"
   },
   {
    "duration": 3,
    "start_time": "2023-02-15T15:28:53.728Z"
   },
   {
    "duration": 12,
    "start_time": "2023-02-15T15:28:53.732Z"
   },
   {
    "duration": 44,
    "start_time": "2023-02-15T15:28:53.746Z"
   },
   {
    "duration": 3,
    "start_time": "2023-02-15T15:28:53.792Z"
   },
   {
    "duration": 52,
    "start_time": "2023-02-15T15:28:53.797Z"
   },
   {
    "duration": 46,
    "start_time": "2023-02-15T15:28:53.851Z"
   },
   {
    "duration": 106,
    "start_time": "2023-02-15T15:28:53.898Z"
   },
   {
    "duration": 0,
    "start_time": "2023-02-15T15:28:54.006Z"
   },
   {
    "duration": 0,
    "start_time": "2023-02-15T15:28:54.007Z"
   },
   {
    "duration": 0,
    "start_time": "2023-02-15T15:28:54.008Z"
   },
   {
    "duration": 0,
    "start_time": "2023-02-15T15:28:54.009Z"
   },
   {
    "duration": 0,
    "start_time": "2023-02-15T15:28:54.010Z"
   },
   {
    "duration": 131,
    "start_time": "2023-02-15T15:32:51.626Z"
   },
   {
    "duration": 120,
    "start_time": "2023-02-15T15:33:13.666Z"
   },
   {
    "duration": 114,
    "start_time": "2023-02-15T15:33:23.239Z"
   },
   {
    "duration": 111,
    "start_time": "2023-02-15T15:33:27.685Z"
   },
   {
    "duration": 34,
    "start_time": "2023-02-15T15:33:31.282Z"
   },
   {
    "duration": 120,
    "start_time": "2023-02-15T15:34:19.867Z"
   },
   {
    "duration": 115,
    "start_time": "2023-02-15T15:34:48.882Z"
   },
   {
    "duration": 124,
    "start_time": "2023-02-15T15:35:01.004Z"
   },
   {
    "duration": 9,
    "start_time": "2023-02-15T15:35:15.939Z"
   },
   {
    "duration": 31,
    "start_time": "2023-02-15T15:42:40.037Z"
   },
   {
    "duration": 1128,
    "start_time": "2023-02-15T15:44:04.719Z"
   },
   {
    "duration": 88,
    "start_time": "2023-02-15T15:44:05.849Z"
   },
   {
    "duration": 27,
    "start_time": "2023-02-15T15:44:05.939Z"
   },
   {
    "duration": 13,
    "start_time": "2023-02-15T15:44:05.968Z"
   },
   {
    "duration": 26,
    "start_time": "2023-02-15T15:44:05.983Z"
   },
   {
    "duration": 28,
    "start_time": "2023-02-15T15:44:06.010Z"
   },
   {
    "duration": 31,
    "start_time": "2023-02-15T15:44:06.040Z"
   },
   {
    "duration": 25,
    "start_time": "2023-02-15T15:44:06.073Z"
   },
   {
    "duration": 4,
    "start_time": "2023-02-15T15:44:06.100Z"
   },
   {
    "duration": 30,
    "start_time": "2023-02-15T15:44:06.128Z"
   },
   {
    "duration": 34,
    "start_time": "2023-02-15T15:44:06.159Z"
   },
   {
    "duration": 36,
    "start_time": "2023-02-15T15:44:06.195Z"
   },
   {
    "duration": 5,
    "start_time": "2023-02-15T15:44:06.233Z"
   },
   {
    "duration": 10,
    "start_time": "2023-02-15T15:44:06.240Z"
   },
   {
    "duration": 28,
    "start_time": "2023-02-15T15:44:06.252Z"
   },
   {
    "duration": 3,
    "start_time": "2023-02-15T15:44:06.281Z"
   },
   {
    "duration": 60,
    "start_time": "2023-02-15T15:44:06.285Z"
   },
   {
    "duration": 61,
    "start_time": "2023-02-15T15:44:06.347Z"
   },
   {
    "duration": 33848,
    "start_time": "2023-02-15T15:44:06.410Z"
   },
   {
    "duration": 121,
    "start_time": "2023-02-15T15:44:40.260Z"
   },
   {
    "duration": 0,
    "start_time": "2023-02-15T15:44:40.383Z"
   },
   {
    "duration": 0,
    "start_time": "2023-02-15T15:44:40.385Z"
   },
   {
    "duration": 0,
    "start_time": "2023-02-15T15:44:40.387Z"
   },
   {
    "duration": 0,
    "start_time": "2023-02-15T15:44:40.389Z"
   },
   {
    "duration": 0,
    "start_time": "2023-02-15T15:44:40.390Z"
   },
   {
    "duration": 0,
    "start_time": "2023-02-15T15:44:40.391Z"
   },
   {
    "duration": 28,
    "start_time": "2023-02-15T15:44:56.860Z"
   },
   {
    "duration": 30,
    "start_time": "2023-02-15T15:45:39.851Z"
   },
   {
    "duration": 22,
    "start_time": "2023-02-15T15:47:33.390Z"
   },
   {
    "duration": 30,
    "start_time": "2023-02-15T15:48:04.040Z"
   },
   {
    "duration": 28,
    "start_time": "2023-02-15T15:50:55.283Z"
   },
   {
    "duration": 7254,
    "start_time": "2023-02-15T15:51:02.854Z"
   },
   {
    "duration": 41,
    "start_time": "2023-02-15T15:51:37.133Z"
   },
   {
    "duration": 60,
    "start_time": "2023-02-15T15:52:22.635Z"
   },
   {
    "duration": 40,
    "start_time": "2023-02-15T15:53:05.630Z"
   },
   {
    "duration": 39,
    "start_time": "2023-02-15T16:10:23.856Z"
   },
   {
    "duration": 42,
    "start_time": "2023-02-15T16:10:36.954Z"
   },
   {
    "duration": 41,
    "start_time": "2023-02-15T16:10:45.449Z"
   },
   {
    "duration": 44,
    "start_time": "2023-02-15T16:10:58.879Z"
   },
   {
    "duration": 41,
    "start_time": "2023-02-15T16:11:54.711Z"
   },
   {
    "duration": 42,
    "start_time": "2023-02-15T16:12:40.927Z"
   },
   {
    "duration": 47,
    "start_time": "2023-02-15T16:18:40.110Z"
   },
   {
    "duration": 48,
    "start_time": "2023-02-15T16:19:06.338Z"
   },
   {
    "duration": 44,
    "start_time": "2023-02-15T16:19:41.983Z"
   },
   {
    "duration": 50,
    "start_time": "2023-02-15T16:20:52.863Z"
   },
   {
    "duration": 137,
    "start_time": "2023-02-15T16:25:00.896Z"
   },
   {
    "duration": 3,
    "start_time": "2023-02-15T16:30:33.879Z"
   },
   {
    "duration": 1270,
    "start_time": "2023-02-15T16:30:42.901Z"
   },
   {
    "duration": 90,
    "start_time": "2023-02-15T16:30:44.173Z"
   },
   {
    "duration": 29,
    "start_time": "2023-02-15T16:30:44.264Z"
   },
   {
    "duration": 12,
    "start_time": "2023-02-15T16:30:44.295Z"
   },
   {
    "duration": 3,
    "start_time": "2023-02-15T16:30:44.309Z"
   },
   {
    "duration": 24,
    "start_time": "2023-02-15T16:30:44.313Z"
   },
   {
    "duration": 30,
    "start_time": "2023-02-15T16:30:44.339Z"
   },
   {
    "duration": 69,
    "start_time": "2023-02-15T16:30:44.372Z"
   },
   {
    "duration": 4,
    "start_time": "2023-02-15T16:30:44.443Z"
   },
   {
    "duration": 32,
    "start_time": "2023-02-15T16:30:44.449Z"
   },
   {
    "duration": 60,
    "start_time": "2023-02-15T16:30:44.483Z"
   },
   {
    "duration": 13,
    "start_time": "2023-02-15T16:30:44.545Z"
   },
   {
    "duration": 3,
    "start_time": "2023-02-15T16:30:44.560Z"
   },
   {
    "duration": 9,
    "start_time": "2023-02-15T16:30:44.565Z"
   },
   {
    "duration": 76,
    "start_time": "2023-02-15T16:30:44.575Z"
   },
   {
    "duration": 3,
    "start_time": "2023-02-15T16:30:44.653Z"
   },
   {
    "duration": 52,
    "start_time": "2023-02-15T16:30:44.658Z"
   },
   {
    "duration": 49,
    "start_time": "2023-02-15T16:30:44.711Z"
   },
   {
    "duration": 131,
    "start_time": "2023-02-15T16:30:44.761Z"
   },
   {
    "duration": 10,
    "start_time": "2023-02-15T16:30:44.893Z"
   },
   {
    "duration": 10,
    "start_time": "2023-02-15T16:30:44.927Z"
   },
   {
    "duration": 10,
    "start_time": "2023-02-15T16:30:44.939Z"
   },
   {
    "duration": 9,
    "start_time": "2023-02-15T16:30:44.951Z"
   },
   {
    "duration": 7,
    "start_time": "2023-02-15T16:30:44.961Z"
   },
   {
    "duration": 71,
    "start_time": "2023-02-15T16:30:44.970Z"
   },
   {
    "duration": 4,
    "start_time": "2023-02-15T16:30:45.043Z"
   },
   {
    "duration": 96,
    "start_time": "2023-02-15T16:32:20.101Z"
   },
   {
    "duration": 13,
    "start_time": "2023-02-15T16:33:14.024Z"
   },
   {
    "duration": 83,
    "start_time": "2023-02-15T16:33:49.944Z"
   },
   {
    "duration": 1160,
    "start_time": "2023-02-15T16:33:58.380Z"
   },
   {
    "duration": 88,
    "start_time": "2023-02-15T16:33:59.542Z"
   },
   {
    "duration": 28,
    "start_time": "2023-02-15T16:33:59.632Z"
   },
   {
    "duration": 15,
    "start_time": "2023-02-15T16:33:59.661Z"
   },
   {
    "duration": 4,
    "start_time": "2023-02-15T16:33:59.678Z"
   },
   {
    "duration": 46,
    "start_time": "2023-02-15T16:33:59.683Z"
   },
   {
    "duration": 29,
    "start_time": "2023-02-15T16:33:59.731Z"
   },
   {
    "duration": 26,
    "start_time": "2023-02-15T16:33:59.761Z"
   },
   {
    "duration": 4,
    "start_time": "2023-02-15T16:33:59.788Z"
   },
   {
    "duration": 53,
    "start_time": "2023-02-15T16:33:59.794Z"
   },
   {
    "duration": 34,
    "start_time": "2023-02-15T16:33:59.849Z"
   },
   {
    "duration": 14,
    "start_time": "2023-02-15T16:33:59.885Z"
   },
   {
    "duration": 26,
    "start_time": "2023-02-15T16:33:59.901Z"
   },
   {
    "duration": 8,
    "start_time": "2023-02-15T16:33:59.929Z"
   },
   {
    "duration": 32,
    "start_time": "2023-02-15T16:33:59.938Z"
   },
   {
    "duration": 3,
    "start_time": "2023-02-15T16:33:59.971Z"
   },
   {
    "duration": 53,
    "start_time": "2023-02-15T16:33:59.975Z"
   },
   {
    "duration": 48,
    "start_time": "2023-02-15T16:34:00.030Z"
   },
   {
    "duration": 131,
    "start_time": "2023-02-15T16:34:00.080Z"
   },
   {
    "duration": 15,
    "start_time": "2023-02-15T16:34:00.213Z"
   },
   {
    "duration": 9,
    "start_time": "2023-02-15T16:34:00.230Z"
   },
   {
    "duration": 14,
    "start_time": "2023-02-15T16:34:00.240Z"
   },
   {
    "duration": 10,
    "start_time": "2023-02-15T16:34:00.256Z"
   },
   {
    "duration": 26,
    "start_time": "2023-02-15T16:34:00.267Z"
   },
   {
    "duration": 58,
    "start_time": "2023-02-15T16:34:00.295Z"
   },
   {
    "duration": 4,
    "start_time": "2023-02-15T16:34:00.357Z"
   },
   {
    "duration": 489,
    "start_time": "2023-02-15T16:34:00.363Z"
   },
   {
    "duration": 172,
    "start_time": "2023-02-15T16:37:16.238Z"
   },
   {
    "duration": 1440,
    "start_time": "2023-02-15T16:58:54.782Z"
   },
   {
    "duration": 1495,
    "start_time": "2023-02-15T16:59:58.814Z"
   },
   {
    "duration": 268,
    "start_time": "2023-02-15T17:00:03.094Z"
   },
   {
    "duration": 266,
    "start_time": "2023-02-15T17:00:26.447Z"
   },
   {
    "duration": 246,
    "start_time": "2023-02-15T17:01:12.183Z"
   },
   {
    "duration": 187,
    "start_time": "2023-02-15T17:01:39.145Z"
   },
   {
    "duration": 165,
    "start_time": "2023-02-15T17:01:47.178Z"
   },
   {
    "duration": 163,
    "start_time": "2023-02-15T17:01:56.604Z"
   },
   {
    "duration": 365,
    "start_time": "2023-02-15T17:02:13.276Z"
   },
   {
    "duration": 170,
    "start_time": "2023-02-15T17:02:27.270Z"
   },
   {
    "duration": 1241,
    "start_time": "2023-02-15T18:11:04.591Z"
   },
   {
    "duration": 91,
    "start_time": "2023-02-15T18:11:05.833Z"
   },
   {
    "duration": 28,
    "start_time": "2023-02-15T18:11:05.925Z"
   },
   {
    "duration": 13,
    "start_time": "2023-02-15T18:11:05.955Z"
   },
   {
    "duration": 4,
    "start_time": "2023-02-15T18:11:05.970Z"
   },
   {
    "duration": 22,
    "start_time": "2023-02-15T18:11:05.975Z"
   },
   {
    "duration": 50,
    "start_time": "2023-02-15T18:11:05.999Z"
   },
   {
    "duration": 25,
    "start_time": "2023-02-15T18:11:06.051Z"
   },
   {
    "duration": 4,
    "start_time": "2023-02-15T18:11:06.078Z"
   },
   {
    "duration": 50,
    "start_time": "2023-02-15T18:11:06.085Z"
   },
   {
    "duration": 33,
    "start_time": "2023-02-15T18:11:06.137Z"
   },
   {
    "duration": 13,
    "start_time": "2023-02-15T18:11:06.172Z"
   },
   {
    "duration": 3,
    "start_time": "2023-02-15T18:11:06.187Z"
   },
   {
    "duration": 10,
    "start_time": "2023-02-15T18:11:06.191Z"
   },
   {
    "duration": 26,
    "start_time": "2023-02-15T18:11:06.226Z"
   },
   {
    "duration": 3,
    "start_time": "2023-02-15T18:11:06.254Z"
   },
   {
    "duration": 29,
    "start_time": "2023-02-15T18:11:06.259Z"
   },
   {
    "duration": 78,
    "start_time": "2023-02-15T18:11:06.289Z"
   },
   {
    "duration": 140,
    "start_time": "2023-02-15T18:11:06.369Z"
   },
   {
    "duration": 17,
    "start_time": "2023-02-15T18:11:06.511Z"
   },
   {
    "duration": 9,
    "start_time": "2023-02-15T18:11:06.529Z"
   },
   {
    "duration": 10,
    "start_time": "2023-02-15T18:11:06.539Z"
   },
   {
    "duration": 8,
    "start_time": "2023-02-15T18:11:06.551Z"
   },
   {
    "duration": 6,
    "start_time": "2023-02-15T18:11:06.561Z"
   },
   {
    "duration": 66,
    "start_time": "2023-02-15T18:11:06.568Z"
   },
   {
    "duration": 171,
    "start_time": "2023-02-15T18:11:06.636Z"
   },
   {
    "duration": 9,
    "start_time": "2023-02-15T18:42:49.303Z"
   },
   {
    "duration": 1221,
    "start_time": "2023-02-15T18:43:18.817Z"
   },
   {
    "duration": 100,
    "start_time": "2023-02-15T18:43:20.040Z"
   },
   {
    "duration": 27,
    "start_time": "2023-02-15T18:43:20.142Z"
   },
   {
    "duration": 14,
    "start_time": "2023-02-15T18:43:20.171Z"
   },
   {
    "duration": 3,
    "start_time": "2023-02-15T18:43:20.187Z"
   },
   {
    "duration": 35,
    "start_time": "2023-02-15T18:43:20.192Z"
   },
   {
    "duration": 29,
    "start_time": "2023-02-15T18:43:20.229Z"
   },
   {
    "duration": 27,
    "start_time": "2023-02-15T18:43:20.260Z"
   },
   {
    "duration": 4,
    "start_time": "2023-02-15T18:43:20.288Z"
   },
   {
    "duration": 59,
    "start_time": "2023-02-15T18:43:20.294Z"
   },
   {
    "duration": 36,
    "start_time": "2023-02-15T18:43:20.355Z"
   },
   {
    "duration": 38,
    "start_time": "2023-02-15T18:43:20.392Z"
   },
   {
    "duration": 10,
    "start_time": "2023-02-15T18:43:20.432Z"
   },
   {
    "duration": 11,
    "start_time": "2023-02-15T18:43:20.446Z"
   },
   {
    "duration": 40,
    "start_time": "2023-02-15T18:43:20.459Z"
   },
   {
    "duration": 4,
    "start_time": "2023-02-15T18:43:20.501Z"
   },
   {
    "duration": 54,
    "start_time": "2023-02-15T18:43:20.506Z"
   },
   {
    "duration": 76,
    "start_time": "2023-02-15T18:43:20.563Z"
   },
   {
    "duration": 146,
    "start_time": "2023-02-15T18:43:20.641Z"
   },
   {
    "duration": 2,
    "start_time": "2023-02-15T18:43:20.789Z"
   },
   {
    "duration": 8,
    "start_time": "2023-02-15T18:43:20.793Z"
   },
   {
    "duration": 12,
    "start_time": "2023-02-15T18:43:20.802Z"
   },
   {
    "duration": 13,
    "start_time": "2023-02-15T18:43:20.827Z"
   },
   {
    "duration": 9,
    "start_time": "2023-02-15T18:43:20.842Z"
   },
   {
    "duration": 7,
    "start_time": "2023-02-15T18:43:20.852Z"
   },
   {
    "duration": 40,
    "start_time": "2023-02-15T18:43:20.861Z"
   },
   {
    "duration": 182,
    "start_time": "2023-02-15T18:43:20.927Z"
   },
   {
    "duration": 4,
    "start_time": "2023-02-15T18:49:31.326Z"
   },
   {
    "duration": 4,
    "start_time": "2023-02-15T18:49:45.638Z"
   },
   {
    "duration": 31,
    "start_time": "2023-02-15T18:52:26.254Z"
   },
   {
    "duration": 8,
    "start_time": "2023-02-15T19:02:09.073Z"
   },
   {
    "duration": 1265,
    "start_time": "2023-02-15T19:02:21.153Z"
   },
   {
    "duration": 103,
    "start_time": "2023-02-15T19:02:22.420Z"
   },
   {
    "duration": 54,
    "start_time": "2023-02-15T19:02:22.524Z"
   },
   {
    "duration": 16,
    "start_time": "2023-02-15T19:02:22.581Z"
   },
   {
    "duration": 3,
    "start_time": "2023-02-15T19:02:22.599Z"
   },
   {
    "duration": 49,
    "start_time": "2023-02-15T19:02:22.604Z"
   },
   {
    "duration": 34,
    "start_time": "2023-02-15T19:02:22.655Z"
   },
   {
    "duration": 42,
    "start_time": "2023-02-15T19:02:22.691Z"
   },
   {
    "duration": 8,
    "start_time": "2023-02-15T19:02:22.736Z"
   },
   {
    "duration": 47,
    "start_time": "2023-02-15T19:02:22.748Z"
   },
   {
    "duration": 34,
    "start_time": "2023-02-15T19:02:22.796Z"
   },
   {
    "duration": 19,
    "start_time": "2023-02-15T19:02:22.833Z"
   },
   {
    "duration": 11,
    "start_time": "2023-02-15T19:02:22.854Z"
   },
   {
    "duration": 9,
    "start_time": "2023-02-15T19:02:22.867Z"
   },
   {
    "duration": 25,
    "start_time": "2023-02-15T19:02:22.877Z"
   },
   {
    "duration": 3,
    "start_time": "2023-02-15T19:02:22.904Z"
   },
   {
    "duration": 71,
    "start_time": "2023-02-15T19:02:22.908Z"
   },
   {
    "duration": 79,
    "start_time": "2023-02-15T19:02:22.981Z"
   },
   {
    "duration": 0,
    "start_time": "2023-02-15T19:02:23.062Z"
   },
   {
    "duration": 0,
    "start_time": "2023-02-15T19:02:23.063Z"
   },
   {
    "duration": 0,
    "start_time": "2023-02-15T19:02:23.064Z"
   },
   {
    "duration": 0,
    "start_time": "2023-02-15T19:02:23.067Z"
   },
   {
    "duration": 0,
    "start_time": "2023-02-15T19:02:23.068Z"
   },
   {
    "duration": 0,
    "start_time": "2023-02-15T19:02:23.069Z"
   },
   {
    "duration": 0,
    "start_time": "2023-02-15T19:02:23.071Z"
   },
   {
    "duration": 0,
    "start_time": "2023-02-15T19:02:23.071Z"
   },
   {
    "duration": 0,
    "start_time": "2023-02-15T19:02:23.073Z"
   },
   {
    "duration": 0,
    "start_time": "2023-02-15T19:02:23.074Z"
   },
   {
    "duration": 0,
    "start_time": "2023-02-15T19:02:23.074Z"
   },
   {
    "duration": 1201,
    "start_time": "2023-02-15T19:02:34.863Z"
   },
   {
    "duration": 92,
    "start_time": "2023-02-15T19:02:36.066Z"
   },
   {
    "duration": 34,
    "start_time": "2023-02-15T19:02:36.160Z"
   },
   {
    "duration": 14,
    "start_time": "2023-02-15T19:02:36.196Z"
   },
   {
    "duration": 3,
    "start_time": "2023-02-15T19:02:36.212Z"
   },
   {
    "duration": 33,
    "start_time": "2023-02-15T19:02:36.218Z"
   },
   {
    "duration": 29,
    "start_time": "2023-02-15T19:02:36.254Z"
   },
   {
    "duration": 48,
    "start_time": "2023-02-15T19:02:36.284Z"
   },
   {
    "duration": 15,
    "start_time": "2023-02-15T19:02:36.338Z"
   },
   {
    "duration": 44,
    "start_time": "2023-02-15T19:02:36.363Z"
   },
   {
    "duration": 50,
    "start_time": "2023-02-15T19:02:36.409Z"
   },
   {
    "duration": 15,
    "start_time": "2023-02-15T19:02:36.461Z"
   },
   {
    "duration": 4,
    "start_time": "2023-02-15T19:02:36.478Z"
   },
   {
    "duration": 10,
    "start_time": "2023-02-15T19:02:36.486Z"
   },
   {
    "duration": 49,
    "start_time": "2023-02-15T19:02:36.498Z"
   },
   {
    "duration": 3,
    "start_time": "2023-02-15T19:02:36.549Z"
   },
   {
    "duration": 32,
    "start_time": "2023-02-15T19:02:36.554Z"
   },
   {
    "duration": 65,
    "start_time": "2023-02-15T19:02:36.587Z"
   },
   {
    "duration": 140,
    "start_time": "2023-02-15T19:02:36.654Z"
   },
   {
    "duration": 3,
    "start_time": "2023-02-15T19:02:36.796Z"
   },
   {
    "duration": 4,
    "start_time": "2023-02-15T19:02:36.801Z"
   },
   {
    "duration": 30,
    "start_time": "2023-02-15T19:02:36.807Z"
   },
   {
    "duration": 6,
    "start_time": "2023-02-15T19:02:36.838Z"
   },
   {
    "duration": 20,
    "start_time": "2023-02-15T19:02:36.845Z"
   },
   {
    "duration": 8,
    "start_time": "2023-02-15T19:02:36.867Z"
   },
   {
    "duration": 8,
    "start_time": "2023-02-15T19:02:36.876Z"
   },
   {
    "duration": 59,
    "start_time": "2023-02-15T19:02:36.886Z"
   },
   {
    "duration": 195,
    "start_time": "2023-02-15T19:02:36.947Z"
   },
   {
    "duration": 1035,
    "start_time": "2023-02-15T19:04:41.119Z"
   },
   {
    "duration": 1294,
    "start_time": "2023-02-15T19:05:48.348Z"
   },
   {
    "duration": 101,
    "start_time": "2023-02-15T19:05:49.644Z"
   },
   {
    "duration": 34,
    "start_time": "2023-02-15T19:05:49.746Z"
   },
   {
    "duration": 15,
    "start_time": "2023-02-15T19:05:49.782Z"
   },
   {
    "duration": 3,
    "start_time": "2023-02-15T19:05:49.798Z"
   },
   {
    "duration": 46,
    "start_time": "2023-02-15T19:05:49.803Z"
   },
   {
    "duration": 28,
    "start_time": "2023-02-15T19:05:49.851Z"
   },
   {
    "duration": 26,
    "start_time": "2023-02-15T19:05:49.880Z"
   },
   {
    "duration": 4,
    "start_time": "2023-02-15T19:05:49.907Z"
   },
   {
    "duration": 38,
    "start_time": "2023-02-15T19:05:49.928Z"
   },
   {
    "duration": 36,
    "start_time": "2023-02-15T19:05:49.968Z"
   },
   {
    "duration": 21,
    "start_time": "2023-02-15T19:05:50.026Z"
   },
   {
    "duration": 4,
    "start_time": "2023-02-15T19:05:50.051Z"
   },
   {
    "duration": 11,
    "start_time": "2023-02-15T19:05:50.056Z"
   },
   {
    "duration": 33,
    "start_time": "2023-02-15T19:05:50.068Z"
   },
   {
    "duration": 25,
    "start_time": "2023-02-15T19:05:50.103Z"
   },
   {
    "duration": 35,
    "start_time": "2023-02-15T19:05:50.133Z"
   },
   {
    "duration": 62,
    "start_time": "2023-02-15T19:05:50.170Z"
   },
   {
    "duration": 142,
    "start_time": "2023-02-15T19:05:50.234Z"
   },
   {
    "duration": 2,
    "start_time": "2023-02-15T19:05:50.378Z"
   },
   {
    "duration": 7,
    "start_time": "2023-02-15T19:05:50.382Z"
   },
   {
    "duration": 12,
    "start_time": "2023-02-15T19:05:50.391Z"
   },
   {
    "duration": 1343,
    "start_time": "2023-02-15T19:05:50.405Z"
   },
   {
    "duration": 0,
    "start_time": "2023-02-15T19:05:51.750Z"
   },
   {
    "duration": 0,
    "start_time": "2023-02-15T19:05:51.751Z"
   },
   {
    "duration": 0,
    "start_time": "2023-02-15T19:05:51.753Z"
   },
   {
    "duration": 0,
    "start_time": "2023-02-15T19:05:51.754Z"
   },
   {
    "duration": 0,
    "start_time": "2023-02-15T19:05:51.755Z"
   },
   {
    "duration": 1111,
    "start_time": "2023-02-15T19:06:31.744Z"
   },
   {
    "duration": 131,
    "start_time": "2023-02-15T19:07:40.486Z"
   },
   {
    "duration": 138,
    "start_time": "2023-02-15T19:08:03.502Z"
   },
   {
    "duration": 122,
    "start_time": "2023-02-15T19:08:13.344Z"
   },
   {
    "duration": 241,
    "start_time": "2023-02-15T19:09:19.056Z"
   },
   {
    "duration": 14,
    "start_time": "2023-02-15T19:10:21.391Z"
   },
   {
    "duration": 1075,
    "start_time": "2023-02-15T19:11:10.151Z"
   },
   {
    "duration": 927,
    "start_time": "2023-02-15T19:11:25.226Z"
   },
   {
    "duration": 788,
    "start_time": "2023-02-15T19:11:31.824Z"
   },
   {
    "duration": 916,
    "start_time": "2023-02-15T19:11:40.784Z"
   },
   {
    "duration": 1138,
    "start_time": "2023-02-15T19:11:49.839Z"
   },
   {
    "duration": 999,
    "start_time": "2023-02-15T19:12:00.046Z"
   },
   {
    "duration": 181,
    "start_time": "2023-02-15T19:12:47.304Z"
   },
   {
    "duration": 882,
    "start_time": "2023-02-15T19:15:03.987Z"
   },
   {
    "duration": 40,
    "start_time": "2023-02-15T19:15:41.935Z"
   },
   {
    "duration": 35,
    "start_time": "2023-02-15T19:16:24.729Z"
   },
   {
    "duration": 18,
    "start_time": "2023-02-15T19:17:09.292Z"
   },
   {
    "duration": 4,
    "start_time": "2023-02-15T19:18:04.868Z"
   },
   {
    "duration": 133,
    "start_time": "2023-02-15T19:18:14.504Z"
   },
   {
    "duration": 121,
    "start_time": "2023-02-15T19:18:34.985Z"
   },
   {
    "duration": 116,
    "start_time": "2023-02-15T19:19:03.063Z"
   },
   {
    "duration": 126,
    "start_time": "2023-02-15T19:19:30.940Z"
   },
   {
    "duration": 134,
    "start_time": "2023-02-15T19:19:48.547Z"
   },
   {
    "duration": 133,
    "start_time": "2023-02-15T19:19:59.408Z"
   },
   {
    "duration": 84,
    "start_time": "2023-02-15T19:20:46.350Z"
   },
   {
    "duration": 10,
    "start_time": "2023-02-15T19:21:22.946Z"
   },
   {
    "duration": 127,
    "start_time": "2023-02-15T19:22:51.849Z"
   },
   {
    "duration": 11,
    "start_time": "2023-02-15T20:00:43.857Z"
   },
   {
    "duration": 9,
    "start_time": "2023-02-15T20:11:46.582Z"
   },
   {
    "duration": 11,
    "start_time": "2023-02-15T20:12:20.377Z"
   },
   {
    "duration": 1181,
    "start_time": "2023-02-15T20:13:48.449Z"
   },
   {
    "duration": 94,
    "start_time": "2023-02-15T20:13:49.632Z"
   },
   {
    "duration": 35,
    "start_time": "2023-02-15T20:13:49.727Z"
   },
   {
    "duration": 15,
    "start_time": "2023-02-15T20:13:49.764Z"
   },
   {
    "duration": 5,
    "start_time": "2023-02-15T20:13:49.780Z"
   },
   {
    "duration": 51,
    "start_time": "2023-02-15T20:13:49.787Z"
   },
   {
    "duration": 29,
    "start_time": "2023-02-15T20:13:49.840Z"
   },
   {
    "duration": 26,
    "start_time": "2023-02-15T20:13:49.871Z"
   },
   {
    "duration": 5,
    "start_time": "2023-02-15T20:13:49.898Z"
   },
   {
    "duration": 33,
    "start_time": "2023-02-15T20:13:49.929Z"
   },
   {
    "duration": 36,
    "start_time": "2023-02-15T20:13:49.964Z"
   },
   {
    "duration": 16,
    "start_time": "2023-02-15T20:13:50.026Z"
   },
   {
    "duration": 4,
    "start_time": "2023-02-15T20:13:50.045Z"
   },
   {
    "duration": 36,
    "start_time": "2023-02-15T20:13:50.050Z"
   },
   {
    "duration": 27,
    "start_time": "2023-02-15T20:13:50.088Z"
   },
   {
    "duration": 3,
    "start_time": "2023-02-15T20:13:50.117Z"
   },
   {
    "duration": 29,
    "start_time": "2023-02-15T20:13:50.126Z"
   },
   {
    "duration": 52,
    "start_time": "2023-02-15T20:13:50.157Z"
   },
   {
    "duration": 8,
    "start_time": "2023-02-15T20:14:10.124Z"
   },
   {
    "duration": 322,
    "start_time": "2023-02-15T20:15:44.072Z"
   },
   {
    "duration": 818,
    "start_time": "2023-02-15T20:16:08.363Z"
   },
   {
    "duration": 1425,
    "start_time": "2023-02-15T20:16:23.956Z"
   },
   {
    "duration": 104,
    "start_time": "2023-02-15T20:18:36.579Z"
   },
   {
    "duration": 9,
    "start_time": "2023-02-15T20:22:58.383Z"
   },
   {
    "duration": 8,
    "start_time": "2023-02-15T20:23:22.050Z"
   },
   {
    "duration": 8,
    "start_time": "2023-02-15T20:23:28.597Z"
   },
   {
    "duration": 7,
    "start_time": "2023-02-15T20:23:35.962Z"
   },
   {
    "duration": 1361,
    "start_time": "2023-02-15T20:23:45.619Z"
   },
   {
    "duration": 94,
    "start_time": "2023-02-15T20:23:46.983Z"
   },
   {
    "duration": 37,
    "start_time": "2023-02-15T20:23:47.079Z"
   },
   {
    "duration": 18,
    "start_time": "2023-02-15T20:23:47.118Z"
   },
   {
    "duration": 4,
    "start_time": "2023-02-15T20:23:47.139Z"
   },
   {
    "duration": 26,
    "start_time": "2023-02-15T20:23:47.145Z"
   },
   {
    "duration": 59,
    "start_time": "2023-02-15T20:23:47.173Z"
   },
   {
    "duration": 27,
    "start_time": "2023-02-15T20:23:47.234Z"
   },
   {
    "duration": 3,
    "start_time": "2023-02-15T20:23:47.263Z"
   },
   {
    "duration": 37,
    "start_time": "2023-02-15T20:23:47.268Z"
   },
   {
    "duration": 40,
    "start_time": "2023-02-15T20:23:47.328Z"
   },
   {
    "duration": 15,
    "start_time": "2023-02-15T20:23:47.370Z"
   },
   {
    "duration": 41,
    "start_time": "2023-02-15T20:23:47.386Z"
   },
   {
    "duration": 12,
    "start_time": "2023-02-15T20:23:47.430Z"
   },
   {
    "duration": 46,
    "start_time": "2023-02-15T20:23:47.445Z"
   },
   {
    "duration": 3,
    "start_time": "2023-02-15T20:23:47.494Z"
   },
   {
    "duration": 56,
    "start_time": "2023-02-15T20:23:47.499Z"
   },
   {
    "duration": 51,
    "start_time": "2023-02-15T20:23:47.556Z"
   },
   {
    "duration": 27,
    "start_time": "2023-02-15T20:23:47.609Z"
   },
   {
    "duration": 1436,
    "start_time": "2023-02-15T20:23:47.638Z"
   },
   {
    "duration": 115,
    "start_time": "2023-02-15T20:23:49.076Z"
   },
   {
    "duration": 9,
    "start_time": "2023-02-15T20:23:49.192Z"
   },
   {
    "duration": 8,
    "start_time": "2023-02-15T20:23:49.202Z"
   },
   {
    "duration": 10,
    "start_time": "2023-02-15T20:23:49.227Z"
   },
   {
    "duration": 742,
    "start_time": "2023-02-15T20:23:49.239Z"
   },
   {
    "duration": 336,
    "start_time": "2023-02-15T20:23:49.983Z"
   },
   {
    "duration": 12,
    "start_time": "2023-02-15T20:23:50.327Z"
   },
   {
    "duration": 17,
    "start_time": "2023-02-15T20:23:50.342Z"
   },
   {
    "duration": 37,
    "start_time": "2023-02-15T20:23:50.361Z"
   },
   {
    "duration": 12,
    "start_time": "2023-02-15T20:23:50.400Z"
   },
   {
    "duration": 25,
    "start_time": "2023-02-15T20:23:50.414Z"
   },
   {
    "duration": 42,
    "start_time": "2023-02-15T20:23:50.442Z"
   },
   {
    "duration": 202,
    "start_time": "2023-02-15T20:23:50.486Z"
   },
   {
    "duration": 118,
    "start_time": "2023-02-15T20:24:11.098Z"
   },
   {
    "duration": 7,
    "start_time": "2023-02-15T20:25:08.837Z"
   },
   {
    "duration": 1173,
    "start_time": "2023-02-15T20:25:16.268Z"
   },
   {
    "duration": 88,
    "start_time": "2023-02-15T20:25:17.443Z"
   },
   {
    "duration": 32,
    "start_time": "2023-02-15T20:25:17.532Z"
   },
   {
    "duration": 13,
    "start_time": "2023-02-15T20:25:17.566Z"
   },
   {
    "duration": 4,
    "start_time": "2023-02-15T20:25:17.581Z"
   },
   {
    "duration": 43,
    "start_time": "2023-02-15T20:25:17.586Z"
   },
   {
    "duration": 29,
    "start_time": "2023-02-15T20:25:17.631Z"
   },
   {
    "duration": 24,
    "start_time": "2023-02-15T20:25:17.662Z"
   },
   {
    "duration": 3,
    "start_time": "2023-02-15T20:25:17.688Z"
   },
   {
    "duration": 62,
    "start_time": "2023-02-15T20:25:17.693Z"
   },
   {
    "duration": 37,
    "start_time": "2023-02-15T20:25:17.757Z"
   },
   {
    "duration": 14,
    "start_time": "2023-02-15T20:25:17.795Z"
   },
   {
    "duration": 4,
    "start_time": "2023-02-15T20:25:17.827Z"
   },
   {
    "duration": 8,
    "start_time": "2023-02-15T20:25:17.834Z"
   },
   {
    "duration": 26,
    "start_time": "2023-02-15T20:25:17.843Z"
   },
   {
    "duration": 4,
    "start_time": "2023-02-15T20:25:17.870Z"
   },
   {
    "duration": 56,
    "start_time": "2023-02-15T20:25:17.875Z"
   },
   {
    "duration": 46,
    "start_time": "2023-02-15T20:25:17.932Z"
   },
   {
    "duration": 8,
    "start_time": "2023-02-15T20:25:17.980Z"
   },
   {
    "duration": 1437,
    "start_time": "2023-02-15T20:25:17.990Z"
   },
   {
    "duration": 132,
    "start_time": "2023-02-15T20:25:19.429Z"
   },
   {
    "duration": 8,
    "start_time": "2023-02-15T20:25:19.563Z"
   },
   {
    "duration": 9,
    "start_time": "2023-02-15T20:25:19.572Z"
   },
   {
    "duration": 9,
    "start_time": "2023-02-15T20:25:19.582Z"
   },
   {
    "duration": 829,
    "start_time": "2023-02-15T20:25:19.593Z"
   },
   {
    "duration": 290,
    "start_time": "2023-02-15T20:25:20.426Z"
   },
   {
    "duration": 14,
    "start_time": "2023-02-15T20:25:20.717Z"
   },
   {
    "duration": 8,
    "start_time": "2023-02-15T20:25:20.733Z"
   },
   {
    "duration": 12,
    "start_time": "2023-02-15T20:25:20.743Z"
   },
   {
    "duration": 9,
    "start_time": "2023-02-15T20:25:20.756Z"
   },
   {
    "duration": 7,
    "start_time": "2023-02-15T20:25:20.767Z"
   },
   {
    "duration": 77,
    "start_time": "2023-02-15T20:25:20.775Z"
   },
   {
    "duration": 186,
    "start_time": "2023-02-15T20:25:20.854Z"
   },
   {
    "duration": 5,
    "start_time": "2023-02-15T20:29:18.835Z"
   },
   {
    "duration": 4,
    "start_time": "2023-02-15T20:29:23.115Z"
   },
   {
    "duration": 1174,
    "start_time": "2023-02-15T20:34:08.761Z"
   },
   {
    "duration": 11,
    "start_time": "2023-02-15T20:34:21.113Z"
   },
   {
    "duration": 8,
    "start_time": "2023-02-15T20:36:26.651Z"
   },
   {
    "duration": 8,
    "start_time": "2023-02-15T20:37:06.115Z"
   },
   {
    "duration": 7,
    "start_time": "2023-02-16T08:55:19.459Z"
   },
   {
    "duration": 1312,
    "start_time": "2023-02-16T08:55:28.526Z"
   },
   {
    "duration": 103,
    "start_time": "2023-02-16T08:55:29.839Z"
   },
   {
    "duration": 33,
    "start_time": "2023-02-16T08:55:29.944Z"
   },
   {
    "duration": 15,
    "start_time": "2023-02-16T08:55:29.979Z"
   },
   {
    "duration": 4,
    "start_time": "2023-02-16T08:55:29.995Z"
   },
   {
    "duration": 46,
    "start_time": "2023-02-16T08:55:30.000Z"
   },
   {
    "duration": 58,
    "start_time": "2023-02-16T08:55:30.048Z"
   },
   {
    "duration": 38,
    "start_time": "2023-02-16T08:55:30.107Z"
   },
   {
    "duration": 5,
    "start_time": "2023-02-16T08:55:30.147Z"
   },
   {
    "duration": 35,
    "start_time": "2023-02-16T08:55:30.155Z"
   },
   {
    "duration": 53,
    "start_time": "2023-02-16T08:55:30.192Z"
   },
   {
    "duration": 24,
    "start_time": "2023-02-16T08:55:30.250Z"
   },
   {
    "duration": 32,
    "start_time": "2023-02-16T08:55:30.276Z"
   },
   {
    "duration": 46,
    "start_time": "2023-02-16T08:55:30.311Z"
   },
   {
    "duration": 60,
    "start_time": "2023-02-16T08:55:30.359Z"
   },
   {
    "duration": 26,
    "start_time": "2023-02-16T08:55:30.421Z"
   },
   {
    "duration": 67,
    "start_time": "2023-02-16T08:55:30.449Z"
   },
   {
    "duration": 61,
    "start_time": "2023-02-16T08:55:30.518Z"
   },
   {
    "duration": 23,
    "start_time": "2023-02-16T08:55:30.581Z"
   },
   {
    "duration": 1600,
    "start_time": "2023-02-16T08:55:30.606Z"
   },
   {
    "duration": 154,
    "start_time": "2023-02-16T08:55:32.208Z"
   },
   {
    "duration": 12,
    "start_time": "2023-02-16T08:55:32.364Z"
   },
   {
    "duration": 11,
    "start_time": "2023-02-16T08:55:32.378Z"
   },
   {
    "duration": 19,
    "start_time": "2023-02-16T08:55:32.390Z"
   },
   {
    "duration": 972,
    "start_time": "2023-02-16T08:55:32.411Z"
   },
   {
    "duration": 143,
    "start_time": "2023-02-16T08:55:33.384Z"
   },
   {
    "duration": 20,
    "start_time": "2023-02-16T08:55:33.531Z"
   },
   {
    "duration": 11,
    "start_time": "2023-02-16T08:55:33.554Z"
   },
   {
    "duration": 10,
    "start_time": "2023-02-16T08:55:33.567Z"
   },
   {
    "duration": 876,
    "start_time": "2023-02-16T08:55:33.578Z"
   },
   {
    "duration": 51,
    "start_time": "2023-02-16T08:55:34.455Z"
   },
   {
    "duration": 248,
    "start_time": "2023-02-16T08:55:34.508Z"
   },
   {
    "duration": 938,
    "start_time": "2023-02-16T08:57:47.312Z"
   },
   {
    "duration": 1273,
    "start_time": "2023-02-16T08:57:58.402Z"
   },
   {
    "duration": 91,
    "start_time": "2023-02-16T08:57:59.678Z"
   },
   {
    "duration": 39,
    "start_time": "2023-02-16T08:57:59.772Z"
   },
   {
    "duration": 19,
    "start_time": "2023-02-16T08:57:59.813Z"
   },
   {
    "duration": 10,
    "start_time": "2023-02-16T08:57:59.837Z"
   },
   {
    "duration": 25,
    "start_time": "2023-02-16T08:57:59.849Z"
   },
   {
    "duration": 27,
    "start_time": "2023-02-16T08:57:59.876Z"
   },
   {
    "duration": 41,
    "start_time": "2023-02-16T08:57:59.905Z"
   },
   {
    "duration": 4,
    "start_time": "2023-02-16T08:57:59.948Z"
   },
   {
    "duration": 38,
    "start_time": "2023-02-16T08:57:59.954Z"
   },
   {
    "duration": 55,
    "start_time": "2023-02-16T08:57:59.995Z"
   },
   {
    "duration": 17,
    "start_time": "2023-02-16T08:58:00.051Z"
   },
   {
    "duration": 9,
    "start_time": "2023-02-16T08:58:00.070Z"
   },
   {
    "duration": 12,
    "start_time": "2023-02-16T08:58:00.081Z"
   },
   {
    "duration": 49,
    "start_time": "2023-02-16T08:58:00.096Z"
   },
   {
    "duration": 4,
    "start_time": "2023-02-16T08:58:00.148Z"
   },
   {
    "duration": 40,
    "start_time": "2023-02-16T08:58:00.153Z"
   },
   {
    "duration": 66,
    "start_time": "2023-02-16T08:58:00.194Z"
   },
   {
    "duration": 12,
    "start_time": "2023-02-16T08:58:00.262Z"
   },
   {
    "duration": 1635,
    "start_time": "2023-02-16T08:58:00.275Z"
   },
   {
    "duration": 140,
    "start_time": "2023-02-16T08:58:01.912Z"
   },
   {
    "duration": 9,
    "start_time": "2023-02-16T08:58:02.055Z"
   },
   {
    "duration": 22,
    "start_time": "2023-02-16T08:58:02.066Z"
   },
   {
    "duration": 12,
    "start_time": "2023-02-16T08:58:02.090Z"
   },
   {
    "duration": 808,
    "start_time": "2023-02-16T08:58:02.104Z"
   },
   {
    "duration": 309,
    "start_time": "2023-02-16T08:58:02.914Z"
   },
   {
    "duration": 11,
    "start_time": "2023-02-16T08:58:03.227Z"
   },
   {
    "duration": 16,
    "start_time": "2023-02-16T08:58:03.241Z"
   },
   {
    "duration": 11,
    "start_time": "2023-02-16T08:58:03.258Z"
   },
   {
    "duration": 827,
    "start_time": "2023-02-16T08:58:03.271Z"
   },
   {
    "duration": 53,
    "start_time": "2023-02-16T08:58:04.099Z"
   },
   {
    "duration": 196,
    "start_time": "2023-02-16T08:58:04.154Z"
   },
   {
    "duration": 1038,
    "start_time": "2023-02-16T08:59:37.494Z"
   },
   {
    "duration": 9,
    "start_time": "2023-02-16T09:03:48.874Z"
   },
   {
    "duration": 816,
    "start_time": "2023-02-16T09:04:12.646Z"
   },
   {
    "duration": 9,
    "start_time": "2023-02-16T09:04:39.024Z"
   },
   {
    "duration": 913,
    "start_time": "2023-02-16T09:04:41.740Z"
   },
   {
    "duration": 15,
    "start_time": "2023-02-16T09:10:55.040Z"
   },
   {
    "duration": 1322,
    "start_time": "2023-02-16T09:11:13.144Z"
   },
   {
    "duration": 94,
    "start_time": "2023-02-16T09:11:14.468Z"
   },
   {
    "duration": 33,
    "start_time": "2023-02-16T09:11:14.564Z"
   },
   {
    "duration": 15,
    "start_time": "2023-02-16T09:11:14.599Z"
   },
   {
    "duration": 4,
    "start_time": "2023-02-16T09:11:14.617Z"
   },
   {
    "duration": 38,
    "start_time": "2023-02-16T09:11:14.623Z"
   },
   {
    "duration": 29,
    "start_time": "2023-02-16T09:11:14.663Z"
   },
   {
    "duration": 49,
    "start_time": "2023-02-16T09:11:14.693Z"
   },
   {
    "duration": 4,
    "start_time": "2023-02-16T09:11:14.744Z"
   },
   {
    "duration": 38,
    "start_time": "2023-02-16T09:11:14.749Z"
   },
   {
    "duration": 52,
    "start_time": "2023-02-16T09:11:14.789Z"
   },
   {
    "duration": 15,
    "start_time": "2023-02-16T09:11:14.843Z"
   },
   {
    "duration": 4,
    "start_time": "2023-02-16T09:11:14.859Z"
   },
   {
    "duration": 8,
    "start_time": "2023-02-16T09:11:14.865Z"
   },
   {
    "duration": 69,
    "start_time": "2023-02-16T09:11:14.874Z"
   },
   {
    "duration": 3,
    "start_time": "2023-02-16T09:11:14.944Z"
   },
   {
    "duration": 33,
    "start_time": "2023-02-16T09:11:14.949Z"
   },
   {
    "duration": 62,
    "start_time": "2023-02-16T09:11:14.983Z"
   },
   {
    "duration": 9,
    "start_time": "2023-02-16T09:11:15.047Z"
   },
   {
    "duration": 1604,
    "start_time": "2023-02-16T09:11:15.058Z"
   },
   {
    "duration": 143,
    "start_time": "2023-02-16T09:11:16.664Z"
   },
   {
    "duration": 30,
    "start_time": "2023-02-16T09:11:16.809Z"
   },
   {
    "duration": 11,
    "start_time": "2023-02-16T09:11:16.843Z"
   },
   {
    "duration": 13,
    "start_time": "2023-02-16T09:11:16.856Z"
   },
   {
    "duration": 827,
    "start_time": "2023-02-16T09:11:16.872Z"
   },
   {
    "duration": 278,
    "start_time": "2023-02-16T09:11:17.701Z"
   },
   {
    "duration": 9,
    "start_time": "2023-02-16T09:11:17.980Z"
   },
   {
    "duration": 13,
    "start_time": "2023-02-16T09:11:17.991Z"
   },
   {
    "duration": 35,
    "start_time": "2023-02-16T09:11:18.006Z"
   },
   {
    "duration": 829,
    "start_time": "2023-02-16T09:11:18.043Z"
   },
   {
    "duration": 8,
    "start_time": "2023-02-16T09:11:18.875Z"
   },
   {
    "duration": 913,
    "start_time": "2023-02-16T09:11:18.885Z"
   },
   {
    "duration": 52,
    "start_time": "2023-02-16T09:11:19.799Z"
   },
   {
    "duration": 190,
    "start_time": "2023-02-16T09:11:19.852Z"
   },
   {
    "duration": 12,
    "start_time": "2023-02-16T09:14:33.442Z"
   },
   {
    "duration": 1294,
    "start_time": "2023-02-16T09:14:42.557Z"
   },
   {
    "duration": 97,
    "start_time": "2023-02-16T09:14:43.853Z"
   },
   {
    "duration": 32,
    "start_time": "2023-02-16T09:14:43.952Z"
   },
   {
    "duration": 15,
    "start_time": "2023-02-16T09:14:43.986Z"
   },
   {
    "duration": 4,
    "start_time": "2023-02-16T09:14:44.002Z"
   },
   {
    "duration": 35,
    "start_time": "2023-02-16T09:14:44.007Z"
   },
   {
    "duration": 32,
    "start_time": "2023-02-16T09:14:44.044Z"
   },
   {
    "duration": 26,
    "start_time": "2023-02-16T09:14:44.078Z"
   },
   {
    "duration": 3,
    "start_time": "2023-02-16T09:14:44.106Z"
   },
   {
    "duration": 46,
    "start_time": "2023-02-16T09:14:44.112Z"
   },
   {
    "duration": 33,
    "start_time": "2023-02-16T09:14:44.160Z"
   },
   {
    "duration": 37,
    "start_time": "2023-02-16T09:14:44.195Z"
   },
   {
    "duration": 6,
    "start_time": "2023-02-16T09:14:44.234Z"
   },
   {
    "duration": 14,
    "start_time": "2023-02-16T09:14:44.243Z"
   },
   {
    "duration": 25,
    "start_time": "2023-02-16T09:14:44.258Z"
   },
   {
    "duration": 2,
    "start_time": "2023-02-16T09:14:44.285Z"
   },
   {
    "duration": 54,
    "start_time": "2023-02-16T09:14:44.288Z"
   },
   {
    "duration": 48,
    "start_time": "2023-02-16T09:14:44.344Z"
   },
   {
    "duration": 8,
    "start_time": "2023-02-16T09:14:44.394Z"
   },
   {
    "duration": 1550,
    "start_time": "2023-02-16T09:14:44.404Z"
   },
   {
    "duration": 143,
    "start_time": "2023-02-16T09:14:45.956Z"
   },
   {
    "duration": 10,
    "start_time": "2023-02-16T09:14:46.101Z"
   },
   {
    "duration": 30,
    "start_time": "2023-02-16T09:14:46.113Z"
   },
   {
    "duration": 22,
    "start_time": "2023-02-16T09:14:46.145Z"
   },
   {
    "duration": 1000,
    "start_time": "2023-02-16T09:14:46.169Z"
   },
   {
    "duration": 136,
    "start_time": "2023-02-16T09:14:47.171Z"
   },
   {
    "duration": 32,
    "start_time": "2023-02-16T09:14:47.308Z"
   },
   {
    "duration": 16,
    "start_time": "2023-02-16T09:14:47.344Z"
   },
   {
    "duration": 10,
    "start_time": "2023-02-16T09:14:47.361Z"
   },
   {
    "duration": 879,
    "start_time": "2023-02-16T09:14:47.372Z"
   },
   {
    "duration": 7,
    "start_time": "2023-02-16T09:14:48.253Z"
   },
   {
    "duration": 1042,
    "start_time": "2023-02-16T09:14:48.262Z"
   },
   {
    "duration": 52,
    "start_time": "2023-02-16T09:14:49.305Z"
   },
   {
    "duration": 185,
    "start_time": "2023-02-16T09:14:49.358Z"
   },
   {
    "duration": 84,
    "start_time": "2023-02-16T09:15:14.457Z"
   },
   {
    "duration": 75,
    "start_time": "2023-02-16T09:15:33.750Z"
   },
   {
    "duration": 9,
    "start_time": "2023-02-16T09:16:42.079Z"
   },
   {
    "duration": 136,
    "start_time": "2023-02-16T09:16:54.338Z"
   },
   {
    "duration": 29,
    "start_time": "2023-02-16T09:17:08.744Z"
   },
   {
    "duration": 8,
    "start_time": "2023-02-16T09:17:12.488Z"
   },
   {
    "duration": 4,
    "start_time": "2023-02-16T09:17:44.076Z"
   },
   {
    "duration": 11,
    "start_time": "2023-02-16T09:17:51.634Z"
   },
   {
    "duration": 805,
    "start_time": "2023-02-16T09:18:10.848Z"
   },
   {
    "duration": 1319,
    "start_time": "2023-02-16T09:18:55.957Z"
   },
   {
    "duration": 103,
    "start_time": "2023-02-16T09:18:57.278Z"
   },
   {
    "duration": 34,
    "start_time": "2023-02-16T09:18:57.382Z"
   },
   {
    "duration": 19,
    "start_time": "2023-02-16T09:18:57.418Z"
   },
   {
    "duration": 13,
    "start_time": "2023-02-16T09:18:57.446Z"
   },
   {
    "duration": 25,
    "start_time": "2023-02-16T09:18:57.461Z"
   },
   {
    "duration": 29,
    "start_time": "2023-02-16T09:18:57.487Z"
   },
   {
    "duration": 37,
    "start_time": "2023-02-16T09:18:57.517Z"
   },
   {
    "duration": 4,
    "start_time": "2023-02-16T09:18:57.556Z"
   },
   {
    "duration": 34,
    "start_time": "2023-02-16T09:18:57.561Z"
   },
   {
    "duration": 58,
    "start_time": "2023-02-16T09:18:57.597Z"
   },
   {
    "duration": 14,
    "start_time": "2023-02-16T09:18:57.657Z"
   },
   {
    "duration": 4,
    "start_time": "2023-02-16T09:18:57.672Z"
   },
   {
    "duration": 8,
    "start_time": "2023-02-16T09:18:57.679Z"
   },
   {
    "duration": 58,
    "start_time": "2023-02-16T09:18:57.689Z"
   },
   {
    "duration": 5,
    "start_time": "2023-02-16T09:18:57.753Z"
   },
   {
    "duration": 29,
    "start_time": "2023-02-16T09:18:57.760Z"
   },
   {
    "duration": 63,
    "start_time": "2023-02-16T09:18:57.791Z"
   },
   {
    "duration": 8,
    "start_time": "2023-02-16T09:18:57.856Z"
   },
   {
    "duration": 1577,
    "start_time": "2023-02-16T09:18:57.865Z"
   },
   {
    "duration": 132,
    "start_time": "2023-02-16T09:18:59.443Z"
   },
   {
    "duration": 9,
    "start_time": "2023-02-16T09:18:59.577Z"
   },
   {
    "duration": 11,
    "start_time": "2023-02-16T09:18:59.587Z"
   },
   {
    "duration": 8,
    "start_time": "2023-02-16T09:18:59.599Z"
   },
   {
    "duration": 29,
    "start_time": "2023-02-16T09:18:59.608Z"
   },
   {
    "duration": 869,
    "start_time": "2023-02-16T09:18:59.640Z"
   },
   {
    "duration": 351,
    "start_time": "2023-02-16T09:19:00.511Z"
   },
   {
    "duration": 9,
    "start_time": "2023-02-16T09:19:00.863Z"
   },
   {
    "duration": 60,
    "start_time": "2023-02-16T09:19:00.874Z"
   },
   {
    "duration": 52,
    "start_time": "2023-02-16T09:19:00.937Z"
   },
   {
    "duration": 877,
    "start_time": "2023-02-16T09:19:00.991Z"
   },
   {
    "duration": 7,
    "start_time": "2023-02-16T09:19:01.870Z"
   },
   {
    "duration": 962,
    "start_time": "2023-02-16T09:19:01.879Z"
   },
   {
    "duration": 49,
    "start_time": "2023-02-16T09:19:02.843Z"
   },
   {
    "duration": 184,
    "start_time": "2023-02-16T09:19:02.894Z"
   },
   {
    "duration": 1258,
    "start_time": "2023-02-16T09:21:44.444Z"
   },
   {
    "duration": 97,
    "start_time": "2023-02-16T09:21:45.704Z"
   },
   {
    "duration": 37,
    "start_time": "2023-02-16T09:21:45.802Z"
   },
   {
    "duration": 17,
    "start_time": "2023-02-16T09:21:45.845Z"
   },
   {
    "duration": 12,
    "start_time": "2023-02-16T09:21:45.864Z"
   },
   {
    "duration": 29,
    "start_time": "2023-02-16T09:21:45.878Z"
   },
   {
    "duration": 36,
    "start_time": "2023-02-16T09:21:45.908Z"
   },
   {
    "duration": 29,
    "start_time": "2023-02-16T09:21:45.947Z"
   },
   {
    "duration": 4,
    "start_time": "2023-02-16T09:21:45.977Z"
   },
   {
    "duration": 60,
    "start_time": "2023-02-16T09:21:45.982Z"
   },
   {
    "duration": 43,
    "start_time": "2023-02-16T09:21:46.043Z"
   },
   {
    "duration": 15,
    "start_time": "2023-02-16T09:21:46.088Z"
   },
   {
    "duration": 10,
    "start_time": "2023-02-16T09:21:46.104Z"
   },
   {
    "duration": 17,
    "start_time": "2023-02-16T09:21:46.116Z"
   },
   {
    "duration": 45,
    "start_time": "2023-02-16T09:21:46.142Z"
   },
   {
    "duration": 3,
    "start_time": "2023-02-16T09:21:46.188Z"
   },
   {
    "duration": 33,
    "start_time": "2023-02-16T09:21:46.193Z"
   },
   {
    "duration": 52,
    "start_time": "2023-02-16T09:21:46.233Z"
   },
   {
    "duration": 9,
    "start_time": "2023-02-16T09:21:46.286Z"
   },
   {
    "duration": 1686,
    "start_time": "2023-02-16T09:21:46.297Z"
   },
   {
    "duration": 136,
    "start_time": "2023-02-16T09:21:47.984Z"
   },
   {
    "duration": 20,
    "start_time": "2023-02-16T09:21:48.121Z"
   },
   {
    "duration": 17,
    "start_time": "2023-02-16T09:21:48.149Z"
   },
   {
    "duration": 8,
    "start_time": "2023-02-16T09:21:48.167Z"
   },
   {
    "duration": 9,
    "start_time": "2023-02-16T09:21:48.176Z"
   },
   {
    "duration": 1149,
    "start_time": "2023-02-16T09:21:48.186Z"
   },
   {
    "duration": 617,
    "start_time": "2023-02-16T09:21:49.337Z"
   },
   {
    "duration": 8,
    "start_time": "2023-02-16T09:21:49.959Z"
   },
   {
    "duration": 59,
    "start_time": "2023-02-16T09:21:49.969Z"
   },
   {
    "duration": 24,
    "start_time": "2023-02-16T09:21:50.035Z"
   },
   {
    "duration": 1401,
    "start_time": "2023-02-16T09:21:50.060Z"
   },
   {
    "duration": 8,
    "start_time": "2023-02-16T09:21:51.464Z"
   },
   {
    "duration": 984,
    "start_time": "2023-02-16T09:21:51.474Z"
   },
   {
    "duration": 43,
    "start_time": "2023-02-16T09:21:52.460Z"
   },
   {
    "duration": 193,
    "start_time": "2023-02-16T09:21:52.505Z"
   },
   {
    "duration": 12,
    "start_time": "2023-02-16T09:27:16.335Z"
   },
   {
    "duration": 11,
    "start_time": "2023-02-16T09:27:44.149Z"
   },
   {
    "duration": 8,
    "start_time": "2023-02-16T09:28:03.990Z"
   },
   {
    "duration": 11,
    "start_time": "2023-02-16T09:28:06.660Z"
   },
   {
    "duration": 1272,
    "start_time": "2023-02-16T09:28:14.851Z"
   },
   {
    "duration": 102,
    "start_time": "2023-02-16T09:28:16.130Z"
   },
   {
    "duration": 36,
    "start_time": "2023-02-16T09:28:16.234Z"
   },
   {
    "duration": 15,
    "start_time": "2023-02-16T09:28:16.272Z"
   },
   {
    "duration": 10,
    "start_time": "2023-02-16T09:28:16.288Z"
   },
   {
    "duration": 45,
    "start_time": "2023-02-16T09:28:16.299Z"
   },
   {
    "duration": 29,
    "start_time": "2023-02-16T09:28:16.346Z"
   },
   {
    "duration": 34,
    "start_time": "2023-02-16T09:28:16.377Z"
   },
   {
    "duration": 19,
    "start_time": "2023-02-16T09:28:16.413Z"
   },
   {
    "duration": 50,
    "start_time": "2023-02-16T09:28:16.435Z"
   },
   {
    "duration": 31,
    "start_time": "2023-02-16T09:28:16.487Z"
   },
   {
    "duration": 23,
    "start_time": "2023-02-16T09:28:16.519Z"
   },
   {
    "duration": 6,
    "start_time": "2023-02-16T09:28:16.545Z"
   },
   {
    "duration": 15,
    "start_time": "2023-02-16T09:28:16.552Z"
   },
   {
    "duration": 26,
    "start_time": "2023-02-16T09:28:16.569Z"
   },
   {
    "duration": 3,
    "start_time": "2023-02-16T09:28:16.597Z"
   },
   {
    "duration": 47,
    "start_time": "2023-02-16T09:28:16.601Z"
   },
   {
    "duration": 48,
    "start_time": "2023-02-16T09:28:16.650Z"
   },
   {
    "duration": 38,
    "start_time": "2023-02-16T09:28:16.700Z"
   },
   {
    "duration": 1546,
    "start_time": "2023-02-16T09:28:16.743Z"
   },
   {
    "duration": 122,
    "start_time": "2023-02-16T09:28:18.291Z"
   },
   {
    "duration": 14,
    "start_time": "2023-02-16T09:28:18.414Z"
   },
   {
    "duration": 18,
    "start_time": "2023-02-16T09:28:18.429Z"
   },
   {
    "duration": 14,
    "start_time": "2023-02-16T09:28:18.449Z"
   },
   {
    "duration": 10,
    "start_time": "2023-02-16T09:28:18.464Z"
   },
   {
    "duration": 955,
    "start_time": "2023-02-16T09:28:18.476Z"
   },
   {
    "duration": 127,
    "start_time": "2023-02-16T09:28:19.439Z"
   },
   {
    "duration": 10,
    "start_time": "2023-02-16T09:28:19.570Z"
   },
   {
    "duration": 13,
    "start_time": "2023-02-16T09:28:19.582Z"
   },
   {
    "duration": 44,
    "start_time": "2023-02-16T09:28:19.597Z"
   },
   {
    "duration": 9,
    "start_time": "2023-02-16T09:28:19.644Z"
   },
   {
    "duration": 1306,
    "start_time": "2023-02-16T09:28:19.655Z"
   },
   {
    "duration": 7,
    "start_time": "2023-02-16T09:28:20.963Z"
   },
   {
    "duration": 1575,
    "start_time": "2023-02-16T09:28:20.972Z"
   },
   {
    "duration": 47,
    "start_time": "2023-02-16T09:28:22.549Z"
   },
   {
    "duration": 214,
    "start_time": "2023-02-16T09:28:22.598Z"
   },
   {
    "duration": 1391,
    "start_time": "2023-02-16T09:29:49.443Z"
   },
   {
    "duration": 146,
    "start_time": "2023-02-16T09:29:50.837Z"
   },
   {
    "duration": 108,
    "start_time": "2023-02-16T09:29:51.028Z"
   },
   {
    "duration": 17,
    "start_time": "2023-02-16T09:29:51.138Z"
   },
   {
    "duration": 8,
    "start_time": "2023-02-16T09:29:51.157Z"
   },
   {
    "duration": 86,
    "start_time": "2023-02-16T09:29:51.166Z"
   },
   {
    "duration": 95,
    "start_time": "2023-02-16T09:29:51.254Z"
   },
   {
    "duration": 85,
    "start_time": "2023-02-16T09:29:51.351Z"
   },
   {
    "duration": 6,
    "start_time": "2023-02-16T09:29:51.442Z"
   },
   {
    "duration": 86,
    "start_time": "2023-02-16T09:29:51.450Z"
   },
   {
    "duration": 102,
    "start_time": "2023-02-16T09:29:51.543Z"
   },
   {
    "duration": 15,
    "start_time": "2023-02-16T09:29:51.647Z"
   },
   {
    "duration": 8,
    "start_time": "2023-02-16T09:29:51.664Z"
   },
   {
    "duration": 57,
    "start_time": "2023-02-16T09:29:51.675Z"
   },
   {
    "duration": 98,
    "start_time": "2023-02-16T09:29:51.734Z"
   },
   {
    "duration": 3,
    "start_time": "2023-02-16T09:29:51.835Z"
   },
   {
    "duration": 94,
    "start_time": "2023-02-16T09:29:51.842Z"
   },
   {
    "duration": 98,
    "start_time": "2023-02-16T09:29:51.942Z"
   },
   {
    "duration": 9,
    "start_time": "2023-02-16T09:29:52.043Z"
   },
   {
    "duration": 2015,
    "start_time": "2023-02-16T09:29:52.054Z"
   },
   {
    "duration": 127,
    "start_time": "2023-02-16T09:29:54.071Z"
   },
   {
    "duration": 9,
    "start_time": "2023-02-16T09:29:54.200Z"
   },
   {
    "duration": 28,
    "start_time": "2023-02-16T09:29:54.210Z"
   },
   {
    "duration": 14,
    "start_time": "2023-02-16T09:29:54.240Z"
   },
   {
    "duration": 17,
    "start_time": "2023-02-16T09:29:54.255Z"
   },
   {
    "duration": 804,
    "start_time": "2023-02-16T09:29:54.274Z"
   },
   {
    "duration": 296,
    "start_time": "2023-02-16T09:29:55.080Z"
   },
   {
    "duration": 9,
    "start_time": "2023-02-16T09:29:55.379Z"
   },
   {
    "duration": 31,
    "start_time": "2023-02-16T09:29:55.390Z"
   },
   {
    "duration": 21,
    "start_time": "2023-02-16T09:29:55.423Z"
   },
   {
    "duration": 10,
    "start_time": "2023-02-16T09:29:55.446Z"
   },
   {
    "duration": 819,
    "start_time": "2023-02-16T09:29:55.458Z"
   },
   {
    "duration": 7,
    "start_time": "2023-02-16T09:29:56.279Z"
   },
   {
    "duration": 957,
    "start_time": "2023-02-16T09:29:56.288Z"
   },
   {
    "duration": 44,
    "start_time": "2023-02-16T09:29:57.247Z"
   },
   {
    "duration": 203,
    "start_time": "2023-02-16T09:29:57.293Z"
   },
   {
    "duration": 1335,
    "start_time": "2023-02-16T09:30:30.098Z"
   },
   {
    "duration": 103,
    "start_time": "2023-02-16T09:30:31.439Z"
   },
   {
    "duration": 33,
    "start_time": "2023-02-16T09:30:31.555Z"
   },
   {
    "duration": 14,
    "start_time": "2023-02-16T09:30:31.590Z"
   },
   {
    "duration": 3,
    "start_time": "2023-02-16T09:30:31.605Z"
   },
   {
    "duration": 36,
    "start_time": "2023-02-16T09:30:31.610Z"
   },
   {
    "duration": 28,
    "start_time": "2023-02-16T09:30:31.651Z"
   },
   {
    "duration": 25,
    "start_time": "2023-02-16T09:30:31.680Z"
   },
   {
    "duration": 4,
    "start_time": "2023-02-16T09:30:31.706Z"
   },
   {
    "duration": 49,
    "start_time": "2023-02-16T09:30:31.712Z"
   },
   {
    "duration": 31,
    "start_time": "2023-02-16T09:30:31.763Z"
   },
   {
    "duration": 13,
    "start_time": "2023-02-16T09:30:31.795Z"
   },
   {
    "duration": 15,
    "start_time": "2023-02-16T09:30:31.830Z"
   },
   {
    "duration": 31,
    "start_time": "2023-02-16T09:30:31.847Z"
   },
   {
    "duration": 42,
    "start_time": "2023-02-16T09:30:31.879Z"
   },
   {
    "duration": 3,
    "start_time": "2023-02-16T09:30:31.923Z"
   },
   {
    "duration": 58,
    "start_time": "2023-02-16T09:30:31.936Z"
   },
   {
    "duration": 64,
    "start_time": "2023-02-16T09:30:31.996Z"
   },
   {
    "duration": 11,
    "start_time": "2023-02-16T09:30:32.062Z"
   },
   {
    "duration": 1571,
    "start_time": "2023-02-16T09:30:32.074Z"
   },
   {
    "duration": 130,
    "start_time": "2023-02-16T09:30:33.646Z"
   },
   {
    "duration": 9,
    "start_time": "2023-02-16T09:30:33.778Z"
   },
   {
    "duration": 11,
    "start_time": "2023-02-16T09:30:33.788Z"
   },
   {
    "duration": 39,
    "start_time": "2023-02-16T09:30:33.800Z"
   },
   {
    "duration": 19,
    "start_time": "2023-02-16T09:30:33.841Z"
   },
   {
    "duration": 1022,
    "start_time": "2023-02-16T09:30:33.862Z"
   },
   {
    "duration": 135,
    "start_time": "2023-02-16T09:30:34.886Z"
   },
   {
    "duration": 20,
    "start_time": "2023-02-16T09:30:35.028Z"
   },
   {
    "duration": 25,
    "start_time": "2023-02-16T09:30:35.049Z"
   },
   {
    "duration": 12,
    "start_time": "2023-02-16T09:30:35.075Z"
   },
   {
    "duration": 10,
    "start_time": "2023-02-16T09:30:35.088Z"
   },
   {
    "duration": 862,
    "start_time": "2023-02-16T09:30:35.100Z"
   },
   {
    "duration": 8,
    "start_time": "2023-02-16T09:30:35.963Z"
   },
   {
    "duration": 1008,
    "start_time": "2023-02-16T09:30:35.972Z"
   },
   {
    "duration": 72,
    "start_time": "2023-02-16T09:30:36.982Z"
   },
   {
    "duration": 191,
    "start_time": "2023-02-16T09:30:37.056Z"
   },
   {
    "duration": 4,
    "start_time": "2023-02-16T09:31:36.790Z"
   },
   {
    "duration": 105,
    "start_time": "2023-02-16T09:31:36.796Z"
   },
   {
    "duration": 33,
    "start_time": "2023-02-16T09:31:36.903Z"
   },
   {
    "duration": 20,
    "start_time": "2023-02-16T09:31:36.938Z"
   },
   {
    "duration": 21,
    "start_time": "2023-02-16T09:31:36.960Z"
   },
   {
    "duration": 23,
    "start_time": "2023-02-16T09:31:36.983Z"
   },
   {
    "duration": 37,
    "start_time": "2023-02-16T09:31:37.007Z"
   },
   {
    "duration": 25,
    "start_time": "2023-02-16T09:31:37.048Z"
   },
   {
    "duration": 4,
    "start_time": "2023-02-16T09:31:37.074Z"
   },
   {
    "duration": 48,
    "start_time": "2023-02-16T09:31:37.079Z"
   },
   {
    "duration": 43,
    "start_time": "2023-02-16T09:31:37.130Z"
   },
   {
    "duration": 14,
    "start_time": "2023-02-16T09:31:37.175Z"
   },
   {
    "duration": 4,
    "start_time": "2023-02-16T09:31:37.191Z"
   },
   {
    "duration": 35,
    "start_time": "2023-02-16T09:31:37.197Z"
   },
   {
    "duration": 30,
    "start_time": "2023-02-16T09:31:37.234Z"
   },
   {
    "duration": 3,
    "start_time": "2023-02-16T09:31:37.266Z"
   },
   {
    "duration": 31,
    "start_time": "2023-02-16T09:31:37.271Z"
   },
   {
    "duration": 72,
    "start_time": "2023-02-16T09:31:37.304Z"
   },
   {
    "duration": 9,
    "start_time": "2023-02-16T09:31:37.378Z"
   },
   {
    "duration": 1584,
    "start_time": "2023-02-16T09:31:37.388Z"
   },
   {
    "duration": 138,
    "start_time": "2023-02-16T09:31:38.974Z"
   },
   {
    "duration": 24,
    "start_time": "2023-02-16T09:31:39.114Z"
   },
   {
    "duration": 11,
    "start_time": "2023-02-16T09:31:39.146Z"
   },
   {
    "duration": 7,
    "start_time": "2023-02-16T09:31:39.159Z"
   },
   {
    "duration": 10,
    "start_time": "2023-02-16T09:31:39.168Z"
   },
   {
    "duration": 977,
    "start_time": "2023-02-16T09:31:39.180Z"
   },
   {
    "duration": 156,
    "start_time": "2023-02-16T09:31:40.159Z"
   },
   {
    "duration": 18,
    "start_time": "2023-02-16T09:31:40.317Z"
   },
   {
    "duration": 50,
    "start_time": "2023-02-16T09:31:40.338Z"
   },
   {
    "duration": 18,
    "start_time": "2023-02-16T09:31:46.238Z"
   },
   {
    "duration": 4,
    "start_time": "2023-02-16T09:32:45.867Z"
   },
   {
    "duration": 106,
    "start_time": "2023-02-16T09:32:45.872Z"
   },
   {
    "duration": 27,
    "start_time": "2023-02-16T09:32:45.980Z"
   },
   {
    "duration": 14,
    "start_time": "2023-02-16T09:32:46.009Z"
   },
   {
    "duration": 28,
    "start_time": "2023-02-16T09:32:46.025Z"
   },
   {
    "duration": 34,
    "start_time": "2023-02-16T09:32:46.058Z"
   },
   {
    "duration": 28,
    "start_time": "2023-02-16T09:32:46.094Z"
   },
   {
    "duration": 37,
    "start_time": "2023-02-16T09:32:46.123Z"
   },
   {
    "duration": 4,
    "start_time": "2023-02-16T09:32:46.161Z"
   },
   {
    "duration": 32,
    "start_time": "2023-02-16T09:32:46.167Z"
   },
   {
    "duration": 56,
    "start_time": "2023-02-16T09:32:46.201Z"
   },
   {
    "duration": 15,
    "start_time": "2023-02-16T09:32:46.259Z"
   },
   {
    "duration": 3,
    "start_time": "2023-02-16T09:32:46.276Z"
   },
   {
    "duration": 7,
    "start_time": "2023-02-16T09:32:46.282Z"
   },
   {
    "duration": 52,
    "start_time": "2023-02-16T09:32:46.290Z"
   },
   {
    "duration": 4,
    "start_time": "2023-02-16T09:32:46.344Z"
   },
   {
    "duration": 35,
    "start_time": "2023-02-16T09:32:46.357Z"
   },
   {
    "duration": 72,
    "start_time": "2023-02-16T09:32:46.394Z"
   },
   {
    "duration": 10,
    "start_time": "2023-02-16T09:32:46.468Z"
   },
   {
    "duration": 1632,
    "start_time": "2023-02-16T09:32:46.479Z"
   },
   {
    "duration": 148,
    "start_time": "2023-02-16T09:32:48.113Z"
   },
   {
    "duration": 8,
    "start_time": "2023-02-16T09:32:48.263Z"
   },
   {
    "duration": 10,
    "start_time": "2023-02-16T09:32:48.272Z"
   },
   {
    "duration": 16,
    "start_time": "2023-02-16T09:32:48.284Z"
   },
   {
    "duration": 9,
    "start_time": "2023-02-16T09:32:48.302Z"
   },
   {
    "duration": 829,
    "start_time": "2023-02-16T09:32:48.327Z"
   },
   {
    "duration": 158,
    "start_time": "2023-02-16T09:32:49.159Z"
   },
   {
    "duration": 16,
    "start_time": "2023-02-16T09:32:49.319Z"
   },
   {
    "duration": 21,
    "start_time": "2023-02-16T09:32:49.338Z"
   },
   {
    "duration": 14,
    "start_time": "2023-02-16T09:33:26.171Z"
   },
   {
    "duration": 1460,
    "start_time": "2023-02-16T09:34:39.150Z"
   },
   {
    "duration": 159,
    "start_time": "2023-02-16T09:34:40.612Z"
   },
   {
    "duration": 34,
    "start_time": "2023-02-16T09:34:40.772Z"
   },
   {
    "duration": 14,
    "start_time": "2023-02-16T09:34:40.808Z"
   },
   {
    "duration": 8,
    "start_time": "2023-02-16T09:34:40.825Z"
   },
   {
    "duration": 56,
    "start_time": "2023-02-16T09:34:40.837Z"
   },
   {
    "duration": 30,
    "start_time": "2023-02-16T09:34:40.895Z"
   },
   {
    "duration": 48,
    "start_time": "2023-02-16T09:34:40.931Z"
   },
   {
    "duration": 17,
    "start_time": "2023-02-16T09:34:40.983Z"
   },
   {
    "duration": 60,
    "start_time": "2023-02-16T09:34:41.003Z"
   },
   {
    "duration": 38,
    "start_time": "2023-02-16T09:34:41.067Z"
   },
   {
    "duration": 14,
    "start_time": "2023-02-16T09:34:41.107Z"
   },
   {
    "duration": 12,
    "start_time": "2023-02-16T09:34:41.124Z"
   },
   {
    "duration": 40,
    "start_time": "2023-02-16T09:34:41.142Z"
   },
   {
    "duration": 31,
    "start_time": "2023-02-16T09:34:41.184Z"
   },
   {
    "duration": 3,
    "start_time": "2023-02-16T09:34:41.217Z"
   },
   {
    "duration": 77,
    "start_time": "2023-02-16T09:34:41.222Z"
   },
   {
    "duration": 59,
    "start_time": "2023-02-16T09:34:41.300Z"
   },
   {
    "duration": 11,
    "start_time": "2023-02-16T09:34:41.360Z"
   },
   {
    "duration": 1659,
    "start_time": "2023-02-16T09:34:41.373Z"
   },
   {
    "duration": 145,
    "start_time": "2023-02-16T09:34:43.034Z"
   },
   {
    "duration": 8,
    "start_time": "2023-02-16T09:34:43.182Z"
   },
   {
    "duration": 10,
    "start_time": "2023-02-16T09:34:43.192Z"
   },
   {
    "duration": 30,
    "start_time": "2023-02-16T09:34:43.204Z"
   },
   {
    "duration": 66,
    "start_time": "2023-02-16T09:34:43.236Z"
   },
   {
    "duration": 845,
    "start_time": "2023-02-16T09:34:43.304Z"
   },
   {
    "duration": 1751,
    "start_time": "2023-02-16T09:34:44.151Z"
   },
   {
    "duration": 0,
    "start_time": "2023-02-16T09:34:45.903Z"
   },
   {
    "duration": 0,
    "start_time": "2023-02-16T09:34:45.904Z"
   },
   {
    "duration": 0,
    "start_time": "2023-02-16T09:34:45.906Z"
   },
   {
    "duration": 0,
    "start_time": "2023-02-16T09:34:45.906Z"
   },
   {
    "duration": 0,
    "start_time": "2023-02-16T09:34:45.907Z"
   },
   {
    "duration": 0,
    "start_time": "2023-02-16T09:34:45.908Z"
   },
   {
    "duration": 0,
    "start_time": "2023-02-16T09:34:45.909Z"
   },
   {
    "duration": 1,
    "start_time": "2023-02-16T09:34:45.910Z"
   },
   {
    "duration": 0,
    "start_time": "2023-02-16T09:34:45.911Z"
   },
   {
    "duration": 302,
    "start_time": "2023-02-16T09:35:58.255Z"
   },
   {
    "duration": 149,
    "start_time": "2023-02-16T09:36:31.772Z"
   },
   {
    "duration": 153,
    "start_time": "2023-02-16T09:38:00.278Z"
   },
   {
    "duration": 139,
    "start_time": "2023-02-16T09:38:19.154Z"
   },
   {
    "duration": 116,
    "start_time": "2023-02-16T09:38:36.040Z"
   },
   {
    "duration": 125,
    "start_time": "2023-02-16T09:38:41.150Z"
   },
   {
    "duration": 136,
    "start_time": "2023-02-16T09:40:52.353Z"
   },
   {
    "duration": 119,
    "start_time": "2023-02-16T09:41:02.740Z"
   },
   {
    "duration": 153,
    "start_time": "2023-02-16T09:41:12.586Z"
   },
   {
    "duration": 1255,
    "start_time": "2023-02-16T09:41:32.286Z"
   },
   {
    "duration": 99,
    "start_time": "2023-02-16T09:41:33.543Z"
   },
   {
    "duration": 35,
    "start_time": "2023-02-16T09:41:33.644Z"
   },
   {
    "duration": 15,
    "start_time": "2023-02-16T09:41:33.681Z"
   },
   {
    "duration": 4,
    "start_time": "2023-02-16T09:41:33.698Z"
   },
   {
    "duration": 48,
    "start_time": "2023-02-16T09:41:33.704Z"
   },
   {
    "duration": 27,
    "start_time": "2023-02-16T09:41:33.754Z"
   },
   {
    "duration": 24,
    "start_time": "2023-02-16T09:41:33.783Z"
   },
   {
    "duration": 30,
    "start_time": "2023-02-16T09:41:33.808Z"
   },
   {
    "duration": 33,
    "start_time": "2023-02-16T09:41:33.842Z"
   },
   {
    "duration": 34,
    "start_time": "2023-02-16T09:41:33.878Z"
   },
   {
    "duration": 14,
    "start_time": "2023-02-16T09:41:33.938Z"
   },
   {
    "duration": 6,
    "start_time": "2023-02-16T09:41:33.954Z"
   },
   {
    "duration": 10,
    "start_time": "2023-02-16T09:41:33.962Z"
   },
   {
    "duration": 26,
    "start_time": "2023-02-16T09:41:33.974Z"
   },
   {
    "duration": 3,
    "start_time": "2023-02-16T09:41:34.002Z"
   },
   {
    "duration": 50,
    "start_time": "2023-02-16T09:41:34.006Z"
   },
   {
    "duration": 53,
    "start_time": "2023-02-16T09:41:34.058Z"
   },
   {
    "duration": 21,
    "start_time": "2023-02-16T09:41:34.113Z"
   },
   {
    "duration": 1530,
    "start_time": "2023-02-16T09:41:34.139Z"
   },
   {
    "duration": 130,
    "start_time": "2023-02-16T09:41:35.670Z"
   },
   {
    "duration": 9,
    "start_time": "2023-02-16T09:41:35.802Z"
   },
   {
    "duration": 16,
    "start_time": "2023-02-16T09:41:35.828Z"
   },
   {
    "duration": 26,
    "start_time": "2023-02-16T09:41:35.846Z"
   },
   {
    "duration": 8,
    "start_time": "2023-02-16T09:41:35.874Z"
   },
   {
    "duration": 974,
    "start_time": "2023-02-16T09:41:35.883Z"
   },
   {
    "duration": 135,
    "start_time": "2023-02-16T09:41:36.858Z"
   },
   {
    "duration": 9,
    "start_time": "2023-02-16T09:41:36.996Z"
   },
   {
    "duration": 35,
    "start_time": "2023-02-16T09:41:37.007Z"
   },
   {
    "duration": 16,
    "start_time": "2023-02-16T09:41:37.045Z"
   },
   {
    "duration": 9,
    "start_time": "2023-02-16T09:41:37.063Z"
   },
   {
    "duration": 869,
    "start_time": "2023-02-16T09:41:37.074Z"
   },
   {
    "duration": 8,
    "start_time": "2023-02-16T09:41:37.945Z"
   },
   {
    "duration": 1687,
    "start_time": "2023-02-16T09:41:37.955Z"
   },
   {
    "duration": 99,
    "start_time": "2023-02-16T09:41:39.644Z"
   },
   {
    "duration": 415,
    "start_time": "2023-02-16T09:41:39.745Z"
   },
   {
    "duration": 1249,
    "start_time": "2023-02-16T09:42:21.004Z"
   },
   {
    "duration": 98,
    "start_time": "2023-02-16T09:42:22.255Z"
   },
   {
    "duration": 33,
    "start_time": "2023-02-16T09:42:22.354Z"
   },
   {
    "duration": 15,
    "start_time": "2023-02-16T09:42:22.389Z"
   },
   {
    "duration": 4,
    "start_time": "2023-02-16T09:42:22.406Z"
   },
   {
    "duration": 33,
    "start_time": "2023-02-16T09:42:22.411Z"
   },
   {
    "duration": 33,
    "start_time": "2023-02-16T09:42:22.446Z"
   },
   {
    "duration": 25,
    "start_time": "2023-02-16T09:42:22.480Z"
   },
   {
    "duration": 34,
    "start_time": "2023-02-16T09:42:22.507Z"
   },
   {
    "duration": 36,
    "start_time": "2023-02-16T09:42:22.543Z"
   },
   {
    "duration": 58,
    "start_time": "2023-02-16T09:42:22.581Z"
   },
   {
    "duration": 18,
    "start_time": "2023-02-16T09:42:22.641Z"
   },
   {
    "duration": 8,
    "start_time": "2023-02-16T09:42:22.661Z"
   },
   {
    "duration": 12,
    "start_time": "2023-02-16T09:42:22.671Z"
   },
   {
    "duration": 32,
    "start_time": "2023-02-16T09:42:22.684Z"
   },
   {
    "duration": 20,
    "start_time": "2023-02-16T09:42:22.718Z"
   },
   {
    "duration": 41,
    "start_time": "2023-02-16T09:42:22.739Z"
   },
   {
    "duration": 57,
    "start_time": "2023-02-16T09:42:22.782Z"
   },
   {
    "duration": 9,
    "start_time": "2023-02-16T09:42:22.841Z"
   },
   {
    "duration": 1487,
    "start_time": "2023-02-16T09:42:22.852Z"
   },
   {
    "duration": 129,
    "start_time": "2023-02-16T09:42:24.341Z"
   },
   {
    "duration": 8,
    "start_time": "2023-02-16T09:42:24.472Z"
   },
   {
    "duration": 19,
    "start_time": "2023-02-16T09:42:24.482Z"
   },
   {
    "duration": 13,
    "start_time": "2023-02-16T09:42:24.503Z"
   },
   {
    "duration": 30,
    "start_time": "2023-02-16T09:42:24.518Z"
   },
   {
    "duration": 800,
    "start_time": "2023-02-16T09:42:24.550Z"
   },
   {
    "duration": 321,
    "start_time": "2023-02-16T09:42:25.352Z"
   },
   {
    "duration": 7,
    "start_time": "2023-02-16T09:42:25.675Z"
   },
   {
    "duration": 18,
    "start_time": "2023-02-16T09:42:25.685Z"
   },
   {
    "duration": 35,
    "start_time": "2023-02-16T09:42:25.704Z"
   },
   {
    "duration": 10,
    "start_time": "2023-02-16T09:42:25.742Z"
   },
   {
    "duration": 905,
    "start_time": "2023-02-16T09:42:25.754Z"
   },
   {
    "duration": 10,
    "start_time": "2023-02-16T09:42:26.661Z"
   },
   {
    "duration": 943,
    "start_time": "2023-02-16T09:42:26.673Z"
   },
   {
    "duration": 58,
    "start_time": "2023-02-16T09:42:27.618Z"
   },
   {
    "duration": 199,
    "start_time": "2023-02-16T09:42:27.678Z"
   },
   {
    "duration": 1207,
    "start_time": "2023-02-16T09:42:56.636Z"
   },
   {
    "duration": 97,
    "start_time": "2023-02-16T09:42:57.845Z"
   },
   {
    "duration": 33,
    "start_time": "2023-02-16T09:42:57.944Z"
   },
   {
    "duration": 15,
    "start_time": "2023-02-16T09:42:57.979Z"
   },
   {
    "duration": 8,
    "start_time": "2023-02-16T09:42:57.996Z"
   },
   {
    "duration": 78,
    "start_time": "2023-02-16T09:42:58.005Z"
   },
   {
    "duration": 30,
    "start_time": "2023-02-16T09:42:58.084Z"
   },
   {
    "duration": 40,
    "start_time": "2023-02-16T09:42:58.115Z"
   },
   {
    "duration": 4,
    "start_time": "2023-02-16T09:42:58.157Z"
   },
   {
    "duration": 37,
    "start_time": "2023-02-16T09:42:58.162Z"
   },
   {
    "duration": 51,
    "start_time": "2023-02-16T09:42:58.201Z"
   },
   {
    "duration": 14,
    "start_time": "2023-02-16T09:42:58.254Z"
   },
   {
    "duration": 4,
    "start_time": "2023-02-16T09:42:58.269Z"
   },
   {
    "duration": 8,
    "start_time": "2023-02-16T09:42:58.276Z"
   },
   {
    "duration": 67,
    "start_time": "2023-02-16T09:42:58.285Z"
   },
   {
    "duration": 3,
    "start_time": "2023-02-16T09:42:58.354Z"
   },
   {
    "duration": 36,
    "start_time": "2023-02-16T09:42:58.359Z"
   },
   {
    "duration": 51,
    "start_time": "2023-02-16T09:42:58.396Z"
   },
   {
    "duration": 10,
    "start_time": "2023-02-16T09:42:58.449Z"
   },
   {
    "duration": 2772,
    "start_time": "2023-02-16T09:42:58.460Z"
   },
   {
    "duration": 295,
    "start_time": "2023-02-16T09:43:01.242Z"
   },
   {
    "duration": 9,
    "start_time": "2023-02-16T09:43:01.545Z"
   },
   {
    "duration": 51,
    "start_time": "2023-02-16T09:43:01.555Z"
   },
   {
    "duration": 14,
    "start_time": "2023-02-16T09:43:01.608Z"
   },
   {
    "duration": 28,
    "start_time": "2023-02-16T09:43:01.624Z"
   },
   {
    "duration": 829,
    "start_time": "2023-02-16T09:43:01.653Z"
   },
   {
    "duration": 288,
    "start_time": "2023-02-16T09:43:02.483Z"
   },
   {
    "duration": 8,
    "start_time": "2023-02-16T09:43:02.773Z"
   },
   {
    "duration": 17,
    "start_time": "2023-02-16T09:43:02.783Z"
   },
   {
    "duration": 30,
    "start_time": "2023-02-16T09:43:02.802Z"
   },
   {
    "duration": 18,
    "start_time": "2023-02-16T09:43:02.833Z"
   },
   {
    "duration": 813,
    "start_time": "2023-02-16T09:43:02.852Z"
   },
   {
    "duration": 7,
    "start_time": "2023-02-16T09:43:03.666Z"
   },
   {
    "duration": 943,
    "start_time": "2023-02-16T09:43:03.675Z"
   },
   {
    "duration": 59,
    "start_time": "2023-02-16T09:43:04.620Z"
   },
   {
    "duration": 202,
    "start_time": "2023-02-16T09:43:04.680Z"
   },
   {
    "duration": 1242,
    "start_time": "2023-02-16T09:43:20.848Z"
   },
   {
    "duration": 90,
    "start_time": "2023-02-16T09:43:22.092Z"
   },
   {
    "duration": 34,
    "start_time": "2023-02-16T09:43:22.184Z"
   },
   {
    "duration": 216,
    "start_time": "2023-02-16T09:43:22.220Z"
   },
   {
    "duration": 16,
    "start_time": "2023-02-16T09:43:22.440Z"
   },
   {
    "duration": 29,
    "start_time": "2023-02-16T09:43:22.457Z"
   },
   {
    "duration": 29,
    "start_time": "2023-02-16T09:43:22.488Z"
   },
   {
    "duration": 36,
    "start_time": "2023-02-16T09:43:22.521Z"
   },
   {
    "duration": 4,
    "start_time": "2023-02-16T09:43:22.559Z"
   },
   {
    "duration": 38,
    "start_time": "2023-02-16T09:43:22.565Z"
   },
   {
    "duration": 67,
    "start_time": "2023-02-16T09:43:22.605Z"
   },
   {
    "duration": 17,
    "start_time": "2023-02-16T09:43:22.674Z"
   },
   {
    "duration": 19,
    "start_time": "2023-02-16T09:43:22.693Z"
   },
   {
    "duration": 19,
    "start_time": "2023-02-16T09:43:22.717Z"
   },
   {
    "duration": 51,
    "start_time": "2023-02-16T09:43:22.744Z"
   },
   {
    "duration": 4,
    "start_time": "2023-02-16T09:43:22.797Z"
   },
   {
    "duration": 41,
    "start_time": "2023-02-16T09:43:22.803Z"
   },
   {
    "duration": 58,
    "start_time": "2023-02-16T09:43:22.847Z"
   },
   {
    "duration": 30,
    "start_time": "2023-02-16T09:43:22.907Z"
   },
   {
    "duration": 1557,
    "start_time": "2023-02-16T09:43:22.939Z"
   },
   {
    "duration": 151,
    "start_time": "2023-02-16T09:43:24.498Z"
   },
   {
    "duration": 10,
    "start_time": "2023-02-16T09:43:24.650Z"
   },
   {
    "duration": 12,
    "start_time": "2023-02-16T09:43:24.662Z"
   },
   {
    "duration": 9,
    "start_time": "2023-02-16T09:43:24.676Z"
   },
   {
    "duration": 8,
    "start_time": "2023-02-16T09:43:24.687Z"
   },
   {
    "duration": 846,
    "start_time": "2023-02-16T09:43:24.697Z"
   },
   {
    "duration": 257,
    "start_time": "2023-02-16T09:43:25.545Z"
   },
   {
    "duration": 7,
    "start_time": "2023-02-16T09:43:25.804Z"
   },
   {
    "duration": 30,
    "start_time": "2023-02-16T09:43:25.813Z"
   },
   {
    "duration": 22,
    "start_time": "2023-02-16T09:43:25.845Z"
   },
   {
    "duration": 8,
    "start_time": "2023-02-16T09:43:25.868Z"
   },
   {
    "duration": 819,
    "start_time": "2023-02-16T09:43:25.878Z"
   },
   {
    "duration": 8,
    "start_time": "2023-02-16T09:43:26.698Z"
   },
   {
    "duration": 916,
    "start_time": "2023-02-16T09:43:26.707Z"
   },
   {
    "duration": 57,
    "start_time": "2023-02-16T09:43:27.624Z"
   },
   {
    "duration": 199,
    "start_time": "2023-02-16T09:43:27.683Z"
   },
   {
    "duration": 1282,
    "start_time": "2023-02-16T09:45:16.590Z"
   },
   {
    "duration": 93,
    "start_time": "2023-02-16T09:45:17.874Z"
   },
   {
    "duration": 34,
    "start_time": "2023-02-16T09:45:17.969Z"
   },
   {
    "duration": 16,
    "start_time": "2023-02-16T09:45:18.005Z"
   },
   {
    "duration": 3,
    "start_time": "2023-02-16T09:45:18.024Z"
   },
   {
    "duration": 40,
    "start_time": "2023-02-16T09:45:18.029Z"
   },
   {
    "duration": 40,
    "start_time": "2023-02-16T09:45:18.070Z"
   },
   {
    "duration": 41,
    "start_time": "2023-02-16T09:45:18.112Z"
   },
   {
    "duration": 4,
    "start_time": "2023-02-16T09:45:18.155Z"
   },
   {
    "duration": 34,
    "start_time": "2023-02-16T09:45:18.161Z"
   },
   {
    "duration": 66,
    "start_time": "2023-02-16T09:45:18.196Z"
   },
   {
    "duration": 15,
    "start_time": "2023-02-16T09:45:18.264Z"
   },
   {
    "duration": 4,
    "start_time": "2023-02-16T09:45:18.280Z"
   },
   {
    "duration": 10,
    "start_time": "2023-02-16T09:45:18.286Z"
   },
   {
    "duration": 50,
    "start_time": "2023-02-16T09:45:18.297Z"
   },
   {
    "duration": 4,
    "start_time": "2023-02-16T09:45:18.350Z"
   },
   {
    "duration": 40,
    "start_time": "2023-02-16T09:45:18.355Z"
   },
   {
    "duration": 66,
    "start_time": "2023-02-16T09:45:18.397Z"
   },
   {
    "duration": 8,
    "start_time": "2023-02-16T09:45:18.465Z"
   },
   {
    "duration": 1517,
    "start_time": "2023-02-16T09:45:18.475Z"
   },
   {
    "duration": 131,
    "start_time": "2023-02-16T09:45:19.993Z"
   },
   {
    "duration": 9,
    "start_time": "2023-02-16T09:45:20.125Z"
   },
   {
    "duration": 9,
    "start_time": "2023-02-16T09:45:20.136Z"
   },
   {
    "duration": 15,
    "start_time": "2023-02-16T09:45:20.147Z"
   },
   {
    "duration": 13,
    "start_time": "2023-02-16T09:45:20.164Z"
   },
   {
    "duration": 908,
    "start_time": "2023-02-16T09:45:20.178Z"
   },
   {
    "duration": 295,
    "start_time": "2023-02-16T09:45:21.088Z"
   },
   {
    "duration": 1447,
    "start_time": "2023-02-16T11:01:05.247Z"
   },
   {
    "duration": 93,
    "start_time": "2023-02-16T11:01:06.696Z"
   },
   {
    "duration": 53,
    "start_time": "2023-02-16T11:01:06.791Z"
   },
   {
    "duration": 21,
    "start_time": "2023-02-16T11:01:06.847Z"
   },
   {
    "duration": 4,
    "start_time": "2023-02-16T11:01:06.872Z"
   },
   {
    "duration": 50,
    "start_time": "2023-02-16T11:01:06.878Z"
   },
   {
    "duration": 34,
    "start_time": "2023-02-16T11:01:06.932Z"
   },
   {
    "duration": 32,
    "start_time": "2023-02-16T11:01:06.968Z"
   },
   {
    "duration": 26,
    "start_time": "2023-02-16T11:01:07.001Z"
   },
   {
    "duration": 56,
    "start_time": "2023-02-16T11:01:07.032Z"
   },
   {
    "duration": 61,
    "start_time": "2023-02-16T11:01:07.090Z"
   },
   {
    "duration": 20,
    "start_time": "2023-02-16T11:01:07.153Z"
   },
   {
    "duration": 76,
    "start_time": "2023-02-16T11:01:07.175Z"
   },
   {
    "duration": 17,
    "start_time": "2023-02-16T11:01:07.254Z"
   },
   {
    "duration": 46,
    "start_time": "2023-02-16T11:01:07.273Z"
   },
   {
    "duration": 5,
    "start_time": "2023-02-16T11:01:07.321Z"
   },
   {
    "duration": 51,
    "start_time": "2023-02-16T11:01:07.328Z"
   },
   {
    "duration": 81,
    "start_time": "2023-02-16T11:01:07.381Z"
   },
   {
    "duration": 12,
    "start_time": "2023-02-16T11:01:07.464Z"
   },
   {
    "duration": 1641,
    "start_time": "2023-02-16T11:01:07.478Z"
   },
   {
    "duration": 151,
    "start_time": "2023-02-16T11:01:09.121Z"
   },
   {
    "duration": 12,
    "start_time": "2023-02-16T11:01:09.275Z"
   },
   {
    "duration": 14,
    "start_time": "2023-02-16T11:01:09.291Z"
   },
   {
    "duration": 26,
    "start_time": "2023-02-16T11:01:09.308Z"
   },
   {
    "duration": 14,
    "start_time": "2023-02-16T11:01:09.337Z"
   },
   {
    "duration": 988,
    "start_time": "2023-02-16T11:01:09.354Z"
   },
   {
    "duration": 126,
    "start_time": "2023-02-16T11:01:10.344Z"
   },
   {
    "duration": 11,
    "start_time": "2023-02-16T11:01:10.474Z"
   },
   {
    "duration": 56,
    "start_time": "2023-02-16T11:01:10.487Z"
   },
   {
    "duration": 37,
    "start_time": "2023-02-16T11:01:10.546Z"
   },
   {
    "duration": 93,
    "start_time": "2023-02-16T11:01:10.586Z"
   },
   {
    "duration": 244,
    "start_time": "2023-02-16T11:01:10.681Z"
   },
   {
    "duration": 1298,
    "start_time": "2023-02-16T11:01:37.738Z"
   },
   {
    "duration": 91,
    "start_time": "2023-02-16T11:01:39.038Z"
   },
   {
    "duration": 51,
    "start_time": "2023-02-16T11:01:39.131Z"
   },
   {
    "duration": 20,
    "start_time": "2023-02-16T11:01:39.185Z"
   },
   {
    "duration": 21,
    "start_time": "2023-02-16T11:01:39.208Z"
   },
   {
    "duration": 36,
    "start_time": "2023-02-16T11:01:39.231Z"
   },
   {
    "duration": 63,
    "start_time": "2023-02-16T11:01:39.269Z"
   },
   {
    "duration": 40,
    "start_time": "2023-02-16T11:01:39.334Z"
   },
   {
    "duration": 4,
    "start_time": "2023-02-16T11:01:39.377Z"
   },
   {
    "duration": 73,
    "start_time": "2023-02-16T11:01:39.383Z"
   },
   {
    "duration": 44,
    "start_time": "2023-02-16T11:01:39.459Z"
   },
   {
    "duration": 31,
    "start_time": "2023-02-16T11:01:39.506Z"
   },
   {
    "duration": 4,
    "start_time": "2023-02-16T11:01:39.539Z"
   },
   {
    "duration": 12,
    "start_time": "2023-02-16T11:01:39.546Z"
   },
   {
    "duration": 38,
    "start_time": "2023-02-16T11:01:39.561Z"
   },
   {
    "duration": 6,
    "start_time": "2023-02-16T11:01:39.626Z"
   },
   {
    "duration": 44,
    "start_time": "2023-02-16T11:01:39.635Z"
   },
   {
    "duration": 80,
    "start_time": "2023-02-16T11:01:39.684Z"
   },
   {
    "duration": 10,
    "start_time": "2023-02-16T11:01:39.767Z"
   },
   {
    "duration": 1778,
    "start_time": "2023-02-16T11:01:39.779Z"
   },
   {
    "duration": 143,
    "start_time": "2023-02-16T11:01:41.559Z"
   },
   {
    "duration": 22,
    "start_time": "2023-02-16T11:01:41.705Z"
   },
   {
    "duration": 9,
    "start_time": "2023-02-16T11:01:41.730Z"
   },
   {
    "duration": 9,
    "start_time": "2023-02-16T11:01:41.741Z"
   },
   {
    "duration": 10,
    "start_time": "2023-02-16T11:01:41.752Z"
   },
   {
    "duration": 1089,
    "start_time": "2023-02-16T11:01:41.763Z"
   },
   {
    "duration": 332,
    "start_time": "2023-02-16T11:01:42.854Z"
   },
   {
    "duration": 9,
    "start_time": "2023-02-16T11:01:43.188Z"
   },
   {
    "duration": 30,
    "start_time": "2023-02-16T11:01:43.199Z"
   },
   {
    "duration": 18,
    "start_time": "2023-02-16T11:01:43.231Z"
   },
   {
    "duration": 79,
    "start_time": "2023-02-16T11:01:43.251Z"
   },
   {
    "duration": 284,
    "start_time": "2023-02-16T11:01:43.332Z"
   },
   {
    "duration": 14,
    "start_time": "2023-02-16T11:04:03.293Z"
   },
   {
    "duration": 16,
    "start_time": "2023-02-16T11:05:31.149Z"
   },
   {
    "duration": 88,
    "start_time": "2023-02-16T11:06:11.452Z"
   },
   {
    "duration": 13,
    "start_time": "2023-02-16T11:06:34.480Z"
   },
   {
    "duration": 1496,
    "start_time": "2023-02-16T11:06:58.038Z"
   },
   {
    "duration": 114,
    "start_time": "2023-02-16T11:06:59.536Z"
   },
   {
    "duration": 41,
    "start_time": "2023-02-16T11:06:59.652Z"
   },
   {
    "duration": 17,
    "start_time": "2023-02-16T11:06:59.695Z"
   },
   {
    "duration": 28,
    "start_time": "2023-02-16T11:06:59.715Z"
   },
   {
    "duration": 51,
    "start_time": "2023-02-16T11:06:59.745Z"
   },
   {
    "duration": 44,
    "start_time": "2023-02-16T11:06:59.798Z"
   },
   {
    "duration": 37,
    "start_time": "2023-02-16T11:06:59.844Z"
   },
   {
    "duration": 9,
    "start_time": "2023-02-16T11:06:59.883Z"
   },
   {
    "duration": 81,
    "start_time": "2023-02-16T11:06:59.894Z"
   },
   {
    "duration": 69,
    "start_time": "2023-02-16T11:06:59.980Z"
   },
   {
    "duration": 24,
    "start_time": "2023-02-16T11:07:00.055Z"
   },
   {
    "duration": 24,
    "start_time": "2023-02-16T11:07:00.081Z"
   },
   {
    "duration": 26,
    "start_time": "2023-02-16T11:07:00.111Z"
   },
   {
    "duration": 78,
    "start_time": "2023-02-16T11:07:00.139Z"
   },
   {
    "duration": 4,
    "start_time": "2023-02-16T11:07:00.220Z"
   },
   {
    "duration": 84,
    "start_time": "2023-02-16T11:07:00.226Z"
   },
   {
    "duration": 75,
    "start_time": "2023-02-16T11:07:00.312Z"
   },
   {
    "duration": 12,
    "start_time": "2023-02-16T11:07:00.389Z"
   },
   {
    "duration": 2215,
    "start_time": "2023-02-16T11:07:00.415Z"
   },
   {
    "duration": 163,
    "start_time": "2023-02-16T11:07:02.635Z"
   },
   {
    "duration": 16,
    "start_time": "2023-02-16T11:07:02.801Z"
   },
   {
    "duration": 12,
    "start_time": "2023-02-16T11:07:02.827Z"
   },
   {
    "duration": 21,
    "start_time": "2023-02-16T11:07:02.841Z"
   },
   {
    "duration": 15,
    "start_time": "2023-02-16T11:07:02.864Z"
   },
   {
    "duration": 19,
    "start_time": "2023-02-16T11:07:02.881Z"
   },
   {
    "duration": 26,
    "start_time": "2023-02-16T11:07:02.902Z"
   },
   {
    "duration": 1398,
    "start_time": "2023-02-16T11:07:02.931Z"
   },
   {
    "duration": 758,
    "start_time": "2023-02-16T11:07:04.332Z"
   },
   {
    "duration": 15,
    "start_time": "2023-02-16T11:07:05.128Z"
   },
   {
    "duration": 95,
    "start_time": "2023-02-16T11:07:05.146Z"
   },
   {
    "duration": 38,
    "start_time": "2023-02-16T11:07:05.244Z"
   },
   {
    "duration": 167,
    "start_time": "2023-02-16T11:07:05.284Z"
   },
   {
    "duration": 600,
    "start_time": "2023-02-16T11:07:05.454Z"
   },
   {
    "duration": 1253,
    "start_time": "2023-02-16T11:08:37.481Z"
   },
   {
    "duration": 102,
    "start_time": "2023-02-16T11:08:38.737Z"
   },
   {
    "duration": 49,
    "start_time": "2023-02-16T11:08:38.841Z"
   },
   {
    "duration": 37,
    "start_time": "2023-02-16T11:08:38.893Z"
   },
   {
    "duration": 5,
    "start_time": "2023-02-16T11:08:38.934Z"
   },
   {
    "duration": 32,
    "start_time": "2023-02-16T11:08:38.941Z"
   },
   {
    "duration": 30,
    "start_time": "2023-02-16T11:08:38.975Z"
   },
   {
    "duration": 43,
    "start_time": "2023-02-16T11:08:39.007Z"
   },
   {
    "duration": 5,
    "start_time": "2023-02-16T11:08:39.052Z"
   },
   {
    "duration": 36,
    "start_time": "2023-02-16T11:08:39.059Z"
   },
   {
    "duration": 63,
    "start_time": "2023-02-16T11:08:39.097Z"
   },
   {
    "duration": 25,
    "start_time": "2023-02-16T11:08:39.162Z"
   },
   {
    "duration": 5,
    "start_time": "2023-02-16T11:08:39.189Z"
   },
   {
    "duration": 37,
    "start_time": "2023-02-16T11:08:39.197Z"
   },
   {
    "duration": 38,
    "start_time": "2023-02-16T11:08:39.236Z"
   },
   {
    "duration": 4,
    "start_time": "2023-02-16T11:08:39.275Z"
   },
   {
    "duration": 56,
    "start_time": "2023-02-16T11:08:39.281Z"
   },
   {
    "duration": 52,
    "start_time": "2023-02-16T11:08:39.339Z"
   },
   {
    "duration": 10,
    "start_time": "2023-02-16T11:08:39.393Z"
   },
   {
    "duration": 2111,
    "start_time": "2023-02-16T11:08:39.428Z"
   },
   {
    "duration": 286,
    "start_time": "2023-02-16T11:08:41.541Z"
   },
   {
    "duration": 13,
    "start_time": "2023-02-16T11:08:41.830Z"
   },
   {
    "duration": 12,
    "start_time": "2023-02-16T11:08:41.845Z"
   },
   {
    "duration": 73,
    "start_time": "2023-02-16T11:08:41.859Z"
   },
   {
    "duration": 14,
    "start_time": "2023-02-16T11:08:41.934Z"
   },
   {
    "duration": 13,
    "start_time": "2023-02-16T11:08:41.950Z"
   },
   {
    "duration": 63,
    "start_time": "2023-02-16T11:08:41.965Z"
   },
   {
    "duration": 13,
    "start_time": "2023-02-16T11:08:42.031Z"
   },
   {
    "duration": 1515,
    "start_time": "2023-02-16T11:08:42.046Z"
   },
   {
    "duration": 296,
    "start_time": "2023-02-16T11:08:43.563Z"
   },
   {
    "duration": 10,
    "start_time": "2023-02-16T11:08:43.861Z"
   },
   {
    "duration": 25,
    "start_time": "2023-02-16T11:08:43.874Z"
   },
   {
    "duration": 29,
    "start_time": "2023-02-16T11:08:43.901Z"
   },
   {
    "duration": 50,
    "start_time": "2023-02-16T11:08:43.932Z"
   },
   {
    "duration": 250,
    "start_time": "2023-02-16T11:08:43.984Z"
   },
   {
    "duration": 14,
    "start_time": "2023-02-16T11:08:50.235Z"
   },
   {
    "duration": 12,
    "start_time": "2023-02-16T11:08:53.949Z"
   },
   {
    "duration": 1414,
    "start_time": "2023-02-16T11:09:00.038Z"
   },
   {
    "duration": 100,
    "start_time": "2023-02-16T11:09:01.454Z"
   },
   {
    "duration": 51,
    "start_time": "2023-02-16T11:09:01.556Z"
   },
   {
    "duration": 20,
    "start_time": "2023-02-16T11:09:01.610Z"
   },
   {
    "duration": 15,
    "start_time": "2023-02-16T11:09:01.634Z"
   },
   {
    "duration": 52,
    "start_time": "2023-02-16T11:09:01.651Z"
   },
   {
    "duration": 49,
    "start_time": "2023-02-16T11:09:01.705Z"
   },
   {
    "duration": 32,
    "start_time": "2023-02-16T11:09:01.756Z"
   },
   {
    "duration": 6,
    "start_time": "2023-02-16T11:09:01.790Z"
   },
   {
    "duration": 67,
    "start_time": "2023-02-16T11:09:01.799Z"
   },
   {
    "duration": 60,
    "start_time": "2023-02-16T11:09:01.867Z"
   },
   {
    "duration": 16,
    "start_time": "2023-02-16T11:09:01.929Z"
   },
   {
    "duration": 13,
    "start_time": "2023-02-16T11:09:01.947Z"
   },
   {
    "duration": 29,
    "start_time": "2023-02-16T11:09:01.962Z"
   },
   {
    "duration": 51,
    "start_time": "2023-02-16T11:09:01.993Z"
   },
   {
    "duration": 5,
    "start_time": "2023-02-16T11:09:02.046Z"
   },
   {
    "duration": 57,
    "start_time": "2023-02-16T11:09:02.053Z"
   },
   {
    "duration": 61,
    "start_time": "2023-02-16T11:09:02.112Z"
   },
   {
    "duration": 12,
    "start_time": "2023-02-16T11:09:02.175Z"
   },
   {
    "duration": 1573,
    "start_time": "2023-02-16T11:09:02.190Z"
   },
   {
    "duration": 144,
    "start_time": "2023-02-16T11:09:03.766Z"
   },
   {
    "duration": 18,
    "start_time": "2023-02-16T11:09:03.912Z"
   },
   {
    "duration": 10,
    "start_time": "2023-02-16T11:09:03.932Z"
   },
   {
    "duration": 18,
    "start_time": "2023-02-16T11:09:03.944Z"
   },
   {
    "duration": 12,
    "start_time": "2023-02-16T11:09:03.963Z"
   },
   {
    "duration": 15,
    "start_time": "2023-02-16T11:09:03.977Z"
   },
   {
    "duration": 39,
    "start_time": "2023-02-16T11:09:03.994Z"
   },
   {
    "duration": 23,
    "start_time": "2023-02-16T11:09:04.036Z"
   },
   {
    "duration": 961,
    "start_time": "2023-02-16T11:09:04.060Z"
   },
   {
    "duration": 302,
    "start_time": "2023-02-16T11:09:05.027Z"
   },
   {
    "duration": 9,
    "start_time": "2023-02-16T11:09:05.331Z"
   },
   {
    "duration": 15,
    "start_time": "2023-02-16T11:09:05.342Z"
   },
   {
    "duration": 20,
    "start_time": "2023-02-16T11:09:05.359Z"
   },
   {
    "duration": 71,
    "start_time": "2023-02-16T11:09:05.381Z"
   },
   {
    "duration": 272,
    "start_time": "2023-02-16T11:09:05.455Z"
   },
   {
    "duration": 1281,
    "start_time": "2023-02-16T11:09:54.347Z"
   },
   {
    "duration": 113,
    "start_time": "2023-02-16T11:09:55.630Z"
   },
   {
    "duration": 56,
    "start_time": "2023-02-16T11:09:55.746Z"
   },
   {
    "duration": 25,
    "start_time": "2023-02-16T11:09:55.804Z"
   },
   {
    "duration": 5,
    "start_time": "2023-02-16T11:09:55.832Z"
   },
   {
    "duration": 39,
    "start_time": "2023-02-16T11:09:55.839Z"
   },
   {
    "duration": 58,
    "start_time": "2023-02-16T11:09:55.881Z"
   },
   {
    "duration": 42,
    "start_time": "2023-02-16T11:09:55.941Z"
   },
   {
    "duration": 5,
    "start_time": "2023-02-16T11:09:55.985Z"
   },
   {
    "duration": 78,
    "start_time": "2023-02-16T11:09:55.993Z"
   },
   {
    "duration": 65,
    "start_time": "2023-02-16T11:09:56.074Z"
   },
   {
    "duration": 16,
    "start_time": "2023-02-16T11:09:56.141Z"
   },
   {
    "duration": 6,
    "start_time": "2023-02-16T11:09:56.159Z"
   },
   {
    "duration": 11,
    "start_time": "2023-02-16T11:09:56.170Z"
   },
   {
    "duration": 64,
    "start_time": "2023-02-16T11:09:56.183Z"
   },
   {
    "duration": 4,
    "start_time": "2023-02-16T11:09:56.249Z"
   },
   {
    "duration": 47,
    "start_time": "2023-02-16T11:09:56.255Z"
   },
   {
    "duration": 85,
    "start_time": "2023-02-16T11:09:56.304Z"
   },
   {
    "duration": 13,
    "start_time": "2023-02-16T11:09:56.392Z"
   },
   {
    "duration": 1651,
    "start_time": "2023-02-16T11:09:56.406Z"
   },
   {
    "duration": 144,
    "start_time": "2023-02-16T11:09:58.060Z"
   },
   {
    "duration": 9,
    "start_time": "2023-02-16T11:09:58.205Z"
   },
   {
    "duration": 9,
    "start_time": "2023-02-16T11:09:58.227Z"
   },
   {
    "duration": 9,
    "start_time": "2023-02-16T11:09:58.238Z"
   },
   {
    "duration": 12,
    "start_time": "2023-02-16T11:09:58.248Z"
   },
   {
    "duration": 12,
    "start_time": "2023-02-16T11:09:58.262Z"
   },
   {
    "duration": 27,
    "start_time": "2023-02-16T11:09:58.275Z"
   },
   {
    "duration": 28,
    "start_time": "2023-02-16T11:09:58.303Z"
   },
   {
    "duration": 11,
    "start_time": "2023-02-16T11:09:58.333Z"
   },
   {
    "duration": 833,
    "start_time": "2023-02-16T11:09:58.346Z"
   },
   {
    "duration": 341,
    "start_time": "2023-02-16T11:09:59.181Z"
   },
   {
    "duration": 9,
    "start_time": "2023-02-16T11:09:59.523Z"
   },
   {
    "duration": 18,
    "start_time": "2023-02-16T11:09:59.535Z"
   },
   {
    "duration": 17,
    "start_time": "2023-02-16T11:09:59.555Z"
   },
   {
    "duration": 72,
    "start_time": "2023-02-16T11:09:59.574Z"
   },
   {
    "duration": 195,
    "start_time": "2023-02-16T11:09:59.648Z"
   },
   {
    "duration": 49,
    "start_time": "2023-02-16T11:16:18.443Z"
   },
   {
    "duration": 196,
    "start_time": "2023-02-16T11:16:36.159Z"
   },
   {
    "duration": 14,
    "start_time": "2023-02-16T11:16:53.676Z"
   },
   {
    "duration": 41,
    "start_time": "2023-02-16T11:17:46.244Z"
   },
   {
    "duration": 20,
    "start_time": "2023-02-16T11:18:31.038Z"
   },
   {
    "duration": 25,
    "start_time": "2023-02-16T11:18:40.779Z"
   },
   {
    "duration": 27,
    "start_time": "2023-02-16T11:19:53.854Z"
   },
   {
    "duration": 14,
    "start_time": "2023-02-16T11:54:45.242Z"
   },
   {
    "duration": 34,
    "start_time": "2023-02-16T11:54:56.529Z"
   },
   {
    "duration": 43,
    "start_time": "2023-02-16T16:09:43.958Z"
   },
   {
    "duration": 13,
    "start_time": "2023-02-16T16:19:59.711Z"
   },
   {
    "duration": 6,
    "start_time": "2023-02-16T16:22:17.378Z"
   },
   {
    "duration": 7,
    "start_time": "2023-02-16T16:23:12.433Z"
   },
   {
    "duration": 18,
    "start_time": "2023-02-16T16:23:26.712Z"
   },
   {
    "duration": 18,
    "start_time": "2023-02-16T16:24:31.176Z"
   },
   {
    "duration": 14,
    "start_time": "2023-02-16T16:24:51.524Z"
   },
   {
    "duration": 17,
    "start_time": "2023-02-16T16:24:56.440Z"
   },
   {
    "duration": 8,
    "start_time": "2023-02-16T16:28:20.854Z"
   },
   {
    "duration": 10,
    "start_time": "2023-02-16T16:28:28.291Z"
   },
   {
    "duration": 9,
    "start_time": "2023-02-16T16:29:06.868Z"
   },
   {
    "duration": 9,
    "start_time": "2023-02-16T16:29:41.660Z"
   },
   {
    "duration": 15,
    "start_time": "2023-02-16T16:29:57.743Z"
   },
   {
    "duration": 16,
    "start_time": "2023-02-16T16:30:19.732Z"
   },
   {
    "duration": 15,
    "start_time": "2023-02-16T16:30:38.517Z"
   },
   {
    "duration": 14,
    "start_time": "2023-02-16T16:31:36.044Z"
   },
   {
    "duration": 15,
    "start_time": "2023-02-16T16:31:44.146Z"
   },
   {
    "duration": 12,
    "start_time": "2023-02-16T16:32:40.777Z"
   },
   {
    "duration": 3,
    "start_time": "2023-02-16T16:33:14.887Z"
   },
   {
    "duration": 2,
    "start_time": "2023-02-16T16:33:23.966Z"
   },
   {
    "duration": 1265,
    "start_time": "2023-02-16T16:33:41.610Z"
   },
   {
    "duration": 98,
    "start_time": "2023-02-16T16:33:42.877Z"
   },
   {
    "duration": 36,
    "start_time": "2023-02-16T16:33:42.976Z"
   },
   {
    "duration": 15,
    "start_time": "2023-02-16T16:33:43.015Z"
   },
   {
    "duration": 4,
    "start_time": "2023-02-16T16:33:43.032Z"
   },
   {
    "duration": 28,
    "start_time": "2023-02-16T16:33:43.038Z"
   },
   {
    "duration": 32,
    "start_time": "2023-02-16T16:33:43.067Z"
   },
   {
    "duration": 47,
    "start_time": "2023-02-16T16:33:43.101Z"
   },
   {
    "duration": 4,
    "start_time": "2023-02-16T16:33:43.150Z"
   },
   {
    "duration": 33,
    "start_time": "2023-02-16T16:33:43.157Z"
   },
   {
    "duration": 53,
    "start_time": "2023-02-16T16:33:43.192Z"
   },
   {
    "duration": 13,
    "start_time": "2023-02-16T16:33:43.247Z"
   },
   {
    "duration": 4,
    "start_time": "2023-02-16T16:33:43.262Z"
   },
   {
    "duration": 12,
    "start_time": "2023-02-16T16:33:43.268Z"
   },
   {
    "duration": 56,
    "start_time": "2023-02-16T16:33:43.282Z"
   },
   {
    "duration": 4,
    "start_time": "2023-02-16T16:33:43.339Z"
   },
   {
    "duration": 33,
    "start_time": "2023-02-16T16:33:43.344Z"
   },
   {
    "duration": 72,
    "start_time": "2023-02-16T16:33:43.379Z"
   },
   {
    "duration": 9,
    "start_time": "2023-02-16T16:33:43.452Z"
   },
   {
    "duration": 1499,
    "start_time": "2023-02-16T16:33:43.462Z"
   },
   {
    "duration": 135,
    "start_time": "2023-02-16T16:33:44.963Z"
   },
   {
    "duration": 9,
    "start_time": "2023-02-16T16:33:45.100Z"
   },
   {
    "duration": 22,
    "start_time": "2023-02-16T16:33:45.110Z"
   },
   {
    "duration": 13,
    "start_time": "2023-02-16T16:33:45.134Z"
   },
   {
    "duration": 28,
    "start_time": "2023-02-16T16:33:45.149Z"
   },
   {
    "duration": 10,
    "start_time": "2023-02-16T16:33:45.179Z"
   },
   {
    "duration": 13,
    "start_time": "2023-02-16T16:33:45.191Z"
   },
   {
    "duration": 15,
    "start_time": "2023-02-16T16:33:45.207Z"
   },
   {
    "duration": 12,
    "start_time": "2023-02-16T16:33:45.224Z"
   },
   {
    "duration": 923,
    "start_time": "2023-02-16T16:33:45.238Z"
   },
   {
    "duration": 121,
    "start_time": "2023-02-16T16:33:46.163Z"
   },
   {
    "duration": 9,
    "start_time": "2023-02-16T16:33:46.285Z"
   },
   {
    "duration": 15,
    "start_time": "2023-02-16T16:33:46.296Z"
   },
   {
    "duration": 16,
    "start_time": "2023-02-16T16:33:46.327Z"
   },
   {
    "duration": 16,
    "start_time": "2023-02-16T16:33:46.345Z"
   },
   {
    "duration": 29,
    "start_time": "2023-02-16T16:33:46.363Z"
   },
   {
    "duration": 41,
    "start_time": "2023-02-16T16:33:46.394Z"
   },
   {
    "duration": 14,
    "start_time": "2023-02-16T16:33:46.436Z"
   },
   {
    "duration": 42,
    "start_time": "2023-02-16T16:33:46.452Z"
   },
   {
    "duration": 68,
    "start_time": "2023-02-16T16:33:46.496Z"
   },
   {
    "duration": 187,
    "start_time": "2023-02-16T16:33:46.565Z"
   },
   {
    "duration": 1293,
    "start_time": "2023-02-16T16:35:30.832Z"
   },
   {
    "duration": 6,
    "start_time": "2023-02-16T16:35:37.019Z"
   },
   {
    "duration": 21,
    "start_time": "2023-02-16T16:35:55.807Z"
   },
   {
    "duration": 12,
    "start_time": "2023-02-16T16:36:46.688Z"
   },
   {
    "duration": 25,
    "start_time": "2023-02-16T16:37:22.120Z"
   },
   {
    "duration": 13,
    "start_time": "2023-02-16T16:38:12.193Z"
   },
   {
    "duration": 12,
    "start_time": "2023-02-16T16:38:52.052Z"
   },
   {
    "duration": 14,
    "start_time": "2023-02-16T16:40:16.582Z"
   },
   {
    "duration": 6,
    "start_time": "2023-02-16T16:40:57.740Z"
   },
   {
    "duration": 1274,
    "start_time": "2023-02-16T16:41:05.296Z"
   },
   {
    "duration": 89,
    "start_time": "2023-02-16T16:41:06.571Z"
   },
   {
    "duration": 38,
    "start_time": "2023-02-16T16:41:06.663Z"
   },
   {
    "duration": 16,
    "start_time": "2023-02-16T16:41:06.703Z"
   },
   {
    "duration": 3,
    "start_time": "2023-02-16T16:41:06.722Z"
   },
   {
    "duration": 27,
    "start_time": "2023-02-16T16:41:06.727Z"
   },
   {
    "duration": 33,
    "start_time": "2023-02-16T16:41:06.756Z"
   },
   {
    "duration": 47,
    "start_time": "2023-02-16T16:41:06.791Z"
   },
   {
    "duration": 4,
    "start_time": "2023-02-16T16:41:06.840Z"
   },
   {
    "duration": 42,
    "start_time": "2023-02-16T16:41:06.846Z"
   },
   {
    "duration": 59,
    "start_time": "2023-02-16T16:41:06.890Z"
   },
   {
    "duration": 15,
    "start_time": "2023-02-16T16:41:06.950Z"
   },
   {
    "duration": 5,
    "start_time": "2023-02-16T16:41:06.967Z"
   },
   {
    "duration": 7,
    "start_time": "2023-02-16T16:41:06.976Z"
   },
   {
    "duration": 63,
    "start_time": "2023-02-16T16:41:06.985Z"
   },
   {
    "duration": 3,
    "start_time": "2023-02-16T16:41:07.050Z"
   },
   {
    "duration": 32,
    "start_time": "2023-02-16T16:41:07.055Z"
   },
   {
    "duration": 63,
    "start_time": "2023-02-16T16:41:07.089Z"
   },
   {
    "duration": 9,
    "start_time": "2023-02-16T16:41:07.154Z"
   },
   {
    "duration": 1486,
    "start_time": "2023-02-16T16:41:07.164Z"
   },
   {
    "duration": 136,
    "start_time": "2023-02-16T16:41:08.652Z"
   },
   {
    "duration": 9,
    "start_time": "2023-02-16T16:41:08.790Z"
   },
   {
    "duration": 26,
    "start_time": "2023-02-16T16:41:08.801Z"
   },
   {
    "duration": 10,
    "start_time": "2023-02-16T16:41:08.829Z"
   },
   {
    "duration": 16,
    "start_time": "2023-02-16T16:41:08.841Z"
   },
   {
    "duration": 9,
    "start_time": "2023-02-16T16:41:08.859Z"
   },
   {
    "duration": 8,
    "start_time": "2023-02-16T16:41:08.869Z"
   },
   {
    "duration": 7,
    "start_time": "2023-02-16T16:41:08.879Z"
   },
   {
    "duration": 41,
    "start_time": "2023-02-16T16:41:08.887Z"
   },
   {
    "duration": 903,
    "start_time": "2023-02-16T16:41:08.930Z"
   },
   {
    "duration": 122,
    "start_time": "2023-02-16T16:41:09.835Z"
   },
   {
    "duration": 9,
    "start_time": "2023-02-16T16:41:09.958Z"
   },
   {
    "duration": 14,
    "start_time": "2023-02-16T16:41:09.968Z"
   },
   {
    "duration": 13,
    "start_time": "2023-02-16T16:41:09.984Z"
   },
   {
    "duration": 39,
    "start_time": "2023-02-16T16:41:09.999Z"
   },
   {
    "duration": 21,
    "start_time": "2023-02-16T16:41:10.039Z"
   },
   {
    "duration": 6,
    "start_time": "2023-02-16T16:41:10.061Z"
   },
   {
    "duration": 17,
    "start_time": "2023-02-16T16:41:10.068Z"
   },
   {
    "duration": 75,
    "start_time": "2023-02-16T16:41:10.087Z"
   },
   {
    "duration": 45,
    "start_time": "2023-02-16T16:41:10.163Z"
   },
   {
    "duration": 260,
    "start_time": "2023-02-16T16:41:10.211Z"
   },
   {
    "duration": 21,
    "start_time": "2023-02-16T16:43:33.981Z"
   },
   {
    "duration": 1277,
    "start_time": "2023-02-16T16:44:25.774Z"
   },
   {
    "duration": 90,
    "start_time": "2023-02-16T16:44:27.054Z"
   },
   {
    "duration": 33,
    "start_time": "2023-02-16T16:44:27.146Z"
   },
   {
    "duration": 15,
    "start_time": "2023-02-16T16:44:27.181Z"
   },
   {
    "duration": 3,
    "start_time": "2023-02-16T16:44:27.198Z"
   },
   {
    "duration": 34,
    "start_time": "2023-02-16T16:44:27.203Z"
   },
   {
    "duration": 30,
    "start_time": "2023-02-16T16:44:27.238Z"
   },
   {
    "duration": 25,
    "start_time": "2023-02-16T16:44:27.269Z"
   },
   {
    "duration": 3,
    "start_time": "2023-02-16T16:44:27.296Z"
   },
   {
    "duration": 56,
    "start_time": "2023-02-16T16:44:27.303Z"
   },
   {
    "duration": 40,
    "start_time": "2023-02-16T16:44:27.360Z"
   },
   {
    "duration": 30,
    "start_time": "2023-02-16T16:44:27.402Z"
   },
   {
    "duration": 3,
    "start_time": "2023-02-16T16:44:27.434Z"
   },
   {
    "duration": 10,
    "start_time": "2023-02-16T16:44:27.438Z"
   },
   {
    "duration": 28,
    "start_time": "2023-02-16T16:44:27.449Z"
   },
   {
    "duration": 3,
    "start_time": "2023-02-16T16:44:27.479Z"
   },
   {
    "duration": 58,
    "start_time": "2023-02-16T16:44:27.483Z"
   },
   {
    "duration": 50,
    "start_time": "2023-02-16T16:44:27.543Z"
   },
   {
    "duration": 9,
    "start_time": "2023-02-16T16:44:27.595Z"
   },
   {
    "duration": 1537,
    "start_time": "2023-02-16T16:44:27.606Z"
   },
   {
    "duration": 137,
    "start_time": "2023-02-16T16:44:29.145Z"
   },
   {
    "duration": 10,
    "start_time": "2023-02-16T16:44:29.283Z"
   },
   {
    "duration": 10,
    "start_time": "2023-02-16T16:44:29.295Z"
   },
   {
    "duration": 25,
    "start_time": "2023-02-16T16:44:29.307Z"
   },
   {
    "duration": 10,
    "start_time": "2023-02-16T16:44:29.334Z"
   },
   {
    "duration": 9,
    "start_time": "2023-02-16T16:44:29.346Z"
   },
   {
    "duration": 8,
    "start_time": "2023-02-16T16:44:29.356Z"
   },
   {
    "duration": 7,
    "start_time": "2023-02-16T16:44:29.368Z"
   },
   {
    "duration": 9,
    "start_time": "2023-02-16T16:44:29.376Z"
   },
   {
    "duration": 820,
    "start_time": "2023-02-16T16:44:29.387Z"
   },
   {
    "duration": 358,
    "start_time": "2023-02-16T16:44:30.209Z"
   },
   {
    "duration": 11,
    "start_time": "2023-02-16T16:44:30.569Z"
   },
   {
    "duration": 23,
    "start_time": "2023-02-16T16:44:30.582Z"
   },
   {
    "duration": 56,
    "start_time": "2023-02-16T16:44:30.607Z"
   },
   {
    "duration": 22,
    "start_time": "2023-02-16T16:44:30.665Z"
   },
   {
    "duration": 20,
    "start_time": "2023-02-16T16:44:30.689Z"
   },
   {
    "duration": 7,
    "start_time": "2023-02-16T16:44:30.711Z"
   },
   {
    "duration": 51,
    "start_time": "2023-02-16T16:44:30.719Z"
   },
   {
    "duration": 55,
    "start_time": "2023-02-16T16:44:30.772Z"
   },
   {
    "duration": 63,
    "start_time": "2023-02-16T16:44:30.829Z"
   },
   {
    "duration": 48,
    "start_time": "2023-02-16T16:44:30.893Z"
   },
   {
    "duration": 206,
    "start_time": "2023-02-16T16:44:30.943Z"
   },
   {
    "duration": 6,
    "start_time": "2023-02-16T16:45:02.806Z"
   },
   {
    "duration": 13,
    "start_time": "2023-02-16T16:45:09.596Z"
   },
   {
    "duration": 15,
    "start_time": "2023-02-16T16:45:46.838Z"
   },
   {
    "duration": 17,
    "start_time": "2023-02-16T16:46:20.050Z"
   },
   {
    "duration": 23,
    "start_time": "2023-02-16T16:52:04.413Z"
   },
   {
    "duration": 25,
    "start_time": "2023-02-16T16:52:17.234Z"
   },
   {
    "duration": 37,
    "start_time": "2023-02-16T16:54:41.716Z"
   },
   {
    "duration": 37,
    "start_time": "2023-02-16T16:55:14.199Z"
   },
   {
    "duration": 36,
    "start_time": "2023-02-16T16:55:46.945Z"
   },
   {
    "duration": 40,
    "start_time": "2023-02-16T16:56:23.402Z"
   },
   {
    "duration": 39,
    "start_time": "2023-02-16T16:56:41.228Z"
   },
   {
    "duration": 45,
    "start_time": "2023-02-16T16:57:46.905Z"
   },
   {
    "duration": 30,
    "start_time": "2023-02-16T16:58:24.660Z"
   },
   {
    "duration": 22,
    "start_time": "2023-02-16T16:59:09.323Z"
   },
   {
    "duration": 26,
    "start_time": "2023-02-16T17:01:53.960Z"
   },
   {
    "duration": 26,
    "start_time": "2023-02-16T17:02:31.283Z"
   },
   {
    "duration": 805,
    "start_time": "2023-02-16T17:11:41.430Z"
   },
   {
    "duration": 465,
    "start_time": "2023-02-16T17:12:00.044Z"
   },
   {
    "duration": 1248,
    "start_time": "2023-02-16T19:31:41.292Z"
   },
   {
    "duration": 96,
    "start_time": "2023-02-16T19:31:42.542Z"
   },
   {
    "duration": 43,
    "start_time": "2023-02-16T19:31:42.643Z"
   },
   {
    "duration": 15,
    "start_time": "2023-02-16T19:31:42.689Z"
   },
   {
    "duration": 4,
    "start_time": "2023-02-16T19:31:42.706Z"
   },
   {
    "duration": 39,
    "start_time": "2023-02-16T19:31:42.711Z"
   },
   {
    "duration": 29,
    "start_time": "2023-02-16T19:31:42.752Z"
   },
   {
    "duration": 44,
    "start_time": "2023-02-16T19:31:42.783Z"
   },
   {
    "duration": 4,
    "start_time": "2023-02-16T19:31:42.829Z"
   },
   {
    "duration": 35,
    "start_time": "2023-02-16T19:31:42.836Z"
   },
   {
    "duration": 32,
    "start_time": "2023-02-16T19:31:42.873Z"
   },
   {
    "duration": 15,
    "start_time": "2023-02-16T19:31:42.928Z"
   },
   {
    "duration": 4,
    "start_time": "2023-02-16T19:31:42.945Z"
   },
   {
    "duration": 16,
    "start_time": "2023-02-16T19:31:42.951Z"
   },
   {
    "duration": 28,
    "start_time": "2023-02-16T19:31:42.969Z"
   },
   {
    "duration": 3,
    "start_time": "2023-02-16T19:31:42.999Z"
   },
   {
    "duration": 53,
    "start_time": "2023-02-16T19:31:43.004Z"
   },
   {
    "duration": 48,
    "start_time": "2023-02-16T19:31:43.058Z"
   },
   {
    "duration": 21,
    "start_time": "2023-02-16T19:31:43.107Z"
   },
   {
    "duration": 1449,
    "start_time": "2023-02-16T19:31:43.130Z"
   },
   {
    "duration": 135,
    "start_time": "2023-02-16T19:31:44.580Z"
   },
   {
    "duration": 18,
    "start_time": "2023-02-16T19:31:44.717Z"
   },
   {
    "duration": 12,
    "start_time": "2023-02-16T19:31:44.737Z"
   },
   {
    "duration": 10,
    "start_time": "2023-02-16T19:31:44.751Z"
   },
   {
    "duration": 12,
    "start_time": "2023-02-16T19:31:44.763Z"
   },
   {
    "duration": 9,
    "start_time": "2023-02-16T19:31:44.777Z"
   },
   {
    "duration": 48,
    "start_time": "2023-02-16T19:31:44.788Z"
   },
   {
    "duration": 8,
    "start_time": "2023-02-16T19:31:44.841Z"
   },
   {
    "duration": 11,
    "start_time": "2023-02-16T19:31:44.851Z"
   },
   {
    "duration": 917,
    "start_time": "2023-02-16T19:31:44.864Z"
   },
   {
    "duration": 123,
    "start_time": "2023-02-16T19:31:45.782Z"
   },
   {
    "duration": 21,
    "start_time": "2023-02-16T19:31:45.907Z"
   },
   {
    "duration": 14,
    "start_time": "2023-02-16T19:31:45.930Z"
   },
   {
    "duration": 13,
    "start_time": "2023-02-16T19:31:45.946Z"
   },
   {
    "duration": 14,
    "start_time": "2023-02-16T19:31:45.960Z"
   },
   {
    "duration": 19,
    "start_time": "2023-02-16T19:31:45.976Z"
   },
   {
    "duration": 32,
    "start_time": "2023-02-16T19:31:45.997Z"
   },
   {
    "duration": 42,
    "start_time": "2023-02-16T19:31:46.031Z"
   },
   {
    "duration": 242,
    "start_time": "2023-02-16T19:31:46.075Z"
   },
   {
    "duration": 50,
    "start_time": "2023-02-16T19:31:46.320Z"
   },
   {
    "duration": 66,
    "start_time": "2023-02-16T19:31:46.372Z"
   },
   {
    "duration": 188,
    "start_time": "2023-02-16T19:31:46.440Z"
   },
   {
    "duration": 218,
    "start_time": "2023-02-16T19:32:13.830Z"
   },
   {
    "duration": 1245,
    "start_time": "2023-02-16T19:32:22.090Z"
   },
   {
    "duration": 88,
    "start_time": "2023-02-16T19:32:23.337Z"
   },
   {
    "duration": 32,
    "start_time": "2023-02-16T19:32:23.427Z"
   },
   {
    "duration": 14,
    "start_time": "2023-02-16T19:32:23.461Z"
   },
   {
    "duration": 36,
    "start_time": "2023-02-16T19:32:23.477Z"
   },
   {
    "duration": 29,
    "start_time": "2023-02-16T19:32:23.515Z"
   },
   {
    "duration": 29,
    "start_time": "2023-02-16T19:32:23.546Z"
   },
   {
    "duration": 25,
    "start_time": "2023-02-16T19:32:23.577Z"
   },
   {
    "duration": 3,
    "start_time": "2023-02-16T19:32:23.604Z"
   },
   {
    "duration": 33,
    "start_time": "2023-02-16T19:32:23.626Z"
   },
   {
    "duration": 38,
    "start_time": "2023-02-16T19:32:23.660Z"
   },
   {
    "duration": 31,
    "start_time": "2023-02-16T19:32:23.699Z"
   },
   {
    "duration": 4,
    "start_time": "2023-02-16T19:32:23.732Z"
   },
   {
    "duration": 10,
    "start_time": "2023-02-16T19:32:23.738Z"
   },
   {
    "duration": 34,
    "start_time": "2023-02-16T19:32:23.750Z"
   },
   {
    "duration": 3,
    "start_time": "2023-02-16T19:32:23.786Z"
   },
   {
    "duration": 47,
    "start_time": "2023-02-16T19:32:23.790Z"
   },
   {
    "duration": 46,
    "start_time": "2023-02-16T19:32:23.839Z"
   },
   {
    "duration": 8,
    "start_time": "2023-02-16T19:32:23.887Z"
   },
   {
    "duration": 1406,
    "start_time": "2023-02-16T19:32:23.897Z"
   },
   {
    "duration": 127,
    "start_time": "2023-02-16T19:32:25.305Z"
   },
   {
    "duration": 9,
    "start_time": "2023-02-16T19:32:25.433Z"
   },
   {
    "duration": 25,
    "start_time": "2023-02-16T19:32:25.444Z"
   },
   {
    "duration": 25,
    "start_time": "2023-02-16T19:32:25.470Z"
   },
   {
    "duration": 30,
    "start_time": "2023-02-16T19:32:25.497Z"
   },
   {
    "duration": 11,
    "start_time": "2023-02-16T19:32:25.529Z"
   },
   {
    "duration": 29,
    "start_time": "2023-02-16T19:32:25.542Z"
   },
   {
    "duration": 12,
    "start_time": "2023-02-16T19:32:25.575Z"
   },
   {
    "duration": 32,
    "start_time": "2023-02-16T19:32:25.589Z"
   },
   {
    "duration": 901,
    "start_time": "2023-02-16T19:32:25.623Z"
   },
   {
    "duration": 124,
    "start_time": "2023-02-16T19:32:26.528Z"
   },
   {
    "duration": 9,
    "start_time": "2023-02-16T19:32:26.654Z"
   },
   {
    "duration": 22,
    "start_time": "2023-02-16T19:32:26.665Z"
   },
   {
    "duration": 29,
    "start_time": "2023-02-16T19:32:26.689Z"
   },
   {
    "duration": 33,
    "start_time": "2023-02-16T19:32:26.719Z"
   },
   {
    "duration": 25,
    "start_time": "2023-02-16T19:32:26.754Z"
   },
   {
    "duration": 13,
    "start_time": "2023-02-16T19:32:26.781Z"
   },
   {
    "duration": 32,
    "start_time": "2023-02-16T19:32:26.796Z"
   },
   {
    "duration": 227,
    "start_time": "2023-02-16T19:32:26.830Z"
   },
   {
    "duration": 40,
    "start_time": "2023-02-16T19:32:27.059Z"
   },
   {
    "duration": 61,
    "start_time": "2023-02-16T19:32:27.101Z"
   },
   {
    "duration": 180,
    "start_time": "2023-02-16T19:32:27.164Z"
   },
   {
    "duration": 273,
    "start_time": "2023-02-16T19:33:03.906Z"
   },
   {
    "duration": 105,
    "start_time": "2023-02-16T19:34:48.074Z"
   },
   {
    "duration": 105,
    "start_time": "2023-02-16T19:35:39.630Z"
   },
   {
    "duration": 119,
    "start_time": "2023-02-16T19:36:30.777Z"
   },
   {
    "duration": 1217,
    "start_time": "2023-02-16T19:36:37.359Z"
   },
   {
    "duration": 95,
    "start_time": "2023-02-16T19:36:38.578Z"
   },
   {
    "duration": 40,
    "start_time": "2023-02-16T19:36:38.675Z"
   },
   {
    "duration": 25,
    "start_time": "2023-02-16T19:36:38.717Z"
   },
   {
    "duration": 4,
    "start_time": "2023-02-16T19:36:38.744Z"
   },
   {
    "duration": 26,
    "start_time": "2023-02-16T19:36:38.749Z"
   },
   {
    "duration": 30,
    "start_time": "2023-02-16T19:36:38.777Z"
   },
   {
    "duration": 41,
    "start_time": "2023-02-16T19:36:38.809Z"
   },
   {
    "duration": 4,
    "start_time": "2023-02-16T19:36:38.851Z"
   },
   {
    "duration": 36,
    "start_time": "2023-02-16T19:36:38.857Z"
   },
   {
    "duration": 56,
    "start_time": "2023-02-16T19:36:38.895Z"
   },
   {
    "duration": 16,
    "start_time": "2023-02-16T19:36:38.953Z"
   },
   {
    "duration": 4,
    "start_time": "2023-02-16T19:36:38.971Z"
   },
   {
    "duration": 13,
    "start_time": "2023-02-16T19:36:38.977Z"
   },
   {
    "duration": 48,
    "start_time": "2023-02-16T19:36:38.992Z"
   },
   {
    "duration": 3,
    "start_time": "2023-02-16T19:36:39.042Z"
   },
   {
    "duration": 37,
    "start_time": "2023-02-16T19:36:39.047Z"
   },
   {
    "duration": 59,
    "start_time": "2023-02-16T19:36:39.086Z"
   },
   {
    "duration": 9,
    "start_time": "2023-02-16T19:36:39.147Z"
   },
   {
    "duration": 1609,
    "start_time": "2023-02-16T19:36:39.157Z"
   },
   {
    "duration": 132,
    "start_time": "2023-02-16T19:36:40.768Z"
   },
   {
    "duration": 10,
    "start_time": "2023-02-16T19:36:40.902Z"
   },
   {
    "duration": 18,
    "start_time": "2023-02-16T19:36:40.926Z"
   },
   {
    "duration": 14,
    "start_time": "2023-02-16T19:36:40.949Z"
   },
   {
    "duration": 13,
    "start_time": "2023-02-16T19:36:40.964Z"
   },
   {
    "duration": 10,
    "start_time": "2023-02-16T19:36:40.979Z"
   },
   {
    "duration": 9,
    "start_time": "2023-02-16T19:36:40.991Z"
   },
   {
    "duration": 9,
    "start_time": "2023-02-16T19:36:41.026Z"
   },
   {
    "duration": 17,
    "start_time": "2023-02-16T19:36:41.041Z"
   },
   {
    "duration": 918,
    "start_time": "2023-02-16T19:36:41.060Z"
   },
   {
    "duration": 118,
    "start_time": "2023-02-16T19:36:41.979Z"
   },
   {
    "duration": 10,
    "start_time": "2023-02-16T19:36:42.099Z"
   },
   {
    "duration": 44,
    "start_time": "2023-02-16T19:36:42.110Z"
   },
   {
    "duration": 20,
    "start_time": "2023-02-16T19:36:42.156Z"
   },
   {
    "duration": 16,
    "start_time": "2023-02-16T19:36:42.177Z"
   },
   {
    "duration": 21,
    "start_time": "2023-02-16T19:36:42.194Z"
   },
   {
    "duration": 21,
    "start_time": "2023-02-16T19:36:42.217Z"
   },
   {
    "duration": 28,
    "start_time": "2023-02-16T19:36:42.240Z"
   },
   {
    "duration": 301,
    "start_time": "2023-02-16T19:36:42.270Z"
   },
   {
    "duration": 125,
    "start_time": "2023-02-16T19:36:42.573Z"
   },
   {
    "duration": 50,
    "start_time": "2023-02-16T19:36:42.700Z"
   },
   {
    "duration": 44,
    "start_time": "2023-02-16T19:36:42.752Z"
   },
   {
    "duration": 200,
    "start_time": "2023-02-16T19:36:42.798Z"
   },
   {
    "duration": 7,
    "start_time": "2023-02-16T19:37:37.492Z"
   },
   {
    "duration": 1305,
    "start_time": "2023-02-16T19:38:40.169Z"
   },
   {
    "duration": 90,
    "start_time": "2023-02-16T19:38:41.475Z"
   },
   {
    "duration": 33,
    "start_time": "2023-02-16T19:38:41.566Z"
   },
   {
    "duration": 18,
    "start_time": "2023-02-16T19:38:41.602Z"
   },
   {
    "duration": 6,
    "start_time": "2023-02-16T19:38:41.621Z"
   },
   {
    "duration": 40,
    "start_time": "2023-02-16T19:38:41.629Z"
   },
   {
    "duration": 32,
    "start_time": "2023-02-16T19:38:41.671Z"
   },
   {
    "duration": 37,
    "start_time": "2023-02-16T19:38:41.704Z"
   },
   {
    "duration": 3,
    "start_time": "2023-02-16T19:38:41.744Z"
   },
   {
    "duration": 33,
    "start_time": "2023-02-16T19:38:41.751Z"
   },
   {
    "duration": 64,
    "start_time": "2023-02-16T19:38:41.787Z"
   },
   {
    "duration": 18,
    "start_time": "2023-02-16T19:38:41.853Z"
   },
   {
    "duration": 4,
    "start_time": "2023-02-16T19:38:41.874Z"
   },
   {
    "duration": 50,
    "start_time": "2023-02-16T19:38:41.879Z"
   },
   {
    "duration": 3,
    "start_time": "2023-02-16T19:38:41.931Z"
   },
   {
    "duration": 33,
    "start_time": "2023-02-16T19:38:41.936Z"
   },
   {
    "duration": 32,
    "start_time": "2023-02-16T19:38:41.971Z"
   },
   {
    "duration": 25,
    "start_time": "2023-02-16T19:38:42.005Z"
   },
   {
    "duration": 1429,
    "start_time": "2023-02-16T19:38:42.031Z"
   },
   {
    "duration": 123,
    "start_time": "2023-02-16T19:38:43.462Z"
   },
   {
    "duration": 8,
    "start_time": "2023-02-16T19:38:43.586Z"
   },
   {
    "duration": 8,
    "start_time": "2023-02-16T19:38:43.595Z"
   },
   {
    "duration": 26,
    "start_time": "2023-02-16T19:38:43.605Z"
   },
   {
    "duration": 10,
    "start_time": "2023-02-16T19:38:43.633Z"
   },
   {
    "duration": 9,
    "start_time": "2023-02-16T19:38:43.645Z"
   },
   {
    "duration": 1274,
    "start_time": "2023-02-16T19:38:43.656Z"
   },
   {
    "duration": 0,
    "start_time": "2023-02-16T19:38:44.932Z"
   },
   {
    "duration": 0,
    "start_time": "2023-02-16T19:38:44.933Z"
   },
   {
    "duration": 0,
    "start_time": "2023-02-16T19:38:44.934Z"
   },
   {
    "duration": 0,
    "start_time": "2023-02-16T19:38:44.935Z"
   },
   {
    "duration": 0,
    "start_time": "2023-02-16T19:38:44.937Z"
   },
   {
    "duration": 0,
    "start_time": "2023-02-16T19:38:44.938Z"
   },
   {
    "duration": 0,
    "start_time": "2023-02-16T19:38:44.939Z"
   },
   {
    "duration": 0,
    "start_time": "2023-02-16T19:38:44.940Z"
   },
   {
    "duration": 0,
    "start_time": "2023-02-16T19:38:44.942Z"
   },
   {
    "duration": 0,
    "start_time": "2023-02-16T19:38:44.942Z"
   },
   {
    "duration": 0,
    "start_time": "2023-02-16T19:38:44.943Z"
   },
   {
    "duration": 0,
    "start_time": "2023-02-16T19:38:44.945Z"
   },
   {
    "duration": 0,
    "start_time": "2023-02-16T19:38:44.946Z"
   },
   {
    "duration": 0,
    "start_time": "2023-02-16T19:38:44.947Z"
   },
   {
    "duration": 0,
    "start_time": "2023-02-16T19:38:44.948Z"
   },
   {
    "duration": 0,
    "start_time": "2023-02-16T19:38:44.949Z"
   },
   {
    "duration": 0,
    "start_time": "2023-02-16T19:38:44.950Z"
   },
   {
    "duration": 7,
    "start_time": "2023-02-16T19:39:24.439Z"
   },
   {
    "duration": 8,
    "start_time": "2023-02-16T19:39:24.453Z"
   },
   {
    "duration": 10,
    "start_time": "2023-02-16T19:39:24.463Z"
   },
   {
    "duration": 917,
    "start_time": "2023-02-16T19:39:24.474Z"
   },
   {
    "duration": 118,
    "start_time": "2023-02-16T19:39:25.393Z"
   },
   {
    "duration": 16,
    "start_time": "2023-02-16T19:39:25.513Z"
   },
   {
    "duration": 11,
    "start_time": "2023-02-16T19:39:25.531Z"
   },
   {
    "duration": 13,
    "start_time": "2023-02-16T19:39:25.544Z"
   },
   {
    "duration": 14,
    "start_time": "2023-02-16T19:39:25.558Z"
   },
   {
    "duration": 18,
    "start_time": "2023-02-16T19:39:25.573Z"
   },
   {
    "duration": 5,
    "start_time": "2023-02-16T19:39:25.593Z"
   },
   {
    "duration": 17,
    "start_time": "2023-02-16T19:39:25.628Z"
   },
   {
    "duration": 0,
    "start_time": "2023-02-16T19:39:25.647Z"
   },
   {
    "duration": 0,
    "start_time": "2023-02-16T19:39:25.648Z"
   },
   {
    "duration": 0,
    "start_time": "2023-02-16T19:39:25.649Z"
   },
   {
    "duration": 0,
    "start_time": "2023-02-16T19:39:25.650Z"
   },
   {
    "duration": 0,
    "start_time": "2023-02-16T19:39:25.651Z"
   },
   {
    "duration": 0,
    "start_time": "2023-02-16T19:39:25.652Z"
   },
   {
    "duration": 1256,
    "start_time": "2023-02-16T19:39:35.308Z"
   },
   {
    "duration": 92,
    "start_time": "2023-02-16T19:39:36.565Z"
   },
   {
    "duration": 33,
    "start_time": "2023-02-16T19:39:36.659Z"
   },
   {
    "duration": 15,
    "start_time": "2023-02-16T19:39:36.694Z"
   },
   {
    "duration": 4,
    "start_time": "2023-02-16T19:39:36.710Z"
   },
   {
    "duration": 28,
    "start_time": "2023-02-16T19:39:36.715Z"
   },
   {
    "duration": 28,
    "start_time": "2023-02-16T19:39:36.745Z"
   },
   {
    "duration": 25,
    "start_time": "2023-02-16T19:39:36.775Z"
   },
   {
    "duration": 26,
    "start_time": "2023-02-16T19:39:36.802Z"
   },
   {
    "duration": 35,
    "start_time": "2023-02-16T19:39:36.831Z"
   },
   {
    "duration": 34,
    "start_time": "2023-02-16T19:39:36.868Z"
   },
   {
    "duration": 35,
    "start_time": "2023-02-16T19:39:36.904Z"
   },
   {
    "duration": 4,
    "start_time": "2023-02-16T19:39:36.941Z"
   },
   {
    "duration": 27,
    "start_time": "2023-02-16T19:39:36.947Z"
   },
   {
    "duration": 3,
    "start_time": "2023-02-16T19:39:36.976Z"
   },
   {
    "duration": 57,
    "start_time": "2023-02-16T19:39:36.981Z"
   },
   {
    "duration": 34,
    "start_time": "2023-02-16T19:39:37.040Z"
   },
   {
    "duration": 8,
    "start_time": "2023-02-16T19:39:37.076Z"
   },
   {
    "duration": 1420,
    "start_time": "2023-02-16T19:39:37.086Z"
   },
   {
    "duration": 121,
    "start_time": "2023-02-16T19:39:38.508Z"
   },
   {
    "duration": 8,
    "start_time": "2023-02-16T19:39:38.631Z"
   },
   {
    "duration": 21,
    "start_time": "2023-02-16T19:39:38.641Z"
   },
   {
    "duration": 11,
    "start_time": "2023-02-16T19:39:38.664Z"
   },
   {
    "duration": 10,
    "start_time": "2023-02-16T19:39:38.676Z"
   },
   {
    "duration": 9,
    "start_time": "2023-02-16T19:39:38.687Z"
   },
   {
    "duration": 29,
    "start_time": "2023-02-16T19:39:38.698Z"
   },
   {
    "duration": 7,
    "start_time": "2023-02-16T19:39:38.729Z"
   },
   {
    "duration": 10,
    "start_time": "2023-02-16T19:39:38.739Z"
   },
   {
    "duration": 764,
    "start_time": "2023-02-16T19:39:38.750Z"
   },
   {
    "duration": 284,
    "start_time": "2023-02-16T19:39:39.516Z"
   },
   {
    "duration": 7,
    "start_time": "2023-02-16T19:39:39.801Z"
   },
   {
    "duration": 23,
    "start_time": "2023-02-16T19:39:39.810Z"
   },
   {
    "duration": 12,
    "start_time": "2023-02-16T19:39:39.835Z"
   },
   {
    "duration": 13,
    "start_time": "2023-02-16T19:39:39.849Z"
   },
   {
    "duration": 22,
    "start_time": "2023-02-16T19:39:39.863Z"
   },
   {
    "duration": 5,
    "start_time": "2023-02-16T19:39:39.886Z"
   },
   {
    "duration": 127,
    "start_time": "2023-02-16T19:39:39.893Z"
   },
   {
    "duration": 0,
    "start_time": "2023-02-16T19:39:40.022Z"
   },
   {
    "duration": 0,
    "start_time": "2023-02-16T19:39:40.027Z"
   },
   {
    "duration": 0,
    "start_time": "2023-02-16T19:39:40.028Z"
   },
   {
    "duration": 0,
    "start_time": "2023-02-16T19:39:40.029Z"
   },
   {
    "duration": 0,
    "start_time": "2023-02-16T19:39:40.031Z"
   },
   {
    "duration": 0,
    "start_time": "2023-02-16T19:39:40.031Z"
   },
   {
    "duration": 13,
    "start_time": "2023-02-16T19:40:17.035Z"
   },
   {
    "duration": 14,
    "start_time": "2023-02-16T19:41:10.453Z"
   },
   {
    "duration": 18,
    "start_time": "2023-02-16T19:42:19.134Z"
   },
   {
    "duration": 6,
    "start_time": "2023-02-16T19:42:40.713Z"
   },
   {
    "duration": 20,
    "start_time": "2023-02-16T19:42:42.787Z"
   },
   {
    "duration": 297,
    "start_time": "2023-02-16T19:42:46.530Z"
   },
   {
    "duration": 109,
    "start_time": "2023-02-16T19:42:49.769Z"
   },
   {
    "duration": 8,
    "start_time": "2023-02-16T19:42:53.082Z"
   },
   {
    "duration": 5,
    "start_time": "2023-02-16T19:54:38.388Z"
   },
   {
    "duration": 13,
    "start_time": "2023-02-16T19:54:47.625Z"
   },
   {
    "duration": 6,
    "start_time": "2023-02-16T19:55:37.940Z"
   },
   {
    "duration": 69,
    "start_time": "2023-02-16T19:56:34.882Z"
   },
   {
    "duration": 1320,
    "start_time": "2023-02-16T20:03:55.248Z"
   },
   {
    "duration": 105,
    "start_time": "2023-02-16T20:03:56.571Z"
   },
   {
    "duration": 35,
    "start_time": "2023-02-16T20:03:56.678Z"
   },
   {
    "duration": 22,
    "start_time": "2023-02-16T20:03:56.716Z"
   },
   {
    "duration": 14,
    "start_time": "2023-02-16T20:03:56.742Z"
   },
   {
    "duration": 25,
    "start_time": "2023-02-16T20:03:56.758Z"
   },
   {
    "duration": 27,
    "start_time": "2023-02-16T20:03:56.785Z"
   },
   {
    "duration": 40,
    "start_time": "2023-02-16T20:03:56.814Z"
   },
   {
    "duration": 4,
    "start_time": "2023-02-16T20:03:56.856Z"
   },
   {
    "duration": 36,
    "start_time": "2023-02-16T20:03:56.862Z"
   },
   {
    "duration": 57,
    "start_time": "2023-02-16T20:03:56.900Z"
   },
   {
    "duration": 16,
    "start_time": "2023-02-16T20:03:56.959Z"
   },
   {
    "duration": 4,
    "start_time": "2023-02-16T20:03:56.977Z"
   },
   {
    "duration": 71,
    "start_time": "2023-02-16T20:03:56.983Z"
   },
   {
    "duration": 3,
    "start_time": "2023-02-16T20:03:57.055Z"
   },
   {
    "duration": 34,
    "start_time": "2023-02-16T20:03:57.060Z"
   },
   {
    "duration": 53,
    "start_time": "2023-02-16T20:03:57.095Z"
   },
   {
    "duration": 11,
    "start_time": "2023-02-16T20:03:57.149Z"
   },
   {
    "duration": 1606,
    "start_time": "2023-02-16T20:03:57.162Z"
   },
   {
    "duration": 134,
    "start_time": "2023-02-16T20:03:58.769Z"
   },
   {
    "duration": 8,
    "start_time": "2023-02-16T20:03:58.904Z"
   },
   {
    "duration": 31,
    "start_time": "2023-02-16T20:03:58.914Z"
   },
   {
    "duration": 10,
    "start_time": "2023-02-16T20:03:58.953Z"
   },
   {
    "duration": 12,
    "start_time": "2023-02-16T20:03:58.965Z"
   },
   {
    "duration": 10,
    "start_time": "2023-02-16T20:03:58.978Z"
   },
   {
    "duration": 9,
    "start_time": "2023-02-16T20:03:58.990Z"
   },
   {
    "duration": 36,
    "start_time": "2023-02-16T20:03:59.000Z"
   },
   {
    "duration": 16,
    "start_time": "2023-02-16T20:03:59.046Z"
   },
   {
    "duration": 935,
    "start_time": "2023-02-16T20:03:59.064Z"
   },
   {
    "duration": 121,
    "start_time": "2023-02-16T20:04:00.000Z"
   },
   {
    "duration": 17,
    "start_time": "2023-02-16T20:04:00.133Z"
   },
   {
    "duration": 20,
    "start_time": "2023-02-16T20:04:00.152Z"
   },
   {
    "duration": 15,
    "start_time": "2023-02-16T20:04:00.174Z"
   },
   {
    "duration": 27,
    "start_time": "2023-02-16T20:04:00.191Z"
   },
   {
    "duration": 58,
    "start_time": "2023-02-16T20:04:00.220Z"
   },
   {
    "duration": 21,
    "start_time": "2023-02-16T20:04:00.280Z"
   },
   {
    "duration": 80,
    "start_time": "2023-02-16T20:04:00.302Z"
   },
   {
    "duration": 405,
    "start_time": "2023-02-16T20:04:00.384Z"
   },
   {
    "duration": 129,
    "start_time": "2023-02-16T20:04:00.791Z"
   },
   {
    "duration": 24,
    "start_time": "2023-02-16T20:04:00.922Z"
   },
   {
    "duration": 26,
    "start_time": "2023-02-16T20:04:00.952Z"
   },
   {
    "duration": 53,
    "start_time": "2023-02-16T20:04:00.979Z"
   },
   {
    "duration": 60,
    "start_time": "2023-02-16T20:04:01.038Z"
   },
   {
    "duration": 194,
    "start_time": "2023-02-16T20:04:01.099Z"
   },
   {
    "duration": 28,
    "start_time": "2023-02-16T20:12:00.712Z"
   },
   {
    "duration": 158,
    "start_time": "2023-02-16T20:12:46.657Z"
   },
   {
    "duration": 16,
    "start_time": "2023-02-16T20:13:08.455Z"
   },
   {
    "duration": 37,
    "start_time": "2023-02-16T20:15:43.306Z"
   },
   {
    "duration": 25,
    "start_time": "2023-02-16T20:17:17.388Z"
   },
   {
    "duration": 343,
    "start_time": "2023-02-16T20:18:31.445Z"
   },
   {
    "duration": 27,
    "start_time": "2023-02-16T20:18:43.117Z"
   },
   {
    "duration": 25,
    "start_time": "2023-02-16T20:19:32.490Z"
   },
   {
    "duration": 29,
    "start_time": "2023-02-16T20:20:55.491Z"
   },
   {
    "duration": 93,
    "start_time": "2023-02-16T20:25:14.901Z"
   },
   {
    "duration": 121,
    "start_time": "2023-02-16T20:26:31.846Z"
   },
   {
    "duration": 121,
    "start_time": "2023-02-16T20:26:46.520Z"
   },
   {
    "duration": 135,
    "start_time": "2023-02-16T20:27:01.067Z"
   },
   {
    "duration": 142,
    "start_time": "2023-02-16T20:27:07.409Z"
   },
   {
    "duration": 149,
    "start_time": "2023-02-16T20:27:13.373Z"
   },
   {
    "duration": 274,
    "start_time": "2023-02-16T20:27:18.618Z"
   },
   {
    "duration": 39,
    "start_time": "2023-02-16T20:28:14.020Z"
   },
   {
    "duration": 144,
    "start_time": "2023-02-16T20:28:24.058Z"
   },
   {
    "duration": 114,
    "start_time": "2023-02-16T20:28:33.194Z"
   },
   {
    "duration": 127,
    "start_time": "2023-02-16T20:28:42.391Z"
   },
   {
    "duration": 132,
    "start_time": "2023-02-16T20:28:48.955Z"
   },
   {
    "duration": 325,
    "start_time": "2023-02-16T20:29:50.664Z"
   },
   {
    "duration": 1047,
    "start_time": "2023-02-16T20:30:45.089Z"
   },
   {
    "duration": 1107,
    "start_time": "2023-02-16T20:31:20.259Z"
   },
   {
    "duration": 314,
    "start_time": "2023-02-16T20:31:56.956Z"
   },
   {
    "duration": 453,
    "start_time": "2023-02-16T20:32:45.909Z"
   },
   {
    "duration": 354,
    "start_time": "2023-02-16T20:33:01.917Z"
   },
   {
    "duration": 102,
    "start_time": "2023-02-16T20:33:14.255Z"
   },
   {
    "duration": 322,
    "start_time": "2023-02-16T20:33:20.844Z"
   },
   {
    "duration": 318,
    "start_time": "2023-02-16T20:33:36.486Z"
   },
   {
    "duration": 350,
    "start_time": "2023-02-16T20:33:50.974Z"
   },
   {
    "duration": 136,
    "start_time": "2023-02-16T20:35:07.346Z"
   },
   {
    "duration": 135,
    "start_time": "2023-02-16T20:40:56.959Z"
   },
   {
    "duration": 1274,
    "start_time": "2023-02-16T20:41:07.177Z"
   },
   {
    "duration": 106,
    "start_time": "2023-02-16T20:41:08.453Z"
   },
   {
    "duration": 33,
    "start_time": "2023-02-16T20:41:08.561Z"
   },
   {
    "duration": 15,
    "start_time": "2023-02-16T20:41:08.596Z"
   },
   {
    "duration": 8,
    "start_time": "2023-02-16T20:41:08.612Z"
   },
   {
    "duration": 32,
    "start_time": "2023-02-16T20:41:08.622Z"
   },
   {
    "duration": 43,
    "start_time": "2023-02-16T20:41:08.656Z"
   },
   {
    "duration": 33,
    "start_time": "2023-02-16T20:41:08.701Z"
   },
   {
    "duration": 6,
    "start_time": "2023-02-16T20:41:08.737Z"
   },
   {
    "duration": 53,
    "start_time": "2023-02-16T20:41:08.745Z"
   },
   {
    "duration": 36,
    "start_time": "2023-02-16T20:41:08.799Z"
   },
   {
    "duration": 22,
    "start_time": "2023-02-16T20:41:08.847Z"
   },
   {
    "duration": 4,
    "start_time": "2023-02-16T20:41:08.871Z"
   },
   {
    "duration": 29,
    "start_time": "2023-02-16T20:41:08.877Z"
   },
   {
    "duration": 3,
    "start_time": "2023-02-16T20:41:08.908Z"
   },
   {
    "duration": 43,
    "start_time": "2023-02-16T20:41:08.914Z"
   },
   {
    "duration": 49,
    "start_time": "2023-02-16T20:41:08.959Z"
   },
   {
    "duration": 10,
    "start_time": "2023-02-16T20:41:09.010Z"
   },
   {
    "duration": 1749,
    "start_time": "2023-02-16T20:41:09.022Z"
   },
   {
    "duration": 139,
    "start_time": "2023-02-16T20:41:10.773Z"
   },
   {
    "duration": 31,
    "start_time": "2023-02-16T20:41:10.913Z"
   },
   {
    "duration": 9,
    "start_time": "2023-02-16T20:41:10.953Z"
   },
   {
    "duration": 11,
    "start_time": "2023-02-16T20:41:10.964Z"
   },
   {
    "duration": 11,
    "start_time": "2023-02-16T20:41:10.977Z"
   },
   {
    "duration": 10,
    "start_time": "2023-02-16T20:41:10.990Z"
   },
   {
    "duration": 26,
    "start_time": "2023-02-16T20:41:11.002Z"
   },
   {
    "duration": 12,
    "start_time": "2023-02-16T20:41:11.031Z"
   },
   {
    "duration": 25,
    "start_time": "2023-02-16T20:41:11.049Z"
   },
   {
    "duration": 1121,
    "start_time": "2023-02-16T20:41:11.076Z"
   },
   {
    "duration": 171,
    "start_time": "2023-02-16T20:41:12.198Z"
   },
   {
    "duration": 68,
    "start_time": "2023-02-16T20:41:12.371Z"
   },
   {
    "duration": 31,
    "start_time": "2023-02-16T20:41:12.441Z"
   },
   {
    "duration": 13,
    "start_time": "2023-02-16T20:41:12.474Z"
   },
   {
    "duration": 17,
    "start_time": "2023-02-16T20:41:12.488Z"
   },
   {
    "duration": 18,
    "start_time": "2023-02-16T20:41:12.507Z"
   },
   {
    "duration": 18,
    "start_time": "2023-02-16T20:41:12.529Z"
   },
   {
    "duration": 34,
    "start_time": "2023-02-16T20:41:12.554Z"
   },
   {
    "duration": 416,
    "start_time": "2023-02-16T20:41:12.590Z"
   },
   {
    "duration": 154,
    "start_time": "2023-02-16T20:41:13.007Z"
   },
   {
    "duration": 10,
    "start_time": "2023-02-16T20:41:13.164Z"
   },
   {
    "duration": 7,
    "start_time": "2023-02-16T20:41:13.176Z"
   },
   {
    "duration": 33,
    "start_time": "2023-02-16T20:41:13.185Z"
   },
   {
    "duration": 341,
    "start_time": "2023-02-16T20:41:13.234Z"
   },
   {
    "duration": 138,
    "start_time": "2023-02-16T20:41:13.577Z"
   },
   {
    "duration": 44,
    "start_time": "2023-02-16T20:41:13.717Z"
   },
   {
    "duration": 47,
    "start_time": "2023-02-16T20:41:13.763Z"
   },
   {
    "duration": 212,
    "start_time": "2023-02-16T20:41:13.812Z"
   },
   {
    "duration": 7,
    "start_time": "2023-02-16T20:45:35.686Z"
   },
   {
    "duration": 6,
    "start_time": "2023-02-16T20:45:43.960Z"
   },
   {
    "duration": 163,
    "start_time": "2023-02-16T20:50:57.273Z"
   },
   {
    "duration": 7,
    "start_time": "2023-02-16T20:51:49.581Z"
   },
   {
    "duration": 9,
    "start_time": "2023-02-16T20:53:44.039Z"
   },
   {
    "duration": 4,
    "start_time": "2023-02-16T20:54:41.706Z"
   },
   {
    "duration": 9,
    "start_time": "2023-02-16T20:55:00.151Z"
   },
   {
    "duration": 8,
    "start_time": "2023-02-16T20:55:23.848Z"
   },
   {
    "duration": 1222,
    "start_time": "2023-02-16T20:56:03.089Z"
   },
   {
    "duration": 93,
    "start_time": "2023-02-16T20:56:04.313Z"
   },
   {
    "duration": 38,
    "start_time": "2023-02-16T20:56:04.407Z"
   },
   {
    "duration": 16,
    "start_time": "2023-02-16T20:56:04.447Z"
   },
   {
    "duration": 3,
    "start_time": "2023-02-16T20:56:04.466Z"
   },
   {
    "duration": 22,
    "start_time": "2023-02-16T20:56:04.470Z"
   },
   {
    "duration": 59,
    "start_time": "2023-02-16T20:56:04.495Z"
   },
   {
    "duration": 29,
    "start_time": "2023-02-16T20:56:04.556Z"
   },
   {
    "duration": 4,
    "start_time": "2023-02-16T20:56:04.587Z"
   },
   {
    "duration": 61,
    "start_time": "2023-02-16T20:56:04.593Z"
   },
   {
    "duration": 38,
    "start_time": "2023-02-16T20:56:04.656Z"
   },
   {
    "duration": 42,
    "start_time": "2023-02-16T20:56:04.696Z"
   },
   {
    "duration": 4,
    "start_time": "2023-02-16T20:56:04.739Z"
   },
   {
    "duration": 39,
    "start_time": "2023-02-16T20:56:04.747Z"
   },
   {
    "duration": 4,
    "start_time": "2023-02-16T20:56:04.788Z"
   },
   {
    "duration": 49,
    "start_time": "2023-02-16T20:56:04.794Z"
   },
   {
    "duration": 35,
    "start_time": "2023-02-16T20:56:04.845Z"
   },
   {
    "duration": 10,
    "start_time": "2023-02-16T20:56:04.882Z"
   },
   {
    "duration": 1609,
    "start_time": "2023-02-16T20:56:04.893Z"
   },
   {
    "duration": 142,
    "start_time": "2023-02-16T20:56:06.503Z"
   },
   {
    "duration": 9,
    "start_time": "2023-02-16T20:56:06.647Z"
   },
   {
    "duration": 9,
    "start_time": "2023-02-16T20:56:06.658Z"
   },
   {
    "duration": 13,
    "start_time": "2023-02-16T20:56:06.669Z"
   },
   {
    "duration": 11,
    "start_time": "2023-02-16T20:56:06.683Z"
   },
   {
    "duration": 43,
    "start_time": "2023-02-16T20:56:06.695Z"
   },
   {
    "duration": 8,
    "start_time": "2023-02-16T20:56:06.741Z"
   },
   {
    "duration": 9,
    "start_time": "2023-02-16T20:56:06.750Z"
   },
   {
    "duration": 32,
    "start_time": "2023-02-16T20:56:06.761Z"
   },
   {
    "duration": 949,
    "start_time": "2023-02-16T20:56:06.795Z"
   },
   {
    "duration": 115,
    "start_time": "2023-02-16T20:56:07.746Z"
   },
   {
    "duration": 7,
    "start_time": "2023-02-16T20:56:07.863Z"
   },
   {
    "duration": 10,
    "start_time": "2023-02-16T20:56:07.872Z"
   },
   {
    "duration": 12,
    "start_time": "2023-02-16T20:56:07.883Z"
   },
   {
    "duration": 43,
    "start_time": "2023-02-16T20:56:07.896Z"
   },
   {
    "duration": 18,
    "start_time": "2023-02-16T20:56:07.941Z"
   },
   {
    "duration": 5,
    "start_time": "2023-02-16T20:56:07.961Z"
   },
   {
    "duration": 19,
    "start_time": "2023-02-16T20:56:07.968Z"
   },
   {
    "duration": 318,
    "start_time": "2023-02-16T20:56:07.989Z"
   },
   {
    "duration": 126,
    "start_time": "2023-02-16T20:56:08.309Z"
   },
   {
    "duration": 9,
    "start_time": "2023-02-16T20:56:08.436Z"
   },
   {
    "duration": 10,
    "start_time": "2023-02-16T20:56:08.448Z"
   },
   {
    "duration": 31,
    "start_time": "2023-02-16T20:56:08.459Z"
   },
   {
    "duration": 351,
    "start_time": "2023-02-16T20:56:08.491Z"
   },
   {
    "duration": 127,
    "start_time": "2023-02-16T20:56:08.844Z"
   },
   {
    "duration": 6,
    "start_time": "2023-02-16T20:56:08.973Z"
   },
   {
    "duration": 5,
    "start_time": "2023-02-16T20:56:08.981Z"
   },
   {
    "duration": 77,
    "start_time": "2023-02-16T20:56:08.988Z"
   },
   {
    "duration": 0,
    "start_time": "2023-02-16T20:56:09.067Z"
   },
   {
    "duration": 0,
    "start_time": "2023-02-16T20:56:09.068Z"
   },
   {
    "duration": 0,
    "start_time": "2023-02-16T20:56:09.069Z"
   },
   {
    "duration": 115,
    "start_time": "2023-02-16T20:56:25.723Z"
   },
   {
    "duration": 4,
    "start_time": "2023-02-16T21:27:23.987Z"
   },
   {
    "duration": 1202,
    "start_time": "2023-02-16T21:28:37.983Z"
   },
   {
    "duration": 87,
    "start_time": "2023-02-16T21:28:39.187Z"
   },
   {
    "duration": 32,
    "start_time": "2023-02-16T21:28:39.276Z"
   },
   {
    "duration": 13,
    "start_time": "2023-02-16T21:28:39.310Z"
   },
   {
    "duration": 4,
    "start_time": "2023-02-16T21:28:39.325Z"
   },
   {
    "duration": 26,
    "start_time": "2023-02-16T21:28:39.331Z"
   },
   {
    "duration": 27,
    "start_time": "2023-02-16T21:28:39.359Z"
   },
   {
    "duration": 40,
    "start_time": "2023-02-16T21:28:39.388Z"
   },
   {
    "duration": 4,
    "start_time": "2023-02-16T21:28:39.430Z"
   },
   {
    "duration": 34,
    "start_time": "2023-02-16T21:28:39.436Z"
   },
   {
    "duration": 34,
    "start_time": "2023-02-16T21:28:39.471Z"
   },
   {
    "duration": 15,
    "start_time": "2023-02-16T21:28:39.526Z"
   },
   {
    "duration": 3,
    "start_time": "2023-02-16T21:28:39.543Z"
   },
   {
    "duration": 30,
    "start_time": "2023-02-16T21:28:39.548Z"
   },
   {
    "duration": 3,
    "start_time": "2023-02-16T21:28:39.579Z"
   },
   {
    "duration": 45,
    "start_time": "2023-02-16T21:28:39.583Z"
   },
   {
    "duration": 35,
    "start_time": "2023-02-16T21:28:39.629Z"
   },
   {
    "duration": 8,
    "start_time": "2023-02-16T21:28:39.665Z"
   },
   {
    "duration": 12,
    "start_time": "2023-02-16T21:28:39.674Z"
   },
   {
    "duration": 1494,
    "start_time": "2023-02-16T21:28:39.688Z"
   },
   {
    "duration": 1427,
    "start_time": "2023-02-16T21:28:41.183Z"
   },
   {
    "duration": 137,
    "start_time": "2023-02-16T21:28:42.611Z"
   },
   {
    "duration": 6,
    "start_time": "2023-02-16T21:28:42.750Z"
   },
   {
    "duration": 10,
    "start_time": "2023-02-16T21:28:42.757Z"
   },
   {
    "duration": 12,
    "start_time": "2023-02-16T21:28:42.768Z"
   },
   {
    "duration": 9,
    "start_time": "2023-02-16T21:28:42.782Z"
   },
   {
    "duration": 35,
    "start_time": "2023-02-16T21:28:42.793Z"
   },
   {
    "duration": 8,
    "start_time": "2023-02-16T21:28:42.831Z"
   },
   {
    "duration": 9,
    "start_time": "2023-02-16T21:28:42.840Z"
   },
   {
    "duration": 19,
    "start_time": "2023-02-16T21:28:42.851Z"
   },
   {
    "duration": 733,
    "start_time": "2023-02-16T21:28:42.872Z"
   },
   {
    "duration": 273,
    "start_time": "2023-02-16T21:28:43.607Z"
   },
   {
    "duration": 7,
    "start_time": "2023-02-16T21:28:43.882Z"
   },
   {
    "duration": 11,
    "start_time": "2023-02-16T21:28:43.890Z"
   },
   {
    "duration": 30,
    "start_time": "2023-02-16T21:28:43.903Z"
   },
   {
    "duration": 15,
    "start_time": "2023-02-16T21:28:43.934Z"
   },
   {
    "duration": 18,
    "start_time": "2023-02-16T21:28:43.951Z"
   },
   {
    "duration": 5,
    "start_time": "2023-02-16T21:28:43.971Z"
   },
   {
    "duration": 51,
    "start_time": "2023-02-16T21:28:43.977Z"
   },
   {
    "duration": 443,
    "start_time": "2023-02-16T21:28:44.030Z"
   },
   {
    "duration": 221,
    "start_time": "2023-02-16T21:28:44.527Z"
   },
   {
    "duration": 8,
    "start_time": "2023-02-16T21:28:44.750Z"
   },
   {
    "duration": 8,
    "start_time": "2023-02-16T21:28:44.759Z"
   },
   {
    "duration": 85,
    "start_time": "2023-02-16T21:28:44.768Z"
   },
   {
    "duration": 611,
    "start_time": "2023-02-16T21:28:44.855Z"
   },
   {
    "duration": 277,
    "start_time": "2023-02-16T21:28:45.468Z"
   },
   {
    "duration": 6,
    "start_time": "2023-02-16T21:28:45.747Z"
   },
   {
    "duration": 5,
    "start_time": "2023-02-16T21:28:45.754Z"
   },
   {
    "duration": 106,
    "start_time": "2023-02-16T21:28:45.761Z"
   },
   {
    "duration": 0,
    "start_time": "2023-02-16T21:28:45.869Z"
   },
   {
    "duration": 0,
    "start_time": "2023-02-16T21:28:45.870Z"
   },
   {
    "duration": 0,
    "start_time": "2023-02-16T21:28:45.871Z"
   },
   {
    "duration": 1190,
    "start_time": "2023-02-16T21:32:56.570Z"
   },
   {
    "duration": 88,
    "start_time": "2023-02-16T21:32:57.762Z"
   },
   {
    "duration": 32,
    "start_time": "2023-02-16T21:32:57.851Z"
   },
   {
    "duration": 14,
    "start_time": "2023-02-16T21:32:57.885Z"
   },
   {
    "duration": 3,
    "start_time": "2023-02-16T21:32:57.901Z"
   },
   {
    "duration": 27,
    "start_time": "2023-02-16T21:32:57.906Z"
   },
   {
    "duration": 29,
    "start_time": "2023-02-16T21:32:57.935Z"
   },
   {
    "duration": 25,
    "start_time": "2023-02-16T21:32:57.965Z"
   },
   {
    "duration": 4,
    "start_time": "2023-02-16T21:32:57.991Z"
   },
   {
    "duration": 56,
    "start_time": "2023-02-16T21:32:57.997Z"
   },
   {
    "duration": 34,
    "start_time": "2023-02-16T21:32:58.055Z"
   },
   {
    "duration": 13,
    "start_time": "2023-02-16T21:32:58.091Z"
   },
   {
    "duration": 23,
    "start_time": "2023-02-16T21:32:58.106Z"
   },
   {
    "duration": 28,
    "start_time": "2023-02-16T21:32:58.131Z"
   },
   {
    "duration": 3,
    "start_time": "2023-02-16T21:32:58.161Z"
   },
   {
    "duration": 28,
    "start_time": "2023-02-16T21:32:58.166Z"
   },
   {
    "duration": 59,
    "start_time": "2023-02-16T21:32:58.195Z"
   },
   {
    "duration": 8,
    "start_time": "2023-02-16T21:32:58.256Z"
   },
   {
    "duration": 4,
    "start_time": "2023-02-16T21:32:58.266Z"
   },
   {
    "duration": 1480,
    "start_time": "2023-02-16T21:32:58.272Z"
   },
   {
    "duration": 4,
    "start_time": "2023-02-16T21:32:59.753Z"
   },
   {
    "duration": 126,
    "start_time": "2023-02-16T21:32:59.758Z"
   },
   {
    "duration": 123,
    "start_time": "2023-02-16T21:32:59.885Z"
   },
   {
    "duration": 17,
    "start_time": "2023-02-16T21:33:00.010Z"
   },
   {
    "duration": 8,
    "start_time": "2023-02-16T21:33:00.029Z"
   },
   {
    "duration": 9,
    "start_time": "2023-02-16T21:33:00.038Z"
   },
   {
    "duration": 10,
    "start_time": "2023-02-16T21:33:00.049Z"
   },
   {
    "duration": 9,
    "start_time": "2023-02-16T21:33:00.062Z"
   },
   {
    "duration": 8,
    "start_time": "2023-02-16T21:33:00.072Z"
   },
   {
    "duration": 7,
    "start_time": "2023-02-16T21:33:00.082Z"
   },
   {
    "duration": 45,
    "start_time": "2023-02-16T21:33:00.091Z"
   },
   {
    "duration": 999,
    "start_time": "2023-02-16T21:33:00.138Z"
   },
   {
    "duration": 118,
    "start_time": "2023-02-16T21:33:01.139Z"
   },
   {
    "duration": 11,
    "start_time": "2023-02-16T21:33:01.259Z"
   },
   {
    "duration": 13,
    "start_time": "2023-02-16T21:33:01.272Z"
   },
   {
    "duration": 13,
    "start_time": "2023-02-16T21:33:01.287Z"
   },
   {
    "duration": 40,
    "start_time": "2023-02-16T21:33:01.302Z"
   },
   {
    "duration": 27,
    "start_time": "2023-02-16T21:33:01.344Z"
   },
   {
    "duration": 6,
    "start_time": "2023-02-16T21:33:01.374Z"
   },
   {
    "duration": 25,
    "start_time": "2023-02-16T21:33:01.382Z"
   },
   {
    "duration": 302,
    "start_time": "2023-02-16T21:33:01.409Z"
   },
   {
    "duration": 134,
    "start_time": "2023-02-16T21:33:01.712Z"
   },
   {
    "duration": 8,
    "start_time": "2023-02-16T21:33:01.848Z"
   },
   {
    "duration": 10,
    "start_time": "2023-02-16T21:33:01.857Z"
   },
   {
    "duration": 85,
    "start_time": "2023-02-16T21:33:01.869Z"
   },
   {
    "duration": 671,
    "start_time": "2023-02-16T21:33:01.956Z"
   },
   {
    "duration": 219,
    "start_time": "2023-02-16T21:33:02.629Z"
   },
   {
    "duration": 6,
    "start_time": "2023-02-16T21:33:02.849Z"
   },
   {
    "duration": 5,
    "start_time": "2023-02-16T21:33:02.857Z"
   },
   {
    "duration": 68,
    "start_time": "2023-02-16T21:33:02.863Z"
   },
   {
    "duration": 0,
    "start_time": "2023-02-16T21:33:02.933Z"
   },
   {
    "duration": 0,
    "start_time": "2023-02-16T21:33:02.934Z"
   },
   {
    "duration": 0,
    "start_time": "2023-02-16T21:33:02.935Z"
   },
   {
    "duration": 884,
    "start_time": "2023-02-16T21:34:38.303Z"
   },
   {
    "duration": 1253,
    "start_time": "2023-02-16T21:34:46.190Z"
   },
   {
    "duration": 94,
    "start_time": "2023-02-16T21:34:47.445Z"
   },
   {
    "duration": 32,
    "start_time": "2023-02-16T21:34:47.541Z"
   },
   {
    "duration": 14,
    "start_time": "2023-02-16T21:34:47.574Z"
   },
   {
    "duration": 3,
    "start_time": "2023-02-16T21:34:47.590Z"
   },
   {
    "duration": 45,
    "start_time": "2023-02-16T21:34:47.595Z"
   },
   {
    "duration": 28,
    "start_time": "2023-02-16T21:34:47.642Z"
   },
   {
    "duration": 25,
    "start_time": "2023-02-16T21:34:47.672Z"
   },
   {
    "duration": 4,
    "start_time": "2023-02-16T21:34:47.699Z"
   },
   {
    "duration": 57,
    "start_time": "2023-02-16T21:34:47.705Z"
   },
   {
    "duration": 36,
    "start_time": "2023-02-16T21:34:47.764Z"
   },
   {
    "duration": 36,
    "start_time": "2023-02-16T21:34:47.802Z"
   },
   {
    "duration": 4,
    "start_time": "2023-02-16T21:34:47.840Z"
   },
   {
    "duration": 41,
    "start_time": "2023-02-16T21:34:47.847Z"
   },
   {
    "duration": 3,
    "start_time": "2023-02-16T21:34:47.889Z"
   },
   {
    "duration": 43,
    "start_time": "2023-02-16T21:34:47.894Z"
   },
   {
    "duration": 36,
    "start_time": "2023-02-16T21:34:47.939Z"
   },
   {
    "duration": 9,
    "start_time": "2023-02-16T21:34:47.977Z"
   },
   {
    "duration": 4,
    "start_time": "2023-02-16T21:34:47.987Z"
   },
   {
    "duration": 1469,
    "start_time": "2023-02-16T21:34:47.992Z"
   },
   {
    "duration": 4,
    "start_time": "2023-02-16T21:34:49.463Z"
   },
   {
    "duration": 127,
    "start_time": "2023-02-16T21:34:49.468Z"
   },
   {
    "duration": 7,
    "start_time": "2023-02-16T21:34:49.596Z"
   },
   {
    "duration": 24,
    "start_time": "2023-02-16T21:34:49.605Z"
   },
   {
    "duration": 15,
    "start_time": "2023-02-16T21:34:49.632Z"
   },
   {
    "duration": 14,
    "start_time": "2023-02-16T21:34:49.648Z"
   },
   {
    "duration": 13,
    "start_time": "2023-02-16T21:34:49.664Z"
   },
   {
    "duration": 7,
    "start_time": "2023-02-16T21:34:49.678Z"
   },
   {
    "duration": 6,
    "start_time": "2023-02-16T21:34:49.687Z"
   },
   {
    "duration": 13,
    "start_time": "2023-02-16T21:34:49.694Z"
   },
   {
    "duration": 1017,
    "start_time": "2023-02-16T21:34:49.709Z"
   },
   {
    "duration": 123,
    "start_time": "2023-02-16T21:34:50.731Z"
   },
   {
    "duration": 7,
    "start_time": "2023-02-16T21:34:50.856Z"
   },
   {
    "duration": 11,
    "start_time": "2023-02-16T21:34:50.865Z"
   },
   {
    "duration": 16,
    "start_time": "2023-02-16T21:34:50.878Z"
   },
   {
    "duration": 56,
    "start_time": "2023-02-16T21:34:50.896Z"
   },
   {
    "duration": 19,
    "start_time": "2023-02-16T21:34:50.953Z"
   },
   {
    "duration": 5,
    "start_time": "2023-02-16T21:34:50.974Z"
   },
   {
    "duration": 41,
    "start_time": "2023-02-16T21:34:50.981Z"
   },
   {
    "duration": 324,
    "start_time": "2023-02-16T21:34:51.024Z"
   },
   {
    "duration": 112,
    "start_time": "2023-02-16T21:34:51.352Z"
   },
   {
    "duration": 7,
    "start_time": "2023-02-16T21:34:51.466Z"
   },
   {
    "duration": 9,
    "start_time": "2023-02-16T21:34:51.475Z"
   },
   {
    "duration": 52,
    "start_time": "2023-02-16T21:34:51.486Z"
   },
   {
    "duration": 286,
    "start_time": "2023-02-16T21:34:51.539Z"
   },
   {
    "duration": 129,
    "start_time": "2023-02-16T21:34:51.827Z"
   },
   {
    "duration": 6,
    "start_time": "2023-02-16T21:34:51.958Z"
   },
   {
    "duration": 5,
    "start_time": "2023-02-16T21:34:51.965Z"
   },
   {
    "duration": 83,
    "start_time": "2023-02-16T21:34:51.971Z"
   },
   {
    "duration": 0,
    "start_time": "2023-02-16T21:34:52.055Z"
   },
   {
    "duration": 0,
    "start_time": "2023-02-16T21:34:52.056Z"
   },
   {
    "duration": 0,
    "start_time": "2023-02-16T21:34:52.057Z"
   },
   {
    "duration": 1153,
    "start_time": "2023-02-16T21:35:48.990Z"
   },
   {
    "duration": 97,
    "start_time": "2023-02-16T21:35:50.146Z"
   },
   {
    "duration": 41,
    "start_time": "2023-02-16T21:35:50.245Z"
   },
   {
    "duration": 18,
    "start_time": "2023-02-16T21:35:50.288Z"
   },
   {
    "duration": 4,
    "start_time": "2023-02-16T21:35:50.308Z"
   },
   {
    "duration": 23,
    "start_time": "2023-02-16T21:35:50.327Z"
   },
   {
    "duration": 34,
    "start_time": "2023-02-16T21:35:50.353Z"
   },
   {
    "duration": 50,
    "start_time": "2023-02-16T21:35:50.389Z"
   },
   {
    "duration": 4,
    "start_time": "2023-02-16T21:35:50.440Z"
   },
   {
    "duration": 31,
    "start_time": "2023-02-16T21:35:50.445Z"
   },
   {
    "duration": 52,
    "start_time": "2023-02-16T21:35:50.477Z"
   },
   {
    "duration": 15,
    "start_time": "2023-02-16T21:35:50.530Z"
   },
   {
    "duration": 4,
    "start_time": "2023-02-16T21:35:50.547Z"
   },
   {
    "duration": 27,
    "start_time": "2023-02-16T21:35:50.554Z"
   },
   {
    "duration": 3,
    "start_time": "2023-02-16T21:35:50.582Z"
   },
   {
    "duration": 56,
    "start_time": "2023-02-16T21:35:50.586Z"
   },
   {
    "duration": 40,
    "start_time": "2023-02-16T21:35:50.644Z"
   },
   {
    "duration": 8,
    "start_time": "2023-02-16T21:35:50.685Z"
   },
   {
    "duration": 5,
    "start_time": "2023-02-16T21:35:50.695Z"
   },
   {
    "duration": 1466,
    "start_time": "2023-02-16T21:35:50.702Z"
   },
   {
    "duration": 3,
    "start_time": "2023-02-16T21:35:52.170Z"
   },
   {
    "duration": 129,
    "start_time": "2023-02-16T21:35:52.175Z"
   },
   {
    "duration": 7,
    "start_time": "2023-02-16T21:35:52.306Z"
   },
   {
    "duration": 8,
    "start_time": "2023-02-16T21:35:52.327Z"
   },
   {
    "duration": 8,
    "start_time": "2023-02-16T21:35:52.337Z"
   },
   {
    "duration": 10,
    "start_time": "2023-02-16T21:35:52.347Z"
   },
   {
    "duration": 8,
    "start_time": "2023-02-16T21:35:52.358Z"
   },
   {
    "duration": 23,
    "start_time": "2023-02-16T21:35:52.368Z"
   },
   {
    "duration": 7,
    "start_time": "2023-02-16T21:35:52.392Z"
   },
   {
    "duration": 32,
    "start_time": "2023-02-16T21:35:52.401Z"
   },
   {
    "duration": 883,
    "start_time": "2023-02-16T21:35:52.435Z"
   },
   {
    "duration": 117,
    "start_time": "2023-02-16T21:35:53.319Z"
   },
   {
    "duration": 7,
    "start_time": "2023-02-16T21:35:53.438Z"
   },
   {
    "duration": 10,
    "start_time": "2023-02-16T21:35:53.447Z"
   },
   {
    "duration": 11,
    "start_time": "2023-02-16T21:35:53.459Z"
   },
   {
    "duration": 13,
    "start_time": "2023-02-16T21:35:53.472Z"
   },
   {
    "duration": 46,
    "start_time": "2023-02-16T21:35:53.486Z"
   },
   {
    "duration": 5,
    "start_time": "2023-02-16T21:35:53.534Z"
   },
   {
    "duration": 18,
    "start_time": "2023-02-16T21:35:53.540Z"
   },
   {
    "duration": 301,
    "start_time": "2023-02-16T21:35:53.560Z"
   },
   {
    "duration": 116,
    "start_time": "2023-02-16T21:35:53.865Z"
   },
   {
    "duration": 7,
    "start_time": "2023-02-16T21:35:53.983Z"
   },
   {
    "duration": 7,
    "start_time": "2023-02-16T21:35:53.992Z"
   },
   {
    "duration": 38,
    "start_time": "2023-02-16T21:35:54.001Z"
   },
   {
    "duration": 290,
    "start_time": "2023-02-16T21:35:54.041Z"
   },
   {
    "duration": 123,
    "start_time": "2023-02-16T21:35:54.333Z"
   },
   {
    "duration": 5,
    "start_time": "2023-02-16T21:35:54.458Z"
   },
   {
    "duration": 4,
    "start_time": "2023-02-16T21:35:54.465Z"
   },
   {
    "duration": 71,
    "start_time": "2023-02-16T21:35:54.470Z"
   },
   {
    "duration": 0,
    "start_time": "2023-02-16T21:35:54.542Z"
   },
   {
    "duration": 0,
    "start_time": "2023-02-16T21:35:54.543Z"
   },
   {
    "duration": 0,
    "start_time": "2023-02-16T21:35:54.545Z"
   },
   {
    "duration": 1225,
    "start_time": "2023-02-16T21:36:49.018Z"
   },
   {
    "duration": 107,
    "start_time": "2023-02-16T21:36:50.245Z"
   },
   {
    "duration": 46,
    "start_time": "2023-02-16T21:36:50.354Z"
   },
   {
    "duration": 20,
    "start_time": "2023-02-16T21:36:50.402Z"
   },
   {
    "duration": 15,
    "start_time": "2023-02-16T21:36:50.426Z"
   },
   {
    "duration": 37,
    "start_time": "2023-02-16T21:36:50.444Z"
   },
   {
    "duration": 36,
    "start_time": "2023-02-16T21:36:50.482Z"
   },
   {
    "duration": 24,
    "start_time": "2023-02-16T21:36:50.520Z"
   },
   {
    "duration": 3,
    "start_time": "2023-02-16T21:36:50.546Z"
   },
   {
    "duration": 48,
    "start_time": "2023-02-16T21:36:50.551Z"
   },
   {
    "duration": 34,
    "start_time": "2023-02-16T21:36:50.601Z"
   },
   {
    "duration": 15,
    "start_time": "2023-02-16T21:36:50.636Z"
   },
   {
    "duration": 13,
    "start_time": "2023-02-16T21:36:50.652Z"
   },
   {
    "duration": 25,
    "start_time": "2023-02-16T21:36:50.668Z"
   },
   {
    "duration": 3,
    "start_time": "2023-02-16T21:36:50.695Z"
   },
   {
    "duration": 42,
    "start_time": "2023-02-16T21:36:50.699Z"
   },
   {
    "duration": 37,
    "start_time": "2023-02-16T21:36:50.743Z"
   },
   {
    "duration": 9,
    "start_time": "2023-02-16T21:36:50.782Z"
   },
   {
    "duration": 27,
    "start_time": "2023-02-16T21:36:50.793Z"
   },
   {
    "duration": 1443,
    "start_time": "2023-02-16T21:36:50.821Z"
   },
   {
    "duration": 3,
    "start_time": "2023-02-16T21:36:52.266Z"
   },
   {
    "duration": 132,
    "start_time": "2023-02-16T21:36:52.271Z"
   },
   {
    "duration": 7,
    "start_time": "2023-02-16T21:36:52.405Z"
   },
   {
    "duration": 8,
    "start_time": "2023-02-16T21:36:52.427Z"
   },
   {
    "duration": 10,
    "start_time": "2023-02-16T21:36:52.436Z"
   },
   {
    "duration": 10,
    "start_time": "2023-02-16T21:36:52.447Z"
   },
   {
    "duration": 10,
    "start_time": "2023-02-16T21:36:52.459Z"
   },
   {
    "duration": 8,
    "start_time": "2023-02-16T21:36:52.470Z"
   },
   {
    "duration": 27,
    "start_time": "2023-02-16T21:36:52.479Z"
   },
   {
    "duration": 24,
    "start_time": "2023-02-16T21:36:52.508Z"
   },
   {
    "duration": 889,
    "start_time": "2023-02-16T21:36:52.534Z"
   },
   {
    "duration": 118,
    "start_time": "2023-02-16T21:36:53.427Z"
   },
   {
    "duration": 7,
    "start_time": "2023-02-16T21:36:53.546Z"
   },
   {
    "duration": 10,
    "start_time": "2023-02-16T21:36:53.555Z"
   },
   {
    "duration": 12,
    "start_time": "2023-02-16T21:36:53.566Z"
   },
   {
    "duration": 13,
    "start_time": "2023-02-16T21:36:53.579Z"
   },
   {
    "duration": 44,
    "start_time": "2023-02-16T21:36:53.593Z"
   },
   {
    "duration": 6,
    "start_time": "2023-02-16T21:36:53.639Z"
   },
   {
    "duration": 20,
    "start_time": "2023-02-16T21:36:53.646Z"
   },
   {
    "duration": 507,
    "start_time": "2023-02-16T21:36:53.667Z"
   },
   {
    "duration": 312,
    "start_time": "2023-02-16T21:36:54.226Z"
   },
   {
    "duration": 8,
    "start_time": "2023-02-16T21:36:54.539Z"
   },
   {
    "duration": 9,
    "start_time": "2023-02-16T21:36:54.549Z"
   },
   {
    "duration": 90,
    "start_time": "2023-02-16T21:36:54.559Z"
   },
   {
    "duration": 609,
    "start_time": "2023-02-16T21:36:54.651Z"
   },
   {
    "duration": 267,
    "start_time": "2023-02-16T21:36:55.262Z"
   },
   {
    "duration": 6,
    "start_time": "2023-02-16T21:36:55.530Z"
   },
   {
    "duration": 6,
    "start_time": "2023-02-16T21:36:55.538Z"
   },
   {
    "duration": 83,
    "start_time": "2023-02-16T21:36:55.545Z"
   },
   {
    "duration": 0,
    "start_time": "2023-02-16T21:36:55.630Z"
   },
   {
    "duration": 0,
    "start_time": "2023-02-16T21:36:55.631Z"
   },
   {
    "duration": 0,
    "start_time": "2023-02-16T21:36:55.632Z"
   },
   {
    "duration": 1197,
    "start_time": "2023-02-16T21:38:55.948Z"
   },
   {
    "duration": 90,
    "start_time": "2023-02-16T21:38:57.147Z"
   },
   {
    "duration": 34,
    "start_time": "2023-02-16T21:38:57.238Z"
   },
   {
    "duration": 15,
    "start_time": "2023-02-16T21:38:57.274Z"
   },
   {
    "duration": 3,
    "start_time": "2023-02-16T21:38:57.290Z"
   },
   {
    "duration": 42,
    "start_time": "2023-02-16T21:38:57.295Z"
   },
   {
    "duration": 28,
    "start_time": "2023-02-16T21:38:57.338Z"
   },
   {
    "duration": 26,
    "start_time": "2023-02-16T21:38:57.367Z"
   },
   {
    "duration": 3,
    "start_time": "2023-02-16T21:38:57.395Z"
   },
   {
    "duration": 55,
    "start_time": "2023-02-16T21:38:57.401Z"
   },
   {
    "duration": 33,
    "start_time": "2023-02-16T21:38:57.458Z"
   },
   {
    "duration": 13,
    "start_time": "2023-02-16T21:38:57.493Z"
   },
   {
    "duration": 4,
    "start_time": "2023-02-16T21:38:57.527Z"
   },
   {
    "duration": 29,
    "start_time": "2023-02-16T21:38:57.532Z"
   },
   {
    "duration": 3,
    "start_time": "2023-02-16T21:38:57.563Z"
   },
   {
    "duration": 29,
    "start_time": "2023-02-16T21:38:57.567Z"
   },
   {
    "duration": 60,
    "start_time": "2023-02-16T21:38:57.597Z"
   },
   {
    "duration": 10,
    "start_time": "2023-02-16T21:38:57.659Z"
   },
   {
    "duration": 4,
    "start_time": "2023-02-16T21:38:57.671Z"
   },
   {
    "duration": 1485,
    "start_time": "2023-02-16T21:38:57.677Z"
   },
   {
    "duration": 4,
    "start_time": "2023-02-16T21:38:59.164Z"
   },
   {
    "duration": 123,
    "start_time": "2023-02-16T21:38:59.170Z"
   },
   {
    "duration": 7,
    "start_time": "2023-02-16T21:38:59.295Z"
   },
   {
    "duration": 23,
    "start_time": "2023-02-16T21:38:59.304Z"
   },
   {
    "duration": 11,
    "start_time": "2023-02-16T21:38:59.328Z"
   },
   {
    "duration": 10,
    "start_time": "2023-02-16T21:38:59.341Z"
   },
   {
    "duration": 10,
    "start_time": "2023-02-16T21:38:59.353Z"
   },
   {
    "duration": 8,
    "start_time": "2023-02-16T21:38:59.366Z"
   },
   {
    "duration": 9,
    "start_time": "2023-02-16T21:38:59.375Z"
   },
   {
    "duration": 48,
    "start_time": "2023-02-16T21:38:59.385Z"
   },
   {
    "duration": 836,
    "start_time": "2023-02-16T21:38:59.435Z"
   },
   {
    "duration": 619,
    "start_time": "2023-02-16T21:39:00.326Z"
   },
   {
    "duration": 9,
    "start_time": "2023-02-16T21:39:00.946Z"
   },
   {
    "duration": 80,
    "start_time": "2023-02-16T21:39:00.956Z"
   },
   {
    "duration": 13,
    "start_time": "2023-02-16T21:39:01.038Z"
   },
   {
    "duration": 86,
    "start_time": "2023-02-16T21:39:01.053Z"
   },
   {
    "duration": 40,
    "start_time": "2023-02-16T21:39:01.141Z"
   },
   {
    "duration": 49,
    "start_time": "2023-02-16T21:39:01.182Z"
   },
   {
    "duration": 44,
    "start_time": "2023-02-16T21:39:01.233Z"
   },
   {
    "duration": 592,
    "start_time": "2023-02-16T21:39:01.278Z"
   },
   {
    "duration": 222,
    "start_time": "2023-02-16T21:39:01.871Z"
   },
   {
    "duration": 7,
    "start_time": "2023-02-16T21:39:02.095Z"
   },
   {
    "duration": 44,
    "start_time": "2023-02-16T21:39:02.103Z"
   },
   {
    "duration": 33,
    "start_time": "2023-02-16T21:39:02.149Z"
   },
   {
    "duration": 288,
    "start_time": "2023-02-16T21:39:02.183Z"
   },
   {
    "duration": 130,
    "start_time": "2023-02-16T21:39:02.473Z"
   },
   {
    "duration": 6,
    "start_time": "2023-02-16T21:39:02.605Z"
   },
   {
    "duration": 29,
    "start_time": "2023-02-16T21:39:02.612Z"
   },
   {
    "duration": 69,
    "start_time": "2023-02-16T21:39:02.643Z"
   },
   {
    "duration": 0,
    "start_time": "2023-02-16T21:39:02.714Z"
   },
   {
    "duration": 0,
    "start_time": "2023-02-16T21:39:02.715Z"
   },
   {
    "duration": 0,
    "start_time": "2023-02-16T21:39:02.716Z"
   },
   {
    "duration": 1142,
    "start_time": "2023-02-17T07:21:40.771Z"
   },
   {
    "duration": 90,
    "start_time": "2023-02-17T07:21:41.915Z"
   },
   {
    "duration": 33,
    "start_time": "2023-02-17T07:21:42.006Z"
   },
   {
    "duration": 14,
    "start_time": "2023-02-17T07:21:42.040Z"
   },
   {
    "duration": 3,
    "start_time": "2023-02-17T07:21:42.056Z"
   },
   {
    "duration": 23,
    "start_time": "2023-02-17T07:21:42.061Z"
   },
   {
    "duration": 57,
    "start_time": "2023-02-17T07:21:42.086Z"
   },
   {
    "duration": 26,
    "start_time": "2023-02-17T07:21:42.145Z"
   },
   {
    "duration": 5,
    "start_time": "2023-02-17T07:21:42.172Z"
   },
   {
    "duration": 56,
    "start_time": "2023-02-17T07:21:42.179Z"
   },
   {
    "duration": 40,
    "start_time": "2023-02-17T07:21:42.237Z"
   },
   {
    "duration": 16,
    "start_time": "2023-02-17T07:21:42.279Z"
   },
   {
    "duration": 4,
    "start_time": "2023-02-17T07:21:42.297Z"
   },
   {
    "duration": 27,
    "start_time": "2023-02-17T07:21:42.329Z"
   },
   {
    "duration": 3,
    "start_time": "2023-02-17T07:21:42.358Z"
   },
   {
    "duration": 30,
    "start_time": "2023-02-17T07:21:42.363Z"
   },
   {
    "duration": 59,
    "start_time": "2023-02-17T07:21:42.394Z"
   },
   {
    "duration": 8,
    "start_time": "2023-02-17T07:21:42.454Z"
   },
   {
    "duration": 3,
    "start_time": "2023-02-17T07:21:42.464Z"
   },
   {
    "duration": 1369,
    "start_time": "2023-02-17T07:21:42.469Z"
   },
   {
    "duration": 4,
    "start_time": "2023-02-17T07:21:43.839Z"
   },
   {
    "duration": 120,
    "start_time": "2023-02-17T07:21:43.845Z"
   },
   {
    "duration": 8,
    "start_time": "2023-02-17T07:21:43.966Z"
   },
   {
    "duration": 8,
    "start_time": "2023-02-17T07:21:43.976Z"
   },
   {
    "duration": 10,
    "start_time": "2023-02-17T07:21:43.985Z"
   },
   {
    "duration": 33,
    "start_time": "2023-02-17T07:21:43.996Z"
   },
   {
    "duration": 8,
    "start_time": "2023-02-17T07:21:44.031Z"
   },
   {
    "duration": 7,
    "start_time": "2023-02-17T07:21:44.041Z"
   },
   {
    "duration": 11,
    "start_time": "2023-02-17T07:21:44.049Z"
   },
   {
    "duration": 13,
    "start_time": "2023-02-17T07:21:44.062Z"
   },
   {
    "duration": 854,
    "start_time": "2023-02-17T07:21:44.077Z"
   },
   {
    "duration": 117,
    "start_time": "2023-02-17T07:21:44.933Z"
   },
   {
    "duration": 8,
    "start_time": "2023-02-17T07:21:45.051Z"
   },
   {
    "duration": 17,
    "start_time": "2023-02-17T07:21:45.060Z"
   },
   {
    "duration": 12,
    "start_time": "2023-02-17T07:21:45.079Z"
   },
   {
    "duration": 34,
    "start_time": "2023-02-17T07:21:45.093Z"
   },
   {
    "duration": 18,
    "start_time": "2023-02-17T07:21:45.129Z"
   },
   {
    "duration": 5,
    "start_time": "2023-02-17T07:21:45.148Z"
   },
   {
    "duration": 19,
    "start_time": "2023-02-17T07:21:45.154Z"
   },
   {
    "duration": 290,
    "start_time": "2023-02-17T07:21:45.175Z"
   },
   {
    "duration": 112,
    "start_time": "2023-02-17T07:21:45.468Z"
   },
   {
    "duration": 8,
    "start_time": "2023-02-17T07:21:45.581Z"
   },
   {
    "duration": 7,
    "start_time": "2023-02-17T07:21:45.590Z"
   },
   {
    "duration": 45,
    "start_time": "2023-02-17T07:21:45.599Z"
   },
   {
    "duration": 294,
    "start_time": "2023-02-17T07:21:45.646Z"
   },
   {
    "duration": 138,
    "start_time": "2023-02-17T07:21:45.942Z"
   },
   {
    "duration": 6,
    "start_time": "2023-02-17T07:21:46.082Z"
   },
   {
    "duration": 4,
    "start_time": "2023-02-17T07:21:46.090Z"
   },
   {
    "duration": 75,
    "start_time": "2023-02-17T07:21:46.095Z"
   },
   {
    "duration": 0,
    "start_time": "2023-02-17T07:21:46.172Z"
   },
   {
    "duration": 0,
    "start_time": "2023-02-17T07:21:46.173Z"
   },
   {
    "duration": 0,
    "start_time": "2023-02-17T07:21:46.174Z"
   },
   {
    "duration": 262,
    "start_time": "2023-02-17T07:23:58.110Z"
   },
   {
    "duration": 395,
    "start_time": "2023-02-17T07:25:44.476Z"
   },
   {
    "duration": 6,
    "start_time": "2023-02-17T07:28:46.803Z"
   },
   {
    "duration": 6,
    "start_time": "2023-02-17T07:29:00.830Z"
   },
   {
    "duration": 13,
    "start_time": "2023-02-17T07:30:11.928Z"
   },
   {
    "duration": 28,
    "start_time": "2023-02-17T07:33:56.318Z"
   },
   {
    "duration": 19,
    "start_time": "2023-02-17T07:35:12.529Z"
   },
   {
    "duration": 1232,
    "start_time": "2023-02-17T18:10:57.711Z"
   },
   {
    "duration": 169,
    "start_time": "2023-02-17T18:11:03.062Z"
   },
   {
    "duration": 33,
    "start_time": "2023-02-17T18:11:09.544Z"
   },
   {
    "duration": 15,
    "start_time": "2023-02-17T18:11:39.865Z"
   },
   {
    "duration": 3,
    "start_time": "2023-02-17T18:11:49.809Z"
   },
   {
    "duration": 23,
    "start_time": "2023-02-17T18:11:53.163Z"
   },
   {
    "duration": 31,
    "start_time": "2023-02-17T18:12:17.116Z"
   },
   {
    "duration": 29,
    "start_time": "2023-02-17T18:12:22.670Z"
   },
   {
    "duration": 4,
    "start_time": "2023-02-17T18:12:24.967Z"
   },
   {
    "duration": 36,
    "start_time": "2023-02-17T18:12:28.157Z"
   },
   {
    "duration": 45,
    "start_time": "2023-02-17T18:12:30.304Z"
   },
   {
    "duration": 4,
    "start_time": "2023-02-17T18:12:37.017Z"
   },
   {
    "duration": 28,
    "start_time": "2023-02-17T18:12:39.559Z"
   },
   {
    "duration": 3,
    "start_time": "2023-02-17T18:12:41.798Z"
   },
   {
    "duration": 29,
    "start_time": "2023-02-17T18:12:43.622Z"
   },
   {
    "duration": 97,
    "start_time": "2023-02-17T18:18:30.021Z"
   },
   {
    "duration": 3,
    "start_time": "2023-02-17T18:18:34.927Z"
   },
   {
    "duration": 135,
    "start_time": "2023-02-17T18:18:36.551Z"
   },
   {
    "duration": 14,
    "start_time": "2023-02-17T18:19:06.903Z"
   },
   {
    "duration": 9,
    "start_time": "2023-02-17T18:19:08.826Z"
   },
   {
    "duration": 10,
    "start_time": "2023-02-17T18:19:10.727Z"
   },
   {
    "duration": 10,
    "start_time": "2023-02-17T18:19:20.717Z"
   },
   {
    "duration": 11,
    "start_time": "2023-02-17T18:28:21.638Z"
   },
   {
    "duration": 9,
    "start_time": "2023-02-17T18:30:32.853Z"
   },
   {
    "duration": 12,
    "start_time": "2023-02-17T18:31:22.740Z"
   },
   {
    "duration": 5,
    "start_time": "2023-02-17T18:31:48.290Z"
   },
   {
    "duration": 8,
    "start_time": "2023-02-17T18:31:55.444Z"
   },
   {
    "duration": 5,
    "start_time": "2023-02-17T18:32:03.758Z"
   },
   {
    "duration": 9,
    "start_time": "2023-02-17T18:32:05.650Z"
   },
   {
    "duration": 1260,
    "start_time": "2023-02-17T18:32:29.792Z"
   },
   {
    "duration": 96,
    "start_time": "2023-02-17T18:32:31.054Z"
   },
   {
    "duration": 31,
    "start_time": "2023-02-17T18:32:31.152Z"
   },
   {
    "duration": 15,
    "start_time": "2023-02-17T18:32:31.185Z"
   },
   {
    "duration": 3,
    "start_time": "2023-02-17T18:32:31.202Z"
   },
   {
    "duration": 33,
    "start_time": "2023-02-17T18:32:31.206Z"
   },
   {
    "duration": 38,
    "start_time": "2023-02-17T18:32:31.241Z"
   },
   {
    "duration": 27,
    "start_time": "2023-02-17T18:32:31.281Z"
   },
   {
    "duration": 4,
    "start_time": "2023-02-17T18:32:31.310Z"
   },
   {
    "duration": 48,
    "start_time": "2023-02-17T18:32:31.328Z"
   },
   {
    "duration": 32,
    "start_time": "2023-02-17T18:32:31.378Z"
   },
   {
    "duration": 25,
    "start_time": "2023-02-17T18:32:31.411Z"
   },
   {
    "duration": 6,
    "start_time": "2023-02-17T18:32:31.437Z"
   },
   {
    "duration": 45,
    "start_time": "2023-02-17T18:32:31.445Z"
   },
   {
    "duration": 3,
    "start_time": "2023-02-17T18:32:31.492Z"
   },
   {
    "duration": 53,
    "start_time": "2023-02-17T18:32:31.497Z"
   },
   {
    "duration": 42,
    "start_time": "2023-02-17T18:32:31.552Z"
   },
   {
    "duration": 11,
    "start_time": "2023-02-17T18:32:31.597Z"
   },
   {
    "duration": 5,
    "start_time": "2023-02-17T18:32:31.609Z"
   },
   {
    "duration": 1488,
    "start_time": "2023-02-17T18:32:31.616Z"
   },
   {
    "duration": 4,
    "start_time": "2023-02-17T18:32:33.106Z"
   },
   {
    "duration": 155,
    "start_time": "2023-02-17T18:32:33.111Z"
   },
   {
    "duration": 8,
    "start_time": "2023-02-17T18:32:33.268Z"
   },
   {
    "duration": 32,
    "start_time": "2023-02-17T18:32:33.277Z"
   },
   {
    "duration": 56,
    "start_time": "2023-02-17T18:32:33.310Z"
   },
   {
    "duration": 36,
    "start_time": "2023-02-17T18:32:33.367Z"
   },
   {
    "duration": 30,
    "start_time": "2023-02-17T18:32:33.405Z"
   },
   {
    "duration": 16,
    "start_time": "2023-02-17T18:32:33.444Z"
   },
   {
    "duration": 37,
    "start_time": "2023-02-17T18:32:33.462Z"
   },
   {
    "duration": 42,
    "start_time": "2023-02-17T18:32:33.500Z"
   },
   {
    "duration": 828,
    "start_time": "2023-02-17T18:32:33.544Z"
   },
   {
    "duration": 289,
    "start_time": "2023-02-17T18:32:34.373Z"
   },
   {
    "duration": 7,
    "start_time": "2023-02-17T18:32:34.663Z"
   },
   {
    "duration": 33,
    "start_time": "2023-02-17T18:32:34.672Z"
   },
   {
    "duration": 23,
    "start_time": "2023-02-17T18:32:34.707Z"
   },
   {
    "duration": 32,
    "start_time": "2023-02-17T18:32:34.733Z"
   },
   {
    "duration": 32,
    "start_time": "2023-02-17T18:32:34.767Z"
   },
   {
    "duration": 42,
    "start_time": "2023-02-17T18:32:34.801Z"
   },
   {
    "duration": 38,
    "start_time": "2023-02-17T18:32:34.845Z"
   },
   {
    "duration": 308,
    "start_time": "2023-02-17T18:32:34.885Z"
   },
   {
    "duration": 121,
    "start_time": "2023-02-17T18:32:35.195Z"
   },
   {
    "duration": 22,
    "start_time": "2023-02-17T18:32:35.318Z"
   },
   {
    "duration": 8,
    "start_time": "2023-02-17T18:32:35.341Z"
   },
   {
    "duration": 42,
    "start_time": "2023-02-17T18:32:35.350Z"
   },
   {
    "duration": 290,
    "start_time": "2023-02-17T18:32:35.394Z"
   },
   {
    "duration": 127,
    "start_time": "2023-02-17T18:32:35.686Z"
   },
   {
    "duration": 20,
    "start_time": "2023-02-17T18:32:35.814Z"
   },
   {
    "duration": 82,
    "start_time": "2023-02-17T18:32:35.839Z"
   },
   {
    "duration": 0,
    "start_time": "2023-02-17T18:32:35.922Z"
   },
   {
    "duration": 0,
    "start_time": "2023-02-17T18:32:35.924Z"
   },
   {
    "duration": 0,
    "start_time": "2023-02-17T18:32:35.925Z"
   },
   {
    "duration": 0,
    "start_time": "2023-02-17T18:32:35.926Z"
   },
   {
    "duration": 0,
    "start_time": "2023-02-17T18:32:35.927Z"
   },
   {
    "duration": 1176,
    "start_time": "2023-02-17T18:33:25.477Z"
   },
   {
    "duration": 95,
    "start_time": "2023-02-17T18:33:26.655Z"
   },
   {
    "duration": 30,
    "start_time": "2023-02-17T18:33:26.752Z"
   },
   {
    "duration": 13,
    "start_time": "2023-02-17T18:33:26.784Z"
   },
   {
    "duration": 3,
    "start_time": "2023-02-17T18:33:26.798Z"
   },
   {
    "duration": 22,
    "start_time": "2023-02-17T18:33:26.802Z"
   },
   {
    "duration": 38,
    "start_time": "2023-02-17T18:33:26.825Z"
   },
   {
    "duration": 27,
    "start_time": "2023-02-17T18:33:26.865Z"
   },
   {
    "duration": 3,
    "start_time": "2023-02-17T18:33:26.894Z"
   },
   {
    "duration": 54,
    "start_time": "2023-02-17T18:33:26.900Z"
   },
   {
    "duration": 41,
    "start_time": "2023-02-17T18:33:26.956Z"
   },
   {
    "duration": 41,
    "start_time": "2023-02-17T18:33:26.999Z"
   },
   {
    "duration": 4,
    "start_time": "2023-02-17T18:33:27.041Z"
   },
   {
    "duration": 28,
    "start_time": "2023-02-17T18:33:27.047Z"
   },
   {
    "duration": 3,
    "start_time": "2023-02-17T18:33:27.077Z"
   },
   {
    "duration": 48,
    "start_time": "2023-02-17T18:33:27.081Z"
   },
   {
    "duration": 38,
    "start_time": "2023-02-17T18:33:27.131Z"
   },
   {
    "duration": 8,
    "start_time": "2023-02-17T18:33:27.170Z"
   },
   {
    "duration": 3,
    "start_time": "2023-02-17T18:33:27.180Z"
   },
   {
    "duration": 1504,
    "start_time": "2023-02-17T18:33:27.184Z"
   },
   {
    "duration": 4,
    "start_time": "2023-02-17T18:33:28.689Z"
   },
   {
    "duration": 137,
    "start_time": "2023-02-17T18:33:28.695Z"
   },
   {
    "duration": 10,
    "start_time": "2023-02-17T18:33:28.840Z"
   },
   {
    "duration": 9,
    "start_time": "2023-02-17T18:33:28.852Z"
   },
   {
    "duration": 10,
    "start_time": "2023-02-17T18:33:28.863Z"
   },
   {
    "duration": 13,
    "start_time": "2023-02-17T18:33:28.875Z"
   },
   {
    "duration": 40,
    "start_time": "2023-02-17T18:33:28.890Z"
   },
   {
    "duration": 15,
    "start_time": "2023-02-17T18:33:28.934Z"
   },
   {
    "duration": 8,
    "start_time": "2023-02-17T18:33:28.952Z"
   },
   {
    "duration": 12,
    "start_time": "2023-02-17T18:33:28.961Z"
   },
   {
    "duration": 1094,
    "start_time": "2023-02-17T18:33:28.975Z"
   },
   {
    "duration": 759,
    "start_time": "2023-02-17T18:33:30.071Z"
   },
   {
    "duration": 13,
    "start_time": "2023-02-17T18:33:30.831Z"
   },
   {
    "duration": 19,
    "start_time": "2023-02-17T18:33:30.847Z"
   },
   {
    "duration": 60,
    "start_time": "2023-02-17T18:33:30.868Z"
   },
   {
    "duration": 29,
    "start_time": "2023-02-17T18:33:30.934Z"
   },
   {
    "duration": 66,
    "start_time": "2023-02-17T18:33:30.964Z"
   },
   {
    "duration": 7,
    "start_time": "2023-02-17T18:33:31.034Z"
   },
   {
    "duration": 28,
    "start_time": "2023-02-17T18:33:31.043Z"
   },
   {
    "duration": 672,
    "start_time": "2023-02-17T18:33:31.073Z"
   },
   {
    "duration": 140,
    "start_time": "2023-02-17T18:33:31.746Z"
   },
   {
    "duration": 8,
    "start_time": "2023-02-17T18:33:31.887Z"
   },
   {
    "duration": 22,
    "start_time": "2023-02-17T18:33:31.896Z"
   },
   {
    "duration": 32,
    "start_time": "2023-02-17T18:33:31.919Z"
   },
   {
    "duration": 307,
    "start_time": "2023-02-17T18:33:31.953Z"
   },
   {
    "duration": 133,
    "start_time": "2023-02-17T18:33:32.261Z"
   },
   {
    "duration": 6,
    "start_time": "2023-02-17T18:33:32.395Z"
   },
   {
    "duration": 105,
    "start_time": "2023-02-17T18:33:32.403Z"
   },
   {
    "duration": 0,
    "start_time": "2023-02-17T18:33:32.510Z"
   },
   {
    "duration": 0,
    "start_time": "2023-02-17T18:33:32.511Z"
   },
   {
    "duration": 0,
    "start_time": "2023-02-17T18:33:32.512Z"
   },
   {
    "duration": 0,
    "start_time": "2023-02-17T18:33:32.513Z"
   },
   {
    "duration": 0,
    "start_time": "2023-02-17T18:33:32.514Z"
   },
   {
    "duration": 87,
    "start_time": "2023-02-17T18:38:18.102Z"
   },
   {
    "duration": 9,
    "start_time": "2023-02-17T18:39:55.495Z"
   },
   {
    "duration": 124,
    "start_time": "2023-02-17T18:41:37.301Z"
   },
   {
    "duration": 76,
    "start_time": "2023-02-17T18:41:48.895Z"
   },
   {
    "duration": 31,
    "start_time": "2023-02-17T18:46:13.599Z"
   },
   {
    "duration": 8,
    "start_time": "2023-02-17T18:46:34.683Z"
   },
   {
    "duration": 7,
    "start_time": "2023-02-17T18:46:57.242Z"
   },
   {
    "duration": 7,
    "start_time": "2023-02-17T18:47:17.450Z"
   },
   {
    "duration": 24,
    "start_time": "2023-02-17T19:07:17.244Z"
   },
   {
    "duration": 41,
    "start_time": "2023-02-17T19:07:31.512Z"
   },
   {
    "duration": 52,
    "start_time": "2023-02-17T19:08:26.565Z"
   },
   {
    "duration": 52,
    "start_time": "2023-02-17T19:08:42.064Z"
   },
   {
    "duration": 75,
    "start_time": "2023-02-17T19:09:01.673Z"
   },
   {
    "duration": 52,
    "start_time": "2023-02-17T19:09:14.037Z"
   },
   {
    "duration": 54,
    "start_time": "2023-02-17T19:10:37.409Z"
   },
   {
    "duration": 12,
    "start_time": "2023-02-17T19:12:04.968Z"
   },
   {
    "duration": 207,
    "start_time": "2023-02-17T19:14:44.876Z"
   },
   {
    "duration": 136,
    "start_time": "2023-02-17T19:17:04.207Z"
   },
   {
    "duration": 8,
    "start_time": "2023-02-17T19:17:37.623Z"
   },
   {
    "duration": 136,
    "start_time": "2023-02-17T19:17:53.489Z"
   },
   {
    "duration": 200,
    "start_time": "2023-02-17T19:18:01.487Z"
   },
   {
    "duration": 1368,
    "start_time": "2023-02-17T19:18:58.667Z"
   },
   {
    "duration": 9,
    "start_time": "2023-02-17T19:19:15.281Z"
   },
   {
    "duration": 1273,
    "start_time": "2023-02-17T19:22:43.482Z"
   },
   {
    "duration": 101,
    "start_time": "2023-02-17T19:22:44.757Z"
   },
   {
    "duration": 36,
    "start_time": "2023-02-17T19:22:44.860Z"
   },
   {
    "duration": 14,
    "start_time": "2023-02-17T19:22:44.899Z"
   },
   {
    "duration": 3,
    "start_time": "2023-02-17T19:22:44.915Z"
   },
   {
    "duration": 38,
    "start_time": "2023-02-17T19:22:44.921Z"
   },
   {
    "duration": 30,
    "start_time": "2023-02-17T19:22:44.961Z"
   },
   {
    "duration": 56,
    "start_time": "2023-02-17T19:22:44.993Z"
   },
   {
    "duration": 6,
    "start_time": "2023-02-17T19:22:45.051Z"
   },
   {
    "duration": 74,
    "start_time": "2023-02-17T19:22:45.060Z"
   },
   {
    "duration": 38,
    "start_time": "2023-02-17T19:22:45.142Z"
   },
   {
    "duration": 15,
    "start_time": "2023-02-17T19:22:45.182Z"
   },
   {
    "duration": 4,
    "start_time": "2023-02-17T19:22:45.198Z"
   },
   {
    "duration": 44,
    "start_time": "2023-02-17T19:22:45.204Z"
   },
   {
    "duration": 3,
    "start_time": "2023-02-17T19:22:45.250Z"
   },
   {
    "duration": 27,
    "start_time": "2023-02-17T19:22:45.255Z"
   },
   {
    "duration": 64,
    "start_time": "2023-02-17T19:22:45.284Z"
   },
   {
    "duration": 12,
    "start_time": "2023-02-17T19:22:45.351Z"
   },
   {
    "duration": 6,
    "start_time": "2023-02-17T19:22:45.365Z"
   },
   {
    "duration": 1644,
    "start_time": "2023-02-17T19:22:45.373Z"
   },
   {
    "duration": 4,
    "start_time": "2023-02-17T19:22:47.019Z"
   },
   {
    "duration": 149,
    "start_time": "2023-02-17T19:22:47.027Z"
   },
   {
    "duration": 10,
    "start_time": "2023-02-17T19:22:47.177Z"
   },
   {
    "duration": 8,
    "start_time": "2023-02-17T19:22:47.188Z"
   },
   {
    "duration": 43,
    "start_time": "2023-02-17T19:22:47.198Z"
   },
   {
    "duration": 14,
    "start_time": "2023-02-17T19:22:47.242Z"
   },
   {
    "duration": 9,
    "start_time": "2023-02-17T19:22:47.257Z"
   },
   {
    "duration": 8,
    "start_time": "2023-02-17T19:22:47.269Z"
   },
   {
    "duration": 8,
    "start_time": "2023-02-17T19:22:47.278Z"
   },
   {
    "duration": 54,
    "start_time": "2023-02-17T19:22:47.288Z"
   },
   {
    "duration": 830,
    "start_time": "2023-02-17T19:22:47.343Z"
   },
   {
    "duration": 324,
    "start_time": "2023-02-17T19:22:48.175Z"
   },
   {
    "duration": 10,
    "start_time": "2023-02-17T19:22:48.502Z"
   },
   {
    "duration": 14,
    "start_time": "2023-02-17T19:22:48.527Z"
   },
   {
    "duration": 30,
    "start_time": "2023-02-17T19:22:48.550Z"
   },
   {
    "duration": 15,
    "start_time": "2023-02-17T19:22:48.582Z"
   },
   {
    "duration": 41,
    "start_time": "2023-02-17T19:22:48.599Z"
   },
   {
    "duration": 15,
    "start_time": "2023-02-17T19:22:48.651Z"
   },
   {
    "duration": 32,
    "start_time": "2023-02-17T19:22:48.668Z"
   },
   {
    "duration": 316,
    "start_time": "2023-02-17T19:22:48.702Z"
   },
   {
    "duration": 146,
    "start_time": "2023-02-17T19:22:49.020Z"
   },
   {
    "duration": 8,
    "start_time": "2023-02-17T19:22:49.168Z"
   },
   {
    "duration": 12,
    "start_time": "2023-02-17T19:22:49.177Z"
   },
   {
    "duration": 58,
    "start_time": "2023-02-17T19:22:49.191Z"
   },
   {
    "duration": 349,
    "start_time": "2023-02-17T19:22:49.251Z"
   },
   {
    "duration": 133,
    "start_time": "2023-02-17T19:22:49.602Z"
   },
   {
    "duration": 10,
    "start_time": "2023-02-17T19:22:49.738Z"
   },
   {
    "duration": 13,
    "start_time": "2023-02-17T19:22:49.750Z"
   },
   {
    "duration": 19,
    "start_time": "2023-02-17T19:22:49.765Z"
   },
   {
    "duration": 61,
    "start_time": "2023-02-17T19:22:49.787Z"
   },
   {
    "duration": 9,
    "start_time": "2023-02-17T19:22:49.850Z"
   },
   {
    "duration": 134,
    "start_time": "2023-02-17T19:22:49.861Z"
   },
   {
    "duration": 151,
    "start_time": "2023-02-17T19:22:49.997Z"
   },
   {
    "duration": 9,
    "start_time": "2023-02-17T19:22:50.151Z"
   },
   {
    "duration": 9,
    "start_time": "2023-02-17T19:25:45.027Z"
   },
   {
    "duration": 9,
    "start_time": "2023-02-17T19:26:24.345Z"
   },
   {
    "duration": 92,
    "start_time": "2023-02-17T19:31:26.668Z"
   },
   {
    "duration": 88,
    "start_time": "2023-02-17T19:33:01.411Z"
   },
   {
    "duration": 86,
    "start_time": "2023-02-17T19:33:10.468Z"
   },
   {
    "duration": 103,
    "start_time": "2023-02-17T19:33:24.323Z"
   },
   {
    "duration": 68,
    "start_time": "2023-02-17T19:33:39.551Z"
   },
   {
    "duration": 9,
    "start_time": "2023-02-17T19:33:47.981Z"
   },
   {
    "duration": 11,
    "start_time": "2023-02-17T19:34:13.455Z"
   },
   {
    "duration": 6,
    "start_time": "2023-02-17T19:34:19.150Z"
   },
   {
    "duration": 172,
    "start_time": "2023-02-17T19:34:40.944Z"
   },
   {
    "duration": 6,
    "start_time": "2023-02-17T19:34:55.853Z"
   },
   {
    "duration": 1581,
    "start_time": "2023-02-17T19:36:18.185Z"
   },
   {
    "duration": 128,
    "start_time": "2023-02-17T19:36:19.768Z"
   },
   {
    "duration": 48,
    "start_time": "2023-02-17T19:36:19.899Z"
   },
   {
    "duration": 21,
    "start_time": "2023-02-17T19:36:19.949Z"
   },
   {
    "duration": 5,
    "start_time": "2023-02-17T19:36:19.972Z"
   },
   {
    "duration": 62,
    "start_time": "2023-02-17T19:36:19.980Z"
   },
   {
    "duration": 42,
    "start_time": "2023-02-17T19:36:20.044Z"
   },
   {
    "duration": 51,
    "start_time": "2023-02-17T19:36:20.088Z"
   },
   {
    "duration": 8,
    "start_time": "2023-02-17T19:36:20.141Z"
   },
   {
    "duration": 39,
    "start_time": "2023-02-17T19:36:20.153Z"
   },
   {
    "duration": 56,
    "start_time": "2023-02-17T19:36:20.194Z"
   },
   {
    "duration": 21,
    "start_time": "2023-02-17T19:36:20.252Z"
   },
   {
    "duration": 6,
    "start_time": "2023-02-17T19:36:20.275Z"
   },
   {
    "duration": 82,
    "start_time": "2023-02-17T19:36:20.283Z"
   },
   {
    "duration": 4,
    "start_time": "2023-02-17T19:36:20.368Z"
   },
   {
    "duration": 67,
    "start_time": "2023-02-17T19:36:20.374Z"
   },
   {
    "duration": 55,
    "start_time": "2023-02-17T19:36:20.442Z"
   },
   {
    "duration": 14,
    "start_time": "2023-02-17T19:36:20.499Z"
   },
   {
    "duration": 32,
    "start_time": "2023-02-17T19:36:20.515Z"
   },
   {
    "duration": 1891,
    "start_time": "2023-02-17T19:36:20.549Z"
   },
   {
    "duration": 5,
    "start_time": "2023-02-17T19:36:22.444Z"
   },
   {
    "duration": 144,
    "start_time": "2023-02-17T19:36:22.451Z"
   },
   {
    "duration": 10,
    "start_time": "2023-02-17T19:36:22.597Z"
   },
   {
    "duration": 29,
    "start_time": "2023-02-17T19:36:22.610Z"
   },
   {
    "duration": 30,
    "start_time": "2023-02-17T19:36:22.642Z"
   },
   {
    "duration": 20,
    "start_time": "2023-02-17T19:36:22.674Z"
   },
   {
    "duration": 14,
    "start_time": "2023-02-17T19:36:22.697Z"
   },
   {
    "duration": 13,
    "start_time": "2023-02-17T19:36:22.726Z"
   },
   {
    "duration": 24,
    "start_time": "2023-02-17T19:36:22.749Z"
   },
   {
    "duration": 15,
    "start_time": "2023-02-17T19:36:22.775Z"
   },
   {
    "duration": 890,
    "start_time": "2023-02-17T19:36:22.791Z"
   },
   {
    "duration": 341,
    "start_time": "2023-02-17T19:36:23.683Z"
   },
   {
    "duration": 17,
    "start_time": "2023-02-17T19:36:24.027Z"
   },
   {
    "duration": 33,
    "start_time": "2023-02-17T19:36:24.048Z"
   },
   {
    "duration": 17,
    "start_time": "2023-02-17T19:36:24.084Z"
   },
   {
    "duration": 31,
    "start_time": "2023-02-17T19:36:24.103Z"
   },
   {
    "duration": 41,
    "start_time": "2023-02-17T19:36:24.139Z"
   },
   {
    "duration": 6,
    "start_time": "2023-02-17T19:36:24.182Z"
   },
   {
    "duration": 21,
    "start_time": "2023-02-17T19:36:24.190Z"
   },
   {
    "duration": 340,
    "start_time": "2023-02-17T19:36:24.213Z"
   },
   {
    "duration": 143,
    "start_time": "2023-02-17T19:36:24.554Z"
   },
   {
    "duration": 10,
    "start_time": "2023-02-17T19:36:24.699Z"
   },
   {
    "duration": 32,
    "start_time": "2023-02-17T19:36:24.726Z"
   },
   {
    "duration": 32,
    "start_time": "2023-02-17T19:36:24.761Z"
   },
   {
    "duration": 428,
    "start_time": "2023-02-17T19:36:24.795Z"
   },
   {
    "duration": 139,
    "start_time": "2023-02-17T19:36:25.225Z"
   },
   {
    "duration": 8,
    "start_time": "2023-02-17T19:36:25.366Z"
   },
   {
    "duration": 12,
    "start_time": "2023-02-17T19:36:25.376Z"
   },
   {
    "duration": 10,
    "start_time": "2023-02-17T19:36:25.389Z"
   },
   {
    "duration": 59,
    "start_time": "2023-02-17T19:36:25.427Z"
   },
   {
    "duration": 9,
    "start_time": "2023-02-17T19:36:25.488Z"
   },
   {
    "duration": 156,
    "start_time": "2023-02-17T19:36:25.499Z"
   },
   {
    "duration": 141,
    "start_time": "2023-02-17T19:36:25.659Z"
   },
   {
    "duration": 10,
    "start_time": "2023-02-17T19:36:25.802Z"
   },
   {
    "duration": 19,
    "start_time": "2023-02-17T19:36:25.826Z"
   },
   {
    "duration": 16,
    "start_time": "2023-02-17T19:36:25.847Z"
   },
   {
    "duration": 3,
    "start_time": "2023-02-17T20:09:12.827Z"
   },
   {
    "duration": 5,
    "start_time": "2023-02-17T20:09:20.137Z"
   },
   {
    "duration": 4,
    "start_time": "2023-02-17T20:10:31.503Z"
   },
   {
    "duration": 12,
    "start_time": "2023-02-17T20:14:56.670Z"
   },
   {
    "duration": 106,
    "start_time": "2023-02-17T20:36:51.547Z"
   },
   {
    "duration": 76,
    "start_time": "2023-02-17T20:39:19.048Z"
   },
   {
    "duration": 4,
    "start_time": "2023-02-17T20:39:41.989Z"
   },
   {
    "duration": 4,
    "start_time": "2023-02-17T20:40:01.977Z"
   },
   {
    "duration": 380,
    "start_time": "2023-02-17T20:42:29.191Z"
   },
   {
    "duration": 341,
    "start_time": "2023-02-17T20:42:38.432Z"
   },
   {
    "duration": 6,
    "start_time": "2023-02-17T20:43:57.275Z"
   },
   {
    "duration": 4,
    "start_time": "2023-02-17T20:44:32.923Z"
   },
   {
    "duration": 334,
    "start_time": "2023-02-17T20:44:35.726Z"
   },
   {
    "duration": 3,
    "start_time": "2023-02-17T20:47:29.141Z"
   },
   {
    "duration": 3,
    "start_time": "2023-02-17T20:47:41.760Z"
   },
   {
    "duration": 22,
    "start_time": "2023-02-17T20:48:51.928Z"
   },
   {
    "duration": 28,
    "start_time": "2023-02-18T11:59:35.884Z"
   },
   {
    "duration": 11,
    "start_time": "2023-02-18T12:01:00.908Z"
   },
   {
    "duration": 9,
    "start_time": "2023-02-18T12:01:24.621Z"
   },
   {
    "duration": 4,
    "start_time": "2023-02-18T12:01:42.869Z"
   },
   {
    "duration": 2164,
    "start_time": "2023-02-18T12:18:40.817Z"
   },
   {
    "duration": 68,
    "start_time": "2023-02-18T12:43:45.433Z"
   },
   {
    "duration": 71,
    "start_time": "2023-02-18T12:43:50.999Z"
   },
   {
    "duration": 1220,
    "start_time": "2023-02-18T12:43:58.260Z"
   },
   {
    "duration": 1187,
    "start_time": "2023-02-18T12:44:34.113Z"
   },
   {
    "duration": 1153,
    "start_time": "2023-02-18T12:44:55.318Z"
   },
   {
    "duration": 6,
    "start_time": "2023-02-18T12:46:41.522Z"
   },
   {
    "duration": 5,
    "start_time": "2023-02-18T12:47:10.258Z"
   },
   {
    "duration": 6,
    "start_time": "2023-02-18T12:47:16.791Z"
   },
   {
    "duration": 5,
    "start_time": "2023-02-18T12:47:38.409Z"
   },
   {
    "duration": 11,
    "start_time": "2023-02-18T12:47:53.074Z"
   },
   {
    "duration": 6,
    "start_time": "2023-02-18T12:48:18.789Z"
   },
   {
    "duration": 66,
    "start_time": "2023-02-18T12:50:14.043Z"
   },
   {
    "duration": 1095,
    "start_time": "2023-02-18T12:50:27.534Z"
   },
   {
    "duration": 1167,
    "start_time": "2023-02-18T12:50:44.217Z"
   },
   {
    "duration": 1185,
    "start_time": "2023-02-18T12:50:58.277Z"
   },
   {
    "duration": 514,
    "start_time": "2023-02-18T12:51:15.550Z"
   },
   {
    "duration": 303,
    "start_time": "2023-02-18T12:51:35.964Z"
   },
   {
    "duration": 195,
    "start_time": "2023-02-18T12:55:00.726Z"
   },
   {
    "duration": 11,
    "start_time": "2023-02-18T12:55:05.583Z"
   },
   {
    "duration": 197,
    "start_time": "2023-02-18T12:55:12.630Z"
   },
   {
    "duration": 11,
    "start_time": "2023-02-18T12:55:14.432Z"
   },
   {
    "duration": 15,
    "start_time": "2023-02-18T12:56:55.659Z"
   },
   {
    "duration": 7,
    "start_time": "2023-02-18T12:59:30.325Z"
   },
   {
    "duration": 13,
    "start_time": "2023-02-18T12:59:38.114Z"
   },
   {
    "duration": 3,
    "start_time": "2023-02-18T13:00:37.405Z"
   },
   {
    "duration": 13,
    "start_time": "2023-02-18T13:00:39.018Z"
   },
   {
    "duration": 1342,
    "start_time": "2023-02-18T13:00:49.612Z"
   },
   {
    "duration": 92,
    "start_time": "2023-02-18T13:00:50.956Z"
   },
   {
    "duration": 35,
    "start_time": "2023-02-18T13:00:51.050Z"
   },
   {
    "duration": 16,
    "start_time": "2023-02-18T13:00:51.087Z"
   },
   {
    "duration": 7,
    "start_time": "2023-02-18T13:00:51.105Z"
   },
   {
    "duration": 31,
    "start_time": "2023-02-18T13:00:51.114Z"
   },
   {
    "duration": 31,
    "start_time": "2023-02-18T13:00:51.146Z"
   },
   {
    "duration": 27,
    "start_time": "2023-02-18T13:00:51.179Z"
   },
   {
    "duration": 4,
    "start_time": "2023-02-18T13:00:51.226Z"
   },
   {
    "duration": 37,
    "start_time": "2023-02-18T13:00:51.233Z"
   },
   {
    "duration": 56,
    "start_time": "2023-02-18T13:00:51.271Z"
   },
   {
    "duration": 17,
    "start_time": "2023-02-18T13:00:51.329Z"
   },
   {
    "duration": 5,
    "start_time": "2023-02-18T13:00:51.348Z"
   },
   {
    "duration": 33,
    "start_time": "2023-02-18T13:00:51.357Z"
   },
   {
    "duration": 4,
    "start_time": "2023-02-18T13:00:51.392Z"
   },
   {
    "duration": 56,
    "start_time": "2023-02-18T13:00:51.398Z"
   },
   {
    "duration": 39,
    "start_time": "2023-02-18T13:00:51.456Z"
   },
   {
    "duration": 35,
    "start_time": "2023-02-18T13:00:51.496Z"
   },
   {
    "duration": 3,
    "start_time": "2023-02-18T13:00:51.533Z"
   },
   {
    "duration": 1516,
    "start_time": "2023-02-18T13:00:51.538Z"
   },
   {
    "duration": 3,
    "start_time": "2023-02-18T13:00:53.056Z"
   },
   {
    "duration": 130,
    "start_time": "2023-02-18T13:00:53.061Z"
   },
   {
    "duration": 8,
    "start_time": "2023-02-18T13:00:53.193Z"
   },
   {
    "duration": 24,
    "start_time": "2023-02-18T13:00:53.203Z"
   },
   {
    "duration": 9,
    "start_time": "2023-02-18T13:00:53.229Z"
   },
   {
    "duration": 11,
    "start_time": "2023-02-18T13:00:53.239Z"
   },
   {
    "duration": 10,
    "start_time": "2023-02-18T13:00:53.252Z"
   },
   {
    "duration": 8,
    "start_time": "2023-02-18T13:00:53.264Z"
   },
   {
    "duration": 22,
    "start_time": "2023-02-18T13:00:53.274Z"
   },
   {
    "duration": 32,
    "start_time": "2023-02-18T13:00:53.298Z"
   },
   {
    "duration": 924,
    "start_time": "2023-02-18T13:00:53.331Z"
   },
   {
    "duration": 124,
    "start_time": "2023-02-18T13:00:54.258Z"
   },
   {
    "duration": 9,
    "start_time": "2023-02-18T13:00:54.384Z"
   },
   {
    "duration": 12,
    "start_time": "2023-02-18T13:00:54.395Z"
   },
   {
    "duration": 14,
    "start_time": "2023-02-18T13:00:54.428Z"
   },
   {
    "duration": 15,
    "start_time": "2023-02-18T13:00:54.444Z"
   },
   {
    "duration": 19,
    "start_time": "2023-02-18T13:00:54.461Z"
   },
   {
    "duration": 8,
    "start_time": "2023-02-18T13:00:54.483Z"
   },
   {
    "duration": 61,
    "start_time": "2023-02-18T13:00:54.493Z"
   },
   {
    "duration": 323,
    "start_time": "2023-02-18T13:00:54.556Z"
   },
   {
    "duration": 120,
    "start_time": "2023-02-18T13:00:54.882Z"
   },
   {
    "duration": 8,
    "start_time": "2023-02-18T13:00:55.004Z"
   },
   {
    "duration": 6,
    "start_time": "2023-02-18T13:00:55.028Z"
   },
   {
    "duration": 27,
    "start_time": "2023-02-18T13:00:55.036Z"
   },
   {
    "duration": 313,
    "start_time": "2023-02-18T13:00:55.065Z"
   },
   {
    "duration": 126,
    "start_time": "2023-02-18T13:00:55.379Z"
   },
   {
    "duration": 7,
    "start_time": "2023-02-18T13:00:55.507Z"
   },
   {
    "duration": 11,
    "start_time": "2023-02-18T13:00:55.528Z"
   },
   {
    "duration": 13,
    "start_time": "2023-02-18T13:00:55.541Z"
   },
   {
    "duration": 59,
    "start_time": "2023-02-18T13:00:55.557Z"
   },
   {
    "duration": 8,
    "start_time": "2023-02-18T13:00:55.627Z"
   },
   {
    "duration": 145,
    "start_time": "2023-02-18T13:00:55.637Z"
   },
   {
    "duration": 129,
    "start_time": "2023-02-18T13:00:55.784Z"
   },
   {
    "duration": 13,
    "start_time": "2023-02-18T13:00:55.915Z"
   },
   {
    "duration": 11,
    "start_time": "2023-02-18T13:00:55.930Z"
   },
   {
    "duration": 6,
    "start_time": "2023-02-18T13:00:55.943Z"
   },
   {
    "duration": 6,
    "start_time": "2023-02-18T13:00:55.951Z"
   },
   {
    "duration": 13,
    "start_time": "2023-02-18T13:00:55.959Z"
   },
   {
    "duration": 18,
    "start_time": "2023-02-18T13:00:55.974Z"
   },
   {
    "duration": 73,
    "start_time": "2023-02-18T13:00:55.993Z"
   },
   {
    "duration": 114,
    "start_time": "2023-02-18T13:01:56.605Z"
   },
   {
    "duration": 1322,
    "start_time": "2023-02-18T13:02:03.121Z"
   },
   {
    "duration": 94,
    "start_time": "2023-02-18T13:02:04.445Z"
   },
   {
    "duration": 38,
    "start_time": "2023-02-18T13:02:04.541Z"
   },
   {
    "duration": 19,
    "start_time": "2023-02-18T13:02:04.581Z"
   },
   {
    "duration": 4,
    "start_time": "2023-02-18T13:02:04.603Z"
   },
   {
    "duration": 43,
    "start_time": "2023-02-18T13:02:04.609Z"
   },
   {
    "duration": 38,
    "start_time": "2023-02-18T13:02:04.655Z"
   },
   {
    "duration": 56,
    "start_time": "2023-02-18T13:02:04.696Z"
   },
   {
    "duration": 5,
    "start_time": "2023-02-18T13:02:04.754Z"
   },
   {
    "duration": 46,
    "start_time": "2023-02-18T13:02:04.761Z"
   },
   {
    "duration": 62,
    "start_time": "2023-02-18T13:02:04.809Z"
   },
   {
    "duration": 14,
    "start_time": "2023-02-18T13:02:04.873Z"
   },
   {
    "duration": 4,
    "start_time": "2023-02-18T13:02:04.890Z"
   },
   {
    "duration": 47,
    "start_time": "2023-02-18T13:02:04.897Z"
   },
   {
    "duration": 3,
    "start_time": "2023-02-18T13:02:04.947Z"
   },
   {
    "duration": 41,
    "start_time": "2023-02-18T13:02:04.952Z"
   },
   {
    "duration": 56,
    "start_time": "2023-02-18T13:02:04.995Z"
   },
   {
    "duration": 9,
    "start_time": "2023-02-18T13:02:05.053Z"
   },
   {
    "duration": 23,
    "start_time": "2023-02-18T13:02:05.064Z"
   },
   {
    "duration": 1619,
    "start_time": "2023-02-18T13:02:05.089Z"
   },
   {
    "duration": 3,
    "start_time": "2023-02-18T13:02:06.711Z"
   },
   {
    "duration": 146,
    "start_time": "2023-02-18T13:02:06.716Z"
   },
   {
    "duration": 7,
    "start_time": "2023-02-18T13:02:06.866Z"
   },
   {
    "duration": 12,
    "start_time": "2023-02-18T13:02:06.875Z"
   },
   {
    "duration": 10,
    "start_time": "2023-02-18T13:02:06.889Z"
   },
   {
    "duration": 16,
    "start_time": "2023-02-18T13:02:06.926Z"
   },
   {
    "duration": 11,
    "start_time": "2023-02-18T13:02:06.945Z"
   },
   {
    "duration": 8,
    "start_time": "2023-02-18T13:02:06.958Z"
   },
   {
    "duration": 8,
    "start_time": "2023-02-18T13:02:06.967Z"
   },
   {
    "duration": 12,
    "start_time": "2023-02-18T13:02:06.976Z"
   },
   {
    "duration": 949,
    "start_time": "2023-02-18T13:02:06.990Z"
   },
   {
    "duration": 127,
    "start_time": "2023-02-18T13:02:07.941Z"
   },
   {
    "duration": 8,
    "start_time": "2023-02-18T13:02:08.069Z"
   },
   {
    "duration": 14,
    "start_time": "2023-02-18T13:02:08.079Z"
   },
   {
    "duration": 13,
    "start_time": "2023-02-18T13:02:08.094Z"
   },
   {
    "duration": 21,
    "start_time": "2023-02-18T13:02:08.127Z"
   },
   {
    "duration": 25,
    "start_time": "2023-02-18T13:02:08.151Z"
   },
   {
    "duration": 5,
    "start_time": "2023-02-18T13:02:08.178Z"
   },
   {
    "duration": 48,
    "start_time": "2023-02-18T13:02:08.185Z"
   },
   {
    "duration": 323,
    "start_time": "2023-02-18T13:02:08.234Z"
   },
   {
    "duration": 143,
    "start_time": "2023-02-18T13:02:08.561Z"
   },
   {
    "duration": 21,
    "start_time": "2023-02-18T13:02:08.706Z"
   },
   {
    "duration": 7,
    "start_time": "2023-02-18T13:02:08.729Z"
   },
   {
    "duration": 41,
    "start_time": "2023-02-18T13:02:08.738Z"
   },
   {
    "duration": 328,
    "start_time": "2023-02-18T13:02:08.781Z"
   },
   {
    "duration": 141,
    "start_time": "2023-02-18T13:02:09.111Z"
   },
   {
    "duration": 7,
    "start_time": "2023-02-18T13:02:09.255Z"
   },
   {
    "duration": 24,
    "start_time": "2023-02-18T13:02:09.265Z"
   },
   {
    "duration": 9,
    "start_time": "2023-02-18T13:02:09.291Z"
   },
   {
    "duration": 64,
    "start_time": "2023-02-18T13:02:09.302Z"
   },
   {
    "duration": 9,
    "start_time": "2023-02-18T13:02:09.368Z"
   },
   {
    "duration": 143,
    "start_time": "2023-02-18T13:02:09.379Z"
   },
   {
    "duration": 145,
    "start_time": "2023-02-18T13:02:09.527Z"
   },
   {
    "duration": 8,
    "start_time": "2023-02-18T13:02:09.674Z"
   },
   {
    "duration": 18,
    "start_time": "2023-02-18T13:02:09.684Z"
   },
   {
    "duration": 36,
    "start_time": "2023-02-18T13:02:09.704Z"
   },
   {
    "duration": 13,
    "start_time": "2023-02-18T13:02:09.742Z"
   },
   {
    "duration": 10,
    "start_time": "2023-02-18T13:02:09.757Z"
   },
   {
    "duration": 16,
    "start_time": "2023-02-18T13:02:09.769Z"
   },
   {
    "duration": 73,
    "start_time": "2023-02-18T13:02:09.787Z"
   },
   {
    "duration": 1220,
    "start_time": "2023-02-18T13:03:38.368Z"
   },
   {
    "duration": 91,
    "start_time": "2023-02-18T13:03:39.590Z"
   },
   {
    "duration": 36,
    "start_time": "2023-02-18T13:03:39.683Z"
   },
   {
    "duration": 15,
    "start_time": "2023-02-18T13:03:39.722Z"
   },
   {
    "duration": 4,
    "start_time": "2023-02-18T13:03:39.739Z"
   },
   {
    "duration": 24,
    "start_time": "2023-02-18T13:03:39.744Z"
   },
   {
    "duration": 30,
    "start_time": "2023-02-18T13:03:39.770Z"
   },
   {
    "duration": 46,
    "start_time": "2023-02-18T13:03:39.801Z"
   },
   {
    "duration": 4,
    "start_time": "2023-02-18T13:03:39.849Z"
   },
   {
    "duration": 33,
    "start_time": "2023-02-18T13:03:39.855Z"
   },
   {
    "duration": 60,
    "start_time": "2023-02-18T13:03:39.890Z"
   },
   {
    "duration": 15,
    "start_time": "2023-02-18T13:03:39.951Z"
   },
   {
    "duration": 4,
    "start_time": "2023-02-18T13:03:39.968Z"
   },
   {
    "duration": 29,
    "start_time": "2023-02-18T13:03:39.973Z"
   },
   {
    "duration": 24,
    "start_time": "2023-02-18T13:03:40.004Z"
   },
   {
    "duration": 27,
    "start_time": "2023-02-18T13:03:40.031Z"
   },
   {
    "duration": 46,
    "start_time": "2023-02-18T13:03:40.060Z"
   },
   {
    "duration": 11,
    "start_time": "2023-02-18T13:03:40.126Z"
   },
   {
    "duration": 16,
    "start_time": "2023-02-18T13:03:40.139Z"
   },
   {
    "duration": 1576,
    "start_time": "2023-02-18T13:03:40.157Z"
   },
   {
    "duration": 4,
    "start_time": "2023-02-18T13:03:41.734Z"
   },
   {
    "duration": 134,
    "start_time": "2023-02-18T13:03:41.739Z"
   },
   {
    "duration": 7,
    "start_time": "2023-02-18T13:03:41.875Z"
   },
   {
    "duration": 10,
    "start_time": "2023-02-18T13:03:41.884Z"
   },
   {
    "duration": 11,
    "start_time": "2023-02-18T13:03:41.896Z"
   },
   {
    "duration": 26,
    "start_time": "2023-02-18T13:03:41.909Z"
   },
   {
    "duration": 8,
    "start_time": "2023-02-18T13:03:41.937Z"
   },
   {
    "duration": 11,
    "start_time": "2023-02-18T13:03:41.948Z"
   },
   {
    "duration": 12,
    "start_time": "2023-02-18T13:03:41.960Z"
   },
   {
    "duration": 19,
    "start_time": "2023-02-18T13:03:41.974Z"
   },
   {
    "duration": 789,
    "start_time": "2023-02-18T13:03:41.994Z"
   },
   {
    "duration": 278,
    "start_time": "2023-02-18T13:03:42.785Z"
   },
   {
    "duration": 10,
    "start_time": "2023-02-18T13:03:43.064Z"
   },
   {
    "duration": 11,
    "start_time": "2023-02-18T13:03:43.075Z"
   },
   {
    "duration": 12,
    "start_time": "2023-02-18T13:03:43.088Z"
   },
   {
    "duration": 38,
    "start_time": "2023-02-18T13:03:43.102Z"
   },
   {
    "duration": 20,
    "start_time": "2023-02-18T13:03:43.141Z"
   },
   {
    "duration": 5,
    "start_time": "2023-02-18T13:03:43.163Z"
   },
   {
    "duration": 24,
    "start_time": "2023-02-18T13:03:43.170Z"
   },
   {
    "duration": 337,
    "start_time": "2023-02-18T13:03:43.196Z"
   },
   {
    "duration": 120,
    "start_time": "2023-02-18T13:03:43.535Z"
   },
   {
    "duration": 9,
    "start_time": "2023-02-18T13:03:43.656Z"
   },
   {
    "duration": 9,
    "start_time": "2023-02-18T13:03:43.666Z"
   },
   {
    "duration": 51,
    "start_time": "2023-02-18T13:03:43.677Z"
   },
   {
    "duration": 300,
    "start_time": "2023-02-18T13:03:43.730Z"
   },
   {
    "duration": 131,
    "start_time": "2023-02-18T13:03:44.032Z"
   },
   {
    "duration": 7,
    "start_time": "2023-02-18T13:03:44.165Z"
   },
   {
    "duration": 11,
    "start_time": "2023-02-18T13:03:44.174Z"
   },
   {
    "duration": 10,
    "start_time": "2023-02-18T13:03:44.187Z"
   },
   {
    "duration": 71,
    "start_time": "2023-02-18T13:03:44.200Z"
   },
   {
    "duration": 8,
    "start_time": "2023-02-18T13:03:44.273Z"
   },
   {
    "duration": 135,
    "start_time": "2023-02-18T13:03:44.283Z"
   },
   {
    "duration": 134,
    "start_time": "2023-02-18T13:03:44.419Z"
   },
   {
    "duration": 7,
    "start_time": "2023-02-18T13:03:44.555Z"
   },
   {
    "duration": 7,
    "start_time": "2023-02-18T13:03:44.564Z"
   },
   {
    "duration": 5,
    "start_time": "2023-02-18T13:03:44.573Z"
   },
   {
    "duration": 4,
    "start_time": "2023-02-18T13:03:44.580Z"
   },
   {
    "duration": 8,
    "start_time": "2023-02-18T13:03:44.586Z"
   },
   {
    "duration": 36,
    "start_time": "2023-02-18T13:03:44.595Z"
   },
   {
    "duration": 69,
    "start_time": "2023-02-18T13:03:44.633Z"
   },
   {
    "duration": 120,
    "start_time": "2023-02-18T13:07:20.598Z"
   },
   {
    "duration": 72,
    "start_time": "2023-02-18T13:08:17.887Z"
   },
   {
    "duration": 5,
    "start_time": "2023-02-18T13:08:23.618Z"
   },
   {
    "duration": 13,
    "start_time": "2023-02-18T13:08:48.706Z"
   },
   {
    "duration": 1286,
    "start_time": "2023-02-18T13:08:58.254Z"
   },
   {
    "duration": 88,
    "start_time": "2023-02-18T13:08:59.542Z"
   },
   {
    "duration": 34,
    "start_time": "2023-02-18T13:08:59.632Z"
   },
   {
    "duration": 15,
    "start_time": "2023-02-18T13:08:59.668Z"
   },
   {
    "duration": 3,
    "start_time": "2023-02-18T13:08:59.685Z"
   },
   {
    "duration": 56,
    "start_time": "2023-02-18T13:08:59.689Z"
   },
   {
    "duration": 31,
    "start_time": "2023-02-18T13:08:59.746Z"
   },
   {
    "duration": 58,
    "start_time": "2023-02-18T13:08:59.778Z"
   },
   {
    "duration": 4,
    "start_time": "2023-02-18T13:08:59.838Z"
   },
   {
    "duration": 36,
    "start_time": "2023-02-18T13:08:59.845Z"
   },
   {
    "duration": 33,
    "start_time": "2023-02-18T13:08:59.883Z"
   },
   {
    "duration": 14,
    "start_time": "2023-02-18T13:08:59.926Z"
   },
   {
    "duration": 4,
    "start_time": "2023-02-18T13:08:59.942Z"
   },
   {
    "duration": 32,
    "start_time": "2023-02-18T13:08:59.948Z"
   },
   {
    "duration": 4,
    "start_time": "2023-02-18T13:08:59.981Z"
   },
   {
    "duration": 41,
    "start_time": "2023-02-18T13:08:59.986Z"
   },
   {
    "duration": 45,
    "start_time": "2023-02-18T13:09:00.028Z"
   },
   {
    "duration": 11,
    "start_time": "2023-02-18T13:09:00.075Z"
   },
   {
    "duration": 31,
    "start_time": "2023-02-18T13:09:00.087Z"
   },
   {
    "duration": 2711,
    "start_time": "2023-02-18T13:09:00.120Z"
   },
   {
    "duration": 4,
    "start_time": "2023-02-18T13:09:02.833Z"
   },
   {
    "duration": 138,
    "start_time": "2023-02-18T13:09:02.838Z"
   },
   {
    "duration": 14,
    "start_time": "2023-02-18T13:09:02.978Z"
   },
   {
    "duration": 75,
    "start_time": "2023-02-18T13:09:02.994Z"
   },
   {
    "duration": 10,
    "start_time": "2023-02-18T13:09:03.071Z"
   },
   {
    "duration": 9,
    "start_time": "2023-02-18T13:09:03.083Z"
   },
   {
    "duration": 35,
    "start_time": "2023-02-18T13:09:03.094Z"
   },
   {
    "duration": 11,
    "start_time": "2023-02-18T13:09:03.133Z"
   },
   {
    "duration": 13,
    "start_time": "2023-02-18T13:09:03.146Z"
   },
   {
    "duration": 12,
    "start_time": "2023-02-18T13:09:03.161Z"
   },
   {
    "duration": 788,
    "start_time": "2023-02-18T13:09:03.175Z"
   },
   {
    "duration": 276,
    "start_time": "2023-02-18T13:09:03.965Z"
   },
   {
    "duration": 8,
    "start_time": "2023-02-18T13:09:04.243Z"
   },
   {
    "duration": 11,
    "start_time": "2023-02-18T13:09:04.252Z"
   },
   {
    "duration": 12,
    "start_time": "2023-02-18T13:09:04.264Z"
   },
   {
    "duration": 27,
    "start_time": "2023-02-18T13:09:04.277Z"
   },
   {
    "duration": 36,
    "start_time": "2023-02-18T13:09:04.305Z"
   },
   {
    "duration": 5,
    "start_time": "2023-02-18T13:09:04.343Z"
   },
   {
    "duration": 19,
    "start_time": "2023-02-18T13:09:04.350Z"
   },
   {
    "duration": 352,
    "start_time": "2023-02-18T13:09:04.371Z"
   },
   {
    "duration": 118,
    "start_time": "2023-02-18T13:09:04.727Z"
   },
   {
    "duration": 8,
    "start_time": "2023-02-18T13:09:04.846Z"
   },
   {
    "duration": 32,
    "start_time": "2023-02-18T13:09:04.856Z"
   },
   {
    "duration": 27,
    "start_time": "2023-02-18T13:09:04.890Z"
   },
   {
    "duration": 315,
    "start_time": "2023-02-18T13:09:04.919Z"
   },
   {
    "duration": 161,
    "start_time": "2023-02-18T13:09:05.236Z"
   },
   {
    "duration": 6,
    "start_time": "2023-02-18T13:09:05.399Z"
   },
   {
    "duration": 24,
    "start_time": "2023-02-18T13:09:05.407Z"
   },
   {
    "duration": 7,
    "start_time": "2023-02-18T13:09:05.433Z"
   },
   {
    "duration": 51,
    "start_time": "2023-02-18T13:09:05.442Z"
   },
   {
    "duration": 9,
    "start_time": "2023-02-18T13:09:05.494Z"
   },
   {
    "duration": 136,
    "start_time": "2023-02-18T13:09:05.528Z"
   },
   {
    "duration": 139,
    "start_time": "2023-02-18T13:09:05.666Z"
   },
   {
    "duration": 8,
    "start_time": "2023-02-18T13:09:05.807Z"
   },
   {
    "duration": 15,
    "start_time": "2023-02-18T13:09:05.817Z"
   },
   {
    "duration": 5,
    "start_time": "2023-02-18T13:09:05.834Z"
   },
   {
    "duration": 3,
    "start_time": "2023-02-18T13:09:05.841Z"
   },
   {
    "duration": 122,
    "start_time": "2023-02-18T13:09:05.846Z"
   },
   {
    "duration": 0,
    "start_time": "2023-02-18T13:09:05.969Z"
   },
   {
    "duration": 0,
    "start_time": "2023-02-18T13:09:05.971Z"
   },
   {
    "duration": 13,
    "start_time": "2023-02-18T13:09:22.434Z"
   },
   {
    "duration": 3,
    "start_time": "2023-02-18T13:09:25.241Z"
   },
   {
    "duration": 12,
    "start_time": "2023-02-18T13:09:27.443Z"
   },
   {
    "duration": 1225,
    "start_time": "2023-02-18T13:09:32.721Z"
   },
   {
    "duration": 91,
    "start_time": "2023-02-18T13:09:33.948Z"
   },
   {
    "duration": 34,
    "start_time": "2023-02-18T13:09:34.041Z"
   },
   {
    "duration": 20,
    "start_time": "2023-02-18T13:09:34.077Z"
   },
   {
    "duration": 6,
    "start_time": "2023-02-18T13:09:34.103Z"
   },
   {
    "duration": 38,
    "start_time": "2023-02-18T13:09:34.111Z"
   },
   {
    "duration": 36,
    "start_time": "2023-02-18T13:09:34.151Z"
   },
   {
    "duration": 28,
    "start_time": "2023-02-18T13:09:34.188Z"
   },
   {
    "duration": 11,
    "start_time": "2023-02-18T13:09:34.218Z"
   },
   {
    "duration": 42,
    "start_time": "2023-02-18T13:09:34.230Z"
   },
   {
    "duration": 36,
    "start_time": "2023-02-18T13:09:34.274Z"
   },
   {
    "duration": 26,
    "start_time": "2023-02-18T13:09:34.312Z"
   },
   {
    "duration": 3,
    "start_time": "2023-02-18T13:09:34.340Z"
   },
   {
    "duration": 33,
    "start_time": "2023-02-18T13:09:34.346Z"
   },
   {
    "duration": 3,
    "start_time": "2023-02-18T13:09:34.381Z"
   },
   {
    "duration": 53,
    "start_time": "2023-02-18T13:09:34.385Z"
   },
   {
    "duration": 42,
    "start_time": "2023-02-18T13:09:34.440Z"
   },
   {
    "duration": 9,
    "start_time": "2023-02-18T13:09:34.484Z"
   },
   {
    "duration": 7,
    "start_time": "2023-02-18T13:09:34.495Z"
   },
   {
    "duration": 1504,
    "start_time": "2023-02-18T13:09:34.526Z"
   },
   {
    "duration": 4,
    "start_time": "2023-02-18T13:09:36.031Z"
   },
   {
    "duration": 127,
    "start_time": "2023-02-18T13:09:36.037Z"
   },
   {
    "duration": 8,
    "start_time": "2023-02-18T13:09:36.165Z"
   },
   {
    "duration": 11,
    "start_time": "2023-02-18T13:09:36.175Z"
   },
   {
    "duration": 10,
    "start_time": "2023-02-18T13:09:36.188Z"
   },
   {
    "duration": 33,
    "start_time": "2023-02-18T13:09:36.200Z"
   },
   {
    "duration": 16,
    "start_time": "2023-02-18T13:09:36.235Z"
   },
   {
    "duration": 7,
    "start_time": "2023-02-18T13:09:36.252Z"
   },
   {
    "duration": 7,
    "start_time": "2023-02-18T13:09:36.261Z"
   },
   {
    "duration": 15,
    "start_time": "2023-02-18T13:09:36.270Z"
   },
   {
    "duration": 938,
    "start_time": "2023-02-18T13:09:36.287Z"
   },
   {
    "duration": 125,
    "start_time": "2023-02-18T13:09:37.227Z"
   },
   {
    "duration": 8,
    "start_time": "2023-02-18T13:09:37.354Z"
   },
   {
    "duration": 11,
    "start_time": "2023-02-18T13:09:37.364Z"
   },
   {
    "duration": 12,
    "start_time": "2023-02-18T13:09:37.377Z"
   },
   {
    "duration": 44,
    "start_time": "2023-02-18T13:09:37.390Z"
   },
   {
    "duration": 18,
    "start_time": "2023-02-18T13:09:37.436Z"
   },
   {
    "duration": 5,
    "start_time": "2023-02-18T13:09:37.456Z"
   },
   {
    "duration": 24,
    "start_time": "2023-02-18T13:09:37.463Z"
   },
   {
    "duration": 307,
    "start_time": "2023-02-18T13:09:37.488Z"
   },
   {
    "duration": 130,
    "start_time": "2023-02-18T13:09:37.799Z"
   },
   {
    "duration": 7,
    "start_time": "2023-02-18T13:09:37.932Z"
   },
   {
    "duration": 10,
    "start_time": "2023-02-18T13:09:37.941Z"
   },
   {
    "duration": 28,
    "start_time": "2023-02-18T13:09:37.952Z"
   },
   {
    "duration": 313,
    "start_time": "2023-02-18T13:09:37.982Z"
   },
   {
    "duration": 127,
    "start_time": "2023-02-18T13:09:38.297Z"
   },
   {
    "duration": 6,
    "start_time": "2023-02-18T13:09:38.426Z"
   },
   {
    "duration": 9,
    "start_time": "2023-02-18T13:09:38.434Z"
   },
   {
    "duration": 8,
    "start_time": "2023-02-18T13:09:38.445Z"
   },
   {
    "duration": 78,
    "start_time": "2023-02-18T13:09:38.455Z"
   },
   {
    "duration": 7,
    "start_time": "2023-02-18T13:09:38.535Z"
   },
   {
    "duration": 145,
    "start_time": "2023-02-18T13:09:38.544Z"
   },
   {
    "duration": 139,
    "start_time": "2023-02-18T13:09:38.691Z"
   },
   {
    "duration": 7,
    "start_time": "2023-02-18T13:09:38.832Z"
   },
   {
    "duration": 7,
    "start_time": "2023-02-18T13:09:38.841Z"
   },
   {
    "duration": 7,
    "start_time": "2023-02-18T13:09:38.849Z"
   },
   {
    "duration": 3,
    "start_time": "2023-02-18T13:09:38.857Z"
   },
   {
    "duration": 6,
    "start_time": "2023-02-18T13:09:38.862Z"
   },
   {
    "duration": 15,
    "start_time": "2023-02-18T13:09:38.869Z"
   },
   {
    "duration": 89,
    "start_time": "2023-02-18T13:09:38.886Z"
   },
   {
    "duration": 112,
    "start_time": "2023-02-18T13:11:53.842Z"
   },
   {
    "duration": 1310,
    "start_time": "2023-02-18T13:12:22.040Z"
   },
   {
    "duration": 108,
    "start_time": "2023-02-18T13:12:23.353Z"
   },
   {
    "duration": 35,
    "start_time": "2023-02-18T13:12:23.463Z"
   },
   {
    "duration": 16,
    "start_time": "2023-02-18T13:12:23.500Z"
   },
   {
    "duration": 3,
    "start_time": "2023-02-18T13:12:23.518Z"
   },
   {
    "duration": 32,
    "start_time": "2023-02-18T13:12:23.526Z"
   },
   {
    "duration": 28,
    "start_time": "2023-02-18T13:12:23.559Z"
   },
   {
    "duration": 25,
    "start_time": "2023-02-18T13:12:23.589Z"
   },
   {
    "duration": 5,
    "start_time": "2023-02-18T13:12:23.626Z"
   },
   {
    "duration": 58,
    "start_time": "2023-02-18T13:12:23.634Z"
   },
   {
    "duration": 38,
    "start_time": "2023-02-18T13:12:23.694Z"
   },
   {
    "duration": 13,
    "start_time": "2023-02-18T13:12:23.734Z"
   },
   {
    "duration": 14,
    "start_time": "2023-02-18T13:12:23.749Z"
   },
   {
    "duration": 27,
    "start_time": "2023-02-18T13:12:23.765Z"
   },
   {
    "duration": 3,
    "start_time": "2023-02-18T13:12:23.793Z"
   },
   {
    "duration": 42,
    "start_time": "2023-02-18T13:12:23.798Z"
   },
   {
    "duration": 34,
    "start_time": "2023-02-18T13:12:23.842Z"
   },
   {
    "duration": 8,
    "start_time": "2023-02-18T13:12:23.878Z"
   },
   {
    "duration": 3,
    "start_time": "2023-02-18T13:12:23.888Z"
   },
   {
    "duration": 1521,
    "start_time": "2023-02-18T13:12:23.892Z"
   },
   {
    "duration": 12,
    "start_time": "2023-02-18T13:12:25.415Z"
   },
   {
    "duration": 143,
    "start_time": "2023-02-18T13:12:25.428Z"
   },
   {
    "duration": 9,
    "start_time": "2023-02-18T13:12:25.572Z"
   },
   {
    "duration": 9,
    "start_time": "2023-02-18T13:12:25.582Z"
   },
   {
    "duration": 14,
    "start_time": "2023-02-18T13:12:25.592Z"
   },
   {
    "duration": 28,
    "start_time": "2023-02-18T13:12:25.607Z"
   },
   {
    "duration": 8,
    "start_time": "2023-02-18T13:12:25.637Z"
   },
   {
    "duration": 8,
    "start_time": "2023-02-18T13:12:25.648Z"
   },
   {
    "duration": 7,
    "start_time": "2023-02-18T13:12:25.657Z"
   },
   {
    "duration": 10,
    "start_time": "2023-02-18T13:12:25.665Z"
   },
   {
    "duration": 798,
    "start_time": "2023-02-18T13:12:25.677Z"
   },
   {
    "duration": 262,
    "start_time": "2023-02-18T13:12:26.477Z"
   },
   {
    "duration": 8,
    "start_time": "2023-02-18T13:12:26.741Z"
   },
   {
    "duration": 10,
    "start_time": "2023-02-18T13:12:26.751Z"
   },
   {
    "duration": 12,
    "start_time": "2023-02-18T13:12:26.762Z"
   },
   {
    "duration": 13,
    "start_time": "2023-02-18T13:12:26.775Z"
   },
   {
    "duration": 52,
    "start_time": "2023-02-18T13:12:26.790Z"
   },
   {
    "duration": 5,
    "start_time": "2023-02-18T13:12:26.844Z"
   },
   {
    "duration": 22,
    "start_time": "2023-02-18T13:12:26.851Z"
   },
   {
    "duration": 324,
    "start_time": "2023-02-18T13:12:26.875Z"
   },
   {
    "duration": 128,
    "start_time": "2023-02-18T13:12:27.201Z"
   },
   {
    "duration": 8,
    "start_time": "2023-02-18T13:12:27.331Z"
   },
   {
    "duration": 8,
    "start_time": "2023-02-18T13:12:27.340Z"
   },
   {
    "duration": 28,
    "start_time": "2023-02-18T13:12:27.349Z"
   },
   {
    "duration": 337,
    "start_time": "2023-02-18T13:12:27.378Z"
   },
   {
    "duration": 124,
    "start_time": "2023-02-18T13:12:27.716Z"
   },
   {
    "duration": 6,
    "start_time": "2023-02-18T13:12:27.842Z"
   },
   {
    "duration": 9,
    "start_time": "2023-02-18T13:12:27.850Z"
   },
   {
    "duration": 11,
    "start_time": "2023-02-18T13:12:27.860Z"
   },
   {
    "duration": 65,
    "start_time": "2023-02-18T13:12:27.872Z"
   },
   {
    "duration": 8,
    "start_time": "2023-02-18T13:12:27.938Z"
   },
   {
    "duration": 136,
    "start_time": "2023-02-18T13:12:27.948Z"
   },
   {
    "duration": 129,
    "start_time": "2023-02-18T13:12:28.085Z"
   },
   {
    "duration": 16,
    "start_time": "2023-02-18T13:12:28.215Z"
   },
   {
    "duration": 11,
    "start_time": "2023-02-18T13:12:28.234Z"
   },
   {
    "duration": 5,
    "start_time": "2023-02-18T13:12:28.247Z"
   },
   {
    "duration": 8,
    "start_time": "2023-02-18T13:12:28.253Z"
   },
   {
    "duration": 7,
    "start_time": "2023-02-18T13:12:28.263Z"
   },
   {
    "duration": 139,
    "start_time": "2023-02-18T13:12:28.272Z"
   },
   {
    "duration": 0,
    "start_time": "2023-02-18T13:12:28.413Z"
   },
   {
    "duration": 0,
    "start_time": "2023-02-18T13:12:28.414Z"
   },
   {
    "duration": 22,
    "start_time": "2023-02-18T13:14:34.225Z"
   },
   {
    "duration": 15,
    "start_time": "2023-02-18T13:14:38.000Z"
   },
   {
    "duration": 20,
    "start_time": "2023-02-18T13:14:55.982Z"
   },
   {
    "duration": 12,
    "start_time": "2023-02-18T13:14:59.620Z"
   },
   {
    "duration": 104,
    "start_time": "2023-02-18T13:17:24.594Z"
   },
   {
    "duration": 65,
    "start_time": "2023-02-18T13:17:55.465Z"
   },
   {
    "duration": 13,
    "start_time": "2023-02-18T13:17:59.793Z"
   },
   {
    "duration": 6,
    "start_time": "2023-02-18T13:18:27.577Z"
   },
   {
    "duration": 64,
    "start_time": "2023-02-18T13:18:49.096Z"
   },
   {
    "duration": 6,
    "start_time": "2023-02-18T13:19:01.660Z"
   },
   {
    "duration": 249,
    "start_time": "2023-02-18T13:19:53.637Z"
   },
   {
    "duration": 1245,
    "start_time": "2023-02-18T13:20:26.735Z"
   },
   {
    "duration": 1142,
    "start_time": "2023-02-18T13:20:40.334Z"
   },
   {
    "duration": 4,
    "start_time": "2023-02-18T13:20:54.855Z"
   },
   {
    "duration": 1154,
    "start_time": "2023-02-18T13:21:06.705Z"
   },
   {
    "duration": 185,
    "start_time": "2023-02-18T13:21:19.598Z"
   },
   {
    "duration": 72,
    "start_time": "2023-02-18T13:21:47.632Z"
   },
   {
    "duration": 213,
    "start_time": "2023-02-18T13:21:54.623Z"
   },
   {
    "duration": 265,
    "start_time": "2023-02-18T13:23:25.083Z"
   },
   {
    "duration": 87,
    "start_time": "2023-02-18T13:23:44.807Z"
   },
   {
    "duration": 281,
    "start_time": "2023-02-18T13:24:02.430Z"
   },
   {
    "duration": 287,
    "start_time": "2023-02-18T13:24:17.791Z"
   },
   {
    "duration": 35,
    "start_time": "2023-02-18T13:26:11.259Z"
   },
   {
    "duration": 363,
    "start_time": "2023-02-18T13:26:28.172Z"
   },
   {
    "duration": 1214,
    "start_time": "2023-02-18T13:26:45.831Z"
   },
   {
    "duration": 1171,
    "start_time": "2023-02-18T13:26:51.618Z"
   },
   {
    "duration": 1361,
    "start_time": "2023-02-18T13:26:58.860Z"
   },
   {
    "duration": 23,
    "start_time": "2023-02-18T13:27:28.211Z"
   },
   {
    "duration": 13,
    "start_time": "2023-02-18T13:27:41.382Z"
   },
   {
    "duration": 12,
    "start_time": "2023-02-18T13:27:52.831Z"
   },
   {
    "duration": 16,
    "start_time": "2023-02-18T13:39:20.825Z"
   },
   {
    "duration": 5,
    "start_time": "2023-02-18T14:59:32.177Z"
   },
   {
    "duration": 25,
    "start_time": "2023-02-18T14:59:51.009Z"
   },
   {
    "duration": 25,
    "start_time": "2023-02-18T15:00:02.081Z"
   },
   {
    "duration": 618,
    "start_time": "2023-02-18T15:03:07.261Z"
   },
   {
    "duration": 9,
    "start_time": "2023-02-18T15:03:27.908Z"
   },
   {
    "duration": 15,
    "start_time": "2023-02-18T15:03:34.939Z"
   },
   {
    "duration": 14,
    "start_time": "2023-02-18T15:04:29.344Z"
   },
   {
    "duration": 25,
    "start_time": "2023-02-18T15:04:34.533Z"
   },
   {
    "duration": 1466,
    "start_time": "2023-02-18T15:04:49.785Z"
   },
   {
    "duration": 92,
    "start_time": "2023-02-18T15:04:51.254Z"
   },
   {
    "duration": 50,
    "start_time": "2023-02-18T15:04:51.349Z"
   },
   {
    "duration": 26,
    "start_time": "2023-02-18T15:04:51.402Z"
   },
   {
    "duration": 6,
    "start_time": "2023-02-18T15:04:51.430Z"
   },
   {
    "duration": 34,
    "start_time": "2023-02-18T15:04:51.438Z"
   },
   {
    "duration": 34,
    "start_time": "2023-02-18T15:04:51.474Z"
   },
   {
    "duration": 40,
    "start_time": "2023-02-18T15:04:51.528Z"
   },
   {
    "duration": 4,
    "start_time": "2023-02-18T15:04:51.570Z"
   },
   {
    "duration": 60,
    "start_time": "2023-02-18T15:04:51.577Z"
   },
   {
    "duration": 41,
    "start_time": "2023-02-18T15:04:51.639Z"
   },
   {
    "duration": 44,
    "start_time": "2023-02-18T15:04:51.683Z"
   },
   {
    "duration": 6,
    "start_time": "2023-02-18T15:04:51.730Z"
   },
   {
    "duration": 48,
    "start_time": "2023-02-18T15:04:51.740Z"
   },
   {
    "duration": 5,
    "start_time": "2023-02-18T15:04:51.790Z"
   },
   {
    "duration": 46,
    "start_time": "2023-02-18T15:04:51.797Z"
   },
   {
    "duration": 39,
    "start_time": "2023-02-18T15:04:51.846Z"
   },
   {
    "duration": 17,
    "start_time": "2023-02-18T15:04:51.887Z"
   },
   {
    "duration": 23,
    "start_time": "2023-02-18T15:04:51.906Z"
   },
   {
    "duration": 1743,
    "start_time": "2023-02-18T15:04:51.932Z"
   },
   {
    "duration": 6,
    "start_time": "2023-02-18T15:04:53.677Z"
   },
   {
    "duration": 157,
    "start_time": "2023-02-18T15:04:53.684Z"
   },
   {
    "duration": 10,
    "start_time": "2023-02-18T15:04:53.843Z"
   },
   {
    "duration": 18,
    "start_time": "2023-02-18T15:04:53.855Z"
   },
   {
    "duration": 32,
    "start_time": "2023-02-18T15:04:53.875Z"
   },
   {
    "duration": 35,
    "start_time": "2023-02-18T15:04:53.910Z"
   },
   {
    "duration": 12,
    "start_time": "2023-02-18T15:04:53.948Z"
   },
   {
    "duration": 11,
    "start_time": "2023-02-18T15:04:53.964Z"
   },
   {
    "duration": 23,
    "start_time": "2023-02-18T15:04:53.977Z"
   },
   {
    "duration": 28,
    "start_time": "2023-02-18T15:04:54.002Z"
   },
   {
    "duration": 862,
    "start_time": "2023-02-18T15:04:54.033Z"
   },
   {
    "duration": 311,
    "start_time": "2023-02-18T15:04:54.897Z"
   },
   {
    "duration": 17,
    "start_time": "2023-02-18T15:04:55.210Z"
   },
   {
    "duration": 15,
    "start_time": "2023-02-18T15:04:55.229Z"
   },
   {
    "duration": 35,
    "start_time": "2023-02-18T15:04:55.246Z"
   },
   {
    "duration": 21,
    "start_time": "2023-02-18T15:04:55.283Z"
   },
   {
    "duration": 40,
    "start_time": "2023-02-18T15:04:55.306Z"
   },
   {
    "duration": 6,
    "start_time": "2023-02-18T15:04:55.348Z"
   },
   {
    "duration": 46,
    "start_time": "2023-02-18T15:04:55.356Z"
   },
   {
    "duration": 350,
    "start_time": "2023-02-18T15:04:55.405Z"
   },
   {
    "duration": 157,
    "start_time": "2023-02-18T15:04:55.757Z"
   },
   {
    "duration": 13,
    "start_time": "2023-02-18T15:04:55.916Z"
   },
   {
    "duration": 20,
    "start_time": "2023-02-18T15:04:55.931Z"
   },
   {
    "duration": 41,
    "start_time": "2023-02-18T15:04:55.954Z"
   },
   {
    "duration": 395,
    "start_time": "2023-02-18T15:04:55.997Z"
   },
   {
    "duration": 183,
    "start_time": "2023-02-18T15:04:56.395Z"
   },
   {
    "duration": 8,
    "start_time": "2023-02-18T15:04:56.581Z"
   },
   {
    "duration": 14,
    "start_time": "2023-02-18T15:04:56.591Z"
   },
   {
    "duration": 41,
    "start_time": "2023-02-18T15:04:56.608Z"
   },
   {
    "duration": 84,
    "start_time": "2023-02-18T15:04:56.652Z"
   },
   {
    "duration": 8,
    "start_time": "2023-02-18T15:04:56.739Z"
   },
   {
    "duration": 143,
    "start_time": "2023-02-18T15:04:56.749Z"
   },
   {
    "duration": 146,
    "start_time": "2023-02-18T15:04:56.894Z"
   },
   {
    "duration": 9,
    "start_time": "2023-02-18T15:04:57.042Z"
   },
   {
    "duration": 13,
    "start_time": "2023-02-18T15:04:57.053Z"
   },
   {
    "duration": 8,
    "start_time": "2023-02-18T15:04:57.068Z"
   },
   {
    "duration": 9,
    "start_time": "2023-02-18T15:04:57.078Z"
   },
   {
    "duration": 45,
    "start_time": "2023-02-18T15:04:57.089Z"
   },
   {
    "duration": 26,
    "start_time": "2023-02-18T15:04:57.136Z"
   },
   {
    "duration": 69,
    "start_time": "2023-02-18T15:04:57.164Z"
   },
   {
    "duration": 1230,
    "start_time": "2023-02-18T15:07:54.000Z"
   },
   {
    "duration": 15,
    "start_time": "2023-02-18T15:08:09.434Z"
   },
   {
    "duration": 17,
    "start_time": "2023-02-18T15:08:15.471Z"
   },
   {
    "duration": 6,
    "start_time": "2023-02-18T15:08:50.493Z"
   },
   {
    "duration": 15,
    "start_time": "2023-02-18T15:09:14.740Z"
   },
   {
    "duration": 72,
    "start_time": "2023-02-18T15:10:54.439Z"
   },
   {
    "duration": 17,
    "start_time": "2023-02-18T15:11:10.177Z"
   },
   {
    "duration": 72,
    "start_time": "2023-02-18T15:13:27.140Z"
   },
   {
    "duration": 9,
    "start_time": "2023-02-18T15:17:46.106Z"
   },
   {
    "duration": 10,
    "start_time": "2023-02-18T15:18:22.144Z"
   },
   {
    "duration": 66,
    "start_time": "2023-02-18T15:19:32.041Z"
   },
   {
    "duration": 12,
    "start_time": "2023-02-18T15:21:05.735Z"
   },
   {
    "duration": 9,
    "start_time": "2023-02-18T15:21:15.233Z"
   },
   {
    "duration": 73,
    "start_time": "2023-02-18T15:24:40.657Z"
   },
   {
    "duration": 1241,
    "start_time": "2023-02-18T15:27:19.350Z"
   },
   {
    "duration": 92,
    "start_time": "2023-02-18T15:27:20.594Z"
   },
   {
    "duration": 34,
    "start_time": "2023-02-18T15:27:20.687Z"
   },
   {
    "duration": 15,
    "start_time": "2023-02-18T15:27:20.723Z"
   },
   {
    "duration": 7,
    "start_time": "2023-02-18T15:27:20.740Z"
   },
   {
    "duration": 26,
    "start_time": "2023-02-18T15:27:20.749Z"
   },
   {
    "duration": 28,
    "start_time": "2023-02-18T15:27:20.777Z"
   },
   {
    "duration": 41,
    "start_time": "2023-02-18T15:27:20.807Z"
   },
   {
    "duration": 4,
    "start_time": "2023-02-18T15:27:20.850Z"
   },
   {
    "duration": 32,
    "start_time": "2023-02-18T15:27:20.856Z"
   },
   {
    "duration": 52,
    "start_time": "2023-02-18T15:27:20.890Z"
   },
   {
    "duration": 14,
    "start_time": "2023-02-18T15:27:20.943Z"
   },
   {
    "duration": 7,
    "start_time": "2023-02-18T15:27:20.959Z"
   },
   {
    "duration": 39,
    "start_time": "2023-02-18T15:27:20.967Z"
   },
   {
    "duration": 3,
    "start_time": "2023-02-18T15:27:21.007Z"
   },
   {
    "duration": 41,
    "start_time": "2023-02-18T15:27:21.012Z"
   },
   {
    "duration": 38,
    "start_time": "2023-02-18T15:27:21.055Z"
   },
   {
    "duration": 8,
    "start_time": "2023-02-18T15:27:21.095Z"
   },
   {
    "duration": 22,
    "start_time": "2023-02-18T15:27:21.105Z"
   },
   {
    "duration": 1468,
    "start_time": "2023-02-18T15:27:21.129Z"
   },
   {
    "duration": 4,
    "start_time": "2023-02-18T15:27:22.599Z"
   },
   {
    "duration": 166,
    "start_time": "2023-02-18T15:27:22.605Z"
   },
   {
    "duration": 9,
    "start_time": "2023-02-18T15:27:22.772Z"
   },
   {
    "duration": 10,
    "start_time": "2023-02-18T15:27:22.783Z"
   },
   {
    "duration": 11,
    "start_time": "2023-02-18T15:27:22.794Z"
   },
   {
    "duration": 29,
    "start_time": "2023-02-18T15:27:22.807Z"
   },
   {
    "duration": 9,
    "start_time": "2023-02-18T15:27:22.838Z"
   },
   {
    "duration": 17,
    "start_time": "2023-02-18T15:27:22.851Z"
   },
   {
    "duration": 10,
    "start_time": "2023-02-18T15:27:22.870Z"
   },
   {
    "duration": 29,
    "start_time": "2023-02-18T15:27:22.882Z"
   },
   {
    "duration": 750,
    "start_time": "2023-02-18T15:27:22.912Z"
   },
   {
    "duration": 264,
    "start_time": "2023-02-18T15:27:23.663Z"
   },
   {
    "duration": 8,
    "start_time": "2023-02-18T15:27:23.928Z"
   },
   {
    "duration": 11,
    "start_time": "2023-02-18T15:27:23.937Z"
   },
   {
    "duration": 20,
    "start_time": "2023-02-18T15:27:23.949Z"
   },
   {
    "duration": 13,
    "start_time": "2023-02-18T15:27:23.971Z"
   },
   {
    "duration": 41,
    "start_time": "2023-02-18T15:27:23.986Z"
   },
   {
    "duration": 6,
    "start_time": "2023-02-18T15:27:24.029Z"
   },
   {
    "duration": 21,
    "start_time": "2023-02-18T15:27:24.036Z"
   },
   {
    "duration": 301,
    "start_time": "2023-02-18T15:27:24.059Z"
   },
   {
    "duration": 118,
    "start_time": "2023-02-18T15:27:24.362Z"
   },
   {
    "duration": 11,
    "start_time": "2023-02-18T15:27:24.482Z"
   },
   {
    "duration": 9,
    "start_time": "2023-02-18T15:27:24.495Z"
   },
   {
    "duration": 36,
    "start_time": "2023-02-18T15:27:24.506Z"
   },
   {
    "duration": 305,
    "start_time": "2023-02-18T15:27:24.544Z"
   },
   {
    "duration": 137,
    "start_time": "2023-02-18T15:27:24.852Z"
   },
   {
    "duration": 6,
    "start_time": "2023-02-18T15:27:24.990Z"
   },
   {
    "duration": 9,
    "start_time": "2023-02-18T15:27:24.998Z"
   },
   {
    "duration": 20,
    "start_time": "2023-02-18T15:27:25.009Z"
   },
   {
    "duration": 55,
    "start_time": "2023-02-18T15:27:25.031Z"
   },
   {
    "duration": 8,
    "start_time": "2023-02-18T15:27:25.088Z"
   },
   {
    "duration": 132,
    "start_time": "2023-02-18T15:27:25.098Z"
   },
   {
    "duration": 134,
    "start_time": "2023-02-18T15:27:25.232Z"
   },
   {
    "duration": 9,
    "start_time": "2023-02-18T15:27:25.368Z"
   },
   {
    "duration": 12,
    "start_time": "2023-02-18T15:27:25.379Z"
   },
   {
    "duration": 7,
    "start_time": "2023-02-18T15:27:25.392Z"
   },
   {
    "duration": 28,
    "start_time": "2023-02-18T15:27:25.401Z"
   },
   {
    "duration": 19,
    "start_time": "2023-02-18T15:27:25.431Z"
   },
   {
    "duration": 32,
    "start_time": "2023-02-18T15:27:25.452Z"
   },
   {
    "duration": 13,
    "start_time": "2023-02-18T15:27:25.486Z"
   },
   {
    "duration": 12,
    "start_time": "2023-02-18T15:27:25.500Z"
   },
   {
    "duration": 9,
    "start_time": "2023-02-18T15:27:42.752Z"
   },
   {
    "duration": 68,
    "start_time": "2023-02-18T15:36:55.743Z"
   },
   {
    "duration": 1215,
    "start_time": "2023-02-18T15:37:42.254Z"
   },
   {
    "duration": 94,
    "start_time": "2023-02-18T15:37:43.471Z"
   },
   {
    "duration": 31,
    "start_time": "2023-02-18T15:37:43.566Z"
   },
   {
    "duration": 14,
    "start_time": "2023-02-18T15:37:43.599Z"
   },
   {
    "duration": 4,
    "start_time": "2023-02-18T15:37:43.615Z"
   },
   {
    "duration": 27,
    "start_time": "2023-02-18T15:37:43.620Z"
   },
   {
    "duration": 32,
    "start_time": "2023-02-18T15:37:43.648Z"
   },
   {
    "duration": 46,
    "start_time": "2023-02-18T15:37:43.681Z"
   },
   {
    "duration": 4,
    "start_time": "2023-02-18T15:37:43.729Z"
   },
   {
    "duration": 39,
    "start_time": "2023-02-18T15:37:43.735Z"
   },
   {
    "duration": 52,
    "start_time": "2023-02-18T15:37:43.776Z"
   },
   {
    "duration": 14,
    "start_time": "2023-02-18T15:37:43.830Z"
   },
   {
    "duration": 3,
    "start_time": "2023-02-18T15:37:43.846Z"
   },
   {
    "duration": 27,
    "start_time": "2023-02-18T15:37:43.852Z"
   },
   {
    "duration": 2,
    "start_time": "2023-02-18T15:37:43.881Z"
   },
   {
    "duration": 64,
    "start_time": "2023-02-18T15:37:43.885Z"
   },
   {
    "duration": 37,
    "start_time": "2023-02-18T15:37:43.951Z"
   },
   {
    "duration": 10,
    "start_time": "2023-02-18T15:37:43.990Z"
   },
   {
    "duration": 7,
    "start_time": "2023-02-18T15:37:44.026Z"
   },
   {
    "duration": 1530,
    "start_time": "2023-02-18T15:37:44.035Z"
   },
   {
    "duration": 4,
    "start_time": "2023-02-18T15:37:45.567Z"
   },
   {
    "duration": 138,
    "start_time": "2023-02-18T15:37:45.572Z"
   },
   {
    "duration": 17,
    "start_time": "2023-02-18T15:37:45.712Z"
   },
   {
    "duration": 9,
    "start_time": "2023-02-18T15:37:45.731Z"
   },
   {
    "duration": 10,
    "start_time": "2023-02-18T15:37:45.741Z"
   },
   {
    "duration": 11,
    "start_time": "2023-02-18T15:37:45.752Z"
   },
   {
    "duration": 11,
    "start_time": "2023-02-18T15:37:45.764Z"
   },
   {
    "duration": 10,
    "start_time": "2023-02-18T15:37:45.777Z"
   },
   {
    "duration": 45,
    "start_time": "2023-02-18T15:37:45.789Z"
   },
   {
    "duration": 19,
    "start_time": "2023-02-18T15:37:45.836Z"
   },
   {
    "duration": 978,
    "start_time": "2023-02-18T15:37:45.857Z"
   },
   {
    "duration": 127,
    "start_time": "2023-02-18T15:37:46.837Z"
   },
   {
    "duration": 8,
    "start_time": "2023-02-18T15:37:46.966Z"
   },
   {
    "duration": 11,
    "start_time": "2023-02-18T15:37:46.976Z"
   },
   {
    "duration": 13,
    "start_time": "2023-02-18T15:37:46.989Z"
   },
   {
    "duration": 37,
    "start_time": "2023-02-18T15:37:47.004Z"
   },
   {
    "duration": 19,
    "start_time": "2023-02-18T15:37:47.043Z"
   },
   {
    "duration": 5,
    "start_time": "2023-02-18T15:37:47.064Z"
   },
   {
    "duration": 21,
    "start_time": "2023-02-18T15:37:47.071Z"
   },
   {
    "duration": 330,
    "start_time": "2023-02-18T15:37:47.094Z"
   },
   {
    "duration": 127,
    "start_time": "2023-02-18T15:37:47.429Z"
   },
   {
    "duration": 8,
    "start_time": "2023-02-18T15:37:47.558Z"
   },
   {
    "duration": 16,
    "start_time": "2023-02-18T15:37:47.568Z"
   },
   {
    "duration": 27,
    "start_time": "2023-02-18T15:37:47.586Z"
   },
   {
    "duration": 311,
    "start_time": "2023-02-18T15:37:47.627Z"
   },
   {
    "duration": 132,
    "start_time": "2023-02-18T15:37:47.940Z"
   },
   {
    "duration": 6,
    "start_time": "2023-02-18T15:37:48.074Z"
   },
   {
    "duration": 18,
    "start_time": "2023-02-18T15:37:48.082Z"
   },
   {
    "duration": 22,
    "start_time": "2023-02-18T15:37:48.102Z"
   },
   {
    "duration": 55,
    "start_time": "2023-02-18T15:37:48.125Z"
   },
   {
    "duration": 8,
    "start_time": "2023-02-18T15:37:48.183Z"
   },
   {
    "duration": 132,
    "start_time": "2023-02-18T15:37:48.193Z"
   },
   {
    "duration": 127,
    "start_time": "2023-02-18T15:37:48.327Z"
   },
   {
    "duration": 9,
    "start_time": "2023-02-18T15:37:48.455Z"
   },
   {
    "duration": 29,
    "start_time": "2023-02-18T15:37:48.466Z"
   },
   {
    "duration": 7,
    "start_time": "2023-02-18T15:37:48.497Z"
   },
   {
    "duration": 26,
    "start_time": "2023-02-18T15:37:48.506Z"
   },
   {
    "duration": 21,
    "start_time": "2023-02-18T15:37:48.534Z"
   },
   {
    "duration": 34,
    "start_time": "2023-02-18T15:37:48.557Z"
   },
   {
    "duration": 39,
    "start_time": "2023-02-18T15:37:48.593Z"
   },
   {
    "duration": 35,
    "start_time": "2023-02-18T15:37:48.634Z"
   },
   {
    "duration": 11,
    "start_time": "2023-02-18T15:39:25.470Z"
   },
   {
    "duration": 6,
    "start_time": "2023-02-18T15:40:32.560Z"
   },
   {
    "duration": 18,
    "start_time": "2023-02-18T15:40:39.833Z"
   },
   {
    "duration": 1247,
    "start_time": "2023-02-18T15:40:52.481Z"
   },
   {
    "duration": 87,
    "start_time": "2023-02-18T15:40:53.730Z"
   },
   {
    "duration": 34,
    "start_time": "2023-02-18T15:40:53.819Z"
   },
   {
    "duration": 16,
    "start_time": "2023-02-18T15:40:53.855Z"
   },
   {
    "duration": 4,
    "start_time": "2023-02-18T15:40:53.873Z"
   },
   {
    "duration": 41,
    "start_time": "2023-02-18T15:40:53.879Z"
   },
   {
    "duration": 31,
    "start_time": "2023-02-18T15:40:53.926Z"
   },
   {
    "duration": 26,
    "start_time": "2023-02-18T15:40:53.959Z"
   },
   {
    "duration": 4,
    "start_time": "2023-02-18T15:40:53.987Z"
   },
   {
    "duration": 58,
    "start_time": "2023-02-18T15:40:53.995Z"
   },
   {
    "duration": 34,
    "start_time": "2023-02-18T15:40:54.055Z"
   },
   {
    "duration": 36,
    "start_time": "2023-02-18T15:40:54.091Z"
   },
   {
    "duration": 4,
    "start_time": "2023-02-18T15:40:54.129Z"
   },
   {
    "duration": 32,
    "start_time": "2023-02-18T15:40:54.135Z"
   },
   {
    "duration": 4,
    "start_time": "2023-02-18T15:40:54.168Z"
   },
   {
    "duration": 58,
    "start_time": "2023-02-18T15:40:54.173Z"
   },
   {
    "duration": 41,
    "start_time": "2023-02-18T15:40:54.233Z"
   },
   {
    "duration": 10,
    "start_time": "2023-02-18T15:40:54.276Z"
   },
   {
    "duration": 5,
    "start_time": "2023-02-18T15:40:54.288Z"
   },
   {
    "duration": 1560,
    "start_time": "2023-02-18T15:40:54.295Z"
   },
   {
    "duration": 3,
    "start_time": "2023-02-18T15:40:55.857Z"
   },
   {
    "duration": 128,
    "start_time": "2023-02-18T15:40:55.862Z"
   },
   {
    "duration": 8,
    "start_time": "2023-02-18T15:40:55.991Z"
   },
   {
    "duration": 10,
    "start_time": "2023-02-18T15:40:56.001Z"
   },
   {
    "duration": 22,
    "start_time": "2023-02-18T15:40:56.012Z"
   },
   {
    "duration": 10,
    "start_time": "2023-02-18T15:40:56.035Z"
   },
   {
    "duration": 8,
    "start_time": "2023-02-18T15:40:56.046Z"
   },
   {
    "duration": 7,
    "start_time": "2023-02-18T15:40:56.058Z"
   },
   {
    "duration": 6,
    "start_time": "2023-02-18T15:40:56.067Z"
   },
   {
    "duration": 9,
    "start_time": "2023-02-18T15:40:56.075Z"
   },
   {
    "duration": 831,
    "start_time": "2023-02-18T15:40:56.086Z"
   },
   {
    "duration": 283,
    "start_time": "2023-02-18T15:40:56.927Z"
   },
   {
    "duration": 17,
    "start_time": "2023-02-18T15:40:57.211Z"
   },
   {
    "duration": 11,
    "start_time": "2023-02-18T15:40:57.230Z"
   },
   {
    "duration": 26,
    "start_time": "2023-02-18T15:40:57.242Z"
   },
   {
    "duration": 15,
    "start_time": "2023-02-18T15:40:57.269Z"
   },
   {
    "duration": 19,
    "start_time": "2023-02-18T15:40:57.285Z"
   },
   {
    "duration": 26,
    "start_time": "2023-02-18T15:40:57.306Z"
   },
   {
    "duration": 20,
    "start_time": "2023-02-18T15:40:57.334Z"
   },
   {
    "duration": 308,
    "start_time": "2023-02-18T15:40:57.356Z"
   },
   {
    "duration": 129,
    "start_time": "2023-02-18T15:40:57.666Z"
   },
   {
    "duration": 9,
    "start_time": "2023-02-18T15:40:57.797Z"
   },
   {
    "duration": 20,
    "start_time": "2023-02-18T15:40:57.808Z"
   },
   {
    "duration": 35,
    "start_time": "2023-02-18T15:40:57.829Z"
   },
   {
    "duration": 319,
    "start_time": "2023-02-18T15:40:57.865Z"
   },
   {
    "duration": 127,
    "start_time": "2023-02-18T15:40:58.186Z"
   },
   {
    "duration": 13,
    "start_time": "2023-02-18T15:40:58.315Z"
   },
   {
    "duration": 15,
    "start_time": "2023-02-18T15:40:58.330Z"
   },
   {
    "duration": 8,
    "start_time": "2023-02-18T15:40:58.346Z"
   },
   {
    "duration": 46,
    "start_time": "2023-02-18T15:40:58.356Z"
   },
   {
    "duration": 25,
    "start_time": "2023-02-18T15:40:58.403Z"
   },
   {
    "duration": 123,
    "start_time": "2023-02-18T15:40:58.430Z"
   },
   {
    "duration": 140,
    "start_time": "2023-02-18T15:40:58.554Z"
   },
   {
    "duration": 10,
    "start_time": "2023-02-18T15:40:58.695Z"
   },
   {
    "duration": 22,
    "start_time": "2023-02-18T15:40:58.707Z"
   },
   {
    "duration": 6,
    "start_time": "2023-02-18T15:40:58.730Z"
   },
   {
    "duration": 6,
    "start_time": "2023-02-18T15:40:58.737Z"
   },
   {
    "duration": 21,
    "start_time": "2023-02-18T15:40:58.745Z"
   },
   {
    "duration": 27,
    "start_time": "2023-02-18T15:40:58.768Z"
   },
   {
    "duration": 31,
    "start_time": "2023-02-18T15:40:58.797Z"
   },
   {
    "duration": 10,
    "start_time": "2023-02-18T15:40:58.830Z"
   },
   {
    "duration": 16,
    "start_time": "2023-02-18T15:40:58.842Z"
   },
   {
    "duration": 1336,
    "start_time": "2023-02-18T15:41:29.606Z"
   },
   {
    "duration": 89,
    "start_time": "2023-02-18T15:41:30.944Z"
   },
   {
    "duration": 32,
    "start_time": "2023-02-18T15:41:31.035Z"
   },
   {
    "duration": 14,
    "start_time": "2023-02-18T15:41:31.069Z"
   },
   {
    "duration": 18,
    "start_time": "2023-02-18T15:41:31.085Z"
   },
   {
    "duration": 41,
    "start_time": "2023-02-18T15:41:31.104Z"
   },
   {
    "duration": 28,
    "start_time": "2023-02-18T15:41:31.147Z"
   },
   {
    "duration": 27,
    "start_time": "2023-02-18T15:41:31.176Z"
   },
   {
    "duration": 4,
    "start_time": "2023-02-18T15:41:31.205Z"
   },
   {
    "duration": 31,
    "start_time": "2023-02-18T15:41:31.228Z"
   },
   {
    "duration": 33,
    "start_time": "2023-02-18T15:41:31.260Z"
   },
   {
    "duration": 36,
    "start_time": "2023-02-18T15:41:31.294Z"
   },
   {
    "duration": 4,
    "start_time": "2023-02-18T15:41:31.332Z"
   },
   {
    "duration": 28,
    "start_time": "2023-02-18T15:41:31.337Z"
   },
   {
    "duration": 3,
    "start_time": "2023-02-18T15:41:31.366Z"
   },
   {
    "duration": 35,
    "start_time": "2023-02-18T15:41:31.370Z"
   },
   {
    "duration": 51,
    "start_time": "2023-02-18T15:41:31.406Z"
   },
   {
    "duration": 9,
    "start_time": "2023-02-18T15:41:31.459Z"
   },
   {
    "duration": 4,
    "start_time": "2023-02-18T15:41:31.470Z"
   },
   {
    "duration": 1502,
    "start_time": "2023-02-18T15:41:31.476Z"
   },
   {
    "duration": 4,
    "start_time": "2023-02-18T15:41:32.980Z"
   },
   {
    "duration": 145,
    "start_time": "2023-02-18T15:41:32.986Z"
   },
   {
    "duration": 8,
    "start_time": "2023-02-18T15:41:33.134Z"
   },
   {
    "duration": 18,
    "start_time": "2023-02-18T15:41:33.144Z"
   },
   {
    "duration": 9,
    "start_time": "2023-02-18T15:41:33.164Z"
   },
   {
    "duration": 10,
    "start_time": "2023-02-18T15:41:33.174Z"
   },
   {
    "duration": 53,
    "start_time": "2023-02-18T15:41:33.186Z"
   },
   {
    "duration": 14,
    "start_time": "2023-02-18T15:41:33.242Z"
   },
   {
    "duration": 18,
    "start_time": "2023-02-18T15:41:33.257Z"
   },
   {
    "duration": 22,
    "start_time": "2023-02-18T15:41:33.277Z"
   },
   {
    "duration": 747,
    "start_time": "2023-02-18T15:41:33.301Z"
   },
   {
    "duration": 315,
    "start_time": "2023-02-18T15:41:34.050Z"
   },
   {
    "duration": 9,
    "start_time": "2023-02-18T15:41:34.366Z"
   },
   {
    "duration": 11,
    "start_time": "2023-02-18T15:41:34.377Z"
   },
   {
    "duration": 12,
    "start_time": "2023-02-18T15:41:34.390Z"
   },
   {
    "duration": 19,
    "start_time": "2023-02-18T15:41:34.426Z"
   },
   {
    "duration": 25,
    "start_time": "2023-02-18T15:41:34.447Z"
   },
   {
    "duration": 15,
    "start_time": "2023-02-18T15:41:34.474Z"
   },
   {
    "duration": 42,
    "start_time": "2023-02-18T15:41:34.490Z"
   },
   {
    "duration": 318,
    "start_time": "2023-02-18T15:41:34.534Z"
   },
   {
    "duration": 122,
    "start_time": "2023-02-18T15:41:34.854Z"
   },
   {
    "duration": 8,
    "start_time": "2023-02-18T15:41:34.978Z"
   },
   {
    "duration": 9,
    "start_time": "2023-02-18T15:41:34.987Z"
   },
   {
    "duration": 44,
    "start_time": "2023-02-18T15:41:34.998Z"
   },
   {
    "duration": 303,
    "start_time": "2023-02-18T15:41:35.044Z"
   },
   {
    "duration": 126,
    "start_time": "2023-02-18T15:41:35.349Z"
   },
   {
    "duration": 6,
    "start_time": "2023-02-18T15:41:35.477Z"
   },
   {
    "duration": 13,
    "start_time": "2023-02-18T15:41:35.484Z"
   },
   {
    "duration": 7,
    "start_time": "2023-02-18T15:41:35.499Z"
   },
   {
    "duration": 64,
    "start_time": "2023-02-18T15:41:35.507Z"
   },
   {
    "duration": 8,
    "start_time": "2023-02-18T15:41:35.573Z"
   },
   {
    "duration": 131,
    "start_time": "2023-02-18T15:41:35.582Z"
   },
   {
    "duration": 132,
    "start_time": "2023-02-18T15:41:35.715Z"
   },
   {
    "duration": 9,
    "start_time": "2023-02-18T15:41:35.849Z"
   },
   {
    "duration": 7,
    "start_time": "2023-02-18T15:41:35.860Z"
   },
   {
    "duration": 5,
    "start_time": "2023-02-18T15:41:35.869Z"
   },
   {
    "duration": 5,
    "start_time": "2023-02-18T15:41:35.876Z"
   },
   {
    "duration": 16,
    "start_time": "2023-02-18T15:41:35.882Z"
   },
   {
    "duration": 14,
    "start_time": "2023-02-18T15:41:35.927Z"
   },
   {
    "duration": 11,
    "start_time": "2023-02-18T15:41:35.942Z"
   },
   {
    "duration": 12,
    "start_time": "2023-02-18T15:41:35.955Z"
   },
   {
    "duration": 16,
    "start_time": "2023-02-18T15:41:35.969Z"
   },
   {
    "duration": 9,
    "start_time": "2023-02-18T15:43:05.465Z"
   },
   {
    "duration": 9,
    "start_time": "2023-02-18T15:45:37.982Z"
   },
   {
    "duration": 4,
    "start_time": "2023-02-18T15:48:14.074Z"
   },
   {
    "duration": 1256,
    "start_time": "2023-02-18T15:50:07.173Z"
   },
   {
    "duration": 90,
    "start_time": "2023-02-18T15:50:08.431Z"
   },
   {
    "duration": 32,
    "start_time": "2023-02-18T15:50:08.523Z"
   },
   {
    "duration": 15,
    "start_time": "2023-02-18T15:50:08.557Z"
   },
   {
    "duration": 4,
    "start_time": "2023-02-18T15:50:08.573Z"
   },
   {
    "duration": 23,
    "start_time": "2023-02-18T15:50:08.578Z"
   },
   {
    "duration": 53,
    "start_time": "2023-02-18T15:50:08.603Z"
   },
   {
    "duration": 27,
    "start_time": "2023-02-18T15:50:08.659Z"
   },
   {
    "duration": 4,
    "start_time": "2023-02-18T15:50:08.688Z"
   },
   {
    "duration": 58,
    "start_time": "2023-02-18T15:50:08.696Z"
   },
   {
    "duration": 36,
    "start_time": "2023-02-18T15:50:08.756Z"
   },
   {
    "duration": 33,
    "start_time": "2023-02-18T15:50:08.794Z"
   },
   {
    "duration": 4,
    "start_time": "2023-02-18T15:50:08.828Z"
   },
   {
    "duration": 30,
    "start_time": "2023-02-18T15:50:08.834Z"
   },
   {
    "duration": 4,
    "start_time": "2023-02-18T15:50:08.865Z"
   },
   {
    "duration": 29,
    "start_time": "2023-02-18T15:50:08.870Z"
   },
   {
    "duration": 62,
    "start_time": "2023-02-18T15:50:08.901Z"
   },
   {
    "duration": 10,
    "start_time": "2023-02-18T15:50:08.965Z"
   },
   {
    "duration": 20,
    "start_time": "2023-02-18T15:50:08.977Z"
   },
   {
    "duration": 1552,
    "start_time": "2023-02-18T15:50:08.999Z"
   },
   {
    "duration": 5,
    "start_time": "2023-02-18T15:50:10.553Z"
   },
   {
    "duration": 154,
    "start_time": "2023-02-18T15:50:10.560Z"
   },
   {
    "duration": 12,
    "start_time": "2023-02-18T15:50:10.716Z"
   },
   {
    "duration": 8,
    "start_time": "2023-02-18T15:50:10.730Z"
   },
   {
    "duration": 10,
    "start_time": "2023-02-18T15:50:10.740Z"
   },
   {
    "duration": 10,
    "start_time": "2023-02-18T15:50:10.751Z"
   },
   {
    "duration": 12,
    "start_time": "2023-02-18T15:50:10.762Z"
   },
   {
    "duration": 9,
    "start_time": "2023-02-18T15:50:10.778Z"
   },
   {
    "duration": 6,
    "start_time": "2023-02-18T15:50:10.789Z"
   },
   {
    "duration": 10,
    "start_time": "2023-02-18T15:50:10.828Z"
   },
   {
    "duration": 787,
    "start_time": "2023-02-18T15:50:10.839Z"
   },
   {
    "duration": 272,
    "start_time": "2023-02-18T15:50:11.628Z"
   },
   {
    "duration": 8,
    "start_time": "2023-02-18T15:50:11.902Z"
   },
   {
    "duration": 24,
    "start_time": "2023-02-18T15:50:11.912Z"
   },
   {
    "duration": 16,
    "start_time": "2023-02-18T15:50:11.938Z"
   },
   {
    "duration": 19,
    "start_time": "2023-02-18T15:50:11.956Z"
   },
   {
    "duration": 56,
    "start_time": "2023-02-18T15:50:11.977Z"
   },
   {
    "duration": 7,
    "start_time": "2023-02-18T15:50:12.035Z"
   },
   {
    "duration": 28,
    "start_time": "2023-02-18T15:50:12.044Z"
   },
   {
    "duration": 675,
    "start_time": "2023-02-18T15:50:12.074Z"
   },
   {
    "duration": 279,
    "start_time": "2023-02-18T15:50:12.750Z"
   },
   {
    "duration": 8,
    "start_time": "2023-02-18T15:50:13.031Z"
   },
   {
    "duration": 11,
    "start_time": "2023-02-18T15:50:13.040Z"
   },
   {
    "duration": 78,
    "start_time": "2023-02-18T15:50:13.053Z"
   },
   {
    "duration": 611,
    "start_time": "2023-02-18T15:50:13.133Z"
   },
   {
    "duration": 217,
    "start_time": "2023-02-18T15:50:13.746Z"
   },
   {
    "duration": 7,
    "start_time": "2023-02-18T15:50:13.964Z"
   },
   {
    "duration": 9,
    "start_time": "2023-02-18T15:50:13.973Z"
   },
   {
    "duration": 8,
    "start_time": "2023-02-18T15:50:13.984Z"
   },
   {
    "duration": 75,
    "start_time": "2023-02-18T15:50:13.994Z"
   },
   {
    "duration": 6,
    "start_time": "2023-02-18T15:50:14.071Z"
   },
   {
    "duration": 124,
    "start_time": "2023-02-18T15:50:14.079Z"
   },
   {
    "duration": 132,
    "start_time": "2023-02-18T15:50:14.205Z"
   },
   {
    "duration": 10,
    "start_time": "2023-02-18T15:50:14.339Z"
   },
   {
    "duration": 7,
    "start_time": "2023-02-18T15:50:14.351Z"
   },
   {
    "duration": 5,
    "start_time": "2023-02-18T15:50:14.359Z"
   },
   {
    "duration": 13,
    "start_time": "2023-02-18T15:50:14.366Z"
   },
   {
    "duration": 11,
    "start_time": "2023-02-18T15:50:14.380Z"
   },
   {
    "duration": 39,
    "start_time": "2023-02-18T15:50:14.393Z"
   },
   {
    "duration": 14,
    "start_time": "2023-02-18T15:50:14.434Z"
   },
   {
    "duration": 20,
    "start_time": "2023-02-18T15:50:14.450Z"
   },
   {
    "duration": 34,
    "start_time": "2023-02-18T15:50:14.471Z"
   },
   {
    "duration": 18,
    "start_time": "2023-02-18T15:50:14.507Z"
   },
   {
    "duration": 11,
    "start_time": "2023-02-18T15:50:14.527Z"
   },
   {
    "duration": 60,
    "start_time": "2023-02-18T15:50:14.540Z"
   },
   {
    "duration": 1306,
    "start_time": "2023-02-18T15:55:39.142Z"
   },
   {
    "duration": 119,
    "start_time": "2023-02-18T15:55:40.451Z"
   },
   {
    "duration": 41,
    "start_time": "2023-02-18T15:55:40.572Z"
   },
   {
    "duration": 22,
    "start_time": "2023-02-18T15:55:40.616Z"
   },
   {
    "duration": 17,
    "start_time": "2023-02-18T15:55:40.640Z"
   },
   {
    "duration": 36,
    "start_time": "2023-02-18T15:55:40.659Z"
   },
   {
    "duration": 42,
    "start_time": "2023-02-18T15:55:40.697Z"
   },
   {
    "duration": 45,
    "start_time": "2023-02-18T15:55:40.740Z"
   },
   {
    "duration": 5,
    "start_time": "2023-02-18T15:55:40.787Z"
   },
   {
    "duration": 49,
    "start_time": "2023-02-18T15:55:40.796Z"
   },
   {
    "duration": 33,
    "start_time": "2023-02-18T15:55:40.847Z"
   },
   {
    "duration": 16,
    "start_time": "2023-02-18T15:55:40.882Z"
   },
   {
    "duration": 10,
    "start_time": "2023-02-18T15:55:40.899Z"
   },
   {
    "duration": 46,
    "start_time": "2023-02-18T15:55:40.910Z"
   },
   {
    "duration": 3,
    "start_time": "2023-02-18T15:55:40.958Z"
   },
   {
    "duration": 28,
    "start_time": "2023-02-18T15:55:40.963Z"
   },
   {
    "duration": 58,
    "start_time": "2023-02-18T15:55:40.993Z"
   },
   {
    "duration": 9,
    "start_time": "2023-02-18T15:55:41.052Z"
   },
   {
    "duration": 3,
    "start_time": "2023-02-18T15:55:41.063Z"
   },
   {
    "duration": 2805,
    "start_time": "2023-02-18T15:55:41.068Z"
   },
   {
    "duration": 4,
    "start_time": "2023-02-18T15:55:43.875Z"
   },
   {
    "duration": 157,
    "start_time": "2023-02-18T15:55:43.880Z"
   },
   {
    "duration": 11,
    "start_time": "2023-02-18T15:55:44.038Z"
   },
   {
    "duration": 12,
    "start_time": "2023-02-18T15:55:44.050Z"
   },
   {
    "duration": 11,
    "start_time": "2023-02-18T15:55:44.064Z"
   },
   {
    "duration": 9,
    "start_time": "2023-02-18T15:55:44.077Z"
   },
   {
    "duration": 9,
    "start_time": "2023-02-18T15:55:44.087Z"
   },
   {
    "duration": 36,
    "start_time": "2023-02-18T15:55:44.099Z"
   },
   {
    "duration": 21,
    "start_time": "2023-02-18T15:55:44.137Z"
   },
   {
    "duration": 11,
    "start_time": "2023-02-18T15:55:44.160Z"
   },
   {
    "duration": 808,
    "start_time": "2023-02-18T15:55:44.173Z"
   },
   {
    "duration": 325,
    "start_time": "2023-02-18T15:55:44.983Z"
   },
   {
    "duration": 25,
    "start_time": "2023-02-18T15:55:45.309Z"
   },
   {
    "duration": 20,
    "start_time": "2023-02-18T15:55:45.337Z"
   },
   {
    "duration": 15,
    "start_time": "2023-02-18T15:55:45.359Z"
   },
   {
    "duration": 14,
    "start_time": "2023-02-18T15:55:45.376Z"
   },
   {
    "duration": 19,
    "start_time": "2023-02-18T15:55:45.391Z"
   },
   {
    "duration": 25,
    "start_time": "2023-02-18T15:55:45.412Z"
   },
   {
    "duration": 26,
    "start_time": "2023-02-18T15:55:45.440Z"
   },
   {
    "duration": 309,
    "start_time": "2023-02-18T15:55:45.468Z"
   },
   {
    "duration": 126,
    "start_time": "2023-02-18T15:55:45.779Z"
   },
   {
    "duration": 8,
    "start_time": "2023-02-18T15:55:45.906Z"
   },
   {
    "duration": 23,
    "start_time": "2023-02-18T15:55:45.928Z"
   },
   {
    "duration": 28,
    "start_time": "2023-02-18T15:55:45.953Z"
   },
   {
    "duration": 322,
    "start_time": "2023-02-18T15:55:45.984Z"
   },
   {
    "duration": 162,
    "start_time": "2023-02-18T15:55:46.307Z"
   },
   {
    "duration": 8,
    "start_time": "2023-02-18T15:55:46.471Z"
   },
   {
    "duration": 16,
    "start_time": "2023-02-18T15:55:46.480Z"
   },
   {
    "duration": 12,
    "start_time": "2023-02-18T15:55:46.497Z"
   },
   {
    "duration": 57,
    "start_time": "2023-02-18T15:55:46.511Z"
   },
   {
    "duration": 9,
    "start_time": "2023-02-18T15:55:46.570Z"
   },
   {
    "duration": 148,
    "start_time": "2023-02-18T15:55:46.580Z"
   },
   {
    "duration": 126,
    "start_time": "2023-02-18T15:55:46.733Z"
   },
   {
    "duration": 8,
    "start_time": "2023-02-18T15:55:46.861Z"
   },
   {
    "duration": 8,
    "start_time": "2023-02-18T15:55:46.870Z"
   },
   {
    "duration": 9,
    "start_time": "2023-02-18T15:55:46.879Z"
   },
   {
    "duration": 13,
    "start_time": "2023-02-18T15:55:46.889Z"
   },
   {
    "duration": 30,
    "start_time": "2023-02-18T15:55:46.904Z"
   },
   {
    "duration": 24,
    "start_time": "2023-02-18T15:55:46.936Z"
   },
   {
    "duration": 15,
    "start_time": "2023-02-18T15:55:46.962Z"
   },
   {
    "duration": 12,
    "start_time": "2023-02-18T15:55:46.979Z"
   },
   {
    "duration": 49,
    "start_time": "2023-02-18T15:55:46.993Z"
   },
   {
    "duration": 24,
    "start_time": "2023-02-18T15:55:47.044Z"
   },
   {
    "duration": 12,
    "start_time": "2023-02-18T15:55:47.070Z"
   },
   {
    "duration": 80,
    "start_time": "2023-02-18T15:55:47.084Z"
   },
   {
    "duration": 7,
    "start_time": "2023-02-18T15:56:37.596Z"
   },
   {
    "duration": 5,
    "start_time": "2023-02-18T15:56:44.319Z"
   },
   {
    "duration": 66,
    "start_time": "2023-02-18T15:57:43.055Z"
   },
   {
    "duration": 1287,
    "start_time": "2023-02-18T15:58:18.174Z"
   },
   {
    "duration": 94,
    "start_time": "2023-02-18T15:58:19.464Z"
   },
   {
    "duration": 50,
    "start_time": "2023-02-18T15:58:19.560Z"
   },
   {
    "duration": 20,
    "start_time": "2023-02-18T15:58:19.612Z"
   },
   {
    "duration": 7,
    "start_time": "2023-02-18T15:58:19.638Z"
   },
   {
    "duration": 47,
    "start_time": "2023-02-18T15:58:19.647Z"
   },
   {
    "duration": 29,
    "start_time": "2023-02-18T15:58:19.696Z"
   },
   {
    "duration": 32,
    "start_time": "2023-02-18T15:58:19.730Z"
   },
   {
    "duration": 4,
    "start_time": "2023-02-18T15:58:19.764Z"
   },
   {
    "duration": 35,
    "start_time": "2023-02-18T15:58:19.771Z"
   },
   {
    "duration": 73,
    "start_time": "2023-02-18T15:58:19.808Z"
   },
   {
    "duration": 15,
    "start_time": "2023-02-18T15:58:19.883Z"
   },
   {
    "duration": 5,
    "start_time": "2023-02-18T15:58:19.900Z"
   },
   {
    "duration": 38,
    "start_time": "2023-02-18T15:58:19.930Z"
   },
   {
    "duration": 5,
    "start_time": "2023-02-18T15:58:19.970Z"
   },
   {
    "duration": 35,
    "start_time": "2023-02-18T15:58:19.977Z"
   },
   {
    "duration": 52,
    "start_time": "2023-02-18T15:58:20.013Z"
   },
   {
    "duration": 10,
    "start_time": "2023-02-18T15:58:20.067Z"
   },
   {
    "duration": 6,
    "start_time": "2023-02-18T15:58:20.079Z"
   },
   {
    "duration": 1617,
    "start_time": "2023-02-18T15:58:20.087Z"
   },
   {
    "duration": 4,
    "start_time": "2023-02-18T15:58:21.706Z"
   },
   {
    "duration": 172,
    "start_time": "2023-02-18T15:58:21.712Z"
   },
   {
    "duration": 9,
    "start_time": "2023-02-18T15:58:21.887Z"
   },
   {
    "duration": 9,
    "start_time": "2023-02-18T15:58:21.898Z"
   },
   {
    "duration": 29,
    "start_time": "2023-02-18T15:58:21.908Z"
   },
   {
    "duration": 15,
    "start_time": "2023-02-18T15:58:21.940Z"
   },
   {
    "duration": 9,
    "start_time": "2023-02-18T15:58:21.957Z"
   },
   {
    "duration": 11,
    "start_time": "2023-02-18T15:58:21.968Z"
   },
   {
    "duration": 8,
    "start_time": "2023-02-18T15:58:21.981Z"
   },
   {
    "duration": 46,
    "start_time": "2023-02-18T15:58:21.991Z"
   },
   {
    "duration": 970,
    "start_time": "2023-02-18T15:58:22.044Z"
   },
   {
    "duration": 132,
    "start_time": "2023-02-18T15:58:23.016Z"
   },
   {
    "duration": 9,
    "start_time": "2023-02-18T15:58:23.150Z"
   },
   {
    "duration": 10,
    "start_time": "2023-02-18T15:58:23.161Z"
   },
   {
    "duration": 13,
    "start_time": "2023-02-18T15:58:23.173Z"
   },
   {
    "duration": 52,
    "start_time": "2023-02-18T15:58:23.187Z"
   },
   {
    "duration": 21,
    "start_time": "2023-02-18T15:58:23.246Z"
   },
   {
    "duration": 6,
    "start_time": "2023-02-18T15:58:23.268Z"
   },
   {
    "duration": 21,
    "start_time": "2023-02-18T15:58:23.276Z"
   },
   {
    "duration": 324,
    "start_time": "2023-02-18T15:58:23.299Z"
   },
   {
    "duration": 177,
    "start_time": "2023-02-18T15:58:23.631Z"
   },
   {
    "duration": 11,
    "start_time": "2023-02-18T15:58:23.811Z"
   },
   {
    "duration": 22,
    "start_time": "2023-02-18T15:58:23.833Z"
   },
   {
    "duration": 33,
    "start_time": "2023-02-18T15:58:23.857Z"
   },
   {
    "duration": 331,
    "start_time": "2023-02-18T15:58:23.891Z"
   },
   {
    "duration": 137,
    "start_time": "2023-02-18T15:58:24.227Z"
   },
   {
    "duration": 6,
    "start_time": "2023-02-18T15:58:24.365Z"
   },
   {
    "duration": 10,
    "start_time": "2023-02-18T15:58:24.373Z"
   },
   {
    "duration": 9,
    "start_time": "2023-02-18T15:58:24.385Z"
   },
   {
    "duration": 72,
    "start_time": "2023-02-18T15:58:24.396Z"
   },
   {
    "duration": 9,
    "start_time": "2023-02-18T15:58:24.469Z"
   },
   {
    "duration": 152,
    "start_time": "2023-02-18T15:58:24.479Z"
   },
   {
    "duration": 147,
    "start_time": "2023-02-18T15:58:24.633Z"
   },
   {
    "duration": 9,
    "start_time": "2023-02-18T15:58:24.782Z"
   },
   {
    "duration": 8,
    "start_time": "2023-02-18T15:58:24.793Z"
   },
   {
    "duration": 10,
    "start_time": "2023-02-18T15:58:24.802Z"
   },
   {
    "duration": 21,
    "start_time": "2023-02-18T15:58:24.831Z"
   },
   {
    "duration": 11,
    "start_time": "2023-02-18T15:58:24.860Z"
   },
   {
    "duration": 17,
    "start_time": "2023-02-18T15:58:24.873Z"
   },
   {
    "duration": 14,
    "start_time": "2023-02-18T15:58:24.892Z"
   },
   {
    "duration": 33,
    "start_time": "2023-02-18T15:58:24.908Z"
   },
   {
    "duration": 47,
    "start_time": "2023-02-18T15:58:24.942Z"
   },
   {
    "duration": 10,
    "start_time": "2023-02-18T15:58:24.991Z"
   },
   {
    "duration": 15,
    "start_time": "2023-02-18T15:58:25.003Z"
   },
   {
    "duration": 82,
    "start_time": "2023-02-18T15:58:25.019Z"
   },
   {
    "duration": 9,
    "start_time": "2023-02-18T15:59:40.682Z"
   },
   {
    "duration": 40,
    "start_time": "2023-02-18T15:59:57.955Z"
   },
   {
    "duration": 13,
    "start_time": "2023-02-18T16:00:30.184Z"
   },
   {
    "duration": 1377,
    "start_time": "2023-02-18T16:00:41.127Z"
   },
   {
    "duration": 91,
    "start_time": "2023-02-18T16:00:42.506Z"
   },
   {
    "duration": 53,
    "start_time": "2023-02-18T16:00:42.599Z"
   },
   {
    "duration": 17,
    "start_time": "2023-02-18T16:00:42.655Z"
   },
   {
    "duration": 5,
    "start_time": "2023-02-18T16:00:42.674Z"
   },
   {
    "duration": 29,
    "start_time": "2023-02-18T16:00:42.681Z"
   },
   {
    "duration": 49,
    "start_time": "2023-02-18T16:00:42.711Z"
   },
   {
    "duration": 31,
    "start_time": "2023-02-18T16:00:42.762Z"
   },
   {
    "duration": 4,
    "start_time": "2023-02-18T16:00:42.795Z"
   },
   {
    "duration": 68,
    "start_time": "2023-02-18T16:00:42.829Z"
   },
   {
    "duration": 39,
    "start_time": "2023-02-18T16:00:42.899Z"
   },
   {
    "duration": 19,
    "start_time": "2023-02-18T16:00:42.939Z"
   },
   {
    "duration": 4,
    "start_time": "2023-02-18T16:00:42.960Z"
   },
   {
    "duration": 34,
    "start_time": "2023-02-18T16:00:42.966Z"
   },
   {
    "duration": 3,
    "start_time": "2023-02-18T16:00:43.003Z"
   },
   {
    "duration": 62,
    "start_time": "2023-02-18T16:00:43.008Z"
   },
   {
    "duration": 37,
    "start_time": "2023-02-18T16:00:43.072Z"
   },
   {
    "duration": 20,
    "start_time": "2023-02-18T16:00:43.111Z"
   },
   {
    "duration": 12,
    "start_time": "2023-02-18T16:00:43.134Z"
   },
   {
    "duration": 1630,
    "start_time": "2023-02-18T16:00:43.148Z"
   },
   {
    "duration": 4,
    "start_time": "2023-02-18T16:00:44.780Z"
   },
   {
    "duration": 151,
    "start_time": "2023-02-18T16:00:44.786Z"
   },
   {
    "duration": 9,
    "start_time": "2023-02-18T16:00:44.947Z"
   },
   {
    "duration": 21,
    "start_time": "2023-02-18T16:00:44.958Z"
   },
   {
    "duration": 14,
    "start_time": "2023-02-18T16:00:44.980Z"
   },
   {
    "duration": 12,
    "start_time": "2023-02-18T16:00:44.996Z"
   },
   {
    "duration": 14,
    "start_time": "2023-02-18T16:00:45.009Z"
   },
   {
    "duration": 25,
    "start_time": "2023-02-18T16:00:45.029Z"
   },
   {
    "duration": 21,
    "start_time": "2023-02-18T16:00:45.056Z"
   },
   {
    "duration": 18,
    "start_time": "2023-02-18T16:00:45.079Z"
   },
   {
    "duration": 817,
    "start_time": "2023-02-18T16:00:45.100Z"
   },
   {
    "duration": 320,
    "start_time": "2023-02-18T16:00:45.919Z"
   },
   {
    "duration": 8,
    "start_time": "2023-02-18T16:00:46.247Z"
   },
   {
    "duration": 13,
    "start_time": "2023-02-18T16:00:46.257Z"
   },
   {
    "duration": 14,
    "start_time": "2023-02-18T16:00:46.271Z"
   },
   {
    "duration": 16,
    "start_time": "2023-02-18T16:00:46.287Z"
   },
   {
    "duration": 51,
    "start_time": "2023-02-18T16:00:46.304Z"
   },
   {
    "duration": 6,
    "start_time": "2023-02-18T16:00:46.357Z"
   },
   {
    "duration": 30,
    "start_time": "2023-02-18T16:00:46.364Z"
   },
   {
    "duration": 383,
    "start_time": "2023-02-18T16:00:46.396Z"
   },
   {
    "duration": 131,
    "start_time": "2023-02-18T16:00:46.781Z"
   },
   {
    "duration": 24,
    "start_time": "2023-02-18T16:00:46.914Z"
   },
   {
    "duration": 16,
    "start_time": "2023-02-18T16:00:46.940Z"
   },
   {
    "duration": 38,
    "start_time": "2023-02-18T16:00:46.958Z"
   },
   {
    "duration": 329,
    "start_time": "2023-02-18T16:00:46.998Z"
   },
   {
    "duration": 142,
    "start_time": "2023-02-18T16:00:47.328Z"
   },
   {
    "duration": 6,
    "start_time": "2023-02-18T16:00:47.472Z"
   },
   {
    "duration": 11,
    "start_time": "2023-02-18T16:00:47.480Z"
   },
   {
    "duration": 9,
    "start_time": "2023-02-18T16:00:47.493Z"
   },
   {
    "duration": 46,
    "start_time": "2023-02-18T16:00:47.529Z"
   },
   {
    "duration": 9,
    "start_time": "2023-02-18T16:00:47.577Z"
   },
   {
    "duration": 153,
    "start_time": "2023-02-18T16:00:47.588Z"
   },
   {
    "duration": 141,
    "start_time": "2023-02-18T16:00:47.742Z"
   },
   {
    "duration": 10,
    "start_time": "2023-02-18T16:00:47.885Z"
   },
   {
    "duration": 20,
    "start_time": "2023-02-18T16:00:47.897Z"
   },
   {
    "duration": 13,
    "start_time": "2023-02-18T16:00:47.927Z"
   },
   {
    "duration": 16,
    "start_time": "2023-02-18T16:00:47.942Z"
   },
   {
    "duration": 15,
    "start_time": "2023-02-18T16:00:47.961Z"
   },
   {
    "duration": 21,
    "start_time": "2023-02-18T16:00:47.978Z"
   },
   {
    "duration": 31,
    "start_time": "2023-02-18T16:00:48.001Z"
   },
   {
    "duration": 12,
    "start_time": "2023-02-18T16:00:48.035Z"
   },
   {
    "duration": 18,
    "start_time": "2023-02-18T16:00:48.049Z"
   },
   {
    "duration": 11,
    "start_time": "2023-02-18T16:00:48.068Z"
   },
   {
    "duration": 12,
    "start_time": "2023-02-18T16:00:48.081Z"
   },
   {
    "duration": 50,
    "start_time": "2023-02-18T16:00:48.095Z"
   },
   {
    "duration": 70,
    "start_time": "2023-02-18T16:00:48.148Z"
   },
   {
    "duration": 1398,
    "start_time": "2023-02-18T16:01:28.645Z"
   },
   {
    "duration": 101,
    "start_time": "2023-02-18T16:01:30.046Z"
   },
   {
    "duration": 41,
    "start_time": "2023-02-18T16:01:30.148Z"
   },
   {
    "duration": 23,
    "start_time": "2023-02-18T16:01:30.192Z"
   },
   {
    "duration": 23,
    "start_time": "2023-02-18T16:01:30.218Z"
   },
   {
    "duration": 60,
    "start_time": "2023-02-18T16:01:30.243Z"
   },
   {
    "duration": 65,
    "start_time": "2023-02-18T16:01:30.306Z"
   },
   {
    "duration": 34,
    "start_time": "2023-02-18T16:01:30.374Z"
   },
   {
    "duration": 20,
    "start_time": "2023-02-18T16:01:30.410Z"
   },
   {
    "duration": 109,
    "start_time": "2023-02-18T16:01:30.434Z"
   },
   {
    "duration": 59,
    "start_time": "2023-02-18T16:01:30.549Z"
   },
   {
    "duration": 27,
    "start_time": "2023-02-18T16:01:30.611Z"
   },
   {
    "duration": 28,
    "start_time": "2023-02-18T16:01:30.640Z"
   },
   {
    "duration": 72,
    "start_time": "2023-02-18T16:01:30.671Z"
   },
   {
    "duration": 13,
    "start_time": "2023-02-18T16:01:30.745Z"
   },
   {
    "duration": 61,
    "start_time": "2023-02-18T16:01:30.760Z"
   },
   {
    "duration": 41,
    "start_time": "2023-02-18T16:01:30.823Z"
   },
   {
    "duration": 10,
    "start_time": "2023-02-18T16:01:30.865Z"
   },
   {
    "duration": 20,
    "start_time": "2023-02-18T16:01:30.877Z"
   },
   {
    "duration": 1585,
    "start_time": "2023-02-18T16:01:30.900Z"
   },
   {
    "duration": 5,
    "start_time": "2023-02-18T16:01:32.487Z"
   },
   {
    "duration": 147,
    "start_time": "2023-02-18T16:01:32.494Z"
   },
   {
    "duration": 12,
    "start_time": "2023-02-18T16:01:32.643Z"
   },
   {
    "duration": 26,
    "start_time": "2023-02-18T16:01:32.658Z"
   },
   {
    "duration": 20,
    "start_time": "2023-02-18T16:01:32.687Z"
   },
   {
    "duration": 14,
    "start_time": "2023-02-18T16:01:32.709Z"
   },
   {
    "duration": 42,
    "start_time": "2023-02-18T16:01:32.725Z"
   },
   {
    "duration": 10,
    "start_time": "2023-02-18T16:01:32.774Z"
   },
   {
    "duration": 29,
    "start_time": "2023-02-18T16:01:32.786Z"
   },
   {
    "duration": 11,
    "start_time": "2023-02-18T16:01:32.816Z"
   },
   {
    "duration": 908,
    "start_time": "2023-02-18T16:01:32.828Z"
   },
   {
    "duration": 267,
    "start_time": "2023-02-18T16:01:33.738Z"
   },
   {
    "duration": 34,
    "start_time": "2023-02-18T16:01:34.007Z"
   },
   {
    "duration": 13,
    "start_time": "2023-02-18T16:01:34.044Z"
   },
   {
    "duration": 16,
    "start_time": "2023-02-18T16:01:34.058Z"
   },
   {
    "duration": 20,
    "start_time": "2023-02-18T16:01:34.076Z"
   },
   {
    "duration": 42,
    "start_time": "2023-02-18T16:01:34.098Z"
   },
   {
    "duration": 8,
    "start_time": "2023-02-18T16:01:34.141Z"
   },
   {
    "duration": 23,
    "start_time": "2023-02-18T16:01:34.151Z"
   },
   {
    "duration": 369,
    "start_time": "2023-02-18T16:01:34.176Z"
   },
   {
    "duration": 170,
    "start_time": "2023-02-18T16:01:34.548Z"
   },
   {
    "duration": 20,
    "start_time": "2023-02-18T16:01:34.720Z"
   },
   {
    "duration": 14,
    "start_time": "2023-02-18T16:01:34.743Z"
   },
   {
    "duration": 53,
    "start_time": "2023-02-18T16:01:34.759Z"
   },
   {
    "duration": 366,
    "start_time": "2023-02-18T16:01:34.814Z"
   },
   {
    "duration": 173,
    "start_time": "2023-02-18T16:01:35.183Z"
   },
   {
    "duration": 6,
    "start_time": "2023-02-18T16:01:35.358Z"
   },
   {
    "duration": 21,
    "start_time": "2023-02-18T16:01:35.366Z"
   },
   {
    "duration": 17,
    "start_time": "2023-02-18T16:01:35.389Z"
   },
   {
    "duration": 99,
    "start_time": "2023-02-18T16:01:35.408Z"
   },
   {
    "duration": 10,
    "start_time": "2023-02-18T16:01:35.509Z"
   },
   {
    "duration": 158,
    "start_time": "2023-02-18T16:01:35.521Z"
   },
   {
    "duration": 181,
    "start_time": "2023-02-18T16:01:35.681Z"
   },
   {
    "duration": 11,
    "start_time": "2023-02-18T16:01:35.864Z"
   },
   {
    "duration": 12,
    "start_time": "2023-02-18T16:01:35.876Z"
   },
   {
    "duration": 25,
    "start_time": "2023-02-18T16:01:35.889Z"
   },
   {
    "duration": 48,
    "start_time": "2023-02-18T16:01:35.917Z"
   },
   {
    "duration": 11,
    "start_time": "2023-02-18T16:01:35.969Z"
   },
   {
    "duration": 16,
    "start_time": "2023-02-18T16:01:35.982Z"
   },
   {
    "duration": 15,
    "start_time": "2023-02-18T16:01:36.000Z"
   },
   {
    "duration": 18,
    "start_time": "2023-02-18T16:01:36.017Z"
   },
   {
    "duration": 39,
    "start_time": "2023-02-18T16:01:36.037Z"
   },
   {
    "duration": 10,
    "start_time": "2023-02-18T16:01:36.078Z"
   },
   {
    "duration": 10,
    "start_time": "2023-02-18T16:01:36.090Z"
   },
   {
    "duration": 15,
    "start_time": "2023-02-18T16:01:36.102Z"
   },
   {
    "duration": 74,
    "start_time": "2023-02-18T16:01:36.129Z"
   },
   {
    "duration": 13,
    "start_time": "2023-02-18T16:01:50.178Z"
   },
   {
    "duration": 109,
    "start_time": "2023-02-18T16:02:11.478Z"
   },
   {
    "duration": 1353,
    "start_time": "2023-02-18T16:02:19.247Z"
   },
   {
    "duration": 125,
    "start_time": "2023-02-18T16:02:20.603Z"
   },
   {
    "duration": 44,
    "start_time": "2023-02-18T16:02:20.734Z"
   },
   {
    "duration": 16,
    "start_time": "2023-02-18T16:02:20.780Z"
   },
   {
    "duration": 8,
    "start_time": "2023-02-18T16:02:20.798Z"
   },
   {
    "duration": 52,
    "start_time": "2023-02-18T16:02:20.808Z"
   },
   {
    "duration": 44,
    "start_time": "2023-02-18T16:02:20.862Z"
   },
   {
    "duration": 45,
    "start_time": "2023-02-18T16:02:20.908Z"
   },
   {
    "duration": 4,
    "start_time": "2023-02-18T16:02:20.955Z"
   },
   {
    "duration": 38,
    "start_time": "2023-02-18T16:02:20.961Z"
   },
   {
    "duration": 71,
    "start_time": "2023-02-18T16:02:21.000Z"
   },
   {
    "duration": 15,
    "start_time": "2023-02-18T16:02:21.073Z"
   },
   {
    "duration": 4,
    "start_time": "2023-02-18T16:02:21.090Z"
   },
   {
    "duration": 57,
    "start_time": "2023-02-18T16:02:21.097Z"
   },
   {
    "duration": 4,
    "start_time": "2023-02-18T16:02:21.156Z"
   },
   {
    "duration": 57,
    "start_time": "2023-02-18T16:02:21.162Z"
   },
   {
    "duration": 42,
    "start_time": "2023-02-18T16:02:21.221Z"
   },
   {
    "duration": 12,
    "start_time": "2023-02-18T16:02:21.265Z"
   },
   {
    "duration": 22,
    "start_time": "2023-02-18T16:02:21.279Z"
   },
   {
    "duration": 1581,
    "start_time": "2023-02-18T16:02:21.302Z"
   },
   {
    "duration": 4,
    "start_time": "2023-02-18T16:02:22.885Z"
   },
   {
    "duration": 189,
    "start_time": "2023-02-18T16:02:22.891Z"
   },
   {
    "duration": 8,
    "start_time": "2023-02-18T16:02:23.082Z"
   },
   {
    "duration": 17,
    "start_time": "2023-02-18T16:02:23.092Z"
   },
   {
    "duration": 30,
    "start_time": "2023-02-18T16:02:23.111Z"
   },
   {
    "duration": 15,
    "start_time": "2023-02-18T16:02:23.146Z"
   },
   {
    "duration": 9,
    "start_time": "2023-02-18T16:02:23.162Z"
   },
   {
    "duration": 8,
    "start_time": "2023-02-18T16:02:23.173Z"
   },
   {
    "duration": 19,
    "start_time": "2023-02-18T16:02:23.182Z"
   },
   {
    "duration": 41,
    "start_time": "2023-02-18T16:02:23.203Z"
   },
   {
    "duration": 943,
    "start_time": "2023-02-18T16:02:23.246Z"
   },
   {
    "duration": 128,
    "start_time": "2023-02-18T16:02:24.191Z"
   },
   {
    "duration": 15,
    "start_time": "2023-02-18T16:02:24.321Z"
   },
   {
    "duration": 26,
    "start_time": "2023-02-18T16:02:24.338Z"
   },
   {
    "duration": 12,
    "start_time": "2023-02-18T16:02:24.366Z"
   },
   {
    "duration": 14,
    "start_time": "2023-02-18T16:02:24.379Z"
   },
   {
    "duration": 46,
    "start_time": "2023-02-18T16:02:24.395Z"
   },
   {
    "duration": 6,
    "start_time": "2023-02-18T16:02:24.443Z"
   },
   {
    "duration": 20,
    "start_time": "2023-02-18T16:02:24.451Z"
   },
   {
    "duration": 337,
    "start_time": "2023-02-18T16:02:24.473Z"
   },
   {
    "duration": 130,
    "start_time": "2023-02-18T16:02:24.814Z"
   },
   {
    "duration": 9,
    "start_time": "2023-02-18T16:02:24.946Z"
   },
   {
    "duration": 7,
    "start_time": "2023-02-18T16:02:24.957Z"
   },
   {
    "duration": 27,
    "start_time": "2023-02-18T16:02:24.966Z"
   },
   {
    "duration": 347,
    "start_time": "2023-02-18T16:02:25.030Z"
   },
   {
    "duration": 141,
    "start_time": "2023-02-18T16:02:25.379Z"
   },
   {
    "duration": 11,
    "start_time": "2023-02-18T16:02:25.530Z"
   },
   {
    "duration": 25,
    "start_time": "2023-02-18T16:02:25.542Z"
   },
   {
    "duration": 9,
    "start_time": "2023-02-18T16:02:25.569Z"
   },
   {
    "duration": 43,
    "start_time": "2023-02-18T16:02:25.580Z"
   },
   {
    "duration": 21,
    "start_time": "2023-02-18T16:02:25.625Z"
   },
   {
    "duration": 133,
    "start_time": "2023-02-18T16:02:25.647Z"
   },
   {
    "duration": 125,
    "start_time": "2023-02-18T16:02:25.781Z"
   },
   {
    "duration": 8,
    "start_time": "2023-02-18T16:02:25.908Z"
   },
   {
    "duration": 10,
    "start_time": "2023-02-18T16:02:25.928Z"
   },
   {
    "duration": 11,
    "start_time": "2023-02-18T16:02:25.940Z"
   },
   {
    "duration": 12,
    "start_time": "2023-02-18T16:02:25.953Z"
   },
   {
    "duration": 21,
    "start_time": "2023-02-18T16:02:25.967Z"
   },
   {
    "duration": 20,
    "start_time": "2023-02-18T16:02:25.989Z"
   },
   {
    "duration": 15,
    "start_time": "2023-02-18T16:02:26.011Z"
   },
   {
    "duration": 25,
    "start_time": "2023-02-18T16:02:26.034Z"
   },
   {
    "duration": 34,
    "start_time": "2023-02-18T16:02:26.060Z"
   },
   {
    "duration": 9,
    "start_time": "2023-02-18T16:02:26.096Z"
   },
   {
    "duration": 20,
    "start_time": "2023-02-18T16:02:26.106Z"
   },
   {
    "duration": 41,
    "start_time": "2023-02-18T16:02:26.129Z"
   },
   {
    "duration": 65,
    "start_time": "2023-02-18T16:02:26.172Z"
   },
   {
    "duration": 22,
    "start_time": "2023-02-18T16:02:26.239Z"
   },
   {
    "duration": 1327,
    "start_time": "2023-02-18T16:03:06.605Z"
   },
   {
    "duration": 93,
    "start_time": "2023-02-18T16:03:07.935Z"
   },
   {
    "duration": 38,
    "start_time": "2023-02-18T16:03:08.030Z"
   },
   {
    "duration": 20,
    "start_time": "2023-02-18T16:03:08.070Z"
   },
   {
    "duration": 4,
    "start_time": "2023-02-18T16:03:08.091Z"
   },
   {
    "duration": 56,
    "start_time": "2023-02-18T16:03:08.097Z"
   },
   {
    "duration": 54,
    "start_time": "2023-02-18T16:03:08.155Z"
   },
   {
    "duration": 43,
    "start_time": "2023-02-18T16:03:08.211Z"
   },
   {
    "duration": 4,
    "start_time": "2023-02-18T16:03:08.256Z"
   },
   {
    "duration": 34,
    "start_time": "2023-02-18T16:03:08.263Z"
   },
   {
    "duration": 54,
    "start_time": "2023-02-18T16:03:08.298Z"
   },
   {
    "duration": 14,
    "start_time": "2023-02-18T16:03:08.354Z"
   },
   {
    "duration": 4,
    "start_time": "2023-02-18T16:03:08.369Z"
   },
   {
    "duration": 59,
    "start_time": "2023-02-18T16:03:08.375Z"
   },
   {
    "duration": 6,
    "start_time": "2023-02-18T16:03:08.435Z"
   },
   {
    "duration": 31,
    "start_time": "2023-02-18T16:03:08.445Z"
   },
   {
    "duration": 38,
    "start_time": "2023-02-18T16:03:08.478Z"
   },
   {
    "duration": 11,
    "start_time": "2023-02-18T16:03:08.534Z"
   },
   {
    "duration": 14,
    "start_time": "2023-02-18T16:03:08.546Z"
   },
   {
    "duration": 1537,
    "start_time": "2023-02-18T16:03:08.562Z"
   },
   {
    "duration": 4,
    "start_time": "2023-02-18T16:03:10.101Z"
   },
   {
    "duration": 153,
    "start_time": "2023-02-18T16:03:10.106Z"
   },
   {
    "duration": 10,
    "start_time": "2023-02-18T16:03:10.262Z"
   },
   {
    "duration": 24,
    "start_time": "2023-02-18T16:03:10.275Z"
   },
   {
    "duration": 20,
    "start_time": "2023-02-18T16:03:10.301Z"
   },
   {
    "duration": 24,
    "start_time": "2023-02-18T16:03:10.334Z"
   },
   {
    "duration": 15,
    "start_time": "2023-02-18T16:03:10.360Z"
   },
   {
    "duration": 9,
    "start_time": "2023-02-18T16:03:10.383Z"
   },
   {
    "duration": 14,
    "start_time": "2023-02-18T16:03:10.394Z"
   },
   {
    "duration": 56,
    "start_time": "2023-02-18T16:03:10.409Z"
   },
   {
    "duration": 853,
    "start_time": "2023-02-18T16:03:10.467Z"
   },
   {
    "duration": 261,
    "start_time": "2023-02-18T16:03:11.322Z"
   },
   {
    "duration": 10,
    "start_time": "2023-02-18T16:03:11.585Z"
   },
   {
    "duration": 13,
    "start_time": "2023-02-18T16:03:11.597Z"
   },
   {
    "duration": 20,
    "start_time": "2023-02-18T16:03:11.628Z"
   },
   {
    "duration": 16,
    "start_time": "2023-02-18T16:03:11.649Z"
   },
   {
    "duration": 22,
    "start_time": "2023-02-18T16:03:11.667Z"
   },
   {
    "duration": 6,
    "start_time": "2023-02-18T16:03:11.690Z"
   },
   {
    "duration": 47,
    "start_time": "2023-02-18T16:03:11.697Z"
   },
   {
    "duration": 312,
    "start_time": "2023-02-18T16:03:11.746Z"
   },
   {
    "duration": 127,
    "start_time": "2023-02-18T16:03:12.060Z"
   },
   {
    "duration": 8,
    "start_time": "2023-02-18T16:03:12.190Z"
   },
   {
    "duration": 21,
    "start_time": "2023-02-18T16:03:12.200Z"
   },
   {
    "duration": 32,
    "start_time": "2023-02-18T16:03:12.223Z"
   },
   {
    "duration": 321,
    "start_time": "2023-02-18T16:03:12.257Z"
   },
   {
    "duration": 140,
    "start_time": "2023-02-18T16:03:12.580Z"
   },
   {
    "duration": 10,
    "start_time": "2023-02-18T16:03:12.726Z"
   },
   {
    "duration": 17,
    "start_time": "2023-02-18T16:03:12.738Z"
   },
   {
    "duration": 23,
    "start_time": "2023-02-18T16:03:12.757Z"
   },
   {
    "duration": 42,
    "start_time": "2023-02-18T16:03:12.782Z"
   },
   {
    "duration": 17,
    "start_time": "2023-02-18T16:03:12.828Z"
   },
   {
    "duration": 122,
    "start_time": "2023-02-18T16:03:12.846Z"
   },
   {
    "duration": 136,
    "start_time": "2023-02-18T16:03:12.970Z"
   },
   {
    "duration": 7,
    "start_time": "2023-02-18T16:03:13.108Z"
   },
   {
    "duration": 21,
    "start_time": "2023-02-18T16:03:13.117Z"
   },
   {
    "duration": 9,
    "start_time": "2023-02-18T16:03:13.143Z"
   },
   {
    "duration": 10,
    "start_time": "2023-02-18T16:03:13.153Z"
   },
   {
    "duration": 15,
    "start_time": "2023-02-18T16:03:13.165Z"
   },
   {
    "duration": 15,
    "start_time": "2023-02-18T16:03:13.182Z"
   },
   {
    "duration": 34,
    "start_time": "2023-02-18T16:03:13.199Z"
   },
   {
    "duration": 13,
    "start_time": "2023-02-18T16:03:13.234Z"
   },
   {
    "duration": 15,
    "start_time": "2023-02-18T16:03:13.249Z"
   },
   {
    "duration": 9,
    "start_time": "2023-02-18T16:03:13.265Z"
   },
   {
    "duration": 10,
    "start_time": "2023-02-18T16:03:13.276Z"
   },
   {
    "duration": 11,
    "start_time": "2023-02-18T16:03:13.287Z"
   },
   {
    "duration": 90,
    "start_time": "2023-02-18T16:03:13.333Z"
   },
   {
    "duration": 17,
    "start_time": "2023-02-18T16:03:13.429Z"
   },
   {
    "duration": 10,
    "start_time": "2023-02-18T16:03:13.448Z"
   },
   {
    "duration": 1251,
    "start_time": "2023-02-18T16:04:10.789Z"
   },
   {
    "duration": 94,
    "start_time": "2023-02-18T16:04:12.046Z"
   },
   {
    "duration": 32,
    "start_time": "2023-02-18T16:04:12.143Z"
   },
   {
    "duration": 15,
    "start_time": "2023-02-18T16:04:12.177Z"
   },
   {
    "duration": 3,
    "start_time": "2023-02-18T16:04:12.194Z"
   },
   {
    "duration": 38,
    "start_time": "2023-02-18T16:04:12.198Z"
   },
   {
    "duration": 45,
    "start_time": "2023-02-18T16:04:12.241Z"
   },
   {
    "duration": 46,
    "start_time": "2023-02-18T16:04:12.289Z"
   },
   {
    "duration": 4,
    "start_time": "2023-02-18T16:04:12.339Z"
   },
   {
    "duration": 34,
    "start_time": "2023-02-18T16:04:12.345Z"
   },
   {
    "duration": 52,
    "start_time": "2023-02-18T16:04:12.381Z"
   },
   {
    "duration": 19,
    "start_time": "2023-02-18T16:04:12.434Z"
   },
   {
    "duration": 4,
    "start_time": "2023-02-18T16:04:12.455Z"
   },
   {
    "duration": 29,
    "start_time": "2023-02-18T16:04:12.462Z"
   },
   {
    "duration": 3,
    "start_time": "2023-02-18T16:04:12.493Z"
   },
   {
    "duration": 56,
    "start_time": "2023-02-18T16:04:12.498Z"
   },
   {
    "duration": 38,
    "start_time": "2023-02-18T16:04:12.556Z"
   },
   {
    "duration": 9,
    "start_time": "2023-02-18T16:04:12.596Z"
   },
   {
    "duration": 25,
    "start_time": "2023-02-18T16:04:12.606Z"
   },
   {
    "duration": 1502,
    "start_time": "2023-02-18T16:04:12.633Z"
   },
   {
    "duration": 4,
    "start_time": "2023-02-18T16:04:14.137Z"
   },
   {
    "duration": 130,
    "start_time": "2023-02-18T16:04:14.142Z"
   },
   {
    "duration": 8,
    "start_time": "2023-02-18T16:04:14.273Z"
   },
   {
    "duration": 8,
    "start_time": "2023-02-18T16:04:14.282Z"
   },
   {
    "duration": 9,
    "start_time": "2023-02-18T16:04:14.292Z"
   },
   {
    "duration": 11,
    "start_time": "2023-02-18T16:04:14.337Z"
   },
   {
    "duration": 8,
    "start_time": "2023-02-18T16:04:14.350Z"
   },
   {
    "duration": 9,
    "start_time": "2023-02-18T16:04:14.360Z"
   },
   {
    "duration": 6,
    "start_time": "2023-02-18T16:04:14.371Z"
   },
   {
    "duration": 22,
    "start_time": "2023-02-18T16:04:14.378Z"
   },
   {
    "duration": 922,
    "start_time": "2023-02-18T16:04:14.402Z"
   },
   {
    "duration": 127,
    "start_time": "2023-02-18T16:04:15.325Z"
   },
   {
    "duration": 7,
    "start_time": "2023-02-18T16:04:15.454Z"
   },
   {
    "duration": 34,
    "start_time": "2023-02-18T16:04:15.463Z"
   },
   {
    "duration": 45,
    "start_time": "2023-02-18T16:04:15.499Z"
   },
   {
    "duration": 20,
    "start_time": "2023-02-18T16:04:15.546Z"
   },
   {
    "duration": 18,
    "start_time": "2023-02-18T16:04:15.567Z"
   },
   {
    "duration": 6,
    "start_time": "2023-02-18T16:04:15.587Z"
   },
   {
    "duration": 44,
    "start_time": "2023-02-18T16:04:15.594Z"
   },
   {
    "duration": 308,
    "start_time": "2023-02-18T16:04:15.641Z"
   },
   {
    "duration": 127,
    "start_time": "2023-02-18T16:04:15.953Z"
   },
   {
    "duration": 7,
    "start_time": "2023-02-18T16:04:16.082Z"
   },
   {
    "duration": 7,
    "start_time": "2023-02-18T16:04:16.091Z"
   },
   {
    "duration": 51,
    "start_time": "2023-02-18T16:04:16.099Z"
   },
   {
    "duration": 357,
    "start_time": "2023-02-18T16:04:16.152Z"
   },
   {
    "duration": 136,
    "start_time": "2023-02-18T16:04:16.511Z"
   },
   {
    "duration": 8,
    "start_time": "2023-02-18T16:04:16.649Z"
   },
   {
    "duration": 16,
    "start_time": "2023-02-18T16:04:16.659Z"
   },
   {
    "duration": 16,
    "start_time": "2023-02-18T16:04:16.677Z"
   },
   {
    "duration": 64,
    "start_time": "2023-02-18T16:04:16.696Z"
   },
   {
    "duration": 8,
    "start_time": "2023-02-18T16:04:16.762Z"
   },
   {
    "duration": 129,
    "start_time": "2023-02-18T16:04:16.772Z"
   },
   {
    "duration": 148,
    "start_time": "2023-02-18T16:04:16.903Z"
   },
   {
    "duration": 8,
    "start_time": "2023-02-18T16:04:17.053Z"
   },
   {
    "duration": 12,
    "start_time": "2023-02-18T16:04:17.063Z"
   },
   {
    "duration": 12,
    "start_time": "2023-02-18T16:04:17.077Z"
   },
   {
    "duration": 10,
    "start_time": "2023-02-18T16:04:17.091Z"
   },
   {
    "duration": 34,
    "start_time": "2023-02-18T16:04:17.102Z"
   },
   {
    "duration": 24,
    "start_time": "2023-02-18T16:04:17.138Z"
   },
   {
    "duration": 23,
    "start_time": "2023-02-18T16:04:17.163Z"
   },
   {
    "duration": 13,
    "start_time": "2023-02-18T16:04:17.188Z"
   },
   {
    "duration": 32,
    "start_time": "2023-02-18T16:04:17.202Z"
   },
   {
    "duration": 12,
    "start_time": "2023-02-18T16:04:17.236Z"
   },
   {
    "duration": 10,
    "start_time": "2023-02-18T16:04:17.249Z"
   },
   {
    "duration": 15,
    "start_time": "2023-02-18T16:04:17.261Z"
   },
   {
    "duration": 82,
    "start_time": "2023-02-18T16:04:17.278Z"
   },
   {
    "duration": 12,
    "start_time": "2023-02-18T16:04:17.362Z"
   },
   {
    "duration": 9,
    "start_time": "2023-02-18T16:04:17.375Z"
   },
   {
    "duration": 6,
    "start_time": "2023-02-18T16:05:41.692Z"
   },
   {
    "duration": 9,
    "start_time": "2023-02-18T16:07:37.242Z"
   },
   {
    "duration": 10,
    "start_time": "2023-02-18T16:08:50.993Z"
   },
   {
    "duration": 1312,
    "start_time": "2023-02-18T16:09:41.920Z"
   },
   {
    "duration": 103,
    "start_time": "2023-02-18T16:09:43.234Z"
   },
   {
    "duration": 31,
    "start_time": "2023-02-18T16:09:43.339Z"
   },
   {
    "duration": 13,
    "start_time": "2023-02-18T16:09:43.371Z"
   },
   {
    "duration": 15,
    "start_time": "2023-02-18T16:09:43.387Z"
   },
   {
    "duration": 35,
    "start_time": "2023-02-18T16:09:43.404Z"
   },
   {
    "duration": 42,
    "start_time": "2023-02-18T16:09:43.441Z"
   },
   {
    "duration": 34,
    "start_time": "2023-02-18T16:09:43.485Z"
   },
   {
    "duration": 3,
    "start_time": "2023-02-18T16:09:43.521Z"
   },
   {
    "duration": 52,
    "start_time": "2023-02-18T16:09:43.526Z"
   },
   {
    "duration": 33,
    "start_time": "2023-02-18T16:09:43.580Z"
   },
   {
    "duration": 19,
    "start_time": "2023-02-18T16:09:43.614Z"
   },
   {
    "duration": 4,
    "start_time": "2023-02-18T16:09:43.634Z"
   },
   {
    "duration": 37,
    "start_time": "2023-02-18T16:09:43.641Z"
   },
   {
    "duration": 2,
    "start_time": "2023-02-18T16:09:43.680Z"
   },
   {
    "duration": 52,
    "start_time": "2023-02-18T16:09:43.684Z"
   },
   {
    "duration": 36,
    "start_time": "2023-02-18T16:09:43.737Z"
   },
   {
    "duration": 11,
    "start_time": "2023-02-18T16:09:43.775Z"
   },
   {
    "duration": 15,
    "start_time": "2023-02-18T16:09:43.788Z"
   },
   {
    "duration": 1448,
    "start_time": "2023-02-18T16:09:43.804Z"
   },
   {
    "duration": 4,
    "start_time": "2023-02-18T16:09:45.253Z"
   },
   {
    "duration": 136,
    "start_time": "2023-02-18T16:09:45.258Z"
   },
   {
    "duration": 9,
    "start_time": "2023-02-18T16:09:45.396Z"
   },
   {
    "duration": 22,
    "start_time": "2023-02-18T16:09:45.406Z"
   },
   {
    "duration": 10,
    "start_time": "2023-02-18T16:09:45.430Z"
   },
   {
    "duration": 10,
    "start_time": "2023-02-18T16:09:45.442Z"
   },
   {
    "duration": 9,
    "start_time": "2023-02-18T16:09:45.454Z"
   },
   {
    "duration": 8,
    "start_time": "2023-02-18T16:09:45.465Z"
   },
   {
    "duration": 7,
    "start_time": "2023-02-18T16:09:45.475Z"
   },
   {
    "duration": 52,
    "start_time": "2023-02-18T16:09:45.483Z"
   },
   {
    "duration": 920,
    "start_time": "2023-02-18T16:09:45.536Z"
   },
   {
    "duration": 117,
    "start_time": "2023-02-18T16:09:46.458Z"
   },
   {
    "duration": 7,
    "start_time": "2023-02-18T16:09:46.577Z"
   },
   {
    "duration": 11,
    "start_time": "2023-02-18T16:09:46.586Z"
   },
   {
    "duration": 39,
    "start_time": "2023-02-18T16:09:46.599Z"
   },
   {
    "duration": 18,
    "start_time": "2023-02-18T16:09:46.640Z"
   },
   {
    "duration": 20,
    "start_time": "2023-02-18T16:09:46.660Z"
   },
   {
    "duration": 7,
    "start_time": "2023-02-18T16:09:46.682Z"
   },
   {
    "duration": 55,
    "start_time": "2023-02-18T16:09:46.691Z"
   },
   {
    "duration": 336,
    "start_time": "2023-02-18T16:09:46.748Z"
   },
   {
    "duration": 118,
    "start_time": "2023-02-18T16:09:47.088Z"
   },
   {
    "duration": 9,
    "start_time": "2023-02-18T16:09:47.207Z"
   },
   {
    "duration": 16,
    "start_time": "2023-02-18T16:09:47.217Z"
   },
   {
    "duration": 30,
    "start_time": "2023-02-18T16:09:47.234Z"
   },
   {
    "duration": 333,
    "start_time": "2023-02-18T16:09:47.266Z"
   },
   {
    "duration": 132,
    "start_time": "2023-02-18T16:09:47.601Z"
   },
   {
    "duration": 6,
    "start_time": "2023-02-18T16:09:47.735Z"
   },
   {
    "duration": 12,
    "start_time": "2023-02-18T16:09:47.742Z"
   },
   {
    "duration": 8,
    "start_time": "2023-02-18T16:09:47.756Z"
   },
   {
    "duration": 62,
    "start_time": "2023-02-18T16:09:47.766Z"
   },
   {
    "duration": 9,
    "start_time": "2023-02-18T16:09:47.829Z"
   },
   {
    "duration": 127,
    "start_time": "2023-02-18T16:09:47.839Z"
   },
   {
    "duration": 130,
    "start_time": "2023-02-18T16:09:47.967Z"
   },
   {
    "duration": 8,
    "start_time": "2023-02-18T16:09:48.099Z"
   },
   {
    "duration": 21,
    "start_time": "2023-02-18T16:09:48.108Z"
   },
   {
    "duration": 6,
    "start_time": "2023-02-18T16:09:48.130Z"
   },
   {
    "duration": 9,
    "start_time": "2023-02-18T16:09:48.138Z"
   },
   {
    "duration": 9,
    "start_time": "2023-02-18T16:09:48.148Z"
   },
   {
    "duration": 11,
    "start_time": "2023-02-18T16:09:48.159Z"
   },
   {
    "duration": 9,
    "start_time": "2023-02-18T16:09:48.172Z"
   },
   {
    "duration": 7,
    "start_time": "2023-02-18T16:09:48.183Z"
   },
   {
    "duration": 40,
    "start_time": "2023-02-18T16:09:48.192Z"
   },
   {
    "duration": 8,
    "start_time": "2023-02-18T16:09:48.234Z"
   },
   {
    "duration": 8,
    "start_time": "2023-02-18T16:09:48.244Z"
   },
   {
    "duration": 88,
    "start_time": "2023-02-18T16:09:48.254Z"
   },
   {
    "duration": 8,
    "start_time": "2023-02-18T16:09:48.344Z"
   },
   {
    "duration": 8,
    "start_time": "2023-02-18T16:09:48.353Z"
   },
   {
    "duration": 5,
    "start_time": "2023-02-18T16:17:54.723Z"
   },
   {
    "duration": 1170,
    "start_time": "2023-02-18T16:22:20.569Z"
   },
   {
    "duration": 88,
    "start_time": "2023-02-18T16:22:21.741Z"
   },
   {
    "duration": 33,
    "start_time": "2023-02-18T16:22:21.831Z"
   },
   {
    "duration": 13,
    "start_time": "2023-02-18T16:22:21.866Z"
   },
   {
    "duration": 7,
    "start_time": "2023-02-18T16:22:21.882Z"
   },
   {
    "duration": 43,
    "start_time": "2023-02-18T16:22:21.891Z"
   },
   {
    "duration": 30,
    "start_time": "2023-02-18T16:22:21.935Z"
   },
   {
    "duration": 24,
    "start_time": "2023-02-18T16:22:21.966Z"
   },
   {
    "duration": 3,
    "start_time": "2023-02-18T16:22:21.992Z"
   },
   {
    "duration": 59,
    "start_time": "2023-02-18T16:22:21.997Z"
   },
   {
    "duration": 38,
    "start_time": "2023-02-18T16:22:22.058Z"
   },
   {
    "duration": 31,
    "start_time": "2023-02-18T16:22:22.097Z"
   },
   {
    "duration": 4,
    "start_time": "2023-02-18T16:22:22.130Z"
   },
   {
    "duration": 31,
    "start_time": "2023-02-18T16:22:22.137Z"
   },
   {
    "duration": 3,
    "start_time": "2023-02-18T16:22:22.169Z"
   },
   {
    "duration": 36,
    "start_time": "2023-02-18T16:22:22.174Z"
   },
   {
    "duration": 38,
    "start_time": "2023-02-18T16:22:22.227Z"
   },
   {
    "duration": 10,
    "start_time": "2023-02-18T16:22:22.267Z"
   },
   {
    "duration": 10,
    "start_time": "2023-02-18T16:22:22.278Z"
   },
   {
    "duration": 2170,
    "start_time": "2023-02-18T16:22:22.290Z"
   },
   {
    "duration": 4,
    "start_time": "2023-02-18T16:22:24.461Z"
   },
   {
    "duration": 294,
    "start_time": "2023-02-18T16:22:24.466Z"
   },
   {
    "duration": 9,
    "start_time": "2023-02-18T16:22:24.761Z"
   },
   {
    "duration": 7,
    "start_time": "2023-02-18T16:22:24.828Z"
   },
   {
    "duration": 9,
    "start_time": "2023-02-18T16:22:24.837Z"
   },
   {
    "duration": 9,
    "start_time": "2023-02-18T16:22:24.848Z"
   },
   {
    "duration": 68,
    "start_time": "2023-02-18T16:22:24.859Z"
   },
   {
    "duration": 7,
    "start_time": "2023-02-18T16:22:24.929Z"
   },
   {
    "duration": 24,
    "start_time": "2023-02-18T16:22:24.938Z"
   },
   {
    "duration": 18,
    "start_time": "2023-02-18T16:22:24.963Z"
   },
   {
    "duration": 903,
    "start_time": "2023-02-18T16:22:24.982Z"
   },
   {
    "duration": 114,
    "start_time": "2023-02-18T16:22:25.886Z"
   },
   {
    "duration": 8,
    "start_time": "2023-02-18T16:22:26.001Z"
   },
   {
    "duration": 24,
    "start_time": "2023-02-18T16:22:26.010Z"
   },
   {
    "duration": 12,
    "start_time": "2023-02-18T16:22:26.035Z"
   },
   {
    "duration": 13,
    "start_time": "2023-02-18T16:22:26.049Z"
   },
   {
    "duration": 19,
    "start_time": "2023-02-18T16:22:26.063Z"
   },
   {
    "duration": 6,
    "start_time": "2023-02-18T16:22:26.084Z"
   },
   {
    "duration": 50,
    "start_time": "2023-02-18T16:22:26.091Z"
   },
   {
    "duration": 324,
    "start_time": "2023-02-18T16:22:26.142Z"
   },
   {
    "duration": 119,
    "start_time": "2023-02-18T16:22:26.470Z"
   },
   {
    "duration": 7,
    "start_time": "2023-02-18T16:22:26.591Z"
   },
   {
    "duration": 7,
    "start_time": "2023-02-18T16:22:26.600Z"
   },
   {
    "duration": 46,
    "start_time": "2023-02-18T16:22:26.608Z"
   },
   {
    "duration": 309,
    "start_time": "2023-02-18T16:22:26.656Z"
   },
   {
    "duration": 130,
    "start_time": "2023-02-18T16:22:26.967Z"
   },
   {
    "duration": 6,
    "start_time": "2023-02-18T16:22:27.099Z"
   },
   {
    "duration": 23,
    "start_time": "2023-02-18T16:22:27.107Z"
   },
   {
    "duration": 4,
    "start_time": "2023-02-18T16:22:27.131Z"
   },
   {
    "duration": 10,
    "start_time": "2023-02-18T16:22:27.137Z"
   },
   {
    "duration": 42,
    "start_time": "2023-02-18T16:22:27.149Z"
   },
   {
    "duration": 8,
    "start_time": "2023-02-18T16:22:27.193Z"
   },
   {
    "duration": 128,
    "start_time": "2023-02-18T16:22:27.228Z"
   },
   {
    "duration": 138,
    "start_time": "2023-02-18T16:22:27.358Z"
   },
   {
    "duration": 8,
    "start_time": "2023-02-18T16:22:27.498Z"
   },
   {
    "duration": 20,
    "start_time": "2023-02-18T16:22:27.508Z"
   },
   {
    "duration": 10,
    "start_time": "2023-02-18T16:22:27.530Z"
   },
   {
    "duration": 10,
    "start_time": "2023-02-18T16:22:27.541Z"
   },
   {
    "duration": 11,
    "start_time": "2023-02-18T16:22:27.552Z"
   },
   {
    "duration": 11,
    "start_time": "2023-02-18T16:22:27.564Z"
   },
   {
    "duration": 10,
    "start_time": "2023-02-18T16:22:27.577Z"
   },
   {
    "duration": 9,
    "start_time": "2023-02-18T16:22:27.589Z"
   },
   {
    "duration": 15,
    "start_time": "2023-02-18T16:22:27.627Z"
   },
   {
    "duration": 10,
    "start_time": "2023-02-18T16:22:27.643Z"
   },
   {
    "duration": 13,
    "start_time": "2023-02-18T16:22:27.655Z"
   },
   {
    "duration": 92,
    "start_time": "2023-02-18T16:22:27.669Z"
   },
   {
    "duration": 8,
    "start_time": "2023-02-18T16:22:27.763Z"
   },
   {
    "duration": 9,
    "start_time": "2023-02-18T16:22:27.773Z"
   },
   {
    "duration": 404,
    "start_time": "2023-02-19T17:33:49.920Z"
   },
   {
    "duration": 1323,
    "start_time": "2023-02-19T17:33:56.416Z"
   },
   {
    "duration": 92,
    "start_time": "2023-02-19T17:33:57.741Z"
   },
   {
    "duration": 36,
    "start_time": "2023-02-19T17:33:57.835Z"
   },
   {
    "duration": 14,
    "start_time": "2023-02-19T17:33:57.873Z"
   },
   {
    "duration": 4,
    "start_time": "2023-02-19T17:33:57.889Z"
   },
   {
    "duration": 48,
    "start_time": "2023-02-19T17:33:57.894Z"
   },
   {
    "duration": 30,
    "start_time": "2023-02-19T17:33:57.944Z"
   },
   {
    "duration": 27,
    "start_time": "2023-02-19T17:33:57.976Z"
   },
   {
    "duration": 24,
    "start_time": "2023-02-19T17:33:58.005Z"
   },
   {
    "duration": 49,
    "start_time": "2023-02-19T17:33:58.034Z"
   },
   {
    "duration": 61,
    "start_time": "2023-02-19T17:33:58.085Z"
   },
   {
    "duration": 16,
    "start_time": "2023-02-19T17:33:58.148Z"
   },
   {
    "duration": 4,
    "start_time": "2023-02-19T17:33:58.166Z"
   },
   {
    "duration": 61,
    "start_time": "2023-02-19T17:33:58.173Z"
   },
   {
    "duration": 4,
    "start_time": "2023-02-19T17:33:58.237Z"
   },
   {
    "duration": 35,
    "start_time": "2023-02-19T17:33:58.243Z"
   },
   {
    "duration": 52,
    "start_time": "2023-02-19T17:33:58.280Z"
   },
   {
    "duration": 9,
    "start_time": "2023-02-19T17:33:58.334Z"
   },
   {
    "duration": 5,
    "start_time": "2023-02-19T17:33:58.345Z"
   },
   {
    "duration": 1508,
    "start_time": "2023-02-19T17:33:58.352Z"
   },
   {
    "duration": 5,
    "start_time": "2023-02-19T17:33:59.862Z"
   },
   {
    "duration": 161,
    "start_time": "2023-02-19T17:33:59.869Z"
   },
   {
    "duration": 10,
    "start_time": "2023-02-19T17:34:00.032Z"
   },
   {
    "duration": 15,
    "start_time": "2023-02-19T17:34:00.044Z"
   },
   {
    "duration": 12,
    "start_time": "2023-02-19T17:34:00.062Z"
   },
   {
    "duration": 13,
    "start_time": "2023-02-19T17:34:00.076Z"
   },
   {
    "duration": 45,
    "start_time": "2023-02-19T17:34:00.091Z"
   },
   {
    "duration": 20,
    "start_time": "2023-02-19T17:34:00.141Z"
   },
   {
    "duration": 13,
    "start_time": "2023-02-19T17:34:00.163Z"
   },
   {
    "duration": 21,
    "start_time": "2023-02-19T17:34:00.178Z"
   },
   {
    "duration": 834,
    "start_time": "2023-02-19T17:34:00.201Z"
   },
   {
    "duration": 380,
    "start_time": "2023-02-19T17:34:01.036Z"
   },
   {
    "duration": 15,
    "start_time": "2023-02-19T17:34:01.418Z"
   },
   {
    "duration": 20,
    "start_time": "2023-02-19T17:34:01.435Z"
   },
   {
    "duration": 13,
    "start_time": "2023-02-19T17:34:01.457Z"
   },
   {
    "duration": 390,
    "start_time": "2023-02-19T17:34:01.473Z"
   },
   {
    "duration": 16,
    "start_time": "2023-02-19T17:34:01.865Z"
   },
   {
    "duration": 66,
    "start_time": "2023-02-19T17:34:01.883Z"
   },
   {
    "duration": 6,
    "start_time": "2023-02-19T17:34:01.956Z"
   },
   {
    "duration": 47,
    "start_time": "2023-02-19T17:34:01.964Z"
   },
   {
    "duration": 334,
    "start_time": "2023-02-19T17:34:02.013Z"
   },
   {
    "duration": 132,
    "start_time": "2023-02-19T17:34:02.350Z"
   },
   {
    "duration": 8,
    "start_time": "2023-02-19T17:34:02.484Z"
   },
   {
    "duration": 11,
    "start_time": "2023-02-19T17:34:02.494Z"
   },
   {
    "duration": 58,
    "start_time": "2023-02-19T17:34:02.507Z"
   },
   {
    "duration": 385,
    "start_time": "2023-02-19T17:34:02.568Z"
   },
   {
    "duration": 143,
    "start_time": "2023-02-19T17:34:02.956Z"
   },
   {
    "duration": 7,
    "start_time": "2023-02-19T17:34:03.101Z"
   },
   {
    "duration": 19,
    "start_time": "2023-02-19T17:34:03.110Z"
   },
   {
    "duration": 6,
    "start_time": "2023-02-19T17:34:03.131Z"
   },
   {
    "duration": 9,
    "start_time": "2023-02-19T17:34:03.139Z"
   },
   {
    "duration": 43,
    "start_time": "2023-02-19T17:34:03.150Z"
   },
   {
    "duration": 37,
    "start_time": "2023-02-19T17:34:03.196Z"
   },
   {
    "duration": 135,
    "start_time": "2023-02-19T17:34:03.235Z"
   },
   {
    "duration": 167,
    "start_time": "2023-02-19T17:34:03.372Z"
   },
   {
    "duration": 11,
    "start_time": "2023-02-19T17:34:03.542Z"
   },
   {
    "duration": 11,
    "start_time": "2023-02-19T17:34:03.555Z"
   },
   {
    "duration": 6,
    "start_time": "2023-02-19T17:34:03.568Z"
   },
   {
    "duration": 16,
    "start_time": "2023-02-19T17:34:03.576Z"
   },
   {
    "duration": 36,
    "start_time": "2023-02-19T17:34:03.594Z"
   },
   {
    "duration": 16,
    "start_time": "2023-02-19T17:34:03.632Z"
   },
   {
    "duration": 25,
    "start_time": "2023-02-19T17:34:03.650Z"
   },
   {
    "duration": 19,
    "start_time": "2023-02-19T17:34:03.676Z"
   },
   {
    "duration": 30,
    "start_time": "2023-02-19T17:34:03.697Z"
   },
   {
    "duration": 11,
    "start_time": "2023-02-19T17:34:03.729Z"
   },
   {
    "duration": 47,
    "start_time": "2023-02-19T17:34:03.742Z"
   },
   {
    "duration": 74,
    "start_time": "2023-02-19T17:34:03.791Z"
   },
   {
    "duration": 12,
    "start_time": "2023-02-19T17:34:03.867Z"
   },
   {
    "duration": 10,
    "start_time": "2023-02-19T17:34:03.881Z"
   },
   {
    "duration": 1295,
    "start_time": "2023-02-20T07:28:47.479Z"
   },
   {
    "duration": 100,
    "start_time": "2023-02-20T07:28:48.776Z"
   },
   {
    "duration": 43,
    "start_time": "2023-02-20T07:28:48.878Z"
   },
   {
    "duration": 29,
    "start_time": "2023-02-20T07:28:48.924Z"
   },
   {
    "duration": 14,
    "start_time": "2023-02-20T07:28:48.955Z"
   },
   {
    "duration": 26,
    "start_time": "2023-02-20T07:28:48.971Z"
   },
   {
    "duration": 52,
    "start_time": "2023-02-20T07:28:48.999Z"
   },
   {
    "duration": 44,
    "start_time": "2023-02-20T07:28:49.059Z"
   },
   {
    "duration": 4,
    "start_time": "2023-02-20T07:28:49.105Z"
   },
   {
    "duration": 51,
    "start_time": "2023-02-20T07:28:49.112Z"
   },
   {
    "duration": 43,
    "start_time": "2023-02-20T07:28:49.166Z"
   },
   {
    "duration": 26,
    "start_time": "2023-02-20T07:28:49.211Z"
   },
   {
    "duration": 29,
    "start_time": "2023-02-20T07:28:49.248Z"
   },
   {
    "duration": 42,
    "start_time": "2023-02-20T07:28:49.279Z"
   },
   {
    "duration": 12,
    "start_time": "2023-02-20T07:28:49.324Z"
   },
   {
    "duration": 63,
    "start_time": "2023-02-20T07:28:49.351Z"
   },
   {
    "duration": 47,
    "start_time": "2023-02-20T07:28:49.417Z"
   },
   {
    "duration": 11,
    "start_time": "2023-02-20T07:28:49.466Z"
   },
   {
    "duration": 5,
    "start_time": "2023-02-20T07:28:49.479Z"
   },
   {
    "duration": 1827,
    "start_time": "2023-02-20T07:28:49.485Z"
   },
   {
    "duration": 4,
    "start_time": "2023-02-20T07:28:51.314Z"
   },
   {
    "duration": 217,
    "start_time": "2023-02-20T07:28:51.327Z"
   },
   {
    "duration": 9,
    "start_time": "2023-02-20T07:28:51.551Z"
   },
   {
    "duration": 16,
    "start_time": "2023-02-20T07:28:51.562Z"
   },
   {
    "duration": 58,
    "start_time": "2023-02-20T07:28:51.580Z"
   },
   {
    "duration": 18,
    "start_time": "2023-02-20T07:28:51.644Z"
   },
   {
    "duration": 71,
    "start_time": "2023-02-20T07:28:51.663Z"
   },
   {
    "duration": 28,
    "start_time": "2023-02-20T07:28:51.741Z"
   },
   {
    "duration": 8,
    "start_time": "2023-02-20T07:28:51.771Z"
   },
   {
    "duration": 81,
    "start_time": "2023-02-20T07:28:51.781Z"
   },
   {
    "duration": 2341,
    "start_time": "2023-02-20T07:28:51.864Z"
   },
   {
    "duration": 435,
    "start_time": "2023-02-20T07:28:54.207Z"
   },
   {
    "duration": 12,
    "start_time": "2023-02-20T07:28:54.644Z"
   },
   {
    "duration": 28,
    "start_time": "2023-02-20T07:28:54.658Z"
   },
   {
    "duration": 20,
    "start_time": "2023-02-20T07:28:54.688Z"
   },
   {
    "duration": 516,
    "start_time": "2023-02-20T07:28:54.710Z"
   },
   {
    "duration": 33,
    "start_time": "2023-02-20T07:28:55.235Z"
   },
   {
    "duration": 28,
    "start_time": "2023-02-20T07:28:55.270Z"
   },
   {
    "duration": 16,
    "start_time": "2023-02-20T07:28:55.328Z"
   },
   {
    "duration": 47,
    "start_time": "2023-02-20T07:28:55.347Z"
   },
   {
    "duration": 326,
    "start_time": "2023-02-20T07:28:55.396Z"
   },
   {
    "duration": 134,
    "start_time": "2023-02-20T07:28:55.727Z"
   },
   {
    "duration": 9,
    "start_time": "2023-02-20T07:28:55.863Z"
   },
   {
    "duration": 9,
    "start_time": "2023-02-20T07:28:55.874Z"
   },
   {
    "duration": 45,
    "start_time": "2023-02-20T07:28:55.885Z"
   },
   {
    "duration": 338,
    "start_time": "2023-02-20T07:28:55.933Z"
   },
   {
    "duration": 173,
    "start_time": "2023-02-20T07:28:56.273Z"
   },
   {
    "duration": 17,
    "start_time": "2023-02-20T07:28:56.452Z"
   },
   {
    "duration": 11,
    "start_time": "2023-02-20T07:28:56.473Z"
   },
   {
    "duration": 9,
    "start_time": "2023-02-20T07:28:56.486Z"
   },
   {
    "duration": 13,
    "start_time": "2023-02-20T07:28:56.497Z"
   },
   {
    "duration": 85,
    "start_time": "2023-02-20T07:28:56.513Z"
   },
   {
    "duration": 9,
    "start_time": "2023-02-20T07:28:56.600Z"
   },
   {
    "duration": 153,
    "start_time": "2023-02-20T07:28:56.611Z"
   },
   {
    "duration": 144,
    "start_time": "2023-02-20T07:28:56.766Z"
   },
   {
    "duration": 30,
    "start_time": "2023-02-20T07:28:56.912Z"
   },
   {
    "duration": 18,
    "start_time": "2023-02-20T07:28:56.948Z"
   },
   {
    "duration": 8,
    "start_time": "2023-02-20T07:28:56.968Z"
   },
   {
    "duration": 13,
    "start_time": "2023-02-20T07:28:56.979Z"
   },
   {
    "duration": 13,
    "start_time": "2023-02-20T07:28:56.994Z"
   },
   {
    "duration": 14,
    "start_time": "2023-02-20T07:28:57.009Z"
   },
   {
    "duration": 24,
    "start_time": "2023-02-20T07:28:57.025Z"
   },
   {
    "duration": 17,
    "start_time": "2023-02-20T07:28:57.056Z"
   },
   {
    "duration": 19,
    "start_time": "2023-02-20T07:28:57.075Z"
   },
   {
    "duration": 17,
    "start_time": "2023-02-20T07:28:57.096Z"
   },
   {
    "duration": 10,
    "start_time": "2023-02-20T07:28:57.115Z"
   },
   {
    "duration": 87,
    "start_time": "2023-02-20T07:28:57.127Z"
   },
   {
    "duration": 15,
    "start_time": "2023-02-20T07:28:57.216Z"
   },
   {
    "duration": 38,
    "start_time": "2023-02-20T07:28:57.233Z"
   },
   {
    "duration": 1377,
    "start_time": "2023-02-20T07:31:37.899Z"
   },
   {
    "duration": 105,
    "start_time": "2023-02-20T07:31:39.278Z"
   },
   {
    "duration": 37,
    "start_time": "2023-02-20T07:31:39.385Z"
   },
   {
    "duration": 34,
    "start_time": "2023-02-20T07:31:39.424Z"
   },
   {
    "duration": 30,
    "start_time": "2023-02-20T07:31:39.462Z"
   },
   {
    "duration": 84,
    "start_time": "2023-02-20T07:31:39.494Z"
   },
   {
    "duration": 34,
    "start_time": "2023-02-20T07:31:39.580Z"
   },
   {
    "duration": 38,
    "start_time": "2023-02-20T07:31:39.616Z"
   },
   {
    "duration": 25,
    "start_time": "2023-02-20T07:31:39.656Z"
   },
   {
    "duration": 59,
    "start_time": "2023-02-20T07:31:39.683Z"
   },
   {
    "duration": 46,
    "start_time": "2023-02-20T07:31:39.744Z"
   },
   {
    "duration": 15,
    "start_time": "2023-02-20T07:31:39.792Z"
   },
   {
    "duration": 9,
    "start_time": "2023-02-20T07:31:39.809Z"
   },
   {
    "duration": 63,
    "start_time": "2023-02-20T07:31:39.829Z"
   },
   {
    "duration": 4,
    "start_time": "2023-02-20T07:31:39.894Z"
   },
   {
    "duration": 57,
    "start_time": "2023-02-20T07:31:39.899Z"
   },
   {
    "duration": 65,
    "start_time": "2023-02-20T07:31:39.959Z"
   },
   {
    "duration": 21,
    "start_time": "2023-02-20T07:31:40.025Z"
   },
   {
    "duration": 29,
    "start_time": "2023-02-20T07:31:40.051Z"
   },
   {
    "duration": 1796,
    "start_time": "2023-02-20T07:31:40.082Z"
   },
   {
    "duration": 4,
    "start_time": "2023-02-20T07:31:41.880Z"
   },
   {
    "duration": 175,
    "start_time": "2023-02-20T07:31:41.886Z"
   },
   {
    "duration": 9,
    "start_time": "2023-02-20T07:31:42.063Z"
   },
   {
    "duration": 27,
    "start_time": "2023-02-20T07:31:42.073Z"
   },
   {
    "duration": 57,
    "start_time": "2023-02-20T07:31:42.102Z"
   },
   {
    "duration": 25,
    "start_time": "2023-02-20T07:31:42.161Z"
   },
   {
    "duration": 24,
    "start_time": "2023-02-20T07:31:42.188Z"
   },
   {
    "duration": 20,
    "start_time": "2023-02-20T07:31:42.214Z"
   },
   {
    "duration": 32,
    "start_time": "2023-02-20T07:31:42.238Z"
   },
   {
    "duration": 19,
    "start_time": "2023-02-20T07:31:42.273Z"
   },
   {
    "duration": 1000,
    "start_time": "2023-02-20T07:31:42.294Z"
   },
   {
    "duration": 131,
    "start_time": "2023-02-20T07:31:43.296Z"
   },
   {
    "duration": 18,
    "start_time": "2023-02-20T07:31:43.428Z"
   },
   {
    "duration": 20,
    "start_time": "2023-02-20T07:31:43.451Z"
   },
   {
    "duration": 13,
    "start_time": "2023-02-20T07:31:43.473Z"
   },
   {
    "duration": 458,
    "start_time": "2023-02-20T07:31:43.488Z"
   },
   {
    "duration": 27,
    "start_time": "2023-02-20T07:31:43.947Z"
   },
   {
    "duration": 37,
    "start_time": "2023-02-20T07:31:43.976Z"
   },
   {
    "duration": 6,
    "start_time": "2023-02-20T07:31:44.015Z"
   },
   {
    "duration": 52,
    "start_time": "2023-02-20T07:31:44.023Z"
   },
   {
    "duration": 326,
    "start_time": "2023-02-20T07:31:44.079Z"
   },
   {
    "duration": 140,
    "start_time": "2023-02-20T07:31:44.407Z"
   },
   {
    "duration": 12,
    "start_time": "2023-02-20T07:31:44.548Z"
   },
   {
    "duration": 14,
    "start_time": "2023-02-20T07:31:44.562Z"
   },
   {
    "duration": 30,
    "start_time": "2023-02-20T07:31:44.578Z"
   },
   {
    "duration": 24,
    "start_time": "2023-02-20T07:31:44.610Z"
   },
   {
    "duration": 323,
    "start_time": "2023-02-20T07:31:44.637Z"
   },
   {
    "duration": 146,
    "start_time": "2023-02-20T07:31:44.963Z"
   },
   {
    "duration": 6,
    "start_time": "2023-02-20T07:31:45.111Z"
   },
   {
    "duration": 50,
    "start_time": "2023-02-20T07:31:45.119Z"
   },
   {
    "duration": 12,
    "start_time": "2023-02-20T07:31:45.171Z"
   },
   {
    "duration": 13,
    "start_time": "2023-02-20T07:31:45.184Z"
   },
   {
    "duration": 63,
    "start_time": "2023-02-20T07:31:45.199Z"
   },
   {
    "duration": 12,
    "start_time": "2023-02-20T07:31:45.264Z"
   },
   {
    "duration": 138,
    "start_time": "2023-02-20T07:31:45.278Z"
   },
   {
    "duration": 155,
    "start_time": "2023-02-20T07:31:45.418Z"
   },
   {
    "duration": 9,
    "start_time": "2023-02-20T07:31:45.575Z"
   },
   {
    "duration": 7,
    "start_time": "2023-02-20T07:31:45.586Z"
   },
   {
    "duration": 10,
    "start_time": "2023-02-20T07:31:45.595Z"
   },
   {
    "duration": 57,
    "start_time": "2023-02-20T07:31:45.607Z"
   },
   {
    "duration": 25,
    "start_time": "2023-02-20T07:31:45.666Z"
   },
   {
    "duration": 19,
    "start_time": "2023-02-20T07:31:45.694Z"
   },
   {
    "duration": 53,
    "start_time": "2023-02-20T07:31:45.715Z"
   },
   {
    "duration": 16,
    "start_time": "2023-02-20T07:31:45.771Z"
   },
   {
    "duration": 35,
    "start_time": "2023-02-20T07:31:45.789Z"
   },
   {
    "duration": 28,
    "start_time": "2023-02-20T07:31:45.826Z"
   },
   {
    "duration": 11,
    "start_time": "2023-02-20T07:31:45.859Z"
   },
   {
    "duration": 80,
    "start_time": "2023-02-20T07:31:45.872Z"
   },
   {
    "duration": 27,
    "start_time": "2023-02-20T07:31:45.954Z"
   },
   {
    "duration": 88,
    "start_time": "2023-02-20T07:31:45.982Z"
   },
   {
    "duration": 1432,
    "start_time": "2023-02-20T07:35:18.962Z"
   },
   {
    "duration": 113,
    "start_time": "2023-02-20T07:35:20.397Z"
   },
   {
    "duration": 54,
    "start_time": "2023-02-20T07:35:20.512Z"
   },
   {
    "duration": 77,
    "start_time": "2023-02-20T07:35:20.568Z"
   },
   {
    "duration": 44,
    "start_time": "2023-02-20T07:35:20.647Z"
   },
   {
    "duration": 66,
    "start_time": "2023-02-20T07:35:20.694Z"
   },
   {
    "duration": 97,
    "start_time": "2023-02-20T07:35:20.762Z"
   },
   {
    "duration": 81,
    "start_time": "2023-02-20T07:35:20.861Z"
   },
   {
    "duration": 10,
    "start_time": "2023-02-20T07:35:20.950Z"
   },
   {
    "duration": 103,
    "start_time": "2023-02-20T07:35:20.964Z"
   },
   {
    "duration": 92,
    "start_time": "2023-02-20T07:35:21.069Z"
   },
   {
    "duration": 72,
    "start_time": "2023-02-20T07:35:21.163Z"
   },
   {
    "duration": 10,
    "start_time": "2023-02-20T07:35:21.237Z"
   },
   {
    "duration": 105,
    "start_time": "2023-02-20T07:35:21.249Z"
   },
   {
    "duration": 4,
    "start_time": "2023-02-20T07:35:21.356Z"
   },
   {
    "duration": 92,
    "start_time": "2023-02-20T07:35:21.363Z"
   },
   {
    "duration": 117,
    "start_time": "2023-02-20T07:35:21.458Z"
   },
   {
    "duration": 70,
    "start_time": "2023-02-20T07:35:21.576Z"
   },
   {
    "duration": 12,
    "start_time": "2023-02-20T07:35:21.648Z"
   },
   {
    "duration": 2431,
    "start_time": "2023-02-20T07:35:21.664Z"
   },
   {
    "duration": 3,
    "start_time": "2023-02-20T07:35:24.098Z"
   },
   {
    "duration": 158,
    "start_time": "2023-02-20T07:35:24.103Z"
   },
   {
    "duration": 11,
    "start_time": "2023-02-20T07:35:24.264Z"
   },
   {
    "duration": 11,
    "start_time": "2023-02-20T07:35:24.277Z"
   },
   {
    "duration": 9,
    "start_time": "2023-02-20T07:35:24.291Z"
   },
   {
    "duration": 44,
    "start_time": "2023-02-20T07:35:24.301Z"
   },
   {
    "duration": 15,
    "start_time": "2023-02-20T07:35:24.346Z"
   },
   {
    "duration": 9,
    "start_time": "2023-02-20T07:35:24.365Z"
   },
   {
    "duration": 10,
    "start_time": "2023-02-20T07:35:24.375Z"
   },
   {
    "duration": 11,
    "start_time": "2023-02-20T07:35:24.387Z"
   },
   {
    "duration": 897,
    "start_time": "2023-02-20T07:35:24.400Z"
   },
   {
    "duration": 345,
    "start_time": "2023-02-20T07:35:25.299Z"
   },
   {
    "duration": 12,
    "start_time": "2023-02-20T07:35:25.646Z"
   },
   {
    "duration": 20,
    "start_time": "2023-02-20T07:35:25.660Z"
   },
   {
    "duration": 16,
    "start_time": "2023-02-20T07:35:25.682Z"
   },
   {
    "duration": 455,
    "start_time": "2023-02-20T07:35:25.700Z"
   },
   {
    "duration": 16,
    "start_time": "2023-02-20T07:35:26.159Z"
   },
   {
    "duration": 19,
    "start_time": "2023-02-20T07:35:26.177Z"
   },
   {
    "duration": 6,
    "start_time": "2023-02-20T07:35:26.198Z"
   },
   {
    "duration": 31,
    "start_time": "2023-02-20T07:35:26.206Z"
   },
   {
    "duration": 365,
    "start_time": "2023-02-20T07:35:26.246Z"
   },
   {
    "duration": 147,
    "start_time": "2023-02-20T07:35:26.612Z"
   },
   {
    "duration": 9,
    "start_time": "2023-02-20T07:35:26.763Z"
   },
   {
    "duration": 11,
    "start_time": "2023-02-20T07:35:26.774Z"
   },
   {
    "duration": 55,
    "start_time": "2023-02-20T07:35:26.787Z"
   },
   {
    "duration": 337,
    "start_time": "2023-02-20T07:35:26.844Z"
   },
   {
    "duration": 148,
    "start_time": "2023-02-20T07:35:27.183Z"
   },
   {
    "duration": 17,
    "start_time": "2023-02-20T07:35:27.335Z"
   },
   {
    "duration": 20,
    "start_time": "2023-02-20T07:35:27.356Z"
   },
   {
    "duration": 5,
    "start_time": "2023-02-20T07:35:27.378Z"
   },
   {
    "duration": 12,
    "start_time": "2023-02-20T07:35:27.385Z"
   },
   {
    "duration": 57,
    "start_time": "2023-02-20T07:35:27.399Z"
   },
   {
    "duration": 11,
    "start_time": "2023-02-20T07:35:27.459Z"
   },
   {
    "duration": 144,
    "start_time": "2023-02-20T07:35:27.472Z"
   },
   {
    "duration": 156,
    "start_time": "2023-02-20T07:35:27.618Z"
   },
   {
    "duration": 9,
    "start_time": "2023-02-20T07:35:27.776Z"
   },
   {
    "duration": 14,
    "start_time": "2023-02-20T07:35:27.786Z"
   },
   {
    "duration": 6,
    "start_time": "2023-02-20T07:35:27.802Z"
   },
   {
    "duration": 28,
    "start_time": "2023-02-20T07:35:27.810Z"
   },
   {
    "duration": 33,
    "start_time": "2023-02-20T07:35:27.840Z"
   },
   {
    "duration": 19,
    "start_time": "2023-02-20T07:35:27.876Z"
   },
   {
    "duration": 10,
    "start_time": "2023-02-20T07:35:27.897Z"
   },
   {
    "duration": 10,
    "start_time": "2023-02-20T07:35:27.908Z"
   },
   {
    "duration": 50,
    "start_time": "2023-02-20T07:35:27.920Z"
   },
   {
    "duration": 11,
    "start_time": "2023-02-20T07:35:27.971Z"
   },
   {
    "duration": 16,
    "start_time": "2023-02-20T07:35:27.984Z"
   },
   {
    "duration": 67,
    "start_time": "2023-02-20T07:35:28.002Z"
   },
   {
    "duration": 11,
    "start_time": "2023-02-20T07:35:28.071Z"
   },
   {
    "duration": 12,
    "start_time": "2023-02-20T07:35:28.085Z"
   },
   {
    "duration": 7,
    "start_time": "2023-02-20T07:40:54.606Z"
   },
   {
    "duration": 4,
    "start_time": "2023-02-20T07:40:58.757Z"
   },
   {
    "duration": 29,
    "start_time": "2023-02-20T07:52:57.288Z"
   },
   {
    "duration": 48,
    "start_time": "2023-02-20T07:53:08.021Z"
   },
   {
    "duration": 25,
    "start_time": "2023-02-20T07:53:32.587Z"
   },
   {
    "duration": 1727,
    "start_time": "2023-02-20T08:04:34.196Z"
   },
   {
    "duration": 481,
    "start_time": "2023-02-20T08:04:55.284Z"
   },
   {
    "duration": 263,
    "start_time": "2023-02-20T08:05:22.487Z"
   },
   {
    "duration": 291,
    "start_time": "2023-02-20T08:06:16.382Z"
   },
   {
    "duration": 9,
    "start_time": "2023-02-20T08:06:38.798Z"
   },
   {
    "duration": 1874,
    "start_time": "2023-02-20T08:06:53.604Z"
   },
   {
    "duration": 106,
    "start_time": "2023-02-20T08:06:55.480Z"
   },
   {
    "duration": 29,
    "start_time": "2023-02-20T08:06:55.587Z"
   },
   {
    "duration": 44,
    "start_time": "2023-02-20T08:06:55.619Z"
   },
   {
    "duration": 13,
    "start_time": "2023-02-20T08:06:55.665Z"
   },
   {
    "duration": 24,
    "start_time": "2023-02-20T08:06:55.680Z"
   },
   {
    "duration": 36,
    "start_time": "2023-02-20T08:06:55.706Z"
   },
   {
    "duration": 37,
    "start_time": "2023-02-20T08:06:55.743Z"
   },
   {
    "duration": 3,
    "start_time": "2023-02-20T08:06:55.782Z"
   },
   {
    "duration": 60,
    "start_time": "2023-02-20T08:06:55.789Z"
   },
   {
    "duration": 41,
    "start_time": "2023-02-20T08:06:55.866Z"
   },
   {
    "duration": 44,
    "start_time": "2023-02-20T08:06:55.909Z"
   },
   {
    "duration": 26,
    "start_time": "2023-02-20T08:06:55.955Z"
   },
   {
    "duration": 37,
    "start_time": "2023-02-20T08:06:55.983Z"
   },
   {
    "duration": 3,
    "start_time": "2023-02-20T08:06:56.022Z"
   },
   {
    "duration": 79,
    "start_time": "2023-02-20T08:06:56.026Z"
   },
   {
    "duration": 56,
    "start_time": "2023-02-20T08:06:56.107Z"
   },
   {
    "duration": 14,
    "start_time": "2023-02-20T08:06:56.165Z"
   },
   {
    "duration": 4,
    "start_time": "2023-02-20T08:06:56.180Z"
   },
   {
    "duration": 1981,
    "start_time": "2023-02-20T08:06:56.185Z"
   },
   {
    "duration": 9,
    "start_time": "2023-02-20T08:06:58.169Z"
   },
   {
    "duration": 165,
    "start_time": "2023-02-20T08:06:58.180Z"
   },
   {
    "duration": 13,
    "start_time": "2023-02-20T08:06:58.355Z"
   },
   {
    "duration": 10,
    "start_time": "2023-02-20T08:06:58.369Z"
   },
   {
    "duration": 11,
    "start_time": "2023-02-20T08:06:58.381Z"
   },
   {
    "duration": 9,
    "start_time": "2023-02-20T08:06:58.394Z"
   },
   {
    "duration": 8,
    "start_time": "2023-02-20T08:06:58.405Z"
   },
   {
    "duration": 15,
    "start_time": "2023-02-20T08:06:58.417Z"
   },
   {
    "duration": 8,
    "start_time": "2023-02-20T08:06:58.433Z"
   },
   {
    "duration": 41,
    "start_time": "2023-02-20T08:06:58.443Z"
   },
   {
    "duration": 926,
    "start_time": "2023-02-20T08:06:58.485Z"
   },
   {
    "duration": 320,
    "start_time": "2023-02-20T08:06:59.413Z"
   },
   {
    "duration": 10,
    "start_time": "2023-02-20T08:06:59.740Z"
   },
   {
    "duration": 45,
    "start_time": "2023-02-20T08:06:59.752Z"
   },
   {
    "duration": 15,
    "start_time": "2023-02-20T08:06:59.799Z"
   },
   {
    "duration": 572,
    "start_time": "2023-02-20T08:06:59.816Z"
   },
   {
    "duration": 18,
    "start_time": "2023-02-20T08:07:00.390Z"
   },
   {
    "duration": 101,
    "start_time": "2023-02-20T08:07:00.410Z"
   },
   {
    "duration": 99,
    "start_time": "2023-02-20T08:07:00.513Z"
   },
   {
    "duration": 142,
    "start_time": "2023-02-20T08:07:00.615Z"
   },
   {
    "duration": 432,
    "start_time": "2023-02-20T08:07:00.769Z"
   },
   {
    "duration": 157,
    "start_time": "2023-02-20T08:07:01.203Z"
   },
   {
    "duration": 11,
    "start_time": "2023-02-20T08:07:01.363Z"
   },
   {
    "duration": 32,
    "start_time": "2023-02-20T08:07:01.375Z"
   },
   {
    "duration": 82,
    "start_time": "2023-02-20T08:07:01.409Z"
   },
   {
    "duration": 353,
    "start_time": "2023-02-20T08:07:01.493Z"
   },
   {
    "duration": 145,
    "start_time": "2023-02-20T08:07:01.848Z"
   },
   {
    "duration": 6,
    "start_time": "2023-02-20T08:07:01.995Z"
   },
   {
    "duration": 26,
    "start_time": "2023-02-20T08:07:02.002Z"
   },
   {
    "duration": 31,
    "start_time": "2023-02-20T08:07:02.032Z"
   },
   {
    "duration": 23,
    "start_time": "2023-02-20T08:07:02.064Z"
   },
   {
    "duration": 75,
    "start_time": "2023-02-20T08:07:02.088Z"
   },
   {
    "duration": 25,
    "start_time": "2023-02-20T08:07:02.164Z"
   },
   {
    "duration": 165,
    "start_time": "2023-02-20T08:07:02.190Z"
   },
   {
    "duration": 145,
    "start_time": "2023-02-20T08:07:02.362Z"
   },
   {
    "duration": 8,
    "start_time": "2023-02-20T08:07:02.509Z"
   },
   {
    "duration": 61,
    "start_time": "2023-02-20T08:07:02.527Z"
   },
   {
    "duration": 21,
    "start_time": "2023-02-20T08:07:02.590Z"
   },
   {
    "duration": 25,
    "start_time": "2023-02-20T08:07:02.612Z"
   },
   {
    "duration": 19,
    "start_time": "2023-02-20T08:07:02.639Z"
   },
   {
    "duration": 110,
    "start_time": "2023-02-20T08:07:02.660Z"
   },
   {
    "duration": 292,
    "start_time": "2023-02-20T08:07:02.772Z"
   },
   {
    "duration": 286,
    "start_time": "2023-02-20T08:07:03.065Z"
   },
   {
    "duration": 17,
    "start_time": "2023-02-20T08:07:03.353Z"
   },
   {
    "duration": 44,
    "start_time": "2023-02-20T08:07:03.372Z"
   },
   {
    "duration": 70,
    "start_time": "2023-02-20T08:07:03.418Z"
   },
   {
    "duration": 30,
    "start_time": "2023-02-20T08:07:03.490Z"
   },
   {
    "duration": 87,
    "start_time": "2023-02-20T08:07:03.522Z"
   },
   {
    "duration": 243,
    "start_time": "2023-02-20T08:07:03.611Z"
   },
   {
    "duration": 38,
    "start_time": "2023-02-20T08:07:03.856Z"
   },
   {
    "duration": 70,
    "start_time": "2023-02-20T08:07:03.896Z"
   },
   {
    "duration": 104,
    "start_time": "2023-02-21T05:21:42.917Z"
   }
  ],
  "kernelspec": {
   "display_name": "Python 3 (ipykernel)",
   "language": "python",
   "name": "python3"
  },
  "language_info": {
   "codemirror_mode": {
    "name": "ipython",
    "version": 3
   },
   "file_extension": ".py",
   "mimetype": "text/x-python",
   "name": "python",
   "nbconvert_exporter": "python",
   "pygments_lexer": "ipython3",
   "version": "3.9.5"
  },
  "toc": {
   "base_numbering": 1,
   "nav_menu": {},
   "number_sections": true,
   "sideBar": true,
   "skip_h1_title": true,
   "title_cell": "Содержание",
   "title_sidebar": "Содержание",
   "toc_cell": true,
   "toc_position": {},
   "toc_section_display": true,
   "toc_window_display": true
  }
 },
 "nbformat": 4,
 "nbformat_minor": 2
}
