{
 "cells": [
  {
   "cell_type": "markdown",
   "metadata": {
    "toc": true
   },
   "source": [
    "<h1>Содержание<span class=\"tocSkip\"></span></h1>\n",
    "<div class=\"toc\"><ul class=\"toc-item\"><li><span><a href=\"#Изучение-данных\" data-toc-modified-id=\"Изучение-данных-1\"><span class=\"toc-item-num\">1&nbsp;&nbsp;</span>Изучение данных</a></span></li><li><span><a href=\"#Предобработка-данных\" data-toc-modified-id=\"Предобработка-данных-2\"><span class=\"toc-item-num\">2&nbsp;&nbsp;</span>Предобработка данных</a></span></li><li><span><a href=\"#Подготовка-расчетных-данных\" data-toc-modified-id=\"Подготовка-расчетных-данных-3\"><span class=\"toc-item-num\">3&nbsp;&nbsp;</span>Подготовка расчетных данных</a></span></li><li><span><a href=\"#Анализ-данных\" data-toc-modified-id=\"Анализ-данных-4\"><span class=\"toc-item-num\">4&nbsp;&nbsp;</span>Анализ данных</a></span></li><li><span><a href=\"#Проверка-гипотез\" data-toc-modified-id=\"Проверка-гипотез-5\"><span class=\"toc-item-num\">5&nbsp;&nbsp;</span>Проверка гипотез</a></span></li><li><span><a href=\"#Выводы\" data-toc-modified-id=\"Выводы-6\"><span class=\"toc-item-num\">6&nbsp;&nbsp;</span>Выводы</a></span></li></ul></div>"
   ]
  },
  {
   "cell_type": "markdown",
   "metadata": {},
   "source": [
    "# Описание проекта"
   ]
  },
  {
   "cell_type": "markdown",
   "metadata": {},
   "source": [
    "В компании «Мегалайн» клиентам предлагают два тарифных плана: «Смарт» и «Ультра». Чтобы скорректировать рекламный бюджет, коммерческий департамент хочет понять, какой тариф приносит больше денег. Для этого нужно проанализировать поведение клиентов и сделать вывод — какой тариф лучше.\n",
    "\n",
    "**Тариф «Смарт»**\n",
    "- Ежемесячная плата: 550 рублей\n",
    "- Включено:\n",
    " + 500 минут разговора \n",
    " + 50 сообщений \n",
    " + 15 Гб интернет-трафика\n",
    "- Стоимость услуг сверх тарифного пакета:\n",
    " + минута разговора: 3 рубля\n",
    " + сообщение: 3 рубля\n",
    " + 1 Гб интернет-трафика: 200 рублей\n",
    "\n",
    " \n",
    "**Тариф «Ультра»**\n",
    "- Ежемесячная плата: 1950 рублей\n",
    "- Включено:\n",
    " + 3000 минут разговора\n",
    " + 1000 сообщений\n",
    " + 30 Гб интернет-трафика\n",
    "- Стоимость услуг сверх тарифного пакета:\n",
    " + минута разговора: 1 рубль\n",
    " + сообщение: 1 рубль\n",
    " + 1 Гб интернет-трафика: 150 рублей"
   ]
  },
  {
   "cell_type": "markdown",
   "metadata": {},
   "source": [
    "## Изучение данных"
   ]
  },
  {
   "cell_type": "code",
   "execution_count": 1,
   "metadata": {},
   "outputs": [],
   "source": [
    "import pandas as pd\n",
    "import numpy as np\n",
    "import datetime\n",
    "import matplotlib.pyplot as plt\n",
    "import scipy.stats as st"
   ]
  },
  {
   "cell_type": "markdown",
   "metadata": {},
   "source": [
    "Есть данные 500 пользователей «Мегалайна», в наличии несколько файлов:"
   ]
  },
  {
   "cell_type": "code",
   "execution_count": 2,
   "metadata": {},
   "outputs": [],
   "source": [
    "calls = pd.read_csv('/datasets/calls.csv')\n",
    "internet = pd.read_csv('/datasets/internet.csv')\n",
    "messages = pd.read_csv('/datasets/messages.csv')\n",
    "tariffs = pd.read_csv('/datasets/tariffs.csv')\n",
    "users = pd.read_csv('/datasets/users.csv')"
   ]
  },
  {
   "cell_type": "code",
   "execution_count": 3,
   "metadata": {},
   "outputs": [
    {
     "name": "stdout",
     "output_type": "stream",
     "text": [
      "<class 'pandas.core.frame.DataFrame'>\n",
      "RangeIndex: 202607 entries, 0 to 202606\n",
      "Data columns (total 4 columns):\n",
      " #   Column     Non-Null Count   Dtype  \n",
      "---  ------     --------------   -----  \n",
      " 0   id         202607 non-null  object \n",
      " 1   call_date  202607 non-null  object \n",
      " 2   duration   202607 non-null  float64\n",
      " 3   user_id    202607 non-null  int64  \n",
      "dtypes: float64(1), int64(1), object(2)\n",
      "memory usage: 6.2+ MB\n"
     ]
    },
    {
     "data": {
      "text/plain": [
       "None"
      ]
     },
     "metadata": {},
     "output_type": "display_data"
    },
    {
     "data": {
      "text/html": [
       "<div>\n",
       "<style scoped>\n",
       "    .dataframe tbody tr th:only-of-type {\n",
       "        vertical-align: middle;\n",
       "    }\n",
       "\n",
       "    .dataframe tbody tr th {\n",
       "        vertical-align: top;\n",
       "    }\n",
       "\n",
       "    .dataframe thead th {\n",
       "        text-align: right;\n",
       "    }\n",
       "</style>\n",
       "<table border=\"1\" class=\"dataframe\">\n",
       "  <thead>\n",
       "    <tr style=\"text-align: right;\">\n",
       "      <th></th>\n",
       "      <th>duration</th>\n",
       "      <th>user_id</th>\n",
       "    </tr>\n",
       "  </thead>\n",
       "  <tbody>\n",
       "    <tr>\n",
       "      <th>count</th>\n",
       "      <td>202607.000000</td>\n",
       "      <td>202607.000000</td>\n",
       "    </tr>\n",
       "    <tr>\n",
       "      <th>mean</th>\n",
       "      <td>6.755887</td>\n",
       "      <td>1253.940619</td>\n",
       "    </tr>\n",
       "    <tr>\n",
       "      <th>std</th>\n",
       "      <td>5.843365</td>\n",
       "      <td>144.722751</td>\n",
       "    </tr>\n",
       "    <tr>\n",
       "      <th>min</th>\n",
       "      <td>0.000000</td>\n",
       "      <td>1000.000000</td>\n",
       "    </tr>\n",
       "    <tr>\n",
       "      <th>25%</th>\n",
       "      <td>1.300000</td>\n",
       "      <td>1126.000000</td>\n",
       "    </tr>\n",
       "    <tr>\n",
       "      <th>50%</th>\n",
       "      <td>6.000000</td>\n",
       "      <td>1260.000000</td>\n",
       "    </tr>\n",
       "    <tr>\n",
       "      <th>75%</th>\n",
       "      <td>10.700000</td>\n",
       "      <td>1379.000000</td>\n",
       "    </tr>\n",
       "    <tr>\n",
       "      <th>max</th>\n",
       "      <td>38.000000</td>\n",
       "      <td>1499.000000</td>\n",
       "    </tr>\n",
       "  </tbody>\n",
       "</table>\n",
       "</div>"
      ],
      "text/plain": [
       "            duration        user_id\n",
       "count  202607.000000  202607.000000\n",
       "mean        6.755887    1253.940619\n",
       "std         5.843365     144.722751\n",
       "min         0.000000    1000.000000\n",
       "25%         1.300000    1126.000000\n",
       "50%         6.000000    1260.000000\n",
       "75%        10.700000    1379.000000\n",
       "max        38.000000    1499.000000"
      ]
     },
     "metadata": {},
     "output_type": "display_data"
    },
    {
     "data": {
      "text/html": [
       "<div>\n",
       "<style scoped>\n",
       "    .dataframe tbody tr th:only-of-type {\n",
       "        vertical-align: middle;\n",
       "    }\n",
       "\n",
       "    .dataframe tbody tr th {\n",
       "        vertical-align: top;\n",
       "    }\n",
       "\n",
       "    .dataframe thead th {\n",
       "        text-align: right;\n",
       "    }\n",
       "</style>\n",
       "<table border=\"1\" class=\"dataframe\">\n",
       "  <thead>\n",
       "    <tr style=\"text-align: right;\">\n",
       "      <th></th>\n",
       "      <th>id</th>\n",
       "      <th>call_date</th>\n",
       "      <th>duration</th>\n",
       "      <th>user_id</th>\n",
       "    </tr>\n",
       "  </thead>\n",
       "  <tbody>\n",
       "    <tr>\n",
       "      <th>0</th>\n",
       "      <td>1000_0</td>\n",
       "      <td>2018-07-25</td>\n",
       "      <td>0.00</td>\n",
       "      <td>1000</td>\n",
       "    </tr>\n",
       "    <tr>\n",
       "      <th>1</th>\n",
       "      <td>1000_1</td>\n",
       "      <td>2018-08-17</td>\n",
       "      <td>0.00</td>\n",
       "      <td>1000</td>\n",
       "    </tr>\n",
       "    <tr>\n",
       "      <th>2</th>\n",
       "      <td>1000_2</td>\n",
       "      <td>2018-06-11</td>\n",
       "      <td>2.85</td>\n",
       "      <td>1000</td>\n",
       "    </tr>\n",
       "    <tr>\n",
       "      <th>3</th>\n",
       "      <td>1000_3</td>\n",
       "      <td>2018-09-21</td>\n",
       "      <td>13.80</td>\n",
       "      <td>1000</td>\n",
       "    </tr>\n",
       "    <tr>\n",
       "      <th>4</th>\n",
       "      <td>1000_4</td>\n",
       "      <td>2018-12-15</td>\n",
       "      <td>5.18</td>\n",
       "      <td>1000</td>\n",
       "    </tr>\n",
       "  </tbody>\n",
       "</table>\n",
       "</div>"
      ],
      "text/plain": [
       "       id   call_date  duration  user_id\n",
       "0  1000_0  2018-07-25      0.00     1000\n",
       "1  1000_1  2018-08-17      0.00     1000\n",
       "2  1000_2  2018-06-11      2.85     1000\n",
       "3  1000_3  2018-09-21     13.80     1000\n",
       "4  1000_4  2018-12-15      5.18     1000"
      ]
     },
     "execution_count": 3,
     "metadata": {},
     "output_type": "execute_result"
    }
   ],
   "source": [
    "display(calls.info())\n",
    "display(calls.describe())\n",
    "calls.head()"
   ]
  },
  {
   "cell_type": "markdown",
   "metadata": {},
   "source": [
    "Информация о **звонках**:\n",
    "- **id** — уникальный номер звонка\n",
    "- **call_date** — дата звонка\n",
    "- **duration** — длительность звонка в минутах\n",
    "- **user_id** — идентификатор пользователя, сделавшего звонок"
   ]
  },
  {
   "cell_type": "code",
   "execution_count": 4,
   "metadata": {},
   "outputs": [
    {
     "name": "stdout",
     "output_type": "stream",
     "text": [
      "<class 'pandas.core.frame.DataFrame'>\n",
      "RangeIndex: 149396 entries, 0 to 149395\n",
      "Data columns (total 5 columns):\n",
      " #   Column        Non-Null Count   Dtype  \n",
      "---  ------        --------------   -----  \n",
      " 0   Unnamed: 0    149396 non-null  int64  \n",
      " 1   id            149396 non-null  object \n",
      " 2   mb_used       149396 non-null  float64\n",
      " 3   session_date  149396 non-null  object \n",
      " 4   user_id       149396 non-null  int64  \n",
      "dtypes: float64(1), int64(2), object(2)\n",
      "memory usage: 5.7+ MB\n"
     ]
    },
    {
     "data": {
      "text/plain": [
       "None"
      ]
     },
     "metadata": {},
     "output_type": "display_data"
    },
    {
     "data": {
      "text/html": [
       "<div>\n",
       "<style scoped>\n",
       "    .dataframe tbody tr th:only-of-type {\n",
       "        vertical-align: middle;\n",
       "    }\n",
       "\n",
       "    .dataframe tbody tr th {\n",
       "        vertical-align: top;\n",
       "    }\n",
       "\n",
       "    .dataframe thead th {\n",
       "        text-align: right;\n",
       "    }\n",
       "</style>\n",
       "<table border=\"1\" class=\"dataframe\">\n",
       "  <thead>\n",
       "    <tr style=\"text-align: right;\">\n",
       "      <th></th>\n",
       "      <th>Unnamed: 0</th>\n",
       "      <th>id</th>\n",
       "      <th>mb_used</th>\n",
       "      <th>session_date</th>\n",
       "      <th>user_id</th>\n",
       "    </tr>\n",
       "  </thead>\n",
       "  <tbody>\n",
       "    <tr>\n",
       "      <th>0</th>\n",
       "      <td>0</td>\n",
       "      <td>1000_0</td>\n",
       "      <td>112.95</td>\n",
       "      <td>2018-11-25</td>\n",
       "      <td>1000</td>\n",
       "    </tr>\n",
       "    <tr>\n",
       "      <th>1</th>\n",
       "      <td>1</td>\n",
       "      <td>1000_1</td>\n",
       "      <td>1052.81</td>\n",
       "      <td>2018-09-07</td>\n",
       "      <td>1000</td>\n",
       "    </tr>\n",
       "    <tr>\n",
       "      <th>2</th>\n",
       "      <td>2</td>\n",
       "      <td>1000_2</td>\n",
       "      <td>1197.26</td>\n",
       "      <td>2018-06-25</td>\n",
       "      <td>1000</td>\n",
       "    </tr>\n",
       "    <tr>\n",
       "      <th>3</th>\n",
       "      <td>3</td>\n",
       "      <td>1000_3</td>\n",
       "      <td>550.27</td>\n",
       "      <td>2018-08-22</td>\n",
       "      <td>1000</td>\n",
       "    </tr>\n",
       "    <tr>\n",
       "      <th>4</th>\n",
       "      <td>4</td>\n",
       "      <td>1000_4</td>\n",
       "      <td>302.56</td>\n",
       "      <td>2018-09-24</td>\n",
       "      <td>1000</td>\n",
       "    </tr>\n",
       "  </tbody>\n",
       "</table>\n",
       "</div>"
      ],
      "text/plain": [
       "   Unnamed: 0      id  mb_used session_date  user_id\n",
       "0           0  1000_0   112.95   2018-11-25     1000\n",
       "1           1  1000_1  1052.81   2018-09-07     1000\n",
       "2           2  1000_2  1197.26   2018-06-25     1000\n",
       "3           3  1000_3   550.27   2018-08-22     1000\n",
       "4           4  1000_4   302.56   2018-09-24     1000"
      ]
     },
     "execution_count": 4,
     "metadata": {},
     "output_type": "execute_result"
    }
   ],
   "source": [
    "display(internet.info())\n",
    "internet.head()"
   ]
  },
  {
   "cell_type": "markdown",
   "metadata": {},
   "source": [
    "Информация об **интернет-сессиях**:\n",
    "- **id** — уникальный номер сессии\n",
    "- **mb_used** — объём потраченного за сессию интернет-трафика (в мегабайтах)\n",
    "- **session_date** — дата интернет-сессии\n",
    "- **user_id** — идентификатор пользователя"
   ]
  },
  {
   "cell_type": "code",
   "execution_count": 5,
   "metadata": {
    "scrolled": true
   },
   "outputs": [
    {
     "name": "stdout",
     "output_type": "stream",
     "text": [
      "<class 'pandas.core.frame.DataFrame'>\n",
      "RangeIndex: 123036 entries, 0 to 123035\n",
      "Data columns (total 3 columns):\n",
      " #   Column        Non-Null Count   Dtype \n",
      "---  ------        --------------   ----- \n",
      " 0   id            123036 non-null  object\n",
      " 1   message_date  123036 non-null  object\n",
      " 2   user_id       123036 non-null  int64 \n",
      "dtypes: int64(1), object(2)\n",
      "memory usage: 2.8+ MB\n"
     ]
    },
    {
     "data": {
      "text/plain": [
       "None"
      ]
     },
     "metadata": {},
     "output_type": "display_data"
    },
    {
     "data": {
      "text/html": [
       "<div>\n",
       "<style scoped>\n",
       "    .dataframe tbody tr th:only-of-type {\n",
       "        vertical-align: middle;\n",
       "    }\n",
       "\n",
       "    .dataframe tbody tr th {\n",
       "        vertical-align: top;\n",
       "    }\n",
       "\n",
       "    .dataframe thead th {\n",
       "        text-align: right;\n",
       "    }\n",
       "</style>\n",
       "<table border=\"1\" class=\"dataframe\">\n",
       "  <thead>\n",
       "    <tr style=\"text-align: right;\">\n",
       "      <th></th>\n",
       "      <th>id</th>\n",
       "      <th>message_date</th>\n",
       "      <th>user_id</th>\n",
       "    </tr>\n",
       "  </thead>\n",
       "  <tbody>\n",
       "    <tr>\n",
       "      <th>0</th>\n",
       "      <td>1000_0</td>\n",
       "      <td>2018-06-27</td>\n",
       "      <td>1000</td>\n",
       "    </tr>\n",
       "    <tr>\n",
       "      <th>1</th>\n",
       "      <td>1000_1</td>\n",
       "      <td>2018-10-08</td>\n",
       "      <td>1000</td>\n",
       "    </tr>\n",
       "    <tr>\n",
       "      <th>2</th>\n",
       "      <td>1000_2</td>\n",
       "      <td>2018-08-04</td>\n",
       "      <td>1000</td>\n",
       "    </tr>\n",
       "    <tr>\n",
       "      <th>3</th>\n",
       "      <td>1000_3</td>\n",
       "      <td>2018-06-16</td>\n",
       "      <td>1000</td>\n",
       "    </tr>\n",
       "    <tr>\n",
       "      <th>4</th>\n",
       "      <td>1000_4</td>\n",
       "      <td>2018-12-05</td>\n",
       "      <td>1000</td>\n",
       "    </tr>\n",
       "  </tbody>\n",
       "</table>\n",
       "</div>"
      ],
      "text/plain": [
       "       id message_date  user_id\n",
       "0  1000_0   2018-06-27     1000\n",
       "1  1000_1   2018-10-08     1000\n",
       "2  1000_2   2018-08-04     1000\n",
       "3  1000_3   2018-06-16     1000\n",
       "4  1000_4   2018-12-05     1000"
      ]
     },
     "execution_count": 5,
     "metadata": {},
     "output_type": "execute_result"
    }
   ],
   "source": [
    "display(messages.info())\n",
    "messages.head()"
   ]
  },
  {
   "cell_type": "markdown",
   "metadata": {},
   "source": [
    "Информация о **сообщениях**:\n",
    "- **id** — уникальный номер сообщения\n",
    "- **message_date** — дата сообщения\n",
    "- **user_id** — идентификатор пользователя, отправившего сообщение\n"
   ]
  },
  {
   "cell_type": "code",
   "execution_count": 6,
   "metadata": {
    "scrolled": true
   },
   "outputs": [
    {
     "name": "stdout",
     "output_type": "stream",
     "text": [
      "<class 'pandas.core.frame.DataFrame'>\n",
      "RangeIndex: 2 entries, 0 to 1\n",
      "Data columns (total 8 columns):\n",
      " #   Column                 Non-Null Count  Dtype \n",
      "---  ------                 --------------  ----- \n",
      " 0   messages_included      2 non-null      int64 \n",
      " 1   mb_per_month_included  2 non-null      int64 \n",
      " 2   minutes_included       2 non-null      int64 \n",
      " 3   rub_monthly_fee        2 non-null      int64 \n",
      " 4   rub_per_gb             2 non-null      int64 \n",
      " 5   rub_per_message        2 non-null      int64 \n",
      " 6   rub_per_minute         2 non-null      int64 \n",
      " 7   tariff_name            2 non-null      object\n",
      "dtypes: int64(7), object(1)\n",
      "memory usage: 256.0+ bytes\n"
     ]
    },
    {
     "data": {
      "text/plain": [
       "None"
      ]
     },
     "metadata": {},
     "output_type": "display_data"
    },
    {
     "data": {
      "text/html": [
       "<div>\n",
       "<style scoped>\n",
       "    .dataframe tbody tr th:only-of-type {\n",
       "        vertical-align: middle;\n",
       "    }\n",
       "\n",
       "    .dataframe tbody tr th {\n",
       "        vertical-align: top;\n",
       "    }\n",
       "\n",
       "    .dataframe thead th {\n",
       "        text-align: right;\n",
       "    }\n",
       "</style>\n",
       "<table border=\"1\" class=\"dataframe\">\n",
       "  <thead>\n",
       "    <tr style=\"text-align: right;\">\n",
       "      <th></th>\n",
       "      <th>messages_included</th>\n",
       "      <th>mb_per_month_included</th>\n",
       "      <th>minutes_included</th>\n",
       "      <th>rub_monthly_fee</th>\n",
       "      <th>rub_per_gb</th>\n",
       "      <th>rub_per_message</th>\n",
       "      <th>rub_per_minute</th>\n",
       "      <th>tariff_name</th>\n",
       "    </tr>\n",
       "  </thead>\n",
       "  <tbody>\n",
       "    <tr>\n",
       "      <th>0</th>\n",
       "      <td>50</td>\n",
       "      <td>15360</td>\n",
       "      <td>500</td>\n",
       "      <td>550</td>\n",
       "      <td>200</td>\n",
       "      <td>3</td>\n",
       "      <td>3</td>\n",
       "      <td>smart</td>\n",
       "    </tr>\n",
       "    <tr>\n",
       "      <th>1</th>\n",
       "      <td>1000</td>\n",
       "      <td>30720</td>\n",
       "      <td>3000</td>\n",
       "      <td>1950</td>\n",
       "      <td>150</td>\n",
       "      <td>1</td>\n",
       "      <td>1</td>\n",
       "      <td>ultra</td>\n",
       "    </tr>\n",
       "  </tbody>\n",
       "</table>\n",
       "</div>"
      ],
      "text/plain": [
       "   messages_included  mb_per_month_included  minutes_included  \\\n",
       "0                 50                  15360               500   \n",
       "1               1000                  30720              3000   \n",
       "\n",
       "   rub_monthly_fee  rub_per_gb  rub_per_message  rub_per_minute tariff_name  \n",
       "0              550         200                3               3       smart  \n",
       "1             1950         150                1               1       ultra  "
      ]
     },
     "execution_count": 6,
     "metadata": {},
     "output_type": "execute_result"
    }
   ],
   "source": [
    "display(tariffs.info())\n",
    "tariffs.head()"
   ]
  },
  {
   "cell_type": "markdown",
   "metadata": {},
   "source": [
    "Информация о **тарифах**:\n",
    "- **tariff_name** — название тарифа\n",
    "- **rub_monthly_fee** — ежемесячная абонентская плата в рублях\n",
    "- **minutes_included** — количество минут разговора в месяц, включённых в абонентскую плату\n",
    "- **messages_included** — количество сообщений в месяц, включённых в абонентскую плату\n",
    "- **mb_per_month_included** — объём интернет-трафика, включённого в абонентскую плату (в мегабайтах)\n",
    "- **rub_per_minute** — стоимость минуты разговора сверх тарифного пакета (например, если в тарифе 100 минут разговора в месяц, то со 101 минуты будет взиматься плата)\n",
    "- **rub_per_message** — стоимость отправки сообщения сверх тарифного пакета\n",
    "- **rub_per_gb** — стоимость дополнительного гигабайта интернет-трафика сверх тарифного пакета (1 гигабайт = 1024 мегабайта)"
   ]
  },
  {
   "cell_type": "code",
   "execution_count": 7,
   "metadata": {},
   "outputs": [
    {
     "name": "stdout",
     "output_type": "stream",
     "text": [
      "<class 'pandas.core.frame.DataFrame'>\n",
      "RangeIndex: 500 entries, 0 to 499\n",
      "Data columns (total 8 columns):\n",
      " #   Column      Non-Null Count  Dtype \n",
      "---  ------      --------------  ----- \n",
      " 0   user_id     500 non-null    int64 \n",
      " 1   age         500 non-null    int64 \n",
      " 2   churn_date  38 non-null     object\n",
      " 3   city        500 non-null    object\n",
      " 4   first_name  500 non-null    object\n",
      " 5   last_name   500 non-null    object\n",
      " 6   reg_date    500 non-null    object\n",
      " 7   tariff      500 non-null    object\n",
      "dtypes: int64(2), object(6)\n",
      "memory usage: 31.4+ KB\n"
     ]
    },
    {
     "data": {
      "text/plain": [
       "None"
      ]
     },
     "metadata": {},
     "output_type": "display_data"
    },
    {
     "data": {
      "text/html": [
       "<div>\n",
       "<style scoped>\n",
       "    .dataframe tbody tr th:only-of-type {\n",
       "        vertical-align: middle;\n",
       "    }\n",
       "\n",
       "    .dataframe tbody tr th {\n",
       "        vertical-align: top;\n",
       "    }\n",
       "\n",
       "    .dataframe thead th {\n",
       "        text-align: right;\n",
       "    }\n",
       "</style>\n",
       "<table border=\"1\" class=\"dataframe\">\n",
       "  <thead>\n",
       "    <tr style=\"text-align: right;\">\n",
       "      <th></th>\n",
       "      <th>user_id</th>\n",
       "      <th>age</th>\n",
       "      <th>churn_date</th>\n",
       "      <th>city</th>\n",
       "      <th>first_name</th>\n",
       "      <th>last_name</th>\n",
       "      <th>reg_date</th>\n",
       "      <th>tariff</th>\n",
       "    </tr>\n",
       "  </thead>\n",
       "  <tbody>\n",
       "    <tr>\n",
       "      <th>0</th>\n",
       "      <td>1000</td>\n",
       "      <td>52</td>\n",
       "      <td>NaN</td>\n",
       "      <td>Краснодар</td>\n",
       "      <td>Рафаил</td>\n",
       "      <td>Верещагин</td>\n",
       "      <td>2018-05-25</td>\n",
       "      <td>ultra</td>\n",
       "    </tr>\n",
       "    <tr>\n",
       "      <th>1</th>\n",
       "      <td>1001</td>\n",
       "      <td>41</td>\n",
       "      <td>NaN</td>\n",
       "      <td>Москва</td>\n",
       "      <td>Иван</td>\n",
       "      <td>Ежов</td>\n",
       "      <td>2018-11-01</td>\n",
       "      <td>smart</td>\n",
       "    </tr>\n",
       "    <tr>\n",
       "      <th>2</th>\n",
       "      <td>1002</td>\n",
       "      <td>59</td>\n",
       "      <td>NaN</td>\n",
       "      <td>Стерлитамак</td>\n",
       "      <td>Евгений</td>\n",
       "      <td>Абрамович</td>\n",
       "      <td>2018-06-17</td>\n",
       "      <td>smart</td>\n",
       "    </tr>\n",
       "    <tr>\n",
       "      <th>3</th>\n",
       "      <td>1003</td>\n",
       "      <td>23</td>\n",
       "      <td>NaN</td>\n",
       "      <td>Москва</td>\n",
       "      <td>Белла</td>\n",
       "      <td>Белякова</td>\n",
       "      <td>2018-08-17</td>\n",
       "      <td>ultra</td>\n",
       "    </tr>\n",
       "    <tr>\n",
       "      <th>4</th>\n",
       "      <td>1004</td>\n",
       "      <td>68</td>\n",
       "      <td>NaN</td>\n",
       "      <td>Новокузнецк</td>\n",
       "      <td>Татьяна</td>\n",
       "      <td>Авдеенко</td>\n",
       "      <td>2018-05-14</td>\n",
       "      <td>ultra</td>\n",
       "    </tr>\n",
       "  </tbody>\n",
       "</table>\n",
       "</div>"
      ],
      "text/plain": [
       "   user_id  age churn_date         city first_name  last_name    reg_date  \\\n",
       "0     1000   52        NaN    Краснодар     Рафаил  Верещагин  2018-05-25   \n",
       "1     1001   41        NaN       Москва       Иван       Ежов  2018-11-01   \n",
       "2     1002   59        NaN  Стерлитамак    Евгений  Абрамович  2018-06-17   \n",
       "3     1003   23        NaN       Москва      Белла   Белякова  2018-08-17   \n",
       "4     1004   68        NaN  Новокузнецк    Татьяна   Авдеенко  2018-05-14   \n",
       "\n",
       "  tariff  \n",
       "0  ultra  \n",
       "1  smart  \n",
       "2  smart  \n",
       "3  ultra  \n",
       "4  ultra  "
      ]
     },
     "execution_count": 7,
     "metadata": {},
     "output_type": "execute_result"
    }
   ],
   "source": [
    "display(users.info())\n",
    "users.head()"
   ]
  },
  {
   "cell_type": "markdown",
   "metadata": {},
   "source": [
    "Информация о **пользователях**:\n",
    "- **user_id** — уникальный идентификатор пользователя\n",
    "- **first_name** — имя пользователя\n",
    "- **last_name** — фамилия пользователя\n",
    "- **age** — возраст пользователя (годы)\n",
    "- **reg_date** — дата подключения тарифа (день, месяц, год)\n",
    "- **churn_date** — дата прекращения пользования тарифом (если значение пропущено, то тариф ещё действовал на момент выгрузки данных)\n",
    "- **city** — город проживания пользователя\n",
    "- **tariff** — название тарифного плана"
   ]
  },
  {
   "cell_type": "markdown",
   "metadata": {},
   "source": [
    "Данные о пользователях представленны пятью таблицами. Есть пропуски, ошибки и необходимо поменять формат некоторых столбцов."
   ]
  },
  {
   "cell_type": "markdown",
   "metadata": {},
   "source": [
    "## Предобработка данных"
   ]
  },
  {
   "cell_type": "markdown",
   "metadata": {},
   "source": [
    "Приведем столбцы **reg_date, churn_date, message_date, session_date, call_date** к типу **datetime** :"
   ]
  },
  {
   "cell_type": "code",
   "execution_count": 8,
   "metadata": {},
   "outputs": [],
   "source": [
    "columns_to_datetime = {'reg_date':users,\n",
    "                       'churn_date' :users,\n",
    "                       'message_date':messages,\n",
    "                       'session_date':internet,\n",
    "                       'call_date':calls}\n",
    "\n",
    "for column, frame in columns_to_datetime.items():\n",
    "    frame[column] = pd.to_datetime(frame[column],format = '%Y-%m-%d')"
   ]
  },
  {
   "cell_type": "markdown",
   "metadata": {},
   "source": [
    "В столбце **churn_date** есть пропуски, но они никак не повлияют на дальнейший анализ, оставим как есть."
   ]
  },
  {
   "cell_type": "markdown",
   "metadata": {},
   "source": [
    "В столбце **duration** много звонков длительность 0 минут. Это не ошибка: нулями обозначены пропущенные звонки, поэтому их не нужно удалять."
   ]
  },
  {
   "cell_type": "markdown",
   "metadata": {},
   "source": [
    "В таблице с интернет трафиком есть лишний столбец, удалим его для дальнейшего удобства:"
   ]
  },
  {
   "cell_type": "code",
   "execution_count": 9,
   "metadata": {},
   "outputs": [
    {
     "data": {
      "text/html": [
       "<div>\n",
       "<style scoped>\n",
       "    .dataframe tbody tr th:only-of-type {\n",
       "        vertical-align: middle;\n",
       "    }\n",
       "\n",
       "    .dataframe tbody tr th {\n",
       "        vertical-align: top;\n",
       "    }\n",
       "\n",
       "    .dataframe thead th {\n",
       "        text-align: right;\n",
       "    }\n",
       "</style>\n",
       "<table border=\"1\" class=\"dataframe\">\n",
       "  <thead>\n",
       "    <tr style=\"text-align: right;\">\n",
       "      <th></th>\n",
       "      <th>id</th>\n",
       "      <th>mb_used</th>\n",
       "      <th>session_date</th>\n",
       "      <th>user_id</th>\n",
       "    </tr>\n",
       "  </thead>\n",
       "  <tbody>\n",
       "    <tr>\n",
       "      <th>0</th>\n",
       "      <td>1000_0</td>\n",
       "      <td>112.95</td>\n",
       "      <td>2018-11-25</td>\n",
       "      <td>1000</td>\n",
       "    </tr>\n",
       "    <tr>\n",
       "      <th>1</th>\n",
       "      <td>1000_1</td>\n",
       "      <td>1052.81</td>\n",
       "      <td>2018-09-07</td>\n",
       "      <td>1000</td>\n",
       "    </tr>\n",
       "    <tr>\n",
       "      <th>2</th>\n",
       "      <td>1000_2</td>\n",
       "      <td>1197.26</td>\n",
       "      <td>2018-06-25</td>\n",
       "      <td>1000</td>\n",
       "    </tr>\n",
       "    <tr>\n",
       "      <th>3</th>\n",
       "      <td>1000_3</td>\n",
       "      <td>550.27</td>\n",
       "      <td>2018-08-22</td>\n",
       "      <td>1000</td>\n",
       "    </tr>\n",
       "    <tr>\n",
       "      <th>4</th>\n",
       "      <td>1000_4</td>\n",
       "      <td>302.56</td>\n",
       "      <td>2018-09-24</td>\n",
       "      <td>1000</td>\n",
       "    </tr>\n",
       "    <tr>\n",
       "      <th>...</th>\n",
       "      <td>...</td>\n",
       "      <td>...</td>\n",
       "      <td>...</td>\n",
       "      <td>...</td>\n",
       "    </tr>\n",
       "    <tr>\n",
       "      <th>149391</th>\n",
       "      <td>1499_152</td>\n",
       "      <td>318.90</td>\n",
       "      <td>2018-10-03</td>\n",
       "      <td>1499</td>\n",
       "    </tr>\n",
       "    <tr>\n",
       "      <th>149392</th>\n",
       "      <td>1499_153</td>\n",
       "      <td>490.13</td>\n",
       "      <td>2018-12-14</td>\n",
       "      <td>1499</td>\n",
       "    </tr>\n",
       "    <tr>\n",
       "      <th>149393</th>\n",
       "      <td>1499_154</td>\n",
       "      <td>0.00</td>\n",
       "      <td>2018-10-27</td>\n",
       "      <td>1499</td>\n",
       "    </tr>\n",
       "    <tr>\n",
       "      <th>149394</th>\n",
       "      <td>1499_155</td>\n",
       "      <td>1246.32</td>\n",
       "      <td>2018-11-26</td>\n",
       "      <td>1499</td>\n",
       "    </tr>\n",
       "    <tr>\n",
       "      <th>149395</th>\n",
       "      <td>1499_156</td>\n",
       "      <td>544.37</td>\n",
       "      <td>2018-10-26</td>\n",
       "      <td>1499</td>\n",
       "    </tr>\n",
       "  </tbody>\n",
       "</table>\n",
       "<p>149396 rows × 4 columns</p>\n",
       "</div>"
      ],
      "text/plain": [
       "              id  mb_used session_date  user_id\n",
       "0         1000_0   112.95   2018-11-25     1000\n",
       "1         1000_1  1052.81   2018-09-07     1000\n",
       "2         1000_2  1197.26   2018-06-25     1000\n",
       "3         1000_3   550.27   2018-08-22     1000\n",
       "4         1000_4   302.56   2018-09-24     1000\n",
       "...          ...      ...          ...      ...\n",
       "149391  1499_152   318.90   2018-10-03     1499\n",
       "149392  1499_153   490.13   2018-12-14     1499\n",
       "149393  1499_154     0.00   2018-10-27     1499\n",
       "149394  1499_155  1246.32   2018-11-26     1499\n",
       "149395  1499_156   544.37   2018-10-26     1499\n",
       "\n",
       "[149396 rows x 4 columns]"
      ]
     },
     "execution_count": 9,
     "metadata": {},
     "output_type": "execute_result"
    }
   ],
   "source": [
    "internet.drop(columns = ['Unnamed: 0'], axis = 1)"
   ]
  },
  {
   "cell_type": "markdown",
   "metadata": {},
   "source": [
    "## Подготовка расчетных данных"
   ]
  },
  {
   "cell_type": "markdown",
   "metadata": {},
   "source": [
    "Добавим столбцы с месяцем, в котором происходит событие:"
   ]
  },
  {
   "cell_type": "code",
   "execution_count": 10,
   "metadata": {},
   "outputs": [],
   "source": [
    "columns_add_month = {'message_date':messages,\n",
    "                       'session_date':internet,\n",
    "                       'call_date':calls}\n",
    "for column, frame in columns_add_month.items():\n",
    "    frame['month'] = frame[column].dt.month"
   ]
  },
  {
   "cell_type": "markdown",
   "metadata": {},
   "source": [
    "Округлим значения времени звонков:"
   ]
  },
  {
   "cell_type": "code",
   "execution_count": 11,
   "metadata": {},
   "outputs": [],
   "source": [
    "calls['duration'] = np.ceil(calls['duration'])"
   ]
  },
  {
   "cell_type": "markdown",
   "metadata": {},
   "source": [
    "Создадим словарь с соответствием тарифа пользователю:"
   ]
  },
  {
   "cell_type": "code",
   "execution_count": 12,
   "metadata": {},
   "outputs": [
    {
     "data": {
      "text/plain": [
       "500"
      ]
     },
     "execution_count": 12,
     "metadata": {},
     "output_type": "execute_result"
    }
   ],
   "source": [
    "tarif_for_user = {}\n",
    "\n",
    "def add_tarif_to_user(row):\n",
    "    tarif_for_user[row[0]] = row[7]\n",
    "    \n",
    "users.apply(add_tarif_to_user, axis=1)\n",
    "len(tarif_for_user)"
   ]
  },
  {
   "cell_type": "markdown",
   "metadata": {},
   "source": [
    "Добавим в наши таблицы столбец с тарифом для каждого абонента: "
   ]
  },
  {
   "cell_type": "code",
   "execution_count": 13,
   "metadata": {},
   "outputs": [],
   "source": [
    "def add_tariff(row):\n",
    "    return tarif_for_user[row]\n",
    "\n",
    "for i in (calls, internet, messages):\n",
    "    i['tariff'] = i['user_id'].apply(add_tariff)"
   ]
  },
  {
   "cell_type": "markdown",
   "metadata": {},
   "source": [
    "Определим функцию для создания сводных таблиц:"
   ]
  },
  {
   "cell_type": "code",
   "execution_count": 14,
   "metadata": {},
   "outputs": [],
   "source": [
    "def pivot_data(data, values, aggfunc):\n",
    "    return data.pivot_table(index=['user_id', 'tariff', 'month'], values=values, aggfunc=aggfunc)"
   ]
  },
  {
   "cell_type": "markdown",
   "metadata": {},
   "source": [
    "Рассчитаем для каждого пользователя по месяцам: количество сделанных звонков и израсходованных минут разговора; количество отправленных сообщений; объем израсходованного интернет-трафика; выручку с каждого пользователя."
   ]
  },
  {
   "cell_type": "code",
   "execution_count": 15,
   "metadata": {},
   "outputs": [
    {
     "data": {
      "text/html": [
       "<div>\n",
       "<style scoped>\n",
       "    .dataframe tbody tr th:only-of-type {\n",
       "        vertical-align: middle;\n",
       "    }\n",
       "\n",
       "    .dataframe tbody tr th {\n",
       "        vertical-align: top;\n",
       "    }\n",
       "\n",
       "    .dataframe thead th {\n",
       "        text-align: right;\n",
       "    }\n",
       "</style>\n",
       "<table border=\"1\" class=\"dataframe\">\n",
       "  <thead>\n",
       "    <tr style=\"text-align: right;\">\n",
       "      <th></th>\n",
       "      <th></th>\n",
       "      <th></th>\n",
       "      <th>minutes_calls</th>\n",
       "      <th>count_calls</th>\n",
       "    </tr>\n",
       "    <tr>\n",
       "      <th>user_id</th>\n",
       "      <th>tariff</th>\n",
       "      <th>month</th>\n",
       "      <th></th>\n",
       "      <th></th>\n",
       "    </tr>\n",
       "  </thead>\n",
       "  <tbody>\n",
       "    <tr>\n",
       "      <th rowspan=\"8\" valign=\"top\">1000</th>\n",
       "      <th rowspan=\"8\" valign=\"top\">ultra</th>\n",
       "      <th>5</th>\n",
       "      <td>159.0</td>\n",
       "      <td>22</td>\n",
       "    </tr>\n",
       "    <tr>\n",
       "      <th>6</th>\n",
       "      <td>172.0</td>\n",
       "      <td>43</td>\n",
       "    </tr>\n",
       "    <tr>\n",
       "      <th>7</th>\n",
       "      <td>340.0</td>\n",
       "      <td>47</td>\n",
       "    </tr>\n",
       "    <tr>\n",
       "      <th>8</th>\n",
       "      <td>408.0</td>\n",
       "      <td>52</td>\n",
       "    </tr>\n",
       "    <tr>\n",
       "      <th>9</th>\n",
       "      <td>466.0</td>\n",
       "      <td>58</td>\n",
       "    </tr>\n",
       "    <tr>\n",
       "      <th>10</th>\n",
       "      <td>350.0</td>\n",
       "      <td>57</td>\n",
       "    </tr>\n",
       "    <tr>\n",
       "      <th>11</th>\n",
       "      <td>338.0</td>\n",
       "      <td>43</td>\n",
       "    </tr>\n",
       "    <tr>\n",
       "      <th>12</th>\n",
       "      <td>333.0</td>\n",
       "      <td>46</td>\n",
       "    </tr>\n",
       "    <tr>\n",
       "      <th rowspan=\"2\" valign=\"top\">1001</th>\n",
       "      <th rowspan=\"2\" valign=\"top\">smart</th>\n",
       "      <th>11</th>\n",
       "      <td>430.0</td>\n",
       "      <td>59</td>\n",
       "    </tr>\n",
       "    <tr>\n",
       "      <th>12</th>\n",
       "      <td>414.0</td>\n",
       "      <td>63</td>\n",
       "    </tr>\n",
       "    <tr>\n",
       "      <th rowspan=\"5\" valign=\"top\">1002</th>\n",
       "      <th rowspan=\"5\" valign=\"top\">smart</th>\n",
       "      <th>6</th>\n",
       "      <td>117.0</td>\n",
       "      <td>15</td>\n",
       "    </tr>\n",
       "    <tr>\n",
       "      <th>7</th>\n",
       "      <td>214.0</td>\n",
       "      <td>26</td>\n",
       "    </tr>\n",
       "    <tr>\n",
       "      <th>8</th>\n",
       "      <td>289.0</td>\n",
       "      <td>42</td>\n",
       "    </tr>\n",
       "    <tr>\n",
       "      <th>9</th>\n",
       "      <td>206.0</td>\n",
       "      <td>36</td>\n",
       "    </tr>\n",
       "    <tr>\n",
       "      <th>10</th>\n",
       "      <td>212.0</td>\n",
       "      <td>33</td>\n",
       "    </tr>\n",
       "  </tbody>\n",
       "</table>\n",
       "</div>"
      ],
      "text/plain": [
       "                      minutes_calls  count_calls\n",
       "user_id tariff month                            \n",
       "1000    ultra  5              159.0           22\n",
       "               6              172.0           43\n",
       "               7              340.0           47\n",
       "               8              408.0           52\n",
       "               9              466.0           58\n",
       "               10             350.0           57\n",
       "               11             338.0           43\n",
       "               12             333.0           46\n",
       "1001    smart  11             430.0           59\n",
       "               12             414.0           63\n",
       "1002    smart  6              117.0           15\n",
       "               7              214.0           26\n",
       "               8              289.0           42\n",
       "               9              206.0           36\n",
       "               10             212.0           33"
      ]
     },
     "execution_count": 15,
     "metadata": {},
     "output_type": "execute_result"
    }
   ],
   "source": [
    "#звонки\n",
    "calls_by_month = pivot_data(calls, 'duration', aggfunc=['sum', 'count'])\n",
    "calls_by_month.columns = ['minutes_calls', 'count_calls']\n",
    "calls_by_month.head(15)"
   ]
  },
  {
   "cell_type": "code",
   "execution_count": 16,
   "metadata": {},
   "outputs": [
    {
     "data": {
      "text/html": [
       "<div>\n",
       "<style scoped>\n",
       "    .dataframe tbody tr th:only-of-type {\n",
       "        vertical-align: middle;\n",
       "    }\n",
       "\n",
       "    .dataframe tbody tr th {\n",
       "        vertical-align: top;\n",
       "    }\n",
       "\n",
       "    .dataframe thead th {\n",
       "        text-align: right;\n",
       "    }\n",
       "</style>\n",
       "<table border=\"1\" class=\"dataframe\">\n",
       "  <thead>\n",
       "    <tr style=\"text-align: right;\">\n",
       "      <th></th>\n",
       "      <th></th>\n",
       "      <th></th>\n",
       "      <th>count_messages</th>\n",
       "    </tr>\n",
       "    <tr>\n",
       "      <th>user_id</th>\n",
       "      <th>tariff</th>\n",
       "      <th>month</th>\n",
       "      <th></th>\n",
       "    </tr>\n",
       "  </thead>\n",
       "  <tbody>\n",
       "    <tr>\n",
       "      <th rowspan=\"8\" valign=\"top\">1000</th>\n",
       "      <th rowspan=\"8\" valign=\"top\">ultra</th>\n",
       "      <th>5</th>\n",
       "      <td>22</td>\n",
       "    </tr>\n",
       "    <tr>\n",
       "      <th>6</th>\n",
       "      <td>60</td>\n",
       "    </tr>\n",
       "    <tr>\n",
       "      <th>7</th>\n",
       "      <td>75</td>\n",
       "    </tr>\n",
       "    <tr>\n",
       "      <th>8</th>\n",
       "      <td>81</td>\n",
       "    </tr>\n",
       "    <tr>\n",
       "      <th>9</th>\n",
       "      <td>57</td>\n",
       "    </tr>\n",
       "    <tr>\n",
       "      <th>10</th>\n",
       "      <td>73</td>\n",
       "    </tr>\n",
       "    <tr>\n",
       "      <th>11</th>\n",
       "      <td>58</td>\n",
       "    </tr>\n",
       "    <tr>\n",
       "      <th>12</th>\n",
       "      <td>70</td>\n",
       "    </tr>\n",
       "    <tr>\n",
       "      <th rowspan=\"7\" valign=\"top\">1002</th>\n",
       "      <th rowspan=\"7\" valign=\"top\">smart</th>\n",
       "      <th>6</th>\n",
       "      <td>4</td>\n",
       "    </tr>\n",
       "    <tr>\n",
       "      <th>7</th>\n",
       "      <td>11</td>\n",
       "    </tr>\n",
       "    <tr>\n",
       "      <th>8</th>\n",
       "      <td>13</td>\n",
       "    </tr>\n",
       "    <tr>\n",
       "      <th>9</th>\n",
       "      <td>4</td>\n",
       "    </tr>\n",
       "    <tr>\n",
       "      <th>10</th>\n",
       "      <td>10</td>\n",
       "    </tr>\n",
       "    <tr>\n",
       "      <th>11</th>\n",
       "      <td>16</td>\n",
       "    </tr>\n",
       "    <tr>\n",
       "      <th>12</th>\n",
       "      <td>12</td>\n",
       "    </tr>\n",
       "  </tbody>\n",
       "</table>\n",
       "</div>"
      ],
      "text/plain": [
       "                      count_messages\n",
       "user_id tariff month                \n",
       "1000    ultra  5                  22\n",
       "               6                  60\n",
       "               7                  75\n",
       "               8                  81\n",
       "               9                  57\n",
       "               10                 73\n",
       "               11                 58\n",
       "               12                 70\n",
       "1002    smart  6                   4\n",
       "               7                  11\n",
       "               8                  13\n",
       "               9                   4\n",
       "               10                 10\n",
       "               11                 16\n",
       "               12                 12"
      ]
     },
     "execution_count": 16,
     "metadata": {},
     "output_type": "execute_result"
    }
   ],
   "source": [
    "#сообщения\n",
    "messages_by_month = pivot_data(messages, 'id', aggfunc='count')\n",
    "messages_by_month.columns = ['count_messages']\n",
    "messages_by_month.head(15)"
   ]
  },
  {
   "cell_type": "code",
   "execution_count": 17,
   "metadata": {},
   "outputs": [
    {
     "data": {
      "text/html": [
       "<div>\n",
       "<style scoped>\n",
       "    .dataframe tbody tr th:only-of-type {\n",
       "        vertical-align: middle;\n",
       "    }\n",
       "\n",
       "    .dataframe tbody tr th {\n",
       "        vertical-align: top;\n",
       "    }\n",
       "\n",
       "    .dataframe thead th {\n",
       "        text-align: right;\n",
       "    }\n",
       "</style>\n",
       "<table border=\"1\" class=\"dataframe\">\n",
       "  <thead>\n",
       "    <tr style=\"text-align: right;\">\n",
       "      <th></th>\n",
       "      <th></th>\n",
       "      <th></th>\n",
       "      <th>mb_used</th>\n",
       "    </tr>\n",
       "    <tr>\n",
       "      <th>user_id</th>\n",
       "      <th>tariff</th>\n",
       "      <th>month</th>\n",
       "      <th></th>\n",
       "    </tr>\n",
       "  </thead>\n",
       "  <tbody>\n",
       "    <tr>\n",
       "      <th rowspan=\"8\" valign=\"top\">1000</th>\n",
       "      <th rowspan=\"8\" valign=\"top\">ultra</th>\n",
       "      <th>5</th>\n",
       "      <td>2253.49</td>\n",
       "    </tr>\n",
       "    <tr>\n",
       "      <th>6</th>\n",
       "      <td>23233.77</td>\n",
       "    </tr>\n",
       "    <tr>\n",
       "      <th>7</th>\n",
       "      <td>14003.64</td>\n",
       "    </tr>\n",
       "    <tr>\n",
       "      <th>8</th>\n",
       "      <td>14055.93</td>\n",
       "    </tr>\n",
       "    <tr>\n",
       "      <th>9</th>\n",
       "      <td>14568.91</td>\n",
       "    </tr>\n",
       "    <tr>\n",
       "      <th>10</th>\n",
       "      <td>14702.49</td>\n",
       "    </tr>\n",
       "    <tr>\n",
       "      <th>11</th>\n",
       "      <td>14756.47</td>\n",
       "    </tr>\n",
       "    <tr>\n",
       "      <th>12</th>\n",
       "      <td>9817.61</td>\n",
       "    </tr>\n",
       "    <tr>\n",
       "      <th rowspan=\"2\" valign=\"top\">1001</th>\n",
       "      <th rowspan=\"2\" valign=\"top\">smart</th>\n",
       "      <th>11</th>\n",
       "      <td>18429.34</td>\n",
       "    </tr>\n",
       "    <tr>\n",
       "      <th>12</th>\n",
       "      <td>14036.66</td>\n",
       "    </tr>\n",
       "    <tr>\n",
       "      <th rowspan=\"5\" valign=\"top\">1002</th>\n",
       "      <th rowspan=\"5\" valign=\"top\">smart</th>\n",
       "      <th>6</th>\n",
       "      <td>10856.82</td>\n",
       "    </tr>\n",
       "    <tr>\n",
       "      <th>7</th>\n",
       "      <td>17580.10</td>\n",
       "    </tr>\n",
       "    <tr>\n",
       "      <th>8</th>\n",
       "      <td>20319.26</td>\n",
       "    </tr>\n",
       "    <tr>\n",
       "      <th>9</th>\n",
       "      <td>16691.08</td>\n",
       "    </tr>\n",
       "    <tr>\n",
       "      <th>10</th>\n",
       "      <td>13888.25</td>\n",
       "    </tr>\n",
       "  </tbody>\n",
       "</table>\n",
       "</div>"
      ],
      "text/plain": [
       "                       mb_used\n",
       "user_id tariff month          \n",
       "1000    ultra  5       2253.49\n",
       "               6      23233.77\n",
       "               7      14003.64\n",
       "               8      14055.93\n",
       "               9      14568.91\n",
       "               10     14702.49\n",
       "               11     14756.47\n",
       "               12      9817.61\n",
       "1001    smart  11     18429.34\n",
       "               12     14036.66\n",
       "1002    smart  6      10856.82\n",
       "               7      17580.10\n",
       "               8      20319.26\n",
       "               9      16691.08\n",
       "               10     13888.25"
      ]
     },
     "execution_count": 17,
     "metadata": {},
     "output_type": "execute_result"
    }
   ],
   "source": [
    "#интернет-трафик\n",
    "mb_by_month = pivot_data(internet, 'mb_used', aggfunc='sum')\n",
    "mb_by_month.columns = ['mb_used']\n",
    "mb_by_month.head(15)"
   ]
  },
  {
   "cell_type": "markdown",
   "metadata": {},
   "source": [
    "Обьединим полученные таблицы с таблицей пользователей и посчитаем выручку для каждого пользователя по месяцам:"
   ]
  },
  {
   "cell_type": "code",
   "execution_count": 18,
   "metadata": {
    "scrolled": true
   },
   "outputs": [
    {
     "data": {
      "text/html": [
       "<div>\n",
       "<style scoped>\n",
       "    .dataframe tbody tr th:only-of-type {\n",
       "        vertical-align: middle;\n",
       "    }\n",
       "\n",
       "    .dataframe tbody tr th {\n",
       "        vertical-align: top;\n",
       "    }\n",
       "\n",
       "    .dataframe thead th {\n",
       "        text-align: right;\n",
       "    }\n",
       "</style>\n",
       "<table border=\"1\" class=\"dataframe\">\n",
       "  <thead>\n",
       "    <tr style=\"text-align: right;\">\n",
       "      <th></th>\n",
       "      <th>user_id</th>\n",
       "      <th>age</th>\n",
       "      <th>churn_date</th>\n",
       "      <th>city</th>\n",
       "      <th>first_name</th>\n",
       "      <th>last_name</th>\n",
       "      <th>reg_date</th>\n",
       "      <th>tariff</th>\n",
       "      <th>month</th>\n",
       "      <th>minutes_calls</th>\n",
       "      <th>count_calls</th>\n",
       "      <th>count_messages</th>\n",
       "      <th>mb_used</th>\n",
       "    </tr>\n",
       "  </thead>\n",
       "  <tbody>\n",
       "    <tr>\n",
       "      <th>0</th>\n",
       "      <td>1000</td>\n",
       "      <td>52.0</td>\n",
       "      <td>NaT</td>\n",
       "      <td>Краснодар</td>\n",
       "      <td>Рафаил</td>\n",
       "      <td>Верещагин</td>\n",
       "      <td>2018-05-25</td>\n",
       "      <td>ultra</td>\n",
       "      <td>5.0</td>\n",
       "      <td>159.0</td>\n",
       "      <td>22.0</td>\n",
       "      <td>22.0</td>\n",
       "      <td>2253.49</td>\n",
       "    </tr>\n",
       "    <tr>\n",
       "      <th>1</th>\n",
       "      <td>1000</td>\n",
       "      <td>52.0</td>\n",
       "      <td>NaT</td>\n",
       "      <td>Краснодар</td>\n",
       "      <td>Рафаил</td>\n",
       "      <td>Верещагин</td>\n",
       "      <td>2018-05-25</td>\n",
       "      <td>ultra</td>\n",
       "      <td>6.0</td>\n",
       "      <td>172.0</td>\n",
       "      <td>43.0</td>\n",
       "      <td>60.0</td>\n",
       "      <td>23233.77</td>\n",
       "    </tr>\n",
       "    <tr>\n",
       "      <th>2</th>\n",
       "      <td>1000</td>\n",
       "      <td>52.0</td>\n",
       "      <td>NaT</td>\n",
       "      <td>Краснодар</td>\n",
       "      <td>Рафаил</td>\n",
       "      <td>Верещагин</td>\n",
       "      <td>2018-05-25</td>\n",
       "      <td>ultra</td>\n",
       "      <td>7.0</td>\n",
       "      <td>340.0</td>\n",
       "      <td>47.0</td>\n",
       "      <td>75.0</td>\n",
       "      <td>14003.64</td>\n",
       "    </tr>\n",
       "    <tr>\n",
       "      <th>3</th>\n",
       "      <td>1000</td>\n",
       "      <td>52.0</td>\n",
       "      <td>NaT</td>\n",
       "      <td>Краснодар</td>\n",
       "      <td>Рафаил</td>\n",
       "      <td>Верещагин</td>\n",
       "      <td>2018-05-25</td>\n",
       "      <td>ultra</td>\n",
       "      <td>8.0</td>\n",
       "      <td>408.0</td>\n",
       "      <td>52.0</td>\n",
       "      <td>81.0</td>\n",
       "      <td>14055.93</td>\n",
       "    </tr>\n",
       "    <tr>\n",
       "      <th>4</th>\n",
       "      <td>1000</td>\n",
       "      <td>52.0</td>\n",
       "      <td>NaT</td>\n",
       "      <td>Краснодар</td>\n",
       "      <td>Рафаил</td>\n",
       "      <td>Верещагин</td>\n",
       "      <td>2018-05-25</td>\n",
       "      <td>ultra</td>\n",
       "      <td>9.0</td>\n",
       "      <td>466.0</td>\n",
       "      <td>58.0</td>\n",
       "      <td>57.0</td>\n",
       "      <td>14568.91</td>\n",
       "    </tr>\n",
       "    <tr>\n",
       "      <th>5</th>\n",
       "      <td>1000</td>\n",
       "      <td>52.0</td>\n",
       "      <td>NaT</td>\n",
       "      <td>Краснодар</td>\n",
       "      <td>Рафаил</td>\n",
       "      <td>Верещагин</td>\n",
       "      <td>2018-05-25</td>\n",
       "      <td>ultra</td>\n",
       "      <td>10.0</td>\n",
       "      <td>350.0</td>\n",
       "      <td>57.0</td>\n",
       "      <td>73.0</td>\n",
       "      <td>14702.49</td>\n",
       "    </tr>\n",
       "    <tr>\n",
       "      <th>6</th>\n",
       "      <td>1000</td>\n",
       "      <td>52.0</td>\n",
       "      <td>NaT</td>\n",
       "      <td>Краснодар</td>\n",
       "      <td>Рафаил</td>\n",
       "      <td>Верещагин</td>\n",
       "      <td>2018-05-25</td>\n",
       "      <td>ultra</td>\n",
       "      <td>11.0</td>\n",
       "      <td>338.0</td>\n",
       "      <td>43.0</td>\n",
       "      <td>58.0</td>\n",
       "      <td>14756.47</td>\n",
       "    </tr>\n",
       "    <tr>\n",
       "      <th>7</th>\n",
       "      <td>1000</td>\n",
       "      <td>52.0</td>\n",
       "      <td>NaT</td>\n",
       "      <td>Краснодар</td>\n",
       "      <td>Рафаил</td>\n",
       "      <td>Верещагин</td>\n",
       "      <td>2018-05-25</td>\n",
       "      <td>ultra</td>\n",
       "      <td>12.0</td>\n",
       "      <td>333.0</td>\n",
       "      <td>46.0</td>\n",
       "      <td>70.0</td>\n",
       "      <td>9817.61</td>\n",
       "    </tr>\n",
       "    <tr>\n",
       "      <th>8</th>\n",
       "      <td>1001</td>\n",
       "      <td>41.0</td>\n",
       "      <td>NaT</td>\n",
       "      <td>Москва</td>\n",
       "      <td>Иван</td>\n",
       "      <td>Ежов</td>\n",
       "      <td>2018-11-01</td>\n",
       "      <td>smart</td>\n",
       "      <td>11.0</td>\n",
       "      <td>430.0</td>\n",
       "      <td>59.0</td>\n",
       "      <td>NaN</td>\n",
       "      <td>18429.34</td>\n",
       "    </tr>\n",
       "    <tr>\n",
       "      <th>9</th>\n",
       "      <td>1001</td>\n",
       "      <td>41.0</td>\n",
       "      <td>NaT</td>\n",
       "      <td>Москва</td>\n",
       "      <td>Иван</td>\n",
       "      <td>Ежов</td>\n",
       "      <td>2018-11-01</td>\n",
       "      <td>smart</td>\n",
       "      <td>12.0</td>\n",
       "      <td>414.0</td>\n",
       "      <td>63.0</td>\n",
       "      <td>NaN</td>\n",
       "      <td>14036.66</td>\n",
       "    </tr>\n",
       "  </tbody>\n",
       "</table>\n",
       "</div>"
      ],
      "text/plain": [
       "   user_id   age churn_date       city first_name  last_name   reg_date  \\\n",
       "0     1000  52.0        NaT  Краснодар     Рафаил  Верещагин 2018-05-25   \n",
       "1     1000  52.0        NaT  Краснодар     Рафаил  Верещагин 2018-05-25   \n",
       "2     1000  52.0        NaT  Краснодар     Рафаил  Верещагин 2018-05-25   \n",
       "3     1000  52.0        NaT  Краснодар     Рафаил  Верещагин 2018-05-25   \n",
       "4     1000  52.0        NaT  Краснодар     Рафаил  Верещагин 2018-05-25   \n",
       "5     1000  52.0        NaT  Краснодар     Рафаил  Верещагин 2018-05-25   \n",
       "6     1000  52.0        NaT  Краснодар     Рафаил  Верещагин 2018-05-25   \n",
       "7     1000  52.0        NaT  Краснодар     Рафаил  Верещагин 2018-05-25   \n",
       "8     1001  41.0        NaT     Москва       Иван       Ежов 2018-11-01   \n",
       "9     1001  41.0        NaT     Москва       Иван       Ежов 2018-11-01   \n",
       "\n",
       "  tariff  month  minutes_calls  count_calls  count_messages   mb_used  \n",
       "0  ultra    5.0          159.0         22.0            22.0   2253.49  \n",
       "1  ultra    6.0          172.0         43.0            60.0  23233.77  \n",
       "2  ultra    7.0          340.0         47.0            75.0  14003.64  \n",
       "3  ultra    8.0          408.0         52.0            81.0  14055.93  \n",
       "4  ultra    9.0          466.0         58.0            57.0  14568.91  \n",
       "5  ultra   10.0          350.0         57.0            73.0  14702.49  \n",
       "6  ultra   11.0          338.0         43.0            58.0  14756.47  \n",
       "7  ultra   12.0          333.0         46.0            70.0   9817.61  \n",
       "8  smart   11.0          430.0         59.0             NaN  18429.34  \n",
       "9  smart   12.0          414.0         63.0             NaN  14036.66  "
      ]
     },
     "execution_count": 18,
     "metadata": {},
     "output_type": "execute_result"
    }
   ],
   "source": [
    "data=users.merge(calls_by_month.reset_index(), how='outer')\n",
    "data=data.merge(messages_by_month.reset_index(), how='outer')\n",
    "data=data.merge(mb_by_month.reset_index(), how='outer')\n",
    "data.head(10)"
   ]
  },
  {
   "cell_type": "code",
   "execution_count": 19,
   "metadata": {},
   "outputs": [
    {
     "data": {
      "text/plain": [
       "500"
      ]
     },
     "execution_count": 19,
     "metadata": {},
     "output_type": "execute_result"
    }
   ],
   "source": [
    "len(data['user_id'].unique())"
   ]
  },
  {
   "cell_type": "code",
   "execution_count": 20,
   "metadata": {},
   "outputs": [
    {
     "name": "stdout",
     "output_type": "stream",
     "text": [
      "<class 'pandas.core.frame.DataFrame'>\n",
      "Int64Index: 3222 entries, 0 to 3221\n",
      "Data columns (total 13 columns):\n",
      " #   Column          Non-Null Count  Dtype         \n",
      "---  ------          --------------  -----         \n",
      " 0   user_id         3222 non-null   int64         \n",
      " 1   age             3182 non-null   float64       \n",
      " 2   churn_date      189 non-null    datetime64[ns]\n",
      " 3   city            3182 non-null   object        \n",
      " 4   first_name      3182 non-null   object        \n",
      " 5   last_name       3182 non-null   object        \n",
      " 6   reg_date        3182 non-null   datetime64[ns]\n",
      " 7   tariff          3222 non-null   object        \n",
      " 8   month           3214 non-null   float64       \n",
      " 9   minutes_calls   3174 non-null   float64       \n",
      " 10  count_calls     3174 non-null   float64       \n",
      " 11  count_messages  2717 non-null   float64       \n",
      " 12  mb_used         3203 non-null   float64       \n",
      "dtypes: datetime64[ns](2), float64(6), int64(1), object(4)\n",
      "memory usage: 352.4+ KB\n"
     ]
    }
   ],
   "source": [
    "data.info()"
   ]
  },
  {
   "cell_type": "markdown",
   "metadata": {},
   "source": [
    "Можем заполнить пропущенные значения нулями, т.к. пропуски в этих столбцах означают что пользователь не пользовался данными услугами в этом месяце и они не повлияют на дальнейщие рассчеты:"
   ]
  },
  {
   "cell_type": "code",
   "execution_count": 21,
   "metadata": {},
   "outputs": [
    {
     "name": "stdout",
     "output_type": "stream",
     "text": [
      "<class 'pandas.core.frame.DataFrame'>\n",
      "Int64Index: 3222 entries, 0 to 3221\n",
      "Data columns (total 13 columns):\n",
      " #   Column          Non-Null Count  Dtype  \n",
      "---  ------          --------------  -----  \n",
      " 0   user_id         3222 non-null   int64  \n",
      " 1   age             3222 non-null   float64\n",
      " 2   churn_date      3222 non-null   object \n",
      " 3   city            3222 non-null   object \n",
      " 4   first_name      3222 non-null   object \n",
      " 5   last_name       3222 non-null   object \n",
      " 6   reg_date        3222 non-null   object \n",
      " 7   tariff          3222 non-null   object \n",
      " 8   month           3222 non-null   float64\n",
      " 9   minutes_calls   3222 non-null   float64\n",
      " 10  count_calls     3222 non-null   float64\n",
      " 11  count_messages  3222 non-null   float64\n",
      " 12  mb_used         3222 non-null   float64\n",
      "dtypes: float64(6), int64(1), object(6)\n",
      "memory usage: 352.4+ KB\n"
     ]
    },
    {
     "data": {
      "text/html": [
       "<div>\n",
       "<style scoped>\n",
       "    .dataframe tbody tr th:only-of-type {\n",
       "        vertical-align: middle;\n",
       "    }\n",
       "\n",
       "    .dataframe tbody tr th {\n",
       "        vertical-align: top;\n",
       "    }\n",
       "\n",
       "    .dataframe thead th {\n",
       "        text-align: right;\n",
       "    }\n",
       "</style>\n",
       "<table border=\"1\" class=\"dataframe\">\n",
       "  <thead>\n",
       "    <tr style=\"text-align: right;\">\n",
       "      <th></th>\n",
       "      <th>user_id</th>\n",
       "      <th>age</th>\n",
       "      <th>churn_date</th>\n",
       "      <th>city</th>\n",
       "      <th>first_name</th>\n",
       "      <th>last_name</th>\n",
       "      <th>reg_date</th>\n",
       "      <th>tariff</th>\n",
       "      <th>month</th>\n",
       "      <th>minutes_calls</th>\n",
       "      <th>count_calls</th>\n",
       "      <th>count_messages</th>\n",
       "      <th>mb_used</th>\n",
       "    </tr>\n",
       "  </thead>\n",
       "  <tbody>\n",
       "    <tr>\n",
       "      <th>0</th>\n",
       "      <td>1000</td>\n",
       "      <td>52.0</td>\n",
       "      <td>0</td>\n",
       "      <td>Краснодар</td>\n",
       "      <td>Рафаил</td>\n",
       "      <td>Верещагин</td>\n",
       "      <td>2018-05-25 00:00:00</td>\n",
       "      <td>ultra</td>\n",
       "      <td>5.0</td>\n",
       "      <td>159.0</td>\n",
       "      <td>22.0</td>\n",
       "      <td>22.0</td>\n",
       "      <td>2253.49</td>\n",
       "    </tr>\n",
       "    <tr>\n",
       "      <th>1</th>\n",
       "      <td>1000</td>\n",
       "      <td>52.0</td>\n",
       "      <td>0</td>\n",
       "      <td>Краснодар</td>\n",
       "      <td>Рафаил</td>\n",
       "      <td>Верещагин</td>\n",
       "      <td>2018-05-25 00:00:00</td>\n",
       "      <td>ultra</td>\n",
       "      <td>6.0</td>\n",
       "      <td>172.0</td>\n",
       "      <td>43.0</td>\n",
       "      <td>60.0</td>\n",
       "      <td>23233.77</td>\n",
       "    </tr>\n",
       "    <tr>\n",
       "      <th>2</th>\n",
       "      <td>1000</td>\n",
       "      <td>52.0</td>\n",
       "      <td>0</td>\n",
       "      <td>Краснодар</td>\n",
       "      <td>Рафаил</td>\n",
       "      <td>Верещагин</td>\n",
       "      <td>2018-05-25 00:00:00</td>\n",
       "      <td>ultra</td>\n",
       "      <td>7.0</td>\n",
       "      <td>340.0</td>\n",
       "      <td>47.0</td>\n",
       "      <td>75.0</td>\n",
       "      <td>14003.64</td>\n",
       "    </tr>\n",
       "    <tr>\n",
       "      <th>3</th>\n",
       "      <td>1000</td>\n",
       "      <td>52.0</td>\n",
       "      <td>0</td>\n",
       "      <td>Краснодар</td>\n",
       "      <td>Рафаил</td>\n",
       "      <td>Верещагин</td>\n",
       "      <td>2018-05-25 00:00:00</td>\n",
       "      <td>ultra</td>\n",
       "      <td>8.0</td>\n",
       "      <td>408.0</td>\n",
       "      <td>52.0</td>\n",
       "      <td>81.0</td>\n",
       "      <td>14055.93</td>\n",
       "    </tr>\n",
       "    <tr>\n",
       "      <th>4</th>\n",
       "      <td>1000</td>\n",
       "      <td>52.0</td>\n",
       "      <td>0</td>\n",
       "      <td>Краснодар</td>\n",
       "      <td>Рафаил</td>\n",
       "      <td>Верещагин</td>\n",
       "      <td>2018-05-25 00:00:00</td>\n",
       "      <td>ultra</td>\n",
       "      <td>9.0</td>\n",
       "      <td>466.0</td>\n",
       "      <td>58.0</td>\n",
       "      <td>57.0</td>\n",
       "      <td>14568.91</td>\n",
       "    </tr>\n",
       "  </tbody>\n",
       "</table>\n",
       "</div>"
      ],
      "text/plain": [
       "   user_id   age churn_date       city first_name  last_name  \\\n",
       "0     1000  52.0          0  Краснодар     Рафаил  Верещагин   \n",
       "1     1000  52.0          0  Краснодар     Рафаил  Верещагин   \n",
       "2     1000  52.0          0  Краснодар     Рафаил  Верещагин   \n",
       "3     1000  52.0          0  Краснодар     Рафаил  Верещагин   \n",
       "4     1000  52.0          0  Краснодар     Рафаил  Верещагин   \n",
       "\n",
       "              reg_date tariff  month  minutes_calls  count_calls  \\\n",
       "0  2018-05-25 00:00:00  ultra    5.0          159.0         22.0   \n",
       "1  2018-05-25 00:00:00  ultra    6.0          172.0         43.0   \n",
       "2  2018-05-25 00:00:00  ultra    7.0          340.0         47.0   \n",
       "3  2018-05-25 00:00:00  ultra    8.0          408.0         52.0   \n",
       "4  2018-05-25 00:00:00  ultra    9.0          466.0         58.0   \n",
       "\n",
       "   count_messages   mb_used  \n",
       "0            22.0   2253.49  \n",
       "1            60.0  23233.77  \n",
       "2            75.0  14003.64  \n",
       "3            81.0  14055.93  \n",
       "4            57.0  14568.91  "
      ]
     },
     "execution_count": 21,
     "metadata": {},
     "output_type": "execute_result"
    }
   ],
   "source": [
    "data = data.fillna(0)\n",
    "data.info()\n",
    "data.head()"
   ]
  },
  {
   "cell_type": "markdown",
   "metadata": {},
   "source": [
    "Теперь можем посчитать выручку по каждому пользователю, для этого вычтем бесплатный лимит из суммарного количества звонков, сообщений и интернет-трафика; остаток умножим на значение из тарифного плана; прибавим абонентскую плату, соответствующую тарифному плану:"
   ]
  },
  {
   "cell_type": "code",
   "execution_count": 22,
   "metadata": {
    "scrolled": false
   },
   "outputs": [
    {
     "data": {
      "text/html": [
       "<div>\n",
       "<style scoped>\n",
       "    .dataframe tbody tr th:only-of-type {\n",
       "        vertical-align: middle;\n",
       "    }\n",
       "\n",
       "    .dataframe tbody tr th {\n",
       "        vertical-align: top;\n",
       "    }\n",
       "\n",
       "    .dataframe thead th {\n",
       "        text-align: right;\n",
       "    }\n",
       "</style>\n",
       "<table border=\"1\" class=\"dataframe\">\n",
       "  <thead>\n",
       "    <tr style=\"text-align: right;\">\n",
       "      <th></th>\n",
       "      <th>messages_included</th>\n",
       "      <th>mb_per_month_included</th>\n",
       "      <th>minutes_included</th>\n",
       "      <th>rub_monthly_fee</th>\n",
       "      <th>rub_per_gb</th>\n",
       "      <th>rub_per_message</th>\n",
       "      <th>rub_per_minute</th>\n",
       "      <th>tariff_name</th>\n",
       "    </tr>\n",
       "  </thead>\n",
       "  <tbody>\n",
       "    <tr>\n",
       "      <th>0</th>\n",
       "      <td>50</td>\n",
       "      <td>15360</td>\n",
       "      <td>500</td>\n",
       "      <td>550</td>\n",
       "      <td>200</td>\n",
       "      <td>3</td>\n",
       "      <td>3</td>\n",
       "      <td>smart</td>\n",
       "    </tr>\n",
       "    <tr>\n",
       "      <th>1</th>\n",
       "      <td>1000</td>\n",
       "      <td>30720</td>\n",
       "      <td>3000</td>\n",
       "      <td>1950</td>\n",
       "      <td>150</td>\n",
       "      <td>1</td>\n",
       "      <td>1</td>\n",
       "      <td>ultra</td>\n",
       "    </tr>\n",
       "  </tbody>\n",
       "</table>\n",
       "</div>"
      ],
      "text/plain": [
       "   messages_included  mb_per_month_included  minutes_included  \\\n",
       "0                 50                  15360               500   \n",
       "1               1000                  30720              3000   \n",
       "\n",
       "   rub_monthly_fee  rub_per_gb  rub_per_message  rub_per_minute tariff_name  \n",
       "0              550         200                3               3       smart  \n",
       "1             1950         150                1               1       ultra  "
      ]
     },
     "execution_count": 22,
     "metadata": {},
     "output_type": "execute_result"
    }
   ],
   "source": [
    "tariffs"
   ]
  },
  {
   "cell_type": "markdown",
   "metadata": {},
   "source": [
    "Определим функцию для рассчета прибыли по этой формуле:"
   ]
  },
  {
   "cell_type": "code",
   "execution_count": 23,
   "metadata": {},
   "outputs": [],
   "source": [
    "def total_income(row):    \n",
    "    # произведем расчеты выручки для каждого тарифа\n",
    "    # определим функцию по проверке тарифа и расчета сумм к оплате для каждого абонента\n",
    "    def check(tariff):  \n",
    "        # расчет количества минут сверх тарифа\n",
    "        minutes_extra= row[9] - tariffs[tariffs['tariff_name'] == tariff].iloc[0, 2]\n",
    "        if minutes_extra < 0:\n",
    "            minutes_extra = 0            \n",
    "        # расчет количества мегабайт сверх тарифа\n",
    "        internet_extra = np.ceil((row[12] - tariffs[tariffs['tariff_name'] == tariff].iloc[0, 1]) / 1024)\n",
    "        if internet_extra < 0:\n",
    "            internet_extra = 0\n",
    "        # расчет количества сообщений сверх тарифа\n",
    "        messages_extra = row[11] - tariffs[tariffs['tariff_name'] == tariff].iloc[0, 0]\n",
    "        if messages_extra < 0:\n",
    "            messages_extra = 0\n",
    "        return sum([minutes_extra * tariffs[tariffs['tariff_name'] == tariff].iloc[0, 6], \n",
    "                internet_extra * tariffs[tariffs['tariff_name'] == tariff].iloc[0, 4], \n",
    "                messages_extra * tariffs[tariffs['tariff_name'] == tariff].iloc[0, 5]])\n",
    "    # создадим переменную, в которую сохраним значения суммы оплаты минут, сообщений и мб сверх тарифа\n",
    "    result_income = check(row[7])\n",
    "    return tariffs[tariffs['tariff_name'] == row[7]].iloc[0, 3] + result_income"
   ]
  },
  {
   "cell_type": "markdown",
   "metadata": {},
   "source": [
    "Сохраним значения выручки для каждого пользователя в **total_income**:"
   ]
  },
  {
   "cell_type": "code",
   "execution_count": 24,
   "metadata": {},
   "outputs": [
    {
     "name": "stdout",
     "output_type": "stream",
     "text": [
      "<class 'pandas.core.frame.DataFrame'>\n",
      "Int64Index: 3222 entries, 0 to 3221\n",
      "Data columns (total 14 columns):\n",
      " #   Column          Non-Null Count  Dtype  \n",
      "---  ------          --------------  -----  \n",
      " 0   user_id         3222 non-null   int64  \n",
      " 1   age             3222 non-null   float64\n",
      " 2   churn_date      3222 non-null   object \n",
      " 3   city            3222 non-null   object \n",
      " 4   first_name      3222 non-null   object \n",
      " 5   last_name       3222 non-null   object \n",
      " 6   reg_date        3222 non-null   object \n",
      " 7   tariff          3222 non-null   object \n",
      " 8   month           3222 non-null   float64\n",
      " 9   minutes_calls   3222 non-null   float64\n",
      " 10  count_calls     3222 non-null   float64\n",
      " 11  count_messages  3222 non-null   float64\n",
      " 12  mb_used         3222 non-null   float64\n",
      " 13  total_income    3222 non-null   float64\n",
      "dtypes: float64(7), int64(1), object(6)\n",
      "memory usage: 377.6+ KB\n"
     ]
    }
   ],
   "source": [
    "data['total_income'] = data.apply(total_income, axis=1)\n",
    "data.info()"
   ]
  },
  {
   "cell_type": "markdown",
   "metadata": {},
   "source": [
    "Для удобства преобразуем столбцы к типу **int**:"
   ]
  },
  {
   "cell_type": "code",
   "execution_count": 25,
   "metadata": {},
   "outputs": [],
   "source": [
    "columns = ['month', 'minutes_calls','count_calls', 'count_messages', 'total_income']\n",
    "for column in columns:\n",
    "    data[column] = data[column].astype(int)"
   ]
  },
  {
   "cell_type": "code",
   "execution_count": 26,
   "metadata": {},
   "outputs": [],
   "source": [
    "data['mb_used']=data['mb_used']/1000\n",
    "data.rename(columns = {'mb_used' : 'gb_used'}, inplace = True)"
   ]
  },
  {
   "cell_type": "code",
   "execution_count": 27,
   "metadata": {},
   "outputs": [
    {
     "data": {
      "text/html": [
       "<div>\n",
       "<style scoped>\n",
       "    .dataframe tbody tr th:only-of-type {\n",
       "        vertical-align: middle;\n",
       "    }\n",
       "\n",
       "    .dataframe tbody tr th {\n",
       "        vertical-align: top;\n",
       "    }\n",
       "\n",
       "    .dataframe thead th {\n",
       "        text-align: right;\n",
       "    }\n",
       "</style>\n",
       "<table border=\"1\" class=\"dataframe\">\n",
       "  <thead>\n",
       "    <tr style=\"text-align: right;\">\n",
       "      <th></th>\n",
       "      <th>user_id</th>\n",
       "      <th>age</th>\n",
       "      <th>churn_date</th>\n",
       "      <th>city</th>\n",
       "      <th>first_name</th>\n",
       "      <th>last_name</th>\n",
       "      <th>reg_date</th>\n",
       "      <th>tariff</th>\n",
       "      <th>month</th>\n",
       "      <th>minutes_calls</th>\n",
       "      <th>count_calls</th>\n",
       "      <th>count_messages</th>\n",
       "      <th>gb_used</th>\n",
       "      <th>total_income</th>\n",
       "    </tr>\n",
       "  </thead>\n",
       "  <tbody>\n",
       "    <tr>\n",
       "      <th>0</th>\n",
       "      <td>1000</td>\n",
       "      <td>52.0</td>\n",
       "      <td>0</td>\n",
       "      <td>Краснодар</td>\n",
       "      <td>Рафаил</td>\n",
       "      <td>Верещагин</td>\n",
       "      <td>2018-05-25 00:00:00</td>\n",
       "      <td>ultra</td>\n",
       "      <td>5</td>\n",
       "      <td>159</td>\n",
       "      <td>22</td>\n",
       "      <td>22</td>\n",
       "      <td>2.25349</td>\n",
       "      <td>1950</td>\n",
       "    </tr>\n",
       "    <tr>\n",
       "      <th>1</th>\n",
       "      <td>1000</td>\n",
       "      <td>52.0</td>\n",
       "      <td>0</td>\n",
       "      <td>Краснодар</td>\n",
       "      <td>Рафаил</td>\n",
       "      <td>Верещагин</td>\n",
       "      <td>2018-05-25 00:00:00</td>\n",
       "      <td>ultra</td>\n",
       "      <td>6</td>\n",
       "      <td>172</td>\n",
       "      <td>43</td>\n",
       "      <td>60</td>\n",
       "      <td>23.23377</td>\n",
       "      <td>1950</td>\n",
       "    </tr>\n",
       "    <tr>\n",
       "      <th>2</th>\n",
       "      <td>1000</td>\n",
       "      <td>52.0</td>\n",
       "      <td>0</td>\n",
       "      <td>Краснодар</td>\n",
       "      <td>Рафаил</td>\n",
       "      <td>Верещагин</td>\n",
       "      <td>2018-05-25 00:00:00</td>\n",
       "      <td>ultra</td>\n",
       "      <td>7</td>\n",
       "      <td>340</td>\n",
       "      <td>47</td>\n",
       "      <td>75</td>\n",
       "      <td>14.00364</td>\n",
       "      <td>1950</td>\n",
       "    </tr>\n",
       "    <tr>\n",
       "      <th>3</th>\n",
       "      <td>1000</td>\n",
       "      <td>52.0</td>\n",
       "      <td>0</td>\n",
       "      <td>Краснодар</td>\n",
       "      <td>Рафаил</td>\n",
       "      <td>Верещагин</td>\n",
       "      <td>2018-05-25 00:00:00</td>\n",
       "      <td>ultra</td>\n",
       "      <td>8</td>\n",
       "      <td>408</td>\n",
       "      <td>52</td>\n",
       "      <td>81</td>\n",
       "      <td>14.05593</td>\n",
       "      <td>1950</td>\n",
       "    </tr>\n",
       "    <tr>\n",
       "      <th>4</th>\n",
       "      <td>1000</td>\n",
       "      <td>52.0</td>\n",
       "      <td>0</td>\n",
       "      <td>Краснодар</td>\n",
       "      <td>Рафаил</td>\n",
       "      <td>Верещагин</td>\n",
       "      <td>2018-05-25 00:00:00</td>\n",
       "      <td>ultra</td>\n",
       "      <td>9</td>\n",
       "      <td>466</td>\n",
       "      <td>58</td>\n",
       "      <td>57</td>\n",
       "      <td>14.56891</td>\n",
       "      <td>1950</td>\n",
       "    </tr>\n",
       "    <tr>\n",
       "      <th>5</th>\n",
       "      <td>1000</td>\n",
       "      <td>52.0</td>\n",
       "      <td>0</td>\n",
       "      <td>Краснодар</td>\n",
       "      <td>Рафаил</td>\n",
       "      <td>Верещагин</td>\n",
       "      <td>2018-05-25 00:00:00</td>\n",
       "      <td>ultra</td>\n",
       "      <td>10</td>\n",
       "      <td>350</td>\n",
       "      <td>57</td>\n",
       "      <td>73</td>\n",
       "      <td>14.70249</td>\n",
       "      <td>1950</td>\n",
       "    </tr>\n",
       "    <tr>\n",
       "      <th>6</th>\n",
       "      <td>1000</td>\n",
       "      <td>52.0</td>\n",
       "      <td>0</td>\n",
       "      <td>Краснодар</td>\n",
       "      <td>Рафаил</td>\n",
       "      <td>Верещагин</td>\n",
       "      <td>2018-05-25 00:00:00</td>\n",
       "      <td>ultra</td>\n",
       "      <td>11</td>\n",
       "      <td>338</td>\n",
       "      <td>43</td>\n",
       "      <td>58</td>\n",
       "      <td>14.75647</td>\n",
       "      <td>1950</td>\n",
       "    </tr>\n",
       "    <tr>\n",
       "      <th>7</th>\n",
       "      <td>1000</td>\n",
       "      <td>52.0</td>\n",
       "      <td>0</td>\n",
       "      <td>Краснодар</td>\n",
       "      <td>Рафаил</td>\n",
       "      <td>Верещагин</td>\n",
       "      <td>2018-05-25 00:00:00</td>\n",
       "      <td>ultra</td>\n",
       "      <td>12</td>\n",
       "      <td>333</td>\n",
       "      <td>46</td>\n",
       "      <td>70</td>\n",
       "      <td>9.81761</td>\n",
       "      <td>1950</td>\n",
       "    </tr>\n",
       "    <tr>\n",
       "      <th>8</th>\n",
       "      <td>1001</td>\n",
       "      <td>41.0</td>\n",
       "      <td>0</td>\n",
       "      <td>Москва</td>\n",
       "      <td>Иван</td>\n",
       "      <td>Ежов</td>\n",
       "      <td>2018-11-01 00:00:00</td>\n",
       "      <td>smart</td>\n",
       "      <td>11</td>\n",
       "      <td>430</td>\n",
       "      <td>59</td>\n",
       "      <td>0</td>\n",
       "      <td>18.42934</td>\n",
       "      <td>1150</td>\n",
       "    </tr>\n",
       "    <tr>\n",
       "      <th>9</th>\n",
       "      <td>1001</td>\n",
       "      <td>41.0</td>\n",
       "      <td>0</td>\n",
       "      <td>Москва</td>\n",
       "      <td>Иван</td>\n",
       "      <td>Ежов</td>\n",
       "      <td>2018-11-01 00:00:00</td>\n",
       "      <td>smart</td>\n",
       "      <td>12</td>\n",
       "      <td>414</td>\n",
       "      <td>63</td>\n",
       "      <td>0</td>\n",
       "      <td>14.03666</td>\n",
       "      <td>550</td>\n",
       "    </tr>\n",
       "  </tbody>\n",
       "</table>\n",
       "</div>"
      ],
      "text/plain": [
       "   user_id   age churn_date       city first_name  last_name  \\\n",
       "0     1000  52.0          0  Краснодар     Рафаил  Верещагин   \n",
       "1     1000  52.0          0  Краснодар     Рафаил  Верещагин   \n",
       "2     1000  52.0          0  Краснодар     Рафаил  Верещагин   \n",
       "3     1000  52.0          0  Краснодар     Рафаил  Верещагин   \n",
       "4     1000  52.0          0  Краснодар     Рафаил  Верещагин   \n",
       "5     1000  52.0          0  Краснодар     Рафаил  Верещагин   \n",
       "6     1000  52.0          0  Краснодар     Рафаил  Верещагин   \n",
       "7     1000  52.0          0  Краснодар     Рафаил  Верещагин   \n",
       "8     1001  41.0          0     Москва       Иван       Ежов   \n",
       "9     1001  41.0          0     Москва       Иван       Ежов   \n",
       "\n",
       "              reg_date tariff  month  minutes_calls  count_calls  \\\n",
       "0  2018-05-25 00:00:00  ultra      5            159           22   \n",
       "1  2018-05-25 00:00:00  ultra      6            172           43   \n",
       "2  2018-05-25 00:00:00  ultra      7            340           47   \n",
       "3  2018-05-25 00:00:00  ultra      8            408           52   \n",
       "4  2018-05-25 00:00:00  ultra      9            466           58   \n",
       "5  2018-05-25 00:00:00  ultra     10            350           57   \n",
       "6  2018-05-25 00:00:00  ultra     11            338           43   \n",
       "7  2018-05-25 00:00:00  ultra     12            333           46   \n",
       "8  2018-11-01 00:00:00  smart     11            430           59   \n",
       "9  2018-11-01 00:00:00  smart     12            414           63   \n",
       "\n",
       "   count_messages   gb_used  total_income  \n",
       "0              22   2.25349          1950  \n",
       "1              60  23.23377          1950  \n",
       "2              75  14.00364          1950  \n",
       "3              81  14.05593          1950  \n",
       "4              57  14.56891          1950  \n",
       "5              73  14.70249          1950  \n",
       "6              58  14.75647          1950  \n",
       "7              70   9.81761          1950  \n",
       "8               0  18.42934          1150  \n",
       "9               0  14.03666           550  "
      ]
     },
     "execution_count": 27,
     "metadata": {},
     "output_type": "execute_result"
    }
   ],
   "source": [
    "data.head(10)"
   ]
  },
  {
   "cell_type": "markdown",
   "metadata": {},
   "source": [
    "## Анализ данных"
   ]
  },
  {
   "cell_type": "markdown",
   "metadata": {},
   "source": [
    "Посчитаем среднее, дисперсию и стандартное отклонение по минутам, сообщениям и траффику для каждого тарифа:"
   ]
  },
  {
   "cell_type": "code",
   "execution_count": 28,
   "metadata": {},
   "outputs": [
    {
     "data": {
      "text/html": [
       "<div>\n",
       "<style scoped>\n",
       "    .dataframe tbody tr th:only-of-type {\n",
       "        vertical-align: middle;\n",
       "    }\n",
       "\n",
       "    .dataframe tbody tr th {\n",
       "        vertical-align: top;\n",
       "    }\n",
       "\n",
       "    .dataframe thead tr th {\n",
       "        text-align: left;\n",
       "    }\n",
       "\n",
       "    .dataframe thead tr:last-of-type th {\n",
       "        text-align: right;\n",
       "    }\n",
       "</style>\n",
       "<table border=\"1\" class=\"dataframe\">\n",
       "  <thead>\n",
       "    <tr>\n",
       "      <th></th>\n",
       "      <th colspan=\"3\" halign=\"left\">mean</th>\n",
       "      <th colspan=\"3\" halign=\"left\">median</th>\n",
       "      <th colspan=\"3\" halign=\"left\">var</th>\n",
       "      <th colspan=\"3\" halign=\"left\">std</th>\n",
       "    </tr>\n",
       "    <tr>\n",
       "      <th></th>\n",
       "      <th>count_messages</th>\n",
       "      <th>gb_used</th>\n",
       "      <th>minutes_calls</th>\n",
       "      <th>count_messages</th>\n",
       "      <th>gb_used</th>\n",
       "      <th>minutes_calls</th>\n",
       "      <th>count_messages</th>\n",
       "      <th>gb_used</th>\n",
       "      <th>minutes_calls</th>\n",
       "      <th>count_messages</th>\n",
       "      <th>gb_used</th>\n",
       "      <th>minutes_calls</th>\n",
       "    </tr>\n",
       "    <tr>\n",
       "      <th>tariff</th>\n",
       "      <th></th>\n",
       "      <th></th>\n",
       "      <th></th>\n",
       "      <th></th>\n",
       "      <th></th>\n",
       "      <th></th>\n",
       "      <th></th>\n",
       "      <th></th>\n",
       "      <th></th>\n",
       "      <th></th>\n",
       "      <th></th>\n",
       "      <th></th>\n",
       "    </tr>\n",
       "  </thead>\n",
       "  <tbody>\n",
       "    <tr>\n",
       "      <th>smart</th>\n",
       "      <td>33.354101</td>\n",
       "      <td>16.193857</td>\n",
       "      <td>417.560287</td>\n",
       "      <td>28</td>\n",
       "      <td>16.50411</td>\n",
       "      <td>421</td>\n",
       "      <td>797.096978</td>\n",
       "      <td>34.666993</td>\n",
       "      <td>36343.346028</td>\n",
       "      <td>28.232906</td>\n",
       "      <td>5.887868</td>\n",
       "      <td>190.639309</td>\n",
       "    </tr>\n",
       "    <tr>\n",
       "      <th>ultra</th>\n",
       "      <td>49.064581</td>\n",
       "      <td>19.350932</td>\n",
       "      <td>523.434914</td>\n",
       "      <td>38</td>\n",
       "      <td>19.25466</td>\n",
       "      <td>515</td>\n",
       "      <td>2286.094815</td>\n",
       "      <td>103.417611</td>\n",
       "      <td>101932.902578</td>\n",
       "      <td>47.813124</td>\n",
       "      <td>10.169445</td>\n",
       "      <td>319.269326</td>\n",
       "    </tr>\n",
       "  </tbody>\n",
       "</table>\n",
       "</div>"
      ],
      "text/plain": [
       "                 mean                                  median            \\\n",
       "       count_messages    gb_used minutes_calls count_messages   gb_used   \n",
       "tariff                                                                    \n",
       "smart       33.354101  16.193857    417.560287             28  16.50411   \n",
       "ultra       49.064581  19.350932    523.434914             38  19.25466   \n",
       "\n",
       "                                var                                       std  \\\n",
       "       minutes_calls count_messages     gb_used  minutes_calls count_messages   \n",
       "tariff                                                                          \n",
       "smart            421     797.096978   34.666993   36343.346028      28.232906   \n",
       "ultra            515    2286.094815  103.417611  101932.902578      47.813124   \n",
       "\n",
       "                                 \n",
       "          gb_used minutes_calls  \n",
       "tariff                           \n",
       "smart    5.887868    190.639309  \n",
       "ultra   10.169445    319.269326  "
      ]
     },
     "execution_count": 28,
     "metadata": {},
     "output_type": "execute_result"
    }
   ],
   "source": [
    "data_tariffs=data.pivot_table(index=['tariff'], values=['minutes_calls', 'count_messages', 'gb_used'], aggfunc=['mean','median','var','std'])\n",
    "data_tariffs"
   ]
  },
  {
   "cell_type": "markdown",
   "metadata": {},
   "source": [
    "\n",
    "- Абоненты тарифа 'smart' тратят меньше минут на разговоры и меньше мегабайт интернет-трафика, а также отправляют меньше сообщений.\n",
    "- Стандартные отклонения для пользователей тарифа 'ultra' больше, чем для 'smart', что означает, что пользователи тарифа 'ultra' используют тарифные опции с большим разбросом.\n",
    "- Среднее и медианна довольно близки, а значит в распределении не так много выбросов."
   ]
  },
  {
   "cell_type": "code",
   "execution_count": 29,
   "metadata": {},
   "outputs": [
    {
     "data": {
      "text/html": [
       "<div>\n",
       "<style scoped>\n",
       "    .dataframe tbody tr th:only-of-type {\n",
       "        vertical-align: middle;\n",
       "    }\n",
       "\n",
       "    .dataframe tbody tr th {\n",
       "        vertical-align: top;\n",
       "    }\n",
       "\n",
       "    .dataframe thead th {\n",
       "        text-align: right;\n",
       "    }\n",
       "</style>\n",
       "<table border=\"1\" class=\"dataframe\">\n",
       "  <thead>\n",
       "    <tr style=\"text-align: right;\">\n",
       "      <th></th>\n",
       "      <th>user_id</th>\n",
       "      <th>age</th>\n",
       "      <th>month</th>\n",
       "      <th>minutes_calls</th>\n",
       "      <th>count_calls</th>\n",
       "      <th>count_messages</th>\n",
       "      <th>gb_used</th>\n",
       "      <th>total_income</th>\n",
       "    </tr>\n",
       "  </thead>\n",
       "  <tbody>\n",
       "    <tr>\n",
       "      <th>count</th>\n",
       "      <td>2231.000000</td>\n",
       "      <td>2231.000000</td>\n",
       "      <td>2231.00000</td>\n",
       "      <td>2231.000000</td>\n",
       "      <td>2231.000000</td>\n",
       "      <td>2231.000000</td>\n",
       "      <td>2231.000000</td>\n",
       "      <td>2231.000000</td>\n",
       "    </tr>\n",
       "    <tr>\n",
       "      <th>mean</th>\n",
       "      <td>1246.671000</td>\n",
       "      <td>46.458987</td>\n",
       "      <td>8.33931</td>\n",
       "      <td>417.560287</td>\n",
       "      <td>58.411026</td>\n",
       "      <td>33.354101</td>\n",
       "      <td>16.193857</td>\n",
       "      <td>1289.310175</td>\n",
       "    </tr>\n",
       "    <tr>\n",
       "      <th>std</th>\n",
       "      <td>146.167884</td>\n",
       "      <td>16.513943</td>\n",
       "      <td>2.92968</td>\n",
       "      <td>190.639309</td>\n",
       "      <td>25.987217</td>\n",
       "      <td>28.232906</td>\n",
       "      <td>5.887868</td>\n",
       "      <td>818.337124</td>\n",
       "    </tr>\n",
       "    <tr>\n",
       "      <th>min</th>\n",
       "      <td>1001.000000</td>\n",
       "      <td>0.000000</td>\n",
       "      <td>0.00000</td>\n",
       "      <td>0.000000</td>\n",
       "      <td>0.000000</td>\n",
       "      <td>0.000000</td>\n",
       "      <td>0.000000</td>\n",
       "      <td>550.000000</td>\n",
       "    </tr>\n",
       "    <tr>\n",
       "      <th>25%</th>\n",
       "      <td>1121.000000</td>\n",
       "      <td>32.000000</td>\n",
       "      <td>6.00000</td>\n",
       "      <td>282.000000</td>\n",
       "      <td>40.000000</td>\n",
       "      <td>10.000000</td>\n",
       "      <td>12.625225</td>\n",
       "      <td>550.000000</td>\n",
       "    </tr>\n",
       "    <tr>\n",
       "      <th>50%</th>\n",
       "      <td>1241.000000</td>\n",
       "      <td>47.000000</td>\n",
       "      <td>9.00000</td>\n",
       "      <td>421.000000</td>\n",
       "      <td>60.000000</td>\n",
       "      <td>28.000000</td>\n",
       "      <td>16.504110</td>\n",
       "      <td>1019.000000</td>\n",
       "    </tr>\n",
       "    <tr>\n",
       "      <th>75%</th>\n",
       "      <td>1376.000000</td>\n",
       "      <td>62.000000</td>\n",
       "      <td>11.00000</td>\n",
       "      <td>545.000000</td>\n",
       "      <td>76.000000</td>\n",
       "      <td>51.000000</td>\n",
       "      <td>20.041285</td>\n",
       "      <td>1750.000000</td>\n",
       "    </tr>\n",
       "    <tr>\n",
       "      <th>max</th>\n",
       "      <td>1499.000000</td>\n",
       "      <td>75.000000</td>\n",
       "      <td>12.00000</td>\n",
       "      <td>1435.000000</td>\n",
       "      <td>198.000000</td>\n",
       "      <td>143.000000</td>\n",
       "      <td>38.552450</td>\n",
       "      <td>6770.000000</td>\n",
       "    </tr>\n",
       "  </tbody>\n",
       "</table>\n",
       "</div>"
      ],
      "text/plain": [
       "           user_id          age       month  minutes_calls  count_calls  \\\n",
       "count  2231.000000  2231.000000  2231.00000    2231.000000  2231.000000   \n",
       "mean   1246.671000    46.458987     8.33931     417.560287    58.411026   \n",
       "std     146.167884    16.513943     2.92968     190.639309    25.987217   \n",
       "min    1001.000000     0.000000     0.00000       0.000000     0.000000   \n",
       "25%    1121.000000    32.000000     6.00000     282.000000    40.000000   \n",
       "50%    1241.000000    47.000000     9.00000     421.000000    60.000000   \n",
       "75%    1376.000000    62.000000    11.00000     545.000000    76.000000   \n",
       "max    1499.000000    75.000000    12.00000    1435.000000   198.000000   \n",
       "\n",
       "       count_messages      gb_used  total_income  \n",
       "count     2231.000000  2231.000000   2231.000000  \n",
       "mean        33.354101    16.193857   1289.310175  \n",
       "std         28.232906     5.887868    818.337124  \n",
       "min          0.000000     0.000000    550.000000  \n",
       "25%         10.000000    12.625225    550.000000  \n",
       "50%         28.000000    16.504110   1019.000000  \n",
       "75%         51.000000    20.041285   1750.000000  \n",
       "max        143.000000    38.552450   6770.000000  "
      ]
     },
     "execution_count": 29,
     "metadata": {},
     "output_type": "execute_result"
    }
   ],
   "source": [
    "data[data['tariff']=='smart'].describe()"
   ]
  },
  {
   "cell_type": "code",
   "execution_count": 30,
   "metadata": {},
   "outputs": [
    {
     "data": {
      "text/html": [
       "<div>\n",
       "<style scoped>\n",
       "    .dataframe tbody tr th:only-of-type {\n",
       "        vertical-align: middle;\n",
       "    }\n",
       "\n",
       "    .dataframe tbody tr th {\n",
       "        vertical-align: top;\n",
       "    }\n",
       "\n",
       "    .dataframe thead th {\n",
       "        text-align: right;\n",
       "    }\n",
       "</style>\n",
       "<table border=\"1\" class=\"dataframe\">\n",
       "  <thead>\n",
       "    <tr style=\"text-align: right;\">\n",
       "      <th></th>\n",
       "      <th>user_id</th>\n",
       "      <th>age</th>\n",
       "      <th>month</th>\n",
       "      <th>minutes_calls</th>\n",
       "      <th>count_calls</th>\n",
       "      <th>count_messages</th>\n",
       "      <th>gb_used</th>\n",
       "      <th>total_income</th>\n",
       "    </tr>\n",
       "  </thead>\n",
       "  <tbody>\n",
       "    <tr>\n",
       "      <th>count</th>\n",
       "      <td>991.000000</td>\n",
       "      <td>991.000000</td>\n",
       "      <td>991.000000</td>\n",
       "      <td>991.000000</td>\n",
       "      <td>991.000000</td>\n",
       "      <td>991.000000</td>\n",
       "      <td>991.000000</td>\n",
       "      <td>991.000000</td>\n",
       "    </tr>\n",
       "    <tr>\n",
       "      <th>mean</th>\n",
       "      <td>1262.870838</td>\n",
       "      <td>45.150353</td>\n",
       "      <td>8.200807</td>\n",
       "      <td>523.434914</td>\n",
       "      <td>72.948537</td>\n",
       "      <td>49.064581</td>\n",
       "      <td>19.350932</td>\n",
       "      <td>2069.424823</td>\n",
       "    </tr>\n",
       "    <tr>\n",
       "      <th>std</th>\n",
       "      <td>140.705780</td>\n",
       "      <td>18.816729</td>\n",
       "      <td>2.933788</td>\n",
       "      <td>319.269326</td>\n",
       "      <td>44.152564</td>\n",
       "      <td>47.813124</td>\n",
       "      <td>10.169445</td>\n",
       "      <td>375.161342</td>\n",
       "    </tr>\n",
       "    <tr>\n",
       "      <th>min</th>\n",
       "      <td>1000.000000</td>\n",
       "      <td>0.000000</td>\n",
       "      <td>0.000000</td>\n",
       "      <td>0.000000</td>\n",
       "      <td>0.000000</td>\n",
       "      <td>0.000000</td>\n",
       "      <td>0.000000</td>\n",
       "      <td>1950.000000</td>\n",
       "    </tr>\n",
       "    <tr>\n",
       "      <th>25%</th>\n",
       "      <td>1143.000000</td>\n",
       "      <td>29.000000</td>\n",
       "      <td>6.000000</td>\n",
       "      <td>278.500000</td>\n",
       "      <td>40.000000</td>\n",
       "      <td>6.000000</td>\n",
       "      <td>11.576290</td>\n",
       "      <td>1950.000000</td>\n",
       "    </tr>\n",
       "    <tr>\n",
       "      <th>50%</th>\n",
       "      <td>1277.000000</td>\n",
       "      <td>44.000000</td>\n",
       "      <td>9.000000</td>\n",
       "      <td>515.000000</td>\n",
       "      <td>73.000000</td>\n",
       "      <td>38.000000</td>\n",
       "      <td>19.254660</td>\n",
       "      <td>1950.000000</td>\n",
       "    </tr>\n",
       "    <tr>\n",
       "      <th>75%</th>\n",
       "      <td>1381.000000</td>\n",
       "      <td>63.000000</td>\n",
       "      <td>11.000000</td>\n",
       "      <td>751.000000</td>\n",
       "      <td>103.000000</td>\n",
       "      <td>78.000000</td>\n",
       "      <td>26.809310</td>\n",
       "      <td>1950.000000</td>\n",
       "    </tr>\n",
       "    <tr>\n",
       "      <th>max</th>\n",
       "      <td>1495.000000</td>\n",
       "      <td>75.000000</td>\n",
       "      <td>12.000000</td>\n",
       "      <td>1673.000000</td>\n",
       "      <td>244.000000</td>\n",
       "      <td>224.000000</td>\n",
       "      <td>49.745690</td>\n",
       "      <td>4800.000000</td>\n",
       "    </tr>\n",
       "  </tbody>\n",
       "</table>\n",
       "</div>"
      ],
      "text/plain": [
       "           user_id         age       month  minutes_calls  count_calls  \\\n",
       "count   991.000000  991.000000  991.000000     991.000000   991.000000   \n",
       "mean   1262.870838   45.150353    8.200807     523.434914    72.948537   \n",
       "std     140.705780   18.816729    2.933788     319.269326    44.152564   \n",
       "min    1000.000000    0.000000    0.000000       0.000000     0.000000   \n",
       "25%    1143.000000   29.000000    6.000000     278.500000    40.000000   \n",
       "50%    1277.000000   44.000000    9.000000     515.000000    73.000000   \n",
       "75%    1381.000000   63.000000   11.000000     751.000000   103.000000   \n",
       "max    1495.000000   75.000000   12.000000    1673.000000   244.000000   \n",
       "\n",
       "       count_messages     gb_used  total_income  \n",
       "count      991.000000  991.000000    991.000000  \n",
       "mean        49.064581   19.350932   2069.424823  \n",
       "std         47.813124   10.169445    375.161342  \n",
       "min          0.000000    0.000000   1950.000000  \n",
       "25%          6.000000   11.576290   1950.000000  \n",
       "50%         38.000000   19.254660   1950.000000  \n",
       "75%         78.000000   26.809310   1950.000000  \n",
       "max        224.000000   49.745690   4800.000000  "
      ]
     },
     "execution_count": 30,
     "metadata": {},
     "output_type": "execute_result"
    }
   ],
   "source": [
    "data[data['tariff']=='ultra'].describe()"
   ]
  },
  {
   "cell_type": "markdown",
   "metadata": {},
   "source": [
    "- Пользователи тарифа \"Smart\" превышают лимит 15Гб и платят за дополнительные мегабайты чаще, чем в половине случаев. Пользователи \"Ultra\" используют интернет активнее (в среднем на 3Гб), но больше чем в 75% случаев не выходят за увеличенный лимит в 30Гб."
   ]
  },
  {
   "cell_type": "markdown",
   "metadata": {},
   "source": [
    "Построим гистограммы для звонков, сообщений и интернет-трафика для тарифов:"
   ]
  },
  {
   "cell_type": "code",
   "execution_count": 31,
   "metadata": {},
   "outputs": [
    {
     "data": {
      "image/png": "[encoded data removed]",
      "text/plain": [
       "<Figure size 720x504 with 1 Axes>"
      ]
     },
     "metadata": {
      "needs_background": "light"
     },
     "output_type": "display_data"
    }
   ],
   "source": [
    "data[data['tariff'] == 'smart']['minutes_calls'].plot(kind='hist', title='длительность звонков', label='smart', bins=70, alpha=0.7, figsize=(10, 7))\n",
    "data[data['tariff'] == 'ultra']['minutes_calls'].plot(kind='hist', title='длительность звонков', label='ultra', bins=70, alpha=0.7, figsize=(10, 7))\n",
    "plt.legend(loc='upper right')\n",
    "plt.show()"
   ]
  },
  {
   "cell_type": "code",
   "execution_count": 32,
   "metadata": {},
   "outputs": [
    {
     "data": {
      "image/png": "[encoded data removed]",
      "text/plain": [
       "<Figure size 720x504 with 1 Axes>"
      ]
     },
     "metadata": {
      "needs_background": "light"
     },
     "output_type": "display_data"
    }
   ],
   "source": [
    "data[data['tariff'] == 'smart']['count_messages'].plot(kind='hist', title='количество сообщений', label='smart', bins=70, alpha=0.7, figsize=(10, 7))\n",
    "data[data['tariff'] == 'ultra']['count_messages'].plot(kind='hist', title='количество сообщений', label='ultra', bins=70, alpha=0.7, figsize=(10, 7))\n",
    "plt.legend(loc='upper right')\n",
    "plt.show()"
   ]
  },
  {
   "cell_type": "code",
   "execution_count": 33,
   "metadata": {},
   "outputs": [
    {
     "data": {
      "image/png": "[encoded data removed]",
      "text/plain": [
       "<Figure size 720x504 with 1 Axes>"
      ]
     },
     "metadata": {
      "needs_background": "light"
     },
     "output_type": "display_data"
    }
   ],
   "source": [
    "data[data['tariff'] == 'smart']['gb_used'].plot(kind='hist', title='обьем интернет-трафика', label='smart', bins=70, alpha=0.7, figsize=(10, 7))\n",
    "data[data['tariff'] == 'ultra']['gb_used'].plot(kind='hist', title='обьем интернет-трафика', label='ultra', bins=70, alpha=0.7, figsize=(10, 7))\n",
    "plt.legend(loc='upper right')\n",
    "plt.show()"
   ]
  },
  {
   "cell_type": "markdown",
   "metadata": {},
   "source": [
    "\n",
    "Распределения длительности звонков тяготеют к нормальным со смещением вправо для двух тарифов.\n",
    "Распределение интернет траффика для тарифа 'smart' выглядит нормально, для тарифа 'ultra' можно наблюдать смещение вправо.\n",
    "Распределение количества сообщений выглядит логнормальным.Пользователей, отправляющих много сообщений, мало.\n",
    "\n",
    "Пользователи **smart** в основном потребляют:\n",
    "от 350 до 550 минут;\n",
    "от 12 до 22 гб;\n",
    "до 60 сообщений.\n",
    "\n",
    "Пользователи **ultra** в основном потребляют:\n",
    "от 250 до 850 минут;\n",
    "от 10 до 30 гб;\n",
    "до 100 сообщений."
   ]
  },
  {
   "cell_type": "code",
   "execution_count": 34,
   "metadata": {},
   "outputs": [
    {
     "data": {
      "text/html": [
       "<div>\n",
       "<style scoped>\n",
       "    .dataframe tbody tr th:only-of-type {\n",
       "        vertical-align: middle;\n",
       "    }\n",
       "\n",
       "    .dataframe tbody tr th {\n",
       "        vertical-align: top;\n",
       "    }\n",
       "\n",
       "    .dataframe thead tr th {\n",
       "        text-align: left;\n",
       "    }\n",
       "\n",
       "    .dataframe thead tr:last-of-type th {\n",
       "        text-align: right;\n",
       "    }\n",
       "</style>\n",
       "<table border=\"1\" class=\"dataframe\">\n",
       "  <thead>\n",
       "    <tr>\n",
       "      <th></th>\n",
       "      <th>mean</th>\n",
       "      <th>median</th>\n",
       "      <th>var</th>\n",
       "      <th>std</th>\n",
       "    </tr>\n",
       "    <tr>\n",
       "      <th></th>\n",
       "      <th>total_income</th>\n",
       "      <th>total_income</th>\n",
       "      <th>total_income</th>\n",
       "      <th>total_income</th>\n",
       "    </tr>\n",
       "    <tr>\n",
       "      <th>tariff</th>\n",
       "      <th></th>\n",
       "      <th></th>\n",
       "      <th></th>\n",
       "      <th></th>\n",
       "    </tr>\n",
       "  </thead>\n",
       "  <tbody>\n",
       "    <tr>\n",
       "      <th>smart</th>\n",
       "      <td>1289.310175</td>\n",
       "      <td>1019</td>\n",
       "      <td>669675.649040</td>\n",
       "      <td>818.337124</td>\n",
       "    </tr>\n",
       "    <tr>\n",
       "      <th>ultra</th>\n",
       "      <td>2069.424823</td>\n",
       "      <td>1950</td>\n",
       "      <td>140746.032474</td>\n",
       "      <td>375.161342</td>\n",
       "    </tr>\n",
       "  </tbody>\n",
       "</table>\n",
       "</div>"
      ],
      "text/plain": [
       "               mean       median            var          std\n",
       "       total_income total_income   total_income total_income\n",
       "tariff                                                      \n",
       "smart   1289.310175         1019  669675.649040   818.337124\n",
       "ultra   2069.424823         1950  140746.032474   375.161342"
      ]
     },
     "execution_count": 34,
     "metadata": {},
     "output_type": "execute_result"
    }
   ],
   "source": [
    "data_income=data.pivot_table(index=['tariff'], values=['total_income'], aggfunc=['mean','median','var','std'])\n",
    "data_income"
   ]
  },
  {
   "cell_type": "code",
   "execution_count": 35,
   "metadata": {},
   "outputs": [
    {
     "data": {
      "image/png": "[encoded data removed]",
      "text/plain": [
       "<Figure size 720x504 with 1 Axes>"
      ]
     },
     "metadata": {
      "needs_background": "light"
     },
     "output_type": "display_data"
    }
   ],
   "source": [
    "data[data['tariff'] == 'smart']['total_income'].plot(kind='hist', title='выручка', label='smart', bins=70, alpha=0.7, figsize=(10, 7))\n",
    "data[data['tariff'] == 'ultra']['total_income'].plot(kind='hist', title='выручка', label='ultra', bins=70, alpha=0.7, figsize=(10, 7))\n",
    "plt.legend(loc='upper right')\n",
    "plt.show()"
   ]
  },
  {
   "cell_type": "markdown",
   "metadata": {},
   "source": [
    "Распределения выручки говорят о том, что пользователи тарифа **'smart'** чаще выходят за границы пакетов, принося прибыль помимо абонентской платы."
   ]
  },
  {
   "cell_type": "markdown",
   "metadata": {},
   "source": [
    "## Проверка гипотез"
   ]
  },
  {
   "cell_type": "markdown",
   "metadata": {},
   "source": [
    "**Средняя выручка пользователей тарифов «Ультра» и «Смарт» различаются**"
   ]
  },
  {
   "cell_type": "markdown",
   "metadata": {},
   "source": [
    "- Нулевая гипотеза - средняя выручка пользователей тарифов «Ультра» и «Смарт» равны.\n",
    "\n",
    "- Альтернативная гипотеза - средняя выручка пользователей тарифов «Ультра» и «Смарт» не равны.\n"
   ]
  },
  {
   "cell_type": "markdown",
   "metadata": {},
   "source": [
    "Проверка гипотезы о равенстве среднего двух генеральных совокупностей по взятым из них выборкам для независимых выборок:"
   ]
  },
  {
   "cell_type": "code",
   "execution_count": 36,
   "metadata": {},
   "outputs": [
    {
     "name": "stdout",
     "output_type": "stream",
     "text": [
      "p-значение: 1.7629500022347535e-161\n",
      "Отвергаем нулевую гипотезу\n"
     ]
    }
   ],
   "source": [
    "alpha = .05 #зададим 5% уровень значимости\n",
    "result = st.ttest_ind(data[data['tariff'] == 'smart']['total_income'], \n",
    "                      data[data['tariff'] == 'ultra']['total_income'])\n",
    "\n",
    "print('p-значение:', result.pvalue)\n",
    "\n",
    "if (result.pvalue < alpha):\n",
    "    print(\"Отвергаем нулевую гипотезу\")\n",
    "else:\n",
    "    print(\"Не получилось отвергнуть нулевую гипотезу\")"
   ]
  },
  {
   "cell_type": "markdown",
   "metadata": {},
   "source": [
    "Уровень значимости статистики разности средних  очень мал. Можем отвергнуть нулевую гипотезу, а значит вероятнее всего средние выручки для двух тарифов не равны."
   ]
  },
  {
   "cell_type": "markdown",
   "metadata": {},
   "source": [
    "**Средняя выручка пользователей из Москвы отличается от выручки пользователей из других регионов**"
   ]
  },
  {
   "cell_type": "markdown",
   "metadata": {},
   "source": [
    "- Нулевая гипотеза - средняя выручка пользователей из Москвы и пользователей из других регионов равны.\n",
    "\n",
    "- Альтернативная гипотеза - средняя выручка пользователей из Москвы и пользователей из других регионов различны."
   ]
  },
  {
   "cell_type": "code",
   "execution_count": 37,
   "metadata": {},
   "outputs": [
    {
     "name": "stdout",
     "output_type": "stream",
     "text": [
      "p-значение: 0.5636048697654608\n",
      "Не получилось отвергнуть нулевую гипотезу\n"
     ]
    }
   ],
   "source": [
    "alpha = .05 #зададим 5% уровень значимости\n",
    "result = st.ttest_ind(data.query('city == \"Москва\"')['total_income'], \n",
    "                      data.query('city != \"Москва\"')['total_income'])\n",
    "\n",
    "print('p-значение:', result.pvalue)\n",
    "\n",
    "if (result.pvalue < alpha):\n",
    "    print(\"Отвергаем нулевую гипотезу\")\n",
    "else:\n",
    "    print(\"Не получилось отвергнуть нулевую гипотезу\")"
   ]
  },
  {
   "cell_type": "markdown",
   "metadata": {},
   "source": [
    "Вероятность ошибки при отклонении этой гипотезы около 46%, поэтому мы не можем отвергнуть нулевую гипотезу. С высокой вероятностью средняя выручка пользователей из Москвы и пользователей из других регионов равны."
   ]
  },
  {
   "cell_type": "markdown",
   "metadata": {},
   "source": [
    "## Выводы"
   ]
  },
  {
   "cell_type": "markdown",
   "metadata": {},
   "source": [
    "После обработки и анализа данных 500 пользователей мобильного оператора можно сделать следующие выводы:\n",
    "\n",
    "- Основные различия между пользовательским поведением - значительное увеличение потребления интернет-трафика на тарифе 'ultra'. Длительность звонков и отправка сообщений значительно не различаются.\n",
    "- Пользователи тарифа 'smart' в половине случаев не укладываются в лимиты звонков и трафика, но даже с учетом оплаты сверх лимита тратят в среднем меньше суммы абонентской платы тарифа 'ultra'.\n",
    "- Тариф 'ultra' более выгоден для мобильного оператора. Меньше 25% пользователей превышают лимиты, но средняя выручка выше за счет высокой абонентской платы.\n",
    "\n",
    "**Рекламный бюджет целесообразно перераспределить в пользу тарифа 'ultra', несмотря на то, что его абоненты не покупают дополнительные минуты и сообщения, в отличие от абонентов тарифа 'smart'. Так же можно заметить, что медианное и среднее значение дохода у абонентов тарифа 'ultra' выше.**"
   ]
  }
 ],
 "metadata": {
  "ExecuteTimeLog": [
   {
    "duration": 1274,
    "start_time": "2022-06-20T17:11:04.844Z"
   },
   {
    "duration": 4,
    "start_time": "2022-06-20T17:12:49.254Z"
   },
   {
    "duration": 1310,
    "start_time": "2022-06-20T17:13:19.047Z"
   },
   {
    "duration": 18,
    "start_time": "2022-06-20T17:13:46.722Z"
   },
   {
    "duration": 11,
    "start_time": "2022-06-20T17:13:59.636Z"
   },
   {
    "duration": 47,
    "start_time": "2022-06-21T08:14:25.959Z"
   },
   {
    "duration": 6,
    "start_time": "2022-06-21T08:14:35.004Z"
   },
   {
    "duration": 1147,
    "start_time": "2022-06-21T08:14:41.301Z"
   },
   {
    "duration": 987,
    "start_time": "2022-06-21T08:14:43.632Z"
   },
   {
    "duration": 33,
    "start_time": "2022-06-21T08:14:45.883Z"
   },
   {
    "duration": 27,
    "start_time": "2022-06-21T08:19:45.392Z"
   },
   {
    "duration": 23,
    "start_time": "2022-06-21T08:29:57.564Z"
   },
   {
    "duration": 26,
    "start_time": "2022-06-21T08:30:30.858Z"
   },
   {
    "duration": 22,
    "start_time": "2022-06-21T08:31:04.883Z"
   },
   {
    "duration": 19,
    "start_time": "2022-06-21T08:36:49.940Z"
   },
   {
    "duration": 3,
    "start_time": "2022-06-21T08:38:49.898Z"
   },
   {
    "duration": 435,
    "start_time": "2022-06-21T08:38:49.905Z"
   },
   {
    "duration": 28,
    "start_time": "2022-06-21T08:38:50.342Z"
   },
   {
    "duration": 28,
    "start_time": "2022-06-21T08:38:50.372Z"
   },
   {
    "duration": 56,
    "start_time": "2022-06-21T08:38:50.402Z"
   },
   {
    "duration": 20,
    "start_time": "2022-06-21T08:38:50.460Z"
   },
   {
    "duration": 18,
    "start_time": "2022-06-21T08:40:15.393Z"
   },
   {
    "duration": 16,
    "start_time": "2022-06-21T08:40:20.467Z"
   },
   {
    "duration": 24,
    "start_time": "2022-06-21T08:40:59.096Z"
   },
   {
    "duration": 3,
    "start_time": "2022-06-21T08:41:09.024Z"
   },
   {
    "duration": 372,
    "start_time": "2022-06-21T08:41:09.030Z"
   },
   {
    "duration": 30,
    "start_time": "2022-06-21T08:41:09.404Z"
   },
   {
    "duration": 26,
    "start_time": "2022-06-21T08:41:09.436Z"
   },
   {
    "duration": 22,
    "start_time": "2022-06-21T08:41:09.463Z"
   },
   {
    "duration": 16,
    "start_time": "2022-06-21T08:41:09.487Z"
   },
   {
    "duration": 51,
    "start_time": "2022-06-21T08:41:09.504Z"
   },
   {
    "duration": 3,
    "start_time": "2022-06-21T08:41:29.297Z"
   },
   {
    "duration": 453,
    "start_time": "2022-06-21T08:41:29.303Z"
   },
   {
    "duration": 30,
    "start_time": "2022-06-21T08:41:29.757Z"
   },
   {
    "duration": 25,
    "start_time": "2022-06-21T08:41:29.789Z"
   },
   {
    "duration": 44,
    "start_time": "2022-06-21T08:41:29.816Z"
   },
   {
    "duration": 18,
    "start_time": "2022-06-21T08:41:29.861Z"
   },
   {
    "duration": 20,
    "start_time": "2022-06-21T08:41:29.881Z"
   },
   {
    "duration": 1189,
    "start_time": "2022-06-21T08:42:45.015Z"
   },
   {
    "duration": 452,
    "start_time": "2022-06-21T08:42:46.206Z"
   },
   {
    "duration": 38,
    "start_time": "2022-06-21T08:42:46.660Z"
   },
   {
    "duration": 31,
    "start_time": "2022-06-21T08:42:46.701Z"
   },
   {
    "duration": 25,
    "start_time": "2022-06-21T08:42:46.751Z"
   },
   {
    "duration": 26,
    "start_time": "2022-06-21T08:42:46.778Z"
   },
   {
    "duration": 64,
    "start_time": "2022-06-21T08:42:46.806Z"
   },
   {
    "duration": 63,
    "start_time": "2022-06-21T15:39:40.370Z"
   },
   {
    "duration": 35,
    "start_time": "2022-06-21T15:40:07.632Z"
   },
   {
    "duration": 48,
    "start_time": "2022-06-21T15:47:35.297Z"
   },
   {
    "duration": 11,
    "start_time": "2022-06-21T15:47:49.982Z"
   },
   {
    "duration": 3,
    "start_time": "2022-06-21T16:04:17.483Z"
   },
   {
    "duration": 69,
    "start_time": "2022-06-21T16:04:25.805Z"
   },
   {
    "duration": 86,
    "start_time": "2022-06-21T16:04:49.903Z"
   },
   {
    "duration": 8,
    "start_time": "2022-06-21T16:04:57.011Z"
   },
   {
    "duration": 6,
    "start_time": "2022-06-21T16:05:04.187Z"
   },
   {
    "duration": 85,
    "start_time": "2022-06-21T16:06:58.687Z"
   },
   {
    "duration": 7,
    "start_time": "2022-06-21T16:07:00.499Z"
   },
   {
    "duration": 71,
    "start_time": "2022-06-21T16:07:21.799Z"
   },
   {
    "duration": 7,
    "start_time": "2022-06-21T16:07:22.547Z"
   },
   {
    "duration": 4,
    "start_time": "2022-06-21T16:08:13.202Z"
   },
   {
    "duration": 1032,
    "start_time": "2022-06-21T16:08:36.752Z"
   },
   {
    "duration": 456,
    "start_time": "2022-06-21T16:08:37.786Z"
   },
   {
    "duration": 31,
    "start_time": "2022-06-21T16:08:38.243Z"
   },
   {
    "duration": 24,
    "start_time": "2022-06-21T16:08:38.276Z"
   },
   {
    "duration": 23,
    "start_time": "2022-06-21T16:08:38.302Z"
   },
   {
    "duration": 20,
    "start_time": "2022-06-21T16:08:38.351Z"
   },
   {
    "duration": 17,
    "start_time": "2022-06-21T16:08:38.373Z"
   },
   {
    "duration": 92,
    "start_time": "2022-06-21T16:08:38.391Z"
   },
   {
    "duration": 78,
    "start_time": "2022-06-21T16:08:38.485Z"
   },
   {
    "duration": 8,
    "start_time": "2022-06-21T16:08:38.566Z"
   },
   {
    "duration": 75,
    "start_time": "2022-06-21T16:08:38.575Z"
   },
   {
    "duration": 50,
    "start_time": "2022-06-21T16:10:41.294Z"
   },
   {
    "duration": 44,
    "start_time": "2022-06-21T16:18:17.900Z"
   },
   {
    "duration": 51,
    "start_time": "2022-06-21T16:18:24.383Z"
   },
   {
    "duration": 5,
    "start_time": "2022-06-21T16:19:00.577Z"
   },
   {
    "duration": 17,
    "start_time": "2022-06-22T09:09:13.578Z"
   },
   {
    "duration": 4,
    "start_time": "2022-06-22T09:09:30.070Z"
   },
   {
    "duration": 4,
    "start_time": "2022-06-22T09:12:29.287Z"
   },
   {
    "duration": 4,
    "start_time": "2022-06-22T09:12:36.079Z"
   },
   {
    "duration": 19,
    "start_time": "2022-06-22T09:12:49.279Z"
   },
   {
    "duration": 4,
    "start_time": "2022-06-22T09:13:36.337Z"
   },
   {
    "duration": 13,
    "start_time": "2022-06-22T09:13:37.862Z"
   },
   {
    "duration": 4,
    "start_time": "2022-06-22T09:13:43.178Z"
   },
   {
    "duration": 13,
    "start_time": "2022-06-22T09:13:43.965Z"
   },
   {
    "duration": 5,
    "start_time": "2022-06-22T09:13:48.426Z"
   },
   {
    "duration": 16,
    "start_time": "2022-06-22T09:13:50.222Z"
   },
   {
    "duration": 1182,
    "start_time": "2022-06-22T09:15:25.879Z"
   },
   {
    "duration": 1104,
    "start_time": "2022-06-22T09:15:27.063Z"
   },
   {
    "duration": 47,
    "start_time": "2022-06-22T09:15:28.169Z"
   },
   {
    "duration": 47,
    "start_time": "2022-06-22T09:15:28.219Z"
   },
   {
    "duration": 31,
    "start_time": "2022-06-22T09:15:28.268Z"
   },
   {
    "duration": 61,
    "start_time": "2022-06-22T09:15:28.301Z"
   },
   {
    "duration": 29,
    "start_time": "2022-06-22T09:15:28.365Z"
   },
   {
    "duration": 131,
    "start_time": "2022-06-22T09:15:28.397Z"
   },
   {
    "duration": 5,
    "start_time": "2022-06-22T09:15:28.531Z"
   },
   {
    "duration": 25,
    "start_time": "2022-06-22T09:15:28.538Z"
   },
   {
    "duration": 112,
    "start_time": "2022-06-22T09:15:28.565Z"
   },
   {
    "duration": 62,
    "start_time": "2022-06-22T09:15:28.679Z"
   },
   {
    "duration": 122,
    "start_time": "2022-06-22T09:15:28.752Z"
   },
   {
    "duration": 27,
    "start_time": "2022-06-22T09:16:24.673Z"
   },
   {
    "duration": 37,
    "start_time": "2022-06-22T09:35:57.227Z"
   },
   {
    "duration": 12,
    "start_time": "2022-06-22T09:36:23.758Z"
   },
   {
    "duration": 31,
    "start_time": "2022-06-22T09:37:36.010Z"
   },
   {
    "duration": 26,
    "start_time": "2022-06-22T09:37:37.485Z"
   },
   {
    "duration": 27,
    "start_time": "2022-06-22T09:38:29.490Z"
   },
   {
    "duration": 1393,
    "start_time": "2022-06-28T08:35:46.836Z"
   },
   {
    "duration": 1485,
    "start_time": "2022-06-28T08:35:48.233Z"
   },
   {
    "duration": 46,
    "start_time": "2022-06-28T08:35:49.720Z"
   },
   {
    "duration": 31,
    "start_time": "2022-06-28T08:35:49.771Z"
   },
   {
    "duration": 50,
    "start_time": "2022-06-28T08:35:49.804Z"
   },
   {
    "duration": 26,
    "start_time": "2022-06-28T08:35:49.856Z"
   },
   {
    "duration": 19,
    "start_time": "2022-06-28T08:35:49.884Z"
   },
   {
    "duration": 117,
    "start_time": "2022-06-28T08:35:49.904Z"
   },
   {
    "duration": 3,
    "start_time": "2022-06-28T08:35:50.023Z"
   },
   {
    "duration": 91,
    "start_time": "2022-06-28T08:35:50.028Z"
   },
   {
    "duration": 87,
    "start_time": "2022-06-28T08:35:50.120Z"
   },
   {
    "duration": 164,
    "start_time": "2022-06-28T08:35:50.209Z"
   },
   {
    "duration": 0,
    "start_time": "2022-06-28T08:35:50.375Z"
   },
   {
    "duration": 0,
    "start_time": "2022-06-28T08:35:50.376Z"
   },
   {
    "duration": 32,
    "start_time": "2022-06-28T08:37:04.751Z"
   },
   {
    "duration": 13,
    "start_time": "2022-06-28T09:53:19.348Z"
   },
   {
    "duration": 15,
    "start_time": "2022-06-28T09:54:35.264Z"
   },
   {
    "duration": 70,
    "start_time": "2022-06-28T09:55:41.879Z"
   },
   {
    "duration": 91,
    "start_time": "2022-06-28T09:56:56.211Z"
   },
   {
    "duration": 11,
    "start_time": "2022-06-28T09:58:03.885Z"
   },
   {
    "duration": 13,
    "start_time": "2022-06-28T09:58:22.879Z"
   },
   {
    "duration": 11,
    "start_time": "2022-06-28T09:59:00.391Z"
   },
   {
    "duration": 13,
    "start_time": "2022-06-28T10:00:51.140Z"
   },
   {
    "duration": 3,
    "start_time": "2022-06-28T10:08:33.259Z"
   },
   {
    "duration": 98,
    "start_time": "2022-06-28T10:10:54.017Z"
   },
   {
    "duration": 91,
    "start_time": "2022-06-28T10:11:16.433Z"
   },
   {
    "duration": 88,
    "start_time": "2022-06-28T10:11:31.312Z"
   },
   {
    "duration": 3,
    "start_time": "2022-06-28T10:13:21.317Z"
   },
   {
    "duration": 89,
    "start_time": "2022-06-28T10:13:26.445Z"
   },
   {
    "duration": 94,
    "start_time": "2022-06-28T10:14:10.843Z"
   },
   {
    "duration": 82,
    "start_time": "2022-06-28T10:14:29.490Z"
   },
   {
    "duration": 11,
    "start_time": "2022-06-28T10:16:50.569Z"
   },
   {
    "duration": 42,
    "start_time": "2022-06-28T10:17:27.769Z"
   },
   {
    "duration": 32,
    "start_time": "2022-06-28T10:17:34.497Z"
   },
   {
    "duration": 42,
    "start_time": "2022-06-28T10:20:09.831Z"
   },
   {
    "duration": 34,
    "start_time": "2022-06-28T10:25:42.918Z"
   },
   {
    "duration": 22,
    "start_time": "2022-06-28T10:28:44.358Z"
   },
   {
    "duration": 31,
    "start_time": "2022-06-28T10:39:49.831Z"
   },
   {
    "duration": 1081,
    "start_time": "2022-06-28T10:41:20.512Z"
   },
   {
    "duration": 499,
    "start_time": "2022-06-28T10:41:21.594Z"
   },
   {
    "duration": 38,
    "start_time": "2022-06-28T10:41:22.095Z"
   },
   {
    "duration": 30,
    "start_time": "2022-06-28T10:41:22.135Z"
   },
   {
    "duration": 27,
    "start_time": "2022-06-28T10:41:22.167Z"
   },
   {
    "duration": 20,
    "start_time": "2022-06-28T10:41:22.196Z"
   },
   {
    "duration": 48,
    "start_time": "2022-06-28T10:41:22.218Z"
   },
   {
    "duration": 92,
    "start_time": "2022-06-28T10:41:22.268Z"
   },
   {
    "duration": 51,
    "start_time": "2022-06-28T10:41:22.362Z"
   },
   {
    "duration": 99,
    "start_time": "2022-06-28T10:41:22.415Z"
   },
   {
    "duration": 13,
    "start_time": "2022-06-28T10:41:22.516Z"
   },
   {
    "duration": 106,
    "start_time": "2022-06-28T10:41:22.530Z"
   },
   {
    "duration": 3,
    "start_time": "2022-06-28T10:41:22.638Z"
   },
   {
    "duration": 99,
    "start_time": "2022-06-28T10:41:22.643Z"
   },
   {
    "duration": 49,
    "start_time": "2022-06-28T10:41:22.744Z"
   },
   {
    "duration": 42,
    "start_time": "2022-06-28T10:41:22.795Z"
   },
   {
    "duration": 31,
    "start_time": "2022-06-28T10:41:22.852Z"
   },
   {
    "duration": 40,
    "start_time": "2022-06-28T10:42:21.414Z"
   },
   {
    "duration": 12,
    "start_time": "2022-06-28T10:42:54.689Z"
   },
   {
    "duration": 13,
    "start_time": "2022-06-28T10:45:07.891Z"
   },
   {
    "duration": 7,
    "start_time": "2022-06-28T10:45:14.761Z"
   },
   {
    "duration": 15,
    "start_time": "2022-06-28T10:45:25.195Z"
   },
   {
    "duration": 8,
    "start_time": "2022-06-28T10:49:16.642Z"
   },
   {
    "duration": 101,
    "start_time": "2022-06-28T10:49:27.391Z"
   },
   {
    "duration": 1153,
    "start_time": "2022-06-28T10:50:13.253Z"
   },
   {
    "duration": 496,
    "start_time": "2022-06-28T10:50:14.408Z"
   },
   {
    "duration": 38,
    "start_time": "2022-06-28T10:50:14.906Z"
   },
   {
    "duration": 30,
    "start_time": "2022-06-28T10:50:14.946Z"
   },
   {
    "duration": 25,
    "start_time": "2022-06-28T10:50:14.978Z"
   },
   {
    "duration": 18,
    "start_time": "2022-06-28T10:50:15.005Z"
   },
   {
    "duration": 47,
    "start_time": "2022-06-28T10:50:15.024Z"
   },
   {
    "duration": 98,
    "start_time": "2022-06-28T10:50:15.073Z"
   },
   {
    "duration": 62,
    "start_time": "2022-06-28T10:50:15.173Z"
   },
   {
    "duration": 102,
    "start_time": "2022-06-28T10:50:15.237Z"
   },
   {
    "duration": 25,
    "start_time": "2022-06-28T10:50:15.341Z"
   },
   {
    "duration": 143,
    "start_time": "2022-06-28T10:50:15.368Z"
   },
   {
    "duration": 3,
    "start_time": "2022-06-28T10:50:15.513Z"
   },
   {
    "duration": 102,
    "start_time": "2022-06-28T10:50:15.519Z"
   },
   {
    "duration": 48,
    "start_time": "2022-06-28T10:50:15.622Z"
   },
   {
    "duration": 43,
    "start_time": "2022-06-28T10:50:15.672Z"
   },
   {
    "duration": 59,
    "start_time": "2022-06-28T10:50:15.716Z"
   },
   {
    "duration": 13,
    "start_time": "2022-06-28T10:50:15.777Z"
   },
   {
    "duration": 16,
    "start_time": "2022-06-28T10:50:15.791Z"
   },
   {
    "duration": 97,
    "start_time": "2022-06-28T10:50:41.432Z"
   },
   {
    "duration": 1050,
    "start_time": "2022-06-28T10:50:53.358Z"
   },
   {
    "duration": 467,
    "start_time": "2022-06-28T10:50:54.409Z"
   },
   {
    "duration": 36,
    "start_time": "2022-06-28T10:50:54.878Z"
   },
   {
    "duration": 28,
    "start_time": "2022-06-28T10:50:54.916Z"
   },
   {
    "duration": 25,
    "start_time": "2022-06-28T10:50:54.945Z"
   },
   {
    "duration": 18,
    "start_time": "2022-06-28T10:50:54.972Z"
   },
   {
    "duration": 21,
    "start_time": "2022-06-28T10:50:54.992Z"
   },
   {
    "duration": 104,
    "start_time": "2022-06-28T10:50:55.014Z"
   },
   {
    "duration": 64,
    "start_time": "2022-06-28T10:50:55.119Z"
   },
   {
    "duration": 87,
    "start_time": "2022-06-28T10:50:55.185Z"
   },
   {
    "duration": 13,
    "start_time": "2022-06-28T10:50:55.273Z"
   },
   {
    "duration": 111,
    "start_time": "2022-06-28T10:50:55.287Z"
   },
   {
    "duration": 3,
    "start_time": "2022-06-28T10:50:55.399Z"
   },
   {
    "duration": 96,
    "start_time": "2022-06-28T10:50:55.404Z"
   },
   {
    "duration": 52,
    "start_time": "2022-06-28T10:50:55.502Z"
   },
   {
    "duration": 42,
    "start_time": "2022-06-28T10:50:55.555Z"
   },
   {
    "duration": 34,
    "start_time": "2022-06-28T10:50:55.599Z"
   },
   {
    "duration": 28,
    "start_time": "2022-06-28T10:50:55.635Z"
   },
   {
    "duration": 4,
    "start_time": "2022-06-28T10:50:55.665Z"
   },
   {
    "duration": 21,
    "start_time": "2022-06-28T10:51:01.196Z"
   },
   {
    "duration": 1098,
    "start_time": "2022-06-28T10:54:04.537Z"
   },
   {
    "duration": 497,
    "start_time": "2022-06-28T10:54:05.637Z"
   },
   {
    "duration": 40,
    "start_time": "2022-06-28T10:54:06.136Z"
   },
   {
    "duration": 30,
    "start_time": "2022-06-28T10:54:06.178Z"
   },
   {
    "duration": 59,
    "start_time": "2022-06-28T10:54:06.210Z"
   },
   {
    "duration": 33,
    "start_time": "2022-06-28T10:54:06.272Z"
   },
   {
    "duration": 47,
    "start_time": "2022-06-28T10:54:06.307Z"
   },
   {
    "duration": 99,
    "start_time": "2022-06-28T10:54:06.356Z"
   },
   {
    "duration": 62,
    "start_time": "2022-06-28T10:54:06.457Z"
   },
   {
    "duration": 103,
    "start_time": "2022-06-28T10:54:06.522Z"
   },
   {
    "duration": 26,
    "start_time": "2022-06-28T10:54:06.627Z"
   },
   {
    "duration": 114,
    "start_time": "2022-06-28T10:54:06.654Z"
   },
   {
    "duration": 3,
    "start_time": "2022-06-28T10:54:06.770Z"
   },
   {
    "duration": 107,
    "start_time": "2022-06-28T10:54:06.775Z"
   },
   {
    "duration": 43,
    "start_time": "2022-06-28T10:54:06.884Z"
   },
   {
    "duration": 54,
    "start_time": "2022-06-28T10:54:06.928Z"
   },
   {
    "duration": 36,
    "start_time": "2022-06-28T10:54:06.984Z"
   },
   {
    "duration": 32,
    "start_time": "2022-06-28T10:54:07.022Z"
   },
   {
    "duration": 125,
    "start_time": "2022-06-28T10:55:59.407Z"
   },
   {
    "duration": 28,
    "start_time": "2022-06-28T11:16:01.813Z"
   },
   {
    "duration": 16,
    "start_time": "2022-06-28T11:16:14.966Z"
   },
   {
    "duration": 15,
    "start_time": "2022-06-28T11:17:37.849Z"
   },
   {
    "duration": 4,
    "start_time": "2022-06-28T11:18:41.709Z"
   },
   {
    "duration": 1272,
    "start_time": "2022-06-28T11:21:53.419Z"
   },
   {
    "duration": 1268,
    "start_time": "2022-06-28T11:22:06.859Z"
   },
   {
    "duration": 1157,
    "start_time": "2022-06-28T11:22:16.397Z"
   },
   {
    "duration": 6,
    "start_time": "2022-06-28T11:22:22.760Z"
   },
   {
    "duration": 12,
    "start_time": "2022-06-28T11:22:41.395Z"
   },
   {
    "duration": 70,
    "start_time": "2022-06-28T11:24:18.919Z"
   },
   {
    "duration": 19,
    "start_time": "2022-06-28T11:24:27.763Z"
   },
   {
    "duration": 79,
    "start_time": "2022-06-28T11:26:48.068Z"
   },
   {
    "duration": 9,
    "start_time": "2022-06-28T11:28:22.396Z"
   },
   {
    "duration": 9,
    "start_time": "2022-06-28T11:29:38.073Z"
   },
   {
    "duration": 8,
    "start_time": "2022-06-28T11:38:50.671Z"
   },
   {
    "duration": 8676,
    "start_time": "2022-06-28T11:39:55.985Z"
   },
   {
    "duration": 21,
    "start_time": "2022-06-28T11:40:07.862Z"
   },
   {
    "duration": 21,
    "start_time": "2022-06-28T12:48:53.917Z"
   },
   {
    "duration": 13,
    "start_time": "2022-06-28T12:49:15.884Z"
   },
   {
    "duration": 17,
    "start_time": "2022-06-28T12:49:36.479Z"
   },
   {
    "duration": 1159,
    "start_time": "2022-06-28T12:50:27.937Z"
   },
   {
    "duration": 548,
    "start_time": "2022-06-28T12:50:29.098Z"
   },
   {
    "duration": 51,
    "start_time": "2022-06-28T12:50:29.650Z"
   },
   {
    "duration": 55,
    "start_time": "2022-06-28T12:50:29.703Z"
   },
   {
    "duration": 32,
    "start_time": "2022-06-28T12:50:29.761Z"
   },
   {
    "duration": 19,
    "start_time": "2022-06-28T12:50:29.794Z"
   },
   {
    "duration": 47,
    "start_time": "2022-06-28T12:50:29.815Z"
   },
   {
    "duration": 101,
    "start_time": "2022-06-28T12:50:29.866Z"
   },
   {
    "duration": 53,
    "start_time": "2022-06-28T12:50:29.970Z"
   },
   {
    "duration": 108,
    "start_time": "2022-06-28T12:50:30.024Z"
   },
   {
    "duration": 34,
    "start_time": "2022-06-28T12:50:30.134Z"
   },
   {
    "duration": 112,
    "start_time": "2022-06-28T12:50:30.170Z"
   },
   {
    "duration": 3,
    "start_time": "2022-06-28T12:50:30.284Z"
   },
   {
    "duration": 117,
    "start_time": "2022-06-28T12:50:30.288Z"
   },
   {
    "duration": 58,
    "start_time": "2022-06-28T12:50:30.408Z"
   },
   {
    "duration": 50,
    "start_time": "2022-06-28T12:50:30.469Z"
   },
   {
    "duration": 53,
    "start_time": "2022-06-28T12:50:30.521Z"
   },
   {
    "duration": 15,
    "start_time": "2022-06-28T12:50:30.576Z"
   },
   {
    "duration": 75,
    "start_time": "2022-06-28T12:50:30.593Z"
   },
   {
    "duration": 12,
    "start_time": "2022-06-28T12:50:30.671Z"
   },
   {
    "duration": 21,
    "start_time": "2022-06-28T12:50:30.685Z"
   },
   {
    "duration": 9061,
    "start_time": "2022-06-28T12:50:30.708Z"
   },
   {
    "duration": 18,
    "start_time": "2022-06-28T12:50:39.771Z"
   },
   {
    "duration": 1238,
    "start_time": "2022-06-28T12:52:57.531Z"
   },
   {
    "duration": 560,
    "start_time": "2022-06-28T12:52:58.771Z"
   },
   {
    "duration": 63,
    "start_time": "2022-06-28T12:52:59.333Z"
   },
   {
    "duration": 67,
    "start_time": "2022-06-28T12:52:59.398Z"
   },
   {
    "duration": 27,
    "start_time": "2022-06-28T12:52:59.468Z"
   },
   {
    "duration": 18,
    "start_time": "2022-06-28T12:52:59.497Z"
   },
   {
    "duration": 57,
    "start_time": "2022-06-28T12:52:59.517Z"
   },
   {
    "duration": 92,
    "start_time": "2022-06-28T12:52:59.577Z"
   },
   {
    "duration": 57,
    "start_time": "2022-06-28T12:52:59.671Z"
   },
   {
    "duration": 1607,
    "start_time": "2022-06-28T12:52:59.730Z"
   },
   {
    "duration": 0,
    "start_time": "2022-06-28T12:53:01.340Z"
   },
   {
    "duration": 0,
    "start_time": "2022-06-28T12:53:01.341Z"
   },
   {
    "duration": 0,
    "start_time": "2022-06-28T12:53:01.342Z"
   },
   {
    "duration": 0,
    "start_time": "2022-06-28T12:53:01.344Z"
   },
   {
    "duration": 0,
    "start_time": "2022-06-28T12:53:01.346Z"
   },
   {
    "duration": 0,
    "start_time": "2022-06-28T12:53:01.347Z"
   },
   {
    "duration": 0,
    "start_time": "2022-06-28T12:53:01.349Z"
   },
   {
    "duration": 0,
    "start_time": "2022-06-28T12:53:01.350Z"
   },
   {
    "duration": 0,
    "start_time": "2022-06-28T12:53:01.351Z"
   },
   {
    "duration": 0,
    "start_time": "2022-06-28T12:53:01.354Z"
   },
   {
    "duration": 0,
    "start_time": "2022-06-28T12:53:01.356Z"
   },
   {
    "duration": 0,
    "start_time": "2022-06-28T12:53:01.356Z"
   },
   {
    "duration": 0,
    "start_time": "2022-06-28T12:53:01.358Z"
   },
   {
    "duration": 163,
    "start_time": "2022-06-28T12:54:14.329Z"
   },
   {
    "duration": 20,
    "start_time": "2022-06-28T12:54:23.171Z"
   },
   {
    "duration": 109,
    "start_time": "2022-06-28T12:54:23.194Z"
   },
   {
    "duration": 3,
    "start_time": "2022-06-28T12:54:23.305Z"
   },
   {
    "duration": 120,
    "start_time": "2022-06-28T12:54:23.310Z"
   },
   {
    "duration": 59,
    "start_time": "2022-06-28T12:54:23.432Z"
   },
   {
    "duration": 46,
    "start_time": "2022-06-28T12:54:23.493Z"
   },
   {
    "duration": 56,
    "start_time": "2022-06-28T12:54:23.555Z"
   },
   {
    "duration": 27,
    "start_time": "2022-06-28T12:54:23.613Z"
   },
   {
    "duration": 45,
    "start_time": "2022-06-28T12:54:23.655Z"
   },
   {
    "duration": 8,
    "start_time": "2022-06-28T12:54:23.701Z"
   },
   {
    "duration": 6,
    "start_time": "2022-06-28T12:54:23.712Z"
   },
   {
    "duration": 9224,
    "start_time": "2022-06-28T12:54:23.720Z"
   },
   {
    "duration": 31,
    "start_time": "2022-06-28T12:54:32.946Z"
   },
   {
    "duration": 74,
    "start_time": "2022-06-28T12:58:17.073Z"
   },
   {
    "duration": 50,
    "start_time": "2022-06-28T12:58:22.320Z"
   },
   {
    "duration": 44,
    "start_time": "2022-06-28T12:58:30.216Z"
   },
   {
    "duration": 19,
    "start_time": "2022-06-28T13:01:01.233Z"
   },
   {
    "duration": 12,
    "start_time": "2022-06-28T13:02:04.414Z"
   },
   {
    "duration": 1071,
    "start_time": "2022-06-28T13:03:11.871Z"
   },
   {
    "duration": 507,
    "start_time": "2022-06-28T13:03:12.943Z"
   },
   {
    "duration": 48,
    "start_time": "2022-06-28T13:03:13.452Z"
   },
   {
    "duration": 35,
    "start_time": "2022-06-28T13:03:13.502Z"
   },
   {
    "duration": 30,
    "start_time": "2022-06-28T13:03:13.555Z"
   },
   {
    "duration": 18,
    "start_time": "2022-06-28T13:03:13.587Z"
   },
   {
    "duration": 61,
    "start_time": "2022-06-28T13:03:13.606Z"
   },
   {
    "duration": 77,
    "start_time": "2022-06-28T13:03:13.669Z"
   },
   {
    "duration": 57,
    "start_time": "2022-06-28T13:03:13.748Z"
   },
   {
    "duration": 174,
    "start_time": "2022-06-28T13:03:13.808Z"
   },
   {
    "duration": 12,
    "start_time": "2022-06-28T13:03:13.983Z"
   },
   {
    "duration": 111,
    "start_time": "2022-06-28T13:03:13.997Z"
   },
   {
    "duration": 3,
    "start_time": "2022-06-28T13:03:14.110Z"
   },
   {
    "duration": 119,
    "start_time": "2022-06-28T13:03:14.115Z"
   },
   {
    "duration": 57,
    "start_time": "2022-06-28T13:03:14.236Z"
   },
   {
    "duration": 45,
    "start_time": "2022-06-28T13:03:14.295Z"
   },
   {
    "duration": 51,
    "start_time": "2022-06-28T13:03:14.341Z"
   },
   {
    "duration": 14,
    "start_time": "2022-06-28T13:03:14.394Z"
   },
   {
    "duration": 71,
    "start_time": "2022-06-28T13:03:14.411Z"
   },
   {
    "duration": 8,
    "start_time": "2022-06-28T13:03:14.484Z"
   },
   {
    "duration": 7,
    "start_time": "2022-06-28T13:03:14.494Z"
   },
   {
    "duration": 9178,
    "start_time": "2022-06-28T13:03:14.502Z"
   },
   {
    "duration": 7,
    "start_time": "2022-06-28T13:03:23.682Z"
   },
   {
    "duration": 17,
    "start_time": "2022-06-28T13:03:23.690Z"
   },
   {
    "duration": 19,
    "start_time": "2022-06-28T13:05:14.869Z"
   },
   {
    "duration": 4,
    "start_time": "2022-06-28T13:18:39.732Z"
   },
   {
    "duration": 22,
    "start_time": "2022-06-28T13:18:42.469Z"
   },
   {
    "duration": 8,
    "start_time": "2022-06-28T13:21:26.528Z"
   },
   {
    "duration": 25,
    "start_time": "2022-06-28T13:21:28.075Z"
   },
   {
    "duration": 1160,
    "start_time": "2022-06-28T13:23:11.371Z"
   },
   {
    "duration": 511,
    "start_time": "2022-06-28T13:23:12.533Z"
   },
   {
    "duration": 48,
    "start_time": "2022-06-28T13:23:13.045Z"
   },
   {
    "duration": 31,
    "start_time": "2022-06-28T13:23:13.094Z"
   },
   {
    "duration": 55,
    "start_time": "2022-06-28T13:23:13.127Z"
   },
   {
    "duration": 25,
    "start_time": "2022-06-28T13:23:13.185Z"
   },
   {
    "duration": 57,
    "start_time": "2022-06-28T13:23:13.213Z"
   },
   {
    "duration": 82,
    "start_time": "2022-06-28T13:23:13.272Z"
   },
   {
    "duration": 59,
    "start_time": "2022-06-28T13:23:13.361Z"
   },
   {
    "duration": 171,
    "start_time": "2022-06-28T13:23:13.422Z"
   },
   {
    "duration": 14,
    "start_time": "2022-06-28T13:23:13.595Z"
   },
   {
    "duration": 165,
    "start_time": "2022-06-28T13:23:13.611Z"
   },
   {
    "duration": 4,
    "start_time": "2022-06-28T13:23:13.778Z"
   },
   {
    "duration": 126,
    "start_time": "2022-06-28T13:23:13.786Z"
   },
   {
    "duration": 59,
    "start_time": "2022-06-28T13:23:13.914Z"
   },
   {
    "duration": 42,
    "start_time": "2022-06-28T13:23:13.975Z"
   },
   {
    "duration": 61,
    "start_time": "2022-06-28T13:23:14.018Z"
   },
   {
    "duration": 14,
    "start_time": "2022-06-28T13:23:14.081Z"
   },
   {
    "duration": 81,
    "start_time": "2022-06-28T13:23:14.097Z"
   },
   {
    "duration": 19,
    "start_time": "2022-06-28T13:23:14.181Z"
   },
   {
    "duration": 23,
    "start_time": "2022-06-28T13:23:14.202Z"
   },
   {
    "duration": 8945,
    "start_time": "2022-06-28T13:23:14.228Z"
   },
   {
    "duration": 5,
    "start_time": "2022-06-28T13:23:23.175Z"
   },
   {
    "duration": 9,
    "start_time": "2022-06-28T13:23:23.181Z"
   },
   {
    "duration": 17,
    "start_time": "2022-06-28T13:23:23.191Z"
   },
   {
    "duration": 3,
    "start_time": "2022-06-28T13:24:00.130Z"
   },
   {
    "duration": 20,
    "start_time": "2022-06-28T13:24:03.271Z"
   },
   {
    "duration": 112,
    "start_time": "2022-06-28T13:28:50.717Z"
   },
   {
    "duration": 9,
    "start_time": "2022-06-28T13:29:38.819Z"
   },
   {
    "duration": 26,
    "start_time": "2022-06-28T13:29:44.901Z"
   },
   {
    "duration": 1052,
    "start_time": "2022-06-28T13:32:08.936Z"
   },
   {
    "duration": 527,
    "start_time": "2022-06-28T13:32:09.990Z"
   },
   {
    "duration": 51,
    "start_time": "2022-06-28T13:32:10.519Z"
   },
   {
    "duration": 39,
    "start_time": "2022-06-28T13:32:10.572Z"
   },
   {
    "duration": 47,
    "start_time": "2022-06-28T13:32:10.613Z"
   },
   {
    "duration": 23,
    "start_time": "2022-06-28T13:32:10.662Z"
   },
   {
    "duration": 22,
    "start_time": "2022-06-28T13:32:10.687Z"
   },
   {
    "duration": 122,
    "start_time": "2022-06-28T13:32:10.710Z"
   },
   {
    "duration": 63,
    "start_time": "2022-06-28T13:32:10.833Z"
   },
   {
    "duration": 183,
    "start_time": "2022-06-28T13:32:10.898Z"
   },
   {
    "duration": 15,
    "start_time": "2022-06-28T13:32:11.083Z"
   },
   {
    "duration": 127,
    "start_time": "2022-06-28T13:32:11.100Z"
   },
   {
    "duration": 3,
    "start_time": "2022-06-28T13:32:11.230Z"
   },
   {
    "duration": 129,
    "start_time": "2022-06-28T13:32:11.235Z"
   },
   {
    "duration": 41,
    "start_time": "2022-06-28T13:32:11.366Z"
   },
   {
    "duration": 69,
    "start_time": "2022-06-28T13:32:11.409Z"
   },
   {
    "duration": 36,
    "start_time": "2022-06-28T13:32:11.480Z"
   },
   {
    "duration": 14,
    "start_time": "2022-06-28T13:32:11.518Z"
   },
   {
    "duration": 62,
    "start_time": "2022-06-28T13:32:11.535Z"
   },
   {
    "duration": 7,
    "start_time": "2022-06-28T13:32:11.599Z"
   },
   {
    "duration": 8,
    "start_time": "2022-06-28T13:32:11.608Z"
   },
   {
    "duration": 8721,
    "start_time": "2022-06-28T13:32:11.618Z"
   },
   {
    "duration": 16,
    "start_time": "2022-06-28T13:32:20.340Z"
   },
   {
    "duration": 27,
    "start_time": "2022-06-28T13:32:20.362Z"
   },
   {
    "duration": 21,
    "start_time": "2022-06-28T13:33:12.183Z"
   },
   {
    "duration": 36,
    "start_time": "2022-06-28T13:34:19.137Z"
   },
   {
    "duration": 18,
    "start_time": "2022-06-28T13:35:19.583Z"
   },
   {
    "duration": 27,
    "start_time": "2022-06-28T13:38:47.890Z"
   },
   {
    "duration": 60,
    "start_time": "2022-06-28T13:39:08.617Z"
   },
   {
    "duration": 52,
    "start_time": "2022-06-28T13:44:25.783Z"
   },
   {
    "duration": 54,
    "start_time": "2022-06-28T13:44:54.774Z"
   },
   {
    "duration": 45,
    "start_time": "2022-06-28T13:50:42.019Z"
   },
   {
    "duration": 36,
    "start_time": "2022-06-28T13:53:02.728Z"
   },
   {
    "duration": 33,
    "start_time": "2022-06-28T14:21:26.047Z"
   },
   {
    "duration": 1298,
    "start_time": "2022-06-29T08:09:14.416Z"
   },
   {
    "duration": 815,
    "start_time": "2022-06-29T08:09:15.717Z"
   },
   {
    "duration": 46,
    "start_time": "2022-06-29T08:09:16.533Z"
   },
   {
    "duration": 48,
    "start_time": "2022-06-29T08:09:16.581Z"
   },
   {
    "duration": 31,
    "start_time": "2022-06-29T08:09:16.632Z"
   },
   {
    "duration": 18,
    "start_time": "2022-06-29T08:09:16.665Z"
   },
   {
    "duration": 58,
    "start_time": "2022-06-29T08:09:16.684Z"
   },
   {
    "duration": 102,
    "start_time": "2022-06-29T08:09:16.745Z"
   },
   {
    "duration": 51,
    "start_time": "2022-06-29T08:09:16.848Z"
   },
   {
    "duration": 178,
    "start_time": "2022-06-29T08:09:16.901Z"
   },
   {
    "duration": 18,
    "start_time": "2022-06-29T08:09:17.081Z"
   },
   {
    "duration": 124,
    "start_time": "2022-06-29T08:09:17.101Z"
   },
   {
    "duration": 17,
    "start_time": "2022-06-29T08:09:17.226Z"
   },
   {
    "duration": 116,
    "start_time": "2022-06-29T08:09:17.248Z"
   },
   {
    "duration": 77,
    "start_time": "2022-06-29T08:09:17.366Z"
   },
   {
    "duration": 65,
    "start_time": "2022-06-29T08:09:17.445Z"
   },
   {
    "duration": 64,
    "start_time": "2022-06-29T08:09:17.512Z"
   },
   {
    "duration": 15,
    "start_time": "2022-06-29T08:09:17.578Z"
   },
   {
    "duration": 64,
    "start_time": "2022-06-29T08:09:17.594Z"
   },
   {
    "duration": 8,
    "start_time": "2022-06-29T08:09:17.660Z"
   },
   {
    "duration": 13,
    "start_time": "2022-06-29T08:09:17.669Z"
   },
   {
    "duration": 8700,
    "start_time": "2022-06-29T08:09:17.684Z"
   },
   {
    "duration": 7,
    "start_time": "2022-06-29T08:09:26.386Z"
   },
   {
    "duration": 52,
    "start_time": "2022-06-29T08:09:26.394Z"
   },
   {
    "duration": 24,
    "start_time": "2022-06-29T09:07:20.986Z"
   },
   {
    "duration": 25,
    "start_time": "2022-06-29T09:10:23.244Z"
   },
   {
    "duration": 12,
    "start_time": "2022-06-29T09:10:31.998Z"
   },
   {
    "duration": 16,
    "start_time": "2022-06-29T09:10:36.343Z"
   },
   {
    "duration": 21,
    "start_time": "2022-06-29T09:11:26.820Z"
   },
   {
    "duration": 1052,
    "start_time": "2022-06-29T09:11:35.230Z"
   },
   {
    "duration": 450,
    "start_time": "2022-06-29T09:11:36.284Z"
   },
   {
    "duration": 45,
    "start_time": "2022-06-29T09:11:36.736Z"
   },
   {
    "duration": 53,
    "start_time": "2022-06-29T09:11:36.783Z"
   },
   {
    "duration": 30,
    "start_time": "2022-06-29T09:11:36.839Z"
   },
   {
    "duration": 32,
    "start_time": "2022-06-29T09:11:36.870Z"
   },
   {
    "duration": 34,
    "start_time": "2022-06-29T09:11:36.904Z"
   },
   {
    "duration": 87,
    "start_time": "2022-06-29T09:11:36.940Z"
   },
   {
    "duration": 56,
    "start_time": "2022-06-29T09:11:37.030Z"
   },
   {
    "duration": 98,
    "start_time": "2022-06-29T09:11:37.088Z"
   },
   {
    "duration": 12,
    "start_time": "2022-06-29T09:11:37.187Z"
   },
   {
    "duration": 119,
    "start_time": "2022-06-29T09:11:37.201Z"
   },
   {
    "duration": 6,
    "start_time": "2022-06-29T09:11:37.322Z"
   },
   {
    "duration": 114,
    "start_time": "2022-06-29T09:11:37.331Z"
   },
   {
    "duration": 40,
    "start_time": "2022-06-29T09:11:37.447Z"
   },
   {
    "duration": 59,
    "start_time": "2022-06-29T09:11:37.489Z"
   },
   {
    "duration": 56,
    "start_time": "2022-06-29T09:11:37.549Z"
   },
   {
    "duration": 0,
    "start_time": "2022-06-29T09:11:37.607Z"
   },
   {
    "duration": 0,
    "start_time": "2022-06-29T09:11:37.608Z"
   },
   {
    "duration": 0,
    "start_time": "2022-06-29T09:11:37.609Z"
   },
   {
    "duration": 0,
    "start_time": "2022-06-29T09:11:37.611Z"
   },
   {
    "duration": 0,
    "start_time": "2022-06-29T09:11:37.612Z"
   },
   {
    "duration": 1,
    "start_time": "2022-06-29T09:11:37.613Z"
   },
   {
    "duration": 0,
    "start_time": "2022-06-29T09:11:37.615Z"
   },
   {
    "duration": 0,
    "start_time": "2022-06-29T09:11:37.616Z"
   },
   {
    "duration": 23,
    "start_time": "2022-06-29T09:12:44.300Z"
   },
   {
    "duration": 13,
    "start_time": "2022-06-29T09:13:36.711Z"
   },
   {
    "duration": 6,
    "start_time": "2022-06-29T09:15:31.999Z"
   },
   {
    "duration": 8,
    "start_time": "2022-06-29T09:15:50.415Z"
   },
   {
    "duration": 5,
    "start_time": "2022-06-29T09:16:01.010Z"
   },
   {
    "duration": 1149,
    "start_time": "2022-06-29T09:16:11.173Z"
   },
   {
    "duration": 492,
    "start_time": "2022-06-29T09:16:12.323Z"
   },
   {
    "duration": 51,
    "start_time": "2022-06-29T09:16:12.817Z"
   },
   {
    "duration": 34,
    "start_time": "2022-06-29T09:16:12.870Z"
   },
   {
    "duration": 56,
    "start_time": "2022-06-29T09:16:12.906Z"
   },
   {
    "duration": 18,
    "start_time": "2022-06-29T09:16:12.964Z"
   },
   {
    "duration": 52,
    "start_time": "2022-06-29T09:16:12.983Z"
   },
   {
    "duration": 77,
    "start_time": "2022-06-29T09:16:13.037Z"
   },
   {
    "duration": 64,
    "start_time": "2022-06-29T09:16:13.116Z"
   },
   {
    "duration": 6,
    "start_time": "2022-06-29T09:16:13.184Z"
   },
   {
    "duration": 19,
    "start_time": "2022-06-29T09:16:13.192Z"
   },
   {
    "duration": 108,
    "start_time": "2022-06-29T09:16:13.213Z"
   },
   {
    "duration": 4,
    "start_time": "2022-06-29T09:16:13.327Z"
   },
   {
    "duration": 125,
    "start_time": "2022-06-29T09:16:13.333Z"
   },
   {
    "duration": 50,
    "start_time": "2022-06-29T09:16:13.459Z"
   },
   {
    "duration": 58,
    "start_time": "2022-06-29T09:16:13.510Z"
   },
   {
    "duration": 25,
    "start_time": "2022-06-29T09:16:13.570Z"
   },
   {
    "duration": 31,
    "start_time": "2022-06-29T09:16:13.596Z"
   },
   {
    "duration": 17,
    "start_time": "2022-06-29T09:16:13.629Z"
   },
   {
    "duration": 7,
    "start_time": "2022-06-29T09:16:13.648Z"
   },
   {
    "duration": 7,
    "start_time": "2022-06-29T09:16:13.657Z"
   },
   {
    "duration": 139,
    "start_time": "2022-06-29T09:16:13.665Z"
   },
   {
    "duration": 0,
    "start_time": "2022-06-29T09:16:13.806Z"
   },
   {
    "duration": 0,
    "start_time": "2022-06-29T09:16:13.807Z"
   },
   {
    "duration": 35,
    "start_time": "2022-06-29T09:17:45.026Z"
   },
   {
    "duration": 26,
    "start_time": "2022-06-29T09:18:04.786Z"
   },
   {
    "duration": 20,
    "start_time": "2022-06-29T09:18:07.644Z"
   },
   {
    "duration": 37,
    "start_time": "2022-06-29T09:18:18.563Z"
   },
   {
    "duration": 35,
    "start_time": "2022-06-29T09:18:23.022Z"
   },
   {
    "duration": 25,
    "start_time": "2022-06-29T09:18:38.574Z"
   },
   {
    "duration": 12,
    "start_time": "2022-06-29T09:18:55.130Z"
   },
   {
    "duration": 10,
    "start_time": "2022-06-29T09:22:19.042Z"
   },
   {
    "duration": 916,
    "start_time": "2022-06-29T09:26:58.091Z"
   },
   {
    "duration": 995,
    "start_time": "2022-06-29T09:28:20.105Z"
   },
   {
    "duration": 4,
    "start_time": "2022-06-29T09:29:14.601Z"
   },
   {
    "duration": 9,
    "start_time": "2022-06-29T09:30:55.912Z"
   },
   {
    "duration": 9142,
    "start_time": "2022-06-29T09:31:03.851Z"
   },
   {
    "duration": 1104,
    "start_time": "2022-06-29T09:31:20.867Z"
   },
   {
    "duration": 446,
    "start_time": "2022-06-29T09:31:21.973Z"
   },
   {
    "duration": 45,
    "start_time": "2022-06-29T09:31:22.421Z"
   },
   {
    "duration": 27,
    "start_time": "2022-06-29T09:31:22.468Z"
   },
   {
    "duration": 52,
    "start_time": "2022-06-29T09:31:22.497Z"
   },
   {
    "duration": 16,
    "start_time": "2022-06-29T09:31:22.551Z"
   },
   {
    "duration": 22,
    "start_time": "2022-06-29T09:31:22.568Z"
   },
   {
    "duration": 114,
    "start_time": "2022-06-29T09:31:22.592Z"
   },
   {
    "duration": 69,
    "start_time": "2022-06-29T09:31:22.708Z"
   },
   {
    "duration": 5,
    "start_time": "2022-06-29T09:31:22.779Z"
   },
   {
    "duration": 21,
    "start_time": "2022-06-29T09:31:22.786Z"
   },
   {
    "duration": 103,
    "start_time": "2022-06-29T09:31:22.809Z"
   },
   {
    "duration": 4,
    "start_time": "2022-06-29T09:31:22.914Z"
   },
   {
    "duration": 127,
    "start_time": "2022-06-29T09:31:22.921Z"
   },
   {
    "duration": 42,
    "start_time": "2022-06-29T09:31:23.049Z"
   },
   {
    "duration": 60,
    "start_time": "2022-06-29T09:31:23.093Z"
   },
   {
    "duration": 26,
    "start_time": "2022-06-29T09:31:23.155Z"
   },
   {
    "duration": 11,
    "start_time": "2022-06-29T09:31:23.182Z"
   },
   {
    "duration": 47,
    "start_time": "2022-06-29T09:31:23.195Z"
   },
   {
    "duration": 8,
    "start_time": "2022-06-29T09:31:23.246Z"
   },
   {
    "duration": 18,
    "start_time": "2022-06-29T09:31:23.256Z"
   },
   {
    "duration": 19,
    "start_time": "2022-06-29T09:31:23.276Z"
   },
   {
    "duration": 8755,
    "start_time": "2022-06-29T09:31:23.297Z"
   },
   {
    "duration": 5,
    "start_time": "2022-06-29T09:31:32.054Z"
   },
   {
    "duration": 39,
    "start_time": "2022-06-29T09:31:32.061Z"
   },
   {
    "duration": 9,
    "start_time": "2022-06-29T09:31:54.790Z"
   },
   {
    "duration": 10,
    "start_time": "2022-06-29T09:32:18.787Z"
   },
   {
    "duration": 5,
    "start_time": "2022-06-29T09:39:51.208Z"
   },
   {
    "duration": 8820,
    "start_time": "2022-06-29T09:40:10.593Z"
   },
   {
    "duration": 1124,
    "start_time": "2022-06-29T09:40:21.377Z"
   },
   {
    "duration": 479,
    "start_time": "2022-06-29T09:40:22.503Z"
   },
   {
    "duration": 45,
    "start_time": "2022-06-29T09:40:22.984Z"
   },
   {
    "duration": 72,
    "start_time": "2022-06-29T09:40:23.036Z"
   },
   {
    "duration": 39,
    "start_time": "2022-06-29T09:40:23.110Z"
   },
   {
    "duration": 31,
    "start_time": "2022-06-29T09:40:23.152Z"
   },
   {
    "duration": 37,
    "start_time": "2022-06-29T09:40:23.185Z"
   },
   {
    "duration": 94,
    "start_time": "2022-06-29T09:40:23.224Z"
   },
   {
    "duration": 56,
    "start_time": "2022-06-29T09:40:23.320Z"
   },
   {
    "duration": 6,
    "start_time": "2022-06-29T09:40:23.379Z"
   },
   {
    "duration": 23,
    "start_time": "2022-06-29T09:40:23.387Z"
   },
   {
    "duration": 169,
    "start_time": "2022-06-29T09:40:23.412Z"
   },
   {
    "duration": 2,
    "start_time": "2022-06-29T09:40:23.583Z"
   },
   {
    "duration": 128,
    "start_time": "2022-06-29T09:40:23.589Z"
   },
   {
    "duration": 49,
    "start_time": "2022-06-29T09:40:23.719Z"
   },
   {
    "duration": 71,
    "start_time": "2022-06-29T09:40:23.770Z"
   },
   {
    "duration": 32,
    "start_time": "2022-06-29T09:40:23.843Z"
   },
   {
    "duration": 38,
    "start_time": "2022-06-29T09:40:23.877Z"
   },
   {
    "duration": 53,
    "start_time": "2022-06-29T09:40:23.917Z"
   },
   {
    "duration": 11,
    "start_time": "2022-06-29T09:40:23.972Z"
   },
   {
    "duration": 49,
    "start_time": "2022-06-29T09:40:23.985Z"
   },
   {
    "duration": 36,
    "start_time": "2022-06-29T09:40:24.039Z"
   },
   {
    "duration": 8858,
    "start_time": "2022-06-29T09:40:24.077Z"
   },
   {
    "duration": 8,
    "start_time": "2022-06-29T09:40:32.937Z"
   },
   {
    "duration": 22,
    "start_time": "2022-06-29T09:40:32.947Z"
   },
   {
    "duration": 84,
    "start_time": "2022-06-29T09:40:32.970Z"
   },
   {
    "duration": 10,
    "start_time": "2022-06-29T09:42:29.557Z"
   },
   {
    "duration": 14,
    "start_time": "2022-06-29T09:42:53.448Z"
   },
   {
    "duration": 9,
    "start_time": "2022-06-29T09:44:29.657Z"
   },
   {
    "duration": 25,
    "start_time": "2022-06-29T09:44:37.618Z"
   },
   {
    "duration": 5,
    "start_time": "2022-06-29T09:49:38.765Z"
   },
   {
    "duration": 8550,
    "start_time": "2022-06-29T09:49:41.156Z"
   },
   {
    "duration": 1036,
    "start_time": "2022-06-29T09:50:16.270Z"
   },
   {
    "duration": 477,
    "start_time": "2022-06-29T09:50:17.308Z"
   },
   {
    "duration": 44,
    "start_time": "2022-06-29T09:50:17.786Z"
   },
   {
    "duration": 36,
    "start_time": "2022-06-29T09:50:17.831Z"
   },
   {
    "duration": 25,
    "start_time": "2022-06-29T09:50:17.869Z"
   },
   {
    "duration": 52,
    "start_time": "2022-06-29T09:50:17.895Z"
   },
   {
    "duration": 21,
    "start_time": "2022-06-29T09:50:17.949Z"
   },
   {
    "duration": 108,
    "start_time": "2022-06-29T09:50:17.971Z"
   },
   {
    "duration": 66,
    "start_time": "2022-06-29T09:50:18.081Z"
   },
   {
    "duration": 7,
    "start_time": "2022-06-29T09:50:18.149Z"
   },
   {
    "duration": 23,
    "start_time": "2022-06-29T09:50:18.157Z"
   },
   {
    "duration": 112,
    "start_time": "2022-06-29T09:50:18.183Z"
   },
   {
    "duration": 3,
    "start_time": "2022-06-29T09:50:18.297Z"
   },
   {
    "duration": 131,
    "start_time": "2022-06-29T09:50:18.303Z"
   },
   {
    "duration": 49,
    "start_time": "2022-06-29T09:50:18.436Z"
   },
   {
    "duration": 56,
    "start_time": "2022-06-29T09:50:18.487Z"
   },
   {
    "duration": 27,
    "start_time": "2022-06-29T09:50:18.545Z"
   },
   {
    "duration": 11,
    "start_time": "2022-06-29T09:50:18.573Z"
   },
   {
    "duration": 16,
    "start_time": "2022-06-29T09:50:18.586Z"
   },
   {
    "duration": 35,
    "start_time": "2022-06-29T09:50:18.603Z"
   },
   {
    "duration": 15,
    "start_time": "2022-06-29T09:50:18.641Z"
   },
   {
    "duration": 12,
    "start_time": "2022-06-29T09:50:18.658Z"
   },
   {
    "duration": 9014,
    "start_time": "2022-06-29T09:50:18.672Z"
   },
   {
    "duration": 5,
    "start_time": "2022-06-29T09:50:27.689Z"
   },
   {
    "duration": 51,
    "start_time": "2022-06-29T09:50:27.696Z"
   },
   {
    "duration": 74,
    "start_time": "2022-06-29T09:50:27.749Z"
   },
   {
    "duration": 18,
    "start_time": "2022-06-29T10:30:28.389Z"
   },
   {
    "duration": 27,
    "start_time": "2022-06-29T10:40:44.359Z"
   },
   {
    "duration": 22,
    "start_time": "2022-06-29T10:41:27.359Z"
   },
   {
    "duration": 4,
    "start_time": "2022-06-29T10:52:57.719Z"
   },
   {
    "duration": 104,
    "start_time": "2022-06-29T10:53:09.979Z"
   },
   {
    "duration": 22,
    "start_time": "2022-06-29T10:53:26.937Z"
   },
   {
    "duration": 18,
    "start_time": "2022-06-29T10:53:31.386Z"
   },
   {
    "duration": 19,
    "start_time": "2022-06-29T10:53:58.999Z"
   },
   {
    "duration": 23,
    "start_time": "2022-06-29T10:55:56.449Z"
   },
   {
    "duration": 36,
    "start_time": "2022-06-29T11:09:48.817Z"
   },
   {
    "duration": 49,
    "start_time": "2022-06-29T11:10:08.390Z"
   },
   {
    "duration": 13,
    "start_time": "2022-06-29T11:19:50.550Z"
   },
   {
    "duration": 287,
    "start_time": "2022-06-29T11:20:10.516Z"
   },
   {
    "duration": 293,
    "start_time": "2022-06-29T11:23:31.342Z"
   },
   {
    "duration": 369,
    "start_time": "2022-06-29T11:23:58.558Z"
   },
   {
    "duration": 280,
    "start_time": "2022-06-29T11:25:02.093Z"
   },
   {
    "duration": 51,
    "start_time": "2022-07-01T17:16:08.543Z"
   },
   {
    "duration": 1276,
    "start_time": "2022-07-01T17:16:21.094Z"
   },
   {
    "duration": 769,
    "start_time": "2022-07-01T17:16:22.372Z"
   },
   {
    "duration": 37,
    "start_time": "2022-07-01T17:16:23.143Z"
   },
   {
    "duration": 28,
    "start_time": "2022-07-01T17:16:23.182Z"
   },
   {
    "duration": 22,
    "start_time": "2022-07-01T17:16:23.212Z"
   },
   {
    "duration": 47,
    "start_time": "2022-07-01T17:16:23.236Z"
   },
   {
    "duration": 19,
    "start_time": "2022-07-01T17:16:23.285Z"
   },
   {
    "duration": 103,
    "start_time": "2022-07-01T17:16:23.305Z"
   },
   {
    "duration": 58,
    "start_time": "2022-07-01T17:16:23.409Z"
   },
   {
    "duration": 5,
    "start_time": "2022-07-01T17:16:23.471Z"
   },
   {
    "duration": 17,
    "start_time": "2022-07-01T17:16:23.478Z"
   },
   {
    "duration": 129,
    "start_time": "2022-07-01T17:16:23.497Z"
   },
   {
    "duration": 3,
    "start_time": "2022-07-01T17:16:23.628Z"
   },
   {
    "duration": 127,
    "start_time": "2022-07-01T17:16:23.633Z"
   },
   {
    "duration": 46,
    "start_time": "2022-07-01T17:16:23.768Z"
   },
   {
    "duration": 59,
    "start_time": "2022-07-01T17:16:23.816Z"
   },
   {
    "duration": 25,
    "start_time": "2022-07-01T17:16:23.877Z"
   },
   {
    "duration": 11,
    "start_time": "2022-07-01T17:16:23.904Z"
   },
   {
    "duration": 13,
    "start_time": "2022-07-01T17:16:23.916Z"
   },
   {
    "duration": 7,
    "start_time": "2022-07-01T17:16:23.930Z"
   },
   {
    "duration": 6,
    "start_time": "2022-07-01T17:16:23.968Z"
   },
   {
    "duration": 8755,
    "start_time": "2022-07-01T17:16:23.975Z"
   },
   {
    "duration": 6,
    "start_time": "2022-07-01T17:16:32.732Z"
   },
   {
    "duration": 13,
    "start_time": "2022-07-01T17:16:32.740Z"
   },
   {
    "duration": 42,
    "start_time": "2022-07-01T17:16:32.768Z"
   },
   {
    "duration": 284,
    "start_time": "2022-07-01T17:16:32.812Z"
   },
   {
    "duration": 246,
    "start_time": "2022-07-01T17:16:39.327Z"
   },
   {
    "duration": 243,
    "start_time": "2022-07-01T17:17:12.459Z"
   },
   {
    "duration": 463,
    "start_time": "2022-07-01T17:26:59.128Z"
   },
   {
    "duration": 445,
    "start_time": "2022-07-01T17:28:47.754Z"
   },
   {
    "duration": 314,
    "start_time": "2022-07-01T17:30:13.311Z"
   },
   {
    "duration": 67,
    "start_time": "2022-07-01T17:30:34.315Z"
   },
   {
    "duration": 318,
    "start_time": "2022-07-01T17:31:02.475Z"
   },
   {
    "duration": 343,
    "start_time": "2022-07-01T17:32:14.916Z"
   },
   {
    "duration": 266,
    "start_time": "2022-07-01T17:41:00.813Z"
   },
   {
    "duration": 248,
    "start_time": "2022-07-01T17:41:30.481Z"
   },
   {
    "duration": 355,
    "start_time": "2022-07-01T17:41:51.109Z"
   },
   {
    "duration": 387,
    "start_time": "2022-07-01T17:42:59.894Z"
   },
   {
    "duration": 364,
    "start_time": "2022-07-01T17:44:45.311Z"
   },
   {
    "duration": 56,
    "start_time": "2022-07-01T17:46:17.830Z"
   },
   {
    "duration": 465,
    "start_time": "2022-07-01T17:46:24.561Z"
   },
   {
    "duration": 382,
    "start_time": "2022-07-01T17:46:46.720Z"
   },
   {
    "duration": 526,
    "start_time": "2022-07-01T17:47:10.205Z"
   },
   {
    "duration": 375,
    "start_time": "2022-07-01T17:47:41.947Z"
   },
   {
    "duration": 318,
    "start_time": "2022-07-01T17:50:55.761Z"
   },
   {
    "duration": 352,
    "start_time": "2022-07-01T17:52:38.282Z"
   },
   {
    "duration": 8,
    "start_time": "2022-07-01T19:13:43.508Z"
   },
   {
    "duration": 7,
    "start_time": "2022-07-01T19:15:05.920Z"
   },
   {
    "duration": 1071,
    "start_time": "2022-07-01T19:20:55.502Z"
   },
   {
    "duration": 437,
    "start_time": "2022-07-01T19:20:56.575Z"
   },
   {
    "duration": 51,
    "start_time": "2022-07-01T19:20:57.014Z"
   },
   {
    "duration": 32,
    "start_time": "2022-07-01T19:20:57.067Z"
   },
   {
    "duration": 24,
    "start_time": "2022-07-01T19:20:57.101Z"
   },
   {
    "duration": 45,
    "start_time": "2022-07-01T19:20:57.127Z"
   },
   {
    "duration": 18,
    "start_time": "2022-07-01T19:20:57.174Z"
   },
   {
    "duration": 93,
    "start_time": "2022-07-01T19:20:57.194Z"
   },
   {
    "duration": 49,
    "start_time": "2022-07-01T19:20:57.289Z"
   },
   {
    "duration": 5,
    "start_time": "2022-07-01T19:20:57.342Z"
   },
   {
    "duration": 26,
    "start_time": "2022-07-01T19:20:57.349Z"
   },
   {
    "duration": 97,
    "start_time": "2022-07-01T19:20:57.377Z"
   },
   {
    "duration": 3,
    "start_time": "2022-07-01T19:20:57.476Z"
   },
   {
    "duration": 109,
    "start_time": "2022-07-01T19:20:57.481Z"
   },
   {
    "duration": 40,
    "start_time": "2022-07-01T19:20:57.592Z"
   },
   {
    "duration": 62,
    "start_time": "2022-07-01T19:20:57.633Z"
   },
   {
    "duration": 52,
    "start_time": "2022-07-01T19:20:57.697Z"
   },
   {
    "duration": 0,
    "start_time": "2022-07-01T19:20:57.751Z"
   },
   {
    "duration": 0,
    "start_time": "2022-07-01T19:20:57.752Z"
   },
   {
    "duration": 0,
    "start_time": "2022-07-01T19:20:57.753Z"
   },
   {
    "duration": 0,
    "start_time": "2022-07-01T19:20:57.754Z"
   },
   {
    "duration": 0,
    "start_time": "2022-07-01T19:20:57.754Z"
   },
   {
    "duration": 0,
    "start_time": "2022-07-01T19:20:57.755Z"
   },
   {
    "duration": 0,
    "start_time": "2022-07-01T19:20:57.757Z"
   },
   {
    "duration": 0,
    "start_time": "2022-07-01T19:20:57.758Z"
   },
   {
    "duration": 0,
    "start_time": "2022-07-01T19:20:57.759Z"
   },
   {
    "duration": 0,
    "start_time": "2022-07-01T19:20:57.760Z"
   },
   {
    "duration": 0,
    "start_time": "2022-07-01T19:20:57.761Z"
   },
   {
    "duration": 0,
    "start_time": "2022-07-01T19:20:57.762Z"
   },
   {
    "duration": 36,
    "start_time": "2022-07-01T19:22:10.077Z"
   },
   {
    "duration": 1009,
    "start_time": "2022-07-01T19:22:17.151Z"
   },
   {
    "duration": 418,
    "start_time": "2022-07-01T19:22:18.162Z"
   },
   {
    "duration": 35,
    "start_time": "2022-07-01T19:22:18.581Z"
   },
   {
    "duration": 26,
    "start_time": "2022-07-01T19:22:18.618Z"
   },
   {
    "duration": 34,
    "start_time": "2022-07-01T19:22:18.645Z"
   },
   {
    "duration": 15,
    "start_time": "2022-07-01T19:22:18.681Z"
   },
   {
    "duration": 17,
    "start_time": "2022-07-01T19:22:18.698Z"
   },
   {
    "duration": 104,
    "start_time": "2022-07-01T19:22:18.716Z"
   },
   {
    "duration": 59,
    "start_time": "2022-07-01T19:22:18.822Z"
   },
   {
    "duration": 6,
    "start_time": "2022-07-01T19:22:18.885Z"
   },
   {
    "duration": 37,
    "start_time": "2022-07-01T19:22:18.893Z"
   },
   {
    "duration": 115,
    "start_time": "2022-07-01T19:22:18.933Z"
   },
   {
    "duration": 3,
    "start_time": "2022-07-01T19:22:19.050Z"
   },
   {
    "duration": 142,
    "start_time": "2022-07-01T19:22:19.055Z"
   },
   {
    "duration": 41,
    "start_time": "2022-07-01T19:22:19.199Z"
   },
   {
    "duration": 58,
    "start_time": "2022-07-01T19:22:19.242Z"
   },
   {
    "duration": 39,
    "start_time": "2022-07-01T19:22:19.302Z"
   },
   {
    "duration": 34,
    "start_time": "2022-07-01T19:22:19.343Z"
   },
   {
    "duration": 37,
    "start_time": "2022-07-01T19:22:19.379Z"
   },
   {
    "duration": 9,
    "start_time": "2022-07-01T19:22:19.418Z"
   },
   {
    "duration": 6,
    "start_time": "2022-07-01T19:22:19.429Z"
   },
   {
    "duration": 152,
    "start_time": "2022-07-01T19:22:19.437Z"
   },
   {
    "duration": 0,
    "start_time": "2022-07-01T19:22:19.592Z"
   },
   {
    "duration": 0,
    "start_time": "2022-07-01T19:22:19.594Z"
   },
   {
    "duration": 0,
    "start_time": "2022-07-01T19:22:19.595Z"
   },
   {
    "duration": 0,
    "start_time": "2022-07-01T19:22:19.596Z"
   },
   {
    "duration": 0,
    "start_time": "2022-07-01T19:22:19.598Z"
   },
   {
    "duration": 0,
    "start_time": "2022-07-01T19:22:19.599Z"
   },
   {
    "duration": 0,
    "start_time": "2022-07-01T19:22:19.600Z"
   },
   {
    "duration": 6,
    "start_time": "2022-07-01T19:24:07.191Z"
   },
   {
    "duration": 9027,
    "start_time": "2022-07-01T19:24:09.864Z"
   },
   {
    "duration": 6,
    "start_time": "2022-07-01T19:24:18.893Z"
   },
   {
    "duration": 43,
    "start_time": "2022-07-01T19:24:18.901Z"
   },
   {
    "duration": 1010,
    "start_time": "2022-07-01T20:06:30.679Z"
   },
   {
    "duration": 412,
    "start_time": "2022-07-01T20:06:31.691Z"
   },
   {
    "duration": 32,
    "start_time": "2022-07-01T20:06:32.105Z"
   },
   {
    "duration": 26,
    "start_time": "2022-07-01T20:06:32.139Z"
   },
   {
    "duration": 29,
    "start_time": "2022-07-01T20:06:32.166Z"
   },
   {
    "duration": 16,
    "start_time": "2022-07-01T20:06:32.197Z"
   },
   {
    "duration": 18,
    "start_time": "2022-07-01T20:06:32.214Z"
   },
   {
    "duration": 104,
    "start_time": "2022-07-01T20:06:32.233Z"
   },
   {
    "duration": 58,
    "start_time": "2022-07-01T20:06:32.338Z"
   },
   {
    "duration": 6,
    "start_time": "2022-07-01T20:06:32.398Z"
   },
   {
    "duration": 12,
    "start_time": "2022-07-01T20:06:32.405Z"
   },
   {
    "duration": 101,
    "start_time": "2022-07-01T20:06:32.418Z"
   },
   {
    "duration": 2,
    "start_time": "2022-07-01T20:06:32.521Z"
   },
   {
    "duration": 112,
    "start_time": "2022-07-01T20:06:32.526Z"
   },
   {
    "duration": 49,
    "start_time": "2022-07-01T20:06:32.639Z"
   },
   {
    "duration": 41,
    "start_time": "2022-07-01T20:06:32.689Z"
   },
   {
    "duration": 52,
    "start_time": "2022-07-01T20:06:32.731Z"
   },
   {
    "duration": 11,
    "start_time": "2022-07-01T20:06:32.785Z"
   },
   {
    "duration": 41,
    "start_time": "2022-07-01T20:06:32.797Z"
   },
   {
    "duration": 31,
    "start_time": "2022-07-01T20:06:32.840Z"
   },
   {
    "duration": 6,
    "start_time": "2022-07-01T20:06:32.881Z"
   },
   {
    "duration": 8509,
    "start_time": "2022-07-01T20:06:32.888Z"
   },
   {
    "duration": 6,
    "start_time": "2022-07-01T20:06:41.399Z"
   },
   {
    "duration": 17,
    "start_time": "2022-07-01T20:06:41.406Z"
   },
   {
    "duration": 59,
    "start_time": "2022-07-01T20:06:41.425Z"
   },
   {
    "duration": 366,
    "start_time": "2022-07-01T20:06:41.486Z"
   },
   {
    "duration": 346,
    "start_time": "2022-07-01T20:06:41.853Z"
   },
   {
    "duration": 327,
    "start_time": "2022-07-01T20:06:42.200Z"
   },
   {
    "duration": 8,
    "start_time": "2022-07-01T20:06:42.529Z"
   },
   {
    "duration": 30,
    "start_time": "2022-07-01T20:09:07.407Z"
   },
   {
    "duration": 8118,
    "start_time": "2022-07-01T20:10:52.704Z"
   },
   {
    "duration": 8224,
    "start_time": "2022-07-01T20:11:02.830Z"
   },
   {
    "duration": 4,
    "start_time": "2022-07-01T20:11:46.187Z"
   },
   {
    "duration": 13,
    "start_time": "2022-07-01T20:11:49.641Z"
   },
   {
    "duration": 985,
    "start_time": "2022-07-01T20:15:02.976Z"
   },
   {
    "duration": 435,
    "start_time": "2022-07-01T20:15:03.963Z"
   },
   {
    "duration": 36,
    "start_time": "2022-07-01T20:15:04.399Z"
   },
   {
    "duration": 27,
    "start_time": "2022-07-01T20:15:04.436Z"
   },
   {
    "duration": 23,
    "start_time": "2022-07-01T20:15:04.466Z"
   },
   {
    "duration": 17,
    "start_time": "2022-07-01T20:15:04.491Z"
   },
   {
    "duration": 20,
    "start_time": "2022-07-01T20:15:04.510Z"
   },
   {
    "duration": 118,
    "start_time": "2022-07-01T20:15:04.531Z"
   },
   {
    "duration": 64,
    "start_time": "2022-07-01T20:15:04.651Z"
   },
   {
    "duration": 6,
    "start_time": "2022-07-01T20:15:04.717Z"
   },
   {
    "duration": 14,
    "start_time": "2022-07-01T20:15:04.725Z"
   },
   {
    "duration": 116,
    "start_time": "2022-07-01T20:15:04.741Z"
   },
   {
    "duration": 9,
    "start_time": "2022-07-01T20:15:04.859Z"
   },
   {
    "duration": 133,
    "start_time": "2022-07-01T20:15:04.871Z"
   },
   {
    "duration": 46,
    "start_time": "2022-07-01T20:15:05.006Z"
   },
   {
    "duration": 57,
    "start_time": "2022-07-01T20:15:05.053Z"
   },
   {
    "duration": 56,
    "start_time": "2022-07-01T20:15:05.112Z"
   },
   {
    "duration": 14,
    "start_time": "2022-07-01T20:15:05.170Z"
   },
   {
    "duration": 54,
    "start_time": "2022-07-01T20:15:05.185Z"
   },
   {
    "duration": 32,
    "start_time": "2022-07-01T20:15:05.240Z"
   },
   {
    "duration": 8,
    "start_time": "2022-07-01T20:15:05.273Z"
   },
   {
    "duration": 9046,
    "start_time": "2022-07-01T20:15:05.283Z"
   },
   {
    "duration": 5,
    "start_time": "2022-07-01T20:15:14.331Z"
   },
   {
    "duration": 16,
    "start_time": "2022-07-01T20:15:14.337Z"
   },
   {
    "duration": 50,
    "start_time": "2022-07-01T20:15:14.354Z"
   },
   {
    "duration": 354,
    "start_time": "2022-07-01T20:15:14.406Z"
   },
   {
    "duration": 327,
    "start_time": "2022-07-01T20:15:14.761Z"
   },
   {
    "duration": 329,
    "start_time": "2022-07-01T20:15:15.090Z"
   },
   {
    "duration": 8,
    "start_time": "2022-07-01T20:15:15.420Z"
   },
   {
    "duration": 6,
    "start_time": "2022-07-01T20:19:19.527Z"
   },
   {
    "duration": 8076,
    "start_time": "2022-07-01T20:19:22.684Z"
   },
   {
    "duration": 7,
    "start_time": "2022-07-01T20:19:30.762Z"
   },
   {
    "duration": 35,
    "start_time": "2022-07-01T20:19:30.771Z"
   },
   {
    "duration": 43,
    "start_time": "2022-07-01T20:19:47.445Z"
   },
   {
    "duration": 311,
    "start_time": "2022-07-01T20:19:55.837Z"
   },
   {
    "duration": 324,
    "start_time": "2022-07-01T20:19:58.011Z"
   },
   {
    "duration": 310,
    "start_time": "2022-07-01T20:20:00.796Z"
   },
   {
    "duration": 8,
    "start_time": "2022-07-01T20:20:04.417Z"
   },
   {
    "duration": 96,
    "start_time": "2022-07-01T20:20:58.773Z"
   },
   {
    "duration": 11,
    "start_time": "2022-07-01T20:21:47.074Z"
   },
   {
    "duration": 37,
    "start_time": "2022-07-01T20:30:14.275Z"
   },
   {
    "duration": 36,
    "start_time": "2022-07-01T20:30:21.298Z"
   },
   {
    "duration": 41,
    "start_time": "2022-07-01T20:30:30.239Z"
   },
   {
    "duration": 32,
    "start_time": "2022-07-01T20:31:50.768Z"
   },
   {
    "duration": 1044,
    "start_time": "2022-07-01T21:15:03.310Z"
   },
   {
    "duration": 469,
    "start_time": "2022-07-01T21:15:04.356Z"
   },
   {
    "duration": 35,
    "start_time": "2022-07-01T21:15:04.826Z"
   },
   {
    "duration": 27,
    "start_time": "2022-07-01T21:15:04.863Z"
   },
   {
    "duration": 22,
    "start_time": "2022-07-01T21:15:04.892Z"
   },
   {
    "duration": 17,
    "start_time": "2022-07-01T21:15:04.916Z"
   },
   {
    "duration": 46,
    "start_time": "2022-07-01T21:15:04.935Z"
   },
   {
    "duration": 95,
    "start_time": "2022-07-01T21:15:04.983Z"
   },
   {
    "duration": 52,
    "start_time": "2022-07-01T21:15:05.079Z"
   },
   {
    "duration": 6,
    "start_time": "2022-07-01T21:15:05.134Z"
   },
   {
    "duration": 26,
    "start_time": "2022-07-01T21:15:05.142Z"
   },
   {
    "duration": 110,
    "start_time": "2022-07-01T21:15:05.169Z"
   },
   {
    "duration": 3,
    "start_time": "2022-07-01T21:15:05.281Z"
   },
   {
    "duration": 126,
    "start_time": "2022-07-01T21:15:05.286Z"
   },
   {
    "duration": 55,
    "start_time": "2022-07-01T21:15:05.415Z"
   },
   {
    "duration": 46,
    "start_time": "2022-07-01T21:15:05.472Z"
   },
   {
    "duration": 60,
    "start_time": "2022-07-01T21:15:05.520Z"
   },
   {
    "duration": 15,
    "start_time": "2022-07-01T21:15:05.582Z"
   },
   {
    "duration": 74,
    "start_time": "2022-07-01T21:15:05.599Z"
   },
   {
    "duration": 8,
    "start_time": "2022-07-01T21:15:05.675Z"
   },
   {
    "duration": 32,
    "start_time": "2022-07-01T21:15:05.685Z"
   },
   {
    "duration": 8767,
    "start_time": "2022-07-01T21:15:05.719Z"
   },
   {
    "duration": 6,
    "start_time": "2022-07-01T21:15:14.488Z"
   },
   {
    "duration": 16,
    "start_time": "2022-07-01T21:15:14.495Z"
   },
   {
    "duration": 38,
    "start_time": "2022-07-01T21:15:14.513Z"
   },
   {
    "duration": 366,
    "start_time": "2022-07-01T21:15:14.566Z"
   },
   {
    "duration": 324,
    "start_time": "2022-07-01T21:15:14.933Z"
   },
   {
    "duration": 315,
    "start_time": "2022-07-01T21:15:15.260Z"
   },
   {
    "duration": 40,
    "start_time": "2022-07-01T21:15:15.576Z"
   },
   {
    "duration": 6,
    "start_time": "2022-07-01T21:15:15.618Z"
   },
   {
    "duration": 9,
    "start_time": "2022-07-01T21:15:15.626Z"
   },
   {
    "duration": 3,
    "start_time": "2022-07-01T21:16:07.524Z"
   },
   {
    "duration": 62,
    "start_time": "2022-07-01T21:19:57.868Z"
   },
   {
    "duration": 6,
    "start_time": "2022-07-01T21:23:27.374Z"
   },
   {
    "duration": 3,
    "start_time": "2022-07-01T21:23:36.458Z"
   },
   {
    "duration": 5,
    "start_time": "2022-07-01T21:26:41.065Z"
   },
   {
    "duration": 879,
    "start_time": "2022-07-01T21:36:06.965Z"
   },
   {
    "duration": 726,
    "start_time": "2022-07-01T21:36:41.487Z"
   },
   {
    "duration": 880,
    "start_time": "2022-07-01T21:37:23.094Z"
   },
   {
    "duration": 6,
    "start_time": "2022-07-01T21:37:35.803Z"
   },
   {
    "duration": 1007,
    "start_time": "2022-07-01T21:38:20.988Z"
   },
   {
    "duration": 362,
    "start_time": "2022-07-01T21:38:21.997Z"
   },
   {
    "duration": 56,
    "start_time": "2022-07-01T21:38:22.361Z"
   },
   {
    "duration": 26,
    "start_time": "2022-07-01T21:38:22.419Z"
   },
   {
    "duration": 37,
    "start_time": "2022-07-01T21:38:22.447Z"
   },
   {
    "duration": 18,
    "start_time": "2022-07-01T21:38:22.486Z"
   },
   {
    "duration": 19,
    "start_time": "2022-07-01T21:38:22.505Z"
   },
   {
    "duration": 102,
    "start_time": "2022-07-01T21:38:22.526Z"
   },
   {
    "duration": 65,
    "start_time": "2022-07-01T21:38:22.630Z"
   },
   {
    "duration": 6,
    "start_time": "2022-07-01T21:38:22.699Z"
   },
   {
    "duration": 16,
    "start_time": "2022-07-01T21:38:22.706Z"
   },
   {
    "duration": 95,
    "start_time": "2022-07-01T21:38:22.724Z"
   },
   {
    "duration": 4,
    "start_time": "2022-07-01T21:38:22.820Z"
   },
   {
    "duration": 121,
    "start_time": "2022-07-01T21:38:22.825Z"
   },
   {
    "duration": 47,
    "start_time": "2022-07-01T21:38:22.947Z"
   },
   {
    "duration": 42,
    "start_time": "2022-07-01T21:38:22.996Z"
   },
   {
    "duration": 52,
    "start_time": "2022-07-01T21:38:23.039Z"
   },
   {
    "duration": 5,
    "start_time": "2022-07-01T21:38:23.092Z"
   },
   {
    "duration": 14,
    "start_time": "2022-07-01T21:38:23.098Z"
   },
   {
    "duration": 63,
    "start_time": "2022-07-01T21:38:23.113Z"
   },
   {
    "duration": 7,
    "start_time": "2022-07-01T21:38:23.178Z"
   },
   {
    "duration": 12,
    "start_time": "2022-07-01T21:38:23.187Z"
   },
   {
    "duration": 7796,
    "start_time": "2022-07-01T21:38:23.200Z"
   },
   {
    "duration": 6,
    "start_time": "2022-07-01T21:38:30.998Z"
   },
   {
    "duration": 16,
    "start_time": "2022-07-01T21:38:31.006Z"
   },
   {
    "duration": 54,
    "start_time": "2022-07-01T21:38:31.024Z"
   },
   {
    "duration": 324,
    "start_time": "2022-07-01T21:38:31.079Z"
   },
   {
    "duration": 312,
    "start_time": "2022-07-01T21:38:31.407Z"
   },
   {
    "duration": 316,
    "start_time": "2022-07-01T21:38:31.721Z"
   },
   {
    "duration": 36,
    "start_time": "2022-07-01T21:38:32.039Z"
   },
   {
    "duration": 7,
    "start_time": "2022-07-01T21:38:32.076Z"
   },
   {
    "duration": 100,
    "start_time": "2022-07-01T21:38:32.084Z"
   },
   {
    "duration": 69,
    "start_time": "2022-07-01T21:38:32.185Z"
   },
   {
    "duration": 28,
    "start_time": "2022-07-01T21:39:32.514Z"
   },
   {
    "duration": 29,
    "start_time": "2022-07-01T21:40:04.781Z"
   },
   {
    "duration": 328,
    "start_time": "2022-07-01T21:49:27.664Z"
   },
   {
    "duration": 63,
    "start_time": "2022-07-01T21:58:15.188Z"
   },
   {
    "duration": 1061,
    "start_time": "2022-07-01T22:04:59.639Z"
   },
   {
    "duration": 369,
    "start_time": "2022-07-01T22:05:00.702Z"
   },
   {
    "duration": 57,
    "start_time": "2022-07-01T22:05:01.072Z"
   },
   {
    "duration": 38,
    "start_time": "2022-07-01T22:05:01.131Z"
   },
   {
    "duration": 21,
    "start_time": "2022-07-01T22:05:01.171Z"
   },
   {
    "duration": 15,
    "start_time": "2022-07-01T22:05:01.193Z"
   },
   {
    "duration": 17,
    "start_time": "2022-07-01T22:05:01.210Z"
   },
   {
    "duration": 101,
    "start_time": "2022-07-01T22:05:01.228Z"
   },
   {
    "duration": 62,
    "start_time": "2022-07-01T22:05:01.331Z"
   },
   {
    "duration": 7,
    "start_time": "2022-07-01T22:05:01.396Z"
   },
   {
    "duration": 26,
    "start_time": "2022-07-01T22:05:01.404Z"
   },
   {
    "duration": 93,
    "start_time": "2022-07-01T22:05:01.432Z"
   },
   {
    "duration": 3,
    "start_time": "2022-07-01T22:05:01.527Z"
   },
   {
    "duration": 127,
    "start_time": "2022-07-01T22:05:01.532Z"
   },
   {
    "duration": 46,
    "start_time": "2022-07-01T22:05:01.661Z"
   },
   {
    "duration": 66,
    "start_time": "2022-07-01T22:05:01.710Z"
   },
   {
    "duration": 41,
    "start_time": "2022-07-01T22:05:01.778Z"
   },
   {
    "duration": 5,
    "start_time": "2022-07-01T22:05:01.821Z"
   },
   {
    "duration": 38,
    "start_time": "2022-07-01T22:05:01.827Z"
   },
   {
    "duration": 53,
    "start_time": "2022-07-01T22:05:01.867Z"
   },
   {
    "duration": 7,
    "start_time": "2022-07-01T22:05:01.922Z"
   },
   {
    "duration": 13,
    "start_time": "2022-07-01T22:05:01.930Z"
   },
   {
    "duration": 8195,
    "start_time": "2022-07-01T22:05:01.945Z"
   },
   {
    "duration": 6,
    "start_time": "2022-07-01T22:05:10.142Z"
   },
   {
    "duration": 29,
    "start_time": "2022-07-01T22:05:10.149Z"
   },
   {
    "duration": 41,
    "start_time": "2022-07-01T22:05:10.179Z"
   },
   {
    "duration": 29,
    "start_time": "2022-07-01T22:05:10.222Z"
   },
   {
    "duration": 28,
    "start_time": "2022-07-01T22:05:10.269Z"
   },
   {
    "duration": 337,
    "start_time": "2022-07-01T22:05:10.299Z"
   },
   {
    "duration": 321,
    "start_time": "2022-07-01T22:05:10.638Z"
   },
   {
    "duration": 307,
    "start_time": "2022-07-01T22:05:10.962Z"
   },
   {
    "duration": 30,
    "start_time": "2022-07-01T22:05:11.271Z"
   },
   {
    "duration": 440,
    "start_time": "2022-07-01T22:05:11.303Z"
   },
   {
    "duration": 9,
    "start_time": "2022-07-01T22:05:11.745Z"
   },
   {
    "duration": 25,
    "start_time": "2022-07-01T22:05:11.755Z"
   },
   {
    "duration": 1296,
    "start_time": "2022-07-02T08:34:53.177Z"
   },
   {
    "duration": 1720,
    "start_time": "2022-07-02T08:34:54.475Z"
   },
   {
    "duration": 78,
    "start_time": "2022-07-02T08:34:56.197Z"
   },
   {
    "duration": 31,
    "start_time": "2022-07-02T08:34:56.276Z"
   },
   {
    "duration": 54,
    "start_time": "2022-07-02T08:34:56.310Z"
   },
   {
    "duration": 30,
    "start_time": "2022-07-02T08:34:56.369Z"
   },
   {
    "duration": 20,
    "start_time": "2022-07-02T08:34:56.401Z"
   },
   {
    "duration": 86,
    "start_time": "2022-07-02T08:34:56.422Z"
   },
   {
    "duration": 54,
    "start_time": "2022-07-02T08:34:56.510Z"
   },
   {
    "duration": 7,
    "start_time": "2022-07-02T08:34:56.566Z"
   },
   {
    "duration": 15,
    "start_time": "2022-07-02T08:34:56.575Z"
   },
   {
    "duration": 108,
    "start_time": "2022-07-02T08:34:56.591Z"
   },
   {
    "duration": 2,
    "start_time": "2022-07-02T08:34:56.701Z"
   },
   {
    "duration": 120,
    "start_time": "2022-07-02T08:34:56.705Z"
   },
   {
    "duration": 49,
    "start_time": "2022-07-02T08:34:56.829Z"
   },
   {
    "duration": 42,
    "start_time": "2022-07-02T08:34:56.880Z"
   },
   {
    "duration": 54,
    "start_time": "2022-07-02T08:34:56.928Z"
   },
   {
    "duration": 4,
    "start_time": "2022-07-02T08:34:56.984Z"
   },
   {
    "duration": 14,
    "start_time": "2022-07-02T08:34:56.990Z"
   },
   {
    "duration": 87,
    "start_time": "2022-07-04T12:59:34.195Z"
   },
   {
    "duration": 42,
    "start_time": "2022-07-04T13:00:14.423Z"
   },
   {
    "duration": 1298,
    "start_time": "2022-07-04T13:00:27.290Z"
   },
   {
    "duration": 696,
    "start_time": "2022-07-04T13:00:28.590Z"
   },
   {
    "duration": 67,
    "start_time": "2022-07-04T13:00:29.288Z"
   },
   {
    "duration": 40,
    "start_time": "2022-07-04T13:00:29.357Z"
   },
   {
    "duration": 29,
    "start_time": "2022-07-04T13:00:29.400Z"
   },
   {
    "duration": 29,
    "start_time": "2022-07-04T13:00:29.430Z"
   },
   {
    "duration": 45,
    "start_time": "2022-07-04T13:00:29.460Z"
   },
   {
    "duration": 120,
    "start_time": "2022-07-04T13:00:29.507Z"
   },
   {
    "duration": 97,
    "start_time": "2022-07-04T13:00:29.629Z"
   },
   {
    "duration": 7,
    "start_time": "2022-07-04T13:00:29.728Z"
   },
   {
    "duration": 81,
    "start_time": "2022-07-04T13:00:29.737Z"
   },
   {
    "duration": 111,
    "start_time": "2022-07-04T13:00:29.820Z"
   },
   {
    "duration": 4,
    "start_time": "2022-07-04T13:00:29.934Z"
   },
   {
    "duration": 164,
    "start_time": "2022-07-04T13:00:29.941Z"
   },
   {
    "duration": 43,
    "start_time": "2022-07-04T13:00:30.107Z"
   },
   {
    "duration": 60,
    "start_time": "2022-07-04T13:00:30.152Z"
   },
   {
    "duration": 44,
    "start_time": "2022-07-04T13:00:30.214Z"
   },
   {
    "duration": 4,
    "start_time": "2022-07-04T13:00:30.259Z"
   },
   {
    "duration": 38,
    "start_time": "2022-07-04T13:00:30.265Z"
   },
   {
    "duration": 68,
    "start_time": "2022-07-04T13:00:30.306Z"
   },
   {
    "duration": 20,
    "start_time": "2022-07-04T13:00:30.376Z"
   },
   {
    "duration": 6,
    "start_time": "2022-07-04T13:00:30.398Z"
   },
   {
    "duration": 8454,
    "start_time": "2022-07-04T13:00:30.406Z"
   },
   {
    "duration": 5,
    "start_time": "2022-07-04T13:00:38.862Z"
   },
   {
    "duration": 25,
    "start_time": "2022-07-04T13:00:38.869Z"
   },
   {
    "duration": 46,
    "start_time": "2022-07-04T13:00:38.896Z"
   },
   {
    "duration": 28,
    "start_time": "2022-07-04T13:00:38.944Z"
   },
   {
    "duration": 40,
    "start_time": "2022-07-04T13:00:38.973Z"
   },
   {
    "duration": 356,
    "start_time": "2022-07-04T13:00:39.014Z"
   },
   {
    "duration": 369,
    "start_time": "2022-07-04T13:00:39.371Z"
   },
   {
    "duration": 368,
    "start_time": "2022-07-04T13:00:39.741Z"
   },
   {
    "duration": 35,
    "start_time": "2022-07-04T13:00:40.111Z"
   },
   {
    "duration": 509,
    "start_time": "2022-07-04T13:00:40.148Z"
   },
   {
    "duration": 10,
    "start_time": "2022-07-04T13:00:40.659Z"
   },
   {
    "duration": 46,
    "start_time": "2022-07-04T13:00:40.671Z"
   },
   {
    "duration": 5,
    "start_time": "2022-07-04T13:04:27.636Z"
   },
   {
    "duration": 16,
    "start_time": "2022-07-04T13:04:33.323Z"
   },
   {
    "duration": 4,
    "start_time": "2022-07-04T13:07:43.425Z"
   },
   {
    "duration": 14,
    "start_time": "2022-07-04T13:07:50.698Z"
   },
   {
    "duration": 998,
    "start_time": "2022-07-04T13:08:08.095Z"
   },
   {
    "duration": 363,
    "start_time": "2022-07-04T13:08:09.096Z"
   },
   {
    "duration": 80,
    "start_time": "2022-07-04T13:08:09.460Z"
   },
   {
    "duration": 34,
    "start_time": "2022-07-04T13:08:09.547Z"
   },
   {
    "duration": 37,
    "start_time": "2022-07-04T13:08:09.583Z"
   },
   {
    "duration": 22,
    "start_time": "2022-07-04T13:08:09.645Z"
   },
   {
    "duration": 29,
    "start_time": "2022-07-04T13:08:09.669Z"
   },
   {
    "duration": 102,
    "start_time": "2022-07-04T13:08:09.700Z"
   },
   {
    "duration": 51,
    "start_time": "2022-07-04T13:08:09.804Z"
   },
   {
    "duration": 6,
    "start_time": "2022-07-04T13:08:09.857Z"
   },
   {
    "duration": 17,
    "start_time": "2022-07-04T13:08:09.865Z"
   },
   {
    "duration": 105,
    "start_time": "2022-07-04T13:08:09.884Z"
   },
   {
    "duration": 4,
    "start_time": "2022-07-04T13:08:09.990Z"
   },
   {
    "duration": 115,
    "start_time": "2022-07-04T13:08:09.995Z"
   },
   {
    "duration": 58,
    "start_time": "2022-07-04T13:08:10.116Z"
   },
   {
    "duration": 47,
    "start_time": "2022-07-04T13:08:10.175Z"
   },
   {
    "duration": 60,
    "start_time": "2022-07-04T13:08:10.224Z"
   },
   {
    "duration": 4,
    "start_time": "2022-07-04T13:08:10.286Z"
   },
   {
    "duration": 15,
    "start_time": "2022-07-04T13:08:10.293Z"
   },
   {
    "duration": 69,
    "start_time": "2022-07-04T13:08:10.309Z"
   },
   {
    "duration": 7,
    "start_time": "2022-07-04T13:08:10.380Z"
   },
   {
    "duration": 5,
    "start_time": "2022-07-04T13:08:10.389Z"
   },
   {
    "duration": 9830,
    "start_time": "2022-07-04T13:08:10.395Z"
   },
   {
    "duration": 6,
    "start_time": "2022-07-04T13:08:20.227Z"
   },
   {
    "duration": 14,
    "start_time": "2022-07-04T13:08:20.234Z"
   },
   {
    "duration": 22,
    "start_time": "2022-07-04T13:08:20.250Z"
   },
   {
    "duration": 117,
    "start_time": "2022-07-04T13:08:20.274Z"
   },
   {
    "duration": 0,
    "start_time": "2022-07-04T13:08:20.393Z"
   },
   {
    "duration": 0,
    "start_time": "2022-07-04T13:08:20.395Z"
   },
   {
    "duration": 0,
    "start_time": "2022-07-04T13:08:20.396Z"
   },
   {
    "duration": 0,
    "start_time": "2022-07-04T13:08:20.397Z"
   },
   {
    "duration": 0,
    "start_time": "2022-07-04T13:08:20.399Z"
   },
   {
    "duration": 0,
    "start_time": "2022-07-04T13:08:20.400Z"
   },
   {
    "duration": 0,
    "start_time": "2022-07-04T13:08:20.401Z"
   },
   {
    "duration": 0,
    "start_time": "2022-07-04T13:08:20.402Z"
   },
   {
    "duration": 0,
    "start_time": "2022-07-04T13:08:20.403Z"
   },
   {
    "duration": 49,
    "start_time": "2022-07-04T13:20:32.552Z"
   },
   {
    "duration": 363,
    "start_time": "2022-07-04T13:22:14.735Z"
   },
   {
    "duration": 335,
    "start_time": "2022-07-04T13:22:20.853Z"
   },
   {
    "duration": 363,
    "start_time": "2022-07-04T13:22:29.601Z"
   },
   {
    "duration": 34,
    "start_time": "2022-07-04T13:23:34.077Z"
   },
   {
    "duration": 467,
    "start_time": "2022-07-04T13:24:10.063Z"
   },
   {
    "duration": 334,
    "start_time": "2022-07-04T13:24:20.956Z"
   },
   {
    "duration": 27,
    "start_time": "2022-07-05T11:51:55.232Z"
   },
   {
    "duration": 22,
    "start_time": "2022-07-05T11:56:05.843Z"
   },
   {
    "duration": 1106,
    "start_time": "2022-07-05T11:56:38.281Z"
   },
   {
    "duration": 413,
    "start_time": "2022-07-05T11:56:39.389Z"
   },
   {
    "duration": 66,
    "start_time": "2022-07-05T11:56:39.803Z"
   },
   {
    "duration": 28,
    "start_time": "2022-07-05T11:56:39.870Z"
   },
   {
    "duration": 23,
    "start_time": "2022-07-05T11:56:39.900Z"
   },
   {
    "duration": 35,
    "start_time": "2022-07-05T11:56:39.925Z"
   },
   {
    "duration": 17,
    "start_time": "2022-07-05T11:56:39.962Z"
   },
   {
    "duration": 99,
    "start_time": "2022-07-05T11:56:39.981Z"
   },
   {
    "duration": 18,
    "start_time": "2022-07-05T11:56:40.081Z"
   },
   {
    "duration": 65,
    "start_time": "2022-07-05T11:56:40.101Z"
   },
   {
    "duration": 4,
    "start_time": "2022-07-05T11:56:40.168Z"
   },
   {
    "duration": 20,
    "start_time": "2022-07-05T11:56:40.173Z"
   },
   {
    "duration": 90,
    "start_time": "2022-07-05T11:56:40.195Z"
   },
   {
    "duration": 3,
    "start_time": "2022-07-05T11:56:40.286Z"
   },
   {
    "duration": 114,
    "start_time": "2022-07-05T11:56:40.290Z"
   },
   {
    "duration": 47,
    "start_time": "2022-07-05T11:56:40.406Z"
   },
   {
    "duration": 44,
    "start_time": "2022-07-05T11:56:40.455Z"
   },
   {
    "duration": 63,
    "start_time": "2022-07-05T11:56:40.500Z"
   },
   {
    "duration": 4,
    "start_time": "2022-07-05T11:56:40.564Z"
   },
   {
    "duration": 14,
    "start_time": "2022-07-05T11:56:40.569Z"
   },
   {
    "duration": 63,
    "start_time": "2022-07-05T11:56:40.584Z"
   },
   {
    "duration": 8,
    "start_time": "2022-07-05T11:56:40.648Z"
   },
   {
    "duration": 6,
    "start_time": "2022-07-05T11:56:40.658Z"
   },
   {
    "duration": 8571,
    "start_time": "2022-07-05T11:56:40.666Z"
   },
   {
    "duration": 11,
    "start_time": "2022-07-05T11:56:49.239Z"
   },
   {
    "duration": 12,
    "start_time": "2022-07-05T11:56:49.252Z"
   },
   {
    "duration": 27,
    "start_time": "2022-07-05T11:56:49.267Z"
   },
   {
    "duration": 58,
    "start_time": "2022-07-05T11:56:49.298Z"
   },
   {
    "duration": 32,
    "start_time": "2022-07-05T11:56:49.358Z"
   },
   {
    "duration": 30,
    "start_time": "2022-07-05T11:56:49.392Z"
   },
   {
    "duration": 388,
    "start_time": "2022-07-05T11:56:49.424Z"
   },
   {
    "duration": 354,
    "start_time": "2022-07-05T11:56:49.813Z"
   },
   {
    "duration": 343,
    "start_time": "2022-07-05T11:56:50.168Z"
   },
   {
    "duration": 39,
    "start_time": "2022-07-05T11:56:50.512Z"
   },
   {
    "duration": 437,
    "start_time": "2022-07-05T11:56:50.552Z"
   },
   {
    "duration": 7,
    "start_time": "2022-07-05T11:56:50.991Z"
   },
   {
    "duration": 17,
    "start_time": "2022-07-05T11:56:51.000Z"
   },
   {
    "duration": 1109,
    "start_time": "2022-07-05T12:00:34.011Z"
   },
   {
    "duration": 400,
    "start_time": "2022-07-05T12:00:35.122Z"
   },
   {
    "duration": 66,
    "start_time": "2022-07-05T12:00:35.524Z"
   },
   {
    "duration": 27,
    "start_time": "2022-07-05T12:00:35.592Z"
   },
   {
    "duration": 47,
    "start_time": "2022-07-05T12:00:35.621Z"
   },
   {
    "duration": 21,
    "start_time": "2022-07-05T12:00:35.670Z"
   },
   {
    "duration": 36,
    "start_time": "2022-07-05T12:00:35.692Z"
   },
   {
    "duration": 86,
    "start_time": "2022-07-05T12:00:35.729Z"
   },
   {
    "duration": 29,
    "start_time": "2022-07-05T12:00:35.817Z"
   },
   {
    "duration": 51,
    "start_time": "2022-07-05T12:00:35.849Z"
   },
   {
    "duration": 5,
    "start_time": "2022-07-05T12:00:35.902Z"
   },
   {
    "duration": 25,
    "start_time": "2022-07-05T12:00:35.908Z"
   },
   {
    "duration": 96,
    "start_time": "2022-07-05T12:00:35.935Z"
   },
   {
    "duration": 3,
    "start_time": "2022-07-05T12:00:36.033Z"
   },
   {
    "duration": 114,
    "start_time": "2022-07-05T12:00:36.045Z"
   },
   {
    "duration": 41,
    "start_time": "2022-07-05T12:00:36.161Z"
   },
   {
    "duration": 56,
    "start_time": "2022-07-05T12:00:36.204Z"
   },
   {
    "duration": 40,
    "start_time": "2022-07-05T12:00:36.262Z"
   },
   {
    "duration": 4,
    "start_time": "2022-07-05T12:00:36.304Z"
   },
   {
    "duration": 17,
    "start_time": "2022-07-05T12:00:36.309Z"
   },
   {
    "duration": 65,
    "start_time": "2022-07-05T12:00:36.327Z"
   },
   {
    "duration": 7,
    "start_time": "2022-07-05T12:00:36.394Z"
   },
   {
    "duration": 7,
    "start_time": "2022-07-05T12:00:36.402Z"
   },
   {
    "duration": 8499,
    "start_time": "2022-07-05T12:00:36.411Z"
   },
   {
    "duration": 14,
    "start_time": "2022-07-05T12:00:44.911Z"
   },
   {
    "duration": 7,
    "start_time": "2022-07-05T12:00:44.927Z"
   },
   {
    "duration": 24,
    "start_time": "2022-07-05T12:00:44.936Z"
   },
   {
    "duration": 43,
    "start_time": "2022-07-05T12:00:44.963Z"
   },
   {
    "duration": 53,
    "start_time": "2022-07-05T12:00:45.008Z"
   },
   {
    "duration": 30,
    "start_time": "2022-07-05T12:00:45.062Z"
   },
   {
    "duration": 363,
    "start_time": "2022-07-05T12:00:45.094Z"
   },
   {
    "duration": 342,
    "start_time": "2022-07-05T12:00:45.459Z"
   },
   {
    "duration": 335,
    "start_time": "2022-07-05T12:00:45.802Z"
   },
   {
    "duration": 35,
    "start_time": "2022-07-05T12:00:46.139Z"
   },
   {
    "duration": 439,
    "start_time": "2022-07-05T12:00:46.176Z"
   },
   {
    "duration": 9,
    "start_time": "2022-07-05T12:00:46.617Z"
   },
   {
    "duration": 22,
    "start_time": "2022-07-05T12:00:46.628Z"
   }
  ],
  "kernelspec": {
   "display_name": "Python 3 (ipykernel)",
   "language": "python",
   "name": "python3"
  },
  "language_info": {
   "codemirror_mode": {
    "name": "ipython",
    "version": 3
   },
   "file_extension": ".py",
   "mimetype": "text/x-python",
   "name": "python",
   "nbconvert_exporter": "python",
   "pygments_lexer": "ipython3",
   "version": "3.9.5"
  },
  "toc": {
   "base_numbering": 1,
   "nav_menu": {},
   "number_sections": true,
   "sideBar": true,
   "skip_h1_title": true,
   "title_cell": "Содержание",
   "title_sidebar": "Содержание",
   "toc_cell": true,
   "toc_position": {
    "height": "calc(100% - 180px)",
    "left": "10px",
    "top": "150px",
    "width": "165px"
   },
   "toc_section_display": true,
   "toc_window_display": true
  }
 },
 "nbformat": 4,
 "nbformat_minor": 2
}
